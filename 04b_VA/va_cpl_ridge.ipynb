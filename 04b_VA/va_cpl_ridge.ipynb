{
 "cells": [
  {
   "cell_type": "markdown",
   "metadata": {},
   "source": [
    "## VAFC with Precise Learner and Ridge Prior\n",
    "Author: Clara Hoffmann\n",
    "    \n",
    "This code computes the VAFC to obtain marginally calibrated posterior densities\n",
    "for the response. Increasing the number of reparameterization samples $v$ can lead\n",
    "to faster convergence but makes each iteration slower.\n",
    "\n",
    "Overview:\n",
    "1. Initialize Variables\n",
    "2. Run VAFC\n",
    "3. Plot ELBO\n",
    "\n",
    "Note that the evaluation of the gradients and lower bounds is already parallelized, but\n",
    "still increasing $v$ slows the code down. Overall, this only makes a small difference in runtime since\n",
    "we achieve faster convergence with higher $v$. But the gains from increasing $v$ do not\n",
    "grow linearly.\n",
    "\n",
    "Based on 'Gaussian variational approximation with a factor covariance structure' by Ong et. al (2017)"
   ]
  },
  {
   "cell_type": "code",
   "execution_count": 1,
   "metadata": {},
   "outputs": [
    {
     "name": "stderr",
     "output_type": "stream",
     "text": [
      "2021-07-27 16:22:31,419\tINFO services.py:1172 -- View the Ray dashboard at \u001b[1m\u001b[32mhttp://127.0.0.1:8265\u001b[39m\u001b[22m\n"
     ]
    },
    {
     "data": {
      "text/plain": [
       "{'node_ip_address': '192.168.140.16',\n",
       " 'raylet_ip_address': '192.168.140.16',\n",
       " 'redis_address': '192.168.140.16:6379',\n",
       " 'object_store_address': '/tmp/ray/session_2021-07-27_16-22-30_602754_31850/sockets/plasma_store',\n",
       " 'raylet_socket_name': '/tmp/ray/session_2021-07-27_16-22-30_602754_31850/sockets/raylet',\n",
       " 'webui_url': '127.0.0.1:8265',\n",
       " 'session_dir': '/tmp/ray/session_2021-07-27_16-22-30_602754_31850',\n",
       " 'metrics_export_port': 57778,\n",
       " 'node_id': '193048eeb5b1ef98553137c0b59c5a63d6392e830d58016a9ba2e2a6'}"
      ]
     },
     "execution_count": 1,
     "metadata": {},
     "output_type": "execute_result"
    }
   ],
   "source": [
    "# load packages\n",
    "import helpers_ridge as hlp\n",
    "import numpy as np\n",
    "import math\n",
    "from random import random, seed\n",
    "from numpy.linalg import multi_dot\n",
    "from scipy.stats import multivariate_normal\n",
    "import matplotlib.pyplot as plt \n",
    "from tqdm import tqdm\n",
    "import ray\n",
    "import time\n",
    "ray.init()"
   ]
  },
  {
   "cell_type": "markdown",
   "metadata": {},
   "source": [
    "## 1. Initialize variables"
   ]
  },
  {
   "cell_type": "code",
   "execution_count": 2,
   "metadata": {},
   "outputs": [],
   "source": [
    "extracted_coefficients_path = '../../data/commaai/extracted_coefficients/copula_cpl/'\n",
    "B_zeta_path = str(extracted_coefficients_path + 'Bzeta/B_zeta.npy')\n",
    "beta_path = str(extracted_coefficients_path + 'beta/beta.csv')\n",
    "z_path = str(extracted_coefficients_path + 'Bzeta/tr_labels.npy')\n",
    "\n",
    "beta = np.genfromtxt(beta_path, delimiter=',')\n",
    "# B_zeta is a n x q matrix\n",
    "B_zeta = np.load(B_zeta_path)\n",
    "B_zeta = B_zeta.reshape(B_zeta.shape[0], beta.shape[0])\n",
    "tBB = B_zeta.T.dot(B_zeta)\n",
    "z = np.load(z_path)\n",
    "\n",
    "# p is the number of beta coefficients in the last hidden layer\n",
    "p = B_zeta.shape[1]\n",
    "\n",
    "\n",
    "# Lambda is a diagonal matrix of dimension p\n",
    "Lambda = np.diag(np.random.rand(p,))\n",
    "\n",
    "seed(5789874)\n",
    "tau_start = 0.01\n",
    "\n",
    "# Set iteration counter to 0\n",
    "t = 0\n",
    "\n",
    "theta = 2.5\n",
    "\n",
    "n = B_zeta.shape[0]\n",
    "\n",
    "# S(x, theta) is of dimension n x n\n",
    "W = np.array([B_zeta[i,:].dot(B_zeta[i,:]) for i in range(0, n)])\n",
    "S = np.sqrt(1/(1 + W*tau_start))\n",
    "S2 = S**2\n",
    "\n",
    "# m is number of variational parameters, which is \n",
    "# 2p (for each lambda_j and each beta_j)\n",
    "# plus the variational parameter for the prior on lambda\n",
    "m = p + 1\n",
    "\n",
    "# number of factors in the factored covariance representation\n",
    "k = 3\n",
    "\n",
    "mu_t, B_t, D_t, d_t = hlp.init_mu_B_d(m, k)\n",
    "\n",
    "mean_epsilon, mean_z, var_epsilon, var_z = hlp.init_epsilon_z(m, k)\n",
    "\n",
    "## Adadelta\n",
    "decay_rate = 0.95\n",
    "constant = 1e-7\n",
    "E_g2_t_1, E_delta_x_2_1, E_g2_t_1_mu, E_delta_x_2_1_mu, E_g2_t_1_B, E_delta_x_2_1_B, E_g2_t_1_d, E_delta_x_2_1_d = hlp.init_adad(mu_t, B_t, d_t, m)\n",
    "\n",
    "lower_bounds = []\n",
    "all_varthetas = []\n",
    "d_ts = []\n",
    "mu_ts = []\n",
    "d_ts = []\n",
    "B_ts = []\n",
    "t = 0"
   ]
  },
  {
   "cell_type": "markdown",
   "metadata": {},
   "source": [
    "## 2. Run VAFC"
   ]
  },
  {
   "cell_type": "code",
   "execution_count": 3,
   "metadata": {},
   "outputs": [
    {
     "name": "stderr",
     "output_type": "stream",
     "text": [
      "100%|██████████| 14000/14000 [2:21:58<00:00,  1.64it/s] "
     ]
    },
    {
     "name": "stdout",
     "output_type": "stream",
     "text": [
      "8518.760372400284\n"
     ]
    },
    {
     "name": "stderr",
     "output_type": "stream",
     "text": [
      "\n"
     ]
    }
   ],
   "source": [
    "start = time.time()\n",
    "v = 50\n",
    "iterations = 14000\n",
    "for i in tqdm(range(iterations)):\n",
    "    \n",
    "    # 1. Generate epsilon_t and z_t\n",
    "    z_t = hlp.generate_z(mean_z,var_z, v)\n",
    "    epsilon_t = hlp.generate_epsilon(mean_epsilon, var_epsilon, v)\n",
    "    \n",
    "    # Compute inverse with Woodbury formula.\n",
    "    inv = np.diag(1/(np.diag(D_t**2)))\n",
    "    inv2 = np.linalg.inv(np.identity(k) + B_t.T.dot(inv).dot(B_t))\n",
    "    BBD_inv = inv - multi_dot([inv, B_t, inv2, B_t.T, inv])\n",
    "    \n",
    "    # 2. Get gradients from reparameterization samples\n",
    "    result = ray.get([hlp.get_gradient.remote(z_t, epsilon_t, mu_t, B_t, d_t, B_zeta, BBD_inv, i, v, k, p, z, tBB, theta, W, m) for i in range(0,v)])\n",
    "    Delta_mu_mean = np.mean(np.array([result[i][0] for i in range(0,v)]), axis = 0)\n",
    "    Delta_B_mean = np.mean(np.array([result[i][1] for i in range(0,v)]), axis = 0)\n",
    "    Delta_D_mean = np.mean(np.array([result[i][2] for i in range(0,v)]), axis = 0)\n",
    "    vartheta_t = np.mean(np.array([result[i][3] for i in range(0,v)]), axis = 0)\n",
    "    \n",
    "    # 3. Adadelta Updates\n",
    "    update_mu, E_g2_t_1_mu, E_delta_x_2_1_mu = hlp.adadelta_change(Delta_mu_mean, E_g2_t_1_mu, E_delta_x_2_1_mu, decay_rate = decay_rate, constant = constant)\n",
    "    update_B, E_g2_t_1_B, E_delta_x_2_1_B  = hlp.adadelta_change(Delta_B_mean, E_g2_t_1_B, E_delta_x_2_1_B, decay_rate = decay_rate, constant = constant)\n",
    "    update_d, E_g2_t_1_d, E_delta_x_2_1_d = hlp.adadelta_change(Delta_D_mean, E_g2_t_1_d, E_delta_x_2_1_d, decay_rate = decay_rate, constant = constant)\n",
    "    \n",
    "    # Update variables\n",
    "    mu_t = mu_t + update_mu.reshape(m,1)\n",
    "    B_t = B_t + update_B\n",
    "    # set upper triangular elements to 0\n",
    "    B_t *= np.tri(*B_t.shape)\n",
    "    d_t = (d_t + update_d)\n",
    "    D_t = np.diag(d_t.reshape(m,))\n",
    "    \n",
    "    # compute ELBO\n",
    "    result = ray.get([hlp.get_lb.remote(z_t, epsilon_t, mu_t, B_t, d_t, B_zeta, \n",
    "                                        W, p, n, tBB, theta, i, v, m, k, z) for i in range(0,v)])\n",
    "    L_lambda_mean = np.mean(np.array([result[i][0] for i in range(0,v)]))\n",
    "    beta_t = np.mean(np.array([result[i][1] for i in range(0,v)]), axis = 0)\n",
    "    \n",
    "    # evidence lower bound\n",
    "    lower_bounds.append(L_lambda_mean.item())\n",
    "    all_varthetas.append(vartheta_t)\n",
    "    mu_ts.append(mu_t)\n",
    "    d_ts.append(d_t)\n",
    "    B_ts.append(B_t)\n",
    "    \n",
    "    # increase time count\n",
    "    t = t+1\n",
    "end = time.time()\n",
    "print(end - start)\n",
    "#np.save('../../data/commaai/va/filtered_gaussian_resampled/Ridge/lower_bounds_new.npy', lower_bounds)\n",
    "#np.save('../..//data/commaai/va/filtered_gaussian_resampled/Ridge/vartheta_new.npy', np.array(all_varthetas))\n",
    "#np.save('../../data/commaai/va/filtered_gaussian_resampled/Ridge/mu_ts_new.npy', mu_ts)\n",
    "#np.save('../../data/commaai/va/filtered_gaussian_resampled/Ridge/d_ts_new.npy', d_ts)\n",
    "#np.save('../../data/commaai/va/filtered_gaussian_resampled/Ridge/B_ts_new.npy', B_ts)"
   ]
  },
  {
   "cell_type": "markdown",
   "metadata": {},
   "source": [
    "## 3. Plot Lower Bounds"
   ]
  },
  {
   "cell_type": "code",
   "execution_count": 4,
   "metadata": {},
   "outputs": [
    {
     "data": {
      "image/png": "[encoded data removed]",
      "text/plain": [
       "<Figure size 432x288 with 1 Axes>"
      ]
     },
     "metadata": {
      "needs_background": "light"
     },
     "output_type": "display_data"
    }
   ],
   "source": [
    "plt.plot(lower_bounds)\n",
    "plt.yscale('symlog')"
   ]
  },
  {
   "cell_type": "code",
   "execution_count": null,
   "metadata": {},
   "outputs": [],
   "source": [
    "plt.scatter(z, B_zeta.dot(beta), alpha = 0.2)"
   ]
  },
  {
   "cell_type": "code",
   "execution_count": null,
   "metadata": {},
   "outputs": [],
   "source": []
  }
 ],
 "metadata": {
  "kernelspec": {
   "display_name": "Python 3",
   "language": "python",
   "name": "python3"
  },
  "language_info": {
   "codemirror_mode": {
    "name": "ipython",
    "version": 3
   },
   "file_extension": ".py",
   "mimetype": "text/x-python",
   "name": "python",
   "nbconvert_exporter": "python",
   "pygments_lexer": "ipython3",
   "version": "3.8.10"
  }
 },
 "nbformat": 4,
 "nbformat_minor": 4
}
