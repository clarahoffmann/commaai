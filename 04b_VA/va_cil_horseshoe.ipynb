{
 "cells": [
  {
   "cell_type": "code",
   "execution_count": 1,
   "metadata": {},
   "outputs": [],
   "source": [
    "import numpy as np\n",
    "import helpers_cil_horseshoe as hlp\n",
    "import math\n",
    "from random import random, seed\n",
    "from numpy.linalg import multi_dot\n",
    "from scipy.stats import multivariate_normal\n",
    "import matplotlib.pyplot as plt \n",
    "from tqdm import tqdm\n",
    "import numba\n",
    "from numba import prange\n"
   ]
  },
  {
   "cell_type": "code",
   "execution_count": 2,
   "metadata": {},
   "outputs": [],
   "source": [
    "extracted_coefficients_path = '../../../../data/commaai/extracted_coefficients/20201021_unrestr_gaussian_resampled/'\n",
    "B_zeta_path = str(extracted_coefficients_path + 'Bzeta/B_zeta.npy')\n",
    "beta_path = str(extracted_coefficients_path + 'beta/beta.csv')\n",
    "z_path = str(extracted_coefficients_path + 'Bzeta/tr_labels.npy')\n",
    "\n",
    "beta = np.genfromtxt(beta_path, delimiter=',')\n",
    "# B_zeta is a n x q matrix\n",
    "B_zeta = np.load(B_zeta_path)\n",
    "B_zeta = B_zeta.reshape(B_zeta.shape[0], beta.shape[0])\n",
    "tBB = B_zeta.T.dot(B_zeta)\n",
    "BoB = B_zeta**2\n",
    "z = np.load(z_path) #[0:B_zeta.shape[0]]\n",
    "\n",
    "# p is the number of beta coefficients in the last hidden layer\n",
    "p = B_zeta.shape[1]\n",
    "\n",
    "# Lambda is a diagonal matrix of dimension p\n",
    "Lambda = np.random.rand(p,)\n",
    "\n",
    "seed(679305)\n",
    "tau_start = 0.01\n",
    "\n",
    "\n",
    "\n",
    "# Set iteration counter to 0\n",
    "t = 0\n",
    "\n",
    "\n",
    "n = B_zeta.shape[0]\n",
    "\n",
    "# S(x, theta) is of dimension n x n\n",
    "dS2, S2, S = hlp.generate_dS2_ddS2_S2_S(Lambda, BoB)\n",
    "\n",
    "# m is number of variational parameters, which is \n",
    "# 2p (for each lambda_j and each beta_j)\n",
    "# plus the variational parameter for the prior on lambda\n",
    "m = 2*p + 1\n",
    "\n",
    "# number of factors in the factored covariance representation\n",
    "k = 3\n",
    "\n",
    "mu_t = np.array([random() for i in range(0,m)]).reshape(m,1)\n",
    "# B is a lower triangle m x k matrix and is the first component of the \n",
    "# covariance matrix\n",
    "B_t = np.tril(np.random.rand(m,k))\n",
    "while not np.linalg.matrix_rank(B_t) == k:\n",
    "    B_t = np.tril(np.random.rand(m,k))\n",
    "    \n",
    "# D is a diagonal matrix of dimension m x m and is the second component of the \n",
    "# covariance matrix\n",
    "D_t = np.diag(np.random.rand(m,))\n",
    "d_t = np.diag(D_t).reshape(m,1)\n",
    "\n",
    "mean_epsilon = np.repeat(0, m)\n",
    "mean_z = np.repeat(0, k)\n",
    "\n",
    "var_epsilon = np.diag(np.repeat(1,m))\n",
    "var_z = np.diag(np.repeat(1,k))\n",
    "\n",
    "## Adadelta\n",
    "decay_rate = 0.95\n",
    "constant = 1e-7\n",
    "E_g2_t_1 = 0\n",
    "E_delta_x_2_1 = 0\n",
    "\n",
    "E_g2_t_1_mu = np.repeat(0, len(mu_t))\n",
    "E_delta_x_2_1_mu = np.repeat(0, len(mu_t))\n",
    "E_g2_t_1_B = np.zeros(B_t.shape)\n",
    "E_delta_x_2_1_B = np.zeros(B_t.shape)\n",
    "E_g2_t_1_d = np.repeat(0, len(d_t)).reshape(m,1)\n",
    "E_delta_x_2_1_d = np.repeat(0, len(d_t)).reshape(m,1)\n",
    "\n",
    "def adadelta_change(gradient, E_g2_t_1, E_delta_x_2_1, decay_rate = 0.99, constant = 10e-6):\n",
    "    # expected squared gradient for next iteration\n",
    "    E_g2_t = decay_rate*E_g2_t_1 + (1 - decay_rate)*(gradient**2)\n",
    "    # update for parameter\n",
    "    # should there be a minus or plus here ?????\n",
    "    delta_x =  (np.sqrt(E_delta_x_2_1 + constant)/np.sqrt(E_g2_t + constant))*gradient\n",
    "    # expected update for next iteration\n",
    "    E_delta_x_2 = decay_rate*E_delta_x_2_1 + (1 - decay_rate)*(delta_x**2)\n",
    "    return(delta_x, E_g2_t, E_delta_x_2 )\n",
    "\n",
    "lower_bounds = []\n",
    "all_varthetas = []\n",
    "mu_ts = []\n",
    "d_ts = []\n",
    "B_ts = []\n",
    "Lambda_ts = []\n",
    "log_tau_ts = []\n",
    "log_h_ts = []\n",
    "log_q_lambda_ts = []\n",
    "t = 0\n",
    "n = 10\n",
    "iterations = 12000"
   ]
  },
  {
   "cell_type": "code",
   "execution_count": 3,
   "metadata": {},
   "outputs": [],
   "source": [
    "mu_ts = np.load('../../../../data/commaai/va/unfiltered_gaussian_resampled/Horseshoe/mu_ts2_new_dev.npy').tolist()\n",
    "d_ts = np.load('../../../../data/commaai/va/unfiltered_gaussian_resampled/Horseshoe/d_ts2_new_dev.npy').tolist()\n",
    "B_ts = np.load('../../../../data/commaai/va/unfiltered_gaussian_resampled/Horseshoe/B_ts2_new_dev.npy').tolist()\n",
    "lower_bounds = np.load('../../../../data/commaai/va/unfiltered_gaussian_resampled/Horseshoe/lower_bounds2_new_dev.npy').tolist()\n",
    "all_varthetas = np.load('../../../../data/commaai/va/unfiltered_gaussian_resampled/Horseshoe/all_varthetas2_new_dev.npy').tolist()\n",
    "Lambda_ts = np.load('../../../../data/commaai/va/unfiltered_gaussian_resampled/Horseshoe/Lambda_ts2_new_dev.npy' ).tolist()\n"
   ]
  },
  {
   "cell_type": "code",
   "execution_count": 4,
   "metadata": {},
   "outputs": [],
   "source": [
    "mu_t = np.array(mu_ts[-1])\n",
    "B_t = np.array(B_ts[-1])\n",
    "d_t = np.array(d_ts[-1])\n"
   ]
  },
  {
   "cell_type": "code",
   "execution_count": 30,
   "metadata": {},
   "outputs": [
    {
     "name": "stderr",
     "output_type": "stream",
     "text": [
      "  2%|▏         | 215/12000 [32:44<29:54:26,  9.14s/it]\n"
     ]
    },
    {
     "ename": "KeyboardInterrupt",
     "evalue": "",
     "output_type": "error",
     "traceback": [
      "\u001b[0;31m---------------------------------------------------------------------------\u001b[0m",
      "\u001b[0;31mKeyboardInterrupt\u001b[0m                         Traceback (most recent call last)",
      "\u001b[0;32m<ipython-input-30-774c627a5a21>\u001b[0m in \u001b[0;36m<module>\u001b[0;34m\u001b[0m\n\u001b[1;32m     23\u001b[0m \u001b[0;34m\u001b[0m\u001b[0m\n\u001b[1;32m     24\u001b[0m         \u001b[0;31m# 3. Compute gradient of beta, lambda_j, and tau\u001b[0m\u001b[0;34m\u001b[0m\u001b[0;34m\u001b[0m\u001b[0;34m\u001b[0m\u001b[0m\n\u001b[0;32m---> 25\u001b[0;31m         \u001b[0mgradient_h_t\u001b[0m \u001b[0;34m=\u001b[0m \u001b[0mhlp\u001b[0m\u001b[0;34m.\u001b[0m\u001b[0mDelta_theta\u001b[0m\u001b[0;34m(\u001b[0m\u001b[0mvartheta_t\u001b[0m\u001b[0;34m,\u001b[0m \u001b[0mB_zeta\u001b[0m\u001b[0;34m,\u001b[0m \u001b[0mn\u001b[0m\u001b[0;34m,\u001b[0m \u001b[0mz\u001b[0m\u001b[0;34m,\u001b[0m \u001b[0mp\u001b[0m\u001b[0;34m,\u001b[0m \u001b[0mtBB\u001b[0m\u001b[0;34m,\u001b[0m \u001b[0mbetaBt_t\u001b[0m\u001b[0;34m,\u001b[0m \u001b[0mBoB\u001b[0m\u001b[0;34m)\u001b[0m\u001b[0;34m\u001b[0m\u001b[0;34m\u001b[0m\u001b[0m\n\u001b[0m\u001b[1;32m     26\u001b[0m \u001b[0;34m\u001b[0m\u001b[0m\n\u001b[1;32m     27\u001b[0m         \u001b[0;31m# Compute gradients for the variational parameters mu, B, D\u001b[0m\u001b[0;34m\u001b[0m\u001b[0;34m\u001b[0m\u001b[0;34m\u001b[0m\u001b[0m\n",
      "\u001b[0;32m~/commaai_code/04b_VA/cil/Horseshoe/helpers.py\u001b[0m in \u001b[0;36mDelta_theta\u001b[0;34m(vartheta_t, B, n, z, p, tBB, betaBt, BoB)\u001b[0m\n\u001b[1;32m     73\u001b[0m     \u001b[0mgrad_beta\u001b[0m \u001b[0;34m=\u001b[0m \u001b[0mdelta_beta\u001b[0m\u001b[0;34m(\u001b[0m\u001b[0mz\u001b[0m\u001b[0;34m,\u001b[0m \u001b[0mS\u001b[0m\u001b[0;34m,\u001b[0m \u001b[0mB\u001b[0m\u001b[0;34m,\u001b[0m \u001b[0mLambda_t\u001b[0m\u001b[0;34m,\u001b[0m \u001b[0mbeta_t\u001b[0m\u001b[0;34m)\u001b[0m\u001b[0;34m\u001b[0m\u001b[0;34m\u001b[0m\u001b[0m\n\u001b[1;32m     74\u001b[0m \u001b[0;34m\u001b[0m\u001b[0m\n\u001b[0;32m---> 75\u001b[0;31m     \u001b[0mgrad_lambda\u001b[0m \u001b[0;34m=\u001b[0m \u001b[0mdelta_1_lambda\u001b[0m\u001b[0;34m(\u001b[0m\u001b[0mLambda_t\u001b[0m\u001b[0;34m,\u001b[0m \u001b[0mbeta_t\u001b[0m\u001b[0;34m,\u001b[0m \u001b[0mB\u001b[0m\u001b[0;34m,\u001b[0m \u001b[0mdS2\u001b[0m\u001b[0;34m,\u001b[0m \u001b[0mS2\u001b[0m\u001b[0;34m,\u001b[0m \u001b[0mS\u001b[0m\u001b[0;34m,\u001b[0m \u001b[0mz\u001b[0m\u001b[0;34m,\u001b[0m \u001b[0mnp\u001b[0m\u001b[0;34m.\u001b[0m\u001b[0mexp\u001b[0m\u001b[0;34m(\u001b[0m\u001b[0mlog_tau_t\u001b[0m\u001b[0;34m)\u001b[0m\u001b[0;34m)\u001b[0m\u001b[0;34m\u001b[0m\u001b[0;34m\u001b[0m\u001b[0m\n\u001b[0m\u001b[1;32m     76\u001b[0m     \u001b[0;31m# Gradient w.r.t. tau\u001b[0m\u001b[0;34m\u001b[0m\u001b[0;34m\u001b[0m\u001b[0;34m\u001b[0m\u001b[0m\n\u001b[1;32m     77\u001b[0m     \u001b[0mgrad_tau\u001b[0m \u001b[0;34m=\u001b[0m \u001b[0mdelta_1_log_tau\u001b[0m\u001b[0;34m(\u001b[0m\u001b[0mp\u001b[0m\u001b[0;34m,\u001b[0m \u001b[0mlog_tau_t\u001b[0m\u001b[0;34m,\u001b[0m \u001b[0mLambda_t\u001b[0m\u001b[0;34m)\u001b[0m\u001b[0;34m\u001b[0m\u001b[0;34m\u001b[0m\u001b[0m\n",
      "\u001b[0;32m~/commaai_code/04b_VA/cil/Horseshoe/helpers.py\u001b[0m in \u001b[0;36mdelta_1_lambda\u001b[0;34m(Lambda, beta, B_zeta, dS2, S2, S, z, tau)\u001b[0m\n\u001b[1;32m     30\u001b[0m                          \u001b[0;34m+\u001b[0m \u001b[0;36m0.5\u001b[0m\u001b[0;34m*\u001b[0m\u001b[0mnp\u001b[0m\u001b[0;34m.\u001b[0m\u001b[0msum\u001b[0m\u001b[0;34m(\u001b[0m\u001b[0;34m(\u001b[0m\u001b[0mB_zeta\u001b[0m\u001b[0;34m[\u001b[0m\u001b[0;34m:\u001b[0m\u001b[0;34m,\u001b[0m\u001b[0mlj\u001b[0m\u001b[0;34m]\u001b[0m\u001b[0;34m**\u001b[0m\u001b[0;36m2\u001b[0m\u001b[0;34m)\u001b[0m\u001b[0;34m*\u001b[0m\u001b[0mLambda2\u001b[0m\u001b[0;34m[\u001b[0m\u001b[0mlj\u001b[0m\u001b[0;34m]\u001b[0m\u001b[0;34m*\u001b[0m\u001b[0mS2\u001b[0m\u001b[0;34m)\u001b[0m\u001b[0;34m\u001b[0m\u001b[0;34m\u001b[0m\u001b[0m\n\u001b[1;32m     31\u001b[0m                          \u001b[0;34m-\u001b[0m \u001b[0;36m0.5\u001b[0m\u001b[0;34m*\u001b[0m\u001b[0mnp\u001b[0m\u001b[0;34m.\u001b[0m\u001b[0msum\u001b[0m\u001b[0;34m(\u001b[0m\u001b[0;34m(\u001b[0m\u001b[0mz\u001b[0m\u001b[0;34m**\u001b[0m\u001b[0;36m2\u001b[0m\u001b[0;34m)\u001b[0m\u001b[0;34m*\u001b[0m\u001b[0;34m(\u001b[0m\u001b[0mB_zeta\u001b[0m\u001b[0;34m[\u001b[0m\u001b[0;34m:\u001b[0m\u001b[0;34m,\u001b[0m\u001b[0mlj\u001b[0m\u001b[0;34m]\u001b[0m\u001b[0;34m**\u001b[0m\u001b[0;36m2\u001b[0m\u001b[0;34m)\u001b[0m\u001b[0;34m*\u001b[0m\u001b[0mLambda2\u001b[0m\u001b[0;34m[\u001b[0m\u001b[0mlj\u001b[0m\u001b[0;34m]\u001b[0m\u001b[0;34m)\u001b[0m\u001b[0;34m\u001b[0m\u001b[0;34m\u001b[0m\u001b[0m\n\u001b[0;32m---> 32\u001b[0;31m                         + 0.5*(beta.T.dot(B_zeta.T)*S*(B_zeta[:,lj]**2)*(Lambda2[lj])).dot(z))\n\u001b[0m\u001b[1;32m     33\u001b[0m     \u001b[0;31m#dlogFucj = (0.5*(beta**2)/Lambda2 - (Lambda2/tau2)/(1 + Lambda2/tau2) #+ 0.5\u001b[0m\u001b[0;34m\u001b[0m\u001b[0;34m\u001b[0m\u001b[0;34m\u001b[0m\u001b[0m\n\u001b[1;32m     34\u001b[0m     \u001b[0;31m#            #+ 0.5*np.sum(((B_zeta**2)*np.tile(S2, [p,1]).T)*Lambda2) - 0.5*(z**2).dot((B_zeta**2)*Lambda2) + ((((np.tile(B_zeta.dot(beta), [p,1]).T)*(B_zeta**2)*Lambda2)*np.tile(S, [p,1]).T).T).dot(z))\u001b[0m\u001b[0;34m\u001b[0m\u001b[0;34m\u001b[0m\u001b[0;34m\u001b[0m\u001b[0m\n",
      "\u001b[0;31mKeyboardInterrupt\u001b[0m: "
     ]
    }
   ],
   "source": [
    "for a in tqdm(range(iterations)):\n",
    "    \n",
    "    # Compute inverse with Woodbury formula.\n",
    "    inv = np.linalg.inv(D_t.dot(D_t))\n",
    "    inv2 = np.linalg.inv(np.identity(k) + B_t.T.dot(inv).dot(B_t))\n",
    "    BBD_inv = inv - multi_dot([inv, B_t, inv2, B_t.T, inv])\n",
    "    \n",
    "    # 1. Generate epsilon_t and z_t\n",
    "    z_t = hlp.generate_z(mean_z,var_z, n)\n",
    "    epsilon_t = hlp.generate_epsilon(mean_epsilon, var_epsilon, n)\n",
    "    \n",
    "    for i in range(0, z_t.shape[0]):\n",
    "        \n",
    "        z_t_i = z_t[i,:].reshape(k,1)\n",
    "        epsilon_t_i = epsilon_t[i,:].reshape(21,1)\n",
    "\n",
    "        #2. Draw from vartheta, what we generate are log values\n",
    "        #of lambda and tau -> have to transform them back to use them\n",
    "        vartheta_t = mu_t + B_t.dot(z_t_i) + (d_t*epsilon_t_i)\n",
    "\n",
    "        beta_t = vartheta_t[0:p].reshape(p,)\n",
    "        betaBt_t = beta_t.dot(B_zeta.T)\n",
    "\n",
    "        # 3. Compute gradient of beta, lambda_j, and tau\n",
    "        gradient_h_t = hlp.Delta_theta(vartheta_t, B_zeta, n, z, p, tBB, betaBt_t, BoB)\n",
    "\n",
    "        # Compute gradients for the variational parameters mu, B, D\n",
    "        Delta_mu = hlp.Delta_mu(gradient_h_t, BBD_inv, z_t_i, d_t, epsilon_t, B_t)\n",
    "        Delta_B = hlp.Delta_B(B_zeta,n,z, p, B_t, gradient_h_t, z_t_i, D_t, d_t, epsilon_t_i, BBD_inv)\n",
    "        Delta_D = hlp.Delta_D(gradient_h_t, epsilon_t_i,D_t, d_t,p, BBD_inv, B_t, z_t_i).reshape(21,1)\n",
    "        \n",
    "        if i == 0:\n",
    "            Delta_mu_mean = Delta_mu/n\n",
    "            Delta_B_mean = Delta_B/n\n",
    "            Delta_D_mean = Delta_D/n\n",
    "        elif i > 0:\n",
    "            Delta_mu_mean += Delta_mu/n\n",
    "            Delta_B_mean += Delta_B/n\n",
    "            Delta_D_mean += Delta_D/n\n",
    "        \n",
    "    #Delta_mu_mean, Delta_B_mean, Delta_D_mean = gradients(z_t, epsilon_t, mu_t, B_t, d_t, B_zeta)\n",
    "    \n",
    "    # 4. Adadelta Updates\n",
    "    update_mu, E_g2_t_1_mu, E_delta_x_2_1_mu = adadelta_change(Delta_mu_mean, E_g2_t_1_mu, E_delta_x_2_1_mu, decay_rate = decay_rate, constant = constant)\n",
    "    update_B, E_g2_t_1_B, E_delta_x_2_1_B  = adadelta_change(Delta_B_mean, E_g2_t_1_B, E_delta_x_2_1_B, decay_rate = decay_rate, constant = constant)\n",
    "    update_d, E_g2_t_1_d, E_delta_x_2_1_d = adadelta_change(Delta_D_mean, E_g2_t_1_d, E_delta_x_2_1_d, decay_rate = decay_rate, constant = constant)\n",
    "    \n",
    "    # Update variables\n",
    "    mu_t = mu_t + update_mu.reshape(m,1)\n",
    "    B_t = B_t + update_B\n",
    "    # set upper triangular elements to 0\n",
    "    B_t *= np.tri(*B_t.shape)\n",
    "    d_t = (d_t + update_d)\n",
    "    D_t = np.diag(d_t.reshape(m,))\n",
    "    \n",
    "    for i in range(0, z_t.shape[0]):\n",
    "        z_t_i = z_t[i,:].reshape(k,1)\n",
    "        epsilon_t_i = epsilon_t[i,:].reshape(21,1)\n",
    "        \n",
    "        vartheta_t = mu_t + B_t.dot(z_t_i) + (d_t*epsilon_t_i)\n",
    "        vartheta_t_transf = vartheta_t.copy()\n",
    "\n",
    "        # 5. compute stopping criterion\n",
    "        beta_t = vartheta_t_transf[0:p].reshape(p,)\n",
    "        Lambda_t = np.exp(0.5*vartheta_t_transf[p:2*p].reshape(p,))\n",
    "        log_tau_t = vartheta_t_transf[2*p]\n",
    "        betaBt_t = beta_t.dot(B_zeta.T) \n",
    "\n",
    "        dS2, S2, S = hlp.generate_dS2_ddS2_S2_S(Lambda_t, BoB)\n",
    "\n",
    "        # Lower bound L(lambda) = E[log(L_lambda - q_lambda]\n",
    "        #log_h_t = hlp.log_density(S, B_zeta, beta_t, Lambda_t, log_tau_t, z, p)\n",
    "        #log_q_lambda_t = np.log(multivariate_normal.pdf(vartheta_t, m, mu_t, (B_t.dot(B_t.T) + D_t**2)))\n",
    "        \n",
    "        # Lower bound L(lambda) = E[log(L_lambda - q_lambda]\n",
    "        log_h_t = hlp.log_density(S, B_zeta, beta_t, Lambda_t, log_tau_t, z, p)\n",
    "        log_q_lambda_t = np.log(multivariate_normal.pdf(vartheta_t.reshape(21,), mu_t.reshape(21), (B_t.dot(B_t.T) + D_t**2)))\n",
    "        \n",
    "        if i == 0:\n",
    "            L_lambda_mean = (log_h_t - log_q_lambda_t)/n\n",
    "        elif i > 0:\n",
    "            L_lambda_mean += (log_h_t - log_q_lambda_t)/n\n",
    "    \n",
    "    # evidence lower bound\n",
    "   # L_lambda = log_h_t - log_q_lambda_t\n",
    "    log_h_ts.append(log_h_t)\n",
    "    log_q_lambda_ts.append(log_q_lambda_t)\n",
    "    log_tau_ts.append(log_tau_t)\n",
    "    Lambda_ts.append(Lambda_t)\n",
    "    lower_bounds.append(L_lambda_mean.item())\n",
    "    all_varthetas.append(vartheta_t)\n",
    "    \n",
    "    # increase time count\n",
    "    t = t+1\n",
    "    \n",
    "    # can also set lambda as the value over the last 10 steps\n",
    "    mu_ts.append(mu_t)\n",
    "    d_ts.append(d_t)\n",
    "    B_ts.append(B_t)\n",
    "    \n",
    "    if (m % 1000 == 0):\n",
    "        np.save('../../../../data/commaai/va/unfiltered_gaussian_resampled/Horseshoe/mu_ts2.npy', mu_ts)\n",
    "        np.save('../../../../data/commaai/va/unfiltered_gaussian_resampled/Horseshoe/d_ts2.npy', d_ts)\n",
    "        np.save('../../../../data/commaai/va/unfiltered_gaussian_resampled/Horseshoe/B_ts2.npy', B_ts)\n",
    "        np.save('../../../../data/commaai/va/unfiltered_gaussian_resampled/Horseshoe/lower_bounds2.npy', lower_bounds)\n",
    "        np.save('../../../../data/commaai/va/unfiltered_gaussian_resampled/Horseshoe/all_varthetas2.npy', all_varthetas)\n",
    "        np.save('../../../../data/commaai/va/unfiltered_gaussian_resampled/Horseshoe/Lambda_ts2.npy', Lambda_ts)\n",
    "\n",
    "np.save('../../../../data/commaai/va/unfiltered_gaussian_resampled/Horseshoe/mu_ts_delete.npy', mu_ts)\n",
    "np.save('../../../../data/commaai/va/unfiltered_gaussian_resampled/Horseshoe/d_ts_delete.npy', d_ts)\n",
    "np.save('../../../../data/commaai/va/unfiltered_gaussian_resampled/Horseshoe/B_ts_delete.npy', B_ts)"
   ]
  },
  {
   "cell_type": "code",
   "execution_count": 32,
   "metadata": {},
   "outputs": [],
   "source": [
    "np.save('../../../../data/commaai/va/unfiltered_gaussian_resampled/Horseshoe/mu_ts2_new_dev.npy', mu_ts)\n",
    "np.save('../../../../data/commaai/va/unfiltered_gaussian_resampled/Horseshoe/d_ts2_new_dev.npy', d_ts)\n",
    "np.save('../../../../data/commaai/va/unfiltered_gaussian_resampled/Horseshoe/B_ts2_new_dev.npy', B_ts)\n",
    "np.save('../../../../data/commaai/va/unfiltered_gaussian_resampled/Horseshoe/lower_bounds2_new_dev.npy', lower_bounds)\n",
    "np.save('../../../../data/commaai/va/unfiltered_gaussian_resampled/Horseshoe/all_varthetas2_new_dev.npy', all_varthetas)\n",
    "np.save('../../../../data/commaai/va/unfiltered_gaussian_resampled/Horseshoe/Lambda_ts2_new_dev.npy', Lambda_ts)"
   ]
  },
  {
   "cell_type": "code",
   "execution_count": 2,
   "metadata": {},
   "outputs": [],
   "source": [
    "lower_bounds = np.load('../../../../data/commaai/va/unfiltered_gaussian_resampled/Horseshoe/lower_bounds2_new_dev.npy').tolist()"
   ]
  },
  {
   "cell_type": "code",
   "execution_count": 3,
   "metadata": {},
   "outputs": [],
   "source": [
    "lower_bounds2 = np.load('../../../../data/commaai/va/unfiltered_gaussian_resampled/Horseshoe/lower_bounds2_new_dev_1.npy')\n",
    "mu_ts2 = np.load('../../../../data/commaai/va/unfiltered_gaussian_resampled/Horseshoe/mu_ts2_new_dev_1.npy')\n",
    "mu_va2 = np.mean(np.array(mu_ts2)[15000:,:,:], axis = 0)"
   ]
  },
  {
   "cell_type": "code",
   "execution_count": null,
   "metadata": {},
   "outputs": [],
   "source": [
    "#mu_ts = np.load('../../../../data/commaai/va/filtered_gaussian_resampled/Horseshoe/mu_ts_delete.npy')\n",
    "#d_ts = np.load('../../../../data/commaai/va/filtered_gaussian_resampled/Horseshoe/d_ts_delete.npy')\n",
    "#B_ts = np.load('../../../../data/commaai/va/filtered_gaussian_resampled/Horseshoe/B_ts_delete.npy')\n",
    "#lower_bounds = np.load('../../../../data/commaai/va/filtered_gaussian_resampled/Horseshoe/lower_bounds2_delete.npy')"
   ]
  },
  {
   "cell_type": "code",
   "execution_count": 8,
   "metadata": {},
   "outputs": [
    {
     "data": {
      "image/png": "[encoded data removed]",
      "text/plain": [
       "<Figure size 432x288 with 1 Axes>"
      ]
     },
     "metadata": {
      "needs_background": "light"
     },
     "output_type": "display_data"
    }
   ],
   "source": [
    "plt.plot(lower_bounds2[:15000], color = 'red', label = 'M = 1')\n",
    "plt.plot(lower_bounds, label = 'M = 50')\n",
    "#plt.plot(log_q_lambda_ts)\n",
    "plt.yscale('symlog')\n",
    "plt.ylabel('ELBO')\n",
    "plt.xlabel('iteration')\n",
    "plt.legend()\n",
    "plt.legend(framealpha=0.0)\n",
    "plt.savefig('convergence_in_dep_M.png', bbox_inches='tight')\n",
    "\n"
   ]
  },
  {
   "cell_type": "code",
   "execution_count": 28,
   "metadata": {},
   "outputs": [
    {
     "data": {
      "text/plain": [
       "[<matplotlib.lines.Line2D at 0x7fc734cc5e50>]"
      ]
     },
     "execution_count": 28,
     "metadata": {},
     "output_type": "execute_result"
    },
    {
     "data": {
      "image/png": "[encoded data removed]",
      "text/plain": [
       "<Figure size 432x288 with 1 Axes>"
      ]
     },
     "metadata": {
      "needs_background": "light"
     },
     "output_type": "display_data"
    }
   ],
   "source": [
    "plt.scatter(mu_va2[0:10], mu_va[0:10])\n",
    "plt.plot([-.2, .2], [-.2, .2])"
   ]
  },
  {
   "cell_type": "code",
   "execution_count": 14,
   "metadata": {},
   "outputs": [
    {
     "ename": "ValueError",
     "evalue": "cannot reshape array of size 177639 into shape (178,21)",
     "output_type": "error",
     "traceback": [
      "\u001b[0;31m---------------------------------------------------------------------------\u001b[0m",
      "\u001b[0;31mValueError\u001b[0m                                Traceback (most recent call last)",
      "\u001b[0;32m<ipython-input-14-44863456b85b>\u001b[0m in \u001b[0;36m<module>\u001b[0;34m\u001b[0m\n\u001b[0;32m----> 1\u001b[0;31m \u001b[0mplt\u001b[0m\u001b[0;34m.\u001b[0m\u001b[0mplot\u001b[0m\u001b[0;34m(\u001b[0m\u001b[0mnp\u001b[0m\u001b[0;34m.\u001b[0m\u001b[0marray\u001b[0m\u001b[0;34m(\u001b[0m\u001b[0mmu_ts\u001b[0m\u001b[0;34m)\u001b[0m\u001b[0;34m.\u001b[0m\u001b[0mreshape\u001b[0m\u001b[0;34m(\u001b[0m\u001b[0;34m(\u001b[0m\u001b[0;36m178\u001b[0m\u001b[0;34m,\u001b[0m \u001b[0;36m21\u001b[0m\u001b[0;34m)\u001b[0m\u001b[0;34m)\u001b[0m\u001b[0;34m[\u001b[0m\u001b[0;34m:\u001b[0m\u001b[0;34m,\u001b[0m\u001b[0;36m0\u001b[0m\u001b[0;34m:\u001b[0m\u001b[0;36m10\u001b[0m\u001b[0;34m]\u001b[0m\u001b[0;34m)\u001b[0m\u001b[0;34m\u001b[0m\u001b[0;34m\u001b[0m\u001b[0m\n\u001b[0m",
      "\u001b[0;31mValueError\u001b[0m: cannot reshape array of size 177639 into shape (178,21)"
     ]
    }
   ],
   "source": [
    "plt.plot(np.array(mu_ts).reshape((178, 21))[:,0:10])\n"
   ]
  },
  {
   "cell_type": "code",
   "execution_count": null,
   "metadata": {},
   "outputs": [],
   "source": [
    "np.array(lower_bounds)[np.array(lower_bounds) > 0]"
   ]
  },
  {
   "cell_type": "code",
   "execution_count": null,
   "metadata": {},
   "outputs": [],
   "source": [
    "len(mu_ts)"
   ]
  },
  {
   "cell_type": "code",
   "execution_count": 33,
   "metadata": {},
   "outputs": [],
   "source": [
    "mu_va = np.mean(np.array(mu_ts)[8000:,:,:], axis = 0)\n",
    "d_va = np.mean(np.array(d_ts)[8000:,:,:], axis = 0)\n",
    "B_va = np.mean(np.array(B_ts)[8000:,:,:], axis = 0)\n",
    "var_va = np.sqrt(np.diag(B_va.dot(B_va.T) + np.diag(d_va**2)))"
   ]
  },
  {
   "cell_type": "code",
   "execution_count": 34,
   "metadata": {},
   "outputs": [],
   "source": [
    "all_thetas = np.load('../../../../data/commaai/mcmc/filtered_gaussian_resampled/Horseshoe/all_thetas_try.npy')"
   ]
  },
  {
   "cell_type": "code",
   "execution_count": 35,
   "metadata": {},
   "outputs": [],
   "source": [
    "mu_mcmc = np.mean(all_thetas[2000:,:], axis= 0)\n",
    "mu_sd = np.std(all_thetas[2000:,:], axis= 0)"
   ]
  },
  {
   "cell_type": "code",
   "execution_count": 38,
   "metadata": {},
   "outputs": [
    {
     "data": {
      "text/plain": [
       "[<matplotlib.lines.Line2D at 0x7fc734a9dc40>]"
      ]
     },
     "execution_count": 38,
     "metadata": {},
     "output_type": "execute_result"
    },
    {
     "data": {
      "image/png": "[encoded data removed]",
      "text/plain": [
       "<Figure size 432x288 with 1 Axes>"
      ]
     },
     "metadata": {
      "needs_background": "light"
     },
     "output_type": "display_data"
    }
   ],
   "source": [
    "plt.scatter(mu_va[0:10], mu_mcmc[0:10], color = 'b')\n",
    "#plt.scatter(mu_va2[0:10], mu_mcmc[0:10], color = 'r')\n",
    "plt.scatter(mu_va[10:20], mu_mcmc[10:20], color = 'r')\n",
    "plt.scatter(mu_va[20], mu_mcmc[20], color = 'g')\n",
    "ident = [-.5,.5]\n",
    "plt.plot(ident, ident)"
   ]
  },
  {
   "cell_type": "code",
   "execution_count": 37,
   "metadata": {},
   "outputs": [
    {
     "data": {
      "text/plain": [
       "[<matplotlib.lines.Line2D at 0x7fc734ad1c10>]"
      ]
     },
     "execution_count": 37,
     "metadata": {},
     "output_type": "execute_result"
    },
    {
     "data": {
      "image/png": "[encoded data removed]",
      "text/plain": [
       "<Figure size 432x288 with 1 Axes>"
      ]
     },
     "metadata": {
      "needs_background": "light"
     },
     "output_type": "display_data"
    }
   ],
   "source": [
    "plt.scatter(var_va[0:10], mu_sd[0:10], color = 'b')\n",
    "plt.scatter(var_va[10:20], mu_sd[10:20], color = 'r')\n",
    "plt.scatter(var_va[20], mu_sd[20], color = 'g')\n",
    "ident = [0,.6]\n",
    "plt.plot(ident, ident)"
   ]
  },
  {
   "cell_type": "code",
   "execution_count": null,
   "metadata": {},
   "outputs": [],
   "source": []
  }
 ],
 "metadata": {
  "kernelspec": {
   "display_name": "Python 3",
   "language": "python",
   "name": "python3"
  },
  "language_info": {
   "codemirror_mode": {
    "name": "ipython",
    "version": 3
   },
   "file_extension": ".py",
   "mimetype": "text/x-python",
   "name": "python",
   "nbconvert_exporter": "python",
   "pygments_lexer": "ipython3",
   "version": "3.8.5"
  }
 },
 "nbformat": 4,
 "nbformat_minor": 4
}
