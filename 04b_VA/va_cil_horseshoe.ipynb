{
 "cells": [
  {
   "cell_type": "markdown",
   "metadata": {},
   "source": [
    "## VAFC with Imprecise Learner and Horseshoe Prior\n",
    "Author: Clara Hoffmann\n",
    "    \n",
    "This code computes the VAFC to obtain marginally calibrared posterior densities\n",
    "for the response. Increasing the number of reparameterization samples $v$ can lead\n",
    "to faster convergence.\n",
    "\n",
    "Overview:\n",
    "1. Initialize Variables\n",
    "2. Run VAFC\n",
    "3. Comparison of convergence with varying $v$\n",
    "\n",
    "Note that the evaluation of the gradients and lower bounds is already parallelized, but\n",
    "still increasing $v$ slows the code down. Overall, this does not make a difference since\n",
    "we achieve faster convergence with higher $v$. But the gains from increasing $v$ do not\n",
    "grow linearly.\n",
    "\n",
    "Based on 'Gaussian variational approximation with a factor covariance structure' by Ong et. al (2017)"
   ]
  },
  {
   "cell_type": "code",
   "execution_count": null,
   "metadata": {},
   "outputs": [],
   "source": [
    "# load Packages\n",
    "import numpy as np\n",
    "import helpers_horseshoe as hlp\n",
    "import math\n",
    "from random import random, seed\n",
    "from numpy.linalg import multi_dot\n",
    "from scipy.stats import multivariate_normal\n",
    "import matplotlib.pyplot as plt \n",
    "from tqdm import tqdm\n",
    "# for parallelization:\n",
    "import ray\n",
    "ray.init()"
   ]
  },
  {
   "cell_type": "markdown",
   "metadata": {},
   "source": [
    "## 1. Initialize Variables"
   ]
  },
  {
   "cell_type": "code",
   "execution_count": null,
   "metadata": {},
   "outputs": [],
   "source": [
    "# read in basis functions and labels\n",
    "extracted_coefficients_path = '../../data/commaai/extracted_coefficients/20201021_unrestr_gaussian_resampled/'\n",
    "B_zeta_path = str(extracted_coefficients_path + 'Bzeta/B_zeta.npy')\n",
    "beta_path = str(extracted_coefficients_path + 'beta/beta.csv')\n",
    "z_path = str(extracted_coefficients_path + 'Bzeta/tr_labels.npy')\n",
    "\n",
    "# Define all necessary variables\n",
    "beta = np.genfromtxt(beta_path, delimiter=',')\n",
    "# B_zeta is a n x q matrix\n",
    "B_zeta = np.load(B_zeta_path)\n",
    "B_zeta = B_zeta.reshape(B_zeta.shape[0], beta.shape[0])\n",
    "tBB = B_zeta.T.dot(B_zeta)\n",
    "BoB = B_zeta**2\n",
    "z = np.load(z_path)\n",
    "\n",
    "# p is the number of beta coefficients in the last hidden layer\n",
    "p = B_zeta.shape[1]\n",
    "\n",
    "# Lambda is a diagonal matrix of dimension p\n",
    "Lambda = np.random.rand(p,)\n",
    "\n",
    "seed(679305)\n",
    "tau_start = 0.01\n",
    "\n",
    "# Set iteration counter to 0\n",
    "t = 0\n",
    "\n",
    "n = B_zeta.shape[0]\n",
    "\n",
    "# S(x, theta) is of dimension n x n\n",
    "S2, S = hlp.generate_S2_S(Lambda, BoB)\n",
    "\n",
    "# m is number of variational parameters, which is \n",
    "# 2p (for each lambda_j and each beta_j)\n",
    "# plus the variational parameter for the prior on lambda\n",
    "m = 2*p + 1\n",
    "\n",
    "# number of factors in the factored covariance representation\n",
    "k = 3\n",
    "\n",
    "mu_t, B_t, D_t, d_t = hlp.init_mu_B_d(m, k)\n",
    "mean_epsilon, mean_z, var_epsilon, var_z = hlp.init_epsilon_z(m, k)\n",
    "\n",
    "## Adadelta\n",
    "decay_rate = 0.95\n",
    "constant = 1e-7   \n",
    "E_g2_t_1, E_delta_x_2_1, E_g2_t_1_mu, E_delta_x_2_1_mu, E_g2_t_1_B, E_delta_x_2_1_B, E_g2_t_1_d, E_delta_x_2_1_d = hlp.init_adad(mu_t, B_t, d_t, m)\n",
    "\n",
    "lower_bounds = []\n",
    "all_varthetas = []\n",
    "mu_ts = []\n",
    "d_ts = []\n",
    "B_ts = []\n",
    "\n",
    "t = 0\n",
    "v = 50\n",
    "iterations = 12000"
   ]
  },
  {
   "cell_type": "markdown",
   "metadata": {},
   "source": [
    "## 2. Run VAFC"
   ]
  },
  {
   "cell_type": "code",
   "execution_count": null,
   "metadata": {},
   "outputs": [],
   "source": [
    "for a in tqdm(range(iterations)):\n",
    "    \n",
    "    # Compute inverse with Woodbury formula.\n",
    "    inv = np.linalg.inv(D_t.dot(D_t))\n",
    "    inv2 = np.linalg.inv(np.identity(k) + B_t.T.dot(inv).dot(B_t))\n",
    "    BBD_inv = inv - multi_dot([inv, B_t, inv2, B_t.T, inv])\n",
    "    \n",
    "    # 1. Generate epsilon_t and z_t\n",
    "    z_t = hlp.generate_z(mean_z,var_z, v)\n",
    "    epsilon_t = hlp.generate_epsilon(mean_epsilon, var_epsilon, v)\n",
    "    \n",
    "    # 2. Get gradients from reparameterization samples\n",
    "    result = ray.get([hlp.get_gradient.remote(z_t, epsilon_t, mu_t, B_t, d_t, B_zeta, BBD_inv, tBB, BoB, i, v, k, p, z, m) for i in range(0,v)])\n",
    "    Delta_mu_mean = np.mean(np.array([result[i][0] for i in range(0,v)]), axis = 0)\n",
    "    Delta_B_mean = np.mean(np.array([result[i][1] for i in range(0,v)]), axis = 0)\n",
    "    Delta_D_mean = np.mean(np.array([result[i][2] for i in range(0,v)]), axis = 0)\n",
    "    vartheta_t = np.mean(np.array([result[i][3] for i in range(0,v)]), axis = 0)\n",
    "\n",
    "    # 3. Adadelta Updates\n",
    "    update_mu, E_g2_t_1_mu, E_delta_x_2_1_mu = hlp.adadelta_change(Delta_mu_mean, E_g2_t_1_mu, E_delta_x_2_1_mu, decay_rate = decay_rate, constant = constant)\n",
    "    update_B, E_g2_t_1_B, E_delta_x_2_1_B  = hlp.adadelta_change(Delta_B_mean, E_g2_t_1_B, E_delta_x_2_1_B, decay_rate = decay_rate, constant = constant)\n",
    "    update_d, E_g2_t_1_d, E_delta_x_2_1_d = hlp.adadelta_change(Delta_D_mean, E_g2_t_1_d, E_delta_x_2_1_d, decay_rate = decay_rate, constant = constant)\n",
    "    \n",
    "    # Update variables\n",
    "    mu_t = mu_t + update_mu.reshape(m,1)\n",
    "    B_t = B_t + update_B\n",
    "    # set upper triangular elements to 0\n",
    "    B_t *= np.tri(*B_t.shape)\n",
    "    d_t = (d_t + update_d)\n",
    "    D_t = np.diag(d_t.reshape(m,))\n",
    "    \n",
    "    # 4. Get ELBO to check convergence\n",
    "    result = ray.get([hlp.get_lb.remote(z_t, epsilon_t, mu_t, B_t, d_t, B_zeta, p, z, BoB, i, v, k, m) for i in range(0,v)])\n",
    "    L_lambda_mean = np.mean(np.array([result[i][0] for i in range(0,v)]))\n",
    "    beta_t = np.mean(np.array([result[i][1] for i in range(0,v)]), axis = 0)\n",
    "    \n",
    "    # evidence lower bound\n",
    "    # L_lambda = log_h_t - log_q_lambda_t\n",
    "    lower_bounds.append(L_lambda_mean.item())\n",
    "    all_varthetas.append(vartheta_t)\n",
    "    \n",
    "    # increase time count\n",
    "    t = t+1\n",
    "    \n",
    "    # can also set lambda as the value over the last 10 steps\n",
    "    mu_ts.append(mu_t)\n",
    "    d_ts.append(d_t)\n",
    "    B_ts.append(B_t)\n",
    "\n",
    "#np.save('../../data/commaai/va/unfiltered_gaussian_resampled/Horseshoe/mu_ts.npy', mu_ts)\n",
    "#np.save('../../data/commaai/va/unfiltered_gaussian_resampled/Horseshoe/d_ts.npy', d_ts)\n",
    "#np.save('../../data/commaai/va/unfiltered_gaussian_resampled/Horseshoe/B_ts.npy', B_ts)\n",
    "#np.save('../../data/commaai/va/unfiltered_gaussian_resampled/Horseshoe/vartheta.npy', all_varthetas)\n",
    "#np.save('../../data/commaai/va/unfiltered_gaussian_resampled/Horseshoe/lower_bounds.npy', lower_bounds)"
   ]
  },
  {
   "cell_type": "markdown",
   "metadata": {},
   "source": [
    "## 3. Comparison of convergence with varying $v$"
   ]
  },
  {
   "cell_type": "code",
   "execution_count": null,
   "metadata": {},
   "outputs": [],
   "source": [
    "lower_bounds = np.load('../../data/commaai/va/unfiltered_gaussian_resampled/Horseshoe/lower_bounds2_new_dev.npy').tolist()"
   ]
  },
  {
   "cell_type": "code",
   "execution_count": null,
   "metadata": {},
   "outputs": [],
   "source": [
    "lower_bounds2 = np.load('../../data/commaai/va/unfiltered_gaussian_resampled/Horseshoe/lower_bounds2_new_dev_1.npy')\n",
    "mu_ts2 = np.load('../../data/commaai/va/unfiltered_gaussian_resampled/Horseshoe/mu_ts2_new_dev_1.npy')\n",
    "mu_va2 = np.mean(np.array(mu_ts2)[15000:,:,:], axis = 0)"
   ]
  },
  {
   "cell_type": "code",
   "execution_count": null,
   "metadata": {},
   "outputs": [],
   "source": [
    "plt.plot(lower_bounds2[:15000], color = 'red', label = 'M = 1')\n",
    "plt.plot(lower_bounds, label = 'M = 50')\n",
    "#plt.plot(log_q_lambda_ts)\n",
    "plt.yscale('symlog')\n",
    "plt.ylabel('ELBO')\n",
    "plt.xlabel('iteration')\n",
    "plt.legend()\n",
    "plt.legend(framealpha=0.0)\n",
    "plt.savefig('convergence_in_dep_M.png', bbox_inches='tight')"
   ]
  }
 ],
 "metadata": {
  "kernelspec": {
   "display_name": "Python 3",
   "language": "python",
   "name": "python3"
  },
  "language_info": {
   "codemirror_mode": {
    "name": "ipython",
    "version": 3
   },
   "file_extension": ".py",
   "mimetype": "text/x-python",
   "name": "python",
   "nbconvert_exporter": "python",
   "pygments_lexer": "ipython3",
   "version": "3.8.5"
  }
 },
 "nbformat": 4,
 "nbformat_minor": 4
}
