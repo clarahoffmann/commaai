{
 "cells": [
  {
   "cell_type": "code",
   "execution_count": 1,
   "metadata": {},
   "outputs": [],
   "source": [
    "# load packages\n",
    "import os\n",
    "import glob\n",
    "import tensorflow as tf\n",
    "from input_server import imgs_input_fn, build_model\n",
    "import numpy as np\n",
    "import pandas as pd\n",
    "from scipy.stats import norm\n",
    "from tensorflow import keras\n",
    "from keras.layers import Dense, Conv2D, MaxPooling2D, Dropout, Flatten, BatchNormalization\n",
    "from sklearn.metrics import mean_squared_error, mean_absolute_error\n",
    "from helpers_trans import find_closest_element"
   ]
  },
  {
   "cell_type": "code",
   "execution_count": 2,
   "metadata": {},
   "outputs": [],
   "source": [
    "# path of model checkpoints\n",
    "checkpoint_path = '../../bdd100k_test_data/models/10092020_adadelta/'\n",
    "extracted_coefficients_directory = '../../bdd100k_test_data/extracted_coefficients/10092020'\n",
    "model_dir = '../../bdd100k_test_data/models/10092020_adadelta'\n",
    "val_path = '../../data/tfrecords/03082020/val_5000.tfrecords'\n",
    "shard_path = '../../data/tfrecords/shards/07092020'\n",
    "shard_files = glob.glob(os.path.join(shard_path, \"*.tfrecords\")) "
   ]
  },
  {
   "cell_type": "code",
   "execution_count": 3,
   "metadata": {},
   "outputs": [],
   "source": [
    "# actually also need all train yaws...\n",
    "val_all_true_yaws_path = '../../data/tfrecords/03082020/val_yaw_original.csv'\n",
    "train_all_true_yaws_path = '../../data/tfrecords/03082020/train_yaw_original.csv'\n",
    "val_yaws = pd.read_csv(val_all_true_yaws_path)\n",
    "train_yaws = pd.read_csv(train_all_true_yaws_path)"
   ]
  },
  {
   "cell_type": "code",
   "execution_count": 4,
   "metadata": {},
   "outputs": [],
   "source": [
    "n_val = val_yaws.shape[0]\n",
    "n_train = train_yaws.shape[0]"
   ]
  },
  {
   "cell_type": "code",
   "execution_count": 5,
   "metadata": {},
   "outputs": [
    {
     "data": {
      "text/plain": [
       "114619"
      ]
     },
     "execution_count": 5,
     "metadata": {},
     "output_type": "execute_result"
    }
   ],
   "source": [
    "n_val"
   ]
  },
  {
   "cell_type": "markdown",
   "metadata": {},
   "source": [
    "## 0. Get weights $\\beta$ of the last hidden layer "
   ]
  },
  {
   "cell_type": "code",
   "execution_count": 6,
   "metadata": {},
   "outputs": [],
   "source": [
    "# build model\n",
    "Input = tf.keras.layers.Input(shape=(640, 360, 3,), name='image')\n",
    "x = Conv2D(24, kernel_size=(5, 5), activation='swish', strides=(2, 2))(Input)\n",
    "x = BatchNormalization()(x)\n",
    "x = Conv2D(36, kernel_size=(5, 5), activation='swish', strides=(2, 2))(x)\n",
    "x = BatchNormalization()(x)\n",
    "x = Conv2D(36, kernel_size=(3, 3), activation='swish', strides=(2, 2))(x)\n",
    "x = BatchNormalization()(x)\n",
    "x = Conv2D(48, kernel_size=(3, 3), activation='swish')(x)\n",
    "x = BatchNormalization()(x)\n",
    "x = Conv2D(64, kernel_size=(3, 3), activation='swish')(x)\n",
    "x = Dense(128)(x)\n",
    "x = Dropout(0.8)(x)\n",
    "x = Dense(96)(x)\n",
    "x = Dropout(0.8)(x)\n",
    "x = Dense(64)(x)\n",
    "x = Dropout(0.8)(x)\n",
    "x = Dense(32)(x)\n",
    "x = Dropout(0.8)(x)\n",
    "x = Dense(16)(x)\n",
    "Output = Dense(1, name = 'output_layer')(x)\n",
    "\n",
    "keras_model = tf.keras.models.Model(\n",
    "      inputs = [Input], outputs = [Output])\n",
    "\n",
    "# update model with weights\n",
    "keras_model.load_weights(tf.train.latest_checkpoint(checkpoint_path))\n",
    "\n",
    "keras_model.compile(\n",
    "    loss = 'mae',\n",
    "    optimizer = keras.optimizers.Adadelta(learning_rate = 0.0005, rho = 0.95, epsilon = 1e-07, name = 'Adadelta'),\n",
    "    metrics=['mse', 'mae'])\n",
    "\n",
    "# to inspect weights:\n",
    "#i = 0 \n",
    "#for layer in keras_model.layers: \n",
    "#    i += 1\n",
    "#    if i == 16:\n",
    "#        print(layer.get_config(), layer.get_weights())\n",
    "\n",
    "# get list of all variables in checkpoint file\n",
    "# tf.train.list_variables(tf.train.latest_checkpoint(checkpoint_path))"
   ]
  },
  {
   "cell_type": "code",
   "execution_count": 7,
   "metadata": {},
   "outputs": [],
   "source": [
    "i = 0\n",
    "for layer in keras_model.layers: \n",
    "    i += 1\n",
    "    if i == 20:\n",
    "        beta = layer.get_weights()\n",
    "        #print(layer.get_config(), layer.get_weights())\n",
    "# last element of beta is bias and is set to zero\n",
    "beta = beta[0]\n",
    "bias = beta[1]\n",
    "np.savetxt(str(extracted_coefficients_directory +\"/beta.csv\"), beta, delimiter=\",\")\n",
    "np.savetxt(str(extracted_coefficients_directory +\"/bias.csv\"), beta, delimiter=\",\")"
   ]
  },
  {
   "cell_type": "code",
   "execution_count": 8,
   "metadata": {},
   "outputs": [
    {
     "name": "stdout",
     "output_type": "stream",
     "text": [
      "{'batch_input_shape': (None, 640, 360, 3), 'dtype': 'float32', 'sparse': False, 'ragged': False, 'name': 'image'}\n",
      "{'name': 'conv2d', 'trainable': True, 'dtype': 'float32', 'filters': 24, 'kernel_size': (5, 5), 'strides': (2, 2), 'padding': 'valid', 'data_format': 'channels_last', 'dilation_rate': (1, 1), 'groups': 1, 'activation': 'swish', 'use_bias': True, 'kernel_initializer': {'class_name': 'GlorotUniform', 'config': {'seed': None}}, 'bias_initializer': {'class_name': 'Zeros', 'config': {}}, 'kernel_regularizer': None, 'bias_regularizer': None, 'activity_regularizer': None, 'kernel_constraint': None, 'bias_constraint': None}\n",
      "{'name': 'batch_normalization', 'trainable': True, 'dtype': 'float32', 'axis': ListWrapper([3]), 'momentum': 0.99, 'epsilon': 0.001, 'center': True, 'scale': True, 'beta_initializer': {'class_name': 'Zeros', 'config': {}}, 'gamma_initializer': {'class_name': 'Ones', 'config': {}}, 'moving_mean_initializer': {'class_name': 'Zeros', 'config': {}}, 'moving_variance_initializer': {'class_name': 'Ones', 'config': {}}, 'beta_regularizer': None, 'gamma_regularizer': None, 'beta_constraint': None, 'gamma_constraint': None}\n",
      "{'name': 'conv2d_1', 'trainable': True, 'dtype': 'float32', 'filters': 36, 'kernel_size': (5, 5), 'strides': (2, 2), 'padding': 'valid', 'data_format': 'channels_last', 'dilation_rate': (1, 1), 'groups': 1, 'activation': 'swish', 'use_bias': True, 'kernel_initializer': {'class_name': 'GlorotUniform', 'config': {'seed': None}}, 'bias_initializer': {'class_name': 'Zeros', 'config': {}}, 'kernel_regularizer': None, 'bias_regularizer': None, 'activity_regularizer': None, 'kernel_constraint': None, 'bias_constraint': None}\n",
      "{'name': 'batch_normalization_1', 'trainable': True, 'dtype': 'float32', 'axis': ListWrapper([3]), 'momentum': 0.99, 'epsilon': 0.001, 'center': True, 'scale': True, 'beta_initializer': {'class_name': 'Zeros', 'config': {}}, 'gamma_initializer': {'class_name': 'Ones', 'config': {}}, 'moving_mean_initializer': {'class_name': 'Zeros', 'config': {}}, 'moving_variance_initializer': {'class_name': 'Ones', 'config': {}}, 'beta_regularizer': None, 'gamma_regularizer': None, 'beta_constraint': None, 'gamma_constraint': None}\n",
      "{'name': 'conv2d_2', 'trainable': True, 'dtype': 'float32', 'filters': 36, 'kernel_size': (3, 3), 'strides': (2, 2), 'padding': 'valid', 'data_format': 'channels_last', 'dilation_rate': (1, 1), 'groups': 1, 'activation': 'swish', 'use_bias': True, 'kernel_initializer': {'class_name': 'GlorotUniform', 'config': {'seed': None}}, 'bias_initializer': {'class_name': 'Zeros', 'config': {}}, 'kernel_regularizer': None, 'bias_regularizer': None, 'activity_regularizer': None, 'kernel_constraint': None, 'bias_constraint': None}\n",
      "{'name': 'batch_normalization_2', 'trainable': True, 'dtype': 'float32', 'axis': ListWrapper([3]), 'momentum': 0.99, 'epsilon': 0.001, 'center': True, 'scale': True, 'beta_initializer': {'class_name': 'Zeros', 'config': {}}, 'gamma_initializer': {'class_name': 'Ones', 'config': {}}, 'moving_mean_initializer': {'class_name': 'Zeros', 'config': {}}, 'moving_variance_initializer': {'class_name': 'Ones', 'config': {}}, 'beta_regularizer': None, 'gamma_regularizer': None, 'beta_constraint': None, 'gamma_constraint': None}\n",
      "{'name': 'conv2d_3', 'trainable': True, 'dtype': 'float32', 'filters': 48, 'kernel_size': (3, 3), 'strides': (1, 1), 'padding': 'valid', 'data_format': 'channels_last', 'dilation_rate': (1, 1), 'groups': 1, 'activation': 'swish', 'use_bias': True, 'kernel_initializer': {'class_name': 'GlorotUniform', 'config': {'seed': None}}, 'bias_initializer': {'class_name': 'Zeros', 'config': {}}, 'kernel_regularizer': None, 'bias_regularizer': None, 'activity_regularizer': None, 'kernel_constraint': None, 'bias_constraint': None}\n",
      "{'name': 'batch_normalization_3', 'trainable': True, 'dtype': 'float32', 'axis': ListWrapper([3]), 'momentum': 0.99, 'epsilon': 0.001, 'center': True, 'scale': True, 'beta_initializer': {'class_name': 'Zeros', 'config': {}}, 'gamma_initializer': {'class_name': 'Ones', 'config': {}}, 'moving_mean_initializer': {'class_name': 'Zeros', 'config': {}}, 'moving_variance_initializer': {'class_name': 'Ones', 'config': {}}, 'beta_regularizer': None, 'gamma_regularizer': None, 'beta_constraint': None, 'gamma_constraint': None}\n",
      "{'name': 'conv2d_4', 'trainable': True, 'dtype': 'float32', 'filters': 64, 'kernel_size': (3, 3), 'strides': (1, 1), 'padding': 'valid', 'data_format': 'channels_last', 'dilation_rate': (1, 1), 'groups': 1, 'activation': 'swish', 'use_bias': True, 'kernel_initializer': {'class_name': 'GlorotUniform', 'config': {'seed': None}}, 'bias_initializer': {'class_name': 'Zeros', 'config': {}}, 'kernel_regularizer': None, 'bias_regularizer': None, 'activity_regularizer': None, 'kernel_constraint': None, 'bias_constraint': None}\n",
      "{'name': 'dense', 'trainable': True, 'dtype': 'float32', 'units': 128, 'activation': 'linear', 'use_bias': True, 'kernel_initializer': {'class_name': 'GlorotUniform', 'config': {'seed': None}}, 'bias_initializer': {'class_name': 'Zeros', 'config': {}}, 'kernel_regularizer': None, 'bias_regularizer': None, 'activity_regularizer': None, 'kernel_constraint': None, 'bias_constraint': None}\n",
      "{'name': 'dropout', 'trainable': True, 'dtype': 'float32', 'rate': 0.8, 'noise_shape': None, 'seed': None}\n",
      "{'name': 'dense_1', 'trainable': True, 'dtype': 'float32', 'units': 96, 'activation': 'linear', 'use_bias': True, 'kernel_initializer': {'class_name': 'GlorotUniform', 'config': {'seed': None}}, 'bias_initializer': {'class_name': 'Zeros', 'config': {}}, 'kernel_regularizer': None, 'bias_regularizer': None, 'activity_regularizer': None, 'kernel_constraint': None, 'bias_constraint': None}\n",
      "{'name': 'dropout_1', 'trainable': True, 'dtype': 'float32', 'rate': 0.8, 'noise_shape': None, 'seed': None}\n",
      "{'name': 'dense_2', 'trainable': True, 'dtype': 'float32', 'units': 64, 'activation': 'linear', 'use_bias': True, 'kernel_initializer': {'class_name': 'GlorotUniform', 'config': {'seed': None}}, 'bias_initializer': {'class_name': 'Zeros', 'config': {}}, 'kernel_regularizer': None, 'bias_regularizer': None, 'activity_regularizer': None, 'kernel_constraint': None, 'bias_constraint': None}\n",
      "{'name': 'dropout_2', 'trainable': True, 'dtype': 'float32', 'rate': 0.8, 'noise_shape': None, 'seed': None}\n",
      "{'name': 'dense_3', 'trainable': True, 'dtype': 'float32', 'units': 32, 'activation': 'linear', 'use_bias': True, 'kernel_initializer': {'class_name': 'GlorotUniform', 'config': {'seed': None}}, 'bias_initializer': {'class_name': 'Zeros', 'config': {}}, 'kernel_regularizer': None, 'bias_regularizer': None, 'activity_regularizer': None, 'kernel_constraint': None, 'bias_constraint': None}\n",
      "{'name': 'dropout_3', 'trainable': True, 'dtype': 'float32', 'rate': 0.8, 'noise_shape': None, 'seed': None}\n",
      "{'name': 'dense_4', 'trainable': True, 'dtype': 'float32', 'units': 16, 'activation': 'linear', 'use_bias': True, 'kernel_initializer': {'class_name': 'GlorotUniform', 'config': {'seed': None}}, 'bias_initializer': {'class_name': 'Zeros', 'config': {}}, 'kernel_regularizer': None, 'bias_regularizer': None, 'activity_regularizer': None, 'kernel_constraint': None, 'bias_constraint': None}\n",
      "{'name': 'output_layer', 'trainable': True, 'dtype': 'float32', 'units': 1, 'activation': 'linear', 'use_bias': True, 'kernel_initializer': {'class_name': 'GlorotUniform', 'config': {'seed': None}}, 'bias_initializer': {'class_name': 'Zeros', 'config': {}}, 'kernel_regularizer': None, 'bias_regularizer': None, 'activity_regularizer': None, 'kernel_constraint': None, 'bias_constraint': None}\n"
     ]
    }
   ],
   "source": [
    "i = 0\n",
    "for layer in keras_model.layers: \n",
    "    i += 1\n",
    "    print(layer.get_config())"
   ]
  },
  {
   "cell_type": "markdown",
   "metadata": {},
   "source": [
    "## 1. Get outputs $B_{\\zeta}(x_i) $ from last hidden layer"
   ]
  },
  {
   "cell_type": "code",
   "execution_count": 9,
   "metadata": {},
   "outputs": [
    {
     "name": "stdout",
     "output_type": "stream",
     "text": [
      "INFO:tensorflow:Using default config.\n",
      "INFO:tensorflow:Using the Keras model provided.\n",
      "INFO:tensorflow:Using config: {'_model_dir': '../../bdd100k_test_data/models/10092020_adadelta', '_tf_random_seed': None, '_save_summary_steps': 100, '_save_checkpoints_steps': None, '_save_checkpoints_secs': 600, '_session_config': allow_soft_placement: true\n",
      "graph_options {\n",
      "  rewrite_options {\n",
      "    meta_optimizer_iterations: ONE\n",
      "  }\n",
      "}\n",
      ", '_keep_checkpoint_max': 5, '_keep_checkpoint_every_n_hours': 10000, '_log_step_count_steps': 100, '_train_distribute': None, '_device_fn': None, '_protocol': None, '_eval_distribute': None, '_experimental_distribute': None, '_experimental_max_worker_delay_secs': None, '_session_creation_timeout_secs': 7200, '_service': None, '_cluster_spec': ClusterSpec({}), '_task_type': 'worker', '_task_id': 0, '_global_id_in_cluster': 0, '_master': '', '_evaluation_master': '', '_is_chief': True, '_num_ps_replicas': 0, '_num_worker_replicas': 1}\n"
     ]
    }
   ],
   "source": [
    "B_zeta_estimator = build_model(model_dir, checkpoint_path)"
   ]
  },
  {
   "cell_type": "markdown",
   "metadata": {},
   "source": [
    " Validation set predictions $B_{\\zeta}$"
   ]
  },
  {
   "cell_type": "code",
   "execution_count": 10,
   "metadata": {},
   "outputs": [
    {
     "name": "stdout",
     "output_type": "stream",
     "text": [
      "INFO:tensorflow:Calling model_fn.\n",
      "WARNING:tensorflow:From /usr/local/lib/python3.8/dist-packages/tensorflow_estimator/python/estimator/keras.py:220: set_learning_phase (from tensorflow.python.keras.backend) is deprecated and will be removed after 2020-10-11.\n",
      "Instructions for updating:\n",
      "Simply pass a True/False value to the `training` argument of the `__call__` method of your layer or model.\n",
      "INFO:tensorflow:Done calling model_fn.\n",
      "INFO:tensorflow:Graph was finalized.\n",
      "INFO:tensorflow:Restoring parameters from ../../bdd100k_test_data/models/10092020_adadelta/model.ckpt-23433\n",
      "INFO:tensorflow:Running local_init_op.\n",
      "INFO:tensorflow:Done running local_init_op.\n"
     ]
    }
   ],
   "source": [
    "cust_train_input_fn_val = lambda: imgs_input_fn(val_path)\n",
    "pred_results_b_zeta_val = B_zeta_estimator.predict(input_fn = cust_train_input_fn_val)\n",
    "#B_zeta_predictions = next(pred_results_b_zeta)\n",
    "# like this we get all predictions... but not so pretty\n",
    "val_B_zeta_predictions_all = []\n",
    "for i in range(0,int(n_val/2886) + 1):\n",
    "    val_B_zeta_predictions = next(pred_results_b_zeta_val)\n",
    "    val_B_zeta_predictions_all.append(val_B_zeta_predictions['dense_9'])\n",
    "val_B_zeta_predictions_all = np.array(val_B_zeta_predictions_all)"
   ]
  },
  {
   "cell_type": "markdown",
   "metadata": {},
   "source": [
    "Training set predictions $B_{\\zeta}$"
   ]
  },
  {
   "cell_type": "code",
   "execution_count": 11,
   "metadata": {},
   "outputs": [
    {
     "name": "stdout",
     "output_type": "stream",
     "text": [
      "INFO:tensorflow:Calling model_fn.\n",
      "INFO:tensorflow:Done calling model_fn.\n",
      "INFO:tensorflow:Graph was finalized.\n",
      "INFO:tensorflow:Restoring parameters from ../../bdd100k_test_data/models/10092020_adadelta/model.ckpt-23433\n",
      "INFO:tensorflow:Running local_init_op.\n",
      "INFO:tensorflow:Done running local_init_op.\n"
     ]
    }
   ],
   "source": [
    "train_B_zeta_predictions_all = []\n",
    "cust_train_input_fn_train = lambda: imgs_input_fn(shard_files)\n",
    "pred_results_b_zeta_train = B_zeta_estimator.predict(input_fn = cust_train_input_fn_train)\n",
    "for i in range(0,int(n_train/2886) + 1):\n",
    "    train_B_zeta_predictions = next(pred_results_b_zeta_train)\n",
    "    train_B_zeta_predictions_all.append(train_B_zeta_predictions['dense_9'])\n",
    "train_B_zeta_predictions_all = np.array(train_B_zeta_predictions_all)"
   ]
  },
  {
   "cell_type": "code",
   "execution_count": 12,
   "metadata": {},
   "outputs": [],
   "source": [
    "# reshape and cut off duplicates\n",
    "ts = train_B_zeta_predictions_all.shape\n",
    "train_B_zeta_predictions_all = train_B_zeta_predictions_all.reshape(ts[0]*ts[1]*ts[2], ts[3])[:n_train]\n",
    "vs = val_B_zeta_predictions_all.shape\n",
    "val_B_zeta_predictions_all = val_B_zeta_predictions_all.reshape(vs[0]*vs[1]*vs[2], vs[3])[:n_val]"
   ]
  },
  {
   "cell_type": "code",
   "execution_count": 13,
   "metadata": {},
   "outputs": [
    {
     "data": {
      "text/plain": [
       "((114619, 16), 114619)"
      ]
     },
     "execution_count": 13,
     "metadata": {},
     "output_type": "execute_result"
    }
   ],
   "source": [
    "val_B_zeta_predictions_all.shape, n_val"
   ]
  },
  {
   "cell_type": "code",
   "execution_count": 14,
   "metadata": {},
   "outputs": [],
   "source": [
    "# get predictions\n",
    "pred_dnn_val = val_B_zeta_predictions_all.dot(beta)\n",
    "pred_dnn_train = train_B_zeta_predictions_all.dot(beta)"
   ]
  },
  {
   "cell_type": "code",
   "execution_count": 15,
   "metadata": {},
   "outputs": [
    {
     "ename": "NameError",
     "evalue": "name 'B_zeta_predictions' is not defined",
     "output_type": "error",
     "traceback": [
      "\u001b[0;31m---------------------------------------------------------------------------\u001b[0m",
      "\u001b[0;31mNameError\u001b[0m                                 Traceback (most recent call last)",
      "\u001b[0;32m<ipython-input-15-c9aad1e6df95>\u001b[0m in \u001b[0;36m<module>\u001b[0;34m\u001b[0m\n\u001b[0;32m----> 1\u001b[0;31m \u001b[0;32mfor\u001b[0m \u001b[0mname\u001b[0m\u001b[0;34m,\u001b[0m\u001b[0mdict_\u001b[0m \u001b[0;32min\u001b[0m \u001b[0mB_zeta_predictions\u001b[0m\u001b[0;34m.\u001b[0m\u001b[0mitems\u001b[0m\u001b[0;34m(\u001b[0m\u001b[0;34m)\u001b[0m\u001b[0;34m:\u001b[0m\u001b[0;34m\u001b[0m\u001b[0;34m\u001b[0m\u001b[0m\n\u001b[0m\u001b[1;32m      2\u001b[0m     \u001b[0mprint\u001b[0m\u001b[0;34m(\u001b[0m\u001b[0mname\u001b[0m\u001b[0;34m)\u001b[0m\u001b[0;34m\u001b[0m\u001b[0;34m\u001b[0m\u001b[0m\n",
      "\u001b[0;31mNameError\u001b[0m: name 'B_zeta_predictions' is not defined"
     ]
    }
   ],
   "source": [
    "for name,dict_ in B_zeta_predictions.items():\n",
    "    print(name)"
   ]
  },
  {
   "cell_type": "code",
   "execution_count": 16,
   "metadata": {},
   "outputs": [],
   "source": [
    "# save outputs\n",
    "val_B_zeta_pred = val_B_zeta_predictions_all\n",
    "train_B_zeta_pred = train_B_zeta_predictions_all\n",
    "np.savetxt(str(extracted_coefficients_directory +\"/B_zeta_predictions_val.csv\"), \n",
    "           val_B_zeta_pred,\n",
    "           delimiter=\",\")\n",
    "np.savetxt(str(extracted_coefficients_directory +\"/B_zeta_predictions_train.csv\"), \n",
    "           train_B_zeta_pred,\n",
    "           delimiter=\",\")"
   ]
  },
  {
   "cell_type": "code",
   "execution_count": null,
   "metadata": {},
   "outputs": [],
   "source": [
    "B_zeta_pred.shape"
   ]
  },
  {
   "cell_type": "code",
   "execution_count": null,
   "metadata": {},
   "outputs": [],
   "source": [
    "# get predictions:\n",
    "pred_dnn = B_zeta_pred.dot(beta)"
   ]
  },
  {
   "cell_type": "markdown",
   "metadata": {},
   "source": [
    "## Get true z"
   ]
  },
  {
   "cell_type": "code",
   "execution_count": 17,
   "metadata": {},
   "outputs": [],
   "source": [
    "val_transformed_yaws_path = '../../data/tfrecords/03082020/val_yaw_transformed.csv'\n",
    "train_transformed_yaws_path = '../../data/tfrecords/03082020/train_yaw_transformed.csv'\n",
    "true_z_val = np.genfromtxt(val_transformed_yaws_path, delimiter=',')\n",
    "true_z_train = np.genfromtxt(train_transformed_yaws_path, delimiter=',')"
   ]
  },
  {
   "cell_type": "code",
   "execution_count": null,
   "metadata": {},
   "outputs": [],
   "source": [
    "true_z_train.shape"
   ]
  },
  {
   "cell_type": "markdown",
   "metadata": {},
   "source": [
    "## check if predictions are more or less correct (in case the nn has reinitialized the weights...)\n",
    "yes, confirms with training and test errors\n",
    "1. Mean squared error"
   ]
  },
  {
   "cell_type": "code",
   "execution_count": 18,
   "metadata": {},
   "outputs": [],
   "source": [
    "# get densities\n",
    "density_path = '../../data/density/03082020/fast_kde_density.csv'\n",
    "density = pd.read_csv(density_path)\n",
    "# transform predictions back to yaw\n",
    "train_yaw_pred_nn_norm = norm.cdf(pred_dnn_train).reshape(pred_dnn_train.shape[0],)\n",
    "train_yaw_pred_nn = np.array([density.loc[find_closest_element(y_i,density['cdf']),'axes'] \n",
    "                                 for y_i in train_yaw_pred_nn_norm])\n",
    "np.savetxt(str(extracted_coefficients_directory +\"/train_yaw_pred_nn.csv\"), train_yaw_pred_nn, delimiter=\",\")\n",
    "\n",
    "# transform predictions back to yaw\n",
    "val_yaw_pred_nn_norm = norm.cdf(pred_dnn_val).reshape(pred_dnn_val.shape[0],)\n",
    "val_yaw_pred_nn = np.array([density.loc[find_closest_element(y_i,density['cdf']),'axes'] \n",
    "                                 for y_i in val_yaw_pred_nn_norm])\n",
    "np.savetxt(str(extracted_coefficients_directory +\"/val_yaw_pred_nn.csv\"), val_yaw_pred_nn, delimiter=\",\")"
   ]
  },
  {
   "cell_type": "code",
   "execution_count": null,
   "metadata": {},
   "outputs": [],
   "source": [
    "val_yaw_pred_nn.shape"
   ]
  },
  {
   "cell_type": "code",
   "execution_count": 19,
   "metadata": {},
   "outputs": [
    {
     "name": "stdout",
     "output_type": "stream",
     "text": [
      "Performance on the validation set: 0.020078856650268206 \n",
      "Performance on the training set:0.01981448799572632\n"
     ]
    }
   ],
   "source": [
    "# validation error\n",
    "mse_val = mean_squared_error(val_yaws[:val_yaw_pred_nn.shape[0]], val_yaw_pred_nn)\n",
    "# training error\n",
    "mse_train = mean_squared_error(train_yaws[:train_yaw_pred_nn.shape[0]], train_yaw_pred_nn)\n",
    "print('Performance on the validation set: ' \n",
    "      + str(mse_val) \n",
    "      +' \\nPerformance on the training set:' \n",
    "      + str(mse_train))"
   ]
  },
  {
   "cell_type": "markdown",
   "metadata": {},
   "source": [
    "2. Mean absolute error"
   ]
  },
  {
   "cell_type": "code",
   "execution_count": 20,
   "metadata": {},
   "outputs": [
    {
     "name": "stdout",
     "output_type": "stream",
     "text": [
      "Performance on the validation set: 0.10048306878779562 \n",
      "Performance on the training set:0.0995873184381412\n"
     ]
    }
   ],
   "source": [
    "# validation error\n",
    "mae_val = mean_absolute_error(val_yaws, val_yaw_pred_nn)\n",
    "# training error\n",
    "mae_train = mean_absolute_error(train_yaws, train_yaw_pred_nn)\n",
    "print('Performance on the validation set: ' \n",
    "      + str(mae_val) \n",
    "      +' \\nPerformance on the training set:' \n",
    "      + str(mae_train))"
   ]
  },
  {
   "cell_type": "code",
   "execution_count": null,
   "metadata": {},
   "outputs": [],
   "source": []
  }
 ],
 "metadata": {
  "kernelspec": {
   "display_name": "Python 3",
   "language": "python",
   "name": "python3"
  },
  "language_info": {
   "codemirror_mode": {
    "name": "ipython",
    "version": 3
   },
   "file_extension": ".py",
   "mimetype": "text/x-python",
   "name": "python",
   "nbconvert_exporter": "python",
   "pygments_lexer": "ipython3",
   "version": "3.8.2"
  }
 },
 "nbformat": 4,
 "nbformat_minor": 4
}
