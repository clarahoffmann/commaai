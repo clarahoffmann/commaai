{
 "cells": [
  {
   "cell_type": "markdown",
   "metadata": {},
   "source": [
    "## Validity check for derivatives"
   ]
  },
  {
   "cell_type": "code",
   "execution_count": 3,
   "metadata": {},
   "outputs": [],
   "source": [
    "import numpy as np\n",
    "import helpers as hlp\n",
    "import math\n",
    "from random import random, seed\n",
    "from numpy.linalg import multi_dot"
   ]
  },
  {
   "cell_type": "code",
   "execution_count": 4,
   "metadata": {},
   "outputs": [],
   "source": [
    "# p is the number of beta coefficients in the last hidden layer\n",
    "p = 10\n",
    "\n",
    "# m is number of variational parameters, which is \n",
    "# p plus the variational parameter for the prior on lambda\n",
    "m = p + 1\n",
    "\n",
    "# number of factors in the factored covariance representation\n",
    "k = 3\n",
    "\n",
    "# B is a lower triangle m x k matrix and is the first component of the \n",
    "# covariance matrix\n",
    "B = np.tril(np.random.rand(m,k))\n",
    "\n",
    "# D is a diagonal matrix of dimension m x m and is the second component of the \n",
    "# covariance matrix\n",
    "D = np.diag(np.random.rand(m,))\n",
    "\n",
    "# Lambda is a diagonal matrix of dimension p\n",
    "Lambda = np.diag(np.random.rand(p,))\n",
    "\n",
    "seed(679305)\n",
    "tau = random()\n",
    "\n",
    "# Set iteration counter to 0\n",
    "t = 0"
   ]
  },
  {
   "cell_type": "code",
   "execution_count": 5,
   "metadata": {},
   "outputs": [],
   "source": [
    "B_zeta_path = '../../bdd100k_test_data/extracted_coefficients/11082020/B_zeta_predictions.csv'\n",
    "beta_path = '../../bdd100k_test_data/extracted_coefficients/11082020/beta.csv'\n",
    "z_path = '../../bdd100k_test_data/extracted_coefficients/11082020/z_predictions.csv'\n",
    "\n",
    "# B_zeta is a n x q matrix\n",
    "B_zeta = np.genfromtxt(B_zeta_path, delimiter=',')\n",
    "beta = np.genfromtxt(beta_path, delimiter=',')\n",
    "z = np.genfromtxt(z_path, delimiter=',')\n",
    "\n",
    "n = B_zeta.shape[0]"
   ]
  },
  {
   "cell_type": "code",
   "execution_count": 15,
   "metadata": {},
   "outputs": [],
   "source": [
    "# S(x, theta) is of dimension n x n\n",
    "S = np.diag([(1 + ((B_zeta[i,:].T).dot(Lambda)).dot(B_zeta[i,:]))**(-1/2) for i in range(0,n)])"
   ]
  },
  {
   "cell_type": "markdown",
   "metadata": {},
   "source": [
    "## Derivatives"
   ]
  },
  {
   "cell_type": "code",
   "execution_count": 16,
   "metadata": {},
   "outputs": [],
   "source": [
    "def grad_theta_h_lambda_j(Lambda, S, beta, B_zeta, z, tau,j):\n",
    "    s_diag = np.diag(S)\n",
    "    psi_j = B_zeta[:,j]\n",
    "    lambda_j_sq = np.diag(Lambda)[j]\n",
    "    A = np.diag((B_zeta[:,j]**2)*lambda_j_sq)\n",
    "    #a = (1/2)*lambda_j_sq*(psi_j**2).dot((s_diag**2)-(z**2))\n",
    "    a = - (1/2)*lambda_j_sq*sum((psi_j**2)*(z**2))\n",
    "    b = (1/2)*lambda_j_sq*sum((psi_j**2)*(s_diag**2))\n",
    "    \n",
    "    c = (1/2)*multi_dot([beta.T, B_zeta.T, A, S, z])\n",
    "    d = (beta[j]**2)/(2*lambda_j_sq)\n",
    "    e = - (lambda_j_sq/(tau**2))/(1+lambda_j_sq/(tau**2)) + 1/2\n",
    "    return(a+b+c+d+e)\n",
    "#delta_log_lambda_sq = [grad_theta_h_lambda_j(Lambda, S, beta, B_zeta, z, tau, j_i) for j_i in range(0,p)]"
   ]
  },
  {
   "cell_type": "code",
   "execution_count": 17,
   "metadata": {},
   "outputs": [],
   "source": [
    "def delta_theta_h_beta(z, S, B_zeta, Lambda):\n",
    "    return (z.T).dot(np.linalg.inv(S)).dot(B_zeta) - 2*(beta.T).dot(B_zeta.T).dot(B_zeta) + ((np.linalg.inv(Lambda))).dot(beta)\n",
    "delta_beta = delta_theta_h_beta(z, S, B_zeta, Lambda)"
   ]
  },
  {
   "cell_type": "code",
   "execution_count": 18,
   "metadata": {},
   "outputs": [],
   "source": [
    "def delta_tau(p, Lambda, tau):\n",
    "    tau_sq = tau**2\n",
    "    return -(p-1) + 2*sum([(Lambda[i,i]/tau_sq)*((1+(Lambda[i,i]/tau_sq))**(-1)) for i in range(0,Lambda.shape[0])]) - 2*(tau_sq/(1+tau_sq))   "
   ]
  },
  {
   "cell_type": "markdown",
   "metadata": {},
   "source": [
    "## True log-density"
   ]
  },
  {
   "cell_type": "code",
   "execution_count": 19,
   "metadata": {},
   "outputs": [],
   "source": [
    "def log_density(z, beta, S, B_zeta, Lambda, p, tau):\n",
    "    a = - n*np.log(2*math.pi)  - (1/2)*sum(np.log(np.diag(S**2))) - multi_dot([(1/2)*(z - multi_dot([S, B_zeta, beta])).T, np.linalg.inv(S.dot(S)), (z - multi_dot([S, B_zeta, beta]))])\n",
    "    b = -(1/2)*sum(np.log(np.diag(Lambda))) - (1/2)*sum([beta[i]**2/(Lambda[i,i]) for i in range(0,p)])\n",
    "    c = -(p-1)*math.log(tau) - sum(np.log([1+Lambda[i,i]/(tau**2) for i in range(0,Lambda.shape[0])])) - (p-1)*math.log(1+tau**2)                                                   \n",
    "    return a + b +  c   "
   ]
  },
  {
   "cell_type": "code",
   "execution_count": 20,
   "metadata": {},
   "outputs": [],
   "source": [
    "## Numerical derivative w.r.t beta"
   ]
  },
  {
   "cell_type": "code",
   "execution_count": 21,
   "metadata": {},
   "outputs": [
    {
     "name": "stdout",
     "output_type": "stream",
     "text": [
      "True derivative: [ -8964.50578201  22194.63423351 -51054.46191743  -6906.85197079\n",
      " -15264.66719193 -42038.76275591  50540.31749979 -59886.77023252\n",
      "  21676.20983574  -5701.46403624]\n",
      "vs.\n",
      "Numerical derivative: [-10701.65021228604, 25149.41970002837, -56057.6941265026, -8777.469221968204, -18439.805440721102, -48493.68929280899, 55832.5400634203, -68621.74329289701, 23638.338808086697, -7572.918260120786]\n"
     ]
    }
   ],
   "source": [
    "j = 0\n",
    "def d_fun_beta_j(z, beta, S, B_zeta,j, tau ):\n",
    "    h = 1e-5 #in theory h is an infinitesimal\n",
    "    beta_new = beta.copy()\n",
    "    beta_new[j] =  beta_new[j] + h\n",
    "    return (log_density(z, beta_new, S, B_zeta, Lambda, p,tau)-log_density(z, beta, S, B_zeta, Lambda, p,tau))/h\n",
    "print('True derivative: ' + str(delta_beta))\n",
    "print('vs.')\n",
    "print('Numerical derivative: ' + str([d_fun_beta_j(z, beta, S, B_zeta,j_i, tau) for j_i in range(0,len(beta))]))\n",
    "# maybe look over this again as it always seems 2000 too much (in absolute terms)"
   ]
  },
  {
   "cell_type": "code",
   "execution_count": 22,
   "metadata": {},
   "outputs": [],
   "source": [
    "## Numerical derivative w.r.t lambda_j"
   ]
  },
  {
   "cell_type": "code",
   "execution_count": 23,
   "metadata": {},
   "outputs": [
    {
     "name": "stdout",
     "output_type": "stream",
     "text": [
      "True derivative: [-18042.466282752615, -89934.17344570265, -189809.8966059878, -36279.33566477528, -22419.30673875748, -52558.57148886552, -49117.09098568077, -49411.756355062214, -115388.37006651584, -23442.79442615554]\n",
      "vs.\n",
      "Numerical derivative: [-19472.275793668814, -115715.39000142364, -118095.39821697398, -22394.298555445854, -19706.614760798402, -63646.63293643388, -93619.79222157969, -105267.35539315267, -59641.768931760445, -43130.21662237588]\n"
     ]
    }
   ],
   "source": [
    "def d_fun_lambda_j(z, beta, S, B_zeta,j, Lambda, tau ):\n",
    "    h = 1e-5 #in theory h is an infinitesimal\n",
    "    Lambda_new = Lambda.copy()\n",
    "    Lambda_new[j,j] =  Lambda_new[j,j] + h\n",
    "    S_new = np.diag([(1 + ((B_zeta[i,:].T).dot(Lambda_new)).dot(B_zeta[i,:]))**(-1/2) for i in range(0,n)])\n",
    "    return (log_density(z, beta, S_new, B_zeta, Lambda_new, p, tau)-log_density(z, beta, S, B_zeta, Lambda, p, tau))/h\n",
    "print('True derivative: ' + str([(grad_theta_h_lambda_j(Lambda, S, beta, B_zeta, z, tau,j_i)/np.sqrt(Lambda[j_i,j_i]))*2 for j_i in range(0,len(beta))]))\n",
    "print('vs.')\n",
    "print('Numerical derivative: ' + str([d_fun_lambda_j(z, beta, S, B_zeta,j_i, Lambda, tau) for j_i in range(0,len(beta))]))"
   ]
  },
  {
   "cell_type": "markdown",
   "metadata": {},
   "source": [
    "## Numerical derivative w.r.t tau"
   ]
  },
  {
   "cell_type": "code",
   "execution_count": 24,
   "metadata": {},
   "outputs": [
    {
     "name": "stdout",
     "output_type": "stream",
     "text": [
      "True derivative: 11.497585375919817\n",
      "vs.\n",
      "Numerical derivative: 6.836489774286747\n"
     ]
    }
   ],
   "source": [
    "def d_fun_tau_j(z, beta, S, B_zeta, Lambda, p, tau):\n",
    "    h = 1e-7 #in theory h is an infinitesimal\n",
    "    tau_new = tau\n",
    "    tau_new =  tau_new + h\n",
    "    return (log_density(z, beta, S, B_zeta, Lambda, p, tau_new) - log_density(z, beta, S, B_zeta, Lambda, p, tau))/h\n",
    "print('True derivative: ' + str(delta_tau(p, Lambda, tau)/tau))\n",
    "print('vs.')\n",
    "print('Numerical derivative: ' + str(d_fun_tau_j(z, beta, S, B_zeta, Lambda, p, tau)))\n",
    "# not so good but also cannot finde any more mistakes..."
   ]
  }
 ],
 "metadata": {
  "kernelspec": {
   "display_name": "Python 3",
   "language": "python",
   "name": "python3"
  },
  "language_info": {
   "codemirror_mode": {
    "name": "ipython",
    "version": 3
   },
   "file_extension": ".py",
   "mimetype": "text/x-python",
   "name": "python",
   "nbconvert_exporter": "python",
   "pygments_lexer": "ipython3",
   "version": "3.8.2"
  }
 },
 "nbformat": 4,
 "nbformat_minor": 4
}
