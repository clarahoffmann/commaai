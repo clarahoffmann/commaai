{
 "cells": [
  {
   "cell_type": "code",
   "execution_count": 39,
   "metadata": {},
   "outputs": [],
   "source": [
    "import tensorflow as tf\n",
    "import numpy as np\n",
    "import matplotlib.pyplot as plt\n",
    "from scipy.stats import norm\n",
    "import pandas as pd"
   ]
  },
  {
   "cell_type": "code",
   "execution_count": 40,
   "metadata": {},
   "outputs": [],
   "source": [
    "shard_path = '../data/commaai/train/trainshard4_new2.tfrecords'\n",
    "density_path = '../data/commaai/density/densityfastkde_density.csv'\n",
    "density = pd.read_csv(density_path)\n"
   ]
  },
  {
   "cell_type": "code",
   "execution_count": 4,
   "metadata": {},
   "outputs": [],
   "source": [
    "\n",
    "def find_closest_element(y: float, arr: np.ndarray):\n",
    "    index = np.searchsorted(arr,y)\n",
    "    if (index >= 1) and index < arr.shape[0]:\n",
    "        res = [arr[index - 1], arr[index]]\n",
    "    elif index == arr.shape[0]:\n",
    "        return np.array(index -1)\n",
    "    else:\n",
    "        return np.array(index)\n",
    "    \n",
    "    if res[0] == res[1]:\n",
    "        return np.array(index - 1)\n",
    "    else:\n",
    "        diff_pre = np.abs(y-res[0])\n",
    "        diff_aft = np.abs(y-res[1])\n",
    "        if diff_pre == diff_aft:\n",
    "            return np.array(index - 1, index), \n",
    "        else:\n",
    "            return index - 1 if diff_pre < diff_aft else index\n",
    "        \n",
    "def Fy(y, density, density_type = 'fast_kde' ):\n",
    "    integral = density.loc[find_closest_element(y, density['axes']),'cdf']\n",
    "    return(integral)   "
   ]
  },
  {
   "cell_type": "code",
   "execution_count": 5,
   "metadata": {},
   "outputs": [],
   "source": [
    "def imgs_input_fn(filenames, density, perform_shuffle = True, repeat_count = 1, batch_size = 300): \n",
    "    \n",
    "    # reads in single training example and returns it in a format that the estimator can\n",
    "    # use\n",
    "    def _parse_function(proto):\n",
    "        # define your tfrecord again. Remember that you saved your image as a string.\n",
    "        keys_to_features = {'image': tf.io.FixedLenFeature([], tf.string),\n",
    "                            'label': tf.io.FixedLenFeature([], tf.float32),\n",
    "                            'rows': tf.io.FixedLenFeature([], tf.int64),\n",
    "                            'cols': tf.io.FixedLenFeature([], tf.int64),\n",
    "                            'depth': tf.io.FixedLenFeature([], tf.int64)\n",
    "                            ,'tr_label': tf.io.FixedLenFeature([], tf.float32),\n",
    "                           }\n",
    "\n",
    "        # Load one example\n",
    "        parsed_example = tf.io.parse_single_example(proto, keys_to_features)\n",
    "\n",
    "        image_shape = tf.stack([131 , 174, 3])\n",
    "        image_raw = parsed_example['image']\n",
    "\n",
    "        label = tf.cast(parsed_example['label'], tf.float32)\n",
    "        tr_label = tf.cast(parsed_example['tr_label'], tf.float32)\n",
    "        image = tf.io.decode_raw(image_raw, tf.uint8)\n",
    "        image = tf.cast(image, tf.float32)\n",
    "\n",
    "        image = tf.reshape(image, image_shape)\n",
    "        image = tf.image.resize(image[33:99,37:137, :], [66,200])\n",
    "        image =  image\n",
    "\n",
    "        return {'image':image}, label, tr_label\n",
    "    \n",
    "    dataset = tf.data.TFRecordDataset(filenames = filenames)\n",
    "    dataset = dataset.map(_parse_function)\n",
    "    if perform_shuffle:\n",
    "        # Randomizes input using a window of 256 elements (read into memory)\n",
    "        dataset = dataset.shuffle(buffer_size=256)\n",
    "    dataset = dataset.repeat(repeat_count)  # Repeats dataset this # times\n",
    "    dataset = dataset.batch(batch_size)  # Batch size to use\n",
    "    iterator = tf.compat.v1.data.make_one_shot_iterator(dataset)\n",
    "    batch_features, batch_labels, batch_tr_labels = iterator.get_next()\n",
    "    \n",
    "    return batch_features, batch_labels, batch_tr_labels"
   ]
  },
  {
   "cell_type": "code",
   "execution_count": 11,
   "metadata": {},
   "outputs": [],
   "source": [
    "images = []\n",
    "labels = []\n",
    "tr_labels = []\n",
    "for i in range(0,1):\n",
    "    image, label, tr_label = imgs_input_fn(shard_path, density)\n",
    "    images.append(image)\n",
    "    labels.append(label)\n",
    "    tr_labels.append(tr_label)\n"
   ]
  },
  {
   "cell_type": "code",
   "execution_count": null,
   "metadata": {},
   "outputs": [],
   "source": []
  },
  {
   "cell_type": "code",
   "execution_count": null,
   "metadata": {},
   "outputs": [],
   "source": [
    "def imgs_input_fn_val(filenames, density, perform_shuffle = True, repeat_count = 1, batch_size = 300): \n",
    "    \n",
    "    # reads in single training example and returns it in a format that the estimator can\n",
    "    # use\n",
    "    def _parse_function(proto):\n",
    "        # define your tfrecord again. Remember that you saved your image as a string.\n",
    "        keys_to_features = {'image': tf.io.FixedLenFeature([], tf.string),\n",
    "                            'label': tf.io.FixedLenFeature([], tf.float32),\n",
    "                            'rows': tf.io.FixedLenFeature([], tf.int64),\n",
    "                            'cols': tf.io.FixedLenFeature([], tf.int64),\n",
    "                            'depth': tf.io.FixedLenFeature([], tf.int64)\n",
    "                            #,'tr_label': tf.io.FixedLenFeature([], tf.float32),\n",
    "                           }\n",
    "\n",
    "        # Load one example\n",
    "        parsed_example = tf.io.parse_single_example(proto, keys_to_features)\n",
    "\n",
    "        image_shape = tf.stack([131 , 174, 3])\n",
    "        image_raw = parsed_example['image']\n",
    "\n",
    "        label = tf.cast(parsed_example['label'], tf.float32)\n",
    "        image = tf.io.decode_raw(image_raw, tf.uint8)\n",
    "        image = tf.cast(image, tf.float32)\n",
    "\n",
    "        image = tf.reshape(image, image_shape)\n",
    "        image = tf.image.resize(image[33:99,37:137, :], [66,200])\n",
    "        image =  image\n",
    "\n",
    "        return {'image':image}, label\n",
    "    \n",
    "    dataset = tf.data.TFRecordDataset(filenames = filenames)\n",
    "    dataset = dataset.map(_parse_function)\n",
    "    if perform_shuffle:\n",
    "        # Randomizes input using a window of 256 elements (read into memory)\n",
    "        dataset = dataset.shuffle(buffer_size=256)\n",
    "    dataset = dataset.repeat(repeat_count)  # Repeats dataset this # times\n",
    "    dataset = dataset.batch(batch_size)  # Batch size to use\n",
    "    iterator = tf.compat.v1.data.make_one_shot_iterator(dataset)\n",
    "    batch_features, batch_labels = iterator.get_next()\n",
    "    \n",
    "    return batch_features, batch_labels"
   ]
  },
  {
   "cell_type": "code",
   "execution_count": null,
   "metadata": {},
   "outputs": [],
   "source": [
    "images = []\n",
    "labels = []\n",
    "for i in range(0,1):\n",
    "    image, label = imgs_input_fn_val(shard_path, density)\n",
    "    images.append(image)\n",
    "    labels.append(label)"
   ]
  },
  {
   "cell_type": "code",
   "execution_count": null,
   "metadata": {},
   "outputs": [],
   "source": []
  },
  {
   "cell_type": "code",
   "execution_count": 12,
   "metadata": {},
   "outputs": [],
   "source": [
    "images = np.array(images[0]['image'])\n",
    "labels = np.array(labels[0])\n",
    "tr_labels = np.array(tr_labels[0])"
   ]
  },
  {
   "cell_type": "code",
   "execution_count": 13,
   "metadata": {},
   "outputs": [
    {
     "data": {
      "text/plain": [
       "array([48.7, 48.7], dtype=float32)"
      ]
     },
     "execution_count": 13,
     "metadata": {},
     "output_type": "execute_result"
    }
   ],
   "source": [
    "labels[labels == max(labels)]"
   ]
  },
  {
   "cell_type": "code",
   "execution_count": 14,
   "metadata": {},
   "outputs": [
    {
     "name": "stderr",
     "output_type": "stream",
     "text": [
      "Clipping input data to the valid range for imshow with RGB data ([0..1] for floats or [0..255] for integers).\n"
     ]
    },
    {
     "data": {
      "text/plain": [
       "<matplotlib.image.AxesImage at 0x7f5af4217d30>"
      ]
     },
     "execution_count": 14,
     "metadata": {},
     "output_type": "execute_result"
    },
    {
     "data": {
      "image/png": "[encoded data removed]",
      "text/plain": [
       "<Figure size 432x288 with 1 Axes>"
      ]
     },
     "metadata": {
      "needs_background": "light"
     },
     "output_type": "display_data"
    }
   ],
   "source": [
    "plt.imshow(images[0].reshape(66,200,3)/169)"
   ]
  },
  {
   "cell_type": "code",
   "execution_count": null,
   "metadata": {},
   "outputs": [],
   "source": [
    "tr_labels_t = norm.cdf(tr_labels).reshape(tr_labels.shape[0],)\n",
    "tr_labels_t = np.array([density.loc[find_closest_element(y_i,density['cdf']),'axes'] \n",
    "                                 for y_i in tr_labels_t])"
   ]
  },
  {
   "cell_type": "code",
   "execution_count": null,
   "metadata": {},
   "outputs": [],
   "source": [
    "np.max(abs(labels - tr_labels_t))"
   ]
  },
  {
   "cell_type": "code",
   "execution_count": null,
   "metadata": {},
   "outputs": [],
   "source": [
    "i = 10\n",
    "plt.imshow(images[i]/160)\n",
    "print('associated angle in degrees: ' + str(labels[i]))\n",
    "print('transformed angle: ' + str(tr_labels[i]))\n",
    "print('transformed back angle: ' + str(tr_labels_t[i]))"
   ]
  },
  {
   "cell_type": "code",
   "execution_count": null,
   "metadata": {},
   "outputs": [],
   "source": [
    "max(images[199].reshape(images[199].shape[0]*images[199].shape[1]*images[199].shape[2]))"
   ]
  },
  {
   "cell_type": "code",
   "execution_count": 30,
   "metadata": {},
   "outputs": [],
   "source": [
    "import pandas as pd\n",
    "import matplotlib.pyplot as plt\n",
    "x = pd.read_csv('yaws.csv', header = None)[35000:]\n",
    "#x2 = pd.read_csv('trainshardyaws_unaugmented.csv', header = None)"
   ]
  },
  {
   "cell_type": "code",
   "execution_count": 41,
   "metadata": {},
   "outputs": [],
   "source": [
    "x = pd.read_csv('../data/commaai/test2/testshardyaws.csv', header = None)"
   ]
  },
  {
   "cell_type": "code",
   "execution_count": 42,
   "metadata": {},
   "outputs": [
    {
     "data": {
      "text/plain": [
       "(2798,)"
      ]
     },
     "execution_count": 42,
     "metadata": {},
     "output_type": "execute_result"
    }
   ],
   "source": [
    "x[0][abs(x[0]) > 10].shape"
   ]
  },
  {
   "cell_type": "code",
   "execution_count": 43,
   "metadata": {},
   "outputs": [
    {
     "data": {
      "text/plain": [
       "(1360,)"
      ]
     },
     "execution_count": 43,
     "metadata": {},
     "output_type": "execute_result"
    }
   ],
   "source": [
    "x[0][abs(x[0]) > 20].shape"
   ]
  },
  {
   "cell_type": "code",
   "execution_count": 44,
   "metadata": {},
   "outputs": [
    {
     "data": {
      "text/plain": [
       "(609,)"
      ]
     },
     "execution_count": 44,
     "metadata": {},
     "output_type": "execute_result"
    }
   ],
   "source": [
    "x[0][abs(x[0]) > 60].shape"
   ]
  },
  {
   "cell_type": "code",
   "execution_count": 45,
   "metadata": {},
   "outputs": [
    {
     "data": {
      "text/plain": [
       "(array([2.0000e+00, 8.0000e+00, 7.0000e+00, 5.0000e+00, 4.0000e+00,\n",
       "        7.0000e+00, 4.0000e+00, 4.0000e+00, 3.0000e+00, 2.0000e+00,\n",
       "        8.0000e+00, 1.3000e+01, 5.0000e+00, 5.0000e+00, 1.0000e+01,\n",
       "        4.0000e+00, 1.2000e+01, 6.0000e+00, 6.0000e+00, 7.0000e+00,\n",
       "        9.0000e+00, 1.3000e+01, 7.0000e+00, 1.0000e+01, 2.1000e+01,\n",
       "        3.2000e+01, 1.0000e+01, 2.1000e+01, 3.3000e+01, 8.0000e+00,\n",
       "        1.7000e+01, 2.3000e+01, 2.5000e+01, 1.5000e+01, 1.8000e+01,\n",
       "        5.3000e+01, 2.8000e+01, 3.0000e+01, 3.9000e+01, 2.8000e+01,\n",
       "        4.1000e+01, 5.5000e+01, 4.3000e+01, 5.2000e+01, 1.3700e+02,\n",
       "        2.1000e+02, 4.4700e+02, 1.7860e+03, 1.3961e+04, 5.0643e+04,\n",
       "        3.8358e+04, 9.7200e+03, 7.7000e+02, 2.8400e+02, 2.0400e+02,\n",
       "        6.4000e+01, 3.5000e+01, 1.5400e+02, 3.3000e+01, 1.7000e+01,\n",
       "        1.0000e+01, 1.4000e+01, 1.0000e+01, 9.0000e+00, 1.1000e+01,\n",
       "        9.0000e+00, 1.0000e+01, 1.1000e+01, 1.2000e+01, 9.0000e+00,\n",
       "        1.1000e+01, 5.8000e+01, 9.0000e+00, 1.1000e+01, 6.0000e+00,\n",
       "        4.0000e+00, 5.0000e+00, 6.0000e+00, 1.1000e+01, 1.3000e+01,\n",
       "        1.0000e+01, 6.0000e+00, 7.0000e+00, 6.0000e+00, 3.0000e+00,\n",
       "        4.0000e+00, 4.0000e+00, 5.0000e+00, 4.0000e+00, 5.0000e+00,\n",
       "        2.0000e+00, 3.0000e+00, 3.0000e+00, 5.0000e+00, 6.0000e+00,\n",
       "        2.0000e+00, 0.0000e+00, 2.0000e+00, 4.0000e+00, 4.0000e+00]),\n",
       " array([-179.   , -175.415, -171.83 , -168.245, -164.66 , -161.075,\n",
       "        -157.49 , -153.905, -150.32 , -146.735, -143.15 , -139.565,\n",
       "        -135.98 , -132.395, -128.81 , -125.225, -121.64 , -118.055,\n",
       "        -114.47 , -110.885, -107.3  , -103.715, -100.13 ,  -96.545,\n",
       "         -92.96 ,  -89.375,  -85.79 ,  -82.205,  -78.62 ,  -75.035,\n",
       "         -71.45 ,  -67.865,  -64.28 ,  -60.695,  -57.11 ,  -53.525,\n",
       "         -49.94 ,  -46.355,  -42.77 ,  -39.185,  -35.6  ,  -32.015,\n",
       "         -28.43 ,  -24.845,  -21.26 ,  -17.675,  -14.09 ,  -10.505,\n",
       "          -6.92 ,   -3.335,    0.25 ,    3.835,    7.42 ,   11.005,\n",
       "          14.59 ,   18.175,   21.76 ,   25.345,   28.93 ,   32.515,\n",
       "          36.1  ,   39.685,   43.27 ,   46.855,   50.44 ,   54.025,\n",
       "          57.61 ,   61.195,   64.78 ,   68.365,   71.95 ,   75.535,\n",
       "          79.12 ,   82.705,   86.29 ,   89.875,   93.46 ,   97.045,\n",
       "         100.63 ,  104.215,  107.8  ,  111.385,  114.97 ,  118.555,\n",
       "         122.14 ,  125.725,  129.31 ,  132.895,  136.48 ,  140.065,\n",
       "         143.65 ,  147.235,  150.82 ,  154.405,  157.99 ,  161.575,\n",
       "         165.16 ,  168.745,  172.33 ,  175.915,  179.5  ]),\n",
       " <a list of 100 Patch objects>)"
      ]
     },
     "execution_count": 45,
     "metadata": {},
     "output_type": "execute_result"
    },
    {
     "data": {
      "image/png": "[encoded data removed]",
      "text/plain": [
       "<Figure size 432x288 with 1 Axes>"
      ]
     },
     "metadata": {
      "needs_background": "light"
     },
     "output_type": "display_data"
    }
   ],
   "source": [
    "plt.hist(x[0], bins = 100)"
   ]
  },
  {
   "cell_type": "code",
   "execution_count": null,
   "metadata": {},
   "outputs": [],
   "source": []
  }
 ],
 "metadata": {
  "kernelspec": {
   "display_name": "Python 3",
   "language": "python",
   "name": "python3"
  },
  "language_info": {
   "codemirror_mode": {
    "name": "ipython",
    "version": 3
   },
   "file_extension": ".py",
   "mimetype": "text/x-python",
   "name": "python",
   "nbconvert_exporter": "python",
   "pygments_lexer": "ipython3",
   "version": "3.8.5"
  }
 },
 "nbformat": 4,
 "nbformat_minor": 4
}
