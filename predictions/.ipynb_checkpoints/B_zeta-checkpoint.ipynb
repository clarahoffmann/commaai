{
 "cells": [
  {
   "cell_type": "code",
   "execution_count": 2,
   "metadata": {},
   "outputs": [],
   "source": [
    "import numpy as np"
   ]
  },
  {
   "cell_type": "code",
   "execution_count": null,
   "metadata": {},
   "outputs": [],
   "source": []
  },
  {
   "cell_type": "code",
   "execution_count": null,
   "metadata": {},
   "outputs": [],
   "source": [
    "def imgs_input_fn(filenames, perform_shuffle = True, repeat_count = EPOCHS, batch_size = 120): \n",
    "    \n",
    "    # reads in single training example and returns it in a format that the estimator can\n",
    "    # use\n",
    "    def _parse_function(proto):\n",
    "        # define your tfrecord again. Remember that you saved your image as a string.\n",
    "        keys_to_features = {'image': tf.io.FixedLenFeature([], tf.string),\n",
    "                            \"label\": tf.io.FixedLenFeature([], tf.float32),\n",
    "                            'rows': tf.io.FixedLenFeature([], tf.int64),\n",
    "                            'cols': tf.io.FixedLenFeature([], tf.int64),\n",
    "                            'depth': tf.io.FixedLenFeature([], tf.int64),\n",
    "                            \"tr_label\": tf.io.FixedLenFeature([], tf.float32),\n",
    "                           }\n",
    "\n",
    "        # Load one example\n",
    "        parsed_example = tf.io.parse_single_example(proto, keys_to_features)\n",
    "\n",
    "        image_shape = tf.stack([131 , 174, 3])\n",
    "        image_raw = parsed_example['image']\n",
    "\n",
    "        label = tf.cast(parsed_example['label'], tf.float32)\n",
    "        #tr_label = tf.cast(parsed_example['tr_label'], tf.float32)\n",
    "        image = tf.io.decode_raw(image_raw, tf.uint8)\n",
    "        image = tf.cast(image, tf.float32)\n",
    "\n",
    "        image = tf.reshape(image, image_shape)\n",
    "        image = tf.image.resize(image[33:99,37:137, :], [66,200])\n",
    "        image = image/255\n",
    "        \n",
    "        return {'image':image}, label\n",
    "    \n",
    "    dataset = tf.data.TFRecordDataset(filenames = filenames)\n",
    "    dataset = dataset.map(_parse_function)\n",
    "    if perform_shuffle:\n",
    "        # Randomizes input using a window of 256 elements (read into memory)\n",
    "        dataset = dataset.shuffle(buffer_size=256)\n",
    "    dataset = dataset.repeat(repeat_count)  # Repeats dataset this # times\n",
    "    dataset = dataset.batch(batch_size)  # Batch size to use\n",
    "    iterator = tf.compat.v1.data.make_one_shot_iterator(dataset)\n",
    "    batch_features, batch_labels = iterator.get_next()\n",
    "    \n",
    "    return batch_features, batch_labels"
   ]
  },
  {
   "cell_type": "code",
   "execution_count": null,
   "metadata": {},
   "outputs": [],
   "source": []
  }
 ],
 "metadata": {
  "kernelspec": {
   "display_name": "Python 3",
   "language": "python",
   "name": "python3"
  },
  "language_info": {
   "codemirror_mode": {
    "name": "ipython",
    "version": 3
   },
   "file_extension": ".py",
   "mimetype": "text/x-python",
   "name": "python",
   "nbconvert_exporter": "python",
   "pygments_lexer": "ipython3",
   "version": "3.8.2"
  }
 },
 "nbformat": 4,
 "nbformat_minor": 4
}
