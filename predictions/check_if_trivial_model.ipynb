{
 "cells": [
  {
   "cell_type": "code",
   "execution_count": 2,
   "metadata": {},
   "outputs": [],
   "source": [
    "# load packages\n",
    "import os\n",
    "import glob\n",
    "import pandas as pd\n",
    "import tensorflow as tf\n",
    "import numpy as np\n",
    "from tensorflow import keras\n",
    "from keras import backend\n",
    "from keras.layers import Dense, Conv2D, MaxPooling2D, Dropout, Flatten, BatchNormalization\n",
    "import matplotlib.pyplot as plt\n",
    "from tqdm import tqdm\n",
    "from sklearn.metrics import mean_squared_error\n",
    "from math import sqrt"
   ]
  },
  {
   "cell_type": "code",
   "execution_count": null,
   "metadata": {},
   "outputs": [],
   "source": [
    "# path of model checkpoints\n",
    "checkpoint_path = '../../data/models/20200928_nvidia_ai/'\n",
    "extracted_coefficients_directory = '../../data/models/extracted_coefficients/20200928_nvidia_ai'\n",
    "shard_path = '../../data/commaai/test2/'\n",
    "shard_files = glob.glob(os.path.join(shard_path, \"*.tfrecords\")) "
   ]
  },
  {
   "cell_type": "code",
   "execution_count": null,
   "metadata": {},
   "outputs": [],
   "source": [
    "shard_files"
   ]
  },
  {
   "cell_type": "code",
   "execution_count": null,
   "metadata": {},
   "outputs": [],
   "source": [
    "# get number of training samples\n",
    "test_angles_path = '../../data/commaai/test2/testshardyaws.csv'\n",
    "test_angle = pd.read_csv(test_angles_path, header = None)"
   ]
  },
  {
   "cell_type": "code",
   "execution_count": 8,
   "metadata": {},
   "outputs": [],
   "source": [
    "test = [1,2,3,4]"
   ]
  },
  {
   "cell_type": "code",
   "execution_count": 9,
   "metadata": {},
   "outputs": [],
   "source": [
    "test = test[0:1]"
   ]
  },
  {
   "cell_type": "code",
   "execution_count": 10,
   "metadata": {},
   "outputs": [
    {
     "name": "stdout",
     "output_type": "stream",
     "text": [
      "1\n"
     ]
    }
   ],
   "source": [
    "for i in test:\n",
    "    print(i)"
   ]
  },
  {
   "cell_type": "code",
   "execution_count": null,
   "metadata": {},
   "outputs": [],
   "source": [
    "# benchmark: rmse only zero predictions\n",
    "rms = sqrt(mean_squared_error(test_angle[0], np.repeat(0, len(test_angle))))\n",
    "print('rmse of benchmark model (only drive straight): ' + str(rms))\n",
    "accuracy = np.mean(abs(test_angle[0]) < 6)\n",
    "print('accuracy of benchmark model (only drive straight): ' + str(accuracy))"
   ]
  },
  {
   "cell_type": "code",
   "execution_count": null,
   "metadata": {},
   "outputs": [],
   "source": [
    "n_test = test_angle.shape[0]\n",
    "n_test"
   ]
  },
  {
   "cell_type": "code",
   "execution_count": null,
   "metadata": {},
   "outputs": [],
   "source": [
    "# build model\n",
    "Input = tf.keras.layers.Input(shape=(66, 200, 3,), name='image')\n",
    "x = Conv2D(24, kernel_size=(5, 5), activation='relu', strides=(2, 2))(Input)\n",
    "x = BatchNormalization()(x)\n",
    "x = Conv2D(36, kernel_size=(5, 5), activation='relu', strides=(2, 2))(x)\n",
    "x = BatchNormalization()(x)\n",
    "x = Conv2D(48, kernel_size=(5, 5), activation='relu', strides=(2, 2))(x)\n",
    "x = BatchNormalization()(x)\n",
    "x = Conv2D(64, kernel_size=(3, 3), activation='relu')(x)\n",
    "x = BatchNormalization()(x)\n",
    "x = Conv2D(64, kernel_size=(3, 3), activation='relu')(x)\n",
    "#x = BatchNormalization()(x)\n",
    "x = Flatten()(x)\n",
    "x = Dense(1164)(x)\n",
    "x = Dropout(0.5)(x)\n",
    "x = Dense(100)(x)\n",
    "x = Dropout(0.2)(x)\n",
    "x = Dense(50)(x) \n",
    "x = Dense(10)(x)\n",
    "Output = Dense(1, name = 'output_layer')(x)\n",
    "\n",
    "keras_model = tf.keras.models.Model(\n",
    "      inputs = [Input], outputs = [Output])\n",
    "def rmse(y_true, y_pred):\n",
    "\treturn backend.sqrt(backend.mean(backend.square(y_pred - y_true), axis=-1))\n",
    "\n",
    "adam_optimizer = keras.optimizers.Adam(learning_rate=0.0005)\n",
    "keras_model.load_weights(tf.train.latest_checkpoint(checkpoint_path))\n",
    "# old\n",
    "#keras.optimizers.Adadelta(learning_rate = 0.001, rho = 0.95, epsilon = 1e-07, name = 'Adadelta')\n",
    "keras_model.compile(\n",
    "    loss = rmse,\n",
    "    optimizer = adam_optimizer,\n",
    "    metrics=[rmse, 'mse', 'mae'])\n",
    "\n",
    "\n",
    "keras_estimator = tf.keras.estimator.model_to_estimator(\n",
    "      keras_model=keras_model, model_dir = checkpoint_path)\n",
    "\n",
    "# to inspect weights:\n",
    "#i = 0 \n",
    "#for layer in keras_model.layers: \n",
    "#    i += 1\n",
    "#    if i == 16:\n",
    "#        print(layer.get_config(), layer.get_weights())\n",
    "\n",
    "# get list of all variables in checkpoint file\n",
    "# tf.train.list_variables(tf.train.latest_checkpoint(checkpoint_path))"
   ]
  },
  {
   "cell_type": "code",
   "execution_count": null,
   "metadata": {},
   "outputs": [],
   "source": [
    "def imgs_input_fn_val(filenames, perform_shuffle = False, repeat_count = 1, batch_size = 5000): \n",
    "    \n",
    "    # reads in single training example and returns it in a format that the estimator can\n",
    "    # use\n",
    "    def _parse_function(proto):\n",
    "        # define your tfrecord again. Remember that you saved your image as a string.\n",
    "        keys_to_features = {'image': tf.io.FixedLenFeature([], tf.string),\n",
    "                            \"label\": tf.io.FixedLenFeature([], tf.float32),\n",
    "                            'rows': tf.io.FixedLenFeature([], tf.int64),\n",
    "                            'cols': tf.io.FixedLenFeature([], tf.int64),\n",
    "                            'depth': tf.io.FixedLenFeature([], tf.int64)\n",
    "                           }\n",
    "\n",
    "        # Load one example\n",
    "        parsed_example = tf.io.parse_single_example(proto, keys_to_features)\n",
    "\n",
    "        image_shape = tf.stack([131 , 174, 3])\n",
    "        image_raw = parsed_example['image']\n",
    "\n",
    "        label = tf.cast(parsed_example['label'], tf.float32)\n",
    "        image = tf.io.decode_raw(image_raw, tf.uint8)\n",
    "        image = tf.cast(image, tf.float32)\n",
    "\n",
    "        image = tf.reshape(image, image_shape)\n",
    "        #image = tf.image.resize(image[33:99,37:137, :], [66,200])\n",
    "        image = image/169 \n",
    "\n",
    "        return {'image':image}, label\n",
    "    \n",
    "    dataset = tf.data.TFRecordDataset(filenames = filenames)\n",
    "    dataset = dataset.map(_parse_function)\n",
    "    if perform_shuffle:\n",
    "        # Randomizes input using a window of 256 elements (read into memory)\n",
    "        dataset = dataset.shuffle(buffer_size=256)\n",
    "    dataset = dataset.repeat(repeat_count)  # Repeats dataset this # times\n",
    "    dataset = dataset.batch(batch_size)  # Batch size to use\n",
    "    iterator = tf.compat.v1.data.make_one_shot_iterator(dataset)\n",
    "    batch_features, batch_labels = iterator.get_next()\n",
    "    \n",
    "    return batch_features, batch_labels"
   ]
  },
  {
   "cell_type": "code",
   "execution_count": null,
   "metadata": {},
   "outputs": [],
   "source": [
    "images = []\n",
    "labels = []\n",
    "for i in range(0,1):\n",
    "    image, label = imgs_input_fn_val(shard_files)\n",
    "    image = np.array(image['image'])\n",
    "    images.append(image)\n",
    "    labels.append(np.array(label))\n",
    "images = np.array(images)\n",
    "labels = np.array(labels)"
   ]
  },
  {
   "cell_type": "code",
   "execution_count": null,
   "metadata": {},
   "outputs": [],
   "source": [
    "plt.imshow(images[0,1,:,:,:])"
   ]
  },
  {
   "cell_type": "code",
   "execution_count": null,
   "metadata": {},
   "outputs": [],
   "source": [
    "images.shape"
   ]
  },
  {
   "cell_type": "code",
   "execution_count": null,
   "metadata": {},
   "outputs": [],
   "source": [
    "pred = []\n",
    "for i in tqdm(range(0, images.shape[1])):\n",
    "    img = images[0,i,:,:,:].reshape(1,66,200, 3)\n",
    "    single_pred = float(keras_model.predict(img))\n",
    "    pred.append(single_pred)"
   ]
  },
  {
   "cell_type": "code",
   "execution_count": null,
   "metadata": {},
   "outputs": [],
   "source": [
    "pred = np.array(pred)"
   ]
  },
  {
   "cell_type": "code",
   "execution_count": null,
   "metadata": {},
   "outputs": [],
   "source": [
    "plt.scatter(labels, pred, alpha = 0.05)"
   ]
  },
  {
   "cell_type": "code",
   "execution_count": null,
   "metadata": {},
   "outputs": [],
   "source": [
    "labels = labels.reshape(5000)"
   ]
  },
  {
   "cell_type": "code",
   "execution_count": null,
   "metadata": {},
   "outputs": [],
   "source": [
    "# benchmark: rmse only zero predictions\n",
    "rms = sqrt(mean_squared_error(labels, np.repeat(0,len(labels) )))\n",
    "print('rmse of benchmark model (only drive straight): ' + str(rms))\n",
    "accuracy = np.mean(abs(labels - np.repeat(0,len(labels) )) < 10)\n",
    "print('accuracy of benchmark model (only drive straight): ' + str(accuracy))\n",
    "mse = mean_squared_error(labels, np.repeat(0,len(labels)))\n",
    "print('mse of benchmark model (only drive straight): ' + str(mse))"
   ]
  },
  {
   "cell_type": "code",
   "execution_count": null,
   "metadata": {},
   "outputs": [],
   "source": [
    "# benchmark: rmse only zero predictions\n",
    "rms = sqrt(mean_squared_error(labels, pred))\n",
    "print('rmse of pilotnet model: ' + str(rms))\n",
    "accuracy = np.mean(abs(labels - pred) < 10)\n",
    "print('accuracy of pilotnet model: ' + str(accuracy))\n",
    "mse = mean_squared_error(labels, pred)\n",
    "print('mse of pilotnet model: ' + str(mse))"
   ]
  },
  {
   "cell_type": "code",
   "execution_count": null,
   "metadata": {},
   "outputs": [],
   "source": [
    "labels.shape"
   ]
  },
  {
   "cell_type": "markdown",
   "metadata": {},
   "source": [
    "## Training Performance"
   ]
  },
  {
   "cell_type": "code",
   "execution_count": null,
   "metadata": {},
   "outputs": [],
   "source": [
    "shard_path_train = '../../data/commaai/train_files_from_bag_test/'\n",
    "shard_files_train = glob.glob(os.path.join(shard_path_train, \"*.tfrecords\")) "
   ]
  },
  {
   "cell_type": "code",
   "execution_count": null,
   "metadata": {},
   "outputs": [],
   "source": [
    "images = []\n",
    "labels = []\n",
    "for i in range(0,1):\n",
    "    image, label = imgs_input_fn_val(shard_files_train)\n",
    "    image = np.array(image['image'])\n",
    "    images.append(image)\n",
    "    labels.append(np.array(label))\n",
    "images = np.array(images)\n",
    "labels = np.array(labels)"
   ]
  },
  {
   "cell_type": "code",
   "execution_count": null,
   "metadata": {},
   "outputs": [],
   "source": [
    "pred = []\n",
    "for i in tqdm(range(0, images.shape[1])):\n",
    "    img = images[0,i,:,:,:].reshape(1,66,200, 3)\n",
    "    single_pred = float(keras_model.predict(img))\n",
    "    pred.append(single_pred)\n",
    "pred = np.array(pred)"
   ]
  },
  {
   "cell_type": "code",
   "execution_count": null,
   "metadata": {},
   "outputs": [],
   "source": [
    "plt.scatter(labels, pred, alpha = 0.05)"
   ]
  },
  {
   "cell_type": "code",
   "execution_count": null,
   "metadata": {},
   "outputs": [],
   "source": [
    "plt.imshow(images[(labels[0] == max(labels[0])),:,:,:].reshape(66,200,3))"
   ]
  },
  {
   "cell_type": "code",
   "execution_count": null,
   "metadata": {},
   "outputs": [],
   "source": [
    "images.shape"
   ]
  },
  {
   "cell_type": "code",
   "execution_count": null,
   "metadata": {},
   "outputs": [],
   "source": [
    "(labels[0] == max(labels[0]))"
   ]
  },
  {
   "cell_type": "code",
   "execution_count": null,
   "metadata": {},
   "outputs": [],
   "source": [
    "from keras import models\n",
    "layer_outputs = [layer.output for layer in keras_model.layers[:12]] \n",
    "activation_model = models.Model(inputs=keras_model.input, outputs=layer_outputs) \n",
    "activation_model.compile(\n",
    "    loss = 'mse',\n",
    "    optimizer=keras.optimizers.Adadelta(learning_rate=0.0005, rho=0.95, epsilon=1e-07, name='Adadelta'),\n",
    "    metrics=['mse', 'mae'])"
   ]
  },
  {
   "cell_type": "code",
   "execution_count": null,
   "metadata": {},
   "outputs": [],
   "source": [
    "images = images.reshape(5000,66,200,3)"
   ]
  },
  {
   "cell_type": "code",
   "execution_count": null,
   "metadata": {},
   "outputs": [],
   "source": [
    "pred_cnn = activation_model.predict(images[150].reshape(1,66,200,3))"
   ]
  },
  {
   "cell_type": "code",
   "execution_count": null,
   "metadata": {},
   "outputs": [],
   "source": [
    "i = 150\n",
    "plt.imshow(images[i])\n",
    "print('steering angle: ' + str(labels[0][i]))"
   ]
  },
  {
   "cell_type": "code",
   "execution_count": null,
   "metadata": {},
   "outputs": [],
   "source": [
    "pred_cnn[1].shape"
   ]
  },
  {
   "cell_type": "code",
   "execution_count": null,
   "metadata": {},
   "outputs": [],
   "source": [
    "test = pred_cnn[1][:,:,:,11].reshape(31,98)\n",
    "test2 = pred_cnn[1][:,:,:,12].reshape(31,98)"
   ]
  },
  {
   "cell_type": "code",
   "execution_count": null,
   "metadata": {},
   "outputs": [],
   "source": [
    "for i in range(0,24):\n",
    "    f1 = plt.figure(1)\n",
    "    plt.imshow(test)\n",
    "    f2 = plt.figure(i)\n",
    "    plt.imshow(test2)\n",
    "\n",
    "plt.show()"
   ]
  },
  {
   "cell_type": "code",
   "execution_count": null,
   "metadata": {},
   "outputs": [],
   "source": []
  }
 ],
 "metadata": {
  "kernelspec": {
   "display_name": "Python 3",
   "language": "python",
   "name": "python3"
  },
  "language_info": {
   "codemirror_mode": {
    "name": "ipython",
    "version": 3
   },
   "file_extension": ".py",
   "mimetype": "text/x-python",
   "name": "python",
   "nbconvert_exporter": "python",
   "pygments_lexer": "ipython3",
   "version": "3.8.5"
  }
 },
 "nbformat": 4,
 "nbformat_minor": 4
}
