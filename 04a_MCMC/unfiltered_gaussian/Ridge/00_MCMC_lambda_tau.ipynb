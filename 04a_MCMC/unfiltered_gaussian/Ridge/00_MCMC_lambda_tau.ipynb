{
 "cells": [
  {
   "cell_type": "code",
   "execution_count": 1,
   "metadata": {},
   "outputs": [],
   "source": [
    "import numpy as np\n",
    "import random\n",
    "import math\n",
    "#from scipy.stats import multivariate_normal, norm\n",
    "#import derivatives as dev\n",
    "from tqdm import tqdm\n",
    "import matplotlib.pyplot as plt\n",
    "#import lambda_sampler as ls\n",
    "#import tau_sampler as ts\n",
    "#from scipy.stats import halfcauchy"
   ]
  },
  {
   "cell_type": "code",
   "execution_count": 2,
   "metadata": {},
   "outputs": [],
   "source": [
    "extracted_coefficients_directory = '../../../../data/commaai/extracted_coefficients/20201027_filtered_gaussian_resampled/'\n",
    "B_zeta_path = str(extracted_coefficients_directory + 'Bzeta/B_zeta.npy')\n",
    "beta_path = str(extracted_coefficients_directory + 'beta/beta.csv')\n",
    "z_path = str(extracted_coefficients_directory + 'Bzeta/tr_labels.npy')\n",
    "beta = np.genfromtxt(beta_path, delimiter=',')\n",
    "B_zeta = np.load(B_zeta_path)\n",
    "B_zeta = B_zeta.reshape(B_zeta.shape[0], beta.shape[0])\n",
    "z = np.load(z_path)#[0:B_zeta.shape[0]]\n",
    "n = B_zeta.shape[0]\n",
    "p = B_zeta.shape[1]\n",
    "\n",
    "BoB = B_zeta**2\n",
    "tau_start = 0.001\n",
    "beta = np.zeros(p)\n",
    "theta=2.5\n",
    "J = [5000,10000]\n",
    "tBB = B_zeta.T.dot(B_zeta)\n",
    "#dS2_old, ddS2_old, S2_old, S_old = dev.generate_dS2_ddS2_S2_S(Lambda_old, BoB)"
   ]
  },
  {
   "cell_type": "code",
   "execution_count": 3,
   "metadata": {},
   "outputs": [],
   "source": [
    "# initialize Lambda\n",
    "betaBt = beta.dot(B_zeta.T)"
   ]
  },
  {
   "cell_type": "code",
   "execution_count": 4,
   "metadata": {},
   "outputs": [],
   "source": [
    "W = np.array([B_zeta[i,:].dot(B_zeta[i,:]) for i in range(0, n)])"
   ]
  },
  {
   "cell_type": "code",
   "execution_count": 5,
   "metadata": {},
   "outputs": [],
   "source": [
    "def compdS(tau, W):\n",
    "    tildeW = tau*W\n",
    "    S2 = 1/(1+tildeW)\n",
    "    dS2 = -tildeW/((1+tildeW)**2)\n",
    "    ddS2 = -tildeW/((1+tildeW)**2) + 2*(tildeW**2)/((1+tildeW)**3)\n",
    "    \n",
    "    S = np.sqrt(S2)\n",
    "    return(S2, dS2, ddS2, S)\n",
    "\n",
    "def dlogFcu(u, B, S2, dS2, z, beta, theta, betaBt):\n",
    "    p = B.shape[1]\n",
    "    return( - 0.5*np.sum(dS2/S2) \n",
    "            - 0.5*np.sum((z**2)*(-dS2/(S2**2)))\n",
    "            + np.sum(betaBt*((-0.5*dS2/(S2**1.5))*z)) \n",
    "            - (0.5*p - 0.5)\n",
    "            + 0.5*(beta.dot(beta))/np.exp(u) \n",
    "            - 0.5*(np.exp(u)/theta)**0.5)\n",
    "\n",
    "def ddlogFcu(u, B, S2, dS2, ddS2, z, beta, theta, betaBt):\n",
    "    return( - 0.5*np.sum(ddS2/S2 - (dS2**2)/(S2**2)) \n",
    "           - 0.5*np.sum((z**2)*(2*(dS2**2)/(S2**3)\n",
    "           - ddS2/(S2**2)))\n",
    "           + np.sum(betaBt*(0.75*(dS2**2)/(S2**(2.5)) - 0.5*ddS2/(S2**1.5))*z)\n",
    "           - 0.5*(beta.dot(beta)/np.exp(u))  \n",
    "           - 0.25*(np.exp(u)/theta)**(0.5))\n",
    "\n",
    "def logFCu(u,B,S2,z,beta,theta, betaBt):\n",
    "    p = B.shape[1]\n",
    "    return(  - 0.5*np.sum(np.log(S2)) \n",
    "           - 0.5*np.sum(z**2/S2)\n",
    "           + np.sum(B.dot(beta)*z/np.sqrt(S2)) \n",
    "           - u*(0.5*p - 0.5) \n",
    "           - 0.5*(beta.dot(beta))/np.exp(u) \n",
    "           - (np.exp(u)/theta)**0.5)\n",
    "\n",
    "def genbeta(z,u,B,tBB,S):\n",
    "    p = tBB.shape[0]\n",
    "    Sigmabeta = np.linalg.inv(tBB + np.identity(p)/np.exp(u))\n",
    "    mubeta = Sigmabeta.dot(B_zeta.T).dot(S*z)\n",
    "    #Sigmabetainv = tBB + np.identity(p)/np.exp(u)\n",
    "    #L = np.linalg.cholesky(Sigmabetainv)\n",
    "    #v = L.T.dot(1/np.random.normal(0,1,p))\n",
    "    #eta = B_zeta.T.dot(z/np.sqrt(S2))\n",
    "    #w = L.dot(1/eta)\n",
    "    #mubeta = L.T.dot(1/w)\n",
    "    #beta = mubeta + v\n",
    "    beta = np.random.multivariate_normal(mubeta, Sigmabeta, 1).reshape(B.shape[1],)\n",
    "    return(beta)\n",
    "\n",
    "def gen_tau(tau_old,W,B,z,beta,theta, betaBt):\n",
    "    S2,dS2,ddS2,S = compdS(tau_old,W)\n",
    "    dlu = dlogFcu(np.log(tau_old), B_zeta, S2, dS2, z, beta, theta, betaBt)\n",
    "    ddlu = ddlogFcu(np.log(tau_old), B_zeta, S2, dS2, ddS2, z, beta, theta, betaBt)\n",
    "    sigma2u = -1/ddlu\n",
    "\n",
    "    if sigma2u < np.finfo(float).eps:\n",
    "        decision_criterion = float('-inf')\n",
    "        return(0, decision_criterion , S2, dS2, ddS2, S)  \n",
    "    else:\n",
    "        muu = sigma2u*dlu + np.log(tau_old)\n",
    "        unew = np.random.normal(0,1,1)*np.sqrt(sigma2u) + muu\n",
    "        S2_new, dS2_new, ddS2_new, S_new = compdS(np.exp(unew),W)\n",
    "        dlunew = dlogFcu(unew, B_zeta, S2_new, dS2_new, z, beta, theta, betaBt)\n",
    "        ddlunew = ddlogFcu(unew, B_zeta, S2_new, dS2_new, ddS2_new, z, beta, theta, betaBt)\n",
    "        sigma2unew = -1/ddlunew\n",
    "        muunew = sigma2unew*dlunew + unew\n",
    "        fcnew = logFCu(unew, B, S2_new, z, beta, theta, betaBt)\n",
    "        fcold = logFCu(np.log(tau_old), B, S2, z, beta, theta, betaBt)\n",
    "        proposalnew = -0.5*np.log(sigma2u) - 0.5*((unew - muu)**2)/sigma2u\n",
    "        proposalold = -0.5*np.log(sigma2unew) - 0.5*((np.log(tau_old) - muunew)**2)/sigma2unew\n",
    "        decision_criterion = fcnew - fcold - proposalnew + proposalold\n",
    "        return(np.exp(unew), decision_criterion , S2_new, dS2_new, ddS2_new, S_new)\n"
   ]
  },
  {
   "cell_type": "code",
   "execution_count": 6,
   "metadata": {},
   "outputs": [],
   "source": [
    "S2, dS2, ddS2, S = compdS(tau_start, W)"
   ]
  },
  {
   "cell_type": "code",
   "execution_count": null,
   "metadata": {},
   "outputs": [
    {
     "name": "stderr",
     "output_type": "stream",
     "text": [
      "  0%|          | 0/5000 [00:00<?, ?it/s]"
     ]
    },
    {
     "name": "stdout",
     "output_type": "stream",
     "text": [
      "warm-up phase\n"
     ]
    },
    {
     "name": "stderr",
     "output_type": "stream",
     "text": [
      "  0%|          | 2/5000 [00:00<16:44,  4.98it/s]"
     ]
    },
    {
     "name": "stdout",
     "output_type": "stream",
     "text": [
      "acceptance rate for last 1000 iterates:1.0\n"
     ]
    },
    {
     "name": "stderr",
     "output_type": "stream",
     "text": [
      "  3%|▎         | 162/5000 [00:26<15:03,  5.36it/s]"
     ]
    }
   ],
   "source": [
    "tau_old = tau_start\n",
    "all_taus = []\n",
    "tau_acc = []\n",
    "for i in [0,1]:\n",
    "    if i == 0:\n",
    "        print('warm-up phase')\n",
    "    elif i == 1:\n",
    "        print('sampling phase')\n",
    "    for j in tqdm(range(0, J[i])):\n",
    "        \n",
    "        # sample beta\n",
    "        betanew = genbeta(z,np.log(tau_old),B_zeta,tBB,S)\n",
    "        \n",
    "        betaBt = B_zeta.dot(betanew)\n",
    "        tau_new, decision_criterion , S2_new, dS2_new, ddS2_new, S_new = gen_tau(tau_old, W, B_zeta, z, betanew, theta, betaBt)\n",
    "        \n",
    "        if np.log(np.random.uniform(0,1,1)) <= decision_criterion:\n",
    "            tau_old, S2, dS2, ddS2, S = tau_new.copy(), S2_new.copy(), dS2_new.copy(), ddS2_new.copy(), S_new.copy()\n",
    "            if i == 1:\n",
    "                all_taus.append(tau_old)\n",
    "            tau_acc.append(1)\n",
    "        else:\n",
    "            if i == 1:\n",
    "                all_taus.append(tau_old)\n",
    "            tau_acc.append(0)\n",
    "        if j%1000 == 0:\n",
    "            print('acceptance rate for last 1000 iterates:' + str(np.mean(tau_acc[-1000:])))           "
   ]
  },
  {
   "cell_type": "code",
   "execution_count": null,
   "metadata": {},
   "outputs": [],
   "source": [
    "plt.plot(all_taus)"
   ]
  },
  {
   "cell_type": "code",
   "execution_count": null,
   "metadata": {},
   "outputs": [],
   "source": [
    "print('\\nAcceptance rate for tau: ' + str(np.mean(tau_acc[J[0]:])))"
   ]
  },
  {
   "cell_type": "code",
   "execution_count": null,
   "metadata": {},
   "outputs": [],
   "source": []
  }
 ],
 "metadata": {
  "kernelspec": {
   "display_name": "Python 3",
   "language": "python",
   "name": "python3"
  },
  "language_info": {
   "codemirror_mode": {
    "name": "ipython",
    "version": 3
   },
   "file_extension": ".py",
   "mimetype": "text/x-python",
   "name": "python",
   "nbconvert_exporter": "python",
   "pygments_lexer": "ipython3",
   "version": "3.8.5"
  }
 },
 "nbformat": 4,
 "nbformat_minor": 4
}
