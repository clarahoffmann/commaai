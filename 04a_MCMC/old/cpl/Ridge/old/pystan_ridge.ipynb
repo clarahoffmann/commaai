{
 "cells": [
  {
   "cell_type": "code",
   "execution_count": 1,
   "metadata": {},
   "outputs": [],
   "source": [
    "import numpy as np\n",
    "import pystan\n",
    "import arviz\n",
    "import matplotlib.pyplot as plt"
   ]
  },
  {
   "cell_type": "code",
   "execution_count": 2,
   "metadata": {},
   "outputs": [],
   "source": [
    "import numpy as np\n",
    "from collections import OrderedDict\n",
    "\n",
    "def pystan_vb_extract(results):\n",
    "    param_specs = results['sampler_param_names']\n",
    "    samples = results['sampler_params']\n",
    "    n = len(samples[0])\n",
    "\n",
    "    # first pass, calculate the shape\n",
    "    param_shapes = OrderedDict()\n",
    "    for param_spec in param_specs:\n",
    "        splt = param_spec.split('[')\n",
    "        name = splt[0]\n",
    "        if len(splt) > 1:\n",
    "            idxs = [int(i) for i in splt[1][:-1].split(',')]  # no +1 for shape calculation because pystan already returns 1-based indexes for vb!\n",
    "        else:\n",
    "            idxs = ()\n",
    "        param_shapes[name] = np.maximum(idxs, param_shapes.get(name, idxs))\n",
    "\n",
    "    # create arrays\n",
    "    params = OrderedDict([(name, np.nan * np.empty((n, ) + tuple(shape))) for name, shape in param_shapes.items()])\n",
    "\n",
    "    # second pass, set arrays\n",
    "    for param_spec, param_samples in zip(param_specs, samples):\n",
    "        splt = param_spec.split('[')\n",
    "        name = splt[0]\n",
    "        if len(splt) > 1:\n",
    "            idxs = [int(i) - 1 for i in splt[1][:-1].split(',')]  # -1 because pystan returns 1-based indexes for vb!\n",
    "        else:\n",
    "            idxs = ()\n",
    "        params[name][(..., ) + tuple(idxs)] = param_samples\n",
    "\n",
    "    return params"
   ]
  },
  {
   "cell_type": "code",
   "execution_count": 3,
   "metadata": {},
   "outputs": [],
   "source": [
    "extracted_coefficients_directory = '../../../../data/commaai/extracted_coefficients/20201027_filtered_gaussian_resampled/'\n",
    "B_zeta_path = str(extracted_coefficients_directory + 'Bzeta/B_zeta.npy')\n",
    "beta_path = str(extracted_coefficients_directory + 'beta/beta.csv')\n",
    "z_path = str(extracted_coefficients_directory + 'Bzeta/tr_labels.npy')\n",
    "beta = np.genfromtxt(beta_path, delimiter=',')\n",
    "B_zeta = np.load(B_zeta_path)\n",
    "B_zeta = B_zeta.reshape(B_zeta.shape[0], beta.shape[0])\n",
    "z = np.load(z_path)\n",
    "tBB = B_zeta.T.dot(B_zeta)\n",
    "n = B_zeta.shape[0]\n",
    "p = B_zeta.shape[1]\n",
    "X = B_zeta"
   ]
  },
  {
   "cell_type": "code",
   "execution_count": 4,
   "metadata": {},
   "outputs": [],
   "source": [
    "hmc_code = '''\n",
    "\n",
    "\n",
    "functions {\n",
    "    vector S_xtheta(real tau2, matrix X, int p, int n) {\n",
    "        vector[n] s_is;\n",
    "        for (N in 1:n) {\n",
    "          s_is[N] = 1/sqrt(1 + tau2*sum(square(row(X, N)))); \n",
    "        } \n",
    "        return(s_is);\n",
    "    }\n",
    "    \n",
    "    real scaledepprior_lpdf(real tau2 ) {\n",
    "        real pdf;\n",
    "        pdf = log(1/2.5) -0.5*log(tau2/2.5) - sqrt(tau2/2.5);\n",
    "        return(pdf);\n",
    "    }\n",
    "\n",
    "    }\n",
    "data {\n",
    "  int<lower=1> n; // Number of data\n",
    "  int<lower=1> p; // Number of covariates\n",
    "  matrix[n,p] X;  // n-by-p design matrix\n",
    "  real y[n];      // n-dimensional response vector\n",
    "}\n",
    "\n",
    "\n",
    "parameters {\n",
    "  vector[p] beta;\n",
    "  real<lower=0> tau2;\n",
    "}\n",
    "\n",
    "transformed parameters {\n",
    "  vector[n] theta ;\n",
    "  vector[n] S ;\n",
    "  vector[n] Var ;\n",
    "  S = S_xtheta(tau2, X, p, n);\n",
    "  theta = S .* (X * beta);\n",
    "  Var = square(S);\n",
    "}\n",
    "\n",
    "model {\n",
    "  tau2 ~ scaledepprior();\n",
    "  beta ~ normal(0, tau2); \n",
    "  y ~ normal(theta, Var);\n",
    "}'''"
   ]
  },
  {
   "cell_type": "code",
   "execution_count": 5,
   "metadata": {},
   "outputs": [],
   "source": [
    "hmc_dat = {'n': n,\n",
    "           'p': p,\n",
    "           'X': X,\n",
    "           'y': z}"
   ]
  },
  {
   "cell_type": "code",
   "execution_count": 6,
   "metadata": {},
   "outputs": [
    {
     "name": "stderr",
     "output_type": "stream",
     "text": [
      "INFO:pystan:COMPILING THE C++ CODE FOR MODEL anon_model_fd503ee02964fc20c9d017c0a17ad0c5 NOW.\n",
      "INFO:pystan:OS: linux, Python: 3.8.5 (default, Jul 28 2020, 12:59:40) \n",
      "[GCC 9.3.0], Cython 0.29.21\n"
     ]
    },
    {
     "name": "stdout",
     "output_type": "stream",
     "text": [
      "Compiling /tmp/pystan_nww30ehv/stanfit4anon_model_fd503ee02964fc20c9d017c0a17ad0c5_7721671613585950118.pyx because it changed.\n",
      "[1/1] Cythonizing /tmp/pystan_nww30ehv/stanfit4anon_model_fd503ee02964fc20c9d017c0a17ad0c5_7721671613585950118.pyx\n",
      "building 'stanfit4anon_model_fd503ee02964fc20c9d017c0a17ad0c5_7721671613585950118' extension\n",
      "creating /tmp/pystan_nww30ehv/tmp\n",
      "creating /tmp/pystan_nww30ehv/tmp/pystan_nww30ehv\n",
      "x86_64-linux-gnu-gcc -pthread -Wno-unused-result -Wsign-compare -DNDEBUG -g -fwrapv -O2 -Wall -g -fstack-protector-strong -Wformat -Werror=format-security -g -fwrapv -O2 -g -fstack-protector-strong -Wformat -Werror=format-security -Wdate-time -D_FORTIFY_SOURCE=2 -fPIC -DBOOST_RESULT_OF_USE_TR1 -DBOOST_NO_DECLTYPE -DBOOST_DISABLE_ASSERTS -I/tmp/pystan_nww30ehv -I/home/hofmancl/.local/lib/python3.8/site-packages/pystan -I/home/hofmancl/.local/lib/python3.8/site-packages/pystan/stan/src -I/home/hofmancl/.local/lib/python3.8/site-packages/pystan/stan/lib/stan_math -I/home/hofmancl/.local/lib/python3.8/site-packages/pystan/stan/lib/stan_math/lib/eigen_3.3.3 -I/home/hofmancl/.local/lib/python3.8/site-packages/pystan/stan/lib/stan_math/lib/boost_1.69.0 -I/home/hofmancl/.local/lib/python3.8/site-packages/pystan/stan/lib/stan_math/lib/sundials_4.1.0/include -I/usr/local/lib/python3.8/dist-packages/numpy/core/include -I/usr/include/python3.8 -c /tmp/pystan_nww30ehv/stanfit4anon_model_fd503ee02964fc20c9d017c0a17ad0c5_7721671613585950118.cpp -o /tmp/pystan_nww30ehv/tmp/pystan_nww30ehv/stanfit4anon_model_fd503ee02964fc20c9d017c0a17ad0c5_7721671613585950118.o -O2 -ftemplate-depth-256 -Wno-unused-function -Wno-uninitialized -std=c++1y\n",
      "x86_64-linux-gnu-g++ -pthread -shared -Wl,-O1 -Wl,-Bsymbolic-functions -Wl,-Bsymbolic-functions -Wl,-z,relro -g -fwrapv -O2 -Wl,-Bsymbolic-functions -Wl,-z,relro -g -fwrapv -O2 -g -fstack-protector-strong -Wformat -Werror=format-security -Wdate-time -D_FORTIFY_SOURCE=2 /tmp/pystan_nww30ehv/tmp/pystan_nww30ehv/stanfit4anon_model_fd503ee02964fc20c9d017c0a17ad0c5_7721671613585950118.o -o /tmp/pystan_nww30ehv/stanfit4anon_model_fd503ee02964fc20c9d017c0a17ad0c5_7721671613585950118.cpython-38-x86_64-linux-gnu.so\n",
      "finished compiling\n",
      "start sampling\n"
     ]
    },
    {
     "name": "stderr",
     "output_type": "stream",
     "text": [
      "WARNING:pystan:Maximum (flat) parameter count (1000) exceeded: skipping diagnostic tests for n_eff and Rhat.\n",
      "To run all diagnostics call pystan.check_hmc_diagnostics(fit)\n"
     ]
    },
    {
     "name": "stdout",
     "output_type": "stream",
     "text": [
      "finished sampling\n"
     ]
    }
   ],
   "source": [
    "sm = pystan.StanModel(model_code = hmc_code, verbose = True)\n",
    "print('finished compiling')\n",
    "print('start sampling')\n",
    "fit = sm.sampling(data = hmc_dat,\n",
    "                  iter = 1000, \n",
    "                  chains = 4, \n",
    "                  verbose = True)\n",
    "print('finished sampling')"
   ]
  },
  {
   "cell_type": "code",
   "execution_count": 7,
   "metadata": {},
   "outputs": [],
   "source": [
    "#la = fit.extract(permuted=True) \n",
    "la = fit.extract(permuted=True)"
   ]
  },
  {
   "cell_type": "code",
   "execution_count": null,
   "metadata": {},
   "outputs": [],
   "source": [
    "vb_fit = sm.vb(data = hmc_dat, verbose = True)"
   ]
  },
  {
   "cell_type": "code",
   "execution_count": null,
   "metadata": {},
   "outputs": [],
   "source": [
    "res = pystan_vb_extract(vb_fit)"
   ]
  },
  {
   "cell_type": "code",
   "execution_count": null,
   "metadata": {},
   "outputs": [],
   "source": [
    "betas_vb = np.mean(res['beta'], axis = 0)\n",
    "taus_vb = np.mean(res['tau2'], axis = 0)\n",
    "betas_vb_sd = np.std(res['beta'], axis = 0)\n",
    "taus_vb_sd = np.std(res['tau2'], axis = 0)"
   ]
  },
  {
   "cell_type": "code",
   "execution_count": null,
   "metadata": {},
   "outputs": [],
   "source": [
    "#pystan.check_hmc_diagnostics(fit)"
   ]
  },
  {
   "cell_type": "code",
   "execution_count": null,
   "metadata": {},
   "outputs": [],
   "source": [
    "import pickle"
   ]
  },
  {
   "cell_type": "code",
   "execution_count": null,
   "metadata": {},
   "outputs": [],
   "source": [
    "with open('ridge_hmc_500.p', 'wb') as handle:\n",
    "    pickle.dump(la['beta', 'tau2'], handle, protocol=pickle.HIGHEST_PROTOCOL)"
   ]
  },
  {
   "cell_type": "code",
   "execution_count": 8,
   "metadata": {},
   "outputs": [
    {
     "data": {
      "text/plain": [
       "[<matplotlib.lines.Line2D at 0x7f1b7b452070>,\n",
       " <matplotlib.lines.Line2D at 0x7f1b7b452040>,\n",
       " <matplotlib.lines.Line2D at 0x7f1b7b452cd0>,\n",
       " <matplotlib.lines.Line2D at 0x7f1b7b452e50>,\n",
       " <matplotlib.lines.Line2D at 0x7f1b7b452fa0>,\n",
       " <matplotlib.lines.Line2D at 0x7f1b7b452f70>,\n",
       " <matplotlib.lines.Line2D at 0x7f1b7b40b280>,\n",
       " <matplotlib.lines.Line2D at 0x7f1b7b40b850>,\n",
       " <matplotlib.lines.Line2D at 0x7f1b7b40b250>,\n",
       " <matplotlib.lines.Line2D at 0x7f1b7b40b760>]"
      ]
     },
     "execution_count": 8,
     "metadata": {},
     "output_type": "execute_result"
    },
    {
     "data": {
      "image/png": "[encoded data removed]",
      "text/plain": [
       "<Figure size 432x288 with 1 Axes>"
      ]
     },
     "metadata": {
      "needs_background": "light"
     },
     "output_type": "display_data"
    }
   ],
   "source": [
    "plt.plot(la['beta'])"
   ]
  },
  {
   "cell_type": "code",
   "execution_count": 9,
   "metadata": {},
   "outputs": [
    {
     "data": {
      "text/plain": [
       "[<matplotlib.lines.Line2D at 0x7f1b7b5e8550>]"
      ]
     },
     "execution_count": 9,
     "metadata": {},
     "output_type": "execute_result"
    },
    {
     "data": {
      "image/png": "[encoded data removed]",
      "text/plain": [
       "<Figure size 432x288 with 1 Axes>"
      ]
     },
     "metadata": {
      "needs_background": "light"
     },
     "output_type": "display_data"
    }
   ],
   "source": [
    "plt.plot(la['tau2'])"
   ]
  },
  {
   "cell_type": "code",
   "execution_count": null,
   "metadata": {},
   "outputs": [],
   "source": [
    "arviz.plot_trace(fit)"
   ]
  },
  {
   "cell_type": "code",
   "execution_count": 10,
   "metadata": {},
   "outputs": [],
   "source": [
    "betas = np.mean(la['beta'], axis = 0)\n",
    "betas_sd = np.std(la['beta'], axis = 0)"
   ]
  },
  {
   "cell_type": "code",
   "execution_count": 11,
   "metadata": {},
   "outputs": [
    {
     "data": {
      "text/plain": [
       "array([0.00278659, 0.00280209, 0.00266964, 0.00294803, 0.00156676,\n",
       "       0.00292545, 0.00284557, 0.00286371, 0.00243715, 0.00302508])"
      ]
     },
     "execution_count": 11,
     "metadata": {},
     "output_type": "execute_result"
    }
   ],
   "source": [
    "betas_sd"
   ]
  },
  {
   "cell_type": "code",
   "execution_count": null,
   "metadata": {},
   "outputs": [],
   "source": [
    "tau = np.mean(np.log(la['tau2']), axis = 0)\n",
    "tau_sd = np.std(np.log(la['tau2']), axis = 0)"
   ]
  },
  {
   "cell_type": "code",
   "execution_count": null,
   "metadata": {},
   "outputs": [],
   "source": [
    "mu_ts = np.load('../../../../data/commaai/va/filtered_gaussian_resampled/Ridge/mu_ts23.npy')\n",
    "mu_ts_m = np.mean(mu_ts.reshape(10000, 11)[9500:,:], axis = 0)\n",
    "B_ts = np.load('../../../../data/commaai/va/filtered_gaussian_resampled/Ridge/B_ts23.npy')\n",
    "d_ts = np.load('../../../../data/commaai/va/filtered_gaussian_resampled/Ridge/d_ts23.npy')\n",
    "B_ts = np.mean(B_ts[9500:,:,:], axis = 0)\n",
    "d_ts = np.mean(d_ts[9500:,:,:], axis = 0)\n",
    "#var = np.genfromtxt('../../../../data/commaai/va/filtered_gaussian_resampled/Ridge/Var.csv', delimiter = ',')\n",
    "#va_sd = np.sqrt(np.diag(var))\n",
    "va_sd = np.sqrt(np.diag((B_ts.dot(B_ts.T) + d_ts**2)))"
   ]
  },
  {
   "cell_type": "code",
   "execution_count": null,
   "metadata": {},
   "outputs": [],
   "source": [
    "mu_ts.shape"
   ]
  },
  {
   "cell_type": "code",
   "execution_count": null,
   "metadata": {},
   "outputs": [],
   "source": [
    "mu_ts.shape"
   ]
  },
  {
   "cell_type": "code",
   "execution_count": null,
   "metadata": {},
   "outputs": [],
   "source": [
    "plt.scatter(mu_ts_m[0:10], betas)\n",
    "plt.scatter(np.exp(mu_ts_m[10]), np.exp(tau))\n",
    "ident = [-.5, .5]\n",
    "plt.plot(ident,ident)"
   ]
  },
  {
   "cell_type": "code",
   "execution_count": null,
   "metadata": {},
   "outputs": [],
   "source": [
    "plt.scatter(betas_vb[0:10], betas)\n",
    "ident = [-.5, .5]\n",
    "plt.plot(ident,ident)"
   ]
  },
  {
   "cell_type": "code",
   "execution_count": null,
   "metadata": {},
   "outputs": [],
   "source": [
    "plt.scatter(betas_vb_sd[0:10], betas_sd)\n",
    "ident = [0, .005]\n",
    "plt.plot(ident,ident)"
   ]
  },
  {
   "cell_type": "code",
   "execution_count": null,
   "metadata": {},
   "outputs": [],
   "source": [
    "plt.scatter(va_sd[0:10], betas_sd)\n",
    "plt.scatter(va_sd[10], tau_sd)\n",
    "ident = [0, .05]\n",
    "plt.plot(ident,ident)"
   ]
  },
  {
   "cell_type": "code",
   "execution_count": null,
   "metadata": {},
   "outputs": [],
   "source": [
    "plt.scatter(va_sd[0:10], betas_sd)\n",
    "plt.scatter(va_sd[10], tau_sd)\n",
    "ident = [0, .05]\n",
    "plt.plot(ident,ident)"
   ]
  },
  {
   "cell_type": "code",
   "execution_count": null,
   "metadata": {},
   "outputs": [],
   "source": [
    "plt.scatter(va_sd[0:10], betas_sd)\n",
    "plt.scatter(va_sd[10], tau_sd)\n",
    "ident = [0, .01]\n",
    "plt.plot(ident,ident)"
   ]
  },
  {
   "cell_type": "code",
   "execution_count": null,
   "metadata": {},
   "outputs": [],
   "source": [
    "plt.scatter(mu_ts_m[10], tau)\n",
    "ident = [0, .5]\n",
    "plt.plot(ident,ident)"
   ]
  },
  {
   "cell_type": "code",
   "execution_count": null,
   "metadata": {},
   "outputs": [],
   "source": [
    "plt.scatter(np.exp(0.5*mu_ts_m[10:20]), lambdas)\n",
    "ident = [-.5, .5]\n",
    "plt.plot(ident,ident)"
   ]
  },
  {
   "cell_type": "code",
   "execution_count": null,
   "metadata": {},
   "outputs": [],
   "source": [
    "plt.scatter(np.exp(mu_ts_m[20]), tau)\n",
    "ident = [-.5, .5]\n",
    "plt.plot(ident,ident)"
   ]
  },
  {
   "cell_type": "code",
   "execution_count": null,
   "metadata": {},
   "outputs": [],
   "source": [
    "plt.scatter(va_sd[20], tau_sd)\n",
    "ident = [0, .5]\n",
    "plt.plot(ident,ident)"
   ]
  },
  {
   "cell_type": "code",
   "execution_count": null,
   "metadata": {},
   "outputs": [],
   "source": [
    "all_thetas = np.load('../../../../data/commaai/mcmc/filtered_gaussian_resampled/Ridge/all_thetas_L100.npy')"
   ]
  },
  {
   "cell_type": "code",
   "execution_count": null,
   "metadata": {},
   "outputs": [],
   "source": [
    "plt.plot(all_thetas[:])\n",
    "plt.ylim(-1,1)\n"
   ]
  },
  {
   "cell_type": "code",
   "execution_count": null,
   "metadata": {},
   "outputs": [],
   "source": [
    "df = np.array(all_thetas)"
   ]
  },
  {
   "cell_type": "code",
   "execution_count": null,
   "metadata": {},
   "outputs": [],
   "source": [
    "plt.scatter(mu_ts_m[0:10], np.mean(df[100:,0:10], axis = 0))\n",
    "#plt.scatter(mu_ts_m[10], np.mean(df[2000:,10], axis = 0))\n",
    "ident = [-.5, .5]\n",
    "plt.plot(ident,ident)"
   ]
  },
  {
   "cell_type": "code",
   "execution_count": null,
   "metadata": {},
   "outputs": [],
   "source": [
    "plt.scatter(va_sd[0:10], np.std(df[500:,0:10], axis = 0))\n",
    "plt.scatter(va_sd[10], np.std(df[500:,10], axis = 0))\n",
    "ident = [0, .1]\n",
    "plt.plot(ident,ident)"
   ]
  },
  {
   "cell_type": "code",
   "execution_count": null,
   "metadata": {},
   "outputs": [],
   "source": [
    "np.std(df[100:,0:10], axis = 0)"
   ]
  },
  {
   "cell_type": "code",
   "execution_count": null,
   "metadata": {},
   "outputs": [],
   "source": []
  }
 ],
 "metadata": {
  "kernelspec": {
   "display_name": "Python 3",
   "language": "python",
   "name": "python3"
  },
  "language_info": {
   "codemirror_mode": {
    "name": "ipython",
    "version": 3
   },
   "file_extension": ".py",
   "mimetype": "text/x-python",
   "name": "python",
   "nbconvert_exporter": "python",
   "pygments_lexer": "ipython3",
   "version": "3.8.5"
  }
 },
 "nbformat": 4,
 "nbformat_minor": 4
}
