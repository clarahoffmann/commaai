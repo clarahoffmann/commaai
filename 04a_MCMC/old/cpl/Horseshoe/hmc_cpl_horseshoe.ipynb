{
 "cells": [
  {
   "cell_type": "code",
   "execution_count": 5,
   "metadata": {},
   "outputs": [
    {
     "ename": "RuntimeError",
     "evalue": "Maybe you called ray.init twice by accident? This error can be suppressed by passing in 'ignore_reinit_error=True' or by calling 'ray.shutdown()' prior to 'ray.init()'.",
     "output_type": "error",
     "traceback": [
      "\u001b[0;31m---------------------------------------------------------------------------\u001b[0m",
      "\u001b[0;31mRuntimeError\u001b[0m                              Traceback (most recent call last)",
      "\u001b[0;32m<ipython-input-5-f1b231fc7d69>\u001b[0m in \u001b[0;36m<module>\u001b[0;34m\u001b[0m\n\u001b[1;32m      4\u001b[0m \u001b[0;32mimport\u001b[0m \u001b[0mray\u001b[0m\u001b[0;34m\u001b[0m\u001b[0;34m\u001b[0m\u001b[0m\n\u001b[1;32m      5\u001b[0m \u001b[0;32mimport\u001b[0m \u001b[0mmatplotlib\u001b[0m\u001b[0;34m.\u001b[0m\u001b[0mpyplot\u001b[0m \u001b[0;32mas\u001b[0m \u001b[0mplt\u001b[0m\u001b[0;34m\u001b[0m\u001b[0;34m\u001b[0m\u001b[0m\n\u001b[0;32m----> 6\u001b[0;31m \u001b[0mray\u001b[0m\u001b[0;34m.\u001b[0m\u001b[0minit\u001b[0m\u001b[0;34m(\u001b[0m\u001b[0;34m)\u001b[0m\u001b[0;34m\u001b[0m\u001b[0;34m\u001b[0m\u001b[0m\n\u001b[0m",
      "\u001b[0;32m~/.local/lib/python3.8/site-packages/ray/worker.py\u001b[0m in \u001b[0;36minit\u001b[0;34m(address, num_cpus, num_gpus, resources, object_store_memory, local_mode, ignore_reinit_error, include_dashboard, dashboard_host, dashboard_port, job_config, configure_logging, logging_level, logging_format, log_to_driver, _enable_object_reconstruction, _redis_max_memory, _plasma_directory, _node_ip_address, _driver_object_store_memory, _memory, _redis_password, _java_worker_options, _code_search_path, _temp_dir, _load_code_from_local, _lru_evict, _metrics_export_port, _object_spilling_config, _system_config)\u001b[0m\n\u001b[1;32m    662\u001b[0m             \u001b[0;32mreturn\u001b[0m\u001b[0;34m\u001b[0m\u001b[0;34m\u001b[0m\u001b[0m\n\u001b[1;32m    663\u001b[0m         \u001b[0;32melse\u001b[0m\u001b[0;34m:\u001b[0m\u001b[0;34m\u001b[0m\u001b[0;34m\u001b[0m\u001b[0m\n\u001b[0;32m--> 664\u001b[0;31m             raise RuntimeError(\"Maybe you called ray.init twice by accident? \"\n\u001b[0m\u001b[1;32m    665\u001b[0m                                \u001b[0;34m\"This error can be suppressed by passing in \"\u001b[0m\u001b[0;34m\u001b[0m\u001b[0;34m\u001b[0m\u001b[0m\n\u001b[1;32m    666\u001b[0m                                \u001b[0;34m\"'ignore_reinit_error=True' or by calling \"\u001b[0m\u001b[0;34m\u001b[0m\u001b[0;34m\u001b[0m\u001b[0m\n",
      "\u001b[0;31mRuntimeError\u001b[0m: Maybe you called ray.init twice by accident? This error can be suppressed by passing in 'ignore_reinit_error=True' or by calling 'ray.shutdown()' prior to 'ray.init()'."
     ]
    }
   ],
   "source": [
    "import numpy as np\n",
    "from random import random\n",
    "from tqdm import tqdm\n",
    "import ray\n",
    "import matplotlib.pyplot as plt\n",
    "ray.init()"
   ]
  },
  {
   "cell_type": "markdown",
   "metadata": {},
   "source": [
    "Want to sample from three variables:\n",
    "1. $\\lambda$\n",
    "2. $\\tau$\n",
    "3. $\\beta$\n",
    "\n",
    "-> these values are then averaged to get the Monte-Carlo estimator\n",
    "-> first: what is density of $\\beta$?"
   ]
  },
  {
   "cell_type": "code",
   "execution_count": 20,
   "metadata": {},
   "outputs": [],
   "source": [
    "# import data from DNN training\n",
    "extracted_coefficients_directory = '../../../../data/commaai/extracted_coefficients/20201027_filtered_gaussian_resampled/'\n",
    "B_zeta_path = str(extracted_coefficients_directory + 'Bzeta/B_zeta.npy')\n",
    "beta_path = str(extracted_coefficients_directory + 'beta/beta.csv')\n",
    "z_path = str(extracted_coefficients_directory + 'Bzeta/tr_labels.npy')\n",
    "beta = np.genfromtxt(beta_path, delimiter=',')\n",
    "B_zeta = np.load(B_zeta_path)\n",
    "B_zeta = B_zeta.reshape(B_zeta.shape[0], beta.shape[0])\n",
    "z = np.load(z_path)\n",
    "tBB = B_zeta.T.dot(B_zeta)"
   ]
  },
  {
   "cell_type": "code",
   "execution_count": 21,
   "metadata": {},
   "outputs": [],
   "source": [
    "beta = np.repeat(0,10)\n",
    "# number of samples we want to produce\n",
    "M = 50000+ 1\n",
    "L = 77\n",
    "\n",
    "# number of parameters of theta\n",
    "q = 2*B_zeta.shape[1] + 1\n",
    "p = B_zeta.shape[1]\n",
    "\n",
    "n = B_zeta.shape[0]\n",
    "\n",
    "# start values for beta, lambda, tau\n",
    "# beta is taken from trained network and other two\n",
    "# are initialized randomly\n",
    "theta_m_1 = np.zeros(q)\n",
    "\n",
    "# stepsize\n",
    "epsilon = 0.00007\n",
    "\n",
    "r_m = np.append(np.zeros(p), np.append(np.repeat(-6,p), 0))\n",
    "\n",
    "tau_start = theta_m_1[q-1]"
   ]
  },
  {
   "cell_type": "code",
   "execution_count": 22,
   "metadata": {},
   "outputs": [],
   "source": [
    "Lambda = np.repeat(1,p)\n",
    "BoB = B_zeta**2"
   ]
  },
  {
   "cell_type": "code",
   "execution_count": 23,
   "metadata": {},
   "outputs": [],
   "source": [
    "@ray.remote\n",
    "def delta_beta(z, S, B_zeta, Lambda, beta):\n",
    "    return (B_zeta.T.dot(z*1/S) - (B_zeta.T).dot(B_zeta).dot(beta) - beta/(Lambda**2))\n",
    "@ray.remote\n",
    "def delta_1_log_tau(p, log_tau, Lambda):\n",
    "    tau = np.exp(log_tau)\n",
    "    tau2 = tau**2\n",
    "    Lambda2 = Lambda**2\n",
    "    return(- (p-1) - (2*tau2)/(1+tau2) + 2*np.sum((Lambda2/tau2)/(1+Lambda2/(tau2))))\n",
    "\n",
    "def generate_dS2_ddS2_S2_S(Lambda, BoB):\n",
    "    \n",
    "    n, p = BoB.shape\n",
    "    W = np.sum(BoB*(Lambda**2), axis = 1)\n",
    "    S2 = (1/(1 + W))\n",
    "    S = np.sqrt(S2)\n",
    "    \n",
    "    dS2, ddS2 = np.zeros((n,p)), np.zeros((n,p))\n",
    "    #for lj in range(0, p):\n",
    "    #    dS2[:,lj] = - BoB[:,lj]*Lambda2[lj]/((1+W)**2)\n",
    "    #    ddS2[:,lj] = (-BoB[:,lj]*Lambda2[lj] + (BoB[:,lj]*(Lambda2[lj]**2)))/((1+W)**3)\n",
    "    \n",
    "    #dS2 = - (BoB.dot(np.diag(Lambda2)))/(((1+np.tile(W, [p,1]))**2).T)\n",
    "    #dS2 = 0\n",
    "    return(dS2, S2, S)\n",
    "\n",
    "@ray.remote\n",
    "def delta_1_lambda(Lambda, beta, B_zeta, dS2, S2, S, z, tau):\n",
    "    p = len(Lambda)\n",
    "    Lambda2 = Lambda**2\n",
    "    tau2 = tau**2\n",
    "    dlogFucj = np.zeros(p)\n",
    "    #for lj in range(0,p):\n",
    "    #    dlogFucj[lj] = 0.5*(beta[lj]**2)/Lambda2[lj] - (Lambda2[lj]/tau2)/(1 + Lambda2[lj]/tau2) - 0.5*np.sum(dS2[:,lj]/S2) - 0.5*np.sum((z*z*(-dS2[:,lj]/(S2**2)))) + np.sum( beta.dot(B_zeta.T).dot(np.diag(-0.5*(dS2[:,lj]/(S2**(1.5))))).dot(z))  \n",
    "    for lj in range(0, len(Lambda)):             \n",
    "        dlogFucj[lj] = (0.5*(beta[lj]**2)/Lambda2[lj]\n",
    "                         - (Lambda2[lj]/tau2)/(1 + Lambda2[lj]/tau2)\n",
    "                         + 0.5\n",
    "                         + 0.5*np.sum((B_zeta[:,lj]**2)*Lambda2[lj]*S2)\n",
    "                         - 0.5*np.sum((z**2)*(B_zeta[:,lj]**2)*Lambda2[lj])\n",
    "                        + 0.5*(beta.T.dot(B_zeta.T)*S*(B_zeta[:,lj]**2)*(Lambda2[lj])).dot(z))\n",
    "                         #+ 0.5*(beta.T.dot(B_zeta.T)*S*W).dot(z))\n",
    "    \n",
    "    #dlogFucj = (0.5*(beta**2)/Lambda2 - (Lambda2/tau2)/(1 + Lambda2/tau2) + 0.5 + \n",
    "    #            # old: 0.5*np.sum((B_zeta**2)*np.tile(S2, [p,1]).T*Lambda2, axis = 0) \n",
    "    #            0.5*np.array([(B_zeta[:,i]**2).dot(S2*(Lambda[i]**2)) for i in range(0, B_zeta.shape[1])])\n",
    "    #            - 0.5*(z**2).dot((B_zeta**2))*Lambda2\n",
    "                #old :+  0.5*((((np.tile(B_zeta.dot(beta), [p,1]).T)*(B_zeta**2)*Lambda2)*np.tile(S, [p,1]).T).T).dot(z))\n",
    "    #            + np.array([(B_zeta.dot(beta)*((B_zeta[:,i]**2)*Lambda[i]**2)).dot(S*z) for i in range(0, B_zeta.shape[1])]))\n",
    "    \n",
    "    \n",
    "    \n",
    "               # + 0.5*np.sum(((B_zeta**2)*np.tile(S2, [p,1]).T)*Lambda2) - 0.5*(z**2).dot((B_zeta**2)*Lambda2) \n",
    "            #+ ((((np.tile(B_zeta.dot(beta), [p,1]).T)*(B_zeta**2)*Lambda2)*np.tile(S, [p,1]).T).T).dot(z))\n",
    "               # - 0.5*np.sum(dS2/(np.tile(S2.T, [p,1]).T), axis = 0) - \n",
    "               #0.5*np.sum((np.tile(z*z, [p,1]).T*(-dS2/np.tile((S2**2), [p,1]).T)), axis = 0) + \n",
    "               #(beta*((B_zeta*(-0.5)*(dS2/np.tile(S2**1.5, [p,1]).T)).T).dot(z))) \n",
    "    return(dlogFucj)\n",
    "\n",
    "def Delta_theta(vartheta_t, B, n, z, p, tBB, betaBt, BoB):\n",
    "    vartheta_new = vartheta_t.copy()\n",
    "    beta_t = vartheta_new[0:p].reshape(p,)\n",
    "    Lambda_t = np.exp(0.5*vartheta_new[p:2*p])\n",
    "    log_tau_t = vartheta_new[2*p]\n",
    "\n",
    "    dS2,  S2, S = generate_dS2_ddS2_S2_S(Lambda_t, BoB)\n",
    "    \n",
    "    # Gradient w.r.t. beta\n",
    "    #grad_beta = delta_beta(z, S, B, Lambda_t, beta_t)\n",
    "    \n",
    "    #grad_lambda = delta_1_lambda(Lambda_t, beta_t, B, dS2, ddS2, S2, S, z, np.exp(log_tau_t))\n",
    "    # Gradient w.r.t. tau\n",
    "    #grad_tau = delta_1_log_tau(p, log_tau_t, Lambda_t)\n",
    "    \n",
    "    ret_id1 = delta_beta.remote(z, S, B, Lambda_t, beta_t)\n",
    "    ret_id2 = delta_1_lambda.remote(Lambda_t, beta_t, B, dS2, S2, S, z, np.exp(log_tau_t))\n",
    "    ret_id3 = delta_1_log_tau.remote(p, log_tau_t, Lambda_t)\n",
    "    grad_beta, grad_lambda, grad_tau = ray.get([ret_id1, ret_id2, ret_id3])\n",
    "    #print(grad_beta, grad_lambda, grad_tau)\n",
    "    \n",
    "    return(np.append(grad_beta, np.append(grad_lambda, grad_tau)))\n",
    "\n",
    "def log_density(S, B, beta, Lambda, log_tau, z, p):\n",
    "    Lambda2 = Lambda**2\n",
    "    tau2 = np.exp(log_tau)**2\n",
    "    S2 = S**2\n",
    "    # old: square_term = (z - (B_zeta*np.tile(S, [p,1]).T).dot(beta))\n",
    "    square_term = (z - (np.array([B[:,i]*(S[i]) for i in range(0, B.shape[1])]).T.dot(beta)))\n",
    "    term1 = - 0.5*np.sum(np.log(S2))  #\n",
    "    term2 = + 0.5*np.sum(np.log(Lambda2))  #\n",
    "    term3 = - 0.5*((square_term/S2).dot(square_term)) #\n",
    "    #term3 = B.dot(beta).dot(z/S) \n",
    "    #term4 = - 0.5*np.sum(z**2/S2)  \n",
    "    term4 = -0.5*np.sum((beta**2)/(Lambda2)) #\n",
    "    #term6 = - 0.5*np.sum(B.dot(beta)**2)  \n",
    "    term5 = -(p-1)*log_tau #\n",
    "    term6 = - np.sum(np.log(1+Lambda2/tau2))  \n",
    "    term7 = - np.log(1 + tau2) #\n",
    "    return(term1 + term2 + term3 + term4 + term5 + + term6 + term7 ) #+ term8 + term9"
   ]
  },
  {
   "cell_type": "code",
   "execution_count": 24,
   "metadata": {},
   "outputs": [],
   "source": [
    "def Leapfrog(theta, r, epsilon, n, z, p, B, tBB, betaBt, i, L):\n",
    "    \n",
    "    # compute gradient with theta\n",
    "    #Delta_theta_t = Delta_theta(theta, B, n, z, p, tBB, betaBt, BoB)\n",
    "\n",
    "    # update momentum\n",
    "    #r_tilde = r + (epsilon/2)*Delta_theta_t\n",
    "\n",
    "    # update theta\n",
    "    theta_tilde = (theta + epsilon*r).reshape(2*p + 1,)\n",
    "    beta_t = theta_tilde[0:p]\n",
    "    betaBt_t = beta_t.dot(B_zeta.T)\n",
    "    \n",
    "    # compute updated gradient\n",
    "    Delta_theta_tilde = Delta_theta(theta_tilde, B, n, z, p, tBB, betaBt_t, BoB)\n",
    "    \n",
    "    # update momentum again\n",
    "    #r_tilde = r_tilde + (epsilon/2)*Delta_theta_tilde\n",
    "    \n",
    "    if i != L:\n",
    "        # update momentum again\n",
    "        r_tilde = r + (epsilon)*Delta_theta_tilde # old = r + 0.5*epsilon*Delta_theta_tilde\n",
    "    \n",
    "    \n",
    "    return(theta_tilde, r_tilde)"
   ]
  },
  {
   "cell_type": "code",
   "execution_count": 12,
   "metadata": {},
   "outputs": [],
   "source": [
    "#theta_m_1 = np.load('../../../../../data/commaai/mcmc/filtered_gaussian_resampled/Horseshoe/all_thetas_try.npy', allow_pickle=True).tolist()\n",
    "#r_m = np.load('../../../../../data/commaai/mcmc/filtered_gaussian_resampled/Horseshoe/r_m_try.npy', allow_pickle=True).tolist()"
   ]
  },
  {
   "cell_type": "code",
   "execution_count": 172,
   "metadata": {},
   "outputs": [
    {
     "name": "stderr",
     "output_type": "stream",
     "text": [
      "  0%|          | 49/29049 [10:35<88:29:00, 10.98s/it] "
     ]
    },
    {
     "name": "stdout",
     "output_type": "stream",
     "text": [
      "0.7755102040816326\n"
     ]
    },
    {
     "name": "stderr",
     "output_type": "stream",
     "text": [
      "  1%|          | 149/29049 [28:56<88:28:25, 11.02s/it]"
     ]
    },
    {
     "name": "stdout",
     "output_type": "stream",
     "text": [
      "0.61\n"
     ]
    },
    {
     "name": "stderr",
     "output_type": "stream",
     "text": [
      "  1%|          | 249/29049 [47:12<89:14:40, 11.16s/it]"
     ]
    },
    {
     "name": "stdout",
     "output_type": "stream",
     "text": [
      "0.65\n"
     ]
    },
    {
     "name": "stderr",
     "output_type": "stream",
     "text": [
      "  1%|          | 349/29049 [1:05:26<86:54:05, 10.90s/it]"
     ]
    },
    {
     "name": "stdout",
     "output_type": "stream",
     "text": [
      "0.68\n"
     ]
    },
    {
     "name": "stderr",
     "output_type": "stream",
     "text": [
      "  2%|▏         | 449/29049 [1:23:40<85:54:03, 10.81s/it]"
     ]
    },
    {
     "name": "stdout",
     "output_type": "stream",
     "text": [
      "0.69\n"
     ]
    },
    {
     "name": "stderr",
     "output_type": "stream",
     "text": [
      "  2%|▏         | 549/29049 [1:41:49<86:06:18, 10.88s/it]"
     ]
    },
    {
     "name": "stdout",
     "output_type": "stream",
     "text": [
      "0.68\n"
     ]
    },
    {
     "name": "stderr",
     "output_type": "stream",
     "text": [
      "  2%|▏         | 649/29049 [2:00:01<86:57:42, 11.02s/it]"
     ]
    },
    {
     "name": "stdout",
     "output_type": "stream",
     "text": [
      "0.62\n"
     ]
    },
    {
     "name": "stderr",
     "output_type": "stream",
     "text": [
      "  3%|▎         | 749/29049 [2:19:18<89:00:20, 11.32s/it] "
     ]
    },
    {
     "name": "stdout",
     "output_type": "stream",
     "text": [
      "0.76\n"
     ]
    },
    {
     "name": "stderr",
     "output_type": "stream",
     "text": [
      "  3%|▎         | 849/29049 [2:37:38<85:53:27, 10.96s/it]"
     ]
    },
    {
     "name": "stdout",
     "output_type": "stream",
     "text": [
      "0.59\n"
     ]
    },
    {
     "name": "stderr",
     "output_type": "stream",
     "text": [
      "  3%|▎         | 949/29049 [2:55:54<85:40:04, 10.98s/it]"
     ]
    },
    {
     "name": "stdout",
     "output_type": "stream",
     "text": [
      "0.61\n"
     ]
    },
    {
     "name": "stderr",
     "output_type": "stream",
     "text": [
      "  4%|▎         | 1049/29049 [3:14:15<86:01:29, 11.06s/it]"
     ]
    },
    {
     "name": "stdout",
     "output_type": "stream",
     "text": [
      "0.64\n"
     ]
    },
    {
     "name": "stderr",
     "output_type": "stream",
     "text": [
      "  4%|▍         | 1149/29049 [3:32:36<84:15:54, 10.87s/it]"
     ]
    },
    {
     "name": "stdout",
     "output_type": "stream",
     "text": [
      "0.62\n"
     ]
    },
    {
     "name": "stderr",
     "output_type": "stream",
     "text": [
      "  4%|▍         | 1249/29049 [3:50:50<83:35:46, 10.83s/it]"
     ]
    },
    {
     "name": "stdout",
     "output_type": "stream",
     "text": [
      "0.68\n"
     ]
    },
    {
     "name": "stderr",
     "output_type": "stream",
     "text": [
      "  5%|▍         | 1349/29049 [4:09:43<108:41:46, 14.13s/it]"
     ]
    },
    {
     "name": "stdout",
     "output_type": "stream",
     "text": [
      "0.66\n"
     ]
    },
    {
     "name": "stderr",
     "output_type": "stream",
     "text": [
      "  5%|▍         | 1449/29049 [4:28:16<83:30:14, 10.89s/it] "
     ]
    },
    {
     "name": "stdout",
     "output_type": "stream",
     "text": [
      "0.73\n"
     ]
    },
    {
     "name": "stderr",
     "output_type": "stream",
     "text": [
      "  5%|▌         | 1549/29049 [4:46:45<85:18:09, 11.17s/it]"
     ]
    },
    {
     "name": "stdout",
     "output_type": "stream",
     "text": [
      "0.65\n"
     ]
    },
    {
     "name": "stderr",
     "output_type": "stream",
     "text": [
      "  6%|▌         | 1649/29049 [5:04:55<84:22:01, 11.08s/it]"
     ]
    },
    {
     "name": "stdout",
     "output_type": "stream",
     "text": [
      "0.64\n"
     ]
    },
    {
     "name": "stderr",
     "output_type": "stream",
     "text": [
      "  6%|▌         | 1749/29049 [5:23:19<81:21:00, 10.73s/it]"
     ]
    },
    {
     "name": "stdout",
     "output_type": "stream",
     "text": [
      "0.68\n"
     ]
    },
    {
     "name": "stderr",
     "output_type": "stream",
     "text": [
      "  6%|▋         | 1849/29049 [5:41:42<84:11:25, 11.14s/it]"
     ]
    },
    {
     "name": "stdout",
     "output_type": "stream",
     "text": [
      "0.63\n"
     ]
    },
    {
     "name": "stderr",
     "output_type": "stream",
     "text": [
      "  7%|▋         | 1949/29049 [6:00:04<81:35:51, 10.84s/it]"
     ]
    },
    {
     "name": "stdout",
     "output_type": "stream",
     "text": [
      "0.66\n"
     ]
    },
    {
     "name": "stderr",
     "output_type": "stream",
     "text": [
      "  7%|▋         | 2049/29049 [6:19:03<83:06:36, 11.08s/it] "
     ]
    },
    {
     "name": "stdout",
     "output_type": "stream",
     "text": [
      "0.63\n"
     ]
    },
    {
     "name": "stderr",
     "output_type": "stream",
     "text": [
      "  7%|▋         | 2149/29049 [6:37:21<81:10:59, 10.86s/it]"
     ]
    },
    {
     "name": "stdout",
     "output_type": "stream",
     "text": [
      "0.68\n"
     ]
    },
    {
     "name": "stderr",
     "output_type": "stream",
     "text": [
      "  8%|▊         | 2249/29049 [6:55:31<82:40:42, 11.11s/it]"
     ]
    },
    {
     "name": "stdout",
     "output_type": "stream",
     "text": [
      "0.69\n"
     ]
    },
    {
     "name": "stderr",
     "output_type": "stream",
     "text": [
      "  8%|▊         | 2349/29049 [7:13:51<81:42:21, 11.02s/it]"
     ]
    },
    {
     "name": "stdout",
     "output_type": "stream",
     "text": [
      "0.64\n"
     ]
    },
    {
     "name": "stderr",
     "output_type": "stream",
     "text": [
      "  8%|▊         | 2449/29049 [7:32:06<79:15:15, 10.73s/it]"
     ]
    },
    {
     "name": "stdout",
     "output_type": "stream",
     "text": [
      "0.61\n"
     ]
    },
    {
     "name": "stderr",
     "output_type": "stream",
     "text": [
      "  9%|▉         | 2549/29049 [7:50:19<80:38:29, 10.96s/it]"
     ]
    },
    {
     "name": "stdout",
     "output_type": "stream",
     "text": [
      "0.66\n"
     ]
    },
    {
     "name": "stderr",
     "output_type": "stream",
     "text": [
      "  9%|▉         | 2649/29049 [8:09:51<100:43:30, 13.74s/it]"
     ]
    },
    {
     "name": "stdout",
     "output_type": "stream",
     "text": [
      "0.7\n"
     ]
    },
    {
     "name": "stderr",
     "output_type": "stream",
     "text": [
      "  9%|▉         | 2749/29049 [8:28:16<77:51:16, 10.66s/it] "
     ]
    },
    {
     "name": "stdout",
     "output_type": "stream",
     "text": [
      "0.66\n"
     ]
    },
    {
     "name": "stderr",
     "output_type": "stream",
     "text": [
      " 10%|▉         | 2849/29049 [8:46:24<80:03:46, 11.00s/it]"
     ]
    },
    {
     "name": "stdout",
     "output_type": "stream",
     "text": [
      "0.79\n"
     ]
    },
    {
     "name": "stderr",
     "output_type": "stream",
     "text": [
      " 10%|█         | 2949/29049 [9:04:29<78:52:37, 10.88s/it]"
     ]
    },
    {
     "name": "stdout",
     "output_type": "stream",
     "text": [
      "0.56\n"
     ]
    },
    {
     "name": "stderr",
     "output_type": "stream",
     "text": [
      " 10%|█         | 3049/29049 [9:22:46<83:08:21, 11.51s/it]"
     ]
    },
    {
     "name": "stdout",
     "output_type": "stream",
     "text": [
      "0.59\n"
     ]
    },
    {
     "name": "stderr",
     "output_type": "stream",
     "text": [
      " 11%|█         | 3149/29049 [9:40:37<77:31:28, 10.78s/it]"
     ]
    },
    {
     "name": "stdout",
     "output_type": "stream",
     "text": [
      "0.59\n"
     ]
    },
    {
     "name": "stderr",
     "output_type": "stream",
     "text": [
      " 11%|█         | 3249/29049 [9:58:36<76:13:23, 10.64s/it]"
     ]
    },
    {
     "name": "stdout",
     "output_type": "stream",
     "text": [
      "0.51\n"
     ]
    },
    {
     "name": "stderr",
     "output_type": "stream",
     "text": [
      " 12%|█▏        | 3349/29049 [10:17:59<88:36:00, 12.41s/it]"
     ]
    },
    {
     "name": "stdout",
     "output_type": "stream",
     "text": [
      "0.66\n"
     ]
    },
    {
     "name": "stderr",
     "output_type": "stream",
     "text": [
      " 12%|█▏        | 3449/29049 [10:38:42<90:38:21, 12.75s/it]"
     ]
    },
    {
     "name": "stdout",
     "output_type": "stream",
     "text": [
      "0.66\n"
     ]
    },
    {
     "name": "stderr",
     "output_type": "stream",
     "text": [
      " 12%|█▏        | 3549/29049 [10:59:11<87:26:17, 12.34s/it]"
     ]
    },
    {
     "name": "stdout",
     "output_type": "stream",
     "text": [
      "0.63\n"
     ]
    },
    {
     "name": "stderr",
     "output_type": "stream",
     "text": [
      " 13%|█▎        | 3649/29049 [11:19:34<84:46:03, 12.01s/it]"
     ]
    },
    {
     "name": "stdout",
     "output_type": "stream",
     "text": [
      "0.62\n"
     ]
    },
    {
     "name": "stderr",
     "output_type": "stream",
     "text": [
      " 13%|█▎        | 3749/29049 [11:40:02<85:29:32, 12.16s/it]"
     ]
    },
    {
     "name": "stdout",
     "output_type": "stream",
     "text": [
      "0.66\n"
     ]
    },
    {
     "name": "stderr",
     "output_type": "stream",
     "text": [
      " 13%|█▎        | 3849/29049 [12:00:32<85:38:12, 12.23s/it]"
     ]
    },
    {
     "name": "stdout",
     "output_type": "stream",
     "text": [
      "0.65\n"
     ]
    },
    {
     "name": "stderr",
     "output_type": "stream",
     "text": [
      " 14%|█▎        | 3949/29049 [12:21:25<84:01:23, 12.05s/it] "
     ]
    },
    {
     "name": "stdout",
     "output_type": "stream",
     "text": [
      "0.68\n"
     ]
    },
    {
     "name": "stderr",
     "output_type": "stream",
     "text": [
      " 14%|█▍        | 4049/29049 [12:39:34<75:06:13, 10.81s/it]"
     ]
    },
    {
     "name": "stdout",
     "output_type": "stream",
     "text": [
      "0.65\n"
     ]
    },
    {
     "name": "stderr",
     "output_type": "stream",
     "text": [
      " 14%|█▍        | 4149/29049 [12:57:54<76:04:06, 11.00s/it]"
     ]
    },
    {
     "name": "stdout",
     "output_type": "stream",
     "text": [
      "0.66\n"
     ]
    },
    {
     "name": "stderr",
     "output_type": "stream",
     "text": [
      " 15%|█▍        | 4249/29049 [13:16:01<76:36:13, 11.12s/it]"
     ]
    },
    {
     "name": "stdout",
     "output_type": "stream",
     "text": [
      "0.69\n"
     ]
    },
    {
     "name": "stderr",
     "output_type": "stream",
     "text": [
      " 15%|█▍        | 4349/29049 [13:34:12<74:48:32, 10.90s/it]"
     ]
    },
    {
     "name": "stdout",
     "output_type": "stream",
     "text": [
      "0.57\n"
     ]
    },
    {
     "name": "stderr",
     "output_type": "stream",
     "text": [
      " 15%|█▌        | 4449/29049 [13:52:20<74:34:13, 10.91s/it]"
     ]
    },
    {
     "name": "stdout",
     "output_type": "stream",
     "text": [
      "0.7\n"
     ]
    },
    {
     "name": "stderr",
     "output_type": "stream",
     "text": [
      " 16%|█▌        | 4549/29049 [14:10:31<73:45:11, 10.84s/it]"
     ]
    },
    {
     "name": "stdout",
     "output_type": "stream",
     "text": [
      "0.66\n"
     ]
    },
    {
     "name": "stderr",
     "output_type": "stream",
     "text": [
      " 16%|█▌        | 4649/29049 [14:28:38<74:21:54, 10.97s/it]"
     ]
    },
    {
     "name": "stdout",
     "output_type": "stream",
     "text": [
      "0.66\n"
     ]
    },
    {
     "name": "stderr",
     "output_type": "stream",
     "text": [
      " 16%|█▋        | 4749/29049 [14:46:40<74:16:42, 11.00s/it]"
     ]
    },
    {
     "name": "stdout",
     "output_type": "stream",
     "text": [
      "0.56\n"
     ]
    },
    {
     "name": "stderr",
     "output_type": "stream",
     "text": [
      " 17%|█▋        | 4849/29049 [15:04:51<72:23:40, 10.77s/it]"
     ]
    },
    {
     "name": "stdout",
     "output_type": "stream",
     "text": [
      "0.69\n"
     ]
    },
    {
     "name": "stderr",
     "output_type": "stream",
     "text": [
      " 17%|█▋        | 4949/29049 [15:22:53<71:29:28, 10.68s/it]"
     ]
    },
    {
     "name": "stdout",
     "output_type": "stream",
     "text": [
      "0.59\n"
     ]
    },
    {
     "name": "stderr",
     "output_type": "stream",
     "text": [
      " 17%|█▋        | 5049/29049 [15:40:50<72:06:57, 10.82s/it]"
     ]
    },
    {
     "name": "stdout",
     "output_type": "stream",
     "text": [
      "0.68\n"
     ]
    },
    {
     "name": "stderr",
     "output_type": "stream",
     "text": [
      " 18%|█▊        | 5149/29049 [15:59:01<73:14:13, 11.03s/it]"
     ]
    },
    {
     "name": "stdout",
     "output_type": "stream",
     "text": [
      "0.65\n"
     ]
    },
    {
     "name": "stderr",
     "output_type": "stream",
     "text": [
      " 18%|█▊        | 5249/29049 [16:17:39<72:50:51, 11.02s/it] "
     ]
    },
    {
     "name": "stdout",
     "output_type": "stream",
     "text": [
      "0.67\n"
     ]
    },
    {
     "name": "stderr",
     "output_type": "stream",
     "text": [
      " 18%|█▊        | 5295/29049 [16:25:57<73:43:09, 11.17s/it]\n"
     ]
    },
    {
     "ename": "KeyboardInterrupt",
     "evalue": "",
     "output_type": "error",
     "traceback": [
      "\u001b[0;31m---------------------------------------------------------------------------\u001b[0m",
      "\u001b[0;31mKeyboardInterrupt\u001b[0m                         Traceback (most recent call last)",
      "\u001b[0;32m<ipython-input-172-d25a2881e0e6>\u001b[0m in \u001b[0;36m<module>\u001b[0;34m\u001b[0m\n\u001b[1;32m     40\u001b[0m     \u001b[0;32mfor\u001b[0m \u001b[0mi\u001b[0m \u001b[0;32min\u001b[0m \u001b[0mrange\u001b[0m\u001b[0;34m(\u001b[0m\u001b[0;36m0\u001b[0m\u001b[0;34m,\u001b[0m\u001b[0mL\u001b[0m\u001b[0;34m)\u001b[0m\u001b[0;34m:\u001b[0m\u001b[0;34m\u001b[0m\u001b[0;34m\u001b[0m\u001b[0m\n\u001b[1;32m     41\u001b[0m         \u001b[0mbetaBt\u001b[0m \u001b[0;34m=\u001b[0m \u001b[0mtheta_tilde\u001b[0m\u001b[0;34m[\u001b[0m\u001b[0mm\u001b[0m\u001b[0;34m]\u001b[0m\u001b[0;34m[\u001b[0m\u001b[0;36m0\u001b[0m\u001b[0;34m:\u001b[0m\u001b[0mp\u001b[0m\u001b[0;34m]\u001b[0m\u001b[0;34m.\u001b[0m\u001b[0mdot\u001b[0m\u001b[0;34m(\u001b[0m\u001b[0mB_zeta\u001b[0m\u001b[0;34m.\u001b[0m\u001b[0mT\u001b[0m\u001b[0;34m)\u001b[0m\u001b[0;34m\u001b[0m\u001b[0;34m\u001b[0m\u001b[0m\n\u001b[0;32m---> 42\u001b[0;31m         theta_tilde[m], r_tilde[m] = Leapfrog(theta_tilde[m], \n\u001b[0m\u001b[1;32m     43\u001b[0m                                               \u001b[0mr_tilde\u001b[0m\u001b[0;34m[\u001b[0m\u001b[0mm\u001b[0m\u001b[0;34m]\u001b[0m\u001b[0;34m,\u001b[0m\u001b[0;34m\u001b[0m\u001b[0;34m\u001b[0m\u001b[0m\n\u001b[1;32m     44\u001b[0m                                               \u001b[0mepsilon\u001b[0m\u001b[0;34m,\u001b[0m \u001b[0mn\u001b[0m\u001b[0;34m,\u001b[0m \u001b[0mz\u001b[0m\u001b[0;34m,\u001b[0m \u001b[0mp\u001b[0m\u001b[0;34m,\u001b[0m\u001b[0;34m\u001b[0m\u001b[0;34m\u001b[0m\u001b[0m\n",
      "\u001b[0;32m<ipython-input-24-83e30bec73e9>\u001b[0m in \u001b[0;36mLeapfrog\u001b[0;34m(theta, r, epsilon, n, z, p, B, tBB, betaBt, i, L)\u001b[0m\n\u001b[1;32m     13\u001b[0m \u001b[0;34m\u001b[0m\u001b[0m\n\u001b[1;32m     14\u001b[0m     \u001b[0;31m# compute updated gradient\u001b[0m\u001b[0;34m\u001b[0m\u001b[0;34m\u001b[0m\u001b[0;34m\u001b[0m\u001b[0m\n\u001b[0;32m---> 15\u001b[0;31m     \u001b[0mDelta_theta_tilde\u001b[0m \u001b[0;34m=\u001b[0m \u001b[0mDelta_theta\u001b[0m\u001b[0;34m(\u001b[0m\u001b[0mtheta_tilde\u001b[0m\u001b[0;34m,\u001b[0m \u001b[0mB\u001b[0m\u001b[0;34m,\u001b[0m \u001b[0mn\u001b[0m\u001b[0;34m,\u001b[0m \u001b[0mz\u001b[0m\u001b[0;34m,\u001b[0m \u001b[0mp\u001b[0m\u001b[0;34m,\u001b[0m \u001b[0mtBB\u001b[0m\u001b[0;34m,\u001b[0m \u001b[0mbetaBt_t\u001b[0m\u001b[0;34m,\u001b[0m \u001b[0mBoB\u001b[0m\u001b[0;34m)\u001b[0m\u001b[0;34m\u001b[0m\u001b[0;34m\u001b[0m\u001b[0m\n\u001b[0m\u001b[1;32m     16\u001b[0m \u001b[0;34m\u001b[0m\u001b[0m\n\u001b[1;32m     17\u001b[0m     \u001b[0;31m# update momentum again\u001b[0m\u001b[0;34m\u001b[0m\u001b[0;34m\u001b[0m\u001b[0;34m\u001b[0m\u001b[0m\n",
      "\u001b[0;32m<ipython-input-23-03dfa1b2015d>\u001b[0m in \u001b[0;36mDelta_theta\u001b[0;34m(vartheta_t, B, n, z, p, tBB, betaBt, BoB)\u001b[0m\n\u001b[1;32m     76\u001b[0m     \u001b[0mret_id2\u001b[0m \u001b[0;34m=\u001b[0m \u001b[0mdelta_1_lambda\u001b[0m\u001b[0;34m.\u001b[0m\u001b[0mremote\u001b[0m\u001b[0;34m(\u001b[0m\u001b[0mLambda_t\u001b[0m\u001b[0;34m,\u001b[0m \u001b[0mbeta_t\u001b[0m\u001b[0;34m,\u001b[0m \u001b[0mB\u001b[0m\u001b[0;34m,\u001b[0m \u001b[0mdS2\u001b[0m\u001b[0;34m,\u001b[0m \u001b[0mS2\u001b[0m\u001b[0;34m,\u001b[0m \u001b[0mS\u001b[0m\u001b[0;34m,\u001b[0m \u001b[0mz\u001b[0m\u001b[0;34m,\u001b[0m \u001b[0mnp\u001b[0m\u001b[0;34m.\u001b[0m\u001b[0mexp\u001b[0m\u001b[0;34m(\u001b[0m\u001b[0mlog_tau_t\u001b[0m\u001b[0;34m)\u001b[0m\u001b[0;34m)\u001b[0m\u001b[0;34m\u001b[0m\u001b[0;34m\u001b[0m\u001b[0m\n\u001b[1;32m     77\u001b[0m     \u001b[0mret_id3\u001b[0m \u001b[0;34m=\u001b[0m \u001b[0mdelta_1_log_tau\u001b[0m\u001b[0;34m.\u001b[0m\u001b[0mremote\u001b[0m\u001b[0;34m(\u001b[0m\u001b[0mp\u001b[0m\u001b[0;34m,\u001b[0m \u001b[0mlog_tau_t\u001b[0m\u001b[0;34m,\u001b[0m \u001b[0mLambda_t\u001b[0m\u001b[0;34m)\u001b[0m\u001b[0;34m\u001b[0m\u001b[0;34m\u001b[0m\u001b[0m\n\u001b[0;32m---> 78\u001b[0;31m     \u001b[0mgrad_beta\u001b[0m\u001b[0;34m,\u001b[0m \u001b[0mgrad_lambda\u001b[0m\u001b[0;34m,\u001b[0m \u001b[0mgrad_tau\u001b[0m \u001b[0;34m=\u001b[0m \u001b[0mray\u001b[0m\u001b[0;34m.\u001b[0m\u001b[0mget\u001b[0m\u001b[0;34m(\u001b[0m\u001b[0;34m[\u001b[0m\u001b[0mret_id1\u001b[0m\u001b[0;34m,\u001b[0m \u001b[0mret_id2\u001b[0m\u001b[0;34m,\u001b[0m \u001b[0mret_id3\u001b[0m\u001b[0;34m]\u001b[0m\u001b[0;34m)\u001b[0m\u001b[0;34m\u001b[0m\u001b[0;34m\u001b[0m\u001b[0m\n\u001b[0m\u001b[1;32m     79\u001b[0m     \u001b[0;31m#print(grad_beta, grad_lambda, grad_tau)\u001b[0m\u001b[0;34m\u001b[0m\u001b[0;34m\u001b[0m\u001b[0;34m\u001b[0m\u001b[0m\n\u001b[1;32m     80\u001b[0m \u001b[0;34m\u001b[0m\u001b[0m\n",
      "\u001b[0;32m~/.local/lib/python3.8/site-packages/ray/worker.py\u001b[0m in \u001b[0;36mget\u001b[0;34m(object_refs, timeout)\u001b[0m\n\u001b[1;32m   1443\u001b[0m         \u001b[0;32mglobal\u001b[0m \u001b[0mlast_task_error_raise_time\u001b[0m\u001b[0;34m\u001b[0m\u001b[0;34m\u001b[0m\u001b[0m\n\u001b[1;32m   1444\u001b[0m         \u001b[0;31m# TODO(ujvl): Consider how to allow user to retrieve the ready objects.\u001b[0m\u001b[0;34m\u001b[0m\u001b[0;34m\u001b[0m\u001b[0;34m\u001b[0m\u001b[0m\n\u001b[0;32m-> 1445\u001b[0;31m         \u001b[0mvalues\u001b[0m \u001b[0;34m=\u001b[0m \u001b[0mworker\u001b[0m\u001b[0;34m.\u001b[0m\u001b[0mget_objects\u001b[0m\u001b[0;34m(\u001b[0m\u001b[0mobject_refs\u001b[0m\u001b[0;34m,\u001b[0m \u001b[0mtimeout\u001b[0m\u001b[0;34m=\u001b[0m\u001b[0mtimeout\u001b[0m\u001b[0;34m)\u001b[0m\u001b[0;34m\u001b[0m\u001b[0;34m\u001b[0m\u001b[0m\n\u001b[0m\u001b[1;32m   1446\u001b[0m         \u001b[0;32mfor\u001b[0m \u001b[0mi\u001b[0m\u001b[0;34m,\u001b[0m \u001b[0mvalue\u001b[0m \u001b[0;32min\u001b[0m \u001b[0menumerate\u001b[0m\u001b[0;34m(\u001b[0m\u001b[0mvalues\u001b[0m\u001b[0;34m)\u001b[0m\u001b[0;34m:\u001b[0m\u001b[0;34m\u001b[0m\u001b[0;34m\u001b[0m\u001b[0m\n\u001b[1;32m   1447\u001b[0m             \u001b[0;32mif\u001b[0m \u001b[0misinstance\u001b[0m\u001b[0;34m(\u001b[0m\u001b[0mvalue\u001b[0m\u001b[0;34m,\u001b[0m \u001b[0mRayError\u001b[0m\u001b[0;34m)\u001b[0m\u001b[0;34m:\u001b[0m\u001b[0;34m\u001b[0m\u001b[0;34m\u001b[0m\u001b[0m\n",
      "\u001b[0;32m~/.local/lib/python3.8/site-packages/ray/worker.py\u001b[0m in \u001b[0;36mget_objects\u001b[0;34m(self, object_refs, timeout)\u001b[0m\n\u001b[1;32m    312\u001b[0m \u001b[0;34m\u001b[0m\u001b[0m\n\u001b[1;32m    313\u001b[0m         \u001b[0mtimeout_ms\u001b[0m \u001b[0;34m=\u001b[0m \u001b[0mint\u001b[0m\u001b[0;34m(\u001b[0m\u001b[0mtimeout\u001b[0m \u001b[0;34m*\u001b[0m \u001b[0;36m1000\u001b[0m\u001b[0;34m)\u001b[0m \u001b[0;32mif\u001b[0m \u001b[0mtimeout\u001b[0m \u001b[0;32melse\u001b[0m \u001b[0;34m-\u001b[0m\u001b[0;36m1\u001b[0m\u001b[0;34m\u001b[0m\u001b[0;34m\u001b[0m\u001b[0m\n\u001b[0;32m--> 314\u001b[0;31m         data_metadata_pairs = self.core_worker.get_objects(\n\u001b[0m\u001b[1;32m    315\u001b[0m             object_refs, self.current_task_id, timeout_ms)\n\u001b[1;32m    316\u001b[0m         \u001b[0;32mreturn\u001b[0m \u001b[0mself\u001b[0m\u001b[0;34m.\u001b[0m\u001b[0mdeserialize_objects\u001b[0m\u001b[0;34m(\u001b[0m\u001b[0mdata_metadata_pairs\u001b[0m\u001b[0;34m,\u001b[0m \u001b[0mobject_refs\u001b[0m\u001b[0;34m)\u001b[0m\u001b[0;34m\u001b[0m\u001b[0;34m\u001b[0m\u001b[0m\n",
      "\u001b[0;31mKeyboardInterrupt\u001b[0m: "
     ]
    }
   ],
   "source": [
    "#seed = 6835963\n",
    "r0 = np.repeat(None, 30000)\n",
    "theta_tilde = np.repeat(None, 30000)\n",
    "r_tilde = np.repeat(None, 30000)\n",
    "#log_dens = np.repeat(None, 30000)\n",
    "#r_tilde = np.repeat(None, M)\n",
    "log_dens =  np.repeat(None, 30000)\n",
    "alpha = np.repeat(None, 30000)\n",
    "#theta_m_1 = np.repeat(None, M)\n",
    "#r_m = np.repeat(None, M)\n",
    "#theta_m_1[0] = np.append(np.zeros(p), np.append(np.repeat(0,p), 0))\n",
    "\n",
    "acc = []\n",
    "# loop over number of samples that we want to produce\n",
    "#theta_tilde[0] = np.zeros(21)\n",
    "#r_tilde[0] = np.zeros(21)\n",
    "#theta_m_1[1] =  np.append(np.zeros(p), np.append(np.repeat(0,p), 0))\n",
    "#all_thetas = []\n",
    "#theta_m_1[0] = np.append(np.zeros(p), np.append(np.repeat(0,p), 0))\n",
    "#r_m[0] = np.random.multivariate_normal(np.zeros(q), np.identity(q), 1)\n",
    "#r_m[1] = np.random.multivariate_normal(np.zeros(q), np.identity(q), 1)\n",
    "for m in tqdm(range(20952, M)):\n",
    "    \n",
    "    # Update S\n",
    "    # draw momentum from normal distribution\n",
    "    r0[m] = np.random.multivariate_normal(np.zeros(q), np.identity(q), 1)\n",
    "    \n",
    "    # set new parameters\n",
    "    theta_tilde[m] = np.array(theta_m_1[m]).reshape(q,)\n",
    "    r_tilde[m] = r0[m]\n",
    "    betaBt = theta_tilde[m][0:p].dot(B_zeta.T)\n",
    "    \n",
    "    # compute gradient with theta\n",
    "    Delta_theta_t = Delta_theta(theta_tilde[m], B_zeta, n, z, p, tBB, betaBt, BoB)\n",
    "\n",
    "    # update momentum\n",
    "    r_tilde[m] = r_tilde[m] + (epsilon*0.5)*Delta_theta_t\n",
    "    \n",
    "    # generate proposal through L leapfrog updates \n",
    "    for i in range(0,L):\n",
    "        betaBt = theta_tilde[m][0:p].dot(B_zeta.T)\n",
    "        theta_tilde[m], r_tilde[m] = Leapfrog(theta_tilde[m], \n",
    "                                              r_tilde[m], \n",
    "                                              epsilon, n, z, p, \n",
    "                                              B_zeta, tBB, \n",
    "                                              betaBt, i, L)\n",
    "        \n",
    "    # compute gradient with theta\n",
    "    betaBt = theta_tilde[m][0:p].dot(B_zeta.T)\n",
    "    Delta_theta_t = Delta_theta(theta_tilde[m], B_zeta, n, z, p, tBB, betaBt, BoB)\n",
    "\n",
    "    # update momentum\n",
    "    r_tilde[m] = r_tilde[m] + (epsilon*0.5)*Delta_theta_t\n",
    "    \n",
    "    dS2, S2, S =  generate_dS2_ddS2_S2_S(np.exp(0.5*theta_tilde[m][p:2*p]), BoB)\n",
    "    betaBt = theta_tilde[m][0:p].dot(B_zeta.T)\n",
    "    \n",
    "    # probability that proposal is accepted\n",
    "    #log_dens[m] = log_density(S, B_zeta, theta_tilde[m][0:p], np.exp(0.5*theta_tilde[m][p:2*p]), theta_tilde[m][p], z, p)\n",
    "    #alpha[m] = min([1, (np.exp(log_dens[m] - r_tilde[m].dot(r_tilde[m].T)*1/2))/np.exp((log_dens[m] - r0[m].dot(r0[m].T)*1/2))])\n",
    "        # probability that proposal is accepted\n",
    "    theta_m_1[m] = np.array(theta_m_1[m])\n",
    "    log_dens[m] = log_density(S, B_zeta, theta_tilde[m][0:p], np.exp(0.5*theta_tilde[m][p:2*p]), theta_tilde[m][p], z, p)\n",
    "    proposed_u = log_density(S, B_zeta, theta_m_1[m][0:p], np.exp(0.5*theta_m_1[m][p:2*p]), theta_m_1[m][p], z, p)\n",
    "    current_K = r_tilde[m].dot(r_tilde[m].T)*0.5\n",
    "    proposed_K = r_m[m].dot(r_m[m].T)*0.5\n",
    "    p_accept = log_dens[m] -  proposed_u + current_K - proposed_K\n",
    "    alpha[m] = np.exp(min([np.log(1), p_accept]))\n",
    "    \n",
    "    if np.random.randn() <= alpha[m]:\n",
    "        theta_m_1[m + 1] = theta_tilde[m]\n",
    "        r_m[m + 1] = - r_tilde[m]\n",
    "        acc.append(1)\n",
    "        all_thetas.append(np.array(theta_m_1[m + 1]))\n",
    "    else:\n",
    "        theta_m_1[m + 1] = theta_tilde[m - 1]\n",
    "        r_m[m + 1] = - r_tilde[m - 1]\n",
    "        acc.append(0)\n",
    "        all_thetas.append(np.array(theta_m_1[m + 1]))\n",
    "    if (m % 100 == 0) & (m > 1): \n",
    "        print(np.mean(acc[-100:]))\n",
    "    "
   ]
  },
  {
   "cell_type": "code",
   "execution_count": null,
   "metadata": {},
   "outputs": [],
   "source": [
    "len(all_thetas)"
   ]
  },
  {
   "cell_type": "code",
   "execution_count": 176,
   "metadata": {},
   "outputs": [],
   "source": [
    "np.save('../../../../data/commaai/mcmc/filtered_gaussian_resampled/Horseshoe/all_thetas_try.npy', np.array(all_thetas))\n",
    "np.save('../../../../data/commaai/mcmc/filtered_gaussian_resampled/Horseshoe/r_m_try.npy', np.array(r_m[:26259], dtype = 'object'))"
   ]
  },
  {
   "cell_type": "code",
   "execution_count": 94,
   "metadata": {},
   "outputs": [],
   "source": [
    "theta_m_1 = np.load('../../../../data/commaai/mcmc/filtered_gaussian_resampled/Horseshoe/all_thetas_try.npy').tolist()\n",
    "r_m = np.load('../../../../data/commaai/mcmc/filtered_gaussian_resampled/Horseshoe/r_m_try.npy', allow_pickle=True).tolist()"
   ]
  },
  {
   "cell_type": "code",
   "execution_count": 102,
   "metadata": {},
   "outputs": [],
   "source": [
    "#all_thetas = np.load('../../../../data/commaai/mcmc/filtered_gaussian_resampled/Horseshoe/all_thetas_try.npy').tolist()"
   ]
  },
  {
   "cell_type": "code",
   "execution_count": 174,
   "metadata": {},
   "outputs": [
    {
     "data": {
      "text/plain": [
       "50001"
      ]
     },
     "execution_count": 174,
     "metadata": {},
     "output_type": "execute_result"
    }
   ],
   "source": [
    "len(r_m)"
   ]
  },
  {
   "cell_type": "code",
   "execution_count": 173,
   "metadata": {},
   "outputs": [
    {
     "data": {
      "text/plain": [
       "[<matplotlib.lines.Line2D at 0x7f89e88fc160>,\n",
       " <matplotlib.lines.Line2D at 0x7f89e88fc070>,\n",
       " <matplotlib.lines.Line2D at 0x7f89e88fcca0>,\n",
       " <matplotlib.lines.Line2D at 0x7f89e88fcee0>,\n",
       " <matplotlib.lines.Line2D at 0x7f89e88fc130>,\n",
       " <matplotlib.lines.Line2D at 0x7f89e88fc940>,\n",
       " <matplotlib.lines.Line2D at 0x7f89e621cdf0>,\n",
       " <matplotlib.lines.Line2D at 0x7f89e62b92b0>,\n",
       " <matplotlib.lines.Line2D at 0x7f89e62b9250>,\n",
       " <matplotlib.lines.Line2D at 0x7f89e62b96a0>,\n",
       " <matplotlib.lines.Line2D at 0x7f89e62b9f70>,\n",
       " <matplotlib.lines.Line2D at 0x7f89e61b4f40>,\n",
       " <matplotlib.lines.Line2D at 0x7f89e61b4b20>,\n",
       " <matplotlib.lines.Line2D at 0x7f89e61b4df0>,\n",
       " <matplotlib.lines.Line2D at 0x7f89e61b4700>,\n",
       " <matplotlib.lines.Line2D at 0x7f89e61b4f70>,\n",
       " <matplotlib.lines.Line2D at 0x7f89e61b4f10>,\n",
       " <matplotlib.lines.Line2D at 0x7f89e61b47c0>,\n",
       " <matplotlib.lines.Line2D at 0x7f89e61b4d60>,\n",
       " <matplotlib.lines.Line2D at 0x7f89e61b4760>,\n",
       " <matplotlib.lines.Line2D at 0x7f89e61b4850>]"
      ]
     },
     "execution_count": 173,
     "metadata": {},
     "output_type": "execute_result"
    },
    {
     "data": {
      "image/png": "[encoded data removed]",
      "text/plain": [
       "<Figure size 432x288 with 1 Axes>"
      ]
     },
     "metadata": {
      "needs_background": "light"
     },
     "output_type": "display_data"
    }
   ],
   "source": [
    "plt.plot(all_thetas)"
   ]
  },
  {
   "cell_type": "code",
   "execution_count": 31,
   "metadata": {},
   "outputs": [
    {
     "data": {
      "text/plain": [
       "21"
      ]
     },
     "execution_count": 31,
     "metadata": {},
     "output_type": "execute_result"
    }
   ],
   "source": [
    "q"
   ]
  },
  {
   "cell_type": "code",
   "execution_count": 122,
   "metadata": {},
   "outputs": [
    {
     "data": {
      "text/plain": [
       "[<matplotlib.lines.Line2D at 0x7f89e63484f0>,\n",
       " <matplotlib.lines.Line2D at 0x7f89e63481f0>,\n",
       " <matplotlib.lines.Line2D at 0x7f89e6348970>,\n",
       " <matplotlib.lines.Line2D at 0x7f89e6348160>,\n",
       " <matplotlib.lines.Line2D at 0x7f89e63488e0>,\n",
       " <matplotlib.lines.Line2D at 0x7f89e6348550>,\n",
       " <matplotlib.lines.Line2D at 0x7f89e6348e50>,\n",
       " <matplotlib.lines.Line2D at 0x7f89e6348ca0>,\n",
       " <matplotlib.lines.Line2D at 0x7f89e6348700>,\n",
       " <matplotlib.lines.Line2D at 0x7f89e6348dc0>,\n",
       " <matplotlib.lines.Line2D at 0x7f89e6356490>,\n",
       " <matplotlib.lines.Line2D at 0x7f89e625b310>,\n",
       " <matplotlib.lines.Line2D at 0x7f89e625b430>,\n",
       " <matplotlib.lines.Line2D at 0x7f89e625baf0>,\n",
       " <matplotlib.lines.Line2D at 0x7f89e625bb50>,\n",
       " <matplotlib.lines.Line2D at 0x7f89e625bcd0>,\n",
       " <matplotlib.lines.Line2D at 0x7f89e625b100>,\n",
       " <matplotlib.lines.Line2D at 0x7f89e625b970>,\n",
       " <matplotlib.lines.Line2D at 0x7f89e625bc70>,\n",
       " <matplotlib.lines.Line2D at 0x7f89e625bee0>,\n",
       " <matplotlib.lines.Line2D at 0x7f89e625bdc0>]"
      ]
     },
     "execution_count": 122,
     "metadata": {},
     "output_type": "execute_result"
    },
    {
     "data": {
      "image/png": "[encoded data removed]",
      "text/plain": [
       "<Figure size 432x288 with 1 Axes>"
      ]
     },
     "metadata": {
      "needs_background": "light"
     },
     "output_type": "display_data"
    }
   ],
   "source": [
    "import matplotlib.pyplot as plt\n",
    "plt.plot(all_thetas)\n",
    "#plt.ylim(-3,-1)"
   ]
  },
  {
   "cell_type": "code",
   "execution_count": null,
   "metadata": {},
   "outputs": [],
   "source": [
    "df = np.array(all_thetas)\n",
    "#np.std(df[4000:], axis = 0)"
   ]
  },
  {
   "cell_type": "code",
   "execution_count": null,
   "metadata": {},
   "outputs": [],
   "source": [
    "plt.plot(df[:,0:10])\n",
    "#plt.plot(np.exp(0.5*df[:,10:20]))"
   ]
  },
  {
   "cell_type": "code",
   "execution_count": null,
   "metadata": {},
   "outputs": [],
   "source": [
    "plt.plot(np.exp(0.5*df[:,10:20]))"
   ]
  },
  {
   "cell_type": "code",
   "execution_count": null,
   "metadata": {},
   "outputs": [],
   "source": [
    "np.mean(acc)"
   ]
  },
  {
   "cell_type": "code",
   "execution_count": null,
   "metadata": {},
   "outputs": [],
   "source": [
    "df = np.array(all_thetas)"
   ]
  },
  {
   "cell_type": "code",
   "execution_count": null,
   "metadata": {},
   "outputs": [],
   "source": [
    "plt.plot(df[:,0:10])"
   ]
  },
  {
   "cell_type": "code",
   "execution_count": null,
   "metadata": {},
   "outputs": [],
   "source": [
    "theta_hmc = np.mean(all_thetas[50:], axis = 0)\n",
    "theta_hmc_sd = np.std(all_thetas[50:], axis = 0)\n",
    "#np.save('../../../../data/commaai/mcmc/filtered_gaussian_resampled/Ridge/all_thetas.npy', np.array(all_taus[J[1]:]))"
   ]
  },
  {
   "cell_type": "code",
   "execution_count": null,
   "metadata": {},
   "outputs": [],
   "source": [
    "theta_hmc"
   ]
  },
  {
   "cell_type": "code",
   "execution_count": null,
   "metadata": {},
   "outputs": [],
   "source": [
    "# comparison with VA"
   ]
  },
  {
   "cell_type": "code",
   "execution_count": null,
   "metadata": {},
   "outputs": [],
   "source": [
    "vartheta_va = np.load('../../../../../data/commaai/va/filtered_gaussian_resampled/Horseshoe/mu_ts_delete.npy')"
   ]
  },
  {
   "cell_type": "code",
   "execution_count": null,
   "metadata": {},
   "outputs": [],
   "source": [
    "vartheta_bts = np.load('../../../../../data/commaai/va/filtered_gaussian_resampled/Horseshoe/B_ts_delete.npy')\n",
    "vartheta_dts = np.load('../../../../../data/commaai/va/filtered_gaussian_resampled/Horseshoe/d_ts_delete.npy')"
   ]
  },
  {
   "cell_type": "code",
   "execution_count": null,
   "metadata": {},
   "outputs": [],
   "source": [
    "B_ts = np.mean(vartheta_bts[10000:, :,:], axis = 0)\n",
    "d_ts = np.mean(vartheta_dts[10000:, :,:], axis = 0)\n",
    "va_sd = np.sqrt(np.diag(B_ts.dot(B_ts.T) + d_ts**2))"
   ]
  },
  {
   "cell_type": "code",
   "execution_count": null,
   "metadata": {},
   "outputs": [],
   "source": [
    "theta_va = np.mean(vartheta_va[10000:, :,:], axis = 0)"
   ]
  },
  {
   "cell_type": "code",
   "execution_count": null,
   "metadata": {},
   "outputs": [],
   "source": [
    "plt.scatter(theta_va[0:10], theta_hmc[0:10])\n",
    "#plt.scatter(theta_va[10:20], theta_hmc[10:20])\n",
    "#plt.scatter(theta_va[20], theta_hmc[20])\n",
    "ident = [-.5, .5]\n",
    "plt.plot(ident,ident)"
   ]
  },
  {
   "cell_type": "code",
   "execution_count": null,
   "metadata": {},
   "outputs": [],
   "source": [
    "beta_va = theta_hmc[0:10]"
   ]
  },
  {
   "cell_type": "code",
   "execution_count": null,
   "metadata": {},
   "outputs": [],
   "source": [
    "theta_va[0:10]"
   ]
  },
  {
   "cell_type": "code",
   "execution_count": null,
   "metadata": {},
   "outputs": [],
   "source": [
    "plt.scatter(va_sd[0:10], theta_hmc_sd[0:10])\n",
    "plt.scatter(va_sd[10:20], theta_hmc_sd[10:20])\n",
    "plt.scatter(va_sd[20], theta_hmc_sd[20])\n",
    "ident = [0, 1.0]\n",
    "plt.plot(ident,ident)"
   ]
  },
  {
   "cell_type": "code",
   "execution_count": null,
   "metadata": {},
   "outputs": [],
   "source": []
  }
 ],
 "metadata": {
  "kernelspec": {
   "display_name": "Python 3",
   "language": "python",
   "name": "python3"
  },
  "language_info": {
   "codemirror_mode": {
    "name": "ipython",
    "version": 3
   },
   "file_extension": ".py",
   "mimetype": "text/x-python",
   "name": "python",
   "nbconvert_exporter": "python",
   "pygments_lexer": "ipython3",
   "version": "3.8.5"
  }
 },
 "nbformat": 4,
 "nbformat_minor": 4
}
