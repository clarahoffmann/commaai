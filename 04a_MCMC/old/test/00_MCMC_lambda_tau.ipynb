{
 "cells": [
  {
   "cell_type": "code",
   "execution_count": 5,
   "metadata": {},
   "outputs": [],
   "source": [
    "import numpy as np\n",
    "import random\n",
    "import math\n",
    "from scipy.stats import multivariate_normal, norm\n",
    "import derivatives as dev\n",
    "from tqdm import tqdm\n",
    "import matplotlib.pyplot as plt\n",
    "import lambda_sampler as ls\n",
    "import tau_sampler as ts\n",
    "from scipy.stats import halfcauchy"
   ]
  },
  {
   "cell_type": "code",
   "execution_count": 6,
   "metadata": {},
   "outputs": [],
   "source": [
    "extracted_coefficients_directory = '../../../data/commaai/extracted_coefficients/20201027_filtered_gaussian_resampled/'\n",
    "B_zeta_path = str(extracted_coefficients_directory + 'Bzeta/B_zeta.npy')\n",
    "beta_path = str(extracted_coefficients_directory + 'beta/beta.csv')\n",
    "z_path = str(extracted_coefficients_directory + 'Bzeta/tr_labels.npy')\n",
    "beta = np.genfromtxt(beta_path, delimiter=',')\n",
    "B_zeta = np.load(B_zeta_path)\n",
    "B_zeta = B_zeta.reshape(B_zeta.shape[0], beta.shape[0])\n",
    "z = np.load(z_path)#[0:B_zeta.shape[0]]\n",
    "n = B_zeta.shape[0]\n",
    "p = B_zeta.shape[1]\n",
    "\n",
    "beta = np.repeat(0,10)\n",
    "Lambda_old = np.repeat(1,p)\n",
    "BoB = B_zeta**2\n",
    "log_tau_old = math.log(0.5)\n",
    "dS2_old, ddS2_old, S2_old, S_old = dev.generate_dS2_ddS2_S2_S(Lambda_old, BoB)"
   ]
  },
  {
   "cell_type": "code",
   "execution_count": 7,
   "metadata": {},
   "outputs": [],
   "source": [
    "# initialize Lambda\n",
    "betaBt = beta.dot(B_zeta.T)"
   ]
  },
  {
   "cell_type": "code",
   "execution_count": 17,
   "metadata": {},
   "outputs": [
    {
     "name": "stderr",
     "output_type": "stream",
     "text": [
      "  7%|▋         | 7175/100000 [1:00:39<13:04:39,  1.97it/s]\n"
     ]
    },
    {
     "ename": "KeyboardInterrupt",
     "evalue": "",
     "output_type": "error",
     "traceback": [
      "\u001b[0;31m---------------------------------------------------------------------------\u001b[0m",
      "\u001b[0;31mKeyboardInterrupt\u001b[0m                         Traceback (most recent call last)",
      "\u001b[0;32m<ipython-input-17-594e6d2c3fa7>\u001b[0m in \u001b[0;36m<module>\u001b[0;34m\u001b[0m\n\u001b[1;32m     25\u001b[0m     \u001b[0;31m# update lambda\u001b[0m\u001b[0;34m\u001b[0m\u001b[0;34m\u001b[0m\u001b[0;34m\u001b[0m\u001b[0m\n\u001b[1;32m     26\u001b[0m     \u001b[0;32mfor\u001b[0m \u001b[0mm\u001b[0m \u001b[0;32min\u001b[0m \u001b[0mrange\u001b[0m\u001b[0;34m(\u001b[0m\u001b[0;36m0\u001b[0m\u001b[0;34m,\u001b[0m \u001b[0mlen\u001b[0m\u001b[0;34m(\u001b[0m\u001b[0mLambda_old\u001b[0m\u001b[0;34m)\u001b[0m\u001b[0;34m)\u001b[0m\u001b[0;34m:\u001b[0m\u001b[0;34m\u001b[0m\u001b[0;34m\u001b[0m\u001b[0m\n\u001b[0;32m---> 27\u001b[0;31m         log_sq_lambda_new, decision_criterion_lambda, dS2_new, ddS2_new, S2_new, S_new, ddlunew, Lambda_new = ls.sample_lambda(m, \n\u001b[0m\u001b[1;32m     28\u001b[0m                                                                                                \u001b[0mlog_tau_old\u001b[0m\u001b[0;34m,\u001b[0m\u001b[0;34m\u001b[0m\u001b[0;34m\u001b[0m\u001b[0m\n\u001b[1;32m     29\u001b[0m                                                                                                \u001b[0mLambda_old\u001b[0m\u001b[0;34m,\u001b[0m \u001b[0mp\u001b[0m\u001b[0;34m,\u001b[0m \u001b[0mbeta\u001b[0m\u001b[0;34m,\u001b[0m\u001b[0;34m\u001b[0m\u001b[0;34m\u001b[0m\u001b[0m\n",
      "\u001b[0;32m~/commaai_code/04a_MCMC/test/lambda_sampler.py\u001b[0m in \u001b[0;36msample_lambda\u001b[0;34m(lj, log_tau_old, Lambda, p, beta, B_zeta, dS2_old, ddS2_old, S2_old, S_old, z, BoB, betaBt)\u001b[0m\n\u001b[1;32m     71\u001b[0m         \u001b[0mLambda_new\u001b[0m \u001b[0;34m=\u001b[0m \u001b[0mnp\u001b[0m\u001b[0;34m.\u001b[0m\u001b[0mappend\u001b[0m\u001b[0;34m(\u001b[0m\u001b[0mLambda_new\u001b[0m\u001b[0;34m[\u001b[0m\u001b[0;36m0\u001b[0m\u001b[0;34m:\u001b[0m\u001b[0mlj\u001b[0m\u001b[0;34m]\u001b[0m\u001b[0;34m,\u001b[0m \u001b[0mlambdajnew\u001b[0m\u001b[0;34m)\u001b[0m\u001b[0;34m\u001b[0m\u001b[0;34m\u001b[0m\u001b[0m\n\u001b[1;32m     72\u001b[0m \u001b[0;34m\u001b[0m\u001b[0m\n\u001b[0;32m---> 73\u001b[0;31m     \u001b[0mdS2_new_j\u001b[0m\u001b[0;34m,\u001b[0m \u001b[0mddS2_new_j\u001b[0m\u001b[0;34m,\u001b[0m \u001b[0mS2_new\u001b[0m\u001b[0;34m,\u001b[0m \u001b[0mS_new\u001b[0m \u001b[0;34m=\u001b[0m \u001b[0mgenerate_dS2_ddS2_S2_S_lj\u001b[0m\u001b[0;34m(\u001b[0m\u001b[0mlj\u001b[0m\u001b[0;34m,\u001b[0m \u001b[0mLambda_new\u001b[0m\u001b[0;34m,\u001b[0m \u001b[0mBoB\u001b[0m\u001b[0;34m)\u001b[0m\u001b[0;34m\u001b[0m\u001b[0;34m\u001b[0m\u001b[0m\n\u001b[0m\u001b[1;32m     74\u001b[0m     \u001b[0mdS2_new\u001b[0m\u001b[0;34m,\u001b[0m \u001b[0mddS2_new\u001b[0m \u001b[0;34m=\u001b[0m \u001b[0mnp\u001b[0m\u001b[0;34m.\u001b[0m\u001b[0mcopy\u001b[0m\u001b[0;34m(\u001b[0m\u001b[0mdS2_old\u001b[0m\u001b[0;34m)\u001b[0m\u001b[0;34m,\u001b[0m \u001b[0mnp\u001b[0m\u001b[0;34m.\u001b[0m\u001b[0mcopy\u001b[0m\u001b[0;34m(\u001b[0m\u001b[0mddS2_old\u001b[0m\u001b[0;34m)\u001b[0m\u001b[0;34m\u001b[0m\u001b[0;34m\u001b[0m\u001b[0m\n\u001b[1;32m     75\u001b[0m     \u001b[0mdS2_new\u001b[0m\u001b[0;34m[\u001b[0m\u001b[0;34m:\u001b[0m\u001b[0;34m,\u001b[0m\u001b[0mlj\u001b[0m\u001b[0;34m]\u001b[0m\u001b[0;34m,\u001b[0m \u001b[0mddS2_new\u001b[0m\u001b[0;34m[\u001b[0m\u001b[0;34m:\u001b[0m\u001b[0;34m,\u001b[0m\u001b[0mlj\u001b[0m\u001b[0;34m]\u001b[0m \u001b[0;34m=\u001b[0m \u001b[0mdS2_new_j\u001b[0m\u001b[0;34m,\u001b[0m \u001b[0mddS2_new_j\u001b[0m\u001b[0;34m\u001b[0m\u001b[0;34m\u001b[0m\u001b[0m\n",
      "\u001b[0;32m~/commaai_code/04a_MCMC/test/lambda_sampler.py\u001b[0m in \u001b[0;36mgenerate_dS2_ddS2_S2_S_lj\u001b[0;34m(lj, lambda_new, BoB)\u001b[0m\n\u001b[1;32m     30\u001b[0m \u001b[0;34m\u001b[0m\u001b[0m\n\u001b[1;32m     31\u001b[0m     \u001b[0mn\u001b[0m\u001b[0;34m,\u001b[0m \u001b[0mp\u001b[0m \u001b[0;34m=\u001b[0m \u001b[0mBoB\u001b[0m\u001b[0;34m.\u001b[0m\u001b[0mshape\u001b[0m\u001b[0;34m\u001b[0m\u001b[0;34m\u001b[0m\u001b[0m\n\u001b[0;32m---> 32\u001b[0;31m     \u001b[0mW\u001b[0m \u001b[0;34m=\u001b[0m \u001b[0mBoB\u001b[0m\u001b[0;34m.\u001b[0m\u001b[0mdot\u001b[0m\u001b[0;34m(\u001b[0m\u001b[0mlambda_new\u001b[0m\u001b[0;34m**\u001b[0m\u001b[0;36m2\u001b[0m\u001b[0;34m)\u001b[0m\u001b[0;34m\u001b[0m\u001b[0;34m\u001b[0m\u001b[0m\n\u001b[0m\u001b[1;32m     33\u001b[0m     \u001b[0mS2\u001b[0m \u001b[0;34m=\u001b[0m \u001b[0;34m(\u001b[0m\u001b[0;36m1\u001b[0m\u001b[0;34m/\u001b[0m\u001b[0;34m(\u001b[0m\u001b[0;36m1\u001b[0m \u001b[0;34m+\u001b[0m \u001b[0mW\u001b[0m\u001b[0;34m)\u001b[0m\u001b[0;34m)\u001b[0m\u001b[0;34m\u001b[0m\u001b[0;34m\u001b[0m\u001b[0m\n\u001b[1;32m     34\u001b[0m     \u001b[0mS\u001b[0m \u001b[0;34m=\u001b[0m \u001b[0mnp\u001b[0m\u001b[0;34m.\u001b[0m\u001b[0msqrt\u001b[0m\u001b[0;34m(\u001b[0m\u001b[0mS2\u001b[0m\u001b[0;34m)\u001b[0m\u001b[0;34m\u001b[0m\u001b[0;34m\u001b[0m\u001b[0m\n",
      "\u001b[0;31mKeyboardInterrupt\u001b[0m: "
     ]
    }
   ],
   "source": [
    "num_iterations = 100000\n",
    "lambdaacc = np.zeros((len(Lambda_old),num_iterations))\n",
    "all_betas = []\n",
    "all_lambdas = []\n",
    "tauacc = []\n",
    "all_taus = []\n",
    "for j in tqdm(range(0, num_iterations)):\n",
    "    \n",
    "    beta = ts.sample_beta(p, B_zeta, Lambda_old, S_old, z)\n",
    "    all_betas.append(beta)\n",
    "    \n",
    "    betaBt = beta.dot(B_zeta.T)\n",
    "    \n",
    "    # update tau\n",
    "    log_tau_new, decision_criterion_tau = ts.sample_tau(log_tau_old, Lambda_old, p)\n",
    "    # decision to accept/reject tau\n",
    "    if np.log(np.random.uniform(0,1,1)) <= decision_criterion_tau:\n",
    "        log_tau_old = log_tau_new\n",
    "        tauacc.append(1)\n",
    "        all_taus.append(log_tau_new)\n",
    "    else:\n",
    "        tauacc.append(0)\n",
    "        all_taus.append(log_tau_old)\n",
    "    \n",
    "    # update lambda\n",
    "    for m in range(0, len(Lambda_old)):\n",
    "        log_sq_lambda_new, decision_criterion_lambda, dS2_new, ddS2_new, S2_new, S_new, ddlunew, Lambda_new = ls.sample_lambda(m, \n",
    "                                                                                               log_tau_old, \n",
    "                                                                                               Lambda_old, p, beta, \n",
    "                                                                                               B_zeta, dS2_old, ddS2_old, \n",
    "                                                                                              S2_old, S_old, z, BoB, betaBt)\n",
    "\n",
    "        if np.log(np.random.uniform(0,1,1)) <= decision_criterion_lambda:\n",
    "           # if m < p - 1:\n",
    "            #    Lambda_old = np.append(np.append(Lambda_old[0:m], math.exp(0.5*log_sq_lambda_new)), Lambda_old[m + 1:])\n",
    "            #elif m == p - 1:\n",
    "            #    Lambda_old = np.append(Lambda_old[0:m],  math.exp(0.5*log_sq_lambda_new))\n",
    "            Lambda_old = Lambda_new.copy()\n",
    "            lambdaacc[m,j] += 1\n",
    "            all_lambdas.append(Lambda_old)\n",
    "            dS2_old, ddS2_old, S2_old, S_old = dS2_new, ddS2_new, S2_new, S_new\n",
    "        \n",
    "        else:\n",
    "            lambdaacc[m,j] += 0\n",
    "            all_lambdas.append(Lambda_old)  "
   ]
  },
  {
   "cell_type": "code",
   "execution_count": 18,
   "metadata": {},
   "outputs": [
    {
     "name": "stdout",
     "output_type": "stream",
     "text": [
      "Acceptance rate for lambda_js: [0.04315 0.      0.04441 0.      0.      0.      0.      0.      0.\n",
      " 0.     ]\n",
      "Acceptance rate for tau: 0.9646042363433668\n"
     ]
    }
   ],
   "source": [
    "print('Acceptance rate for lambda_js: ' + str(np.sum(lambdaacc/num_iterations, axis = 1))\n",
    "     + '\\nAcceptance rate for tau: ' + str(np.mean(tauacc)))\n"
   ]
  },
  {
   "cell_type": "code",
   "execution_count": 19,
   "metadata": {},
   "outputs": [
    {
     "data": {
      "text/plain": [
       "[<matplotlib.lines.Line2D at 0x7fefcb590160>,\n",
       " <matplotlib.lines.Line2D at 0x7fefcb590250>,\n",
       " <matplotlib.lines.Line2D at 0x7fefcb590310>,\n",
       " <matplotlib.lines.Line2D at 0x7fefcb5903d0>,\n",
       " <matplotlib.lines.Line2D at 0x7fefcb590490>,\n",
       " <matplotlib.lines.Line2D at 0x7fefcb590550>,\n",
       " <matplotlib.lines.Line2D at 0x7fefcb590610>,\n",
       " <matplotlib.lines.Line2D at 0x7fefcb5906d0>,\n",
       " <matplotlib.lines.Line2D at 0x7fefcb590790>,\n",
       " <matplotlib.lines.Line2D at 0x7fefcb590850>]"
      ]
     },
     "execution_count": 19,
     "metadata": {},
     "output_type": "execute_result"
    },
    {
     "data": {
      "image/png": "[encoded data removed]",
      "text/plain": [
       "<Figure size 432x288 with 1 Axes>"
      ]
     },
     "metadata": {
      "needs_background": "light"
     },
     "output_type": "display_data"
    }
   ],
   "source": [
    "plt.plot(all_lambdas[-100:])"
   ]
  },
  {
   "cell_type": "code",
   "execution_count": 20,
   "metadata": {},
   "outputs": [
    {
     "data": {
      "text/plain": [
       "[<matplotlib.lines.Line2D at 0x7fefc9417f70>]"
      ]
     },
     "execution_count": 20,
     "metadata": {},
     "output_type": "execute_result"
    },
    {
     "data": {
      "image/png": "[encoded data removed]",
      "text/plain": [
       "<Figure size 432x288 with 1 Axes>"
      ]
     },
     "metadata": {
      "needs_background": "light"
     },
     "output_type": "display_data"
    }
   ],
   "source": [
    "plt.plot(np.exp(all_taus))"
   ]
  },
  {
   "cell_type": "code",
   "execution_count": null,
   "metadata": {},
   "outputs": [],
   "source": []
  }
 ],
 "metadata": {
  "kernelspec": {
   "display_name": "Python 3",
   "language": "python",
   "name": "python3"
  },
  "language_info": {
   "codemirror_mode": {
    "name": "ipython",
    "version": 3
   },
   "file_extension": ".py",
   "mimetype": "text/x-python",
   "name": "python",
   "nbconvert_exporter": "python",
   "pygments_lexer": "ipython3",
   "version": "3.8.5"
  }
 },
 "nbformat": 4,
 "nbformat_minor": 4
}
