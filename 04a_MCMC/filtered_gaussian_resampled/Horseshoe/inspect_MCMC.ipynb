{
 "cells": [
  {
   "cell_type": "code",
   "execution_count": 11,
   "metadata": {},
   "outputs": [],
   "source": [
    "import numpy as np\n",
    "import matplotlib.pyplot as plt"
   ]
  },
  {
   "cell_type": "code",
   "execution_count": 5,
   "metadata": {},
   "outputs": [],
   "source": [
    "lambda_acc_train = np.load('lambda_acc_train.npy')\n",
    "lambdas_train = np.load('lambdas_train.npy')\n",
    "tau_acc_train = np.load('tau_acc_train.npy')\n",
    "taus_train = np.load('taus_train.npy')"
   ]
  },
  {
   "cell_type": "code",
   "execution_count": 10,
   "metadata": {},
   "outputs": [
    {
     "data": {
      "text/plain": [
       "0.9998"
      ]
     },
     "execution_count": 10,
     "metadata": {},
     "output_type": "execute_result"
    }
   ],
   "source": [
    "np.mean(tau_acc_train, axis = 0)"
   ]
  },
  {
   "cell_type": "code",
   "execution_count": 13,
   "metadata": {},
   "outputs": [
    {
     "data": {
      "text/plain": [
       "[<matplotlib.lines.Line2D at 0x7fde42b15d60>,\n",
       " <matplotlib.lines.Line2D at 0x7fde42b15e50>,\n",
       " <matplotlib.lines.Line2D at 0x7fde42b15f10>,\n",
       " <matplotlib.lines.Line2D at 0x7fde42b15fd0>,\n",
       " <matplotlib.lines.Line2D at 0x7fde42b210d0>,\n",
       " <matplotlib.lines.Line2D at 0x7fde42b21190>,\n",
       " <matplotlib.lines.Line2D at 0x7fde42b21250>,\n",
       " <matplotlib.lines.Line2D at 0x7fde42b21310>,\n",
       " <matplotlib.lines.Line2D at 0x7fde42b213d0>,\n",
       " <matplotlib.lines.Line2D at 0x7fde42b21490>]"
      ]
     },
     "execution_count": 13,
     "metadata": {},
     "output_type": "execute_result"
    },
    {
     "data": {
      "image/png": "[encoded data removed]",
      "text/plain": [
       "<Figure size 432x288 with 1 Axes>"
      ]
     },
     "metadata": {
      "needs_background": "light"
     },
     "output_type": "display_data"
    }
   ],
   "source": [
    "plt.plot(lambdas_train)"
   ]
  },
  {
   "cell_type": "code",
   "execution_count": null,
   "metadata": {},
   "outputs": [],
   "source": []
  }
 ],
 "metadata": {
  "kernelspec": {
   "display_name": "Python 3",
   "language": "python",
   "name": "python3"
  },
  "language_info": {
   "codemirror_mode": {
    "name": "ipython",
    "version": 3
   },
   "file_extension": ".py",
   "mimetype": "text/x-python",
   "name": "python",
   "nbconvert_exporter": "python",
   "pygments_lexer": "ipython3",
   "version": "3.8.5"
  }
 },
 "nbformat": 4,
 "nbformat_minor": 4
}
