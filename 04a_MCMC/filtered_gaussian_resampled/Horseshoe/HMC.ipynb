{
 "cells": [
  {
   "cell_type": "code",
   "execution_count": 1,
   "metadata": {},
   "outputs": [
    {
     "name": "stderr",
     "output_type": "stream",
     "text": [
      "2020-11-12 13:17:52,925\tINFO services.py:1090 -- View the Ray dashboard at \u001b[1m\u001b[32mhttp://127.0.0.1:8265\u001b[39m\u001b[22m\n"
     ]
    },
    {
     "data": {
      "text/plain": [
       "{'node_ip_address': '192.168.140.16',\n",
       " 'raylet_ip_address': '192.168.140.16',\n",
       " 'redis_address': '192.168.140.16:6379',\n",
       " 'object_store_address': '/tmp/ray/session_2020-11-12_13-17-51_854145_1321069/sockets/plasma_store',\n",
       " 'raylet_socket_name': '/tmp/ray/session_2020-11-12_13-17-51_854145_1321069/sockets/raylet',\n",
       " 'webui_url': '127.0.0.1:8265',\n",
       " 'session_dir': '/tmp/ray/session_2020-11-12_13-17-51_854145_1321069',\n",
       " 'metrics_export_port': 57048,\n",
       " 'node_id': 'ef2a223bf73ecb434d9d07ae678de2884c78064b'}"
      ]
     },
     "execution_count": 1,
     "metadata": {},
     "output_type": "execute_result"
    }
   ],
   "source": [
    "import numpy as np\n",
    "from random import random\n",
    "from tqdm import tqdm\n",
    "import ray\n",
    "ray.init()"
   ]
  },
  {
   "cell_type": "markdown",
   "metadata": {},
   "source": [
    "Want to sample from three variables:\n",
    "1. $\\lambda$\n",
    "2. $\\tau$\n",
    "3. $\\beta$\n",
    "\n",
    "-> these values are then averaged to get the Monte-Carlo estimator\n",
    "-> first: what is density of $\\beta$?"
   ]
  },
  {
   "cell_type": "code",
   "execution_count": 10,
   "metadata": {},
   "outputs": [],
   "source": [
    "# import data from DNN training\n",
    "extracted_coefficients_directory = '../../../../data/commaai/extracted_coefficients/20201027_filtered_gaussian_resampled/'\n",
    "B_zeta_path = str(extracted_coefficients_directory + 'Bzeta/B_zeta.npy')\n",
    "beta_path = str(extracted_coefficients_directory + 'beta/beta.csv')\n",
    "z_path = str(extracted_coefficients_directory + 'Bzeta/tr_labels.npy')\n",
    "beta = np.genfromtxt(beta_path, delimiter=',')\n",
    "B_zeta = np.load(B_zeta_path)\n",
    "B_zeta = B_zeta.reshape(B_zeta.shape[0], beta.shape[0])\n",
    "z = np.load(z_path)\n",
    "tBB = B_zeta.T.dot(B_zeta)\n",
    "\n",
    "theta_prior = 2.5"
   ]
  },
  {
   "cell_type": "code",
   "execution_count": 11,
   "metadata": {},
   "outputs": [],
   "source": [
    "beta = np.repeat(0,10)\n",
    "# number of samples we want to produce\n",
    "M = 10000 + 1\n",
    "L = 100\n",
    "\n",
    "# number of parameters of theta\n",
    "q = 2*B_zeta.shape[1] + 1\n",
    "p = B_zeta.shape[1]\n",
    "\n",
    "n = B_zeta.shape[0]\n",
    "\n",
    "# start values for beta, lambda, tau\n",
    "# beta is taken from trained network and other two\n",
    "# are initialized randomly\n",
    "theta_m_1 = np.zeros(q)\n",
    "\n",
    "# stepsize\n",
    "epsilon = 0.000005\n",
    "\n",
    "r_m = np.zeros(theta_m_1.shape[0])\n",
    "\n",
    "tau_start = theta_m_1[q-1]"
   ]
  },
  {
   "cell_type": "code",
   "execution_count": 12,
   "metadata": {},
   "outputs": [],
   "source": [
    "Lambda = np.repeat(1,p)\n",
    "BoB = B_zeta**2"
   ]
  },
  {
   "cell_type": "code",
   "execution_count": 13,
   "metadata": {},
   "outputs": [],
   "source": [
    "@ray.remote\n",
    "def delta_beta(z, S, B_zeta, Lambda, beta):\n",
    "    return ((z*(1/S).T).dot(B_zeta) - (beta.T).dot(B_zeta.T).dot(B_zeta) + np.sum(((1/Lambda)**2)*beta))\n",
    "@ray.remote\n",
    "def delta_1_log_tau(p, log_tau, Lambda):\n",
    "    tau = np.exp(log_tau)\n",
    "    tau2 = tau**2\n",
    "    Lambda2 = Lambda**2\n",
    "    return(- (p-1) - (2*tau2)/(1+tau2) + 2*np.sum((Lambda2/tau2)/(1+Lambda2/(tau2))))\n",
    "\n",
    "def generate_dS2_ddS2_S2_S(Lambda, BoB):\n",
    "    \n",
    "    n, p = BoB.shape\n",
    "    W = np.sum(BoB*(Lambda**2), axis = 1)\n",
    "    S2 = (1/(1 + W))\n",
    "    S = np.sqrt(S2)\n",
    "    n, p = BoB.shape\n",
    "    W = np.sum(BoB*(Lambda**2), axis = 1)\n",
    "    S2 = (1/(1 + W))\n",
    "    S = np.sqrt(S2)\n",
    "    Lambda2 = Lambda**2\n",
    "    \n",
    "    dS2, ddS2 = np.zeros((n,p)), np.zeros((n,p))\n",
    "    for lj in range(0, p):\n",
    "        dS2[:,lj] = - BoB[:,lj]*Lambda2[lj]/((1+W)**2)\n",
    "        ddS2[:,lj] = (-BoB[:,lj]*Lambda2[lj] + (BoB[:,lj]*(Lambda2[lj]**2)))/((1+W)**3)\n",
    "    \n",
    "    return(dS2, ddS2, S2, S)\n",
    "\n",
    "@ray.remote\n",
    "def delta_1_lambda(Lambda, beta, B_zeta, dS2, ddS2, S2, S, z, tau):\n",
    "    p = len(Lambda)\n",
    "    Lambda2 = Lambda**2\n",
    "    tau2 = tau**2\n",
    "    dlogFucj = np.zeros(p)\n",
    "    #for lj in tqdm(range(0,p)):\n",
    "    #    dlogFucj[lj] = 0.5*(beta[lj]**2)/Lambda2[lj] - (Lambda2[lj]/tau2)/(1 + Lambda2[lj]/tau2) - 0.5*np.sum(dS2[:,lj]/S2) - 0.5*np.sum((z*z*(-dS2[:,lj]/(S2**2)))) + np.sum( beta.dot(B_zeta.T).dot(np.diag(-0.5*(dS2[:,lj]/(S2**(1.5))))).dot(z))  \n",
    "    dlogFucj = (0.5*(beta**2)/Lambda2 - (Lambda2/tau2)/(1 + Lambda2/tau2) - 0.5*np.sum(dS2/(np.tile(S2.T, [p,1]).T), axis = 0) - \n",
    "               0.5*np.sum((np.tile(z*z, [p,1]).T*(-dS2/np.tile((S2**2), [p,1]).T)), axis = 0) + \n",
    "               (beta*((B_zeta*(-0.5)*(dS2/np.tile(S2**1.5, [p,1]).T)).T).dot(z)))\n",
    "    return(dlogFucj)\n",
    "\n",
    "def Delta_theta(vartheta_t, B, n, z, p, tBB, betaBt, BoB):\n",
    "    vartheta_new = vartheta_t.copy()\n",
    "    beta_t = vartheta_new[0:p].reshape(p,)\n",
    "    Lambda_t = vartheta_new[p:2*p]\n",
    "    log_tau_t = vartheta_new[2*p]\n",
    "\n",
    "    dS2, ddS2, S2, S = generate_dS2_ddS2_S2_S(Lambda_t, BoB)\n",
    "    \n",
    "    # Gradient w.r.t. beta\n",
    "    #grad_beta = delta_beta(z, S, B, Lambda_t, beta_t)\n",
    "    \n",
    "    #grad_lambda = delta_1_lambda(Lambda_t, beta_t, B, dS2, ddS2, S2, S, z, np.exp(log_tau_t))\n",
    "    # Gradient w.r.t. tau\n",
    "    #grad_tau = delta_1_log_tau(p, log_tau_t, Lambda_t)\n",
    "    \n",
    "    ret_id1 = delta_beta.remote(z, S, B, Lambda_t, beta_t)\n",
    "    ret_id2 = delta_1_lambda.remote(Lambda_t, beta_t, B, dS2, ddS2, S2, S, z, np.exp(log_tau_t))\n",
    "    ret_id3 = delta_1_log_tau.remote(p, log_tau_t, Lambda_t)\n",
    "    grad_beta, grad_lambda, grad_tau = ray.get([ret_id1, ret_id2, ret_id3])\n",
    "    #print(grad_beta, grad_lambda, grad_tau)\n",
    "    \n",
    "    return(np.append(grad_beta, np.append(grad_lambda, grad_tau)))\n",
    "\n",
    "# wrong log density!!!!\n",
    "'''def log_density(z, u,  beta, B, p,  n, S, S2, tBB, theta, betaBt):   \n",
    "    return (- 0.5*np.sum(np.log(S2))- 0.5*z.dot((1/S2)*z)+ \n",
    "            betaBt.dot(z*(1/S)) - \n",
    "            0.5*beta.T.dot(tBB).dot(beta) - \n",
    "            0.5/np.exp(u)*np.sum(beta**2) - \n",
    "            0.5*u*(p-1)  - np.sqrt(np.exp(u)/theta))'''\n",
    "\n",
    "def log_density(S, B, beta, Lambda, log_tau, z, p):\n",
    "    Lambda2 = Lambda**2\n",
    "    tau2 = np.exp(log_tau)**2\n",
    "    S2 = S**2\n",
    "    term1 = - 0.5*np.sum(np.log(S2))\n",
    "    term2 = -0.5*np.sum(((z - S*(B.dot(beta)))**2)*(1/S2))\n",
    "    term3 = + 0.5*np.sum(Lambda2)\n",
    "    term4 = -0.5*np.sum((beta**2)/(Lambda2))\n",
    "    term5 = -(p-1)*log_tau\n",
    "    term6 = - np.sum(np.log(1+Lambda2/tau2))\n",
    "    term7 = - np.log(1 + tau2)\n",
    "    return(term1 + term2 + term3 + term4 + term5 + term6 + term7)"
   ]
  },
  {
   "cell_type": "code",
   "execution_count": 14,
   "metadata": {},
   "outputs": [],
   "source": [
    "def Leapfrog(theta, r, epsilon, n, z, p, B, tBB, betaBt):\n",
    "    \n",
    "    # compute gradient with theta\n",
    "    Delta_theta_t = Delta_theta(theta, B, n, z, p, tBB, betaBt, BoB)\n",
    "\n",
    "    # update momentum\n",
    "    r_tilde = r + (epsilon/2)*Delta_theta_t\n",
    "\n",
    "    # update theta\n",
    "    theta_tilde = (theta + epsilon*r_tilde).reshape(2*p + 1,)\n",
    "    beta_t = theta_tilde[0:p]\n",
    "    betaBt_t = beta_t.dot(B_zeta.T)\n",
    "    \n",
    "    # compute updated gradient\n",
    "    Delta_theta_tilde = Delta_theta(theta_tilde, B, n, z, p, tBB, betaBt_t, BoB)\n",
    "    \n",
    "    # update momentum again\n",
    "    r_tilde = r_tilde + (epsilon/2)*Delta_theta_tilde\n",
    "    \n",
    "    return(theta_tilde, r_tilde)"
   ]
  },
  {
   "cell_type": "code",
   "execution_count": null,
   "metadata": {},
   "outputs": [
    {
     "name": "stderr",
     "output_type": "stream",
     "text": [
      "  0%|          | 0/10000 [00:00<?, ?it/s]<ipython-input-31-6375aa9d2d56>:42: RuntimeWarning: invalid value encountered in true_divide\n",
      "  alpha[m] = min([1, (np.exp(log_dens[m] - r_tilde[m].dot(r_tilde[m].T)*1/2))/np.exp((log_dens[m] - r0[m].dot(r0[m].T)*1/2))])\n",
      "  0%|          | 13/10000 [26:06<337:41:52, 121.73s/it]"
     ]
    }
   ],
   "source": [
    "#r0 = np.repeat(None, M)\n",
    "#theta_tilde = np.repeat(None, M)\n",
    "#r_tilde = np.repeat(None, M)\n",
    "#log_dens =  np.repeat(None, M)\n",
    "#alpha = np.repeat(None, M)\n",
    "#theta_m_1 = np.repeat(None, M)\n",
    "#r_m = np.repeat(None, M)\n",
    "#theta_m_1[0] = np.append(np.zeros(p), np.append(np.repeat(1,p), 0))\n",
    "\n",
    "#acc = []\n",
    "# loop over number of samples that we want to produce\n",
    "#theta_tilde[0] = np.append(np.zeros(p), np.append(np.repeat(1,p), 0))\n",
    "#r_tilde[0] = np.zeros(q)\n",
    "#theta_m_1[1] = np.append(np.zeros(p), np.append(np.repeat(1,p), 0))\n",
    "#all_thetas = []\n",
    "#theta_m_1[0] = np.append(np.zeros(p), np.append(np.repeat(1,p), 0))\n",
    "for m in tqdm(range(1, M)):\n",
    "    \n",
    "    # Update S\n",
    "    # draw momentum from normal distribution\n",
    "    r0[m] = np.random.multivariate_normal(np.zeros(q), np.identity(q), 1)\n",
    "    \n",
    "    # set new parameters\n",
    "    theta_tilde[m] = theta_m_1[m].reshape(q,)\n",
    "    r_tilde[m] = r0[m]\n",
    "    betaBt = theta_tilde[m][0:p].dot(B_zeta.T)\n",
    "    \n",
    "    # generate proposal through L leapfrog updates \n",
    "    for i in range(0,L):\n",
    "        betaBt = theta_tilde[m][0:p].dot(B_zeta.T)\n",
    "        theta_tilde[m], r_tilde[m] = Leapfrog(theta_tilde[m], \n",
    "                                              r_tilde[m], \n",
    "                                              epsilon, n, z, p, \n",
    "                                              B_zeta, tBB, \n",
    "                                              betaBt)\n",
    "    \n",
    "    dS2, ddS2, S2, S = generate_dS2_ddS2_S2_S(np.exp(0.5*theta_tilde[m][p:2*p]), BoB)\n",
    "    betaBt = theta_tilde[m][0:p].dot(B_zeta.T)\n",
    "    \n",
    "    # probability that proposal is accepted\n",
    "    log_dens[m] = log_density(S, B_zeta, theta_tilde[m][0:p], np.exp(0.5*theta_tilde[m][p:2*p]), theta_tilde[m][p], z, p)\n",
    "    alpha[m] = min([1, (np.exp(log_dens[m] - r_tilde[m].dot(r_tilde[m].T)*1/2))/np.exp((log_dens[m] - r0[m].dot(r0[m].T)*1/2))])\n",
    "    \n",
    "    decision = np.random.uniform(0,1,1)\n",
    "    if decision <= alpha[m]:\n",
    "        theta_m_1[m + 1] = theta_tilde[m]\n",
    "        r_m[m + 1] = - r_tilde[m]\n",
    "        acc.append(1)\n",
    "        all_thetas.append(np.array(theta_m_1[m + 1]))\n",
    "    else:\n",
    "        theta_m_1[m + 1] = theta_tilde[m - 1]\n",
    "        r_m[m + 1] = - r_tilde[m - 1]\n",
    "        acc.append(0)\n",
    "        all_thetas.append(np.array(theta_m_1[m + 1]))\n",
    "    "
   ]
  },
  {
   "cell_type": "code",
   "execution_count": 18,
   "metadata": {},
   "outputs": [
    {
     "data": {
      "text/plain": [
       "[<matplotlib.lines.Line2D at 0x7fd7ecc5f070>,\n",
       " <matplotlib.lines.Line2D at 0x7fd7ecc5f160>,\n",
       " <matplotlib.lines.Line2D at 0x7fd7ecc5f220>,\n",
       " <matplotlib.lines.Line2D at 0x7fd7ecc5f2e0>,\n",
       " <matplotlib.lines.Line2D at 0x7fd7ecc5f3a0>,\n",
       " <matplotlib.lines.Line2D at 0x7fd7ecc5f460>,\n",
       " <matplotlib.lines.Line2D at 0x7fd7ecc5f520>,\n",
       " <matplotlib.lines.Line2D at 0x7fd7ecc5f5e0>,\n",
       " <matplotlib.lines.Line2D at 0x7fd7ecc5f6a0>,\n",
       " <matplotlib.lines.Line2D at 0x7fd7ecc5f760>,\n",
       " <matplotlib.lines.Line2D at 0x7fd7edcb2190>,\n",
       " <matplotlib.lines.Line2D at 0x7fd7ecc5f8b0>,\n",
       " <matplotlib.lines.Line2D at 0x7fd7ecc5f970>,\n",
       " <matplotlib.lines.Line2D at 0x7fd7ecc5fa30>,\n",
       " <matplotlib.lines.Line2D at 0x7fd7ecc5faf0>,\n",
       " <matplotlib.lines.Line2D at 0x7fd7ecc5fbb0>,\n",
       " <matplotlib.lines.Line2D at 0x7fd7ecc5fc70>,\n",
       " <matplotlib.lines.Line2D at 0x7fd7ecc5fd30>,\n",
       " <matplotlib.lines.Line2D at 0x7fd7ecc5fdf0>,\n",
       " <matplotlib.lines.Line2D at 0x7fd7ecc5feb0>,\n",
       " <matplotlib.lines.Line2D at 0x7fd7ecc5ff70>]"
      ]
     },
     "execution_count": 18,
     "metadata": {},
     "output_type": "execute_result"
    },
    {
     "data": {
      "image/png": "[encoded data removed]",
      "text/plain": [
       "<Figure size 432x288 with 1 Axes>"
      ]
     },
     "metadata": {
      "needs_background": "light"
     },
     "output_type": "display_data"
    }
   ],
   "source": [
    "import matplotlib.pyplot as plt\n",
    "plt.plot(all_thetas)"
   ]
  },
  {
   "cell_type": "code",
   "execution_count": 19,
   "metadata": {},
   "outputs": [],
   "source": [
    "df = np.array(all_thetas)"
   ]
  },
  {
   "cell_type": "code",
   "execution_count": 30,
   "metadata": {},
   "outputs": [
    {
     "data": {
      "text/plain": [
       "[<matplotlib.lines.Line2D at 0x7fd7ecb4c5e0>]"
      ]
     },
     "execution_count": 30,
     "metadata": {},
     "output_type": "execute_result"
    },
    {
     "data": {
      "image/png": "[encoded data removed]",
      "text/plain": [
       "<Figure size 432x288 with 1 Axes>"
      ]
     },
     "metadata": {
      "needs_background": "light"
     },
     "output_type": "display_data"
    }
   ],
   "source": [
    "plt.plot(df[:,10])"
   ]
  },
  {
   "cell_type": "code",
   "execution_count": null,
   "metadata": {},
   "outputs": [],
   "source": [
    "all_thetas[93][10:21]"
   ]
  },
  {
   "cell_type": "code",
   "execution_count": null,
   "metadata": {},
   "outputs": [],
   "source": [
    "theta_hmc = np.mean(all_thetas, axis = 0)\n",
    "np.save('../../../../data/commaai/mcmc/filtered_gaussian_resampled/Ridge/all_thetas.npy', np.array(all_taus[J[1]:]))"
   ]
  },
  {
   "cell_type": "code",
   "execution_count": null,
   "metadata": {},
   "outputs": [],
   "source": [
    "theta_hmc"
   ]
  },
  {
   "cell_type": "code",
   "execution_count": null,
   "metadata": {},
   "outputs": [],
   "source": [
    "# comparison with VA"
   ]
  },
  {
   "cell_type": "code",
   "execution_count": null,
   "metadata": {},
   "outputs": [],
   "source": [
    "vartheta_va = np.genfromtxt('../../../data/commaai/mcmc/filtered_gaussian_resampled/Ridge/vartheta.csv', delimiter=\",\")"
   ]
  },
  {
   "cell_type": "code",
   "execution_count": null,
   "metadata": {},
   "outputs": [],
   "source": [
    "theta_va = np.mean(vartheta_va[int(0.9*50000):50000, :], axis = 0)"
   ]
  },
  {
   "cell_type": "code",
   "execution_count": null,
   "metadata": {},
   "outputs": [],
   "source": [
    "0.9*50000"
   ]
  },
  {
   "cell_type": "code",
   "execution_count": null,
   "metadata": {},
   "outputs": [],
   "source": [
    "plt.scatter(theta_hmc[0:10], theta_va[0:10])"
   ]
  },
  {
   "cell_type": "code",
   "execution_count": null,
   "metadata": {},
   "outputs": [],
   "source": [
    "beta_va = theta_hmc[0:10]"
   ]
  },
  {
   "cell_type": "code",
   "execution_count": null,
   "metadata": {},
   "outputs": [],
   "source": [
    "beta_va.shape"
   ]
  },
  {
   "cell_type": "code",
   "execution_count": null,
   "metadata": {},
   "outputs": [],
   "source": []
  }
 ],
 "metadata": {
  "kernelspec": {
   "display_name": "Python 3",
   "language": "python",
   "name": "python3"
  },
  "language_info": {
   "codemirror_mode": {
    "name": "ipython",
    "version": 3
   },
   "file_extension": ".py",
   "mimetype": "text/x-python",
   "name": "python",
   "nbconvert_exporter": "python",
   "pygments_lexer": "ipython3",
   "version": "3.8.5"
  }
 },
 "nbformat": 4,
 "nbformat_minor": 4
}
