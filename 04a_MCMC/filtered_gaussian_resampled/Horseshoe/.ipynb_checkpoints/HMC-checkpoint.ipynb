{
 "cells": [
  {
   "cell_type": "code",
   "execution_count": 1,
   "metadata": {},
   "outputs": [
    {
     "name": "stderr",
     "output_type": "stream",
     "text": [
      "2020-11-17 16:23:11,075\tINFO services.py:1090 -- View the Ray dashboard at \u001b[1m\u001b[32mhttp://127.0.0.1:8265\u001b[39m\u001b[22m\n"
     ]
    },
    {
     "data": {
      "text/plain": [
       "{'node_ip_address': '192.168.140.16',\n",
       " 'raylet_ip_address': '192.168.140.16',\n",
       " 'redis_address': '192.168.140.16:6379',\n",
       " 'object_store_address': '/tmp/ray/session_2020-11-17_16-23-10_374822_1319721/sockets/plasma_store',\n",
       " 'raylet_socket_name': '/tmp/ray/session_2020-11-17_16-23-10_374822_1319721/sockets/raylet',\n",
       " 'webui_url': '127.0.0.1:8265',\n",
       " 'session_dir': '/tmp/ray/session_2020-11-17_16-23-10_374822_1319721',\n",
       " 'metrics_export_port': 62554,\n",
       " 'node_id': '0e913c89936f4da118b04fdd06886b9400dee375'}"
      ]
     },
     "execution_count": 1,
     "metadata": {},
     "output_type": "execute_result"
    }
   ],
   "source": [
    "import numpy as np\n",
    "from random import random\n",
    "from tqdm import tqdm\n",
    "import ray\n",
    "ray.init()"
   ]
  },
  {
   "cell_type": "markdown",
   "metadata": {},
   "source": [
    "Want to sample from three variables:\n",
    "1. $\\lambda$\n",
    "2. $\\tau$\n",
    "3. $\\beta$\n",
    "\n",
    "-> these values are then averaged to get the Monte-Carlo estimator\n",
    "-> first: what is density of $\\beta$?"
   ]
  },
  {
   "cell_type": "code",
   "execution_count": 2,
   "metadata": {},
   "outputs": [],
   "source": [
    "# import data from DNN training\n",
    "extracted_coefficients_directory = '../../../../data/commaai/extracted_coefficients/20201027_filtered_gaussian_resampled/'\n",
    "B_zeta_path = str(extracted_coefficients_directory + 'Bzeta/B_zeta.npy')\n",
    "beta_path = str(extracted_coefficients_directory + 'beta/beta.csv')\n",
    "z_path = str(extracted_coefficients_directory + 'Bzeta/tr_labels.npy')\n",
    "beta = np.genfromtxt(beta_path, delimiter=',')\n",
    "B_zeta = np.load(B_zeta_path)\n",
    "B_zeta = B_zeta.reshape(B_zeta.shape[0], beta.shape[0])\n",
    "z = np.load(z_path)\n",
    "tBB = B_zeta.T.dot(B_zeta)"
   ]
  },
  {
   "cell_type": "code",
   "execution_count": 3,
   "metadata": {},
   "outputs": [],
   "source": [
    "beta = np.repeat(0,10)\n",
    "# number of samples we want to produce\n",
    "M = 10000 + 1\n",
    "L = 20\n",
    "\n",
    "# number of parameters of theta\n",
    "q = 2*B_zeta.shape[1] + 1\n",
    "p = B_zeta.shape[1]\n",
    "\n",
    "n = B_zeta.shape[0]\n",
    "\n",
    "# start values for beta, lambda, tau\n",
    "# beta is taken from trained network and other two\n",
    "# are initialized randomly\n",
    "theta_m_1 = np.zeros(q)\n",
    "\n",
    "# stepsize\n",
    "epsilon = 0.00025\n",
    "\n",
    "r_m = np.zeros(theta_m_1.shape[0])\n",
    "\n",
    "tau_start = theta_m_1[q-1]"
   ]
  },
  {
   "cell_type": "code",
   "execution_count": 4,
   "metadata": {},
   "outputs": [],
   "source": [
    "Lambda = np.repeat(1,p)\n",
    "BoB = B_zeta**2"
   ]
  },
  {
   "cell_type": "code",
   "execution_count": 5,
   "metadata": {},
   "outputs": [],
   "source": [
    "@ray.remote\n",
    "def delta_beta(z, S, B_zeta, Lambda, beta):\n",
    "    return ((z*(1/S).T).dot(B_zeta) - (beta.T).dot(B_zeta.T).dot(B_zeta) + np.sum(((1/Lambda)**2)*beta))\n",
    "@ray.remote\n",
    "def delta_1_log_tau(p, log_tau, Lambda):\n",
    "    tau = np.exp(log_tau)\n",
    "    tau2 = tau**2\n",
    "    Lambda2 = Lambda**2\n",
    "    return(- (p-1) - (2*tau2)/(1+tau2) + 2*np.sum((Lambda2/tau2)/(1+Lambda2/(tau2))))\n",
    "\n",
    "def generate_dS2_ddS2_S2_S(Lambda, BoB):\n",
    "    \n",
    "    n, p = BoB.shape\n",
    "    W = np.sum(BoB*(Lambda**2), axis = 1)\n",
    "    S2 = (1/(1 + W))\n",
    "    S = np.sqrt(S2)\n",
    "    n, p = BoB.shape\n",
    "    W = np.sum(BoB*(Lambda**2), axis = 1)\n",
    "    S2 = (1/(1 + W))\n",
    "    S = np.sqrt(S2)\n",
    "    Lambda2 = Lambda**2\n",
    "    \n",
    "    dS2, ddS2 = np.zeros((n,p)), np.zeros((n,p))\n",
    "    for lj in range(0, p):\n",
    "        dS2[:,lj] = - BoB[:,lj]*Lambda2[lj]/((1+W)**2)\n",
    "        ddS2[:,lj] = (-BoB[:,lj]*Lambda2[lj] + (BoB[:,lj]*(Lambda2[lj]**2)))/((1+W)**3)\n",
    "    \n",
    "    return(dS2, ddS2, S2, S)\n",
    "\n",
    "@ray.remote\n",
    "def delta_1_lambda(Lambda, beta, B_zeta, dS2, ddS2, S2, S, z, tau):\n",
    "    p = len(Lambda)\n",
    "    Lambda2 = Lambda**2\n",
    "    tau2 = tau**2\n",
    "    dlogFucj = np.zeros(p)\n",
    "    #for lj in tqdm(range(0,p)):\n",
    "    #    dlogFucj[lj] = 0.5*(beta[lj]**2)/Lambda2[lj] - (Lambda2[lj]/tau2)/(1 + Lambda2[lj]/tau2) - 0.5*np.sum(dS2[:,lj]/S2) - 0.5*np.sum((z*z*(-dS2[:,lj]/(S2**2)))) + np.sum( beta.dot(B_zeta.T).dot(np.diag(-0.5*(dS2[:,lj]/(S2**(1.5))))).dot(z))  \n",
    "    dlogFucj = (0.5*(beta**2)/Lambda2 - (Lambda2/tau2)/(1 + Lambda2/tau2) - 0.5*np.sum(dS2/(np.tile(S2.T, [p,1]).T), axis = 0) - \n",
    "               0.5*np.sum((np.tile(z*z, [p,1]).T*(-dS2/np.tile((S2**2), [p,1]).T)), axis = 0) + \n",
    "               (beta*((B_zeta*(-0.5)*(dS2/np.tile(S2**1.5, [p,1]).T)).T).dot(z)))\n",
    "    return(dlogFucj)\n",
    "\n",
    "def Delta_theta(vartheta_t, B, n, z, p, tBB, betaBt, BoB):\n",
    "    vartheta_new = vartheta_t.copy()\n",
    "    beta_t = vartheta_new[0:p].reshape(p,)\n",
    "    Lambda_t = np.exp(0.5*vartheta_new[p:2*p])\n",
    "    log_tau_t = vartheta_new[2*p]\n",
    "\n",
    "    dS2, ddS2, S2, S = generate_dS2_ddS2_S2_S(Lambda_t, BoB)\n",
    "    \n",
    "    # Gradient w.r.t. beta\n",
    "    #grad_beta = delta_beta(z, S, B, Lambda_t, beta_t)\n",
    "    \n",
    "    #grad_lambda = delta_1_lambda(Lambda_t, beta_t, B, dS2, ddS2, S2, S, z, np.exp(log_tau_t))\n",
    "    # Gradient w.r.t. tau\n",
    "    #grad_tau = delta_1_log_tau(p, log_tau_t, Lambda_t)\n",
    "    \n",
    "    ret_id1 = delta_beta.remote(z, S, B, Lambda_t, beta_t)\n",
    "    ret_id2 = delta_1_lambda.remote(Lambda_t, beta_t, B, dS2, ddS2, S2, S, z, np.exp(log_tau_t))\n",
    "    ret_id3 = delta_1_log_tau.remote(p, log_tau_t, Lambda_t)\n",
    "    grad_beta, grad_lambda, grad_tau = ray.get([ret_id1, ret_id2, ret_id3])\n",
    "    #print(grad_beta, grad_lambda, grad_tau)\n",
    "    \n",
    "    return(np.append(grad_beta, np.append(grad_lambda, grad_tau)))\n",
    "\n",
    "# wrong log density!!!!\n",
    "'''def log_density(z, u,  beta, B, p,  n, S, S2, tBB, theta, betaBt):   \n",
    "    return (- 0.5*np.sum(np.log(S2))- 0.5*z.dot((1/S2)*z)+ \n",
    "            betaBt.dot(z*(1/S)) - \n",
    "            0.5*beta.T.dot(tBB).dot(beta) - \n",
    "            0.5/np.exp(u)*np.sum(beta**2) - \n",
    "            0.5*u*(p-1)  - np.sqrt(np.exp(u)/theta))'''\n",
    "\n",
    "def log_density(S, B, beta, Lambda, log_tau, z, p):\n",
    "    Lambda2 = Lambda**2\n",
    "    tau2 = np.exp(log_tau)**2\n",
    "    S2 = S**2\n",
    "    term1 = - 0.5*np.sum(np.log(S2))\n",
    "    term2 = -0.5*np.sum(((z - S*(B.dot(beta)))**2)*(1/S2))\n",
    "    term3 = + 0.5*np.sum(Lambda2)\n",
    "    term4 = -0.5*np.sum((beta**2)/(Lambda2))\n",
    "    term5 = -(p-1)*log_tau\n",
    "    term6 = - np.sum(np.log(1+Lambda2/tau2))\n",
    "    term7 = - np.log(1 + tau2)\n",
    "    return(term1 + term2 + term3 + term4 + term5 + term6 + term7)"
   ]
  },
  {
   "cell_type": "code",
   "execution_count": 6,
   "metadata": {},
   "outputs": [],
   "source": [
    "def Leapfrog(theta, r, epsilon, n, z, p, B, tBB, betaBt):\n",
    "    \n",
    "    # compute gradient with theta\n",
    "    Delta_theta_t = Delta_theta(theta, B, n, z, p, tBB, betaBt, BoB)\n",
    "\n",
    "    # update momentum\n",
    "    r_tilde = r + (epsilon/2)*Delta_theta_t\n",
    "\n",
    "    # update theta\n",
    "    theta_tilde = (theta + epsilon*r_tilde).reshape(2*p + 1,)\n",
    "    beta_t = theta_tilde[0:p]\n",
    "    betaBt_t = beta_t.dot(B_zeta.T)\n",
    "    \n",
    "    # compute updated gradient\n",
    "    Delta_theta_tilde = Delta_theta(theta_tilde, B, n, z, p, tBB, betaBt_t, BoB)\n",
    "    \n",
    "    # update momentum again\n",
    "    r_tilde = r_tilde + (epsilon/2)*Delta_theta_tilde\n",
    "    \n",
    "    return(theta_tilde, r_tilde)"
   ]
  },
  {
   "cell_type": "code",
   "execution_count": 7,
   "metadata": {},
   "outputs": [
    {
     "name": "stderr",
     "output_type": "stream",
     "text": [
      "  1%|          | 100/10000 [23:15<37:15:40, 13.55s/it]"
     ]
    },
    {
     "name": "stdout",
     "output_type": "stream",
     "text": [
      "0.73\n"
     ]
    },
    {
     "name": "stderr",
     "output_type": "stream",
     "text": [
      "  2%|▏         | 200/10000 [46:52<39:22:06, 14.46s/it]"
     ]
    },
    {
     "name": "stdout",
     "output_type": "stream",
     "text": [
      "0.85\n"
     ]
    },
    {
     "name": "stderr",
     "output_type": "stream",
     "text": [
      "  2%|▏         | 221/10000 [52:06<38:25:28, 14.15s/it]\n"
     ]
    },
    {
     "ename": "KeyboardInterrupt",
     "evalue": "",
     "output_type": "error",
     "traceback": [
      "\u001b[0;31m---------------------------------------------------------------------------\u001b[0m",
      "\u001b[0;31mKeyboardInterrupt\u001b[0m                         Traceback (most recent call last)",
      "\u001b[0;32m<ipython-input-7-8679f9a9710c>\u001b[0m in \u001b[0;36m<module>\u001b[0;34m\u001b[0m\n\u001b[1;32m     31\u001b[0m     \u001b[0;32mfor\u001b[0m \u001b[0mi\u001b[0m \u001b[0;32min\u001b[0m \u001b[0mrange\u001b[0m\u001b[0;34m(\u001b[0m\u001b[0;36m0\u001b[0m\u001b[0;34m,\u001b[0m\u001b[0mL\u001b[0m\u001b[0;34m)\u001b[0m\u001b[0;34m:\u001b[0m\u001b[0;34m\u001b[0m\u001b[0;34m\u001b[0m\u001b[0m\n\u001b[1;32m     32\u001b[0m         \u001b[0mbetaBt\u001b[0m \u001b[0;34m=\u001b[0m \u001b[0mtheta_tilde\u001b[0m\u001b[0;34m[\u001b[0m\u001b[0mm\u001b[0m\u001b[0;34m]\u001b[0m\u001b[0;34m[\u001b[0m\u001b[0;36m0\u001b[0m\u001b[0;34m:\u001b[0m\u001b[0mp\u001b[0m\u001b[0;34m]\u001b[0m\u001b[0;34m.\u001b[0m\u001b[0mdot\u001b[0m\u001b[0;34m(\u001b[0m\u001b[0mB_zeta\u001b[0m\u001b[0;34m.\u001b[0m\u001b[0mT\u001b[0m\u001b[0;34m)\u001b[0m\u001b[0;34m\u001b[0m\u001b[0;34m\u001b[0m\u001b[0m\n\u001b[0;32m---> 33\u001b[0;31m         theta_tilde[m], r_tilde[m] = Leapfrog(theta_tilde[m], \n\u001b[0m\u001b[1;32m     34\u001b[0m                                               \u001b[0mr_tilde\u001b[0m\u001b[0;34m[\u001b[0m\u001b[0mm\u001b[0m\u001b[0;34m]\u001b[0m\u001b[0;34m,\u001b[0m\u001b[0;34m\u001b[0m\u001b[0;34m\u001b[0m\u001b[0m\n\u001b[1;32m     35\u001b[0m                                               \u001b[0mepsilon\u001b[0m\u001b[0;34m,\u001b[0m \u001b[0mn\u001b[0m\u001b[0;34m,\u001b[0m \u001b[0mz\u001b[0m\u001b[0;34m,\u001b[0m \u001b[0mp\u001b[0m\u001b[0;34m,\u001b[0m\u001b[0;34m\u001b[0m\u001b[0;34m\u001b[0m\u001b[0m\n",
      "\u001b[0;32m<ipython-input-6-d1e305b37228>\u001b[0m in \u001b[0;36mLeapfrog\u001b[0;34m(theta, r, epsilon, n, z, p, B, tBB, betaBt)\u001b[0m\n\u001b[1;32m     13\u001b[0m \u001b[0;34m\u001b[0m\u001b[0m\n\u001b[1;32m     14\u001b[0m     \u001b[0;31m# compute updated gradient\u001b[0m\u001b[0;34m\u001b[0m\u001b[0;34m\u001b[0m\u001b[0;34m\u001b[0m\u001b[0m\n\u001b[0;32m---> 15\u001b[0;31m     \u001b[0mDelta_theta_tilde\u001b[0m \u001b[0;34m=\u001b[0m \u001b[0mDelta_theta\u001b[0m\u001b[0;34m(\u001b[0m\u001b[0mtheta_tilde\u001b[0m\u001b[0;34m,\u001b[0m \u001b[0mB\u001b[0m\u001b[0;34m,\u001b[0m \u001b[0mn\u001b[0m\u001b[0;34m,\u001b[0m \u001b[0mz\u001b[0m\u001b[0;34m,\u001b[0m \u001b[0mp\u001b[0m\u001b[0;34m,\u001b[0m \u001b[0mtBB\u001b[0m\u001b[0;34m,\u001b[0m \u001b[0mbetaBt_t\u001b[0m\u001b[0;34m,\u001b[0m \u001b[0mBoB\u001b[0m\u001b[0;34m)\u001b[0m\u001b[0;34m\u001b[0m\u001b[0;34m\u001b[0m\u001b[0m\n\u001b[0m\u001b[1;32m     16\u001b[0m \u001b[0;34m\u001b[0m\u001b[0m\n\u001b[1;32m     17\u001b[0m     \u001b[0;31m# update momentum again\u001b[0m\u001b[0;34m\u001b[0m\u001b[0;34m\u001b[0m\u001b[0;34m\u001b[0m\u001b[0m\n",
      "\u001b[0;32m<ipython-input-5-59bfe0d5198f>\u001b[0m in \u001b[0;36mDelta_theta\u001b[0;34m(vartheta_t, B, n, z, p, tBB, betaBt, BoB)\u001b[0m\n\u001b[1;32m     47\u001b[0m     \u001b[0mlog_tau_t\u001b[0m \u001b[0;34m=\u001b[0m \u001b[0mvartheta_new\u001b[0m\u001b[0;34m[\u001b[0m\u001b[0;36m2\u001b[0m\u001b[0;34m*\u001b[0m\u001b[0mp\u001b[0m\u001b[0;34m]\u001b[0m\u001b[0;34m\u001b[0m\u001b[0;34m\u001b[0m\u001b[0m\n\u001b[1;32m     48\u001b[0m \u001b[0;34m\u001b[0m\u001b[0m\n\u001b[0;32m---> 49\u001b[0;31m     \u001b[0mdS2\u001b[0m\u001b[0;34m,\u001b[0m \u001b[0mddS2\u001b[0m\u001b[0;34m,\u001b[0m \u001b[0mS2\u001b[0m\u001b[0;34m,\u001b[0m \u001b[0mS\u001b[0m \u001b[0;34m=\u001b[0m \u001b[0mgenerate_dS2_ddS2_S2_S\u001b[0m\u001b[0;34m(\u001b[0m\u001b[0mLambda_t\u001b[0m\u001b[0;34m,\u001b[0m \u001b[0mBoB\u001b[0m\u001b[0;34m)\u001b[0m\u001b[0;34m\u001b[0m\u001b[0;34m\u001b[0m\u001b[0m\n\u001b[0m\u001b[1;32m     50\u001b[0m \u001b[0;34m\u001b[0m\u001b[0m\n\u001b[1;32m     51\u001b[0m     \u001b[0;31m# Gradient w.r.t. beta\u001b[0m\u001b[0;34m\u001b[0m\u001b[0;34m\u001b[0m\u001b[0;34m\u001b[0m\u001b[0m\n",
      "\u001b[0;32m<ipython-input-5-59bfe0d5198f>\u001b[0m in \u001b[0;36mgenerate_dS2_ddS2_S2_S\u001b[0;34m(Lambda, BoB)\u001b[0m\n\u001b[1;32m     23\u001b[0m     \u001b[0mdS2\u001b[0m\u001b[0;34m,\u001b[0m \u001b[0mddS2\u001b[0m \u001b[0;34m=\u001b[0m \u001b[0mnp\u001b[0m\u001b[0;34m.\u001b[0m\u001b[0mzeros\u001b[0m\u001b[0;34m(\u001b[0m\u001b[0;34m(\u001b[0m\u001b[0mn\u001b[0m\u001b[0;34m,\u001b[0m\u001b[0mp\u001b[0m\u001b[0;34m)\u001b[0m\u001b[0;34m)\u001b[0m\u001b[0;34m,\u001b[0m \u001b[0mnp\u001b[0m\u001b[0;34m.\u001b[0m\u001b[0mzeros\u001b[0m\u001b[0;34m(\u001b[0m\u001b[0;34m(\u001b[0m\u001b[0mn\u001b[0m\u001b[0;34m,\u001b[0m\u001b[0mp\u001b[0m\u001b[0;34m)\u001b[0m\u001b[0;34m)\u001b[0m\u001b[0;34m\u001b[0m\u001b[0;34m\u001b[0m\u001b[0m\n\u001b[1;32m     24\u001b[0m     \u001b[0;32mfor\u001b[0m \u001b[0mlj\u001b[0m \u001b[0;32min\u001b[0m \u001b[0mrange\u001b[0m\u001b[0;34m(\u001b[0m\u001b[0;36m0\u001b[0m\u001b[0;34m,\u001b[0m \u001b[0mp\u001b[0m\u001b[0;34m)\u001b[0m\u001b[0;34m:\u001b[0m\u001b[0;34m\u001b[0m\u001b[0;34m\u001b[0m\u001b[0m\n\u001b[0;32m---> 25\u001b[0;31m         \u001b[0mdS2\u001b[0m\u001b[0;34m[\u001b[0m\u001b[0;34m:\u001b[0m\u001b[0;34m,\u001b[0m\u001b[0mlj\u001b[0m\u001b[0;34m]\u001b[0m \u001b[0;34m=\u001b[0m \u001b[0;34m-\u001b[0m \u001b[0mBoB\u001b[0m\u001b[0;34m[\u001b[0m\u001b[0;34m:\u001b[0m\u001b[0;34m,\u001b[0m\u001b[0mlj\u001b[0m\u001b[0;34m]\u001b[0m\u001b[0;34m*\u001b[0m\u001b[0mLambda2\u001b[0m\u001b[0;34m[\u001b[0m\u001b[0mlj\u001b[0m\u001b[0;34m]\u001b[0m\u001b[0;34m/\u001b[0m\u001b[0;34m(\u001b[0m\u001b[0;34m(\u001b[0m\u001b[0;36m1\u001b[0m\u001b[0;34m+\u001b[0m\u001b[0mW\u001b[0m\u001b[0;34m)\u001b[0m\u001b[0;34m**\u001b[0m\u001b[0;36m2\u001b[0m\u001b[0;34m)\u001b[0m\u001b[0;34m\u001b[0m\u001b[0;34m\u001b[0m\u001b[0m\n\u001b[0m\u001b[1;32m     26\u001b[0m         \u001b[0mddS2\u001b[0m\u001b[0;34m[\u001b[0m\u001b[0;34m:\u001b[0m\u001b[0;34m,\u001b[0m\u001b[0mlj\u001b[0m\u001b[0;34m]\u001b[0m \u001b[0;34m=\u001b[0m \u001b[0;34m(\u001b[0m\u001b[0;34m-\u001b[0m\u001b[0mBoB\u001b[0m\u001b[0;34m[\u001b[0m\u001b[0;34m:\u001b[0m\u001b[0;34m,\u001b[0m\u001b[0mlj\u001b[0m\u001b[0;34m]\u001b[0m\u001b[0;34m*\u001b[0m\u001b[0mLambda2\u001b[0m\u001b[0;34m[\u001b[0m\u001b[0mlj\u001b[0m\u001b[0;34m]\u001b[0m \u001b[0;34m+\u001b[0m \u001b[0;34m(\u001b[0m\u001b[0mBoB\u001b[0m\u001b[0;34m[\u001b[0m\u001b[0;34m:\u001b[0m\u001b[0;34m,\u001b[0m\u001b[0mlj\u001b[0m\u001b[0;34m]\u001b[0m\u001b[0;34m*\u001b[0m\u001b[0;34m(\u001b[0m\u001b[0mLambda2\u001b[0m\u001b[0;34m[\u001b[0m\u001b[0mlj\u001b[0m\u001b[0;34m]\u001b[0m\u001b[0;34m**\u001b[0m\u001b[0;36m2\u001b[0m\u001b[0;34m)\u001b[0m\u001b[0;34m)\u001b[0m\u001b[0;34m)\u001b[0m\u001b[0;34m/\u001b[0m\u001b[0;34m(\u001b[0m\u001b[0;34m(\u001b[0m\u001b[0;36m1\u001b[0m\u001b[0;34m+\u001b[0m\u001b[0mW\u001b[0m\u001b[0;34m)\u001b[0m\u001b[0;34m**\u001b[0m\u001b[0;36m3\u001b[0m\u001b[0;34m)\u001b[0m\u001b[0;34m\u001b[0m\u001b[0;34m\u001b[0m\u001b[0m\n\u001b[1;32m     27\u001b[0m \u001b[0;34m\u001b[0m\u001b[0m\n",
      "\u001b[0;31mKeyboardInterrupt\u001b[0m: "
     ]
    }
   ],
   "source": [
    "r0 = np.repeat(None, M)\n",
    "theta_tilde = np.repeat(None, M)\n",
    "r_tilde = np.repeat(None, M)\n",
    "log_dens =  np.repeat(None, M)\n",
    "alpha = np.repeat(None, M)\n",
    "theta_m_1 = np.repeat(None, M)\n",
    "r_m = np.repeat(None, M)\n",
    "theta_m_1[0] = np.append(np.zeros(p), np.append(np.repeat(1,p), 0))\n",
    "\n",
    "acc = []\n",
    "# loop over number of samples that we want to produce\n",
    "theta_tilde[0] = np.zeros(21)\n",
    "r_tilde[0] = np.zeros(21)\n",
    "theta_m_1[1] = np.zeros(21)\n",
    "all_thetas = []\n",
    "theta_m_1[0] = np.zeros(21)\n",
    "r_m[0] = np.random.multivariate_normal(np.zeros(q), np.identity(q), 1)\n",
    "r_m[1] = np.random.multivariate_normal(np.zeros(q), np.identity(q), 1)\n",
    "for m in tqdm(range(1, M)):\n",
    "    \n",
    "    # Update S\n",
    "    # draw momentum from normal distribution\n",
    "    r0[m] = np.random.multivariate_normal(np.zeros(q), np.identity(q), 1)\n",
    "    \n",
    "    # set new parameters\n",
    "    theta_tilde[m] = theta_m_1[m].reshape(q,)\n",
    "    r_tilde[m] = r0[m]\n",
    "    betaBt = theta_tilde[m][0:p].dot(B_zeta.T)\n",
    "    \n",
    "    # generate proposal through L leapfrog updates \n",
    "    for i in range(0,L):\n",
    "        betaBt = theta_tilde[m][0:p].dot(B_zeta.T)\n",
    "        theta_tilde[m], r_tilde[m] = Leapfrog(theta_tilde[m], \n",
    "                                              r_tilde[m], \n",
    "                                              epsilon, n, z, p, \n",
    "                                              B_zeta, tBB, \n",
    "                                              betaBt)\n",
    "    \n",
    "    dS2, ddS2, S2, S = generate_dS2_ddS2_S2_S(np.exp(0.5*theta_tilde[m][p:2*p]), BoB)\n",
    "    betaBt = theta_tilde[m][0:p].dot(B_zeta.T)\n",
    "    \n",
    "    # probability that proposal is accepted\n",
    "    #log_dens[m] = log_density(S, B_zeta, theta_tilde[m][0:p], np.exp(0.5*theta_tilde[m][p:2*p]), theta_tilde[m][p], z, p)\n",
    "    #alpha[m] = min([1, (np.exp(log_dens[m] - r_tilde[m].dot(r_tilde[m].T)*1/2))/np.exp((log_dens[m] - r0[m].dot(r0[m].T)*1/2))])\n",
    "        # probability that proposal is accepted\n",
    "    log_dens[m] = log_density(S, B_zeta, theta_tilde[m][0:p], np.exp(0.5*theta_tilde[m][p:2*p]), theta_tilde[m][p], z, p)\n",
    "    proposed_u = log_density(S, B_zeta, theta_m_1[m][0:p], np.exp(0.5*theta_m_1[m][p:2*p]), theta_m_1[m][p], z, p)\n",
    "    current_K = r_tilde[m].dot(r_tilde[m].T)*0.5\n",
    "    proposed_K = r_m[m].dot(r_m[m].T)*0.5\n",
    "    p_accept = log_dens[m] -  proposed_u + current_K - proposed_K\n",
    "    alpha[m] = np.exp(min([np.log(1), p_accept]))\n",
    "    \n",
    "    if np.random.randn() <= alpha[m]:\n",
    "        theta_m_1[m + 1] = theta_tilde[m]\n",
    "        r_m[m + 1] = - r_tilde[m]\n",
    "        acc.append(1)\n",
    "        all_thetas.append(np.array(theta_m_1[m + 1]))\n",
    "    else:\n",
    "        theta_m_1[m + 1] = theta_tilde[m - 1]\n",
    "        r_m[m + 1] = - r_tilde[m - 1]\n",
    "        acc.append(0)\n",
    "        all_thetas.append(np.array(theta_m_1[m + 1]))\n",
    "    if (m % 100 == 0) & (m > 1):\n",
    "        print(np.mean(acc[-100:]))\n",
    "    "
   ]
  },
  {
   "cell_type": "code",
   "execution_count": 8,
   "metadata": {},
   "outputs": [
    {
     "data": {
      "text/plain": [
       "[<matplotlib.lines.Line2D at 0x7f1795904160>,\n",
       " <matplotlib.lines.Line2D at 0x7f1795904250>,\n",
       " <matplotlib.lines.Line2D at 0x7f1795904310>,\n",
       " <matplotlib.lines.Line2D at 0x7f17959043d0>,\n",
       " <matplotlib.lines.Line2D at 0x7f1795904490>,\n",
       " <matplotlib.lines.Line2D at 0x7f1795904550>,\n",
       " <matplotlib.lines.Line2D at 0x7f1795904610>,\n",
       " <matplotlib.lines.Line2D at 0x7f17959046d0>,\n",
       " <matplotlib.lines.Line2D at 0x7f1795904790>,\n",
       " <matplotlib.lines.Line2D at 0x7f1795904850>,\n",
       " <matplotlib.lines.Line2D at 0x7f179594b160>,\n",
       " <matplotlib.lines.Line2D at 0x7f17959049a0>,\n",
       " <matplotlib.lines.Line2D at 0x7f1795904a60>,\n",
       " <matplotlib.lines.Line2D at 0x7f1795904b20>,\n",
       " <matplotlib.lines.Line2D at 0x7f1795904be0>,\n",
       " <matplotlib.lines.Line2D at 0x7f1795904ca0>,\n",
       " <matplotlib.lines.Line2D at 0x7f1795904d60>,\n",
       " <matplotlib.lines.Line2D at 0x7f1795904e20>,\n",
       " <matplotlib.lines.Line2D at 0x7f1795904ee0>,\n",
       " <matplotlib.lines.Line2D at 0x7f1795904fa0>,\n",
       " <matplotlib.lines.Line2D at 0x7f179590b0a0>]"
      ]
     },
     "execution_count": 8,
     "metadata": {},
     "output_type": "execute_result"
    },
    {
     "data": {
      "image/png": "[encoded data removed]",
      "text/plain": [
       "<Figure size 432x288 with 1 Axes>"
      ]
     },
     "metadata": {
      "needs_background": "light"
     },
     "output_type": "display_data"
    }
   ],
   "source": [
    "import matplotlib.pyplot as plt\n",
    "plt.plot(all_thetas)\n",
    "#plt.ylim(0,1)"
   ]
  },
  {
   "cell_type": "code",
   "execution_count": 9,
   "metadata": {},
   "outputs": [
    {
     "data": {
      "text/plain": [
       "0.7963800904977375"
      ]
     },
     "execution_count": 9,
     "metadata": {},
     "output_type": "execute_result"
    }
   ],
   "source": [
    "np.mean(acc)"
   ]
  },
  {
   "cell_type": "code",
   "execution_count": null,
   "metadata": {},
   "outputs": [],
   "source": [
    "df = np.array(all_thetas)"
   ]
  },
  {
   "cell_type": "code",
   "execution_count": null,
   "metadata": {},
   "outputs": [],
   "source": [
    "plt.plot(df[:,10])"
   ]
  },
  {
   "cell_type": "code",
   "execution_count": null,
   "metadata": {},
   "outputs": [],
   "source": [
    "all_thetas[93][10:21]"
   ]
  },
  {
   "cell_type": "code",
   "execution_count": null,
   "metadata": {},
   "outputs": [],
   "source": [
    "theta_hmc = np.mean(all_thetas, axis = 0)\n",
    "theta_hmc_sd = np.std(all_thetas, axis = 0)\n",
    "#np.save('../../../../data/commaai/mcmc/filtered_gaussian_resampled/Ridge/all_thetas.npy', np.array(all_taus[J[1]:]))"
   ]
  },
  {
   "cell_type": "code",
   "execution_count": null,
   "metadata": {},
   "outputs": [],
   "source": [
    "theta_hmc"
   ]
  },
  {
   "cell_type": "code",
   "execution_count": null,
   "metadata": {},
   "outputs": [],
   "source": [
    "# comparison with VA"
   ]
  },
  {
   "cell_type": "code",
   "execution_count": null,
   "metadata": {},
   "outputs": [],
   "source": [
    "vartheta_va = np.load('../../../../data/commaai/va/filtered_gaussian_resampled/Horseshoe/mu_ts_delete.npy')"
   ]
  },
  {
   "cell_type": "code",
   "execution_count": null,
   "metadata": {},
   "outputs": [],
   "source": [
    "vartheta_bts = np.load('../../../../data/commaai/va/filtered_gaussian_resampled/Horseshoe/B_ts_delete.npy')\n",
    "vartheta_dts = np.load('../../../../data/commaai/va/filtered_gaussian_resampled/Horseshoe/d_ts_delete.npy')"
   ]
  },
  {
   "cell_type": "code",
   "execution_count": null,
   "metadata": {},
   "outputs": [],
   "source": [
    "B_ts = np.mean(vartheta_bts[10000:, :,:], axis = 0)\n",
    "d_ts = np.mean(vartheta_dts[10000:, :,:], axis = 0)\n",
    "va_sd = np.sqrt(np.diag(B_ts.dot(B_ts.T) + d_ts**2))"
   ]
  },
  {
   "cell_type": "code",
   "execution_count": null,
   "metadata": {},
   "outputs": [],
   "source": [
    "theta_va = np.mean(vartheta_va[10000:, :,:], axis = 0)"
   ]
  },
  {
   "cell_type": "code",
   "execution_count": null,
   "metadata": {},
   "outputs": [],
   "source": [
    "theta_va"
   ]
  },
  {
   "cell_type": "code",
   "execution_count": null,
   "metadata": {},
   "outputs": [],
   "source": [
    "plt.scatter(theta_hmc[0:10], theta_va[0:10])\n",
    "ident = [-1, 1.0]\n",
    "plt.plot(ident,ident)"
   ]
  },
  {
   "cell_type": "code",
   "execution_count": null,
   "metadata": {},
   "outputs": [],
   "source": [
    "beta_va = theta_hmc[0:10]"
   ]
  },
  {
   "cell_type": "code",
   "execution_count": null,
   "metadata": {},
   "outputs": [],
   "source": [
    "beta_va.shape"
   ]
  },
  {
   "cell_type": "code",
   "execution_count": null,
   "metadata": {},
   "outputs": [],
   "source": [
    "plt.scatter(va_sd, theta_hmc_sd)\n",
    "ident = [0, 1.0]\n",
    "plt.plot(ident,ident)"
   ]
  },
  {
   "cell_type": "code",
   "execution_count": null,
   "metadata": {},
   "outputs": [],
   "source": []
  }
 ],
 "metadata": {
  "kernelspec": {
   "display_name": "Python 3",
   "language": "python",
   "name": "python3"
  },
  "language_info": {
   "codemirror_mode": {
    "name": "ipython",
    "version": 3
   },
   "file_extension": ".py",
   "mimetype": "text/x-python",
   "name": "python",
   "nbconvert_exporter": "python",
   "pygments_lexer": "ipython3",
   "version": "3.8.5"
  }
 },
 "nbformat": 4,
 "nbformat_minor": 4
}
