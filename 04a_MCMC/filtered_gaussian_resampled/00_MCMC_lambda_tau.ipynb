{
 "cells": [
  {
   "cell_type": "code",
   "execution_count": 1,
   "metadata": {},
   "outputs": [],
   "source": [
    "import numpy as np\n",
    "import random\n",
    "import math\n",
    "from scipy.stats import multivariate_normal, norm\n",
    "import derivatives as dev\n",
    "from tqdm import tqdm\n",
    "import matplotlib.pyplot as plt\n",
    "import lambda_sampler as ls\n",
    "import tau_sampler as ts\n",
    "from scipy.stats import halfcauchy"
   ]
  },
  {
   "cell_type": "code",
   "execution_count": 2,
   "metadata": {},
   "outputs": [],
   "source": [
    "extracted_coefficients_directory = '../../../data/commaai/extracted_coefficients/20201027_filtered_gaussian_resampled/'\n",
    "B_zeta_path = str(extracted_coefficients_directory + 'Bzeta/B_zeta.npy')\n",
    "beta_path = str(extracted_coefficients_directory + 'beta/beta.csv')\n",
    "z_path = str(extracted_coefficients_directory + 'Bzeta/tr_labels.npy')\n",
    "beta = np.genfromtxt(beta_path, delimiter=',')\n",
    "B_zeta = np.load(B_zeta_path)\n",
    "B_zeta = B_zeta.reshape(B_zeta.shape[0], beta.shape[0])\n",
    "z = np.load(z_path) #[0:B_zeta.shape[0]]\n",
    "n = B_zeta.shape[0]\n",
    "p = B_zeta.shape[1]\n",
    "\n",
    "Lambda_old = np.repeat(1,p)\n",
    "BoB = B_zeta**2\n",
    "log_tau_old = math.exp(1)\n",
    "dS2_old, ddS2_old, S2_old, S_old = dev.generate_dS2_ddS2_S2_S(Lambda_old, BoB)"
   ]
  },
  {
   "cell_type": "code",
   "execution_count": 3,
   "metadata": {},
   "outputs": [],
   "source": [
    "# initialize Lambda\n",
    "betaBt = beta.dot(B_zeta.T)"
   ]
  },
  {
   "cell_type": "code",
   "execution_count": 6,
   "metadata": {},
   "outputs": [
    {
     "name": "stderr",
     "output_type": "stream",
     "text": [
      "  0%|          | 0/10000 [00:00<?, ?it/s]"
     ]
    },
    {
     "name": "stdout",
     "output_type": "stream",
     "text": [
      "-1.4223529232021654 -6838.4761123880235\n",
      "-1.0105110197133014 -197.89074137930402\n",
      "-2.4302801565212784 -189169.05074069952\n",
      "-0.22892629502300532 -164.0262095723067\n",
      "-0.45394464244214117 -232382210.1409905\n",
      "-2.063031763798913 -93985300133856.22\n",
      "-0.07109189766302262 -6210.336731460164\n",
      "-0.5059843891605902 -1854.865633319123\n"
     ]
    },
    {
     "name": "stderr",
     "output_type": "stream",
     "text": [
      "  0%|          | 1/10000 [00:01<3:55:54,  1.42s/it]"
     ]
    },
    {
     "name": "stdout",
     "output_type": "stream",
     "text": [
      "-1.0149388007819526 -1837609.6238551196\n",
      "-0.1323982290884016 -2924972021549.96\n",
      "-0.1021759482581188 -6930.959957059356\n",
      "-2.2163456307091915 -191.26495977601235\n",
      "-0.7518300443486922 -190238.93257115455\n",
      "-0.8743470769366364 -146.62250582596175\n",
      "-0.13202471103715682 -232439881.26836562\n",
      "-0.3742832097201178 -94112461425837.88\n",
      "-2.034445805958779 -6224.075298867661\n",
      "-0.8567168850945239 -1775.576674761176\n",
      "-0.14506937628283975 -1841226.916487258\n"
     ]
    },
    {
     "name": "stderr",
     "output_type": "stream",
     "text": [
      "  0%|          | 2/10000 [00:02<3:32:12,  1.27s/it]"
     ]
    },
    {
     "name": "stdout",
     "output_type": "stream",
     "text": [
      "-0.5775015145710382 -2921847905260.88\n",
      "-1.1682886981914102 -7144.710916886739\n",
      "-0.8171155089103069 -187.84296484166453\n",
      "-3.225426497015738 -189362.50961393095\n",
      "-1.914572473685269 -171.41061987333273\n",
      "-0.14939700339741524 -232417510.16141534\n",
      "-0.1441609857181641 -94384982299997.94\n",
      "-0.1931666429264784 -6476.411084585765\n",
      "-1.438552271302031 -1828.7750614621127\n",
      "-0.14815200838591508 -1840741.423009675\n"
     ]
    },
    {
     "name": "stderr",
     "output_type": "stream",
     "text": [
      "  0%|          | 3/10000 [00:03<3:05:36,  1.11s/it]"
     ]
    },
    {
     "name": "stdout",
     "output_type": "stream",
     "text": [
      "-0.5908440721498116 -2901328051798.754\n",
      "-0.0606390809977985 -6981.2879220881805\n",
      "-0.9646996242148209 -181.6154831744734\n",
      "-1.9516732832194563 -188287.81640024413\n",
      "-1.2058462431112822 -197.97481264489693\n",
      "-0.9774190143805123 -232423667.4756912\n",
      "-0.2576606126029163 -94500665328665.16\n",
      "-2.1837124854405996 -6489.6000292337485\n",
      "-0.320514619416083 -1835.044404157712\n",
      "-0.13156700214633893 -1837502.0157951675\n"
     ]
    },
    {
     "name": "stderr",
     "output_type": "stream",
     "text": [
      "  0%|          | 4/10000 [00:04<2:59:46,  1.08s/it]"
     ]
    },
    {
     "name": "stdout",
     "output_type": "stream",
     "text": [
      "-1.0806465060241521 -2914556992666.872\n",
      "-0.4992114815077824 -6864.183293908107\n",
      "-0.2806886723793406 -149.6670142646126\n",
      "-0.7364709101318924 -189094.08699884964\n",
      "-0.14511791309429764 -213.8907362998641\n",
      "-0.358981419147559 -232436078.33920157\n",
      "-2.0868020549176314 -94495054430850.39\n",
      "-0.19329406736084717 -6271.281390205782\n",
      "-1.334258758527694 -1781.2690592920208\n",
      "-0.47594976912846315 -1838823.925143687\n"
     ]
    },
    {
     "name": "stderr",
     "output_type": "stream",
     "text": [
      "  0%|          | 5/10000 [00:04<2:42:39,  1.02it/s]"
     ]
    },
    {
     "name": "stdout",
     "output_type": "stream",
     "text": [
      "-0.2696194424929436 -2915498950789.232\n",
      "-1.2558697688817702 -7042.809045373062\n",
      "-0.6789198575349101 -191.0083503549472\n",
      "-1.4896616704465173 -189559.3416336705\n",
      "-3.4663991020601927 -166.736289108165\n",
      "-1.3747704330022414 -232415045.10847485\n",
      "-0.06631138479295792 -93892576805447.22\n",
      "-0.044253541626380816 -6320.996172066567\n",
      "-0.23799486093591485 -1826.5435044440928\n",
      "-0.40141579792132576 -1838500.8377879001\n"
     ]
    },
    {
     "name": "stderr",
     "output_type": "stream",
     "text": [
      "  0%|          | 6/10000 [00:05<2:27:37,  1.13it/s]"
     ]
    },
    {
     "name": "stdout",
     "output_type": "stream",
     "text": [
      "-1.1015544941497304 -2922016099142.0\n",
      "-2.029334768497432 -7141.2946987862815\n",
      "-1.387266911179165 -172.81396926422576\n",
      "-0.45765943893405725 -188951.105749954\n",
      "-0.12251521212679556 -198.96946531924823\n",
      "-0.4883770829513493 -232406639.92269373\n",
      "-0.06326206876142376 -94038896472559.39\n",
      "-1.3841347880755368 -6591.37800099756\n",
      "-0.5300904533337631 -1825.0734627882284\n"
     ]
    },
    {
     "name": "stderr",
     "output_type": "stream",
     "text": [
      "  0%|          | 7/10000 [00:06<2:34:05,  1.08it/s]"
     ]
    },
    {
     "name": "stdout",
     "output_type": "stream",
     "text": [
      "-1.2800019926049186 -1841410.7134253886\n",
      "-0.32842296994006903 -2933016852610.73\n",
      "-0.055668600793523905 -7033.796811381559\n",
      "-0.19661096414849438 -213.44786537671416\n"
     ]
    },
    {
     "name": "stderr",
     "output_type": "stream",
     "text": [
      "  0%|          | 7/10000 [00:07<2:48:52,  1.01s/it]"
     ]
    },
    {
     "name": "stdout",
     "output_type": "stream",
     "text": [
      "-0.8868992109433276 -189305.0821429093\n"
     ]
    },
    {
     "name": "stderr",
     "output_type": "stream",
     "text": [
      "\n"
     ]
    },
    {
     "ename": "KeyboardInterrupt",
     "evalue": "",
     "output_type": "error",
     "traceback": [
      "\u001b[0;31m---------------------------------------------------------------------------\u001b[0m",
      "\u001b[0;31mKeyboardInterrupt\u001b[0m                         Traceback (most recent call last)",
      "\u001b[0;32m<ipython-input-6-74e47359d066>\u001b[0m in \u001b[0;36m<module>\u001b[0;34m\u001b[0m\n\u001b[1;32m     25\u001b[0m     \u001b[0;31m# update lambda\u001b[0m\u001b[0;34m\u001b[0m\u001b[0;34m\u001b[0m\u001b[0;34m\u001b[0m\u001b[0m\n\u001b[1;32m     26\u001b[0m     \u001b[0;32mfor\u001b[0m \u001b[0mm\u001b[0m \u001b[0;32min\u001b[0m \u001b[0mrange\u001b[0m\u001b[0;34m(\u001b[0m\u001b[0;36m0\u001b[0m\u001b[0;34m,\u001b[0m \u001b[0mlen\u001b[0m\u001b[0;34m(\u001b[0m\u001b[0mLambda_old\u001b[0m\u001b[0;34m)\u001b[0m\u001b[0;34m)\u001b[0m\u001b[0;34m:\u001b[0m\u001b[0;34m\u001b[0m\u001b[0;34m\u001b[0m\u001b[0m\n\u001b[0;32m---> 27\u001b[0;31m         log_sq_lambda_new, decision_criterion_lambda, dS2_new, ddS2_new, S2_new, S_new, ddlunew, Lambda_new = ls.sample_lambda(m, \n\u001b[0m\u001b[1;32m     28\u001b[0m                                                                                                \u001b[0mlog_tau_old\u001b[0m\u001b[0;34m,\u001b[0m\u001b[0;34m\u001b[0m\u001b[0;34m\u001b[0m\u001b[0m\n\u001b[1;32m     29\u001b[0m                                                                                                \u001b[0mLambda_old\u001b[0m\u001b[0;34m,\u001b[0m \u001b[0mp\u001b[0m\u001b[0;34m,\u001b[0m \u001b[0mbeta\u001b[0m\u001b[0;34m,\u001b[0m\u001b[0;34m\u001b[0m\u001b[0;34m\u001b[0m\u001b[0m\n",
      "\u001b[0;32m~/commaai_code/04a_MCMC/filtered_gaussian_resampled/lambda_sampler.py\u001b[0m in \u001b[0;36msample_lambda\u001b[0;34m(lj, log_tau_old, Lambda, p, beta, B_zeta, dS2_old, ddS2_old, S2_old, S_old, z, BoB, betaBt)\u001b[0m\n\u001b[1;32m     71\u001b[0m         \u001b[0mLambda_new\u001b[0m \u001b[0;34m=\u001b[0m \u001b[0mnp\u001b[0m\u001b[0;34m.\u001b[0m\u001b[0mappend\u001b[0m\u001b[0;34m(\u001b[0m\u001b[0mLambda_new\u001b[0m\u001b[0;34m[\u001b[0m\u001b[0;36m0\u001b[0m\u001b[0;34m:\u001b[0m\u001b[0mlj\u001b[0m\u001b[0;34m]\u001b[0m\u001b[0;34m,\u001b[0m \u001b[0mlambdajnew\u001b[0m\u001b[0;34m)\u001b[0m\u001b[0;34m\u001b[0m\u001b[0;34m\u001b[0m\u001b[0m\n\u001b[1;32m     72\u001b[0m \u001b[0;34m\u001b[0m\u001b[0m\n\u001b[0;32m---> 73\u001b[0;31m     \u001b[0mdS2_new_j\u001b[0m\u001b[0;34m,\u001b[0m \u001b[0mddS2_new_j\u001b[0m\u001b[0;34m,\u001b[0m \u001b[0mS2_new\u001b[0m\u001b[0;34m,\u001b[0m \u001b[0mS_new\u001b[0m \u001b[0;34m=\u001b[0m \u001b[0mgenerate_dS2_ddS2_S2_S_lj\u001b[0m\u001b[0;34m(\u001b[0m\u001b[0mlj\u001b[0m\u001b[0;34m,\u001b[0m \u001b[0mLambda_new\u001b[0m\u001b[0;34m,\u001b[0m \u001b[0mBoB\u001b[0m\u001b[0;34m)\u001b[0m\u001b[0;34m\u001b[0m\u001b[0;34m\u001b[0m\u001b[0m\n\u001b[0m\u001b[1;32m     74\u001b[0m     \u001b[0mdS2_new\u001b[0m\u001b[0;34m,\u001b[0m \u001b[0mddS2_new\u001b[0m \u001b[0;34m=\u001b[0m \u001b[0mnp\u001b[0m\u001b[0;34m.\u001b[0m\u001b[0mcopy\u001b[0m\u001b[0;34m(\u001b[0m\u001b[0mdS2_old\u001b[0m\u001b[0;34m)\u001b[0m\u001b[0;34m,\u001b[0m \u001b[0mnp\u001b[0m\u001b[0;34m.\u001b[0m\u001b[0mcopy\u001b[0m\u001b[0;34m(\u001b[0m\u001b[0mddS2_old\u001b[0m\u001b[0;34m)\u001b[0m\u001b[0;34m\u001b[0m\u001b[0;34m\u001b[0m\u001b[0m\n\u001b[1;32m     75\u001b[0m     \u001b[0mdS2_new\u001b[0m\u001b[0;34m[\u001b[0m\u001b[0;34m:\u001b[0m\u001b[0;34m,\u001b[0m\u001b[0mlj\u001b[0m\u001b[0;34m]\u001b[0m\u001b[0;34m,\u001b[0m \u001b[0mddS2_new\u001b[0m\u001b[0;34m[\u001b[0m\u001b[0;34m:\u001b[0m\u001b[0;34m,\u001b[0m\u001b[0mlj\u001b[0m\u001b[0;34m]\u001b[0m \u001b[0;34m=\u001b[0m \u001b[0mdS2_new_j\u001b[0m\u001b[0;34m,\u001b[0m \u001b[0mddS2_new_j\u001b[0m\u001b[0;34m\u001b[0m\u001b[0;34m\u001b[0m\u001b[0m\n",
      "\u001b[0;32m~/commaai_code/04a_MCMC/filtered_gaussian_resampled/lambda_sampler.py\u001b[0m in \u001b[0;36mgenerate_dS2_ddS2_S2_S_lj\u001b[0;34m(lj, lambda_new, BoB)\u001b[0m\n\u001b[1;32m     30\u001b[0m \u001b[0;34m\u001b[0m\u001b[0m\n\u001b[1;32m     31\u001b[0m     \u001b[0mn\u001b[0m\u001b[0;34m,\u001b[0m \u001b[0mp\u001b[0m \u001b[0;34m=\u001b[0m \u001b[0mBoB\u001b[0m\u001b[0;34m.\u001b[0m\u001b[0mshape\u001b[0m\u001b[0;34m\u001b[0m\u001b[0;34m\u001b[0m\u001b[0m\n\u001b[0;32m---> 32\u001b[0;31m     \u001b[0mW\u001b[0m \u001b[0;34m=\u001b[0m \u001b[0mBoB\u001b[0m\u001b[0;34m.\u001b[0m\u001b[0mdot\u001b[0m\u001b[0;34m(\u001b[0m\u001b[0mlambda_new\u001b[0m\u001b[0;34m**\u001b[0m\u001b[0;36m2\u001b[0m\u001b[0;34m)\u001b[0m\u001b[0;34m\u001b[0m\u001b[0;34m\u001b[0m\u001b[0m\n\u001b[0m\u001b[1;32m     33\u001b[0m     \u001b[0mS2\u001b[0m \u001b[0;34m=\u001b[0m \u001b[0;34m(\u001b[0m\u001b[0;36m1\u001b[0m\u001b[0;34m/\u001b[0m\u001b[0;34m(\u001b[0m\u001b[0;36m1\u001b[0m \u001b[0;34m+\u001b[0m \u001b[0mW\u001b[0m\u001b[0;34m)\u001b[0m\u001b[0;34m)\u001b[0m\u001b[0;34m\u001b[0m\u001b[0;34m\u001b[0m\u001b[0m\n\u001b[1;32m     34\u001b[0m     \u001b[0mS\u001b[0m \u001b[0;34m=\u001b[0m \u001b[0mnp\u001b[0m\u001b[0;34m.\u001b[0m\u001b[0msqrt\u001b[0m\u001b[0;34m(\u001b[0m\u001b[0mS2\u001b[0m\u001b[0;34m)\u001b[0m\u001b[0;34m\u001b[0m\u001b[0;34m\u001b[0m\u001b[0m\n",
      "\u001b[0;31mKeyboardInterrupt\u001b[0m: "
     ]
    }
   ],
   "source": [
    "num_iterations = 10000\n",
    "lambdaacc = np.zeros((len(Lambda_old),num_iterations))\n",
    "all_betas = []\n",
    "all_lambdas = []\n",
    "tauacc = []\n",
    "all_taus = []\n",
    "for j in tqdm(range(0, num_iterations)):\n",
    "    \n",
    "    beta = ts.sample_beta(p, B_zeta, Lambda_old, S_old, z)\n",
    "    all_betas.append(beta)\n",
    "    \n",
    "    betaBt = beta.dot(B_zeta.T)\n",
    "    \n",
    "    # update tau\n",
    "    log_tau_new, decision_criterion_tau = ts.sample_tau(log_tau_old, Lambda_old, p)\n",
    "    # decision to accept/reject tau\n",
    "\n",
    "    if math.log(random.random()) <= decision_criterion_tau:\n",
    "        log_tau_old = log_tau_new\n",
    "        tauacc.append(1)\n",
    "        all_taus.append(log_tau_new)\n",
    "    else:\n",
    "        tauacc.append(0)\n",
    "    \n",
    "    # update lambda\n",
    "    for m in range(0, len(Lambda_old)):\n",
    "        log_sq_lambda_new, decision_criterion_lambda, dS2_new, ddS2_new, S2_new, S_new, ddlunew, Lambda_new = ls.sample_lambda(m, \n",
    "                                                                                               log_tau_old, \n",
    "                                                                                               Lambda_old, p, beta, \n",
    "                                                                                               B_zeta, dS2_old, ddS2_old, \n",
    "                                                                                              S2_old, S_old, z, BoB, betaBt)\n",
    "        \n",
    "        print(math.log(random.random()), decision_criterion_lambda)\n",
    "        if math.log(random.random()) <= decision_criterion_lambda:\n",
    "            #if m < p - 1:\n",
    "                #Lambda_old = np.append(np.append(Lambda_old[0:m], math.exp(0.5*log_sq_lambda_new)), Lambda_new[m + 1:])\n",
    "            Lambda_old = np.copy(Lambda_new)\n",
    "            #elif m == p - 1:\n",
    "            #    Lambda_old = np.append(Lambda_old[0:m],  math.exp(0.5*log_sq_lambda_new))\n",
    "            lambdaacc[m,j] += 1\n",
    "            all_lambdas.append(Lambda_old)\n",
    "            dS2_old, ddS2_old, S2_old, S_old = dS2_new, ddS2_new, S2_new, S_new\n",
    "        \n",
    "        else:\n",
    "            lambdaacc[m,j] += 0\n",
    "            all_lambdas.append(Lambda_old) "
   ]
  },
  {
   "cell_type": "code",
   "execution_count": 5,
   "metadata": {},
   "outputs": [
    {
     "name": "stdout",
     "output_type": "stream",
     "text": [
      "Acceptance rate for lambda_js: [0.0001 0.0001 0.0001 0.0001 0.     0.     0.0001 0.0001 0.0001 0.    ]\n",
      "Acceptance rate for tau: 0.9333333333333333\n"
     ]
    }
   ],
   "source": [
    "print('Acceptance rate for lambda_js: ' + str(np.sum(lambdaacc/num_iterations, axis = 1))\n",
    "     + '\\nAcceptance rate for tau: ' + str(np.mean(tauacc)))\n"
   ]
  },
  {
   "cell_type": "code",
   "execution_count": null,
   "metadata": {},
   "outputs": [],
   "source": [
    "lambdaacc[0]"
   ]
  },
  {
   "cell_type": "code",
   "execution_count": null,
   "metadata": {},
   "outputs": [],
   "source": []
  }
 ],
 "metadata": {
  "kernelspec": {
   "display_name": "Python 3",
   "language": "python",
   "name": "python3"
  },
  "language_info": {
   "codemirror_mode": {
    "name": "ipython",
    "version": 3
   },
   "file_extension": ".py",
   "mimetype": "text/x-python",
   "name": "python",
   "nbconvert_exporter": "python",
   "pygments_lexer": "ipython3",
   "version": "3.8.5"
  }
 },
 "nbformat": 4,
 "nbformat_minor": 4
}
