{
 "cells": [
  {
   "cell_type": "code",
   "execution_count": 1,
   "metadata": {},
   "outputs": [],
   "source": [
    "import numpy as np\n",
    "import random as rand\n",
    "from tqdm import tqdm"
   ]
  },
  {
   "cell_type": "markdown",
   "metadata": {},
   "source": [
    "Want to sample from three variables:\n",
    "1. $\\lambda$\n",
    "2. $\\tau$\n",
    "3. $\\beta$\n",
    "\n",
    "-> these values are then averaged to get the Monte-Carlo estimator\n",
    "-> first: what is density of $\\beta$?"
   ]
  },
  {
   "cell_type": "code",
   "execution_count": 2,
   "metadata": {},
   "outputs": [],
   "source": [
    "# import data from DNN training\n",
    "extracted_coefficients_directory = '../../../../../data/commaai/extracted_coefficients/20201027_filtered_gaussian_resampled/'\n",
    "B_zeta_path = str(extracted_coefficients_directory + 'Bzeta/B_zeta.npy')\n",
    "beta_path = str(extracted_coefficients_directory + 'beta/beta.csv')\n",
    "z_path = str(extracted_coefficients_directory + 'Bzeta/tr_labels.npy')\n",
    "beta = np.genfromtxt(beta_path, delimiter=',')\n",
    "B_zeta = np.load(B_zeta_path)\n",
    "B_zeta = B_zeta.reshape(B_zeta.shape[0], beta.shape[0])\n",
    "z = np.load(z_path)\n",
    "tBB = B_zeta.T.dot(B_zeta)\n",
    "\n",
    "theta_prior = 2.5"
   ]
  },
  {
   "cell_type": "code",
   "execution_count": 3,
   "metadata": {},
   "outputs": [],
   "source": [
    "beta = np.repeat(0,10)\n",
    "# number of samples we want to produce\n",
    "M = 50000 + 1\n",
    "L = 150\n",
    "\n",
    "# number of parameters of theta\n",
    "q = B_zeta.shape[1] + 1\n",
    "p = B_zeta.shape[1]\n",
    "\n",
    "n = B_zeta.shape[0]\n",
    "\n",
    "# start values for beta, lambda, tau\n",
    "# beta is taken from trained network and other two\n",
    "# are initialized randomly\n",
    "theta_m_1 = np.append(np.zeros(10), np.random.rand(1,))\n",
    "\n",
    "# stepsize\n",
    "epsilon = 0.00025\n",
    "\n",
    "r_m = np.zeros(theta_m_1.shape[0])\n",
    "\n",
    "tau_start = theta_m_1[p]"
   ]
  },
  {
   "cell_type": "code",
   "execution_count": 4,
   "metadata": {},
   "outputs": [],
   "source": [
    "W = np.array([B_zeta[i,:].dot(B_zeta[i,:]) for i in range(0, n)])\n",
    "S = np.sqrt(1/(1 + W*tau_start))\n",
    "S2 = S**2"
   ]
  },
  {
   "cell_type": "markdown",
   "metadata": {},
   "source": [
    " need to write functions for\n",
    "- log-density of $\\log \\lambda_j^2$\n",
    "- gradient of log-density of $\\log \\lambda_j^2$\n",
    "\n",
    "- log-density of $\\log \\tau$\n",
    "- gradient of $\\log \\tau$\n",
    "\n",
    "- log-density of $\\beta$\n",
    "- gradient of $\\beta$"
   ]
  },
  {
   "cell_type": "code",
   "execution_count": 5,
   "metadata": {},
   "outputs": [],
   "source": [
    "def delta_beta(z, u, B, S, beta, tBB):\n",
    "    return(B.T.dot(z*(1/S)) - beta.T.dot(tBB) - beta/np.exp(u))\n",
    "\n",
    "def delta_tau(u, B, S2, dS2, z, beta, theta_prior, betaBt):\n",
    "    p = B.shape[1]\n",
    "    return(- 0.5*np.sum(dS2/S2) \n",
    "           - 0.5*np.sum((z**2)*(-dS2/(S2**2)))\n",
    "           + np.sum(betaBt*((-0.5*dS2/(S2**1.5))*z)) \n",
    "           - (0.5*p - 0.5) \n",
    "           + 0.5*(beta.T.dot(beta))/np.exp(u) \n",
    "           - 0.5*(np.exp(u)/theta_prior)**0.5 )\n",
    "\n",
    "def compdS(tau2, W):\n",
    "    tildeW = tau2*W\n",
    "    S2 = 1/(1+tildeW)\n",
    "    dS2 = -tildeW/((1+tildeW)**2)\n",
    "    ddS2 = -tildeW/((1+tildeW)**2) + 2*(tildeW**2)/((1+tildeW)**3)\n",
    "    \n",
    "    S = np.sqrt(S2)\n",
    "    return(S2, dS2, ddS2, S)\n",
    "\n",
    "def Delta_theta(vartheta_t, B, n, z, p, tBB, betaBt, theta, W, theta_prior):\n",
    "    vartheta_new = vartheta_t.copy()\n",
    "    beta_t = vartheta_new[0:p].reshape(p,)\n",
    "    u = vartheta_new[p]\n",
    "\n",
    "    S2, dS2, ddS2, S = compdS(np.exp(u), W)\n",
    "    \n",
    "    # Gradient w.r.t. beta\n",
    "    grad_beta = delta_beta(z, u, B, S, beta_t, tBB)\n",
    "    # Gradient w.r.t. tau\n",
    "    grad_tau = delta_tau(u, B, S2, dS2, z, beta_t, theta_prior, betaBt)\n",
    "    \n",
    "    return(np.append(grad_beta, grad_tau))\n",
    "\n",
    "def log_density(z, u,  beta, B, p,  n, S, S2, tBB, theta, betaBt):   \n",
    "    term1 = - 0.5*np.sum(np.log(S2))\n",
    "    term2 =  - 0.5*z.dot((1/S2)*z)\n",
    "    term3 = + betaBt.dot(z*(1/S)) \n",
    "    term4 = - 0.5*beta.T.dot(tBB).dot(beta)\n",
    "    term5 =  - 0.5/np.exp(u)*np.sum(beta**2)\n",
    "    term6 =  - 0.5*u*(p-1)  - np.sqrt(np.exp(u)/theta)\n",
    "    return (term1 + term2 + term3 +term4 + term5 + term6  )\n",
    "\n"
   ]
  },
  {
   "cell_type": "code",
   "execution_count": 6,
   "metadata": {},
   "outputs": [],
   "source": [
    "def Leapfrog(theta, r, epsilon, n, z, p, B, tBB, betaBt, beta, W, theta_prior):\n",
    "    \n",
    "    # compute gradient with theta\n",
    "    Delta_theta_t = Delta_theta(theta, B, n, z, p, tBB, betaBt, theta, W, theta_prior)\n",
    "\n",
    "    # update momentum\n",
    "    r_tilde = r + (epsilon/2)*Delta_theta_t\n",
    "\n",
    "    # update theta\n",
    "    theta_tilde = (theta + epsilon*r_tilde).reshape(p + 1,)\n",
    "    beta_t = theta_tilde[0:p]\n",
    "    betaBt_t = beta_t.dot(B_zeta.T)\n",
    "    \n",
    "    # compute updated gradient\n",
    "    Delta_theta_tilde = Delta_theta(theta_tilde, B, n, z, p, tBB, betaBt_t, theta, W, theta_prior)\n",
    "    \n",
    "    # update momentum again\n",
    "    r_tilde = r_tilde + (epsilon/2)*Delta_theta_tilde\n",
    "    \n",
    "    return(theta_tilde, r_tilde)"
   ]
  },
  {
   "cell_type": "code",
   "execution_count": 7,
   "metadata": {},
   "outputs": [
    {
     "name": "stderr",
     "output_type": "stream",
     "text": [
      "  1%|          | 357/49999 [1:26:03<199:26:45, 14.46s/it]\n"
     ]
    },
    {
     "ename": "KeyboardInterrupt",
     "evalue": "",
     "output_type": "error",
     "traceback": [
      "\u001b[0;31m---------------------------------------------------------------------------\u001b[0m",
      "\u001b[0;31mKeyboardInterrupt\u001b[0m                         Traceback (most recent call last)",
      "\u001b[0;32m<ipython-input-7-88f741394363>\u001b[0m in \u001b[0;36m<module>\u001b[0;34m\u001b[0m\n\u001b[1;32m     32\u001b[0m     \u001b[0;31m# generate proposal through L leapfrog updates\u001b[0m\u001b[0;34m\u001b[0m\u001b[0;34m\u001b[0m\u001b[0;34m\u001b[0m\u001b[0m\n\u001b[1;32m     33\u001b[0m     \u001b[0;32mfor\u001b[0m \u001b[0mi\u001b[0m \u001b[0;32min\u001b[0m \u001b[0mrange\u001b[0m\u001b[0;34m(\u001b[0m\u001b[0;36m0\u001b[0m\u001b[0;34m,\u001b[0m\u001b[0mL\u001b[0m\u001b[0;34m)\u001b[0m\u001b[0;34m:\u001b[0m\u001b[0;34m\u001b[0m\u001b[0;34m\u001b[0m\u001b[0m\n\u001b[0;32m---> 34\u001b[0;31m         \u001b[0mtheta_tilde\u001b[0m\u001b[0;34m[\u001b[0m\u001b[0mm\u001b[0m\u001b[0;34m]\u001b[0m\u001b[0;34m,\u001b[0m \u001b[0mr_tilde\u001b[0m\u001b[0;34m[\u001b[0m\u001b[0mm\u001b[0m\u001b[0;34m]\u001b[0m \u001b[0;34m=\u001b[0m \u001b[0mLeapfrog\u001b[0m\u001b[0;34m(\u001b[0m\u001b[0mtheta_tilde\u001b[0m\u001b[0;34m[\u001b[0m\u001b[0mm\u001b[0m\u001b[0;34m]\u001b[0m\u001b[0;34m,\u001b[0m \u001b[0mr_tilde\u001b[0m\u001b[0;34m[\u001b[0m\u001b[0mm\u001b[0m\u001b[0;34m]\u001b[0m\u001b[0;34m,\u001b[0m \u001b[0mepsilon\u001b[0m\u001b[0;34m,\u001b[0m \u001b[0mn\u001b[0m\u001b[0;34m,\u001b[0m \u001b[0mz\u001b[0m\u001b[0;34m,\u001b[0m \u001b[0mp\u001b[0m\u001b[0;34m,\u001b[0m \u001b[0mB_zeta\u001b[0m\u001b[0;34m,\u001b[0m \u001b[0mtBB\u001b[0m\u001b[0;34m,\u001b[0m \u001b[0mbetaBt\u001b[0m\u001b[0;34m,\u001b[0m \u001b[0mbeta\u001b[0m\u001b[0;34m,\u001b[0m \u001b[0mW\u001b[0m\u001b[0;34m,\u001b[0m \u001b[0mtheta_prior\u001b[0m\u001b[0;34m)\u001b[0m\u001b[0;34m\u001b[0m\u001b[0;34m\u001b[0m\u001b[0m\n\u001b[0m\u001b[1;32m     35\u001b[0m \u001b[0;34m\u001b[0m\u001b[0m\n\u001b[1;32m     36\u001b[0m     \u001b[0mS2\u001b[0m\u001b[0;34m,\u001b[0m \u001b[0mdS2\u001b[0m\u001b[0;34m,\u001b[0m \u001b[0mddS2\u001b[0m\u001b[0;34m,\u001b[0m \u001b[0mS\u001b[0m \u001b[0;34m=\u001b[0m \u001b[0mcompdS\u001b[0m\u001b[0;34m(\u001b[0m\u001b[0mnp\u001b[0m\u001b[0;34m.\u001b[0m\u001b[0mexp\u001b[0m\u001b[0;34m(\u001b[0m\u001b[0mtheta_tilde\u001b[0m\u001b[0;34m[\u001b[0m\u001b[0mm\u001b[0m\u001b[0;34m]\u001b[0m\u001b[0;34m[\u001b[0m\u001b[0mp\u001b[0m\u001b[0;34m]\u001b[0m\u001b[0;34m)\u001b[0m\u001b[0;34m,\u001b[0m \u001b[0mW\u001b[0m\u001b[0;34m)\u001b[0m\u001b[0;34m\u001b[0m\u001b[0;34m\u001b[0m\u001b[0m\n",
      "\u001b[0;32m<ipython-input-6-bf6aebbfcfeb>\u001b[0m in \u001b[0;36mLeapfrog\u001b[0;34m(theta, r, epsilon, n, z, p, B, tBB, betaBt, beta, W, theta_prior)\u001b[0m\n\u001b[1;32m      2\u001b[0m \u001b[0;34m\u001b[0m\u001b[0m\n\u001b[1;32m      3\u001b[0m     \u001b[0;31m# compute gradient with theta\u001b[0m\u001b[0;34m\u001b[0m\u001b[0;34m\u001b[0m\u001b[0;34m\u001b[0m\u001b[0m\n\u001b[0;32m----> 4\u001b[0;31m     \u001b[0mDelta_theta_t\u001b[0m \u001b[0;34m=\u001b[0m \u001b[0mDelta_theta\u001b[0m\u001b[0;34m(\u001b[0m\u001b[0mtheta\u001b[0m\u001b[0;34m,\u001b[0m \u001b[0mB\u001b[0m\u001b[0;34m,\u001b[0m \u001b[0mn\u001b[0m\u001b[0;34m,\u001b[0m \u001b[0mz\u001b[0m\u001b[0;34m,\u001b[0m \u001b[0mp\u001b[0m\u001b[0;34m,\u001b[0m \u001b[0mtBB\u001b[0m\u001b[0;34m,\u001b[0m \u001b[0mbetaBt\u001b[0m\u001b[0;34m,\u001b[0m \u001b[0mtheta\u001b[0m\u001b[0;34m,\u001b[0m \u001b[0mW\u001b[0m\u001b[0;34m,\u001b[0m \u001b[0mtheta_prior\u001b[0m\u001b[0;34m)\u001b[0m\u001b[0;34m\u001b[0m\u001b[0;34m\u001b[0m\u001b[0m\n\u001b[0m\u001b[1;32m      5\u001b[0m \u001b[0;34m\u001b[0m\u001b[0m\n\u001b[1;32m      6\u001b[0m     \u001b[0;31m# update momentum\u001b[0m\u001b[0;34m\u001b[0m\u001b[0;34m\u001b[0m\u001b[0;34m\u001b[0m\u001b[0m\n",
      "\u001b[0;32m<ipython-input-5-6c1f41de7b80>\u001b[0m in \u001b[0;36mDelta_theta\u001b[0;34m(vartheta_t, B, n, z, p, tBB, betaBt, theta, W, theta_prior)\u001b[0m\n\u001b[1;32m     28\u001b[0m \u001b[0;34m\u001b[0m\u001b[0m\n\u001b[1;32m     29\u001b[0m     \u001b[0;31m# Gradient w.r.t. beta\u001b[0m\u001b[0;34m\u001b[0m\u001b[0;34m\u001b[0m\u001b[0;34m\u001b[0m\u001b[0m\n\u001b[0;32m---> 30\u001b[0;31m     \u001b[0mgrad_beta\u001b[0m \u001b[0;34m=\u001b[0m \u001b[0mdelta_beta\u001b[0m\u001b[0;34m(\u001b[0m\u001b[0mz\u001b[0m\u001b[0;34m,\u001b[0m \u001b[0mu\u001b[0m\u001b[0;34m,\u001b[0m \u001b[0mB\u001b[0m\u001b[0;34m,\u001b[0m \u001b[0mS\u001b[0m\u001b[0;34m,\u001b[0m \u001b[0mbeta_t\u001b[0m\u001b[0;34m,\u001b[0m \u001b[0mtBB\u001b[0m\u001b[0;34m)\u001b[0m\u001b[0;34m\u001b[0m\u001b[0;34m\u001b[0m\u001b[0m\n\u001b[0m\u001b[1;32m     31\u001b[0m     \u001b[0;31m# Gradient w.r.t. tau\u001b[0m\u001b[0;34m\u001b[0m\u001b[0;34m\u001b[0m\u001b[0;34m\u001b[0m\u001b[0m\n\u001b[1;32m     32\u001b[0m     \u001b[0mgrad_tau\u001b[0m \u001b[0;34m=\u001b[0m \u001b[0mdelta_tau\u001b[0m\u001b[0;34m(\u001b[0m\u001b[0mu\u001b[0m\u001b[0;34m,\u001b[0m \u001b[0mB\u001b[0m\u001b[0;34m,\u001b[0m \u001b[0mS2\u001b[0m\u001b[0;34m,\u001b[0m \u001b[0mdS2\u001b[0m\u001b[0;34m,\u001b[0m \u001b[0mz\u001b[0m\u001b[0;34m,\u001b[0m \u001b[0mbeta_t\u001b[0m\u001b[0;34m,\u001b[0m \u001b[0mtheta_prior\u001b[0m\u001b[0;34m,\u001b[0m \u001b[0mbetaBt\u001b[0m\u001b[0;34m)\u001b[0m\u001b[0;34m\u001b[0m\u001b[0;34m\u001b[0m\u001b[0m\n",
      "\u001b[0;32m<ipython-input-5-6c1f41de7b80>\u001b[0m in \u001b[0;36mdelta_beta\u001b[0;34m(z, u, B, S, beta, tBB)\u001b[0m\n\u001b[1;32m      1\u001b[0m \u001b[0;32mdef\u001b[0m \u001b[0mdelta_beta\u001b[0m\u001b[0;34m(\u001b[0m\u001b[0mz\u001b[0m\u001b[0;34m,\u001b[0m \u001b[0mu\u001b[0m\u001b[0;34m,\u001b[0m \u001b[0mB\u001b[0m\u001b[0;34m,\u001b[0m \u001b[0mS\u001b[0m\u001b[0;34m,\u001b[0m \u001b[0mbeta\u001b[0m\u001b[0;34m,\u001b[0m \u001b[0mtBB\u001b[0m\u001b[0;34m)\u001b[0m\u001b[0;34m:\u001b[0m\u001b[0;34m\u001b[0m\u001b[0;34m\u001b[0m\u001b[0m\n\u001b[0;32m----> 2\u001b[0;31m     \u001b[0;32mreturn\u001b[0m\u001b[0;34m(\u001b[0m\u001b[0mB\u001b[0m\u001b[0;34m.\u001b[0m\u001b[0mT\u001b[0m\u001b[0;34m.\u001b[0m\u001b[0mdot\u001b[0m\u001b[0;34m(\u001b[0m\u001b[0mz\u001b[0m\u001b[0;34m*\u001b[0m\u001b[0;34m(\u001b[0m\u001b[0;36m1\u001b[0m\u001b[0;34m/\u001b[0m\u001b[0mS\u001b[0m\u001b[0;34m)\u001b[0m\u001b[0;34m)\u001b[0m \u001b[0;34m-\u001b[0m \u001b[0mbeta\u001b[0m\u001b[0;34m.\u001b[0m\u001b[0mT\u001b[0m\u001b[0;34m.\u001b[0m\u001b[0mdot\u001b[0m\u001b[0;34m(\u001b[0m\u001b[0mtBB\u001b[0m\u001b[0;34m)\u001b[0m \u001b[0;34m-\u001b[0m \u001b[0mbeta\u001b[0m\u001b[0;34m/\u001b[0m\u001b[0mnp\u001b[0m\u001b[0;34m.\u001b[0m\u001b[0mexp\u001b[0m\u001b[0;34m(\u001b[0m\u001b[0mu\u001b[0m\u001b[0;34m)\u001b[0m\u001b[0;34m)\u001b[0m\u001b[0;34m\u001b[0m\u001b[0;34m\u001b[0m\u001b[0m\n\u001b[0m\u001b[1;32m      3\u001b[0m \u001b[0;34m\u001b[0m\u001b[0m\n\u001b[1;32m      4\u001b[0m \u001b[0;32mdef\u001b[0m \u001b[0mdelta_tau\u001b[0m\u001b[0;34m(\u001b[0m\u001b[0mu\u001b[0m\u001b[0;34m,\u001b[0m \u001b[0mB\u001b[0m\u001b[0;34m,\u001b[0m \u001b[0mS2\u001b[0m\u001b[0;34m,\u001b[0m \u001b[0mdS2\u001b[0m\u001b[0;34m,\u001b[0m \u001b[0mz\u001b[0m\u001b[0;34m,\u001b[0m \u001b[0mbeta\u001b[0m\u001b[0;34m,\u001b[0m \u001b[0mtheta_prior\u001b[0m\u001b[0;34m,\u001b[0m \u001b[0mbetaBt\u001b[0m\u001b[0;34m)\u001b[0m\u001b[0;34m:\u001b[0m\u001b[0;34m\u001b[0m\u001b[0;34m\u001b[0m\u001b[0m\n\u001b[1;32m      5\u001b[0m     \u001b[0mp\u001b[0m \u001b[0;34m=\u001b[0m \u001b[0mB\u001b[0m\u001b[0;34m.\u001b[0m\u001b[0mshape\u001b[0m\u001b[0;34m[\u001b[0m\u001b[0;36m1\u001b[0m\u001b[0;34m]\u001b[0m\u001b[0;34m\u001b[0m\u001b[0;34m\u001b[0m\u001b[0m\n",
      "\u001b[0;31mKeyboardInterrupt\u001b[0m: "
     ]
    }
   ],
   "source": [
    "rand.seed(248367852945)\n",
    "r0 = np.repeat(None, M)\n",
    "theta_tilde = np.repeat(None, M)\n",
    "r_tilde = np.repeat(None, M)\n",
    "log_dens =  np.repeat(None, M)\n",
    "alpha = np.repeat(None, M)\n",
    "theta_m_1 = np.repeat(None, M)\n",
    "r_m = np.repeat(None, M)\n",
    "theta_m_1[0] = np.append(np.zeros(10), np.random.rand(1,))\n",
    "\n",
    "acc = []\n",
    "# loop over number of samples that we want to produce\n",
    "theta_tilde[0] = np.zeros(11)\n",
    "r_tilde[0] = np.zeros(11)\n",
    "theta_m_1[1] = np.zeros(11)\n",
    "all_thetas = []\n",
    "theta_m_1[0] = np.zeros(11)\n",
    "r_m[0] = np.random.multivariate_normal(np.zeros(q), np.identity(q), 1)\n",
    "r_m[1] = np.random.multivariate_normal(np.zeros(q), np.identity(q), 1)\n",
    "\n",
    "for m in tqdm(range(1, M - 1)):\n",
    "    \n",
    "    # Update S\n",
    "    # draw momentum from normal distribution\n",
    "    r0[m] = np.random.multivariate_normal(np.zeros(q), np.identity(q), 1)\n",
    "    \n",
    "    # set new parameters\n",
    "    theta_tilde[m] = theta_m_1[m].reshape(11,) # current q\n",
    "    r_tilde[m] = r0[m]\n",
    "    betaBt = theta_tilde[m][0:p].dot(B_zeta.T)\n",
    "    \n",
    "    # generate proposal through L leapfrog updates \n",
    "    for i in range(0,L):\n",
    "        theta_tilde[m], r_tilde[m] = Leapfrog(theta_tilde[m], r_tilde[m], epsilon, n, z, p, B_zeta, tBB, betaBt, beta, W, theta_prior)\n",
    "    \n",
    "    S2, dS2, ddS2, S = compdS(np.exp(theta_tilde[m][p]), W)\n",
    "    betaBt = theta_tilde[m][0:p].dot(B_zeta.T)\n",
    "    \n",
    "    # rtilde = proposed p\n",
    "    # theta_tilde[m] = proposed u \n",
    "    # theta_m_1[m] = current u\n",
    "    # theta_m_1[m] = current u\n",
    "    # probability that proposal is accepted\n",
    "    # current U\n",
    "    log_dens[m] = log_density(z, theta_tilde[m][p],  theta_tilde[m][0:p], B_zeta, p,  n, S, S2, tBB, theta_prior, betaBt)\n",
    "    proposed_u = log_density(z, theta_m_1[m][p],  theta_m_1[m][0:p], B_zeta, p,  n, S, S2, tBB, theta_prior, betaBt)\n",
    "    current_K = r_tilde[m].dot(r_tilde[m].T)*0.5\n",
    "    proposed_K = r_m[m].dot(r_m[m].T)*0.5\n",
    "    p_accept = log_dens[m] -  proposed_u + current_K - proposed_K\n",
    "    #decision = np.exp(log_dens[m] - r_tilde[m].dot(r_tilde[m].T)*1/2*(log_dens[m] - r0[m].dot(r0[m].T)*1/2))\n",
    "    alpha[m] = np.exp(min([np.log(1), p_accept]))\n",
    "    \n",
    "    #decision = np.random.uniform(0,1,1)\n",
    "    if np.random.randn() <= alpha[m]:\n",
    "        theta_m_1[m + 1] = theta_tilde[m]\n",
    "        r_m[m + 1] = - r_tilde[m]\n",
    "        acc.append(1)\n",
    "        all_thetas.append(np.array(theta_m_1[m + 1]))\n",
    "    else:\n",
    "        theta_m_1[m + 1] = theta_tilde[m - 1]\n",
    "        r_m[m + 1] = - r_tilde[m - 1]\n",
    "        acc.append(0)\n",
    "        all_thetas.append(np.array(theta_m_1[m + 1]))\n",
    "    if ((m % 1000 == 0) & (m > 1)):\n",
    "        print(np.mean(acc[(m - 500):]))\n",
    "        \n",
    "    #if m < tune:\n",
    "    #    epsilon, _ = step_size_tuning.update(alpha[m])\n",
    "    #    print(epsilon)\n",
    "    #elif m == tune:\n",
    "    #    _, epsilon = step_size_tuning.update(alpha[m])\n",
    "    "
   ]
  },
  {
   "cell_type": "code",
   "execution_count": 8,
   "metadata": {},
   "outputs": [
    {
     "data": {
      "text/plain": [
       "0.6358543417366946"
      ]
     },
     "execution_count": 8,
     "metadata": {},
     "output_type": "execute_result"
    }
   ],
   "source": [
    "np.mean(acc)"
   ]
  },
  {
   "cell_type": "code",
   "execution_count": null,
   "metadata": {},
   "outputs": [],
   "source": [
    "np.array(0.05)"
   ]
  },
  {
   "cell_type": "code",
   "execution_count": null,
   "metadata": {},
   "outputs": [],
   "source": [
    "np.save('../../../../../data/commaai/mcmc/filtered_gaussian_resampled/Ridge/all_thetas_try.npy', all_thetas)"
   ]
  },
  {
   "cell_type": "code",
   "execution_count": null,
   "metadata": {},
   "outputs": [],
   "source": [
    "all_thetas = np.load('../../../../../data/commaai/mcmc/filtered_gaussian_resampled/Ridge/all_thetas_try.npy')"
   ]
  },
  {
   "cell_type": "code",
   "execution_count": 9,
   "metadata": {},
   "outputs": [
    {
     "data": {
      "text/plain": [
       "[<matplotlib.lines.Line2D at 0x7f45a464db80>,\n",
       " <matplotlib.lines.Line2D at 0x7f45a464dc70>,\n",
       " <matplotlib.lines.Line2D at 0x7f45a464dd30>,\n",
       " <matplotlib.lines.Line2D at 0x7f45a464ddf0>,\n",
       " <matplotlib.lines.Line2D at 0x7f45a464deb0>,\n",
       " <matplotlib.lines.Line2D at 0x7f45a464df70>,\n",
       " <matplotlib.lines.Line2D at 0x7f45a45db070>,\n",
       " <matplotlib.lines.Line2D at 0x7f45a45db130>,\n",
       " <matplotlib.lines.Line2D at 0x7f45a45db1f0>,\n",
       " <matplotlib.lines.Line2D at 0x7f45a45db2b0>,\n",
       " <matplotlib.lines.Line2D at 0x7f45a48e7d90>]"
      ]
     },
     "execution_count": 9,
     "metadata": {},
     "output_type": "execute_result"
    },
    {
     "data": {
      "image/png": "[encoded data removed]",
      "text/plain": [
       "<Figure size 432x288 with 1 Axes>"
      ]
     },
     "metadata": {
      "needs_background": "light"
     },
     "output_type": "display_data"
    }
   ],
   "source": [
    "import matplotlib.pyplot as plt\n",
    "plt.plot(all_thetas)"
   ]
  },
  {
   "cell_type": "code",
   "execution_count": 10,
   "metadata": {},
   "outputs": [],
   "source": [
    "df = np.array(all_thetas)"
   ]
  },
  {
   "cell_type": "code",
   "execution_count": 24,
   "metadata": {},
   "outputs": [
    {
     "data": {
      "text/plain": [
       "(-6.0, -4.0)"
      ]
     },
     "execution_count": 24,
     "metadata": {},
     "output_type": "execute_result"
    },
    {
     "data": {
      "image/png": "[encoded data removed]",
      "text/plain": [
       "<Figure size 432x288 with 1 Axes>"
      ]
     },
     "metadata": {
      "needs_background": "light"
     },
     "output_type": "display_data"
    }
   ],
   "source": [
    "plt.plot(df[:,10])\n",
    "plt.ylim(-6,-4)"
   ]
  },
  {
   "cell_type": "code",
   "execution_count": null,
   "metadata": {},
   "outputs": [],
   "source": [
    "sd = []\n",
    "for i in range(0,df.shape[1]):\n",
    "    sd.append(np.std(df[3000:,i]))"
   ]
  },
  {
   "cell_type": "code",
   "execution_count": null,
   "metadata": {},
   "outputs": [],
   "source": [
    "mu = []\n",
    "for i in range(0,df.shape[1]):\n",
    "    mu.append(np.mean(df[3000:,i]))"
   ]
  },
  {
   "cell_type": "code",
   "execution_count": null,
   "metadata": {},
   "outputs": [],
   "source": [
    "var = np.genfromtxt('../../../../../data/commaai/va/filtered_gaussian_resampled/Ridge/Var.csv', delimiter = ',')"
   ]
  },
  {
   "cell_type": "code",
   "execution_count": null,
   "metadata": {},
   "outputs": [],
   "source": [
    "sd_va = np.sqrt(np.diag(var))"
   ]
  },
  {
   "cell_type": "code",
   "execution_count": null,
   "metadata": {},
   "outputs": [],
   "source": [
    "plt.scatter(sd_va, sd) #, col = ['b','b','b','b','b','b','b','b','b','b','r']\n",
    "plt.xlabel('va')\n",
    "plt.ylabel('mcmc')\n",
    "x=np.linspace(0,0.05,1000) \n",
    "plt.plot(x,x,'k-') "
   ]
  },
  {
   "cell_type": "code",
   "execution_count": null,
   "metadata": {},
   "outputs": [],
   "source": [
    "mu_va = np.genfromtxt('../../../../../data/commaai/va/filtered_gaussian_resampled/Ridge/mu_t_va.csv', delimiter = ',')"
   ]
  },
  {
   "cell_type": "code",
   "execution_count": null,
   "metadata": {},
   "outputs": [],
   "source": [
    "mu_va_mean = np.mean(mu_va[30000:,:], axis = 0)"
   ]
  },
  {
   "cell_type": "code",
   "execution_count": null,
   "metadata": {},
   "outputs": [],
   "source": [
    "plt.scatter(mu_va_mean[0:10], np.array(mu[0:10])) #, col = ['b','b','b','b','b','b','b','b','b','b','r']\n",
    "plt.xlabel('va')\n",
    "plt.ylabel('mcmc')\n",
    "x=np.linspace(0,0.05,1000) \n",
    "plt.plot(x,x,'k-') "
   ]
  },
  {
   "cell_type": "code",
   "execution_count": null,
   "metadata": {},
   "outputs": [],
   "source": [
    "import matplotlib.pyplot as plt\n",
    "#axes = plt.gca()\n",
    "#axes.plot(all_thetas)\n",
    "plt.acorr(df[20000:,0])\n",
    "#axes.set_ylim(-0.5, 0)"
   ]
  },
  {
   "cell_type": "code",
   "execution_count": null,
   "metadata": {},
   "outputs": [],
   "source": [
    "theta_hmc = np.mean(all_thetas, axis = 0)\n",
    "np.save('../../../../../data/commaai/mcmc/filtered_gaussian_resampled/Ridge/all_thetas2.npy', all_thetas)"
   ]
  },
  {
   "cell_type": "code",
   "execution_count": null,
   "metadata": {},
   "outputs": [],
   "source": [
    "# comparison with VA"
   ]
  },
  {
   "cell_type": "code",
   "execution_count": null,
   "metadata": {},
   "outputs": [],
   "source": [
    "vartheta_va = np.load('../../../../../data/commaai/va/filtered_gaussian_resampled/Ridge/vartheta.npy')#np.genfromtxt('../../../data/commaai/va/filtered_gaussian_resampled/Ridge/vartheta.csv', delimiter=\",\")"
   ]
  },
  {
   "cell_type": "code",
   "execution_count": null,
   "metadata": {},
   "outputs": [],
   "source": [
    "theta_va = np.mean(vartheta_va[int(0.9*50000):50000, :], axis = 0)"
   ]
  },
  {
   "cell_type": "code",
   "execution_count": null,
   "metadata": {},
   "outputs": [],
   "source": [
    "0.9*50000"
   ]
  },
  {
   "cell_type": "code",
   "execution_count": null,
   "metadata": {},
   "outputs": [],
   "source": [
    "plt.scatter(theta_hmc[0:10], theta_va[0:10])\n",
    "ident = [-1, 1.0]\n",
    "plt.plot(ident,ident)"
   ]
  },
  {
   "cell_type": "code",
   "execution_count": null,
   "metadata": {},
   "outputs": [],
   "source": [
    "beta_va = theta_hmc[0:10]"
   ]
  },
  {
   "cell_type": "code",
   "execution_count": null,
   "metadata": {},
   "outputs": [],
   "source": [
    "beta_va.shape"
   ]
  },
  {
   "cell_type": "code",
   "execution_count": null,
   "metadata": {},
   "outputs": [],
   "source": []
  }
 ],
 "metadata": {
  "kernelspec": {
   "display_name": "Python 3",
   "language": "python",
   "name": "python3"
  },
  "language_info": {
   "codemirror_mode": {
    "name": "ipython",
    "version": 3
   },
   "file_extension": ".py",
   "mimetype": "text/x-python",
   "name": "python",
   "nbconvert_exporter": "python",
   "pygments_lexer": "ipython3",
   "version": "3.8.5"
  }
 },
 "nbformat": 4,
 "nbformat_minor": 4
}
