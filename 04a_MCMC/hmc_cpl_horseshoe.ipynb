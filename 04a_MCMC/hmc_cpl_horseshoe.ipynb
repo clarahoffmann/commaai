{
 "cells": [
  {
   "cell_type": "markdown",
   "metadata": {},
   "source": [
    "## Hamiltonian Monte-Carlo for the Precise Learner and Horseshoe Prior\n",
    "\n",
    "Author: Clara Hoffmann \\\n",
    "HMC (see f.e. 'MCMC using Hamiltonian dynamics' by Neal, 2011) to obtain the posterior\n",
    "of the coefficients of the last hidden layer and the copula parameters\n",
    "\n",
    "Overview:\n",
    "1. Initialize Variables\n",
    "2. Run HMC chain\n",
    "\n",
    "Note that the CIL versions for HMC are especially time-consuming. Derivatives based on Klein, Nott \\& Smith 'Marginally Calibrated Deep Distributional Regression' (2020)."
   ]
  },
  {
   "cell_type": "code",
   "execution_count": 1,
   "metadata": {},
   "outputs": [
    {
     "name": "stderr",
     "output_type": "stream",
     "text": [
      "2021-08-11 12:23:40,252\tINFO services.py:1172 -- View the Ray dashboard at \u001b[1m\u001b[32mhttp://127.0.0.1:8266\u001b[39m\u001b[22m\n"
     ]
    },
    {
     "data": {
      "text/plain": [
       "{'node_ip_address': '192.168.140.16',\n",
       " 'raylet_ip_address': '192.168.140.16',\n",
       " 'redis_address': '192.168.140.16:24209',\n",
       " 'object_store_address': '/tmp/ray/session_2021-08-11_12-23-39_592428_161306/sockets/plasma_store',\n",
       " 'raylet_socket_name': '/tmp/ray/session_2021-08-11_12-23-39_592428_161306/sockets/raylet',\n",
       " 'webui_url': '127.0.0.1:8266',\n",
       " 'session_dir': '/tmp/ray/session_2021-08-11_12-23-39_592428_161306',\n",
       " 'metrics_export_port': 53981,\n",
       " 'node_id': '5330b328e1dd82eeb5e9c2c2469c1f9fddf5328060ef97ad41d886c3'}"
      ]
     },
     "execution_count": 1,
     "metadata": {},
     "output_type": "execute_result"
    }
   ],
   "source": [
    "import numpy as np\n",
    "from random import random\n",
    "from tqdm import tqdm\n",
    "import ray\n",
    "import matplotlib.pyplot as plt\n",
    "from helpers_horseshoe import generate_S2_S, log_density, Leapfrog, Delta_theta\n",
    "import time\n",
    "ray.init()"
   ]
  },
  {
   "cell_type": "markdown",
   "metadata": {},
   "source": [
    "## 1. Initialize Variables"
   ]
  },
  {
   "cell_type": "code",
   "execution_count": 2,
   "metadata": {},
   "outputs": [],
   "source": [
    "# import data from DNN training\n",
    "extracted_coefficients_directory = '../../data/commaai/extracted_coefficients/copula_cpl/'\n",
    "B_zeta_path = str(extracted_coefficients_directory + 'Bzeta/B_zeta.npy')\n",
    "beta_path = str(extracted_coefficients_directory + 'beta/beta.csv')\n",
    "z_path = str(extracted_coefficients_directory + 'Bzeta/tr_labels.npy')\n",
    "beta = np.genfromtxt(beta_path, delimiter=',')\n",
    "B_zeta = np.load(B_zeta_path)\n",
    "B_zeta = B_zeta.reshape(B_zeta.shape[0], beta.shape[0])\n",
    "z = np.load(z_path)\n",
    "tBB = B_zeta.T.dot(B_zeta)"
   ]
  },
  {
   "cell_type": "code",
   "execution_count": 3,
   "metadata": {},
   "outputs": [],
   "source": [
    "beta = np.repeat(0,10)\n",
    "# number of samples we want to produce\n",
    "M = 25000 + 2\n",
    "L = 77\n",
    "\n",
    "# number of parameters of theta\n",
    "q = 2*B_zeta.shape[1] + 1\n",
    "p = B_zeta.shape[1]\n",
    "\n",
    "n = B_zeta.shape[0]\n",
    "\n",
    "# start values for beta, lambda, tau\n",
    "# beta is taken from trained network and other two\n",
    "# are initialized randomly\n",
    "theta_m_1 = np.zeros(q)\n",
    "\n",
    "# stepsize\n",
    "epsilon = 0.00007\n",
    "\n",
    "r_m = np.append(np.zeros(p), np.append(np.repeat(-6,p), 0))\n",
    "\n",
    "tau_start = theta_m_1[q-1]"
   ]
  },
  {
   "cell_type": "code",
   "execution_count": 4,
   "metadata": {},
   "outputs": [],
   "source": [
    "Lambda = np.repeat(1,p)\n",
    "BoB = B_zeta**2"
   ]
  },
  {
   "cell_type": "markdown",
   "metadata": {},
   "source": [
    "## 2. Run Chain"
   ]
  },
  {
   "cell_type": "code",
   "execution_count": null,
   "metadata": {},
   "outputs": [
    {
     "name": "stderr",
     "output_type": "stream",
     "text": [
      "  4%|▍         | 1000/25001 [2:13:00<52:23:29,  7.86s/it]"
     ]
    },
    {
     "name": "stdout",
     "output_type": "stream",
     "text": [
      "acceptance rate over last 1000 iterations: 0.55\n"
     ]
    },
    {
     "name": "stderr",
     "output_type": "stream",
     "text": [
      "  8%|▊         | 2000/25001 [4:25:59<52:26:52,  8.21s/it]"
     ]
    },
    {
     "name": "stdout",
     "output_type": "stream",
     "text": [
      "acceptance rate over last 1000 iterations: 0.68\n"
     ]
    },
    {
     "name": "stderr",
     "output_type": "stream",
     "text": [
      " 12%|█▏        | 3000/25001 [6:36:46<48:07:13,  7.87s/it]"
     ]
    },
    {
     "name": "stdout",
     "output_type": "stream",
     "text": [
      "acceptance rate over last 1000 iterations: 0.57\n"
     ]
    },
    {
     "name": "stderr",
     "output_type": "stream",
     "text": [
      " 16%|█▌        | 4000/25001 [8:48:47<43:58:15,  7.54s/it]"
     ]
    },
    {
     "name": "stdout",
     "output_type": "stream",
     "text": [
      "acceptance rate over last 1000 iterations: 0.71\n"
     ]
    },
    {
     "name": "stderr",
     "output_type": "stream",
     "text": [
      " 20%|█▉        | 5000/25001 [11:02:49<44:04:43,  7.93s/it]"
     ]
    },
    {
     "name": "stdout",
     "output_type": "stream",
     "text": [
      "acceptance rate over last 1000 iterations: 0.61\n"
     ]
    },
    {
     "name": "stderr",
     "output_type": "stream",
     "text": [
      " 23%|██▎       | 5741/25001 [12:39:30<40:36:31,  7.59s/it]IOPub message rate exceeded.\n",
      "The notebook server will temporarily stop sending output\n",
      "to the client in order to avoid crashing it.\n",
      "To change this limit, set the config variable\n",
      "`--NotebookApp.iopub_msg_rate_limit`.\n",
      "\n",
      "Current values:\n",
      "NotebookApp.iopub_msg_rate_limit=1000.0 (msgs/sec)\n",
      "NotebookApp.rate_limit_window=3.0 (secs)\n",
      "\n",
      " 28%|██▊       | 7000/25001 [15:18:10<37:45:48,  7.55s/it]"
     ]
    },
    {
     "name": "stdout",
     "output_type": "stream",
     "text": [
      "acceptance rate over last 1000 iterations: 0.68\n"
     ]
    },
    {
     "name": "stderr",
     "output_type": "stream",
     "text": [
      " 32%|███▏      | 8000/25001 [17:39:18<46:28:34,  9.84s/it]"
     ]
    },
    {
     "name": "stdout",
     "output_type": "stream",
     "text": [
      "acceptance rate over last 1000 iterations: 0.56\n"
     ]
    },
    {
     "name": "stderr",
     "output_type": "stream",
     "text": [
      " 36%|███▌      | 9000/25001 [20:14:09<42:15:51,  9.51s/it]"
     ]
    },
    {
     "name": "stdout",
     "output_type": "stream",
     "text": [
      "acceptance rate over last 1000 iterations: 0.73\n"
     ]
    },
    {
     "name": "stderr",
     "output_type": "stream",
     "text": [
      " 40%|███▉      | 10000/25001 [22:17:32<30:38:17,  7.35s/it]"
     ]
    },
    {
     "name": "stdout",
     "output_type": "stream",
     "text": [
      "acceptance rate over last 1000 iterations: 0.67\n"
     ]
    },
    {
     "name": "stderr",
     "output_type": "stream",
     "text": [
      " 41%|████      | 10205/25001 [22:42:24<29:47:08,  7.25s/it]IOPub message rate exceeded.\n",
      "The notebook server will temporarily stop sending output\n",
      "to the client in order to avoid crashing it.\n",
      "To change this limit, set the config variable\n",
      "`--NotebookApp.iopub_msg_rate_limit`.\n",
      "\n",
      "Current values:\n",
      "NotebookApp.iopub_msg_rate_limit=1000.0 (msgs/sec)\n",
      "NotebookApp.rate_limit_window=3.0 (secs)\n",
      "\n",
      " 42%|████▏     | 10539/25001 [23:22:38<27:34:18,  6.86s/it]"
     ]
    }
   ],
   "source": [
    "start = time.time()\n",
    "seed = 6835963\n",
    "r0 = np.repeat(None, 30000)\n",
    "theta_tilde = np.repeat(None, 30000)\n",
    "r_tilde = np.repeat(None, 30000)\n",
    "log_dens = np.repeat(None, 30000)\n",
    "r_tilde = np.repeat(None, M)\n",
    "log_dens =  np.repeat(None, 30000)\n",
    "alpha = np.repeat(None, 30000)\n",
    "theta_m_1 = np.repeat(None, M)\n",
    "r_m = np.repeat(None, M)\n",
    "theta_m_1[0] = np.append(np.zeros(p), np.append(np.repeat(0,p), 0))\n",
    "\n",
    "acc = []\n",
    "# loop over number of samples that we want to produce\n",
    "theta_tilde[0] = np.zeros(21)\n",
    "r_tilde[0] = np.zeros(21)\n",
    "theta_m_1[1] =  np.append(np.zeros(p), np.append(np.repeat(0,p), 0))\n",
    "all_thetas = []\n",
    "theta_m_1[0] = np.append(np.zeros(p), np.append(np.repeat(0,p), 0))\n",
    "r_m[0] = np.random.multivariate_normal(np.zeros(q), np.identity(q), 1)\n",
    "r_m[1] = np.random.multivariate_normal(np.zeros(q), np.identity(q), 1)\n",
    "for m in tqdm(range(1, M)):\n",
    "    \n",
    "    # Update S\n",
    "    # draw momentum from normal distribution\n",
    "    r0[m] = np.random.multivariate_normal(np.zeros(q), np.identity(q), 1)\n",
    "    \n",
    "    # set new parameters\n",
    "    theta_tilde[m] = np.array(theta_m_1[m]).reshape(q,)\n",
    "    r_tilde[m] = r0[m]\n",
    "    betaBt = theta_tilde[m][0:p].dot(B_zeta.T)\n",
    "    \n",
    "    # compute gradient with theta\n",
    "    Delta_theta_t = Delta_theta(theta_tilde[m], B_zeta, n, z, p, tBB, betaBt, BoB)\n",
    "\n",
    "    # update momentum\n",
    "    r_tilde[m] = r_tilde[m] + (epsilon*0.5)*Delta_theta_t\n",
    "    \n",
    "    # generate proposal through L leapfrog updates \n",
    "    for i in range(0,L):\n",
    "        betaBt = theta_tilde[m][0:p].dot(B_zeta.T)\n",
    "        theta_tilde[m], r_tilde[m] = Leapfrog(theta_tilde[m], \n",
    "                                              r_tilde[m], \n",
    "                                              epsilon, n, z, p, \n",
    "                                              B_zeta, tBB, \n",
    "                                              betaBt, i, L, B_zeta, BoB)\n",
    "        \n",
    "    # compute gradient with theta\n",
    "    betaBt = theta_tilde[m][0:p].dot(B_zeta.T)\n",
    "    Delta_theta_t = Delta_theta(theta_tilde[m], B_zeta, n, z, p, tBB, betaBt, BoB)\n",
    "\n",
    "    # update momentum\n",
    "    r_tilde[m] = r_tilde[m] + (epsilon*0.5)*Delta_theta_t\n",
    "    \n",
    "    S2, S =  generate_S2_S(np.exp(0.5*theta_tilde[m][p:2*p]), BoB)\n",
    "    betaBt = theta_tilde[m][0:p].dot(B_zeta.T)\n",
    "    \n",
    "    # probability that proposal is accepted\n",
    "    theta_m_1[m] = np.array(theta_m_1[m])\n",
    "    log_dens[m] = log_density(S, B_zeta, theta_tilde[m][0:p], np.exp(0.5*theta_tilde[m][p:2*p]), theta_tilde[m][p], z, p)\n",
    "    proposed_u = log_density(S, B_zeta, theta_m_1[m][0:p], np.exp(0.5*theta_m_1[m][p:2*p]), theta_m_1[m][p], z, p)\n",
    "    current_K = r_tilde[m].dot(r_tilde[m].T)*0.5\n",
    "    proposed_K = r_m[m].dot(r_m[m].T)*0.5\n",
    "    p_accept = log_dens[m] -  proposed_u + current_K - proposed_K\n",
    "    alpha[m] = np.exp(min([np.log(1), p_accept]))\n",
    "    \n",
    "    # accept/reject\n",
    "    if np.random.randn() <= alpha[m]:\n",
    "        theta_m_1[m + 1] = theta_tilde[m]\n",
    "        r_m[m + 1] = - r_tilde[m]\n",
    "        acc.append(1)\n",
    "        all_thetas.append(np.array(theta_m_1[m + 1]))\n",
    "    else:\n",
    "        theta_m_1[m + 1] = theta_tilde[m - 1]\n",
    "        r_m[m + 1] = - r_tilde[m - 1]\n",
    "        acc.append(0)\n",
    "        all_thetas.append(np.array(theta_m_1[m + 1]))\n",
    "    if (m % 1000 == 0) & (m > 1): \n",
    "        print('acceptance rate over last 1000 iterations: ' + str(np.mean(acc[-100:])))\n",
    "end = time.time()\n",
    "print(end - start)"
   ]
  },
  {
   "cell_type": "code",
   "execution_count": 6,
   "metadata": {},
   "outputs": [
    {
     "data": {
      "text/plain": [
       "[<matplotlib.lines.Line2D at 0x7f683c383880>,\n",
       " <matplotlib.lines.Line2D at 0x7f683c383970>,\n",
       " <matplotlib.lines.Line2D at 0x7f683c383a30>,\n",
       " <matplotlib.lines.Line2D at 0x7f683c383af0>,\n",
       " <matplotlib.lines.Line2D at 0x7f683c383bb0>,\n",
       " <matplotlib.lines.Line2D at 0x7f683c383c70>,\n",
       " <matplotlib.lines.Line2D at 0x7f683c383d30>,\n",
       " <matplotlib.lines.Line2D at 0x7f683c383df0>,\n",
       " <matplotlib.lines.Line2D at 0x7f683c383eb0>,\n",
       " <matplotlib.lines.Line2D at 0x7f683c383f70>,\n",
       " <matplotlib.lines.Line2D at 0x7f68803ec670>,\n",
       " <matplotlib.lines.Line2D at 0x7f683c391100>,\n",
       " <matplotlib.lines.Line2D at 0x7f683c3911c0>,\n",
       " <matplotlib.lines.Line2D at 0x7f683c391280>,\n",
       " <matplotlib.lines.Line2D at 0x7f683c391340>,\n",
       " <matplotlib.lines.Line2D at 0x7f683c391400>,\n",
       " <matplotlib.lines.Line2D at 0x7f683c3914c0>,\n",
       " <matplotlib.lines.Line2D at 0x7f683c391580>,\n",
       " <matplotlib.lines.Line2D at 0x7f683c391640>,\n",
       " <matplotlib.lines.Line2D at 0x7f683c391700>,\n",
       " <matplotlib.lines.Line2D at 0x7f683c3917c0>]"
      ]
     },
     "execution_count": 6,
     "metadata": {},
     "output_type": "execute_result"
    },
    {
     "data": {
      "image/png": "[encoded data removed]",
      "text/plain": [
       "<Figure size 432x288 with 1 Axes>"
      ]
     },
     "metadata": {
      "needs_background": "light"
     },
     "output_type": "display_data"
    }
   ],
   "source": [
    "plt.plot(all_thetas)"
   ]
  },
  {
   "cell_type": "code",
   "execution_count": null,
   "metadata": {},
   "outputs": [],
   "source": [
    "np.save('../../../../data/commaai/mcmc/filtered_gaussian_resampled/Horseshoe/all_thetas_new.npy', np.array(all_thetas))"
   ]
  },
  {
   "cell_type": "code",
   "execution_count": null,
   "metadata": {},
   "outputs": [],
   "source": []
  }
 ],
 "metadata": {
  "kernelspec": {
   "display_name": "Python 3",
   "language": "python",
   "name": "python3"
  },
  "language_info": {
   "codemirror_mode": {
    "name": "ipython",
    "version": 3
   },
   "file_extension": ".py",
   "mimetype": "text/x-python",
   "name": "python",
   "nbconvert_exporter": "python",
   "pygments_lexer": "ipython3",
   "version": "3.8.10"
  }
 },
 "nbformat": 4,
 "nbformat_minor": 4
}
