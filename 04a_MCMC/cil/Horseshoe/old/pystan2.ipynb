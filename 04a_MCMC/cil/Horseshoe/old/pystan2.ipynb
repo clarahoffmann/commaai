{
 "cells": [
  {
   "cell_type": "code",
   "execution_count": 1,
   "metadata": {},
   "outputs": [],
   "source": [
    "import numpy as np\n",
    "import pystan\n",
    "import arviz\n",
    "import matplotlib.pyplot as plt"
   ]
  },
  {
   "cell_type": "code",
   "execution_count": 2,
   "metadata": {},
   "outputs": [],
   "source": [
    "extracted_coefficients_directory = '../../../../data/commaai/extracted_coefficients/20201021_unrestr_gaussian_resampled/'\n",
    "B_zeta_path = str(extracted_coefficients_directory + 'Bzeta/B_zeta.npy')\n",
    "beta_path = str(extracted_coefficients_directory + 'beta/beta.csv')\n",
    "z_path = str(extracted_coefficients_directory + 'Bzeta/tr_labels.npy')\n",
    "beta = np.genfromtxt(beta_path, delimiter=',')\n",
    "B_zeta = np.load(B_zeta_path)\n",
    "B_zeta = B_zeta.reshape(B_zeta.shape[0], beta.shape[0])\n",
    "z = np.load(z_path)\n",
    "tBB = B_zeta.T.dot(B_zeta)\n",
    "n = B_zeta.shape[0]\n",
    "p = B_zeta.shape[1]\n",
    "X = B_zeta"
   ]
  },
  {
   "cell_type": "code",
   "execution_count": null,
   "metadata": {},
   "outputs": [],
   "source": [
    "hmc_code = '''\n",
    "\n",
    "\n",
    "functions {\n",
    "    vector S_xtheta(vector lambda, matrix X, int p, int n) {\n",
    "        vector[n] s_is;\n",
    "        for (N in 1:n) {\n",
    "          s_is[N] = 1/sqrt(1 + sum((row(X, N).*square(to_row_vector(lambda))).*(row(X, N)))); \n",
    "        } \n",
    "        return(s_is);\n",
    "    }\n",
    "    }\n",
    "data {\n",
    "  int<lower=1> n; // Number of data\n",
    "  int<lower=1> p; // Number of covariates\n",
    "  matrix[n,p] X;  // n-by-p design matrix\n",
    "  real y[n];      // n-dimensional response vector\n",
    "}\n",
    "\n",
    "\n",
    "parameters {\n",
    "  vector[p] beta;\n",
    "  vector<lower=0>[p] lambda;\n",
    "  real<lower=0> tau;\n",
    "}\n",
    "\n",
    "transformed parameters {\n",
    "  vector[n] theta ;\n",
    "  vector[n] S ;\n",
    "  vector[n] Var ;\n",
    "  S = S_xtheta(lambda, X, p, n);\n",
    "  theta = S .* (X * beta);\n",
    "  Var = square(S);\n",
    "}\n",
    "\n",
    "model {\n",
    "  tau ~ cauchy(0, 1);\n",
    "  lambda ~ cauchy(0, tau);\n",
    "  beta ~ normal(0, square(lambda)); \n",
    "  y ~ normal(theta, Var);\n",
    "}'''"
   ]
  },
  {
   "cell_type": "code",
   "execution_count": null,
   "metadata": {},
   "outputs": [],
   "source": [
    "hmc_dat = {'n': n,\n",
    "           'p': p,\n",
    "           'X': X,\n",
    "           'y': z}"
   ]
  },
  {
   "cell_type": "code",
   "execution_count": null,
   "metadata": {},
   "outputs": [],
   "source": [
    "sm = pystan.StanModel(model_code = hmc_code, verbose = True)\n",
    "print('finished compiling')\n",
    "print('start sampling')\n",
    "fit = sm.sampling(data = hmc_dat,\n",
    "                  iter = 2000, \n",
    "                  chains = 1, \n",
    "                  verbose = True)\n",
    "print('finished sampling')"
   ]
  },
  {
   "cell_type": "code",
   "execution_count": null,
   "metadata": {},
   "outputs": [],
   "source": [
    "#la = fit.extract(permuted=True) \n",
    "la = fit.extract(permuted=True)"
   ]
  },
  {
   "cell_type": "code",
   "execution_count": null,
   "metadata": {},
   "outputs": [],
   "source": [
    "plt.plot(la['lambda'])"
   ]
  },
  {
   "cell_type": "code",
   "execution_count": null,
   "metadata": {},
   "outputs": [],
   "source": [
    "try:\n",
    "    import cPickle as pickle\n",
    "except ImportError:  # Python 3.x\n",
    "    import pickle\n",
    "\n",
    "with open('horseshoe_hmc_unf_1000.p', 'wb') as fp:\n",
    "    pickle.dump(la, fp, protocol=pickle.HIGHEST_PROTOCOL)"
   ]
  },
  {
   "cell_type": "code",
   "execution_count": null,
   "metadata": {},
   "outputs": [],
   "source": [
    "la['lambda'].shape"
   ]
  },
  {
   "cell_type": "code",
   "execution_count": null,
   "metadata": {},
   "outputs": [],
   "source": [
    "for i in range(0, la['lambda'].shape[1] - 1):\n",
    "    plt.plot(la['lambda'][:,i])"
   ]
  },
  {
   "cell_type": "code",
   "execution_count": null,
   "metadata": {},
   "outputs": [],
   "source": [
    "la['lambda'].shape"
   ]
  },
  {
   "cell_type": "code",
   "execution_count": null,
   "metadata": {},
   "outputs": [],
   "source": [
    "fit.plot()"
   ]
  },
  {
   "cell_type": "code",
   "execution_count": null,
   "metadata": {},
   "outputs": [],
   "source": [
    "arviz.plot_trace(fit)"
   ]
  },
  {
   "cell_type": "code",
   "execution_count": null,
   "metadata": {},
   "outputs": [],
   "source": [
    "betas = np.mean(la['beta'], axis = 0)\n",
    "betas_sd = np.std(la['beta'], axis = 0)"
   ]
  },
  {
   "cell_type": "code",
   "execution_count": null,
   "metadata": {},
   "outputs": [],
   "source": [
    "tau = np.mean(la['tau'], axis = 0)\n",
    "tau_sd = np.std(np.log(la['tau']), axis = 0)"
   ]
  },
  {
   "cell_type": "code",
   "execution_count": null,
   "metadata": {},
   "outputs": [],
   "source": [
    "lambdas = np.mean(la['lambda'], axis = 0)\n",
    "lambdas_sd = np.std(np.log(la['lambda']**2), axis = 0)"
   ]
  },
  {
   "cell_type": "code",
   "execution_count": null,
   "metadata": {},
   "outputs": [],
   "source": [
    "mu_ts = np.load('../../../../data/commaai/va/filtered_gaussian_resampled/Horseshoe/mu_ts.npy')"
   ]
  },
  {
   "cell_type": "code",
   "execution_count": null,
   "metadata": {},
   "outputs": [],
   "source": [
    "B_ts = np.load('../../../../data/commaai/va/filtered_gaussian_resampled/Horseshoe/B_ts.npy')\n",
    "d_ts = np.load('../../../../data/commaai/va/filtered_gaussian_resampled/Horseshoe/d_ts.npy')"
   ]
  },
  {
   "cell_type": "code",
   "execution_count": null,
   "metadata": {},
   "outputs": [],
   "source": [
    "B_ts = np.mean(B_ts.reshape(29001, 21, 19)[20000:,:,:], axis = 0)\n",
    "d_ts = np.mean(d_ts.reshape(29001, 21)[20000:,:], axis = 0)"
   ]
  },
  {
   "cell_type": "code",
   "execution_count": null,
   "metadata": {},
   "outputs": [],
   "source": [
    "va_sd = np.sqrt(np.diag((B_ts.dot(B_ts.T) + d_ts**2)))"
   ]
  },
  {
   "cell_type": "code",
   "execution_count": null,
   "metadata": {},
   "outputs": [],
   "source": [
    "mu_ts_m = np.mean(mu_ts.reshape(29001, 21)[25000:,:], axis = 0)\n",
    "mu_ts_sd = np.std(mu_ts.reshape(29001, 21)[25000:,:], axis = 0)"
   ]
  },
  {
   "cell_type": "code",
   "execution_count": null,
   "metadata": {},
   "outputs": [],
   "source": [
    "plt.scatter(mu_ts_m[0:10], betas)\n",
    "ident = [-.5, .5]\n",
    "plt.plot(ident,ident)"
   ]
  },
  {
   "cell_type": "code",
   "execution_count": null,
   "metadata": {},
   "outputs": [],
   "source": [
    "plt.scatter(va_sd[10:20], lambdas_sd)\n",
    "ident = [0, .5]\n",
    "plt.plot(ident,ident)"
   ]
  },
  {
   "cell_type": "code",
   "execution_count": null,
   "metadata": {},
   "outputs": [],
   "source": [
    "plt.scatter(va_sd[0:10], betas_sd)\n",
    "ident = [0, .5]\n",
    "plt.plot(ident,ident)"
   ]
  },
  {
   "cell_type": "code",
   "execution_count": null,
   "metadata": {},
   "outputs": [],
   "source": [
    "plt.scatter(np.exp(0.5*mu_ts_m[10:20]), lambdas)\n",
    "ident = [-.5, .5]\n",
    "plt.plot(ident,ident)"
   ]
  },
  {
   "cell_type": "code",
   "execution_count": null,
   "metadata": {},
   "outputs": [],
   "source": [
    "plt.scatter(np.exp(mu_ts_m[20]), tau)\n",
    "ident = [-.5, .5]\n",
    "plt.plot(ident,ident)"
   ]
  },
  {
   "cell_type": "code",
   "execution_count": null,
   "metadata": {},
   "outputs": [],
   "source": [
    "plt.scatter(va_sd[20], tau_sd)\n",
    "ident = [0, .5]\n",
    "plt.plot(ident,ident)"
   ]
  },
  {
   "cell_type": "code",
   "execution_count": null,
   "metadata": {},
   "outputs": [],
   "source": []
  }
 ],
 "metadata": {
  "kernelspec": {
   "display_name": "Python 3",
   "language": "python",
   "name": "python3"
  },
  "language_info": {
   "codemirror_mode": {
    "name": "ipython",
    "version": 3
   },
   "file_extension": ".py",
   "mimetype": "text/x-python",
   "name": "python",
   "nbconvert_exporter": "python",
   "pygments_lexer": "ipython3",
   "version": "3.8.5"
  }
 },
 "nbformat": 4,
 "nbformat_minor": 4
}
