{
 "cells": [
  {
   "cell_type": "code",
   "execution_count": 1,
   "metadata": {},
   "outputs": [],
   "source": [
    "import numpy as np\n",
    "import random\n",
    "import math\n",
    "from tqdm import tqdm\n",
    "import matplotlib.pyplot as plt\n",
    "from derivations_densities import gen_tau, gen_beta, compdS"
   ]
  },
  {
   "cell_type": "code",
   "execution_count": 37,
   "metadata": {},
   "outputs": [],
   "source": [
    "extracted_coefficients_directory = '../../../../data/commaai/extracted_coefficients/20201027_filtered_gaussian_resampled/'\n",
    "B_zeta_path = str(extracted_coefficients_directory + 'Bzeta/B_zeta.npy')\n",
    "beta_path = str(extracted_coefficients_directory + 'beta/beta.csv')\n",
    "z_path = str(extracted_coefficients_directory + 'Bzeta/tr_labels.npy')\n",
    "beta = np.genfromtxt(beta_path, delimiter=',')\n",
    "B_zeta = np.load(B_zeta_path)\n",
    "B_zeta = B_zeta.reshape(B_zeta.shape[0], beta.shape[0])\n",
    "z = np.load(z_path)#[0:B_zeta.shape[0]]\n",
    "n = B_zeta.shape[0]\n",
    "p = B_zeta.shape[1]\n",
    "\n",
    "BoB = B_zeta**2\n",
    "tau_start = 0.0001\n",
    "beta = np.zeros(p)\n",
    "theta=2.5\n",
    "J = [5000,10000]\n",
    "tBB = B_zeta.T.dot(B_zeta)\n",
    "#dS2_old, ddS2_old, S2_old, S_old = dev.generate_dS2_ddS2_S2_S(Lambda_old, BoB)"
   ]
  },
  {
   "cell_type": "code",
   "execution_count": 38,
   "metadata": {},
   "outputs": [],
   "source": [
    "# initialize Lambda\n",
    "betaBt = beta.dot(B_zeta.T)"
   ]
  },
  {
   "cell_type": "code",
   "execution_count": 39,
   "metadata": {},
   "outputs": [],
   "source": [
    "W = np.array([B_zeta[i,:].dot(B_zeta[i,:]) for i in range(0, n)])"
   ]
  },
  {
   "cell_type": "code",
   "execution_count": 40,
   "metadata": {},
   "outputs": [],
   "source": [
    "def compdS(tau, W):\n",
    "    tildeW = tau*W\n",
    "    S2 = 1/(1+tildeW)\n",
    "    dS2 = -tildeW/((1+tildeW)**2)\n",
    "    ddS2 = -tildeW/((1+tildeW)**2) + 2*(tildeW**2)/((1+tildeW)**3)\n",
    "    \n",
    "    S = np.sqrt(S2)\n",
    "    return(S2, dS2, ddS2, S)\n",
    "\n",
    "def dlogFcu(u, B, S2, dS2, z, beta, theta, betaBt):\n",
    "    p = B.shape[1]\n",
    "    return( - 0.5*np.sum(dS2/S2) \n",
    "            - 0.5*np.sum((z**2)*(-dS2/(S2**2)))\n",
    "            + np.sum(betaBt*((-0.5*dS2/(S2**1.5))*z)) \n",
    "            - (0.5*p - 0.5)\n",
    "            + 0.5*(beta.dot(beta))/np.exp(u) \n",
    "            - 0.5*(np.exp(u)/theta)**0.5)\n",
    "\n",
    "def ddlogFcu(u, B, S2, dS2, ddS2, z, beta, theta, betaBt):\n",
    "    return( - 0.5*np.sum(ddS2/S2 - (dS2**2)/(S2**2)) \n",
    "           - 0.5*np.sum((z**2)*(2*(dS2**2)/(S2**3)\n",
    "           - ddS2/(S2**2)))\n",
    "           + np.sum(betaBt*(0.75*(dS2**2)/(S2**(2.5)) - 0.5*ddS2/(S2**1.5))*z)\n",
    "           - 0.5*(beta.dot(beta)/np.exp(u))  \n",
    "           - 0.25*(np.exp(u)/theta)**(0.5))\n",
    "\n",
    "def logFCu(u,B,S2,z,beta,theta, betaBt):\n",
    "    p = B.shape[1]\n",
    "    return(  - 0.5*np.sum(np.log(S2)) \n",
    "           - 0.5*np.sum(z**2/S2)\n",
    "           + np.sum(B.dot(beta)*z/np.sqrt(S2)) \n",
    "           - u*(0.5*p - 0.5) \n",
    "           - 0.5*(beta.dot(beta))/np.exp(u) \n",
    "           - (np.exp(u)/theta)**0.5)\n",
    "\n",
    "def genbeta(z,u,B,tBB,S):\n",
    "    p = tBB.shape[0]\n",
    "    Sigmabeta = np.linalg.inv(tBB + np.identity(p)/np.exp(u))\n",
    "    mubeta = Sigmabeta.dot(B_zeta.T).dot(S*z)\n",
    "    #Sigmabetainv = tBB + np.identity(p)/np.exp(u)\n",
    "    #L = np.linalg.cholesky(Sigmabetainv)\n",
    "    #v = L.T.dot(1/np.random.normal(0,1,p))\n",
    "    #eta = B_zeta.T.dot(z/np.sqrt(S2))\n",
    "    #w = L.dot(1/eta)\n",
    "    #mubeta = L.T.dot(1/w)\n",
    "    #beta = mubeta + v\n",
    "    beta = np.random.multivariate_normal(mubeta, Sigmabeta, 1).reshape(B.shape[1],)\n",
    "    return(beta)\n",
    "\n",
    "def gen_tau(tau_old,W,B,z,beta,theta, betaBt):\n",
    "    S2,dS2,ddS2,S = compdS(tau_old,W)\n",
    "    dlu = dlogFcu(np.log(tau_old), B_zeta, S2, dS2, z, beta, theta, betaBt)\n",
    "    ddlu = ddlogFcu(np.log(tau_old), B_zeta, S2, dS2, ddS2, z, beta, theta, betaBt)\n",
    "    sigma2u = -1/ddlu\n",
    "\n",
    "    if sigma2u < np.finfo(float).eps:\n",
    "        decision_criterion = float('-inf')\n",
    "        return(0, decision_criterion , S2, dS2, ddS2, S)  \n",
    "    else:\n",
    "        muu = sigma2u*dlu + np.log(tau_old)\n",
    "        unew = np.random.normal(0,1,1)*np.sqrt(sigma2u) + muu\n",
    "        S2_new, dS2_new, ddS2_new, S_new = compdS(np.exp(unew),W)\n",
    "        dlunew = dlogFcu(unew, B_zeta, S2_new, dS2_new, z, beta, theta, betaBt)\n",
    "        ddlunew = ddlogFcu(unew, B_zeta, S2_new, dS2_new, ddS2_new, z, beta, theta, betaBt)\n",
    "        sigma2unew = -1/ddlunew\n",
    "        muunew = sigma2unew*dlunew + unew\n",
    "        fcnew = logFCu(unew, B, S2_new, z, beta, theta, betaBt)\n",
    "        fcold = logFCu(np.log(tau_old), B, S2, z, beta, theta, betaBt)\n",
    "        proposalnew = -0.5*np.log(sigma2u) - 0.5*((unew - muu)**2)/sigma2u\n",
    "        proposalold = -0.5*np.log(sigma2unew) - 0.5*((np.log(tau_old) - muunew)**2)/sigma2unew\n",
    "        decision_criterion = fcnew - fcold - proposalnew + proposalold\n",
    "        return(np.exp(unew), decision_criterion , S2_new, dS2_new, ddS2_new, S_new)\n"
   ]
  },
  {
   "cell_type": "code",
   "execution_count": 41,
   "metadata": {},
   "outputs": [],
   "source": [
    "S2, dS2, ddS2, S = compdS(tau_start, W)"
   ]
  },
  {
   "cell_type": "code",
   "execution_count": 42,
   "metadata": {},
   "outputs": [
    {
     "name": "stderr",
     "output_type": "stream",
     "text": [
      "  0%|          | 0/5000 [00:00<?, ?it/s]"
     ]
    },
    {
     "name": "stdout",
     "output_type": "stream",
     "text": [
      "warm-up phase\n",
      "acceptance rate for last 1000 iterates:0.0\n"
     ]
    },
    {
     "name": "stderr",
     "output_type": "stream",
     "text": [
      "  1%|          | 32/5000 [00:04<11:18,  7.32it/s]<ipython-input-40-7f0e035a5c30>:62: RuntimeWarning: overflow encountered in exp\n",
      "  S2_new, dS2_new, ddS2_new, S_new = compdS(np.exp(unew),W)\n",
      "<ipython-input-40-7f0e035a5c30>:4: RuntimeWarning: invalid value encountered in true_divide\n",
      "  dS2 = -tildeW/((1+tildeW)**2)\n",
      "<ipython-input-40-7f0e035a5c30>:5: RuntimeWarning: invalid value encountered in true_divide\n",
      "  ddS2 = -tildeW/((1+tildeW)**2) + 2*(tildeW**2)/((1+tildeW)**3)\n",
      "<ipython-input-40-7f0e035a5c30>:16: RuntimeWarning: overflow encountered in exp\n",
      "  + 0.5*(beta.dot(beta))/np.exp(u)\n",
      "<ipython-input-40-7f0e035a5c30>:17: RuntimeWarning: overflow encountered in exp\n",
      "  - 0.5*(np.exp(u)/theta)**0.5)\n",
      "<ipython-input-40-7f0e035a5c30>:24: RuntimeWarning: overflow encountered in exp\n",
      "  - 0.5*(beta.dot(beta)/np.exp(u))\n",
      "<ipython-input-40-7f0e035a5c30>:25: RuntimeWarning: overflow encountered in exp\n",
      "  - 0.25*(np.exp(u)/theta)**(0.5))\n",
      "<ipython-input-40-7f0e035a5c30>:29: RuntimeWarning: divide by zero encountered in log\n",
      "  return(  - 0.5*np.sum(np.log(S2))\n",
      "<ipython-input-40-7f0e035a5c30>:30: RuntimeWarning: divide by zero encountered in true_divide\n",
      "  - 0.5*np.sum(z**2/S2)\n",
      "<ipython-input-40-7f0e035a5c30>:29: RuntimeWarning: invalid value encountered in double_scalars\n",
      "  return(  - 0.5*np.sum(np.log(S2))\n",
      "<ipython-input-40-7f0e035a5c30>:31: RuntimeWarning: divide by zero encountered in true_divide\n",
      "  + np.sum(B.dot(beta)*z/np.sqrt(S2))\n",
      "/usr/local/lib/python3.8/dist-packages/numpy/core/fromnumeric.py:87: RuntimeWarning: invalid value encountered in reduce\n",
      "  return ufunc.reduce(obj, axis, dtype, out, **passkwargs)\n",
      "<ipython-input-40-7f0e035a5c30>:33: RuntimeWarning: overflow encountered in exp\n",
      "  - 0.5*(beta.dot(beta))/np.exp(u)\n",
      "<ipython-input-40-7f0e035a5c30>:34: RuntimeWarning: overflow encountered in exp\n",
      "  - (np.exp(u)/theta)**0.5)\n",
      "<ipython-input-40-7f0e035a5c30>:72: RuntimeWarning: overflow encountered in exp\n",
      "  return(np.exp(unew), decision_criterion , S2_new, dS2_new, ddS2_new, S_new)\n",
      "  1%|          | 59/5000 [00:08<11:05,  7.43it/s]<ipython-input-40-7f0e035a5c30>:4: RuntimeWarning: overflow encountered in square\n",
      "  dS2 = -tildeW/((1+tildeW)**2)\n",
      "<ipython-input-40-7f0e035a5c30>:5: RuntimeWarning: overflow encountered in square\n",
      "  ddS2 = -tildeW/((1+tildeW)**2) + 2*(tildeW**2)/((1+tildeW)**3)\n",
      "<ipython-input-40-7f0e035a5c30>:5: RuntimeWarning: overflow encountered in power\n",
      "  ddS2 = -tildeW/((1+tildeW)**2) + 2*(tildeW**2)/((1+tildeW)**3)\n",
      "<ipython-input-40-7f0e035a5c30>:21: RuntimeWarning: invalid value encountered in true_divide\n",
      "  - 0.5*np.sum((z**2)*(2*(dS2**2)/(S2**3)\n",
      "<ipython-input-40-7f0e035a5c30>:23: RuntimeWarning: invalid value encountered in true_divide\n",
      "  + np.sum(betaBt*(0.75*(dS2**2)/(S2**(2.5)) - 0.5*ddS2/(S2**1.5))*z)\n",
      "  1%|          | 60/5000 [00:08<11:25,  7.21it/s]\n"
     ]
    },
    {
     "ename": "KeyboardInterrupt",
     "evalue": "",
     "output_type": "error",
     "traceback": [
      "\u001b[0;31m---------------------------------------------------------------------------\u001b[0m",
      "\u001b[0;31mKeyboardInterrupt\u001b[0m                         Traceback (most recent call last)",
      "\u001b[0;32m<ipython-input-42-dfb80e9128f4>\u001b[0m in \u001b[0;36m<module>\u001b[0;34m\u001b[0m\n\u001b[1;32m     15\u001b[0m \u001b[0;34m\u001b[0m\u001b[0m\n\u001b[1;32m     16\u001b[0m         \u001b[0mbetaBt\u001b[0m \u001b[0;34m=\u001b[0m \u001b[0mB_zeta\u001b[0m\u001b[0;34m.\u001b[0m\u001b[0mdot\u001b[0m\u001b[0;34m(\u001b[0m\u001b[0mbetanew\u001b[0m\u001b[0;34m)\u001b[0m\u001b[0;34m\u001b[0m\u001b[0;34m\u001b[0m\u001b[0m\n\u001b[0;32m---> 17\u001b[0;31m         \u001b[0mtau_new\u001b[0m\u001b[0;34m,\u001b[0m \u001b[0mdecision_criterion\u001b[0m \u001b[0;34m,\u001b[0m \u001b[0mS2_new\u001b[0m\u001b[0;34m,\u001b[0m \u001b[0mdS2_new\u001b[0m\u001b[0;34m,\u001b[0m \u001b[0mddS2_new\u001b[0m\u001b[0;34m,\u001b[0m \u001b[0mS_new\u001b[0m \u001b[0;34m=\u001b[0m \u001b[0mgen_tau\u001b[0m\u001b[0;34m(\u001b[0m\u001b[0mtau_old\u001b[0m\u001b[0;34m,\u001b[0m \u001b[0mW\u001b[0m\u001b[0;34m,\u001b[0m \u001b[0mB_zeta\u001b[0m\u001b[0;34m,\u001b[0m \u001b[0mz\u001b[0m\u001b[0;34m,\u001b[0m \u001b[0mbetanew\u001b[0m\u001b[0;34m,\u001b[0m \u001b[0mtheta\u001b[0m\u001b[0;34m,\u001b[0m \u001b[0mbetaBt\u001b[0m\u001b[0;34m)\u001b[0m\u001b[0;34m\u001b[0m\u001b[0;34m\u001b[0m\u001b[0m\n\u001b[0m\u001b[1;32m     18\u001b[0m \u001b[0;34m\u001b[0m\u001b[0m\n\u001b[1;32m     19\u001b[0m         \u001b[0;32mif\u001b[0m \u001b[0mnp\u001b[0m\u001b[0;34m.\u001b[0m\u001b[0mlog\u001b[0m\u001b[0;34m(\u001b[0m\u001b[0mnp\u001b[0m\u001b[0;34m.\u001b[0m\u001b[0mrandom\u001b[0m\u001b[0;34m.\u001b[0m\u001b[0muniform\u001b[0m\u001b[0;34m(\u001b[0m\u001b[0;36m0\u001b[0m\u001b[0;34m,\u001b[0m\u001b[0;36m1\u001b[0m\u001b[0;34m,\u001b[0m\u001b[0;36m1\u001b[0m\u001b[0;34m)\u001b[0m\u001b[0;34m)\u001b[0m \u001b[0;34m<=\u001b[0m \u001b[0mdecision_criterion\u001b[0m\u001b[0;34m:\u001b[0m\u001b[0;34m\u001b[0m\u001b[0;34m\u001b[0m\u001b[0m\n",
      "\u001b[0;32m<ipython-input-40-7f0e035a5c30>\u001b[0m in \u001b[0;36mgen_tau\u001b[0;34m(tau_old, W, B, z, beta, theta, betaBt)\u001b[0m\n\u001b[1;32m     51\u001b[0m     \u001b[0mS2\u001b[0m\u001b[0;34m,\u001b[0m\u001b[0mdS2\u001b[0m\u001b[0;34m,\u001b[0m\u001b[0mddS2\u001b[0m\u001b[0;34m,\u001b[0m\u001b[0mS\u001b[0m \u001b[0;34m=\u001b[0m \u001b[0mcompdS\u001b[0m\u001b[0;34m(\u001b[0m\u001b[0mtau_old\u001b[0m\u001b[0;34m,\u001b[0m\u001b[0mW\u001b[0m\u001b[0;34m)\u001b[0m\u001b[0;34m\u001b[0m\u001b[0;34m\u001b[0m\u001b[0m\n\u001b[1;32m     52\u001b[0m     \u001b[0mdlu\u001b[0m \u001b[0;34m=\u001b[0m \u001b[0mdlogFcu\u001b[0m\u001b[0;34m(\u001b[0m\u001b[0mnp\u001b[0m\u001b[0;34m.\u001b[0m\u001b[0mlog\u001b[0m\u001b[0;34m(\u001b[0m\u001b[0mtau_old\u001b[0m\u001b[0;34m)\u001b[0m\u001b[0;34m,\u001b[0m \u001b[0mB_zeta\u001b[0m\u001b[0;34m,\u001b[0m \u001b[0mS2\u001b[0m\u001b[0;34m,\u001b[0m \u001b[0mdS2\u001b[0m\u001b[0;34m,\u001b[0m \u001b[0mz\u001b[0m\u001b[0;34m,\u001b[0m \u001b[0mbeta\u001b[0m\u001b[0;34m,\u001b[0m \u001b[0mtheta\u001b[0m\u001b[0;34m,\u001b[0m \u001b[0mbetaBt\u001b[0m\u001b[0;34m)\u001b[0m\u001b[0;34m\u001b[0m\u001b[0;34m\u001b[0m\u001b[0m\n\u001b[0;32m---> 53\u001b[0;31m     \u001b[0mddlu\u001b[0m \u001b[0;34m=\u001b[0m \u001b[0mddlogFcu\u001b[0m\u001b[0;34m(\u001b[0m\u001b[0mnp\u001b[0m\u001b[0;34m.\u001b[0m\u001b[0mlog\u001b[0m\u001b[0;34m(\u001b[0m\u001b[0mtau_old\u001b[0m\u001b[0;34m)\u001b[0m\u001b[0;34m,\u001b[0m \u001b[0mB_zeta\u001b[0m\u001b[0;34m,\u001b[0m \u001b[0mS2\u001b[0m\u001b[0;34m,\u001b[0m \u001b[0mdS2\u001b[0m\u001b[0;34m,\u001b[0m \u001b[0mddS2\u001b[0m\u001b[0;34m,\u001b[0m \u001b[0mz\u001b[0m\u001b[0;34m,\u001b[0m \u001b[0mbeta\u001b[0m\u001b[0;34m,\u001b[0m \u001b[0mtheta\u001b[0m\u001b[0;34m,\u001b[0m \u001b[0mbetaBt\u001b[0m\u001b[0;34m)\u001b[0m\u001b[0;34m\u001b[0m\u001b[0;34m\u001b[0m\u001b[0m\n\u001b[0m\u001b[1;32m     54\u001b[0m     \u001b[0msigma2u\u001b[0m \u001b[0;34m=\u001b[0m \u001b[0;34m-\u001b[0m\u001b[0;36m1\u001b[0m\u001b[0;34m/\u001b[0m\u001b[0mddlu\u001b[0m\u001b[0;34m\u001b[0m\u001b[0;34m\u001b[0m\u001b[0m\n\u001b[1;32m     55\u001b[0m \u001b[0;34m\u001b[0m\u001b[0m\n",
      "\u001b[0;32m<ipython-input-40-7f0e035a5c30>\u001b[0m in \u001b[0;36mddlogFcu\u001b[0;34m(u, B, S2, dS2, ddS2, z, beta, theta, betaBt)\u001b[0m\n\u001b[1;32m     21\u001b[0m            - 0.5*np.sum((z**2)*(2*(dS2**2)/(S2**3)\n\u001b[1;32m     22\u001b[0m            - ddS2/(S2**2)))\n\u001b[0;32m---> 23\u001b[0;31m            \u001b[0;34m+\u001b[0m \u001b[0mnp\u001b[0m\u001b[0;34m.\u001b[0m\u001b[0msum\u001b[0m\u001b[0;34m(\u001b[0m\u001b[0mbetaBt\u001b[0m\u001b[0;34m*\u001b[0m\u001b[0;34m(\u001b[0m\u001b[0;36m0.75\u001b[0m\u001b[0;34m*\u001b[0m\u001b[0;34m(\u001b[0m\u001b[0mdS2\u001b[0m\u001b[0;34m**\u001b[0m\u001b[0;36m2\u001b[0m\u001b[0;34m)\u001b[0m\u001b[0;34m/\u001b[0m\u001b[0;34m(\u001b[0m\u001b[0mS2\u001b[0m\u001b[0;34m**\u001b[0m\u001b[0;34m(\u001b[0m\u001b[0;36m2.5\u001b[0m\u001b[0;34m)\u001b[0m\u001b[0;34m)\u001b[0m \u001b[0;34m-\u001b[0m \u001b[0;36m0.5\u001b[0m\u001b[0;34m*\u001b[0m\u001b[0mddS2\u001b[0m\u001b[0;34m/\u001b[0m\u001b[0;34m(\u001b[0m\u001b[0mS2\u001b[0m\u001b[0;34m**\u001b[0m\u001b[0;36m1.5\u001b[0m\u001b[0;34m)\u001b[0m\u001b[0;34m)\u001b[0m\u001b[0;34m*\u001b[0m\u001b[0mz\u001b[0m\u001b[0;34m)\u001b[0m\u001b[0;34m\u001b[0m\u001b[0;34m\u001b[0m\u001b[0m\n\u001b[0m\u001b[1;32m     24\u001b[0m            \u001b[0;34m-\u001b[0m \u001b[0;36m0.5\u001b[0m\u001b[0;34m*\u001b[0m\u001b[0;34m(\u001b[0m\u001b[0mbeta\u001b[0m\u001b[0;34m.\u001b[0m\u001b[0mdot\u001b[0m\u001b[0;34m(\u001b[0m\u001b[0mbeta\u001b[0m\u001b[0;34m)\u001b[0m\u001b[0;34m/\u001b[0m\u001b[0mnp\u001b[0m\u001b[0;34m.\u001b[0m\u001b[0mexp\u001b[0m\u001b[0;34m(\u001b[0m\u001b[0mu\u001b[0m\u001b[0;34m)\u001b[0m\u001b[0;34m)\u001b[0m\u001b[0;34m\u001b[0m\u001b[0;34m\u001b[0m\u001b[0m\n\u001b[1;32m     25\u001b[0m            - 0.25*(np.exp(u)/theta)**(0.5))\n",
      "\u001b[0;31mKeyboardInterrupt\u001b[0m: "
     ]
    }
   ],
   "source": [
    "tau_old = tau_start\n",
    "all_taus = []\n",
    "tau_acc = []\n",
    "all_betas = []\n",
    "for i in [0,1]:\n",
    "    if i == 0:\n",
    "        print('warm-up phase')\n",
    "    elif i == 1:\n",
    "        print('sampling phase')\n",
    "    for j in tqdm(range(0, J[i])):\n",
    "        \n",
    "        # sample beta\n",
    "        betanew = genbeta(z,np.log(tau_old),B_zeta,tBB,S)\n",
    "        all_betas.append(betanew)\n",
    "        \n",
    "        betaBt = B_zeta.dot(betanew)\n",
    "        tau_new, decision_criterion , S2_new, dS2_new, ddS2_new, S_new = gen_tau(tau_old, W, B_zeta, z, betanew, theta, betaBt)\n",
    "        \n",
    "        if np.log(np.random.uniform(0,1,1)) <= decision_criterion:\n",
    "            tau_old, S2, dS2, ddS2, S = tau_new.copy(), S2_new.copy(), dS2_new.copy(), ddS2_new.copy(), S_new.copy()\n",
    "            all_taus.append(tau_old)\n",
    "            tau_acc.append(1)\n",
    "        else:\n",
    "            all_taus.append(tau_old)\n",
    "            tau_acc.append(0)\n",
    "        if j%1000 == 0:\n",
    "            print('acceptance rate for last 1000 iterates:' + str(np.mean(tau_acc[-1000:])))           "
   ]
  },
  {
   "cell_type": "code",
   "execution_count": 43,
   "metadata": {},
   "outputs": [
    {
     "data": {
      "text/plain": [
       "[<matplotlib.lines.Line2D at 0x7fe9c68fa280>]"
      ]
     },
     "execution_count": 43,
     "metadata": {},
     "output_type": "execute_result"
    },
    {
     "data": {
      "image/png": "[encoded data removed]",
      "text/plain": [
       "<Figure size 432x288 with 1 Axes>"
      ]
     },
     "metadata": {
      "needs_background": "light"
     },
     "output_type": "display_data"
    }
   ],
   "source": [
    "plt.plot(all_taus)"
   ]
  },
  {
   "cell_type": "code",
   "execution_count": 9,
   "metadata": {},
   "outputs": [
    {
     "name": "stdout",
     "output_type": "stream",
     "text": [
      "\n",
      "Acceptance rate for tau: 0.8316\n"
     ]
    }
   ],
   "source": [
    "print('\\nAcceptance rate for tau: ' + str(np.mean(tau_acc[J[0]:])))"
   ]
  },
  {
   "cell_type": "code",
   "execution_count": 10,
   "metadata": {},
   "outputs": [],
   "source": [
    "np.save('../../../../data/commaai/mcmc/unfiltered_gaussian_resampled/Ridge/taus.npy', np.array(all_taus[J[1]:]))\n",
    "np.save('../../../../data/commaai/mcmc/unfiltered_gaussian_resampled/Ridge/betas.npy', np.array(all_betas[J[1]:]))"
   ]
  },
  {
   "cell_type": "code",
   "execution_count": null,
   "metadata": {},
   "outputs": [],
   "source": []
  }
 ],
 "metadata": {
  "kernelspec": {
   "display_name": "Python 3",
   "language": "python",
   "name": "python3"
  },
  "language_info": {
   "codemirror_mode": {
    "name": "ipython",
    "version": 3
   },
   "file_extension": ".py",
   "mimetype": "text/x-python",
   "name": "python",
   "nbconvert_exporter": "python",
   "pygments_lexer": "ipython3",
   "version": "3.8.5"
  }
 },
 "nbformat": 4,
 "nbformat_minor": 4
}
