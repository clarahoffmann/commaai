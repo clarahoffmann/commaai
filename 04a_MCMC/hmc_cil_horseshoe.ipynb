{
 "cells": [
  {
   "cell_type": "markdown",
   "metadata": {},
   "source": [
    "## Hamiltonian Monte-Carlo for the Imprecise Learner and Horseshoe Prior\n",
    "\n",
    "Author: Clara Hoffmann \\\n",
    "HMC (see f.e. 'MCMC using Hamiltonian dynamics' by Neal, 2011) to obtain the posterior\n",
    "of the coefficients of the last hidden layer and the copula parameters\n",
    "\n",
    "Overview:\n",
    "1. Initialize Variables\n",
    "2. Run HMC chain\n",
    "\n",
    "Note that the CIL versions for HMC are especially time-consuming. Derivatives based on Klein, Nott \\& Smith 'Marginally Calibrated Deep Distributional Regression' (2020)."
   ]
  },
  {
   "cell_type": "code",
   "execution_count": null,
   "metadata": {},
   "outputs": [],
   "source": [
    "# load packages\n",
    "import numpy as np\n",
    "from random import random\n",
    "from tqdm import tqdm\n",
    "import ray\n",
    "import matplotlib.pyplot as plt\n",
    "from helpers_horseshoe import generate_S2_S, log_density, Leapfrog, Delta_theta\n",
    "ray.init()"
   ]
  },
  {
   "cell_type": "markdown",
   "metadata": {},
   "source": [
    "## 1. Initialize Variables"
   ]
  },
  {
   "cell_type": "code",
   "execution_count": null,
   "metadata": {},
   "outputs": [],
   "source": [
    "# import data from DNN training\n",
    "extracted_coefficients_directory = '../../data/commaai/extracted_coefficients/20201021_unrestr_gaussian_resampled/'\n",
    "B_zeta_path = str(extracted_coefficients_directory + 'Bzeta/B_zeta.npy')\n",
    "beta_path = str(extracted_coefficients_directory + 'beta/beta.csv')\n",
    "z_path = str(extracted_coefficients_directory + 'Bzeta/tr_labels.npy')\n",
    "beta = np.genfromtxt(beta_path, delimiter=',')\n",
    "B_zeta = np.load(B_zeta_path)\n",
    "B_zeta = B_zeta.reshape(B_zeta.shape[0], beta.shape[0])\n",
    "z = np.load(z_path)\n",
    "tBB = B_zeta.T.dot(B_zeta)"
   ]
  },
  {
   "cell_type": "code",
   "execution_count": null,
   "metadata": {},
   "outputs": [],
   "source": [
    "beta = np.repeat(0,10)\n",
    "# number of samples we want to produce\n",
    "M = 30000 + 1\n",
    "L = 77\n",
    "\n",
    "# number of parameters of theta\n",
    "q = 2*B_zeta.shape[1] + 1\n",
    "p = B_zeta.shape[1]\n",
    "\n",
    "n = B_zeta.shape[0]\n",
    "\n",
    "# start values for beta, lambda, tau\n",
    "# beta is taken from trained network and other two\n",
    "# are initialized randomly\n",
    "theta_m_1 = np.zeros(q)\n",
    "\n",
    "# stepsize\n",
    "epsilon = 0.00005\n",
    "\n",
    "# momentum\n",
    "r_m = np.append(np.zeros(p), np.append(np.repeat(-6,p), 0))\n",
    "\n",
    "tau_start = theta_m_1[q-1]\n",
    "Lambda = np.repeat(1,p)\n",
    "BoB = B_zeta**2"
   ]
  },
  {
   "cell_type": "markdown",
   "metadata": {},
   "source": [
    "## 2. Run HMC chain"
   ]
  },
  {
   "cell_type": "code",
   "execution_count": null,
   "metadata": {},
   "outputs": [],
   "source": [
    "seed = 6835963\n",
    "# create lists to save results\n",
    "r0 = np.repeat(None, 30000)\n",
    "theta_tilde = np.repeat(None, 30000)\n",
    "r_tilde = np.repeat(None, 30000)\n",
    "log_dens = np.repeat(None, 30000)\n",
    "r_tilde = np.repeat(None, M)\n",
    "log_dens =  np.repeat(None, M)\n",
    "alpha = np.repeat(None, M)\n",
    "theta_m_1 = np.repeat(None, M)\n",
    "r_m = np.repeat(None, M)\n",
    "theta_m_1[0] = np.append(np.zeros(p), np.append(np.repeat(0,p), 0))\n",
    "\n",
    "acc = []\n",
    "theta_tilde[0] = np.zeros(21)\n",
    "r_tilde[0] = np.zeros(21)\n",
    "theta_m_1[1] =  np.append(np.zeros(p), np.append(np.repeat(0,p), 0))\n",
    "all_thetas = []\n",
    "theta_m_1[0] = np.append(np.zeros(p), np.append(np.repeat(0,p), 0))\n",
    "r_m[0] = np.random.multivariate_normal(np.zeros(q), np.identity(q), 1)\n",
    "r_m[1] = np.random.multivariate_normal(np.zeros(q), np.identity(q), 1)\n",
    "\n",
    "# loop over number of samples that we want to produce\n",
    "for m in tqdm(range(1, M)):\n",
    "    \n",
    "    # Update S\n",
    "    # draw momentum from normal distribution\n",
    "    r0[m] = np.random.multivariate_normal(np.zeros(q), np.identity(q), 1)\n",
    "    \n",
    "    # set new parameters\n",
    "    theta_tilde[m] = np.array(theta_m_1[m]).reshape(q,)\n",
    "    r_tilde[m] = r0[m]\n",
    "    betaBt = theta_tilde[m][0:p].dot(B_zeta.T)\n",
    "    \n",
    "    # compute gradient with theta\n",
    "    Delta_theta_t = Delta_theta(theta_tilde[m], B_zeta, n, z, \n",
    "                                p, tBB, betaBt, BoB)\n",
    "\n",
    "    # update momentum\n",
    "    r_tilde[m] = r_tilde[m] + (epsilon*0.5)*Delta_theta_t\n",
    "    \n",
    "    # generate proposal through L leapfrog updates \n",
    "    for i in range(0,L):\n",
    "        betaBt = theta_tilde[m][0:p].dot(B_zeta.T)\n",
    "        theta_tilde[m], r_tilde[m] = Leapfrog(theta_tilde[m], \n",
    "                                              r_tilde[m], \n",
    "                                              epsilon, n, z, p, \n",
    "                                              B_zeta, tBB, \n",
    "                                              betaBt, i, L, B_zeta, BoB)\n",
    "        \n",
    "    # compute gradient with theta\n",
    "    betaBt = theta_tilde[m][0:p].dot(B_zeta.T)\n",
    "    Delta_theta_t = Delta_theta(theta_tilde[m], B_zeta, \n",
    "                                n, z, p, tBB, betaBt, BoB)\n",
    "\n",
    "    # update momentum\n",
    "    r_tilde[m] = r_tilde[m] + (epsilon*0.5)*Delta_theta_t\n",
    "    \n",
    "    S2, S =  generate_S2_S(np.exp(0.5*theta_tilde[m][p:2*p]), BoB)\n",
    "    betaBt = theta_tilde[m][0:p].dot(B_zeta.T)\n",
    "    \n",
    "    # probability that proposal is accepted\n",
    "    log_dens[m] = log_density(S, B_zeta, theta_tilde[m][0:p], \n",
    "                              np.exp(0.5*theta_tilde[m][p:2*p]), theta_tilde[m][p], z, p)\n",
    "    proposed_u = log_density(S, B_zeta, theta_m_1[m][0:p], \n",
    "                             np.exp(0.5*theta_m_1[m][p:2*p]), theta_m_1[m][p], z, p)\n",
    "    current_K = r_tilde[m].dot(r_tilde[m].T)*0.5\n",
    "    proposed_K = r_m[m].dot(r_m[m].T)*0.5\n",
    "    p_accept = log_dens[m] -  proposed_u + current_K - proposed_K\n",
    "    alpha[m] = np.exp(min([np.log(1), p_accept]))\n",
    "    \n",
    "    # accept/reject\n",
    "    if np.random.randn() <= alpha[m]:\n",
    "        theta_m_1[m + 1] = theta_tilde[m]\n",
    "        r_m[m + 1] = - r_tilde[m]\n",
    "        acc.append(1)\n",
    "        all_thetas.append(np.array(theta_m_1[m + 1]))\n",
    "    else:\n",
    "        theta_m_1[m + 1] = theta_tilde[m - 1]\n",
    "        r_m[m + 1] = - r_tilde[m - 1]\n",
    "        acc.append(0)\n",
    "        all_thetas.append(np.array(theta_m_1[m + 1]))\n",
    "    if (m % 100 == 0) & (m > 1): \n",
    "        print('current acceptance rate: ' + str(np.mean(acc[-100:])))\n",
    "    "
   ]
  },
  {
   "cell_type": "code",
   "execution_count": null,
   "metadata": {},
   "outputs": [],
   "source": [
    "#np.save('../../data/commaai/mcmc/unfiltered_gaussian_resampled/Horseshoe/all_thetas.npy', np.array(all_thetas))"
   ]
  }
 ],
 "metadata": {
  "kernelspec": {
   "display_name": "Python 3",
   "language": "python",
   "name": "python3"
  },
  "language_info": {
   "codemirror_mode": {
    "name": "ipython",
    "version": 3
   },
   "file_extension": ".py",
   "mimetype": "text/x-python",
   "name": "python",
   "nbconvert_exporter": "python",
   "pygments_lexer": "ipython3",
   "version": "3.8.10"
  }
 },
 "nbformat": 4,
 "nbformat_minor": 4
}
