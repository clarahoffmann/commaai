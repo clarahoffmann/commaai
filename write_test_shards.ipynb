{
 "cells": [
  {
   "cell_type": "code",
   "execution_count": 1,
   "metadata": {},
   "outputs": [],
   "source": [
    "import json\n",
    "import pandas as pd\n",
    "import numpy as np\n",
    "import matplotlib.pyplot as plt\n",
    "import cv2\n",
    "import csv\n",
    "import glob\n",
    "import os\n",
    "import math\n",
    "from PIL import Image\n",
    "import tensorflow as tf\n",
    "import sys\n",
    "from scipy.integrate import simps\n",
    "from helpers import *\n",
    "import random"
   ]
  },
  {
   "cell_type": "code",
   "execution_count": 2,
   "metadata": {},
   "outputs": [],
   "source": [
    "# Specify paths where data lies\n",
    "vid_train_path = r'../data/commaai/destination/'\n",
    "train_set_size = 1500\n",
    "test_set_size = 500\n",
    "\n",
    "# read names of all video files\n",
    "all_vid_files = glob.glob(os.path.join(vid_train_path, \"*.hevc\")) \n",
    "\n",
    "# choose files for train and test set\n",
    "test_files_vid = all_vid_files[-test_set_size:]\n",
    "train_files_vid = all_vid_files[:train_set_size]"
   ]
  },
  {
   "cell_type": "code",
   "execution_count": null,
   "metadata": {},
   "outputs": [
    {
     "name": "stdout",
     "output_type": "stream",
     "text": [
      "../data/commaai/train/testshard0_clean2.tfrecords\n",
      "ok\n"
     ]
    }
   ],
   "source": [
    "# choose files for train and test set\n",
    "test_files_vid = all_vid_files[-test_set_size:]\n",
    "train_files_vid = all_vid_files[:train_set_size]\n",
    "\n",
    "# get filenames without ending\n",
    "train_filenames = [os.path.basename(train_files_vid[i])[:-5] for i in range(0, len(train_files_vid))]\n",
    "test_filenames = [os.path.basename(test_files_vid[i])[:-5] for i in range(0, len(test_files_vid))]\n",
    "\n",
    "# set path to where train files should be exported\n",
    "out_path_base_test = '../data/commaai/test2/testshard'\n",
    "\n",
    "# convert train files\n",
    "convert_val(test_filenames, vid_train_path, out_path_base_test, verbose = False, sampling = 'downsample')"
   ]
  },
  {
   "cell_type": "code",
   "execution_count": null,
   "metadata": {},
   "outputs": [],
   "source": []
  }
 ],
 "metadata": {
  "kernelspec": {
   "display_name": "Python 3",
   "language": "python",
   "name": "python3"
  },
  "language_info": {
   "codemirror_mode": {
    "name": "ipython",
    "version": 3
   },
   "file_extension": ".py",
   "mimetype": "text/x-python",
   "name": "python",
   "nbconvert_exporter": "python",
   "pygments_lexer": "ipython3",
   "version": "3.8.2"
  }
 },
 "nbformat": 4,
 "nbformat_minor": 4
}
