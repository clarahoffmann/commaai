{
 "cells": [
  {
   "cell_type": "code",
   "execution_count": 1,
   "metadata": {},
   "outputs": [],
   "source": [
    "import numpy as np\n",
    "import pandas as pd\n",
    "from scipy.stats import norm\n",
    "import scipy as sp\n",
    "from tqdm import tqdm\n",
    "from scipy.integrate import simps, trapz\n",
    "import matplotlib.pyplot as plt\n",
    "import imageio\n",
    "import multiprocessing\n",
    "from utils import Fy, find_closest_element, build_model\n",
    "import tensorflow as tf"
   ]
  },
  {
   "cell_type": "code",
   "execution_count": 2,
   "metadata": {},
   "outputs": [],
   "source": [
    "# read in val data\n",
    "B_zeta = np.load('../../../data/commaai/extracted_coefficients/copula_cil/Bzeta/B_zeta_val.npy')\n",
    "beta = np.genfromtxt('../../../data/commaai/extracted_coefficients/copula_cil/beta/beta.csv', delimiter = ',')\n",
    "\n",
    "true_y = np.load('../../../data/commaai/extracted_coefficients/copula_cil/Bzeta/labels_val.npy')\n",
    "true_z = np.load('../../../data/commaai/extracted_coefficients/copula_cil/Bzeta/tr_labels_val.npy')\n",
    "\n",
    "B_zeta = B_zeta[np.abs(true_y) < 40,:] \n",
    "true_z = true_z[np.abs(true_y) < 40]\n",
    "true_y = true_y[np.abs(true_y) < 40]\n",
    "\n",
    "density_path = '../../../data/commaai/density/gaussian_density.csv'\n",
    "density = pd.read_csv(density_path)\n",
    "\n",
    "no_points = 500"
   ]
  },
  {
   "cell_type": "code",
   "execution_count": 3,
   "metadata": {},
   "outputs": [],
   "source": [
    "B_zeta_n = np.load('../../../data/commaai/extracted_coefficients/copula_cil/Bzeta/B_zeta_val_49.npy')\n",
    "beta_n = np.genfromtxt('../../../data/commaai/extracted_coefficients/copula_cil/beta/beta_new.csv', delimiter = ',')"
   ]
  },
  {
   "cell_type": "code",
   "execution_count": 4,
   "metadata": {},
   "outputs": [
    {
     "name": "stderr",
     "output_type": "stream",
     "text": [
      "100%|██████████| 94570/94570 [02:13<00:00, 710.03it/s] \n"
     ]
    }
   ],
   "source": [
    "preds_z_n = B_zeta_n.dot(beta_n)\n",
    "y_pred_n = np.array([density.loc[find_closest_element(norm.cdf(i), density['cdf']), 'axes'] for i in tqdm(preds_z_n)])"
   ]
  },
  {
   "cell_type": "code",
   "execution_count": null,
   "metadata": {},
   "outputs": [],
   "source": [
    "preds_z = B_zeta.dot(beta)\n",
    "y_pred = np.array([density.loc[find_closest_element(norm.cdf(i), density['cdf']), 'axes'] for i in tqdm(preds_z)])"
   ]
  },
  {
   "cell_type": "code",
   "execution_count": null,
   "metadata": {},
   "outputs": [],
   "source": [
    "checkpoint_path = '../../../data/models/copula_cil/export/'"
   ]
  },
  {
   "cell_type": "code",
   "execution_count": null,
   "metadata": {},
   "outputs": [],
   "source": [
    "x =tf.train.latest_checkpoint(checkpoint_path)"
   ]
  },
  {
   "cell_type": "code",
   "execution_count": null,
   "metadata": {},
   "outputs": [],
   "source": [
    "keras_model = build_model()\n",
    "\n",
    "# load weights\n",
    "keras_model.load_weights(tf.train.latest_checkpoint(checkpoint_path))\n",
    "\n",
    "# get coefficients of last layer\n",
    "i = 0\n",
    "for layer in keras_model.layers: \n",
    "    i += 1\n",
    "    if i == 20:\n",
    "        beta = layer.get_weights()\n",
    "        print(layer.get_config()) #, layer.get_weights()\n",
    "        \n",
    "# last element of beta is bias, exclude this \n",
    "# since copulas are location free -> beta_0 = 0\n",
    "beta_coeff = beta[0]"
   ]
  },
  {
   "cell_type": "code",
   "execution_count": null,
   "metadata": {},
   "outputs": [],
   "source": [
    "path_all_imgs = '../../../data/commaai/training_files_filtered/indices/review.csv'\n",
    "all_img_df = pd.read_csv(path_all_imgs)\n",
    "img_path_base = '../../../data/commaai/train_bags_2/'\n",
    "density_path = '../../../data/commaai/density/gaussian_density.csv'\n",
    "density = pd.read_csv(density_path)\n",
    "\n"
   ]
  },
  {
   "cell_type": "code",
   "execution_count": null,
   "metadata": {},
   "outputs": [],
   "source": [
    "beta"
   ]
  },
  {
   "cell_type": "code",
   "execution_count": null,
   "metadata": {},
   "outputs": [],
   "source": [
    "beta_coeff"
   ]
  },
  {
   "cell_type": "code",
   "execution_count": null,
   "metadata": {},
   "outputs": [],
   "source": [
    "# all training images and paths\n",
    "path_all_imgs = '../../../commaai_code/02_write_shards_optional/cil_shards/df_paths.csv'\n",
    "all_img_df = pd.read_csv(path_all_imgs)\n",
    "density_path= '../../../data/commaai/density/gaussian_density.csv'\n",
    "density = pd.read_csv(density_path)\n",
    "all_img_df = all_img_df[np.abs(all_img_df['true_y']) < 40].reset_index()\n"
   ]
  },
  {
   "cell_type": "code",
   "execution_count": null,
   "metadata": {},
   "outputs": [],
   "source": [
    "path_all_imgs = '../../../commaai_code/02_write_shards_optional/cil_shards/df_paths.csv'\n",
    "all_img_df = pd.read_csv(path_all_imgs)\n",
    "all_img_df = all_img_df[np.abs(all_img_df['true_y']) < 40].reset_index()\n",
    "img_path_base = '../../../data/commaai/train_bags_2/'\n",
    "true_y = all_img_df['true_y']"
   ]
  },
  {
   "cell_type": "code",
   "execution_count": null,
   "metadata": {},
   "outputs": [],
   "source": [
    "all_img_df.shape"
   ]
  },
  {
   "cell_type": "code",
   "execution_count": null,
   "metadata": {},
   "outputs": [],
   "source": [
    "plt.scatter(true_z, preds_z, alpha = 0.1)"
   ]
  },
  {
   "cell_type": "code",
   "execution_count": null,
   "metadata": {},
   "outputs": [],
   "source": [
    "plt.scatter(true_z, B_zeta.dot(beta), alpha = 0.1)"
   ]
  },
  {
   "cell_type": "code",
   "execution_count": null,
   "metadata": {},
   "outputs": [],
   "source": [
    "np.mean(np.abs(true_z - B_zeta.dot(beta))**2)"
   ]
  },
  {
   "cell_type": "code",
   "execution_count": null,
   "metadata": {},
   "outputs": [],
   "source": [
    "np.mean(np.abs(true_z - B_zeta.dot(beta))**2)"
   ]
  },
  {
   "cell_type": "code",
   "execution_count": null,
   "metadata": {},
   "outputs": [],
   "source": [
    "np.mean(np.abs(true_z - B_zeta.dot(beta_n))**2)"
   ]
  },
  {
   "cell_type": "code",
   "execution_count": null,
   "metadata": {},
   "outputs": [],
   "source": [
    "plt.scatter(true_z, B_zeta.dot(beta), alpha = 0.1)"
   ]
  },
  {
   "cell_type": "code",
   "execution_count": null,
   "metadata": {},
   "outputs": [],
   "source": [
    "preds_z = B_zeta.dot(beta)\n",
    "y_pred = np.array([density.loc[find_closest_element(norm.cdf(i), density['cdf']), 'axes'] for i in tqdm(preds_z)])"
   ]
  },
  {
   "cell_type": "code",
   "execution_count": null,
   "metadata": {},
   "outputs": [],
   "source": [
    "plt.scatter(true_y, y_pred, alpha = 0.1)"
   ]
  },
  {
   "cell_type": "code",
   "execution_count": null,
   "metadata": {},
   "outputs": [],
   "source": [
    "np.mean(np.abs(true_y - y_pred)**2)"
   ]
  },
  {
   "cell_type": "code",
   "execution_count": null,
   "metadata": {},
   "outputs": [],
   "source": [
    "np.mean(np.abs(true_y - y_pred)**2)"
   ]
  },
  {
   "cell_type": "code",
   "execution_count": null,
   "metadata": {},
   "outputs": [],
   "source": [
    "np.mean(np.abs(true_y - y_pred)**2)"
   ]
  },
  {
   "cell_type": "code",
   "execution_count": 5,
   "metadata": {},
   "outputs": [
    {
     "data": {
      "text/plain": [
       "12.034881913783826"
      ]
     },
     "execution_count": 5,
     "metadata": {},
     "output_type": "execute_result"
    }
   ],
   "source": [
    "np.mean(np.abs(true_y - y_pred_n)**2)"
   ]
  },
  {
   "cell_type": "code",
   "execution_count": null,
   "metadata": {},
   "outputs": [],
   "source": [
    "np.mean(np.abs(true_y - y_pred))"
   ]
  },
  {
   "cell_type": "code",
   "execution_count": null,
   "metadata": {},
   "outputs": [],
   "source": [
    "np.mean(np.abs(true_y - y_pred))"
   ]
  },
  {
   "cell_type": "code",
   "execution_count": 7,
   "metadata": {},
   "outputs": [
    {
     "data": {
      "text/plain": [
       "2.0827108947767963"
      ]
     },
     "execution_count": 7,
     "metadata": {},
     "output_type": "execute_result"
    }
   ],
   "source": [
    "np.mean(np.abs(true_y - y_pred_n))"
   ]
  },
  {
   "cell_type": "code",
   "execution_count": null,
   "metadata": {},
   "outputs": [],
   "source": [
    "np.mean(np.abs(true_y - y_pred) <= 6)"
   ]
  },
  {
   "cell_type": "code",
   "execution_count": 8,
   "metadata": {},
   "outputs": [
    {
     "data": {
      "text/plain": [
       "0.9472982975573649"
      ]
     },
     "execution_count": 8,
     "metadata": {},
     "output_type": "execute_result"
    }
   ],
   "source": [
    "np.mean(np.abs(true_y - y_pred_n) <= 6)"
   ]
  },
  {
   "cell_type": "code",
   "execution_count": null,
   "metadata": {},
   "outputs": [],
   "source": [
    "np.mean(np.abs(true_y - y_pred) <= 6)"
   ]
  },
  {
   "cell_type": "code",
   "execution_count": null,
   "metadata": {},
   "outputs": [],
   "source": [
    "np.mean(np.abs(true_y - y_pred) <= 2)"
   ]
  },
  {
   "cell_type": "code",
   "execution_count": null,
   "metadata": {},
   "outputs": [],
   "source": [
    "np.mean(np.abs(true_y - y_pred) <= 2)"
   ]
  },
  {
   "cell_type": "code",
   "execution_count": null,
   "metadata": {},
   "outputs": [],
   "source": [
    "checkpoint_path = '../../../data/models/copula_cil/export/'"
   ]
  },
  {
   "cell_type": "code",
   "execution_count": null,
   "metadata": {},
   "outputs": [],
   "source": [
    "model = build_model()\n",
    "model.load_weights(tf.train.latest_checkpoint(checkpoint_path))"
   ]
  },
  {
   "cell_type": "code",
   "execution_count": null,
   "metadata": {},
   "outputs": [],
   "source": [
    "# all training images and paths\n",
    "path_all_imgs = '../../../commaai_code/02_write_shards_optional/cil_shards/df_paths.csv'\n",
    "all_img_df = pd.read_csv(path_all_imgs)\n",
    "img_path_base = '../../../data/commaai/test_files/val_files_unfiltered/'\n",
    "density_path= '../../../data/commaai/density/gaussian_density.csv'\n",
    "density = pd.read_csv(density_path)\n",
    "all_img_df = all_img_df[np.abs(all_img_df['true_y']) < 40].reset_index()"
   ]
  },
  {
   "cell_type": "code",
   "execution_count": null,
   "metadata": {},
   "outputs": [],
   "source": [
    "# extract Bzetas by reading in images and predicting\n",
    "labels = []\n",
    "preds = []\n",
    "for i in tqdm(range(0,all_img_df.shape[0])): \n",
    "    img = imageio.imread(str(img_path_base + all_img_df.loc[i,'path']))[:,:,0:3]/255\n",
    "    pred = model.predict(img.reshape(1,66,200,3))\n",
    "    label = all_img_df.loc[i,'true_y']\n",
    "    labels.append(label)       \n",
    "    preds.append(pred)\n",
    "\n",
    "# rearrange to arrays\n",
    "labels = np.array(labels)\n",
    "preds = np.array(preds)"
   ]
  },
  {
   "cell_type": "code",
   "execution_count": null,
   "metadata": {},
   "outputs": [],
   "source": [
    "np.array(preds).shape"
   ]
  },
  {
   "cell_type": "code",
   "execution_count": null,
   "metadata": {},
   "outputs": [],
   "source": [
    "plt.scatter(np.array(preds), true_z[0:np.array(preds).shape[0]])\n",
    "plt.scatter(np.array(preds_z)[0:np.array(preds).shape[0]], true_z[0:np.array(preds).shape[0]], color = 'red')\n",
    "plt.plot([-2,2],[-2,2])"
   ]
  },
  {
   "cell_type": "code",
   "execution_count": null,
   "metadata": {},
   "outputs": [],
   "source": [
    "labels = np.array(labels)\n",
    "preds = np.array(preds)"
   ]
  },
  {
   "cell_type": "code",
   "execution_count": null,
   "metadata": {},
   "outputs": [],
   "source": [
    "np.save('preds_cil.npy', preds)\n",
    "np.save('labels_cil.npy', labels)"
   ]
  },
  {
   "cell_type": "code",
   "execution_count": null,
   "metadata": {},
   "outputs": [],
   "source": [
    "preds.shape"
   ]
  },
  {
   "cell_type": "code",
   "execution_count": null,
   "metadata": {},
   "outputs": [],
   "source": [
    "y_pred = np.array([density.loc[find_closest_element(norm.cdf(i), density['cdf']), 'axes'] for i in tqdm(preds.reshape(43399,))])"
   ]
  },
  {
   "cell_type": "code",
   "execution_count": null,
   "metadata": {},
   "outputs": [],
   "source": [
    "np.mean((labels - y_pred.reshape(-1,))**2)"
   ]
  },
  {
   "cell_type": "code",
   "execution_count": null,
   "metadata": {},
   "outputs": [],
   "source": []
  },
  {
   "cell_type": "code",
   "execution_count": null,
   "metadata": {},
   "outputs": [],
   "source": [
    "preds_z = B_zeta.dot(beta)\n",
    "y_pred = np.array([density.loc[find_closest_element(norm.cdf(i), density['cdf']), 'axes'] for i in tqdm(preds_z)])"
   ]
  },
  {
   "cell_type": "code",
   "execution_count": null,
   "metadata": {},
   "outputs": [],
   "source": [
    "plt.scatter(labels, y_pred, alpha = 0.1)"
   ]
  },
  {
   "cell_type": "code",
   "execution_count": null,
   "metadata": {},
   "outputs": [],
   "source": [
    "plt.scatter(true_z[0:43399], preds, alpha = 0.1)"
   ]
  },
  {
   "cell_type": "code",
   "execution_count": null,
   "metadata": {},
   "outputs": [],
   "source": [
    "np.mean(np.abs(true_z[0:43399] - preds.reshape(-1,))**2)"
   ]
  },
  {
   "cell_type": "code",
   "execution_count": null,
   "metadata": {},
   "outputs": [],
   "source": [
    "plt.scatter(true_y, y_pred, alpha = 0.1)"
   ]
  },
  {
   "cell_type": "code",
   "execution_count": null,
   "metadata": {},
   "outputs": [],
   "source": [
    "np.mean(np.abs(true_y - y_pred))"
   ]
  },
  {
   "cell_type": "code",
   "execution_count": null,
   "metadata": {},
   "outputs": [],
   "source": []
  }
 ],
 "metadata": {
  "kernelspec": {
   "display_name": "Python 3",
   "language": "python",
   "name": "python3"
  },
  "language_info": {
   "codemirror_mode": {
    "name": "ipython",
    "version": 3
   },
   "file_extension": ".py",
   "mimetype": "text/x-python",
   "name": "python",
   "nbconvert_exporter": "python",
   "pygments_lexer": "ipython3",
   "version": "3.8.5"
  }
 },
 "nbformat": 4,
 "nbformat_minor": 4
}
