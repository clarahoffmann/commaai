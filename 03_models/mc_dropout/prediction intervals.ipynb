{
 "cells": [
  {
   "cell_type": "code",
   "execution_count": 1,
   "metadata": {},
   "outputs": [
    {
     "name": "stderr",
     "output_type": "stream",
     "text": [
      "2021-03-20 14:52:08,953\tINFO services.py:1090 -- View the Ray dashboard at \u001b[1m\u001b[32mhttp://127.0.0.1:8265\u001b[39m\u001b[22m\n"
     ]
    },
    {
     "data": {
      "text/plain": [
       "{'node_ip_address': '192.168.140.16',\n",
       " 'raylet_ip_address': '192.168.140.16',\n",
       " 'redis_address': '192.168.140.16:6379',\n",
       " 'object_store_address': '/tmp/ray/session_2021-03-20_14-52-08_354930_1302197/sockets/plasma_store',\n",
       " 'raylet_socket_name': '/tmp/ray/session_2021-03-20_14-52-08_354930_1302197/sockets/raylet',\n",
       " 'webui_url': '127.0.0.1:8265',\n",
       " 'session_dir': '/tmp/ray/session_2021-03-20_14-52-08_354930_1302197',\n",
       " 'metrics_export_port': 60332,\n",
       " 'node_id': 'b577b2cf7f2a3b377d65774dbcb6d76ba4cc61b4'}"
      ]
     },
     "execution_count": 1,
     "metadata": {},
     "output_type": "execute_result"
    }
   ],
   "source": [
    "import numpy as np\n",
    "import statsmodels.api as sm\n",
    "from tqdm import tqdm\n",
    "import matplotlib.pyplot as plt\n",
    "import multiprocessing\n",
    "from scipy import integrate\n",
    "import pandas as pd\n",
    "from helpers import confidence_intervals\n",
    "import ray\n",
    "ray.init()"
   ]
  },
  {
   "cell_type": "code",
   "execution_count": 2,
   "metadata": {},
   "outputs": [],
   "source": [
    "mc_preds = np.append(np.load('../../../data/commaai/predictions/mc_dropout/mc_preds_1.npy'), \n",
    "                     np.load('../../../data/commaai/predictions/mc_dropout/mc_preds_2.npy'), axis = 0)"
   ]
  },
  {
   "cell_type": "code",
   "execution_count": 3,
   "metadata": {},
   "outputs": [],
   "source": [
    "# read in val data\n",
    "true_y = np.load('../../../data/commaai/extracted_coefficients/20201027_filtered_gaussian_resampled/Bzeta/labels_val.npy')\n",
    "\n",
    "density_path = '../../../data/commaai/density/gaussian_density_filtered.csv'\n",
    "density = pd.read_csv(density_path)"
   ]
  },
  {
   "cell_type": "code",
   "execution_count": null,
   "metadata": {},
   "outputs": [],
   "source": [
    "densities = []\n",
    "supports = []\n",
    "for i in tqdm(range(0, mc_preds.shape[0])):\n",
    "    kde = sm.nonparametric.KDEUnivariate(mc_preds[i,:,:])\n",
    "    kde.fit() # Estimate the densities\n",
    "    support = kde.support\n",
    "    endog = kde.endog\n",
    "    density = kde.density\n",
    "    supports.append(support)\n",
    "    densities.append(density) "
   ]
  },
  {
   "cell_type": "code",
   "execution_count": null,
   "metadata": {},
   "outputs": [],
   "source": [
    "densities.shape"
   ]
  },
  {
   "cell_type": "code",
   "execution_count": null,
   "metadata": {},
   "outputs": [],
   "source": [
    "j = 0\n",
    "cdf_mc_dropout = [] \n",
    "for supp in tqdm(densities):\n",
    "    grid = supports[j]\n",
    "    dens = densities[j]\n",
    "    def f_integral(i):\n",
    "        return(integrate.trapz(dens[i:(i+2)], grid[i:(i+2)]))\n",
    "    with multiprocessing.Pool(20) as proc:\n",
    "        probs = proc.map(f_integral, np.array([i for i in range(0, grid.shape[0])]))\n",
    "    cdf_i = np.cumsum(np.array(probs))\n",
    "    cdf_mc_dropout.append(cdf_i)\n",
    "    j += 1"
   ]
  },
  {
   "cell_type": "code",
   "execution_count": null,
   "metadata": {},
   "outputs": [],
   "source": [
    "cdf_mc_dropout = np.array(cdf_mc_dropout)"
   ]
  },
  {
   "cell_type": "code",
   "execution_count": null,
   "metadata": {},
   "outputs": [],
   "source": [
    "np.save('../../../data/commaai/predictions/mc_dropout/cdf_mc_dropout_is.npy', cdf_mc_dropout)"
   ]
  },
  {
   "cell_type": "markdown",
   "metadata": {},
   "source": [
    "# get extended densities"
   ]
  },
  {
   "cell_type": "code",
   "execution_count": 4,
   "metadata": {},
   "outputs": [],
   "source": [
    "no_points = 750\n",
    "grid = np.linspace(min(density['axes']), max(density['axes']), int(no_points))"
   ]
  },
  {
   "cell_type": "code",
   "execution_count": null,
   "metadata": {},
   "outputs": [],
   "source": [
    "@ray.remote\n",
    "def assign_dens(supp, density_ext, grid, dens):\n",
    "    density_ext_l = density_ext.copy()\n",
    "    for i in range(0, supp.shape[0]):\n",
    "        density_ext_l[np.where(np.abs(grid - supp[i]) == min(np.abs(grid - supp[i])))] = dens[i]\n",
    "    return(density_ext_l)"
   ]
  },
  {
   "cell_type": "code",
   "execution_count": null,
   "metadata": {},
   "outputs": [],
   "source": [
    "density_ext_list = []\n",
    "density_ext = np.array(np.repeat(0, 750), dtype=float)\n",
    "for j in tqdm(range(0, len(densities))):\n",
    "    density_ext = np.array(np.repeat(0, 750), dtype=float)\n",
    "    for i in range(0, supports[j].shape[0]):\n",
    "        density_ext[np.where(np.abs(grid - supports[j][i]) == min(np.abs(grid - supports[j][i])))] = densities[j][i]\n",
    "    density_ext_list.append(density_ext)"
   ]
  },
  {
   "cell_type": "code",
   "execution_count": null,
   "metadata": {},
   "outputs": [],
   "source": [
    "density_ext_list = np.array(density_ext_list)\n",
    "np.save('density_dropout.npy', density_ext_list)"
   ]
  },
  {
   "cell_type": "code",
   "execution_count": null,
   "metadata": {},
   "outputs": [],
   "source": []
  },
  {
   "cell_type": "code",
   "execution_count": null,
   "metadata": {},
   "outputs": [],
   "source": [
    "grid = support\n",
    "dens = density_gauss\n",
    "def f_integral(i):\n",
    "    return(integrate.trapz(dens[i:(i+2)], grid[i:(i+2)]))\n",
    "with multiprocessing.Pool(20) as proc:\n",
    "        probs = proc.map(f_integral, np.array([i for i in range(0, grid.shape[0])]))\n",
    "cdf_true = np.cumsum(np.array(probs))"
   ]
  },
  {
   "cell_type": "code",
   "execution_count": null,
   "metadata": {},
   "outputs": [],
   "source": [
    "def f_integral(i):\n",
    "        return(integrate.trapz(mc_av_den[i:(i+2)], grid[i:(i+2)]))\n",
    "with multiprocessing.Pool(20) as proc:\n",
    "    probs = proc.map(f_integral, np.array([i for i in range(0, grid.shape[0])]))\n",
    "mc_cdf = np.cumsum(np.array(probs))"
   ]
  },
  {
   "cell_type": "code",
   "execution_count": null,
   "metadata": {},
   "outputs": [],
   "source": [
    "Gt = []\n",
    "for i in tqdm(grid):\n",
    "    Gt.append(sum(x <= i for x in true_y))\n",
    "Gt = np.array(Gt)/len(true_y)"
   ]
  },
  {
   "cell_type": "code",
   "execution_count": null,
   "metadata": {},
   "outputs": [],
   "source": [
    "fig = plt.figure(figsize=(7,5))\n",
    "ax = fig.add_subplot(111)\n",
    "ax.plot(grid, mc_cdf - Gt,  color = 'red', label = 'MC-Dropout', linestyle = '-.', linewidth = 1)\n",
    "#ax.plot(grid, va_ridge_cdf - Gt, color = 'orange', label = 'HMC/VA Ridge', linewidth = 1)\n",
    "#ax.plot(grid, hmc_horse_cdf - Gt,  color = 'blue', label = 'VA/Horseshoe', linestyle = '-.', linewidth = 1)\n",
    "#ax.plot(grid, hmc_ridge_cdf - Gt, color = 'green', linestyle= '--', label = 'HMC Horseshoe')\n",
    "ax.legend()\n",
    "plt.legend(framealpha=0.0)\n",
    "fig.tight_layout(rect=[0.05, 0, 1, 1])\n",
    "plt.xlabel('angle')\n",
    "plt.autoscale()\n",
    "plt.ylabel('average predictive CDF - empirical CDF')"
   ]
  },
  {
   "cell_type": "markdown",
   "metadata": {},
   "source": [
    "## Prediction Intervals"
   ]
  },
  {
   "cell_type": "code",
   "execution_count": null,
   "metadata": {},
   "outputs": [],
   "source": [
    "def confidence_intervals(alphas, cdf_is, true_y, grid):\n",
    "    all_conf_int = []\n",
    "    for alpha2 in tqdm(alphas):\n",
    "        confidence_intervals = []\n",
    "        alpha = 1- alpha2\n",
    "        i = 0\n",
    "        for cdf in cdf_is:\n",
    "            lb = max(grid[cdf <= alpha/2])\n",
    "            try:\n",
    "                ub = min(grid[cdf >= 1-alpha/2])\n",
    "            except: \n",
    "                print('error at index:' + str(i))\n",
    "                ub = max(support)\n",
    "            i += 1\n",
    "            confidence_intervals.append([lb, ub])\n",
    "        all_conf_int.append(confidence_intervals)\n",
    "    \n",
    "    # prediction interval width\n",
    "    conf_widths = []\n",
    "    for level in range(0, np.append(np.linspace(0.05, 0.95, 10), float(0.99)).shape[0]):  \n",
    "        conf_width = np.array([all_conf_int[level][i][1] - all_conf_int[level][i][0] for i in range(0, len(cdf_is))])\n",
    "        conf_widths.append(conf_width)\n",
    "    \n",
    "    coverage_rate = []\n",
    "    # prediction interval coverage rate\n",
    "    for i in range(0, np.append(np.linspace(0.05, 0.95, 10), float(0.99)).shape[0]):\n",
    "        confidence_intervals = all_conf_int[i]\n",
    "        in_interval = []\n",
    "        # loop over single PI \n",
    "        for i in range(0, len(true_y)):\n",
    "            conf_int = confidence_intervals[i]\n",
    "            if conf_int[0] <= true_y[i] <= conf_int[1]:\n",
    "                in_interval.append(1)\n",
    "            else:\n",
    "                in_interval.append(0)\n",
    "        mean_int = np.mean(in_interval)\n",
    "        coverage_rate.append(mean_int)\n",
    "    \n",
    "    return({'prediction_intervals': all_conf_int,\n",
    "            'pred_int_width': conf_widths, \n",
    "            'coverage_rate': coverage_rate})"
   ]
  },
  {
   "cell_type": "code",
   "execution_count": 5,
   "metadata": {},
   "outputs": [],
   "source": [
    "density_ext_list = np.load('density_dropout.npy')"
   ]
  },
  {
   "cell_type": "code",
   "execution_count": 6,
   "metadata": {},
   "outputs": [
    {
     "name": "stderr",
     "output_type": "stream",
     "text": [
      "100%|██████████| 10472/10472 [1:10:03<00:00,  2.49it/s]\n"
     ]
    }
   ],
   "source": [
    "j = 0\n",
    "cdf_mc_dropout = [] \n",
    "for supp in tqdm(density_ext_list):\n",
    "    dens = density_ext_list[j,:]\n",
    "    def f_integral(i):\n",
    "        return(integrate.trapz(dens[i:(i+2)], grid[i:(i+2)]))\n",
    "    with multiprocessing.Pool(20) as proc:\n",
    "        probs = proc.map(f_integral, np.array([i for i in range(0, grid.shape[0])]))\n",
    "    cdf_i = np.cumsum(np.array(probs))\n",
    "    cdf_mc_dropout.append(cdf_i)\n",
    "    j += 1"
   ]
  },
  {
   "cell_type": "code",
   "execution_count": 7,
   "metadata": {},
   "outputs": [],
   "source": [
    "np.save('../../../data/commaai/predictions/mc_dropout/cdf_is_mc_dropout.npy', np.array(cdf_mc_dropout))"
   ]
  },
  {
   "cell_type": "code",
   "execution_count": null,
   "metadata": {},
   "outputs": [],
   "source": [
    "cdf_mc_dropout = np.load('cdf_is_mc_dropout.npy')"
   ]
  },
  {
   "cell_type": "code",
   "execution_count": null,
   "metadata": {},
   "outputs": [],
   "source": [
    "cdf_mc_dropout = np.array(cdf_mc_dropout)"
   ]
  },
  {
   "cell_type": "code",
   "execution_count": null,
   "metadata": {},
   "outputs": [],
   "source": [
    "def confidence_intervals(alphas, cdf_is, true_y, grid):\n",
    "    all_conf_int = []\n",
    "    for alpha2 in tqdm(alphas):\n",
    "        confidence_intervals = []\n",
    "        alpha = 1- alpha2\n",
    "        i = 0\n",
    "        for cdf in cdf_is:\n",
    "            lb = max(grid[cdf <= alpha/2])\n",
    "            try:\n",
    "                ub = min(grid[cdf >= 1-alpha/2])\n",
    "            except: \n",
    "                print('error at index:' + str(i))\n",
    "                ub = max(grid)\n",
    "            i += 1\n",
    "            confidence_intervals.append([lb, ub])\n",
    "        all_conf_int.append(confidence_intervals)\n",
    "    \n",
    "    # prediction interval width\n",
    "    conf_widths = []\n",
    "    for level in range(0, np.linspace(0.05, 0.95, 10).shape[0]):  #np.append(, float(0.99)\n",
    "        conf_width = np.array([all_conf_int[level][i][1] - all_conf_int[level][i][0] for i in range(0, len(cdf_is))])\n",
    "        conf_widths.append(conf_width)\n",
    "    \n",
    "    coverage_rate = []\n",
    "    # prediction interval coverage rate\n",
    "    for i in range(0, np.linspace(0.05, 0.95, 10).shape[0]): #np.append(, float(0.99))\n",
    "        confidence_intervals = all_conf_int[i]\n",
    "        in_interval = []\n",
    "        # loop over single PI \n",
    "        for j in range(0, true_y.shape[0]):\n",
    "            conf_int = confidence_intervals[i]\n",
    "            if conf_int[0] <= true_y[j] <= conf_int[1]:\n",
    "                in_interval.append(1)\n",
    "            else:\n",
    "                in_interval.append(0)\n",
    "        mean_int = np.mean(in_interval)\n",
    "        coverage_rate.append(mean_int)\n",
    "    \n",
    "    return({'prediction_intervals': all_conf_int,\n",
    "            'pred_int_width': conf_widths, \n",
    "            'coverage_rate': coverage_rate})"
   ]
  },
  {
   "cell_type": "code",
   "execution_count": null,
   "metadata": {},
   "outputs": [],
   "source": [
    "alphas = np.linspace(0.05, 0.95, 10) #np.append(, float(0.99))\n",
    "cis = confidence_intervals(alphas, cdf_mc_dropout, true_y, grid)"
   ]
  },
  {
   "cell_type": "code",
   "execution_count": null,
   "metadata": {},
   "outputs": [],
   "source": [
    "levels = np.linspace(0.05, 0.95, 10) # np.append( , float(0.99)\n",
    "plt.plot(levels, levels - np.array(cis['coverage_rate']), linestyle = '-.', label = 'MC-Dropout', color = 'red')\n",
    "plt.xlabel((r'$1- \\alpha$'))\n",
    "plt.ylabel(r'$1- \\alpha$ - coverage rate')"
   ]
  },
  {
   "cell_type": "code",
   "execution_count": null,
   "metadata": {},
   "outputs": [],
   "source": [
    "np.array(cis['prediction_intervals']).shape"
   ]
  },
  {
   "cell_type": "code",
   "execution_count": null,
   "metadata": {},
   "outputs": [],
   "source": []
  }
 ],
 "metadata": {
  "kernelspec": {
   "display_name": "Python 3",
   "language": "python",
   "name": "python3"
  },
  "language_info": {
   "codemirror_mode": {
    "name": "ipython",
    "version": 3
   },
   "file_extension": ".py",
   "mimetype": "text/x-python",
   "name": "python",
   "nbconvert_exporter": "python",
   "pygments_lexer": "ipython3",
   "version": "3.8.5"
  }
 },
 "nbformat": 4,
 "nbformat_minor": 4
}
