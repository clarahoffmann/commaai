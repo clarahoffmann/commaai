{
 "cells": [
  {
   "cell_type": "code",
   "execution_count": 1,
   "metadata": {},
   "outputs": [],
   "source": [
    "import tensorflow as tf\n",
    "import numpy as np\n",
    "#from utils import build_model\n",
    "import pandas as pd\n",
    "from tqdm import tqdm\n",
    "import imageio\n",
    "import matplotlib.pyplot as plt\n",
    "import keras\n",
    "from keras.layers import Conv2D, Dropout, Flatten, Dense\n",
    "from keras.regularizers import l2\n",
    "import statsmodels.api as sm\n",
    "from utils import build_model, find_closest_element, Fy\n",
    "from scipy.stats import norm"
   ]
  },
  {
   "cell_type": "code",
   "execution_count": 20,
   "metadata": {},
   "outputs": [],
   "source": [
    "checkpoint_path = '../../../../data/models/mc_dropout_cil/export/'"
   ]
  },
  {
   "cell_type": "code",
   "execution_count": null,
   "metadata": {},
   "outputs": [],
   "source": [
    "model = build_model()\n",
    "model.load_weights(tf.train.latest_checkpoint(checkpoint_path))"
   ]
  },
  {
   "cell_type": "code",
   "execution_count": null,
   "metadata": {},
   "outputs": [],
   "source": [
    "# all training images and paths\n",
    "path_all_imgs = '../../../../commaai_code/02_write_shards_optional/cil_shards/df_paths.csv'\n",
    "all_img_df = pd.read_csv(path_all_imgs)\n",
    "all_img_df = all_img_df[np.abs(all_img_df['true_y']) < 40].reset_index()"
   ]
  },
  {
   "cell_type": "code",
   "execution_count": null,
   "metadata": {},
   "outputs": [],
   "source": [
    "# extract Bzetas by reading in images and predicting\n",
    "labels = []\n",
    "preds = []\n",
    "for i in tqdm(range(0,all_img_df.shape[0])): \n",
    "    img = imageio.imread(str(img_path_base + all_img_df.loc[i,'path']))[:,:,0:3]/255\n",
    "    pred = model.predict(img.reshape(1,66,200,3))\n",
    "    label = all_img_df.loc[i,'true_y']\n",
    "    labels.append(label)       \n",
    "    preds.append(pred)\n",
    "\n",
    "# rearrange to arrays\n",
    "labels = np.array(labels)\n",
    "preds = np.array(preds)"
   ]
  },
  {
   "cell_type": "code",
   "execution_count": null,
   "metadata": {},
   "outputs": [],
   "source": [
    "np.save('../../../../data/commaai/predictions/mc_dropout/y_preds_cil_no_mc.npy', preds)\n",
    "np.save('../../../../data/commaai/predictions/mc_dropout/y_labels_cil_no_mc.npy', labels)"
   ]
  },
  {
   "cell_type": "code",
   "execution_count": null,
   "metadata": {},
   "outputs": [],
   "source": [
    "np.mean((labels - preds.reshape(-1,))**2)"
   ]
  },
  {
   "cell_type": "code",
   "execution_count": null,
   "metadata": {},
   "outputs": [],
   "source": [
    "np.mean(np.abs((labels - preds.reshape(-1,))))"
   ]
  },
  {
   "cell_type": "code",
   "execution_count": null,
   "metadata": {},
   "outputs": [],
   "source": [
    "np.mean([(labels - preds.reshape(-1,)) <= 6])"
   ]
  },
  {
   "cell_type": "code",
   "execution_count": null,
   "metadata": {},
   "outputs": [],
   "source": [
    "np.mean([(labels - preds.reshape(-1,)) <= 2])"
   ]
  },
  {
   "cell_type": "code",
   "execution_count": null,
   "metadata": {},
   "outputs": [],
   "source": [
    "plt.scatter(labels, preds.reshape(-1,), alpha = 0.05)\n",
    "plt.plot([-40,40], [-40,40], color = 'red', alpha = 0.1)"
   ]
  },
  {
   "cell_type": "markdown",
   "metadata": {},
   "source": [
    "## MC-Dropout"
   ]
  },
  {
   "cell_type": "code",
   "execution_count": 9,
   "metadata": {},
   "outputs": [],
   "source": [
    "mc_preds = np.append(np.load('../../../../data/commaai/predictions/mc_dropout/mc_preds_cil_y_1.npy'),\n",
    "          np.load('../../../../data/commaai/predictions/mc_dropout/mc_preds_cil_y_2.npy')).reshape(-1,1000)"
   ]
  },
  {
   "cell_type": "code",
   "execution_count": 10,
   "metadata": {},
   "outputs": [],
   "source": [
    "preds_mc_y = np.mean(mc_preds, axis = 1)"
   ]
  },
  {
   "cell_type": "code",
   "execution_count": 17,
   "metadata": {},
   "outputs": [],
   "source": [
    "labels = np.load('../../../../data/commaai/predictions/mc_dropout/y_labels_cil.npy')\n",
    "preds = np.load('../../../../data/commaai/predictions/mc_dropout/y_preds_cil.npy' )"
   ]
  },
  {
   "cell_type": "code",
   "execution_count": 12,
   "metadata": {},
   "outputs": [],
   "source": [
    "preds_mc_y = preds_mc_y.reshape(94570,)"
   ]
  },
  {
   "cell_type": "code",
   "execution_count": 14,
   "metadata": {},
   "outputs": [
    {
     "data": {
      "text/plain": [
       "(array([1.0000e+00, 0.0000e+00, 0.0000e+00, 0.0000e+00, 0.0000e+00,\n",
       "        0.0000e+00, 0.0000e+00, 0.0000e+00, 1.0000e+00, 1.0000e+00,\n",
       "        0.0000e+00, 2.0000e+00, 0.0000e+00, 2.0000e+00, 3.0000e+00,\n",
       "        4.0000e+00, 5.0000e+00, 4.0000e+00, 9.0000e+00, 2.0000e+00,\n",
       "        8.0000e+00, 1.2000e+01, 1.5000e+01, 2.0000e+01, 3.7000e+01,\n",
       "        2.2000e+01, 2.1000e+01, 2.2000e+01, 2.6000e+01, 2.0000e+01,\n",
       "        2.3000e+01, 3.3000e+01, 3.7000e+01, 5.3000e+01, 6.4000e+01,\n",
       "        8.4000e+01, 1.8900e+02, 4.5700e+02, 7.9400e+02, 1.2200e+03,\n",
       "        1.4950e+03, 1.6130e+03, 1.5410e+03, 1.7600e+03, 2.2130e+03,\n",
       "        2.3570e+03, 2.5580e+03, 3.4390e+03, 6.1450e+03, 1.1537e+04,\n",
       "        1.6288e+04, 1.4570e+04, 7.4500e+03, 3.7480e+03, 2.6590e+03,\n",
       "        2.4190e+03, 1.9540e+03, 1.7110e+03, 1.6340e+03, 1.5570e+03,\n",
       "        1.1650e+03, 6.2000e+02, 2.7700e+02, 1.4900e+02, 1.1000e+02,\n",
       "        7.9000e+01, 5.7000e+01, 5.0000e+01, 5.3000e+01, 2.5000e+01,\n",
       "        3.5000e+01, 2.7000e+01, 2.4000e+01, 1.0000e+01, 1.0000e+01,\n",
       "        1.0000e+01, 3.0000e+00, 8.0000e+00, 2.0000e+00, 2.0000e+00,\n",
       "        2.0000e+00, 1.0000e+00, 3.0000e+00, 1.0000e+00, 1.0000e+00,\n",
       "        2.0000e+00, 1.0000e+00, 1.0000e+00, 0.0000e+00, 1.0000e+00,\n",
       "        1.0000e+00, 0.0000e+00, 0.0000e+00, 0.0000e+00, 0.0000e+00,\n",
       "        0.0000e+00, 0.0000e+00, 0.0000e+00, 0.0000e+00, 1.0000e+00]),\n",
       " array([-27.183039  , -26.64613   , -26.10922   , -25.572311  ,\n",
       "        -25.035404  , -24.498495  , -23.961586  , -23.424677  ,\n",
       "        -22.887768  , -22.350859  , -21.81395   , -21.277042  ,\n",
       "        -20.740133  , -20.203224  , -19.666315  , -19.129406  ,\n",
       "        -18.592497  , -18.05559   , -17.51868   , -16.981771  ,\n",
       "        -16.444862  , -15.907953  , -15.371045  , -14.834136  ,\n",
       "        -14.297227  , -13.760319  , -13.22341   , -12.686501  ,\n",
       "        -12.149591  , -11.612683  , -11.075774  , -10.538865  ,\n",
       "        -10.001957  ,  -9.465048  ,  -8.928139  ,  -8.39123   ,\n",
       "         -7.8543215 ,  -7.3174124 ,  -6.7805037 ,  -6.2435946 ,\n",
       "         -5.706686  ,  -5.1697774 ,  -4.6328683 ,  -4.0959597 ,\n",
       "         -3.5590508 ,  -3.022142  ,  -2.485233  ,  -1.9483243 ,\n",
       "         -1.4114155 ,  -0.87450665,  -0.33759785,   0.19931097,\n",
       "          0.73621976,   1.2731286 ,   1.8100374 ,   2.3469462 ,\n",
       "          2.883855  ,   3.420764  ,   3.9576726 ,   4.4945817 ,\n",
       "          5.0314903 ,   5.568399  ,   6.105308  ,   6.6422167 ,\n",
       "          7.179126  ,   7.7160344 ,   8.252943  ,   8.789852  ,\n",
       "          9.326761  ,   9.863669  ,  10.4005785 ,  10.937488  ,\n",
       "         11.474396  ,  12.011305  ,  12.548214  ,  13.085123  ,\n",
       "         13.622031  ,  14.15894   ,  14.695849  ,  15.232758  ,\n",
       "         15.769667  ,  16.306576  ,  16.843485  ,  17.380394  ,\n",
       "         17.917301  ,  18.45421   ,  18.99112   ,  19.528028  ,\n",
       "         20.064938  ,  20.601847  ,  21.138754  ,  21.675663  ,\n",
       "         22.212572  ,  22.749481  ,  23.28639   ,  23.8233    ,\n",
       "         24.360209  ,  24.897116  ,  25.434025  ,  25.970934  ,\n",
       "         26.507843  ], dtype=float32),\n",
       " <BarContainer object of 100 artists>)"
      ]
     },
     "execution_count": 14,
     "metadata": {},
     "output_type": "execute_result"
    },
    {
     "data": {
      "image/png": "[encoded data removed]",
      "text/plain": [
       "<Figure size 432x288 with 1 Axes>"
      ]
     },
     "metadata": {
      "needs_background": "light"
     },
     "output_type": "display_data"
    }
   ],
   "source": [
    "plt.hist(preds_mc_y.reshape(94570,), bins = 100)"
   ]
  },
  {
   "cell_type": "code",
   "execution_count": 15,
   "metadata": {},
   "outputs": [
    {
     "data": {
      "text/plain": [
       "[<matplotlib.lines.Line2D at 0x7f101056c970>]"
      ]
     },
     "execution_count": 15,
     "metadata": {},
     "output_type": "execute_result"
    },
    {
     "data": {
      "image/png": "[encoded data removed]",
      "text/plain": [
       "<Figure size 432x288 with 1 Axes>"
      ]
     },
     "metadata": {
      "needs_background": "light"
     },
     "output_type": "display_data"
    }
   ],
   "source": [
    "plt.scatter(labels, preds_mc_y, alpha = 0.1)\n",
    "plt.plot([-3,3], [-3,3], color = 'red', alpha = 0.2)"
   ]
  },
  {
   "cell_type": "code",
   "execution_count": 18,
   "metadata": {},
   "outputs": [
    {
     "name": "stdout",
     "output_type": "stream",
     "text": [
      "Performance of models without and with uncertainty\n",
      "MSE:\n",
      "without uncertainty: 10.03036493888901\n",
      "with uncertainty: 9.425808919101128\n",
      "MAE:\n",
      "without uncertainty: 1.6378203449922153\n",
      "with uncertainty: 1.6014528043756997\n",
      "Accuracy :\n",
      "without uncertainty: 0.9531140953790843\n",
      "with uncertainty: 0.9565929998942582\n",
      "Accuracy II:\n",
      "without uncertainty: 0.7851432801099715\n",
      "with uncertainty: 0.8911599873109866\n"
     ]
    }
   ],
   "source": [
    "print(\"Performance of models without and with uncertainty\" +\n",
    "     \"\\nMSE:\" +\n",
    "      \"\\nwithout uncertainty: \" + str(np.mean((labels - preds.reshape(94570,))**2)) +\n",
    "      \"\\nwith uncertainty: \" + str(np.mean((labels - preds_mc_y.reshape(94570,))**2)) +\n",
    "      \"\\nMAE:\" +\n",
    "      \"\\nwithout uncertainty: \" + str(np.mean(np.abs(labels - preds.reshape(94570,)))) +\n",
    "      \"\\nwith uncertainty: \" + str(np.mean(np.abs(labels - preds_mc_y.reshape(94570,)))) +\n",
    "      \"\\nAccuracy :\" +\n",
    "      \"\\nwithout uncertainty: \" + str(np.mean([np.abs((labels - preds.reshape(94570,))) <= 6])) +\n",
    "      \"\\nwith uncertainty: \" + str(np.mean([np.abs((labels - preds_mc_y.reshape(94570,))) <= 6])) +\n",
    "      \"\\nAccuracy II:\" +\n",
    "      \"\\nwithout uncertainty: \" + str(np.mean([np.abs((labels - preds.reshape(94570,))) <= 2])) +\n",
    "      \"\\nwith uncertainty: \" + str(np.mean([(labels - preds_mc_y.reshape(94570,)) <= 2])) \n",
    "     )"
   ]
  },
  {
   "cell_type": "code",
   "execution_count": null,
   "metadata": {},
   "outputs": [],
   "source": [
    "plt.scatter(preds_l, preds_mc_y , alpha = 0.2)"
   ]
  },
  {
   "cell_type": "code",
   "execution_count": null,
   "metadata": {},
   "outputs": [],
   "source": [
    "np.mean((preds_l.reshape(94570,) - preds_mc_z.reshape(94570,))**2)"
   ]
  },
  {
   "cell_type": "code",
   "execution_count": null,
   "metadata": {},
   "outputs": [],
   "source": [
    "plt.scatter(labels, preds, alpha = 0.1)"
   ]
  },
  {
   "cell_type": "code",
   "execution_count": null,
   "metadata": {},
   "outputs": [],
   "source": [
    "labels = np.array(labels)\n",
    "preds = np.array(preds)"
   ]
  },
  {
   "cell_type": "code",
   "execution_count": null,
   "metadata": {},
   "outputs": [],
   "source": []
  }
 ],
 "metadata": {
  "kernelspec": {
   "display_name": "Python 3",
   "language": "python",
   "name": "python3"
  },
  "language_info": {
   "codemirror_mode": {
    "name": "ipython",
    "version": 3
   },
   "file_extension": ".py",
   "mimetype": "text/x-python",
   "name": "python",
   "nbconvert_exporter": "python",
   "pygments_lexer": "ipython3",
   "version": "3.8.5"
  }
 },
 "nbformat": 4,
 "nbformat_minor": 4
}
