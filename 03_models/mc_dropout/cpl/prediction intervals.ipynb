{
 "cells": [
  {
   "cell_type": "code",
   "execution_count": null,
   "metadata": {},
   "outputs": [],
   "source": [
    "import numpy as np\n",
    "import statsmodels.api as sm\n",
    "from tqdm import tqdm\n",
    "import matplotlib.pyplot as plt\n",
    "import multiprocessing\n",
    "from scipy import integrate\n",
    "import pandas as pd\n",
    "from helpers import confidence_intervals\n",
    "import ray\n",
    "ray.init()"
   ]
  },
  {
   "cell_type": "code",
   "execution_count": null,
   "metadata": {},
   "outputs": [],
   "source": [
    "mc_preds = np.append(np.load('../../../../data/commaai/predictions/mc_dropout/mc_preds_2.npy'), \n",
    "                     np.load('../../../../data/commaai/predictions/mc_dropout/mc_preds_1.npy'), axis = 0)"
   ]
  },
  {
   "cell_type": "code",
   "execution_count": null,
   "metadata": {},
   "outputs": [],
   "source": [
    "# read in val data\n",
    "true_y = np.load('../../../../data/commaai/extracted_coefficients/copula_cil/Bzeta/labels_val.npy')\n",
    "\n",
    "density_path = '../../../../data/commaai/density/gaussian_density_filtered.csv'\n",
    "density = pd.read_csv(density_path)"
   ]
  },
  {
   "cell_type": "code",
   "execution_count": null,
   "metadata": {},
   "outputs": [],
   "source": [
    "densities = []\n",
    "supports = []\n",
    "for i in tqdm(range(0, mc_preds.shape[0])):\n",
    "    kde = sm.nonparametric.KDEUnivariate(mc_preds[i,:,:])\n",
    "    kde.fit() # Estimate the densities\n",
    "    support = kde.support\n",
    "    endog = kde.endog\n",
    "    density = kde.density\n",
    "    supports.append(support)\n",
    "    densities.append(density) "
   ]
  },
  {
   "cell_type": "markdown",
   "metadata": {},
   "source": [
    "# get extended densities"
   ]
  },
  {
   "cell_type": "code",
   "execution_count": null,
   "metadata": {},
   "outputs": [],
   "source": [
    "no_points = 750\n",
    "grid = np.linspace(min(density['axes']), max(density['axes']), int(no_points))"
   ]
  },
  {
   "cell_type": "code",
   "execution_count": null,
   "metadata": {},
   "outputs": [],
   "source": [
    "density_ext_list = []\n",
    "density_ext = np.array(np.repeat(0, 750), dtype=float)\n",
    "for j in tqdm(range(0, len(densities))):\n",
    "    density_ext = np.array(np.repeat(0, 750), dtype=float)\n",
    "    for i in range(0, supports[j].shape[0]):\n",
    "        density_ext[np.where(np.abs(grid - supports[j][i]) == min(np.abs(grid - supports[j][i])))] = densities[j][i]\n",
    "    density_ext_list.append(density_ext)"
   ]
  },
  {
   "cell_type": "code",
   "execution_count": null,
   "metadata": {},
   "outputs": [],
   "source": [
    "density_ext_list = np.array(density_ext_list)\n",
    "np.save('density_dropout.npy', density_ext_list)"
   ]
  },
  {
   "cell_type": "code",
   "execution_count": null,
   "metadata": {},
   "outputs": [],
   "source": [
    "density_ext_list = np.load('density_dropout.npy')"
   ]
  },
  {
   "cell_type": "code",
   "execution_count": null,
   "metadata": {},
   "outputs": [],
   "source": [
    "j = 0\n",
    "cdf_mc_dropout = [] \n",
    "for supp in tqdm(density_ext_list):\n",
    "    dens = density_ext_list[j,:]\n",
    "    def f_integral(i):\n",
    "        return(integrate.trapz(dens[i:(i+2)], grid[i:(i+2)]))\n",
    "    with multiprocessing.Pool(20) as proc:\n",
    "        probs = proc.map(f_integral, np.array([i for i in range(0, grid.shape[0])]))\n",
    "    cdf_i = np.cumsum(np.array(probs))\n",
    "    cdf_mc_dropout.append(cdf_i)\n",
    "    j += 1"
   ]
  },
  {
   "cell_type": "code",
   "execution_count": null,
   "metadata": {},
   "outputs": [],
   "source": [
    "np.save('../../../../data/commaai/predictions/mc_dropout/cdf_is_mc_dropout.npy', np.array(cdf_mc_dropout))"
   ]
  },
  {
   "cell_type": "code",
   "execution_count": null,
   "metadata": {},
   "outputs": [],
   "source": [
    "x = np.load('../../../../data/commaai/predictions/mc_dropout/cdf_is_mc_dropout.npy')"
   ]
  },
  {
   "cell_type": "code",
   "execution_count": null,
   "metadata": {},
   "outputs": [],
   "source": [
    "plt.scatter()"
   ]
  },
  {
   "cell_type": "code",
   "execution_count": null,
   "metadata": {},
   "outputs": [],
   "source": [
    "alphas = np.linspace(0.05, 0.95, 10) #np.append(, float(0.99))\n",
    "cis = confidence_intervals(alphas, cdf_mc_dropout, true_y, grid)"
   ]
  },
  {
   "cell_type": "code",
   "execution_count": null,
   "metadata": {},
   "outputs": [],
   "source": [
    "levels = np.linspace(0.05, 0.95, 10) # np.append( , float(0.99)\n",
    "plt.plot(levels, levels - np.array(cis['coverage_rate']), linestyle = '-.', label = 'MC-Dropout', color = 'red')\n",
    "plt.xlabel((r'$1- \\alpha$'))\n",
    "plt.ylabel(r'$1- \\alpha$ - coverage rate')"
   ]
  },
  {
   "cell_type": "code",
   "execution_count": null,
   "metadata": {},
   "outputs": [],
   "source": [
    "np.array(cis['prediction_intervals']).shape"
   ]
  },
  {
   "cell_type": "code",
   "execution_count": null,
   "metadata": {},
   "outputs": [],
   "source": []
  }
 ],
 "metadata": {
  "kernelspec": {
   "display_name": "Python 3",
   "language": "python",
   "name": "python3"
  },
  "language_info": {
   "codemirror_mode": {
    "name": "ipython",
    "version": 3
   },
   "file_extension": ".py",
   "mimetype": "text/x-python",
   "name": "python",
   "nbconvert_exporter": "python",
   "pygments_lexer": "ipython3",
   "version": "3.8.5"
  }
 },
 "nbformat": 4,
 "nbformat_minor": 4
}
