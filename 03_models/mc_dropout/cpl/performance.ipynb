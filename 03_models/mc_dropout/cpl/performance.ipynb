{
 "cells": [
  {
   "cell_type": "code",
   "execution_count": 1,
   "metadata": {},
   "outputs": [
    {
     "name": "stderr",
     "output_type": "stream",
     "text": [
      "/usr/lib/python3/dist-packages/requests/__init__.py:89: RequestsDependencyWarning: urllib3 (1.26.4) or chardet (3.0.4) doesn't match a supported version!\n",
      "  warnings.warn(\"urllib3 ({}) or chardet ({}) doesn't match a supported \"\n"
     ]
    }
   ],
   "source": [
    "import tensorflow as tf\n",
    "import numpy as np\n",
    "#from utils import build_model\n",
    "import pandas as pd\n",
    "from tqdm import tqdm\n",
    "import imageio\n",
    "import matplotlib.pyplot as plt\n",
    "import keras\n",
    "from keras.layers import Conv2D, Dropout, Flatten, Dense\n",
    "from keras.regularizers import l2\n",
    "import statsmodels.api as sm\n",
    "from utils import build_model"
   ]
  },
  {
   "cell_type": "code",
   "execution_count": 2,
   "metadata": {},
   "outputs": [],
   "source": [
    "checkpoint_path = '../../../../data/models/mc_dropout_cpl/export/'"
   ]
  },
  {
   "cell_type": "code",
   "execution_count": 3,
   "metadata": {},
   "outputs": [
    {
     "data": {
      "text/plain": [
       "<tensorflow.python.training.tracking.util.CheckpointLoadStatus at 0x7f28d859a790>"
      ]
     },
     "execution_count": 3,
     "metadata": {},
     "output_type": "execute_result"
    }
   ],
   "source": [
    "model = build_model()\n",
    "model.load_weights(tf.train.latest_checkpoint(checkpoint_path))"
   ]
  },
  {
   "cell_type": "code",
   "execution_count": 4,
   "metadata": {},
   "outputs": [],
   "source": [
    "path_all_imgs = '../../../../data/commaai/training_files_filtered/indices/val_indices.csv'\n",
    "all_img_df = pd.read_csv(path_all_imgs)\n",
    "img_path_base = '../../../../data/commaai/train_bags_2/'\n",
    "density_path = '../../../../data/commaai/density/gaussian_density_filtered.csv'\n",
    "density = pd.read_csv(density_path)"
   ]
  },
  {
   "cell_type": "code",
   "execution_count": 5,
   "metadata": {},
   "outputs": [
    {
     "name": "stderr",
     "output_type": "stream",
     "text": [
      "100%|██████████| 10472/10472 [17:57<00:00,  9.72it/s]\n"
     ]
    }
   ],
   "source": [
    "# extract Bzetas by reading in images and predicting\n",
    "labels = []\n",
    "preds = []\n",
    "for i in tqdm(range(0,all_img_df.shape[0])): \n",
    "    img = imageio.imread(str(img_path_base + all_img_df.loc[i,'path']))[:,:,0:3]/255\n",
    "    pred = model.predict(img.reshape(1,66,200,3))\n",
    "    label = all_img_df.loc[i,'angle']\n",
    "    labels.append(label)       \n",
    "    preds.append(pred)\n",
    "\n",
    "# rearrange to arrays\n",
    "labels = np.array(labels)\n",
    "preds = np.array(preds)"
   ]
  },
  {
   "cell_type": "code",
   "execution_count": 6,
   "metadata": {},
   "outputs": [],
   "source": [
    "np.save('preds.npy', preds)\n",
    "np.save('labels.npy', labels)"
   ]
  },
  {
   "cell_type": "code",
   "execution_count": null,
   "metadata": {},
   "outputs": [],
   "source": [
    "np.save('preds.npy', preds)\n",
    "np.save('labels.npy', labels)"
   ]
  },
  {
   "cell_type": "code",
   "execution_count": 22,
   "metadata": {},
   "outputs": [],
   "source": [
    "np.save('../../../../data/commaai/predictions/no_mc_cpl_preds.npy', preds)"
   ]
  },
  {
   "cell_type": "markdown",
   "metadata": {},
   "source": [
    "## MC-Dropout"
   ]
  },
  {
   "cell_type": "code",
   "execution_count": 12,
   "metadata": {},
   "outputs": [],
   "source": [
    "preds_samp = np.load('mc_preds.npy')\n",
    "preds = np.load('preds.npy')\n",
    "labels = np.load('labels.npy')"
   ]
  },
  {
   "cell_type": "code",
   "execution_count": 19,
   "metadata": {},
   "outputs": [],
   "source": [
    "preds_1 = np.append(np.load('../../../../data/commaai/predictions/mc_dropout/mc_preds_2.npy'), \n",
    "                  np.load('../../../../data/commaai/predictions/mc_dropout/mc_preds_1.npy'), axis = 0)\n",
    "preds_mc = np.mean(preds_1, axis = 1)"
   ]
  },
  {
   "cell_type": "code",
   "execution_count": 14,
   "metadata": {},
   "outputs": [],
   "source": [
    "preds_mc = np.mean(preds_samp, axis = 1)"
   ]
  },
  {
   "cell_type": "code",
   "execution_count": 21,
   "metadata": {},
   "outputs": [
    {
     "name": "stdout",
     "output_type": "stream",
     "text": [
      "Performance of models without and with uncertainty\n",
      "MSE:\n",
      "without uncertainty: 6.43083988934527\n",
      "with uncertainty: 6.3471034626787475\n",
      "MAE:\n",
      "without uncertainty: 1.4190459962387845\n",
      "with uncertainty: 1.4046055209861767\n",
      "Accuracy :\n",
      "without uncertainty: 0.9818563789152025\n",
      "with uncertainty: 0.9836707410236822\n",
      "Accuracy II:\n",
      "without uncertainty: 0.7961229946524064\n",
      "with uncertainty: 0.8008021390374331\n",
      "Accuracy III:\n",
      "without uncertainty: 0.5292207792207793\n",
      "with uncertainty: 0.5313216195569137\n",
      "Accuracy IV:\n",
      "without uncertainty: 0.29258976317799845\n",
      "with uncertainty: 0.29383116883116883\n"
     ]
    }
   ],
   "source": [
    "print(\"Performance of models without and with uncertainty\" +\n",
    "     \"\\nMSE:\" +\n",
    "      \"\\nwithout uncertainty: \" + str(np.mean((labels - preds.reshape(10472,))**2)) +\n",
    "      \"\\nwith uncertainty: \" + str(np.mean((labels - preds_mc.reshape(10472,))**2)) +\n",
    "      \"\\nMAE:\" +\n",
    "      \"\\nwithout uncertainty: \" + str(np.mean(np.abs(labels - preds.reshape(10472,)))) +\n",
    "      \"\\nwith uncertainty: \" + str(np.mean(np.abs(labels - preds_mc.reshape(10472,)))) +\n",
    "      \"\\nAccuracy :\" +\n",
    "      \"\\nwithout uncertainty: \" + str(np.mean([np.abs((labels - preds.reshape(10472,))) <= 6])) +\n",
    "      \"\\nwith uncertainty: \" + str(np.mean([np.abs((labels - preds_mc.reshape(10472,))) <= 6])) +\n",
    "      \"\\nAccuracy II:\" +\n",
    "      \"\\nwithout uncertainty: \" + str(np.mean([np.abs((labels - preds.reshape(10472,))) <= 2])) +\n",
    "      \"\\nwith uncertainty: \" + str(np.mean([np.abs((labels - preds_mc.reshape(10472,))) <= 2])) +\n",
    "      \"\\nAccuracy III:\" +\n",
    "      \"\\nwithout uncertainty: \" + str(np.mean([np.abs((labels - preds.reshape(10472,))) <= 1])) +\n",
    "      \"\\nwith uncertainty: \" + str(np.mean([np.abs((labels - preds_mc.reshape(10472,))) <= 1])) +\n",
    "      \"\\nAccuracy IV:\" +\n",
    "      \"\\nwithout uncertainty: \" + str(np.mean([np.abs((labels - preds.reshape(10472,))) <= .5])) +\n",
    "      \"\\nwith uncertainty: \" + str(np.mean([np.abs((labels - preds_mc.reshape(10472,))) <= .5])) \n",
    "     )"
   ]
  },
  {
   "cell_type": "code",
   "execution_count": null,
   "metadata": {},
   "outputs": [],
   "source": [
    "imgs = []\n",
    "labels = []\n",
    "for i in tqdm(range(0,all_img_df.shape[0])): \n",
    "    img = imageio.imread(str(img_path_base + all_img_df.loc[i,'path']))[:,:,0:3]/255\n",
    "    imgs.append(img)\n",
    "    label = all_img_df.loc[i,'angle']\n",
    "    labels.append(label) \n",
    "imgs = np.array(imgs)"
   ]
  },
  {
   "cell_type": "code",
   "execution_count": null,
   "metadata": {},
   "outputs": [],
   "source": [
    "mc_samples = 1000\n",
    "preds = []\n",
    "for i in tqdm(range(0, imgs.shape[0])):\n",
    "    x_pred = np.repeat(imgs[i, :,:,:], mc_samples, axis = 0)\n",
    "    pred = model.predict(x_pred.reshape(-1,66,200,3))\n",
    "    preds.append(pred)\n",
    "preds = np.array(preds)"
   ]
  },
  {
   "cell_type": "code",
   "execution_count": null,
   "metadata": {},
   "outputs": [],
   "source": [
    "np.save('mc_preds.npy', np.array(preds))"
   ]
  },
  {
   "cell_type": "code",
   "execution_count": null,
   "metadata": {},
   "outputs": [],
   "source": [
    "preds = np.load('mc_preds.npy')"
   ]
  },
  {
   "cell_type": "code",
   "execution_count": null,
   "metadata": {},
   "outputs": [],
   "source": [
    "preds = np.array(preds)"
   ]
  },
  {
   "cell_type": "code",
   "execution_count": null,
   "metadata": {},
   "outputs": [],
   "source": [
    "mc_pred = np.mean(preds, axis = 1)"
   ]
  },
  {
   "cell_type": "code",
   "execution_count": null,
   "metadata": {},
   "outputs": [],
   "source": [
    "import numpy as np"
   ]
  },
  {
   "cell_type": "code",
   "execution_count": null,
   "metadata": {},
   "outputs": [],
   "source": [
    "np.mean(np.abs((labels - mc_pred)))"
   ]
  },
  {
   "cell_type": "code",
   "execution_count": null,
   "metadata": {},
   "outputs": [],
   "source": [
    "preds.shape"
   ]
  },
  {
   "cell_type": "code",
   "execution_count": null,
   "metadata": {},
   "outputs": [],
   "source": [
    "x_pred"
   ]
  },
  {
   "cell_type": "code",
   "execution_count": null,
   "metadata": {},
   "outputs": [],
   "source": [
    "import matplotlib.pyplot as plt"
   ]
  },
  {
   "cell_type": "code",
   "execution_count": null,
   "metadata": {},
   "outputs": [],
   "source": [
    "plt.scatter(labels, mc_pred, alpha = 0.1)"
   ]
  },
  {
   "cell_type": "code",
   "execution_count": null,
   "metadata": {},
   "outputs": [],
   "source": [
    "for pred in preds:\n",
    "    sns.kdeplot(np.array(pred).reshape(1000,), bw=0.5)"
   ]
  },
  {
   "cell_type": "code",
   "execution_count": null,
   "metadata": {},
   "outputs": [],
   "source": [
    "# Estimate densities\n",
    "kde = sm.nonparametric.KDEUnivariate(preds)\n",
    "kde.fit() # Estimate the densities\n",
    "support = kde.support\n",
    "endog = kde.endog\n",
    "density = kde.density"
   ]
  },
  {
   "cell_type": "code",
   "execution_count": null,
   "metadata": {},
   "outputs": [],
   "source": [
    "plt.plot(support, density)"
   ]
  },
  {
   "cell_type": "code",
   "execution_count": null,
   "metadata": {},
   "outputs": [],
   "source": []
  }
 ],
 "metadata": {
  "kernelspec": {
   "display_name": "Python 3",
   "language": "python",
   "name": "python3"
  },
  "language_info": {
   "codemirror_mode": {
    "name": "ipython",
    "version": 3
   },
   "file_extension": ".py",
   "mimetype": "text/x-python",
   "name": "python",
   "nbconvert_exporter": "python",
   "pygments_lexer": "ipython3",
   "version": "3.8.10"
  }
 },
 "nbformat": 4,
 "nbformat_minor": 4
}
