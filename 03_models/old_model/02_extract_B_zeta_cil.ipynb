{
 "cells": [
  {
   "cell_type": "code",
   "execution_count": 1,
   "metadata": {},
   "outputs": [],
   "source": [
    "# load packages\n",
    "import os\n",
    "import glob\n",
    "import pandas as pd\n",
    "import tensorflow as tf\n",
    "import numpy as np\n",
    "from tensorflow import keras\n",
    "from keras import backend\n",
    "from keras.layers import Dense, Conv2D, MaxPooling2D, Dropout, Flatten, BatchNormalization\n",
    "import matplotlib.pyplot as plt\n",
    "from tqdm import tqdm\n",
    "from sklearn.metrics import mean_squared_error\n",
    "from math import sqrt\n",
    "from tqdm import tqdm\n",
    "import matplotlib.pyplot as plt\n",
    "from scipy.stats import norm\n",
    "import imageio\n",
    "import cv2\n",
    "import multiprocessing\n",
    "from utils import find_closest_element, Fy"
   ]
  },
  {
   "cell_type": "markdown",
   "metadata": {},
   "source": [
    "## 0. Set Paths"
   ]
  },
  {
   "cell_type": "code",
   "execution_count": null,
   "metadata": {},
   "outputs": [],
   "source": [
    "# path of model checkpoints\n",
    "checkpoint_path = '../../../data/models/20201021_unrestr_gaussian_resampled/'\n",
    "shard_path = '../../../data/commaai/training_files/unrestricted_gauss_dens_resampled'\n",
    "shard_files = glob.glob(os.path.join(shard_path, \"*.tfrecords\")) \n",
    "extracted_coefficients_directory_beta = '../../../data/commaai/extracted_coefficients/20201021_unrestr_gaussian_resampled/beta/'\n",
    "extracted_coefficients_directory_Bzeta = '../../../data/commaai/extracted_coefficients/20201021_unrestr_gaussian_resampled/Bzeta/'"
   ]
  },
  {
   "cell_type": "markdown",
   "metadata": {},
   "source": [
    "## 1. Obtain coefficients of last layer $\\beta$ "
   ]
  },
  {
   "cell_type": "code",
   "execution_count": null,
   "metadata": {},
   "outputs": [],
   "source": [
    "# define model and load weights from training\n",
    "Input = tf.keras.layers.Input(shape=(66, 200, 3,), name='image')\n",
    "x = Conv2D(24, kernel_size=(5, 5), activation='relu', strides=(2, 2))(Input)\n",
    "x = BatchNormalization()(x)\n",
    "x = Conv2D(36, kernel_size=(5, 5), activation='relu', strides=(2, 2))(x)\n",
    "x = BatchNormalization()(x)\n",
    "x = Conv2D(48, kernel_size=(5, 5), activation='relu', strides=(2, 2))(x)\n",
    "x = BatchNormalization()(x)\n",
    "x = Conv2D(64, kernel_size=(3, 3), activation='relu')(x)\n",
    "x = BatchNormalization()(x)\n",
    "x = Conv2D(64, kernel_size=(3, 3), activation='relu')(x)\n",
    "#x = BatchNormalization()(x)\n",
    "x = Flatten()(x)\n",
    "x = Dropout(0.5)(x)\n",
    "x = Dense(1164)(x)\n",
    "x = Dropout(0.5)(x)\n",
    "x = Dense(100)(x)\n",
    "x = Dropout(0.5)(x)\n",
    "x = Dense(50)(x) \n",
    "x = Dropout(0.2)(x)\n",
    "x = Dense(10)(x)\n",
    "Output = Dense(1, name = 'output_layer')(x)\n",
    "\n",
    "keras_model = tf.keras.models.Model(\n",
    "      inputs = [Input], outputs = [Output])\n",
    "\n",
    "# load weights\n",
    "keras_model.load_weights(tf.train.latest_checkpoint(checkpoint_path)) # tf.train.latest_checkpoint(checkpoint_path)"
   ]
  },
  {
   "cell_type": "code",
   "execution_count": null,
   "metadata": {},
   "outputs": [],
   "source": [
    "# get coefficients of last layer\n",
    "i = 0\n",
    "for layer in keras_model.layers: \n",
    "    i += 1\n",
    "    if i == 20:\n",
    "        beta = layer.get_weights()\n",
    "        print(layer.get_config()) #, layer.get_weights()"
   ]
  },
  {
   "cell_type": "code",
   "execution_count": null,
   "metadata": {},
   "outputs": [],
   "source": [
    "# print coefficients\n",
    "beta"
   ]
  },
  {
   "cell_type": "code",
   "execution_count": null,
   "metadata": {},
   "outputs": [],
   "source": [
    "# last element of beta is bias, exclude this \n",
    "# since copulas are location free -> beta_0 = 0\n",
    "beta_coeff = beta[0]\n",
    "# save\n",
    "np.savetxt(str(extracted_coefficients_directory_beta +\"beta.csv\"), beta_coeff, delimiter=\",\")"
   ]
  },
  {
   "cell_type": "markdown",
   "metadata": {},
   "source": [
    "## 2. Get basis functions $B_{\\zeta}$ of original data distribution"
   ]
  },
  {
   "cell_type": "markdown",
   "metadata": {},
   "source": [
    "Model for basis functions"
   ]
  },
  {
   "cell_type": "code",
   "execution_count": null,
   "metadata": {},
   "outputs": [],
   "source": [
    "# keras model for basis functions B_zeta\n",
    "Input = tf.keras.layers.Input(shape=(66, 200, 3,), name='image')\n",
    "x = Conv2D(24, kernel_size=(5, 5), activation='relu', strides=(2, 2))(Input)\n",
    "x = BatchNormalization()(x)\n",
    "x = Conv2D(36, kernel_size=(5, 5), activation='relu', strides=(2, 2))(x)\n",
    "x = BatchNormalization()(x)\n",
    "x = Conv2D(48, kernel_size=(5, 5), activation='relu', strides=(2, 2))(x)\n",
    "x = BatchNormalization()(x)\n",
    "x = Conv2D(64, kernel_size=(3, 3), activation='relu')(x)\n",
    "x = BatchNormalization()(x)\n",
    "x = Conv2D(64, kernel_size=(3, 3), activation='relu')(x)\n",
    "#x = BatchNormalization()(x)\n",
    "x = Flatten()(x)\n",
    "x = Dropout(0.5)(x)\n",
    "x = Dense(1164)(x)\n",
    "x = Dropout(0.5)(x)\n",
    "x = Dense(100)(x)\n",
    "x = Dropout(0.5)(x)\n",
    "x = Dense(50)(x) \n",
    "x = Dropout(0.2)(x)\n",
    "x = Dense(10)(x)\n",
    "\n",
    "B_zeta_model = tf.keras.models.Model(\n",
    "      inputs = [Input], outputs = [x])\n",
    "\n",
    "# load weights from training\n",
    "B_zeta_model.load_weights(tf.train.latest_checkpoint(checkpoint_path)) # tf.train.latest_checkpoint(checkpoint_path)"
   ]
  },
  {
   "cell_type": "code",
   "execution_count": 2,
   "metadata": {},
   "outputs": [],
   "source": [
    "# all training images and paths\n",
    "path_all_imgs = '../../../data/commaai/training_files_filtered/indices/review.csv'\n",
    "all_img_df = pd.read_csv(path_all_imgs)\n",
    "img_path_base = '../../../data/commaai/train_bags_2/'\n",
    "density_path = '../../../data/commaai/density/gaussian_density.csv'\n",
    "density = pd.read_csv(density_path)"
   ]
  },
  {
   "cell_type": "markdown",
   "metadata": {},
   "source": [
    "Feed covariates to model to obtain basis functions"
   ]
  },
  {
   "cell_type": "code",
   "execution_count": null,
   "metadata": {},
   "outputs": [],
   "source": [
    "labels = []\n",
    "tr_labels = []\n",
    "B_zetas = []\n",
    "for i in tqdm(range(0,all_img_df.shape[0])): \n",
    "    img = imageio.imread(str(img_path_base + all_img_df.loc[i,'path']))\n",
    "    img = cv2.resize(img, dsize = (291,218), interpolation = cv2.INTER_LINEAR)[76:142, 45:245,0:3].reshape(1,66,200,3)\n",
    "    B_zeta = B_zeta_model.predict(img)\n",
    "    label = all_img_df.loc[i,'angle']\n",
    "    tr_label = norm.ppf(Fy(label, density))\n",
    "    labels.append(label)\n",
    "    tr_labels.append(tr_label)          \n",
    "    B_zetas.append(B_zeta)"
   ]
  },
  {
   "cell_type": "code",
   "execution_count": null,
   "metadata": {},
   "outputs": [],
   "source": [
    "labels = np.array(labels)\n",
    "B_zetas = np.array(B_zetas)\n",
    "tr_labels = np.array(tr_labels)"
   ]
  },
  {
   "cell_type": "code",
   "execution_count": null,
   "metadata": {},
   "outputs": [],
   "source": [
    "np.save(str(extracted_coefficients_directory_Bzeta + 'labels.csv'), labels)\n",
    "np.save(str(extracted_coefficients_directory_Bzeta + 'B_zeta.csv'), B_zetas)\n",
    "np.save(str(extracted_coefficients_directory_Bzeta + 'tr_labels.csv'), tr_labels)"
   ]
  },
  {
   "cell_type": "code",
   "execution_count": null,
   "metadata": {},
   "outputs": [],
   "source": [
    "B_zeta_labels = pd.DataFrame(data = {'label' : labels, 'Bzeta' : B_zetas, 'tr_label': tr_labels})"
   ]
  }
 ],
 "metadata": {
  "kernelspec": {
   "display_name": "Python 3",
   "language": "python",
   "name": "python3"
  },
  "language_info": {
   "codemirror_mode": {
    "name": "ipython",
    "version": 3
   },
   "file_extension": ".py",
   "mimetype": "text/x-python",
   "name": "python",
   "nbconvert_exporter": "python",
   "pygments_lexer": "ipython3",
   "version": "3.8.5"
  }
 },
 "nbformat": 4,
 "nbformat_minor": 4
}
