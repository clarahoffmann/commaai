{
 "cells": [
  {
   "cell_type": "code",
   "execution_count": 1,
   "metadata": {},
   "outputs": [],
   "source": [
    "import keras\n",
    "import glob \n",
    "import os\n",
    "import tensorflow as tf\n",
    "import random\n",
    "from utils import imgs_input_fn, imgs_input_fn_val, rmse, build_model\n",
    "import mdn\n",
    "from mdn import sample_from_output\n",
    "import pandas as pd\n",
    "from tqdm import tqdm\n",
    "import imageio\n",
    "import numpy as np\n",
    "from mdn import sample_from_output\n",
    "import matplotlib.pyplot as plt\n",
    "from utils import build_model, find_closest_element, Fy\n",
    "from scipy.stats import norm\n",
    "import multiprocessing\n",
    "\n",
    "#define paths\n",
    "# directory where checkpoints should be saved\n",
    "model_dir = '../../../../data/models/mdn_cil/export/'\n",
    "checkpoint_path = '../../../../data/models/mdn_cil/export/'"
   ]
  },
  {
   "cell_type": "code",
   "execution_count": 2,
   "metadata": {},
   "outputs": [],
   "source": [
    "samples = np.load('../../../../data/commaai/predictions/mdn/cil/samples.npy')"
   ]
  },
  {
   "cell_type": "code",
   "execution_count": 3,
   "metadata": {},
   "outputs": [
    {
     "data": {
      "text/plain": [
       "(94570, 1000)"
      ]
     },
     "execution_count": 3,
     "metadata": {},
     "output_type": "execute_result"
    }
   ],
   "source": [
    "samples.shape"
   ]
  },
  {
   "cell_type": "code",
   "execution_count": 4,
   "metadata": {},
   "outputs": [],
   "source": [
    "pred_mdn = np.mean(samples, axis = 1)"
   ]
  },
  {
   "cell_type": "code",
   "execution_count": 8,
   "metadata": {},
   "outputs": [
    {
     "data": {
      "text/plain": [
       "<tensorflow.python.training.tracking.util.CheckpointLoadStatus at 0x7fd13c05a850>"
      ]
     },
     "execution_count": 8,
     "metadata": {},
     "output_type": "execute_result"
    }
   ],
   "source": [
    "# define model and load weights from training\n",
    "keras_model = build_model()\n",
    "\n",
    "# load weights\n",
    "keras_model.load_weights(tf.train.latest_checkpoint(checkpoint_path)) "
   ]
  },
  {
   "cell_type": "code",
   "execution_count": 9,
   "metadata": {},
   "outputs": [
    {
     "name": "stderr",
     "output_type": "stream",
     "text": [
      "100%|██████████| 50/50 [01:03<00:00,  1.28s/it]\n"
     ]
    }
   ],
   "source": [
    "# read in val data\n",
    "path_all_imgs = '../../../../commaai_code/02_write_shards_optional/cil_shards/df_paths.csv'\n",
    "all_img_df = pd.read_csv(path_all_imgs)\n",
    "all_img_df = all_img_df[np.abs(all_img_df['true_y']) < 40].reset_index()\n",
    "img_path_base = '../../../data/commaai/train_bags_2/'\n",
    "true_y = all_img_df['true_y']\n",
    "\n",
    "density_path = '../../../../data/commaai/density/gaussian_density.csv'\n",
    "density = pd.read_csv(density_path)\n",
    "\n",
    "no_samp = 1000\n",
    "\n",
    "# preds Bzetas by reading in images and predicting\n",
    "preds = []\n",
    "samples = []\n",
    "labels  = []\n",
    "for i in tqdm(range(0,50)): \n",
    "    img = imageio.imread(str(img_path_base + all_img_df.loc[i,'path']))[:,:,0:3]/255\n",
    "    pred = keras_model.predict(img.reshape(1,66,200,3))   \n",
    "    y_samples = np.array([np.apply_along_axis(sample_from_output, 1, pred, 1, 50, temp=1.0) for i in range(0,no_samp)])\n",
    "    samples.append(y_samples)\n",
    "    label = all_img_df.loc[i,'true_y']\n",
    "    labels.append(label) \n",
    "    preds.append(pred)"
   ]
  },
  {
   "cell_type": "code",
   "execution_count": 10,
   "metadata": {},
   "outputs": [],
   "source": [
    "samples = np.array(samples)\n",
    "pred_mdn = np.mean(samples.reshape(-1, 1000), axis = 1)"
   ]
  },
  {
   "cell_type": "code",
   "execution_count": 12,
   "metadata": {},
   "outputs": [
    {
     "data": {
      "text/plain": [
       "'../../../../data/commaai/test_files/val_files_unfiltered/image3_0.png'"
      ]
     },
     "execution_count": 12,
     "metadata": {},
     "output_type": "execute_result"
    }
   ],
   "source": [
    "all_img_df.loc[3,'path']"
   ]
  },
  {
   "cell_type": "code",
   "execution_count": 11,
   "metadata": {},
   "outputs": [
    {
     "data": {
      "text/plain": [
       "<matplotlib.collections.PathCollection at 0x7fd0cc71cc70>"
      ]
     },
     "execution_count": 11,
     "metadata": {},
     "output_type": "execute_result"
    },
    {
     "data": {
      "image/png": "[encoded data removed]",
      "text/plain": [
       "<Figure size 432x288 with 1 Axes>"
      ]
     },
     "metadata": {
      "needs_background": "light"
     },
     "output_type": "display_data"
    }
   ],
   "source": [
    "plt.scatter(all_img_df.loc[0:pred_mdn.shape[0] -1,'true_y'], pred_mdn)"
   ]
  },
  {
   "cell_type": "code",
   "execution_count": 2,
   "metadata": {},
   "outputs": [],
   "source": [
    "labels = list(np.load('../../../../data/commaai/predictions/mdn/cil/labels.npy'))"
   ]
  },
  {
   "cell_type": "code",
   "execution_count": 4,
   "metadata": {},
   "outputs": [
    {
     "data": {
      "text/plain": [
       "72730"
      ]
     },
     "execution_count": 4,
     "metadata": {},
     "output_type": "execute_result"
    }
   ],
   "source": [
    "len(labels)"
   ]
  },
  {
   "cell_type": "code",
   "execution_count": null,
   "metadata": {},
   "outputs": [],
   "source": []
  },
  {
   "cell_type": "code",
   "execution_count": 9,
   "metadata": {},
   "outputs": [],
   "source": [
    "path_all_imgs = '../../../../commaai_code/02_write_shards_optional/cil_shards/df_paths.csv'\n",
    "all_img_df = pd.read_csv(path_all_imgs)\n",
    "all_img_df = all_img_df[np.abs(all_img_df['true_y']) < 40].reset_index()\n",
    "true_y = all_img_df['true_y']"
   ]
  },
  {
   "cell_type": "code",
   "execution_count": 10,
   "metadata": {},
   "outputs": [],
   "source": [
    "labels = true_y"
   ]
  },
  {
   "cell_type": "code",
   "execution_count": 11,
   "metadata": {},
   "outputs": [
    {
     "data": {
      "text/plain": [
       "(94570,)"
      ]
     },
     "execution_count": 11,
     "metadata": {},
     "output_type": "execute_result"
    }
   ],
   "source": [
    "labels.shape"
   ]
  },
  {
   "cell_type": "code",
   "execution_count": null,
   "metadata": {},
   "outputs": [],
   "source": [
    "pred_mdn = np.mean(samples.reshape(-1, 1000), axis = 1)"
   ]
  },
  {
   "cell_type": "code",
   "execution_count": null,
   "metadata": {},
   "outputs": [],
   "source": [
    "np.save('../../../../data/commaai/predictions/mdn/cpl/mdn_preds.npy', np.array(pred_mdn))"
   ]
  },
  {
   "cell_type": "code",
   "execution_count": 12,
   "metadata": {},
   "outputs": [
    {
     "name": "stdout",
     "output_type": "stream",
     "text": [
      "Performance of models without and with uncertainty\n",
      "MSE:\n",
      "with uncertainty: 10.57918096232381\n",
      "MAE:\n",
      "with uncertainty: 1.7171217230179903\n",
      "Accuracy :\n",
      "with uncertainty: 0.9484297345881357\n",
      "Accuracy II:\n",
      "with uncertainty: 0.7642910013746431\n"
     ]
    }
   ],
   "source": [
    "print(\"Performance of models without and with uncertainty\" +\n",
    "     \"\\nMSE:\" +\n",
    "      \"\\nwith uncertainty: \" + str(np.mean((labels - pred_mdn.reshape(-1,))**2)) +\n",
    "      \"\\nMAE:\" +\n",
    "      \"\\nwith uncertainty: \" + str(np.mean(np.abs(labels - pred_mdn.reshape(-1,)))) +\n",
    "      \"\\nAccuracy :\" +\n",
    "      \"\\nwith uncertainty: \" + str(np.mean([np.abs((labels - pred_mdn.reshape(-1,))) <= 6])) +\n",
    "      \"\\nAccuracy II:\" +\n",
    "      \"\\nwith uncertainty: \" + str(np.mean([np.abs(labels - pred_mdn.reshape(-1,)) <= 2])) \n",
    "     )"
   ]
  },
  {
   "cell_type": "code",
   "execution_count": 13,
   "metadata": {},
   "outputs": [
    {
     "data": {
      "text/plain": [
       "<matplotlib.collections.PathCollection at 0x7fe3540dbeb0>"
      ]
     },
     "execution_count": 13,
     "metadata": {},
     "output_type": "execute_result"
    },
    {
     "data": {
      "image/png": "[encoded data removed]",
      "text/plain": [
       "<Figure size 432x288 with 1 Axes>"
      ]
     },
     "metadata": {
      "needs_background": "light"
     },
     "output_type": "display_data"
    }
   ],
   "source": [
    "plt.scatter(labels, pred_mdn, alpha = 0.5)"
   ]
  },
  {
   "cell_type": "code",
   "execution_count": null,
   "metadata": {},
   "outputs": [],
   "source": [
    "pred_mdn.shape"
   ]
  },
  {
   "cell_type": "code",
   "execution_count": null,
   "metadata": {},
   "outputs": [],
   "source": [
    "all_img_df.loc[0:692,'true_z'].shape"
   ]
  },
  {
   "cell_type": "code",
   "execution_count": null,
   "metadata": {},
   "outputs": [],
   "source": []
  }
 ],
 "metadata": {
  "kernelspec": {
   "display_name": "Python 3",
   "language": "python",
   "name": "python3"
  },
  "language_info": {
   "codemirror_mode": {
    "name": "ipython",
    "version": 3
   },
   "file_extension": ".py",
   "mimetype": "text/x-python",
   "name": "python",
   "nbconvert_exporter": "python",
   "pygments_lexer": "ipython3",
   "version": "3.8.5"
  }
 },
 "nbformat": 4,
 "nbformat_minor": 4
}
