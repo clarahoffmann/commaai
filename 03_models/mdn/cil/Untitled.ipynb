{
 "cells": [
  {
   "cell_type": "code",
   "execution_count": 1,
   "metadata": {},
   "outputs": [
    {
     "name": "stderr",
     "output_type": "stream",
     "text": [
      "100%|██████████| 94570/94570 [7:16:35<00:00,  3.61it/s]   \n"
     ]
    }
   ],
   "source": [
    "import numpy as np\n",
    "import statsmodels.api as sm\n",
    "from tqdm import tqdm\n",
    "import multiprocessing\n",
    "from scipy import integrate\n",
    "import pandas as pd\n",
    "import numpy as np\n",
    "\n",
    "# read in val data\n",
    "density_path = '../../../../data/commaai/density/gaussian_density.csv'\n",
    "density = pd.read_csv(density_path)\n",
    "\n",
    "no_points = 750\n",
    "grid = np.linspace(min(density['axes']), max(density['axes']), int(no_points))\n",
    "\n",
    "density_ext_list = np.load('../../../../data/commaai/predictions/density_cil_mdn.npy')\n",
    "\n",
    "j = 0\n",
    "cdf_mdn = [] \n",
    "for supp in tqdm(density_ext_list):\n",
    "    dens = density_ext_list[j,:]\n",
    "    def f_integral(i):\n",
    "        return(integrate.trapz(dens[i:(i+2)], grid[i:(i+2)]))\n",
    "    with multiprocessing.Pool(10) as proc:\n",
    "        probs = proc.map(f_integral, np.array([i for i in range(0, grid.shape[0])]))\n",
    "    cdf_i = np.cumsum(np.array(probs))\n",
    "    cdf_mdn.append(cdf_i)\n",
    "    j += 1\n",
    "    if j % 1000 == 0:\n",
    "        np.save('../../../../data/commaai/predictions/cdf_is_mdn_cil.npy', np.array(cdf_mdn))\n",
    "\n",
    "np.save('../../../../data/commaai/predictions/cdf_is_mdn_cil.npy', np.array(cdf_mdn))"
   ]
  },
  {
   "cell_type": "code",
   "execution_count": null,
   "metadata": {},
   "outputs": [],
   "source": []
  }
 ],
 "metadata": {
  "kernelspec": {
   "display_name": "Python 3",
   "language": "python",
   "name": "python3"
  },
  "language_info": {
   "codemirror_mode": {
    "name": "ipython",
    "version": 3
   },
   "file_extension": ".py",
   "mimetype": "text/x-python",
   "name": "python",
   "nbconvert_exporter": "python",
   "pygments_lexer": "ipython3",
   "version": "3.8.5"
  }
 },
 "nbformat": 4,
 "nbformat_minor": 4
}
