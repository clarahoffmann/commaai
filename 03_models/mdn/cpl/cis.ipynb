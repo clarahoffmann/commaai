{
 "cells": [
  {
   "cell_type": "code",
   "execution_count": 29,
   "metadata": {},
   "outputs": [],
   "source": [
    "import numpy as np\n",
    "import statsmodels.api as sm\n",
    "from tqdm import tqdm\n",
    "import matplotlib.pyplot as plt\n",
    "import multiprocessing\n",
    "from scipy import integrate\n",
    "import pandas as pd\n",
    "import ray\n",
    "import numpy as np"
   ]
  },
  {
   "cell_type": "code",
   "execution_count": 30,
   "metadata": {},
   "outputs": [],
   "source": [
    "samples = np.load('../../../../data/commaai/predictions/mdn/cpl/samples.npy').reshape(-1,1000)"
   ]
  },
  {
   "cell_type": "code",
   "execution_count": 31,
   "metadata": {},
   "outputs": [],
   "source": [
    "# read in val data\n",
    "density_path = '../../../../data/commaai/density/gaussian_density_filtered.csv'\n",
    "density = pd.read_csv(density_path)"
   ]
  },
  {
   "cell_type": "code",
   "execution_count": 32,
   "metadata": {},
   "outputs": [],
   "source": [
    "no_points = 750\n",
    "grid = np.linspace(min(density['axes']), max(density['axes']), int(no_points))"
   ]
  },
  {
   "cell_type": "code",
   "execution_count": 20,
   "metadata": {},
   "outputs": [
    {
     "name": "stderr",
     "output_type": "stream",
     "text": [
      "100%|██████████| 10472/10472 [00:15<00:00, 690.88it/s]\n"
     ]
    }
   ],
   "source": [
    "densities = []\n",
    "supports = []\n",
    "for i in tqdm(range(0, samples.shape[0])):\n",
    "    kde = sm.nonparametric.KDEUnivariate(samples[i,:])\n",
    "    kde.fit() # Estimate the densities\n",
    "    support = kde.support\n",
    "    endog = kde.endog\n",
    "    density = kde.density\n",
    "    supports.append(support)\n",
    "    densities.append(density) "
   ]
  },
  {
   "cell_type": "code",
   "execution_count": 21,
   "metadata": {},
   "outputs": [
    {
     "name": "stderr",
     "output_type": "stream",
     "text": [
      "100%|██████████| 10472/10472 [21:52<00:00,  7.98it/s]\n"
     ]
    }
   ],
   "source": [
    "density_ext_list = []\n",
    "density_ext = np.array(np.repeat(0, 750), dtype=float)\n",
    "for j in tqdm(range(0, len(densities))):\n",
    "    density_ext = np.array(np.repeat(0, 750), dtype=float)\n",
    "    for i in range(0, supports[j].shape[0]):\n",
    "        density_ext[np.where(np.abs(grid - supports[j][i]) == min(np.abs(grid - supports[j][i])))] = densities[j][i]\n",
    "    density_ext_list.append(density_ext)"
   ]
  },
  {
   "cell_type": "code",
   "execution_count": 28,
   "metadata": {},
   "outputs": [
    {
     "data": {
      "text/plain": [
       "[<matplotlib.lines.Line2D at 0x7f94e94a5490>]"
      ]
     },
     "execution_count": 28,
     "metadata": {},
     "output_type": "execute_result"
    },
    {
     "data": {
      "image/png": "[encoded data removed]",
      "text/plain": [
       "<Figure size 432x288 with 1 Axes>"
      ]
     },
     "metadata": {
      "needs_background": "light"
     },
     "output_type": "display_data"
    }
   ],
   "source": [
    "plt.plot(grid, density_ext_list[101])"
   ]
  },
  {
   "cell_type": "code",
   "execution_count": 24,
   "metadata": {},
   "outputs": [],
   "source": [
    "density_ext_list = np.array(density_ext_list)\n",
    "np.save('../../../../data/commaai/predictions/density_dropout_mdn.npy', density_ext_list)"
   ]
  },
  {
   "cell_type": "code",
   "execution_count": 33,
   "metadata": {},
   "outputs": [],
   "source": [
    "density_ext_list = np.load('../../../../data/commaai/predictions/density_dropout_mdn.npy')"
   ]
  },
  {
   "cell_type": "code",
   "execution_count": 34,
   "metadata": {},
   "outputs": [
    {
     "name": "stderr",
     "output_type": "stream",
     "text": [
      "100%|██████████| 10472/10472 [1:39:39<00:00,  1.75it/s] \n"
     ]
    }
   ],
   "source": [
    "j = 0\n",
    "cdf_mdn = [] \n",
    "for supp in tqdm(density_ext_list):\n",
    "    dens = density_ext_list[j,:]\n",
    "    def f_integral(i):\n",
    "        return(integrate.trapz(dens[i:(i+2)], grid[i:(i+2)]))\n",
    "    with multiprocessing.Pool(20) as proc:\n",
    "        probs = proc.map(f_integral, np.array([i for i in range(0, grid.shape[0])]))\n",
    "    cdf_i = np.cumsum(np.array(probs))\n",
    "    cdf_mdn.append(cdf_i)\n",
    "    j += 1"
   ]
  },
  {
   "cell_type": "code",
   "execution_count": 35,
   "metadata": {},
   "outputs": [],
   "source": [
    "np.save('../../../../data/commaai/predictions/cdf_is_mdn.npy', np.array(cdf_mdn))"
   ]
  },
  {
   "cell_type": "code",
   "execution_count": 37,
   "metadata": {},
   "outputs": [
    {
     "data": {
      "text/plain": [
       "(750,)"
      ]
     },
     "execution_count": 37,
     "metadata": {},
     "output_type": "execute_result"
    }
   ],
   "source": [
    "cdf_mdn[0].shape"
   ]
  },
  {
   "cell_type": "code",
   "execution_count": null,
   "metadata": {},
   "outputs": [],
   "source": []
  }
 ],
 "metadata": {
  "kernelspec": {
   "display_name": "Python 3",
   "language": "python",
   "name": "python3"
  },
  "language_info": {
   "codemirror_mode": {
    "name": "ipython",
    "version": 3
   },
   "file_extension": ".py",
   "mimetype": "text/x-python",
   "name": "python",
   "nbconvert_exporter": "python",
   "pygments_lexer": "ipython3",
   "version": "3.8.5"
  }
 },
 "nbformat": 4,
 "nbformat_minor": 4
}
