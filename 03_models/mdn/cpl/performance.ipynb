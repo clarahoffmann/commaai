{
 "cells": [
  {
   "cell_type": "code",
   "execution_count": 1,
   "metadata": {},
   "outputs": [],
   "source": [
    "import keras\n",
    "import glob \n",
    "import os\n",
    "import tensorflow as tf\n",
    "import random\n",
    "from utils import imgs_input_fn, imgs_input_fn_val, rmse, build_model, _parse_function_train, _parse_function_val\n",
    "import mdn\n",
    "import pandas as pd\n",
    "from tqdm import tqdm\n",
    "import imageio\n",
    "import numpy as np\n",
    "from mdn import sample_from_output\n",
    "import matplotlib.pyplot as plt\n",
    "from utils import build_model, find_closest_element, Fy\n",
    "from scipy.stats import norm\n",
    "\n",
    "#define paths\n",
    "# directory where checkpoints should be saved\n",
    "model_dir = '../../../../data/models/mdn_cpl/export/'\n",
    "checkpoint_path = '../../../../data/models/mdn_cpl/export/'"
   ]
  },
  {
   "cell_type": "code",
   "execution_count": 2,
   "metadata": {},
   "outputs": [
    {
     "data": {
      "text/plain": [
       "<tensorflow.python.training.tracking.util.CheckpointLoadStatus at 0x7f84087b6c40>"
      ]
     },
     "execution_count": 2,
     "metadata": {},
     "output_type": "execute_result"
    }
   ],
   "source": [
    "# define model and load weights from training\n",
    "keras_model = build_model()\n",
    "\n",
    "# load weights\n",
    "keras_model.load_weights(tf.train.latest_checkpoint(checkpoint_path)) "
   ]
  },
  {
   "cell_type": "code",
   "execution_count": 3,
   "metadata": {},
   "outputs": [
    {
     "name": "stderr",
     "output_type": "stream",
     "text": [
      "100%|██████████| 10472/10472 [2:04:26<00:00,  1.40it/s] \n"
     ]
    }
   ],
   "source": [
    "path_all_imgs = '../../../../data/commaai/training_files_filtered/indices/val_indices.csv'\n",
    "all_img_df = pd.read_csv(path_all_imgs)\n",
    "img_path_base = '../../../../data/commaai/train_bags_2/'\n",
    "density_path = '../../../../data/commaai/density/gaussian_density_filtered.csv'\n",
    "density = pd.read_csv(density_path)\n",
    "\n",
    "no_samp = 1000\n",
    "\n",
    "# preds Bzetas by reading in images and predicting\n",
    "preds = []\n",
    "samples = []\n",
    "labels  = []\n",
    "for i in tqdm(range(0,all_img_df.shape[0])): \n",
    "    img = imageio.imread(str(img_path_base + all_img_df.loc[i,'path']))[:,:,0:3]/255\n",
    "    pred = keras_model.predict(img.reshape(1,66,200,3))   \n",
    "    y_samples = np.array([np.apply_along_axis(sample_from_output, 1, pred, 1, 50, temp=1.0) for i in range(0,no_samp)])\n",
    "    samples.append(y_samples)\n",
    "    label = all_img_df.loc[i,'angle']\n",
    "    labels.append(label) \n",
    "    preds.append(pred)"
   ]
  },
  {
   "cell_type": "code",
   "execution_count": 10,
   "metadata": {},
   "outputs": [],
   "source": [
    "np.save('../../../../data/commaai/predictions/mdn/cpl/labels.npy', np.array(labels))\n",
    "np.save('../../../../data/commaai/predictions/mdn/cpl/preds.npy', np.array(preds))\n",
    "np.save('../../../../data/commaai/predictions/mdn/cpl/samples.npy', np.array(samples))"
   ]
  },
  {
   "cell_type": "code",
   "execution_count": 5,
   "metadata": {},
   "outputs": [],
   "source": [
    "samples = np.array(samples)"
   ]
  },
  {
   "cell_type": "code",
   "execution_count": 6,
   "metadata": {},
   "outputs": [],
   "source": [
    "pred_mdn = np.mean(samples.reshape(-1, 1000), axis = 1)"
   ]
  },
  {
   "cell_type": "code",
   "execution_count": 11,
   "metadata": {},
   "outputs": [],
   "source": [
    "np.save('../../../../data/commaai/predictions/mdn/cpl/mdn_preds.npy', np.array(pred_mdn))"
   ]
  },
  {
   "cell_type": "code",
   "execution_count": 9,
   "metadata": {},
   "outputs": [
    {
     "name": "stdout",
     "output_type": "stream",
     "text": [
      "Performance of models without and with uncertainty\n",
      "MSE:\n",
      "with uncertainty: 6.6299157147124514\n",
      "MAE:\n",
      "with uncertainty: 1.361488987986964\n",
      "Accuracy :\n",
      "with uncertainty: 0.9815699006875478\n",
      "Accuracy II:\n",
      "with uncertainty: 0.8191367456073338\n"
     ]
    }
   ],
   "source": [
    "print(\"Performance of models without and with uncertainty\" +\n",
    "     \"\\nMSE:\" +\n",
    "      \"\\nwith uncertainty: \" + str(np.mean((labels - pred_mdn.reshape(10472,))**2)) +\n",
    "      \"\\nMAE:\" +\n",
    "      \"\\nwith uncertainty: \" + str(np.mean(np.abs(labels - pred_mdn.reshape(10472,)))) +\n",
    "      \"\\nAccuracy :\" +\n",
    "      \"\\nwith uncertainty: \" + str(np.mean([np.abs((labels - pred_mdn.reshape(10472,))) <= 6])) +\n",
    "      \"\\nAccuracy II:\" +\n",
    "      \"\\nwith uncertainty: \" + str(np.mean([np.abs(labels - pred_mdn.reshape(10472,)) <= 2])) \n",
    "     )"
   ]
  },
  {
   "cell_type": "code",
   "execution_count": 8,
   "metadata": {},
   "outputs": [
    {
     "data": {
      "text/plain": [
       "<matplotlib.collections.PathCollection at 0x7f8400512430>"
      ]
     },
     "execution_count": 8,
     "metadata": {},
     "output_type": "execute_result"
    },
    {
     "data": {
      "image/png": "[encoded data removed]",
      "text/plain": [
       "<Figure size 432x288 with 1 Axes>"
      ]
     },
     "metadata": {
      "needs_background": "light"
     },
     "output_type": "display_data"
    }
   ],
   "source": [
    "plt.scatter(labels, pred_mdn, alpha = 0.5)"
   ]
  },
  {
   "cell_type": "code",
   "execution_count": null,
   "metadata": {},
   "outputs": [],
   "source": []
  }
 ],
 "metadata": {
  "kernelspec": {
   "display_name": "Python 3",
   "language": "python",
   "name": "python3"
  },
  "language_info": {
   "codemirror_mode": {
    "name": "ipython",
    "version": 3
   },
   "file_extension": ".py",
   "mimetype": "text/x-python",
   "name": "python",
   "nbconvert_exporter": "python",
   "pygments_lexer": "ipython3",
   "version": "3.8.5"
  }
 },
 "nbformat": 4,
 "nbformat_minor": 4
}
