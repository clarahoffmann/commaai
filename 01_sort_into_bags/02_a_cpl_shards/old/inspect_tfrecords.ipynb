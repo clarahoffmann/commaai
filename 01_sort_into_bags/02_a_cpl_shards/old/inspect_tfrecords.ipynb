{
 "cells": [
  {
   "cell_type": "code",
   "execution_count": 9,
   "metadata": {},
   "outputs": [],
   "source": [
    "import pandas as pd\n",
    "import matplotlib.pyplot as plt\n",
    "from tqdm import tqdm\n",
    "from scipy.stats import norm\n",
    "import numpy as np\n",
    "import re"
   ]
  },
  {
   "cell_type": "code",
   "execution_count": 10,
   "metadata": {},
   "outputs": [],
   "source": [
    "df = pd.read_csv('../../../data/commaai/training_files_filtered/indices/review.csv')\n",
    "df = df.loc[df['use'] == 1, :]"
   ]
  },
  {
   "cell_type": "code",
   "execution_count": 20,
   "metadata": {},
   "outputs": [],
   "source": [
    "df['filenumber'] = df['path'].apply(lambda x: int(re.search('_(.*)run1.png', x).group(1)))"
   ]
  },
  {
   "cell_type": "code",
   "execution_count": 41,
   "metadata": {},
   "outputs": [],
   "source": [
    "# choose 500 video files for test set\n",
    "val_set_index = df['filenumber'].unique()[-289:]\n",
    "train_set_index = df['filenumber'].unique()[0:1160]"
   ]
  },
  {
   "cell_type": "code",
   "execution_count": 49,
   "metadata": {},
   "outputs": [],
   "source": [
    "val_df = df.loc[df['filenumber'].isin(val_set_index), :]\n",
    "train_df = df.loc[df['filenumber'].isin(train_set_index), :]"
   ]
  },
  {
   "cell_type": "code",
   "execution_count": 53,
   "metadata": {},
   "outputs": [],
   "source": [
    "val_df.to_csv('../../../data/commaai/training_files_filtered/indices/val_indices.csv', index = False)\n",
    "train_df.to_csv('../../../data/commaai/training_files_filtered/indices/train_indices.csv', index = False)"
   ]
  },
  {
   "cell_type": "code",
   "execution_count": null,
   "metadata": {},
   "outputs": [],
   "source": [
    "angles_res = pd.read_csv('../../../data/commaai/training_files_filtered/tfrecords/angle.csv', header = None)"
   ]
  },
  {
   "cell_type": "code",
   "execution_count": null,
   "metadata": {},
   "outputs": [],
   "source": [
    "plt.hist(angles_res[0], bins = 100)"
   ]
  },
  {
   "cell_type": "code",
   "execution_count": null,
   "metadata": {},
   "outputs": [],
   "source": [
    "plt.hist(angles_res[abs(angles_res[0]) < 5], bins = 50)"
   ]
  },
  {
   "cell_type": "code",
   "execution_count": null,
   "metadata": {},
   "outputs": [],
   "source": [
    "angles_res.shape"
   ]
  },
  {
   "cell_type": "code",
   "execution_count": null,
   "metadata": {},
   "outputs": [],
   "source": [
    "plt.hist(df['angle'], bins = 100)"
   ]
  },
  {
   "cell_type": "code",
   "execution_count": null,
   "metadata": {},
   "outputs": [],
   "source": [
    "def Fy(y, density):\n",
    "    \n",
    "    def find_closest_element(y: float, arr: np.ndarray):\n",
    "        index = np.searchsorted(arr,y)\n",
    "        \n",
    "        if (index >= 1) & (index < arr.shape[0]):\n",
    "            res = [arr[index - 1], arr[index]]\n",
    "        elif (index < arr.shape[0]):\n",
    "            return np.array(index)\n",
    "        else:\n",
    "            return np.array(index - 1)\n",
    "\n",
    "        if res[0] == res[1]:\n",
    "            return np.array(index - 1)\n",
    "        else:\n",
    "            diff_pre = np.abs(y-res[0])\n",
    "            diff_aft = np.abs(y-res[1])\n",
    "            if diff_pre == diff_aft:\n",
    "                return np.array(index - 1) \n",
    "            else:\n",
    "                return index - 1 if diff_pre < diff_aft else index\n",
    "        \n",
    "    integral = density.loc[find_closest_element(y, density['axes']),'cdf']\n",
    "    return(integral)  "
   ]
  },
  {
   "cell_type": "code",
   "execution_count": null,
   "metadata": {},
   "outputs": [],
   "source": [
    "density_path = '../../../data/commaai/density/gaussian_density.csv'\n",
    "density = pd.read_csv(density_path)"
   ]
  },
  {
   "cell_type": "code",
   "execution_count": null,
   "metadata": {},
   "outputs": [],
   "source": [
    "tqdm.pandas()\n",
    "df['tr_angle'] = df['angle'].progress_apply(lambda x: norm.ppf(Fy(x, density)))"
   ]
  },
  {
   "cell_type": "code",
   "execution_count": null,
   "metadata": {},
   "outputs": [],
   "source": [
    "df0a = df.loc[abs(df['angle']) < 1].reset_index()\n",
    "df0b = df.loc[((abs(df['angle']) < 2) & (abs(df['angle']) >= 1)) ,:].reset_index()\n",
    "df0c = df0.loc[(abs(df0['angle']) >= 2) & (abs(df0['angle']) < 5)  ].reset_index()\n",
    "df1 = df.loc[(abs(df['angle']) <= 10) & (abs(df['angle']) > 5)].reset_index()\n",
    "df2 = df.loc[(abs(df['angle']) <= 20) & (abs(df['angle']) > 10)].reset_index()\n",
    "df3 = df.loc[(abs(df['angle']) <= 30) & (abs(df['angle']) > 20)].reset_index()\n",
    "df4 = df.loc[(abs(df['angle']) <= 40) & (abs(df['angle']) > 30)].reset_index()\n",
    "df5 = df.loc[(abs(df['angle']) <= 50) & (abs(df['angle']) > 40)].reset_index()"
   ]
  },
  {
   "cell_type": "code",
   "execution_count": null,
   "metadata": {},
   "outputs": [],
   "source": [
    "df1.shape"
   ]
  },
  {
   "cell_type": "code",
   "execution_count": null,
   "metadata": {},
   "outputs": [],
   "source": [
    "df"
   ]
  },
  {
   "cell_type": "code",
   "execution_count": null,
   "metadata": {},
   "outputs": [],
   "source": [
    "path0 = '../../../data/commaai/train_bags_2/0/angles_filename.csv'"
   ]
  },
  {
   "cell_type": "code",
   "execution_count": null,
   "metadata": {},
   "outputs": [],
   "source": [
    "pd.read_csv(path0)"
   ]
  },
  {
   "cell_type": "code",
   "execution_count": null,
   "metadata": {},
   "outputs": [],
   "source": []
  }
 ],
 "metadata": {
  "kernelspec": {
   "display_name": "Python 3",
   "language": "python",
   "name": "python3"
  },
  "language_info": {
   "codemirror_mode": {
    "name": "ipython",
    "version": 3
   },
   "file_extension": ".py",
   "mimetype": "text/x-python",
   "name": "python",
   "nbconvert_exporter": "python",
   "pygments_lexer": "ipython3",
   "version": "3.8.5"
  }
 },
 "nbformat": 4,
 "nbformat_minor": 4
}
