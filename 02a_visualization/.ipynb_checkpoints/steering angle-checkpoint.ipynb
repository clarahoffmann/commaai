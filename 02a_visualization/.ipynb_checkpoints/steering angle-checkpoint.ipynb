{
 "cells": [
  {
   "cell_type": "code",
   "execution_count": 1,
   "metadata": {},
   "outputs": [],
   "source": [
    "import numpy as np\n",
    "import matplotlib.pyplot as plt\n",
    "import pandas as pd\n",
    "import imageio\n",
    "import cv2"
   ]
  },
  {
   "cell_type": "code",
   "execution_count": 2,
   "metadata": {},
   "outputs": [],
   "source": [
    "img_path = '../../data/commaai/train_bags/1/106_0run1.png'\n",
    "image = imageio.imread(img_path)"
   ]
  },
  {
   "cell_type": "code",
   "execution_count": 3,
   "metadata": {},
   "outputs": [],
   "source": [
    "ang_file = pd.read_csv('../../data/commaai/train_bags/1/angles_filename.csv', header = None)\n",
    "ang_file.columns = ['file', 'angle', 'tr_angle']"
   ]
  },
  {
   "cell_type": "code",
   "execution_count": 4,
   "metadata": {},
   "outputs": [],
   "source": [
    "label = ang_file.loc[ang_file['file'] == img_path, 'angle'][19]"
   ]
  },
  {
   "cell_type": "code",
   "execution_count": 5,
   "metadata": {},
   "outputs": [],
   "source": [
    "a_rad = label / 180. * np.pi + np.pi / 2"
   ]
  },
  {
   "cell_type": "code",
   "execution_count": 22,
   "metadata": {},
   "outputs": [],
   "source": [
    "ang_dens = pd.DataFrame({'angle': np.linspace(-70,90,5000), 'density': np.linspace(0,0.1,5000) })"
   ]
  },
  {
   "cell_type": "code",
   "execution_count": 29,
   "metadata": {},
   "outputs": [],
   "source": [
    "def plot_density(ang_dens, c, r):\n",
    "    ang_dens['angle_rad'] = ang_dens['angle'].apply(lambda x: x / 180. * np.pi + np.pi / 2)\n",
    "    ang_dens['t'] = ang_dens['angle_rad'].apply(lambda x: (c[0] + np.cos(x) * r, c[1] - np.sin(x) * r))\n",
    "    for i in range(0, ang_dens['t'].shape[0]):\n",
    "        t = ang_dens['t'][i]\n",
    "        dens = ang_dens['density'][i]\n",
    "        plt.plot((c[0], t[0]), (c[1], t[1]), 'dodgerblue', alpha = dens)"
   ]
  },
  {
   "cell_type": "code",
   "execution_count": 1,
   "metadata": {},
   "outputs": [
    {
     "ename": "NameError",
     "evalue": "name 'plt' is not defined",
     "output_type": "error",
     "traceback": [
      "\u001b[0;31m---------------------------------------------------------------------------\u001b[0m",
      "\u001b[0;31mNameError\u001b[0m                                 Traceback (most recent call last)",
      "\u001b[0;32m<ipython-input-1-4dbdff183393>\u001b[0m in \u001b[0;36m<module>\u001b[0;34m\u001b[0m\n\u001b[1;32m      1\u001b[0m \u001b[0mpred\u001b[0m \u001b[0;34m=\u001b[0m \u001b[0;36m30\u001b[0m\u001b[0;34m\u001b[0m\u001b[0;34m\u001b[0m\u001b[0m\n\u001b[0;32m----> 2\u001b[0;31m \u001b[0mfigure\u001b[0m\u001b[0;34m,\u001b[0m \u001b[0max\u001b[0m \u001b[0;34m=\u001b[0m \u001b[0mplt\u001b[0m\u001b[0;34m.\u001b[0m\u001b[0mfigure\u001b[0m\u001b[0;34m(\u001b[0m\u001b[0;34m)\u001b[0m\u001b[0;34m,\u001b[0m \u001b[0mplt\u001b[0m\u001b[0;34m.\u001b[0m\u001b[0mgca\u001b[0m\u001b[0;34m(\u001b[0m\u001b[0;34m)\u001b[0m\u001b[0;34m\u001b[0m\u001b[0;34m\u001b[0m\u001b[0m\n\u001b[0m\u001b[1;32m      3\u001b[0m \u001b[0;31m#circle1 = plt.Circle((0.2, 0.5), 0.5, color='r')\u001b[0m\u001b[0;34m\u001b[0m\u001b[0;34m\u001b[0m\u001b[0;34m\u001b[0m\u001b[0m\n\u001b[1;32m      4\u001b[0m \u001b[0;31m#ax.add_patch(circle1)\u001b[0m\u001b[0;34m\u001b[0m\u001b[0;34m\u001b[0m\u001b[0;34m\u001b[0m\u001b[0m\n\u001b[1;32m      5\u001b[0m \u001b[0;31m#plt.imshow(img)\u001b[0m\u001b[0;34m\u001b[0m\u001b[0;34m\u001b[0m\u001b[0;34m\u001b[0m\u001b[0m\n",
      "\u001b[0;31mNameError\u001b[0m: name 'plt' is not defined"
     ]
    }
   ],
   "source": [
    "pred = 30\n",
    "figure, ax = plt.figure(), plt.gca()\n",
    "#circle1 = plt.Circle((0.2, 0.5), 0.5, color='r')\n",
    "#ax.add_patch(circle1)\n",
    "#plt.imshow(img)\n",
    "ax.imshow(image)\n",
    "a_rad = label / 180. * np.pi + np.pi / 2\n",
    "c, r = (582,873), 300 #center, radius\n",
    "plot_density(ang_dens, c, r)\n",
    "t = (c[0] + int(np.cos(a_rad) * r), c[1] - int(np.sin(a_rad) * r))\n",
    "plt.plot((c[0], t[0]), (c[1], t[1] + 30), 'w', alpha = 1)\n",
    "a_rad = pred / 180. * np.pi + np.pi / 2\n",
    "c, r = (582,873), 300 #center, radius\n",
    "t = (c[0] + int(np.cos(a_rad) * r), c[1] - int(np.sin(a_rad) * r))\n",
    "plt.plot((c[0], t[0]), (c[1] , t[1] + 30), 'r', alpha = 1)\n",
    "plt.gca().add_artist(plt.Circle(c, r, edgecolor='dodgerblue', facecolor='k'))\n",
    "plt.text(c[0] - 550 , c[1] - 800, 'steering angle'.format(label), color='w')\n",
    "plt.text(c[0] - 550 , c[1] - 750, 'true: {:0.1f}$^\\circ$'.format(label), color='w')\n",
    "plt.text(c[0] - 550 , c[1] - 700, 'predicted: {:0.1f}$^\\circ$'.format(pred), color='r')\n",
    "ax.get_xaxis().set_visible(False)\n",
    "ax.get_yaxis().set_visible(False)\n",
    "figure.savefig('example_steering_visualization.pdf', format='pdf', dpi=900)"
   ]
  },
  {
   "cell_type": "code",
   "execution_count": 12,
   "metadata": {},
   "outputs": [
    {
     "data": {
      "text/html": [
       "<div>\n",
       "<style scoped>\n",
       "    .dataframe tbody tr th:only-of-type {\n",
       "        vertical-align: middle;\n",
       "    }\n",
       "\n",
       "    .dataframe tbody tr th {\n",
       "        vertical-align: top;\n",
       "    }\n",
       "\n",
       "    .dataframe thead th {\n",
       "        text-align: right;\n",
       "    }\n",
       "</style>\n",
       "<table border=\"1\" class=\"dataframe\">\n",
       "  <thead>\n",
       "    <tr style=\"text-align: right;\">\n",
       "      <th></th>\n",
       "      <th>angle</th>\n",
       "      <th>density</th>\n",
       "      <th>angle_rad</th>\n",
       "      <th>t</th>\n",
       "    </tr>\n",
       "  </thead>\n",
       "  <tbody>\n",
       "    <tr>\n",
       "      <th>0</th>\n",
       "      <td>-60.000000</td>\n",
       "      <td>0.00000</td>\n",
       "      <td>0.523599</td>\n",
       "      <td>(1448.0254037844386, 373.0)</td>\n",
       "    </tr>\n",
       "    <tr>\n",
       "      <th>1</th>\n",
       "      <td>-59.975995</td>\n",
       "      <td>0.00002</td>\n",
       "      <td>0.524018</td>\n",
       "      <td>(1447.815846377398, 372.6372114537391)</td>\n",
       "    </tr>\n",
       "    <tr>\n",
       "      <th>2</th>\n",
       "      <td>-59.951990</td>\n",
       "      <td>0.00004</td>\n",
       "      <td>0.524437</td>\n",
       "      <td>(1447.6061369938434, 372.2745107360762)</td>\n",
       "    </tr>\n",
       "    <tr>\n",
       "      <th>3</th>\n",
       "      <td>-59.927986</td>\n",
       "      <td>0.00006</td>\n",
       "      <td>0.524856</td>\n",
       "      <td>(1447.3962756705855, 371.9118979106767)</td>\n",
       "    </tr>\n",
       "    <tr>\n",
       "      <th>4</th>\n",
       "      <td>-59.903981</td>\n",
       "      <td>0.00008</td>\n",
       "      <td>0.525275</td>\n",
       "      <td>(1447.1862624444611, 371.54937304118954)</td>\n",
       "    </tr>\n",
       "    <tr>\n",
       "      <th>...</th>\n",
       "      <td>...</td>\n",
       "      <td>...</td>\n",
       "      <td>...</td>\n",
       "      <td>...</td>\n",
       "    </tr>\n",
       "    <tr>\n",
       "      <th>4995</th>\n",
       "      <td>59.903981</td>\n",
       "      <td>0.09992</td>\n",
       "      <td>2.616318</td>\n",
       "      <td>(-283.1862624444608, 371.5493730411892)</td>\n",
       "    </tr>\n",
       "    <tr>\n",
       "      <th>4996</th>\n",
       "      <td>59.927986</td>\n",
       "      <td>0.09994</td>\n",
       "      <td>2.616737</td>\n",
       "      <td>(-283.39627567058517, 371.91189791067626)</td>\n",
       "    </tr>\n",
       "    <tr>\n",
       "      <th>4997</th>\n",
       "      <td>59.951990</td>\n",
       "      <td>0.09996</td>\n",
       "      <td>2.617156</td>\n",
       "      <td>(-283.6061369938433, 372.2745107360762)</td>\n",
       "    </tr>\n",
       "    <tr>\n",
       "      <th>4998</th>\n",
       "      <td>59.975995</td>\n",
       "      <td>0.09998</td>\n",
       "      <td>2.617575</td>\n",
       "      <td>(-283.81584637739763, 372.63721145373876)</td>\n",
       "    </tr>\n",
       "    <tr>\n",
       "      <th>4999</th>\n",
       "      <td>60.000000</td>\n",
       "      <td>0.10000</td>\n",
       "      <td>2.617994</td>\n",
       "      <td>(-284.0254037844385, 372.99999999999966)</td>\n",
       "    </tr>\n",
       "  </tbody>\n",
       "</table>\n",
       "<p>5000 rows × 4 columns</p>\n",
       "</div>"
      ],
      "text/plain": [
       "          angle  density  angle_rad                                          t\n",
       "0    -60.000000  0.00000   0.523599                (1448.0254037844386, 373.0)\n",
       "1    -59.975995  0.00002   0.524018     (1447.815846377398, 372.6372114537391)\n",
       "2    -59.951990  0.00004   0.524437    (1447.6061369938434, 372.2745107360762)\n",
       "3    -59.927986  0.00006   0.524856    (1447.3962756705855, 371.9118979106767)\n",
       "4    -59.903981  0.00008   0.525275   (1447.1862624444611, 371.54937304118954)\n",
       "...         ...      ...        ...                                        ...\n",
       "4995  59.903981  0.09992   2.616318    (-283.1862624444608, 371.5493730411892)\n",
       "4996  59.927986  0.09994   2.616737  (-283.39627567058517, 371.91189791067626)\n",
       "4997  59.951990  0.09996   2.617156    (-283.6061369938433, 372.2745107360762)\n",
       "4998  59.975995  0.09998   2.617575  (-283.81584637739763, 372.63721145373876)\n",
       "4999  60.000000  0.10000   2.617994   (-284.0254037844385, 372.99999999999966)\n",
       "\n",
       "[5000 rows x 4 columns]"
      ]
     },
     "execution_count": 12,
     "metadata": {},
     "output_type": "execute_result"
    }
   ],
   "source": [
    "ang_dens"
   ]
  },
  {
   "cell_type": "code",
   "execution_count": null,
   "metadata": {},
   "outputs": [],
   "source": []
  }
 ],
 "metadata": {
  "kernelspec": {
   "display_name": "Python 3",
   "language": "python",
   "name": "python3"
  },
  "language_info": {
   "codemirror_mode": {
    "name": "ipython",
    "version": 3
   },
   "file_extension": ".py",
   "mimetype": "text/x-python",
   "name": "python",
   "nbconvert_exporter": "python",
   "pygments_lexer": "ipython3",
   "version": "3.8.2"
  }
 },
 "nbformat": 4,
 "nbformat_minor": 4
}
