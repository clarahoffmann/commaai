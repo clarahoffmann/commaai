{
 "cells": [
  {
   "cell_type": "code",
   "execution_count": 24,
   "metadata": {},
   "outputs": [],
   "source": [
    "import numpy as np\n",
    "import matplotlib.pyplot as plt\n",
    "import pandas as pd\n",
    "import imageio\n",
    "import cv2"
   ]
  },
  {
   "cell_type": "code",
   "execution_count": 25,
   "metadata": {},
   "outputs": [],
   "source": [
    "img_path = '../../data/commaai/train_bags_2/0/28_911run1.png'\n",
    "image = imageio.imread(img_path)"
   ]
  },
  {
   "cell_type": "code",
   "execution_count": 21,
   "metadata": {},
   "outputs": [],
   "source": [
    "ang_file = pd.read_csv('../../data/commaai/train_bags_2/1/angles_filename.csv', header = None)\n",
    "ang_file.columns = ['file', 'angle', 'tr_angle']"
   ]
  },
  {
   "cell_type": "code",
   "execution_count": 22,
   "metadata": {},
   "outputs": [],
   "source": [
    "label = ang_file.loc[ang_file['file'] == img_path, 'angle']"
   ]
  },
  {
   "cell_type": "code",
   "execution_count": 26,
   "metadata": {},
   "outputs": [],
   "source": [
    "label = 0"
   ]
  },
  {
   "cell_type": "code",
   "execution_count": 27,
   "metadata": {},
   "outputs": [],
   "source": [
    "a_rad = label / 180. * np.pi + np.pi / 2"
   ]
  },
  {
   "cell_type": "code",
   "execution_count": 28,
   "metadata": {},
   "outputs": [],
   "source": [
    "ang_dens = pd.DataFrame({'angle': np.linspace(-70,90,5000), 'density': np.linspace(0,0.1,5000) })"
   ]
  },
  {
   "cell_type": "code",
   "execution_count": 29,
   "metadata": {},
   "outputs": [],
   "source": [
    "def plot_density(ang_dens, c, r):\n",
    "    ang_dens['angle_rad'] = ang_dens['angle'].apply(lambda x: x / 180. * np.pi + np.pi / 2)\n",
    "    ang_dens['t'] = ang_dens['angle_rad'].apply(lambda x: (c[0] + np.cos(x) * r, c[1] - np.sin(x) * r))\n",
    "    for i in range(0, ang_dens['t'].shape[0]):\n",
    "        t = ang_dens['t'][i]\n",
    "        dens = ang_dens['density'][i]\n",
    "        plt.plot((c[0], t[0]), (c[1], t[1]), 'dodgerblue', alpha = dens)"
   ]
  },
  {
   "cell_type": "code",
   "execution_count": null,
   "metadata": {},
   "outputs": [],
   "source": [
    "pred = 30\n",
    "figure, ax = plt.figure(), plt.gca()\n",
    "#circle1 = plt.Circle((0.2, 0.5), 0.5, color='r')\n",
    "#ax.add_patch(circle1)\n",
    "#plt.imshow(img)\n",
    "ax.imshow(image)\n",
    "a_rad = label / 180. * np.pi + np.pi / 2\n",
    "c, r = (582,873), 300 #center, radius\n",
    "plot_density(ang_dens, c, r)\n",
    "t = (c[0] + int(np.cos(a_rad) * r), c[1] - int(np.sin(a_rad) * r))\n",
    "plt.plot((c[0], t[0]), (c[1], t[1] + 30), 'w', alpha = 1)\n",
    "a_rad = pred / 180. * np.pi + np.pi / 2\n",
    "c, r = (582,873), 300 #center, radius\n",
    "t = (c[0] + int(np.cos(a_rad) * r), c[1] - int(np.sin(a_rad) * r))\n",
    "plt.plot((c[0], t[0]), (c[1] , t[1] + 30), 'r', alpha = 1)\n",
    "plt.gca().add_artist(plt.Circle(c, r, edgecolor='dodgerblue', facecolor='k'))\n",
    "plt.text(c[0] - 550 , c[1] - 800, 'steering angle'.format(label), color='w')\n",
    "plt.text(c[0] - 550 , c[1] - 750, 'true: {:0.1f}$^\\circ$'.format(label), color='w')\n",
    "plt.text(c[0] - 550 , c[1] - 700, 'predicted: {:0.1f}$^\\circ$'.format(pred), color='r')\n",
    "ax.get_xaxis().set_visible(False)\n",
    "ax.get_yaxis().set_visible(False)\n",
    "figure.savefig('example_steering_visualization.pdf', format='pdf', dpi=900)"
   ]
  },
  {
   "cell_type": "code",
   "execution_count": null,
   "metadata": {},
   "outputs": [],
   "source": [
    "ang_dens"
   ]
  },
  {
   "cell_type": "code",
   "execution_count": null,
   "metadata": {},
   "outputs": [],
   "source": []
  }
 ],
 "metadata": {
  "kernelspec": {
   "display_name": "Python 3",
   "language": "python",
   "name": "python3"
  },
  "language_info": {
   "codemirror_mode": {
    "name": "ipython",
    "version": 3
   },
   "file_extension": ".py",
   "mimetype": "text/x-python",
   "name": "python",
   "nbconvert_exporter": "python",
   "pygments_lexer": "ipython3",
   "version": "3.8.5"
  }
 },
 "nbformat": 4,
 "nbformat_minor": 4
}
