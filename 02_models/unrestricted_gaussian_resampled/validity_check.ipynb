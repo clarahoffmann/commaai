{
 "cells": [
  {
   "cell_type": "code",
   "execution_count": 1,
   "metadata": {},
   "outputs": [],
   "source": [
    "# load packages\n",
    "import os\n",
    "import glob\n",
    "import pandas as pd\n",
    "import tensorflow as tf\n",
    "import numpy as np\n",
    "from tensorflow import keras\n",
    "from keras import backend\n",
    "from keras.layers import Dense, Conv2D, MaxPooling2D, Dropout, Flatten, BatchNormalization\n",
    "import matplotlib.pyplot as plt\n",
    "from tqdm import tqdm\n",
    "from sklearn.metrics import mean_squared_error\n",
    "from math import sqrt\n",
    "from tqdm import tqdm\n",
    "import matplotlib.pyplot as plt"
   ]
  },
  {
   "cell_type": "code",
   "execution_count": 2,
   "metadata": {},
   "outputs": [],
   "source": [
    "# path of model checkpoints\n",
    "checkpoint_path = '../../../data/models/20201021_unrestr_gaussian_resampled'\n",
    "shard_path = '../../../data/commaai/training_files/unrestricted_gauss_dens_resampled'\n",
    "shard_files = glob.glob(os.path.join(shard_path, \"*.tfrecords\")) "
   ]
  },
  {
   "cell_type": "code",
   "execution_count": 3,
   "metadata": {},
   "outputs": [],
   "source": [
    "val_angles_path = '../../../data/commaai/test_files/yaws.csv'\n",
    "val_angle = pd.read_csv(val_angles_path, header = None)\n",
    "val_files = ['../../../data/commaai/test_files/_test.tfrecords']"
   ]
  },
  {
   "cell_type": "code",
   "execution_count": 4,
   "metadata": {},
   "outputs": [],
   "source": [
    "#checkpoint_path = '../../../data/models/20201021_unrestr_gaussian_resampled/model.ckpt-74000'"
   ]
  },
  {
   "cell_type": "code",
   "execution_count": 5,
   "metadata": {},
   "outputs": [
    {
     "name": "stdout",
     "output_type": "stream",
     "text": [
      "INFO:tensorflow:Using default config.\n",
      "INFO:tensorflow:Using the Keras model provided.\n",
      "INFO:tensorflow:Using config: {'_model_dir': '../../../data/models/20201021_unrestr_gaussian_resampled', '_tf_random_seed': None, '_save_summary_steps': 100, '_save_checkpoints_steps': None, '_save_checkpoints_secs': 600, '_session_config': allow_soft_placement: true\n",
      "graph_options {\n",
      "  rewrite_options {\n",
      "    meta_optimizer_iterations: ONE\n",
      "  }\n",
      "}\n",
      ", '_keep_checkpoint_max': 5, '_keep_checkpoint_every_n_hours': 10000, '_log_step_count_steps': 100, '_train_distribute': None, '_device_fn': None, '_protocol': None, '_eval_distribute': None, '_experimental_distribute': None, '_experimental_max_worker_delay_secs': None, '_session_creation_timeout_secs': 7200, '_service': None, '_cluster_spec': ClusterSpec({}), '_task_type': 'worker', '_task_id': 0, '_global_id_in_cluster': 0, '_master': '', '_evaluation_master': '', '_is_chief': True, '_num_ps_replicas': 0, '_num_worker_replicas': 1}\n"
     ]
    }
   ],
   "source": [
    "# or thresholded relative error?\n",
    "Input = tf.keras.layers.Input(shape=(66, 200, 3,), name='image')\n",
    "x = Conv2D(24, kernel_size=(5, 5), activation='relu', strides=(2, 2))(Input)\n",
    "x = BatchNormalization()(x)\n",
    "x = Conv2D(36, kernel_size=(5, 5), activation='relu', strides=(2, 2))(x)\n",
    "x = BatchNormalization()(x)\n",
    "x = Conv2D(48, kernel_size=(5, 5), activation='relu', strides=(2, 2))(x)\n",
    "x = BatchNormalization()(x)\n",
    "x = Conv2D(64, kernel_size=(3, 3), activation='relu')(x)\n",
    "x = BatchNormalization()(x)\n",
    "x = Conv2D(64, kernel_size=(3, 3), activation='relu')(x)\n",
    "#x = BatchNormalization()(x)\n",
    "x = Flatten()(x)\n",
    "x = Dropout(0.5)(x)\n",
    "x = Dense(1164)(x)\n",
    "x = Dropout(0.5)(x)\n",
    "x = Dense(100)(x)\n",
    "x = Dropout(0.5)(x)\n",
    "x = Dense(50)(x) \n",
    "x = Dropout(0.2)(x)\n",
    "x = Dense(10)(x)\n",
    "Output = Dense(1, name = 'output_layer')(x)\n",
    "\n",
    "keras_model = tf.keras.models.Model(\n",
    "      inputs = [Input], outputs = [Output])\n",
    "\n",
    "keras_model.load_weights(tf.train.latest_checkpoint(checkpoint_path)) # tf.train.latest_checkpoint(checkpoint_path)\n",
    "\n",
    "def rmse(y_true, y_pred):\n",
    "\treturn backend.sqrt(backend.mean(backend.square(y_pred - y_true), axis=-1))\n",
    "\n",
    "adam_optimizer = keras.optimizers.Adam(learning_rate=0.00025)\n",
    "# old\n",
    "#keras.optimizers.Adadelta(learning_rate = 0.001, rho = 0.95, epsilon = 1e-07, name = 'Adadelta')\n",
    "keras_model.compile(\n",
    "    loss = 'mse',\n",
    "    optimizer = adam_optimizer,\n",
    "    metrics=[rmse, 'mse', 'mae'])\n",
    "\n",
    "keras_estimator = tf.keras.estimator.model_to_estimator(\n",
    "      keras_model=keras_model, model_dir = checkpoint_path)"
   ]
  },
  {
   "cell_type": "code",
   "execution_count": 14,
   "metadata": {},
   "outputs": [],
   "source": [
    "def imgs_input_fn_val(filenames, perform_shuffle = False, repeat_count = 1, batch_size = 500): \n",
    "    \n",
    "    # reads in single training example and returns it in a format that the estimator can\n",
    "    # use\n",
    "    def _parse_function(proto):\n",
    "        # define your tfrecord again. Remember that you saved your image as a string.\n",
    "        keys_to_features = {'image': tf.io.FixedLenFeature([], tf.string),\n",
    "                            'label': tf.io.FixedLenFeature([], tf.float32),\n",
    "                            'rows': tf.io.FixedLenFeature([], tf.int64),\n",
    "                            'cols': tf.io.FixedLenFeature([], tf.int64),\n",
    "                            'depth': tf.io.FixedLenFeature([], tf.int64),\n",
    "                            'tr_label': tf.io.FixedLenFeature([], tf.float32)\n",
    "                           }\n",
    "\n",
    "        # Load one example\n",
    "        parsed_example = tf.io.parse_single_example(proto, keys_to_features)\n",
    "\n",
    "        image_shape = tf.stack([874, 1164, 4])\n",
    "        image_raw = parsed_example['image']\n",
    "\n",
    "        label = tf.cast(parsed_example['label'], tf.float32)\n",
    "        tr_label = tf.cast(parsed_example['tr_label'], tf.float32)\n",
    "        image = tf.io.decode_raw(image_raw, tf.uint8)\n",
    "        image = tf.cast(image, tf.float32)\n",
    "\n",
    "        image = tf.reshape(image, image_shape)\n",
    "        image = tf.image.resize(image, [218, 291])[76:142, 45:245,0:3]\n",
    "        image = image/255 \n",
    "\n",
    "        return {'image':image}, tr_label\n",
    "    \n",
    "    dataset = tf.data.TFRecordDataset(filenames = filenames)\n",
    "    dataset = dataset.map(_parse_function)\n",
    "    if perform_shuffle:\n",
    "        # Randomizes input using a window of 256 elements (read into memory)\n",
    "        dataset = dataset.shuffle(buffer_size=256)\n",
    "    dataset = dataset.repeat(repeat_count)  # Repeats dataset this # times\n",
    "    dataset = dataset.batch(batch_size)  # Batch size to use\n",
    "    iterator = tf.compat.v1.data.make_one_shot_iterator(dataset)\n",
    "    batch_features, batch_labels = iterator.get_next()\n",
    "    \n",
    "    return batch_features, batch_labels"
   ]
  },
  {
   "cell_type": "code",
   "execution_count": 15,
   "metadata": {},
   "outputs": [],
   "source": [
    "images = []\n",
    "labels = []\n",
    "for i in range(0,1):\n",
    "    image, label = imgs_input_fn_val(shard_files)\n",
    "    image = np.array(image['image'])\n",
    "    images.append(image)\n",
    "    labels.append(np.array(label))\n",
    "images = np.array(images)\n",
    "labels = np.array(labels)"
   ]
  },
  {
   "cell_type": "code",
   "execution_count": 16,
   "metadata": {},
   "outputs": [
    {
     "name": "stderr",
     "output_type": "stream",
     "text": [
      "100%|██████████| 500/500 [00:53<00:00,  9.39it/s]\n"
     ]
    }
   ],
   "source": [
    "pred = []\n",
    "for i in tqdm(range(0, images.shape[1])):\n",
    "    img = images[0,i,:,:,:].reshape(1,66,200, 3)\n",
    "    single_pred = float(keras_model.predict(img))\n",
    "    pred.append(single_pred)"
   ]
  },
  {
   "cell_type": "code",
   "execution_count": 17,
   "metadata": {},
   "outputs": [
    {
     "data": {
      "text/plain": [
       "<matplotlib.collections.PathCollection at 0x7f44cc5e3430>"
      ]
     },
     "execution_count": 17,
     "metadata": {},
     "output_type": "execute_result"
    },
    {
     "data": {
      "image/png": "[encoded data removed]",
      "text/plain": [
       "<Figure size 432x288 with 1 Axes>"
      ]
     },
     "metadata": {
      "needs_background": "light"
     },
     "output_type": "display_data"
    }
   ],
   "source": [
    "plt.scatter(pred, labels)"
   ]
  },
  {
   "cell_type": "code",
   "execution_count": 10,
   "metadata": {},
   "outputs": [
    {
     "data": {
      "text/plain": [
       "(1, 100, 66, 200, 3)"
      ]
     },
     "execution_count": 10,
     "metadata": {},
     "output_type": "execute_result"
    }
   ],
   "source": [
    "images.shape"
   ]
  },
  {
   "cell_type": "code",
   "execution_count": 11,
   "metadata": {},
   "outputs": [],
   "source": [
    "import sys"
   ]
  },
  {
   "cell_type": "code",
   "execution_count": 12,
   "metadata": {},
   "outputs": [
    {
     "data": {
      "text/plain": [
       "15840160"
      ]
     },
     "execution_count": 12,
     "metadata": {},
     "output_type": "execute_result"
    }
   ],
   "source": [
    "sys.getsizeof(images)"
   ]
  },
  {
   "cell_type": "code",
   "execution_count": 13,
   "metadata": {},
   "outputs": [
    {
     "data": {
      "text/plain": [
       "15840.16"
      ]
     },
     "execution_count": 13,
     "metadata": {},
     "output_type": "execute_result"
    }
   ],
   "source": [
    "15840160/1000"
   ]
  },
  {
   "cell_type": "code",
   "execution_count": null,
   "metadata": {},
   "outputs": [],
   "source": []
  }
 ],
 "metadata": {
  "kernelspec": {
   "display_name": "Python 3",
   "language": "python",
   "name": "python3"
  },
  "language_info": {
   "codemirror_mode": {
    "name": "ipython",
    "version": 3
   },
   "file_extension": ".py",
   "mimetype": "text/x-python",
   "name": "python",
   "nbconvert_exporter": "python",
   "pygments_lexer": "ipython3",
   "version": "3.8.5"
  }
 },
 "nbformat": 4,
 "nbformat_minor": 4
}
