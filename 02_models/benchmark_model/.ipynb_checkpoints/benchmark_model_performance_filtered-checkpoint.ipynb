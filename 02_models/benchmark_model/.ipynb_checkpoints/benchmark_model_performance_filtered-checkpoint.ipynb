{
 "cells": [
  {
   "cell_type": "code",
   "execution_count": 1,
   "metadata": {},
   "outputs": [],
   "source": [
    "import pandas as pd\n",
    "import numpy as np\n",
    "import matplotlib.pyplot as plt\n",
    "from sklearn.metrics import mean_squared_error\n",
    "from math import sqrt\n",
    "import pandas as pd\n",
    "from tqdm import tqdm\n",
    "from scipy.stats import norm"
   ]
  },
  {
   "cell_type": "code",
   "execution_count": 5,
   "metadata": {},
   "outputs": [],
   "source": [
    "angles = pd.read_csv('../../../data/commaai/test_files/data/commaai/test_files/val_file_filtered/angle.csv', header = None)"
   ]
  },
  {
   "cell_type": "code",
   "execution_count": 6,
   "metadata": {},
   "outputs": [
    {
     "data": {
      "text/plain": [
       "(array([8.0000e+00, 5.0000e+00, 6.0000e+00, 6.0000e+00, 6.0000e+00,\n",
       "        1.0000e+01, 1.7000e+01, 2.0000e+01, 1.5000e+01, 8.0000e+00,\n",
       "        1.0000e+01, 8.0000e+00, 5.0000e+00, 1.4000e+01, 2.0000e+01,\n",
       "        7.0000e+00, 1.1000e+01, 9.0000e+00, 1.2000e+01, 1.1000e+01,\n",
       "        1.3000e+01, 9.0000e+00, 1.5000e+01, 2.0000e+01, 2.3000e+01,\n",
       "        1.5000e+01, 9.0000e+00, 1.9000e+01, 1.5000e+01, 1.1000e+01,\n",
       "        1.3000e+01, 2.4000e+01, 1.7000e+01, 4.0000e+01, 7.4000e+01,\n",
       "        5.0000e+01, 4.6000e+01, 8.9000e+01, 1.1700e+02, 1.6900e+02,\n",
       "        1.7900e+02, 2.4500e+02, 3.5600e+02, 5.4300e+02, 3.0890e+03,\n",
       "        4.2150e+03, 5.2610e+03, 6.6350e+03, 9.6800e+03, 2.2067e+04,\n",
       "        3.2923e+04, 9.6580e+03, 6.4010e+03, 5.2210e+03, 3.9880e+03,\n",
       "        2.0070e+03, 5.7800e+02, 3.1000e+02, 1.4100e+02, 1.0800e+02,\n",
       "        9.3000e+01, 8.4000e+01, 1.0600e+02, 7.8000e+01, 3.2000e+01,\n",
       "        4.5000e+01, 1.9000e+01, 1.9000e+01, 1.5000e+01, 7.0000e+00,\n",
       "        1.4000e+01, 7.0000e+00, 1.9000e+01, 1.1700e+02, 2.4000e+01,\n",
       "        1.3000e+01, 7.0000e+00, 5.0000e+00, 9.0000e+00, 2.0000e+00,\n",
       "        7.0000e+00, 2.0000e+00, 3.0000e+00, 5.0000e+00, 3.0000e+00,\n",
       "        6.0000e+00, 4.0000e+00, 4.0000e+00, 3.0000e+00, 2.0000e+00,\n",
       "        1.0000e+00, 4.0000e+00, 7.0000e+00, 2.0000e+00, 4.0000e+00,\n",
       "        1.0000e+00, 3.0000e+00, 5.0000e+00, 2.0000e+00, 3.0000e+00]),\n",
       " array([-59.7  , -58.508, -57.316, -56.124, -54.932, -53.74 , -52.548,\n",
       "        -51.356, -50.164, -48.972, -47.78 , -46.588, -45.396, -44.204,\n",
       "        -43.012, -41.82 , -40.628, -39.436, -38.244, -37.052, -35.86 ,\n",
       "        -34.668, -33.476, -32.284, -31.092, -29.9  , -28.708, -27.516,\n",
       "        -26.324, -25.132, -23.94 , -22.748, -21.556, -20.364, -19.172,\n",
       "        -17.98 , -16.788, -15.596, -14.404, -13.212, -12.02 , -10.828,\n",
       "         -9.636,  -8.444,  -7.252,  -6.06 ,  -4.868,  -3.676,  -2.484,\n",
       "         -1.292,  -0.1  ,   1.092,   2.284,   3.476,   4.668,   5.86 ,\n",
       "          7.052,   8.244,   9.436,  10.628,  11.82 ,  13.012,  14.204,\n",
       "         15.396,  16.588,  17.78 ,  18.972,  20.164,  21.356,  22.548,\n",
       "         23.74 ,  24.932,  26.124,  27.316,  28.508,  29.7  ,  30.892,\n",
       "         32.084,  33.276,  34.468,  35.66 ,  36.852,  38.044,  39.236,\n",
       "         40.428,  41.62 ,  42.812,  44.004,  45.196,  46.388,  47.58 ,\n",
       "         48.772,  49.964,  51.156,  52.348,  53.54 ,  54.732,  55.924,\n",
       "         57.116,  58.308,  59.5  ]),\n",
       " <BarContainer object of 100 artists>)"
      ]
     },
     "execution_count": 6,
     "metadata": {},
     "output_type": "execute_result"
    },
    {
     "data": {
      "image/png": "[encoded data removed]",
      "text/plain": [
       "<Figure size 432x288 with 1 Axes>"
      ]
     },
     "metadata": {
      "needs_background": "light"
     },
     "output_type": "display_data"
    }
   ],
   "source": [
    "plt.hist(angles[0], bins = 100)"
   ]
  },
  {
   "cell_type": "code",
   "execution_count": 7,
   "metadata": {},
   "outputs": [
    {
     "data": {
      "text/plain": [
       "2.422094343383571"
      ]
     },
     "execution_count": 7,
     "metadata": {},
     "output_type": "execute_result"
    }
   ],
   "source": [
    "np.mean(abs(angles[0] - 0))"
   ]
  },
  {
   "cell_type": "code",
   "execution_count": 8,
   "metadata": {},
   "outputs": [
    {
     "data": {
      "text/plain": [
       "0.9224609358073267"
      ]
     },
     "execution_count": 8,
     "metadata": {},
     "output_type": "execute_result"
    }
   ],
   "source": [
    "np.mean(abs(angles[0] ) <= 6)"
   ]
  },
  {
   "cell_type": "code",
   "execution_count": null,
   "metadata": {},
   "outputs": [],
   "source": [
    "min(angles[0])"
   ]
  },
  {
   "cell_type": "code",
   "execution_count": 19,
   "metadata": {},
   "outputs": [
    {
     "data": {
      "text/plain": [
       "19.37462244446948"
      ]
     },
     "execution_count": 19,
     "metadata": {},
     "output_type": "execute_result"
    }
   ],
   "source": [
    "mean_squared_error(angles[0], np.repeat(0, len(angles[0])))"
   ]
  },
  {
   "cell_type": "code",
   "execution_count": 9,
   "metadata": {},
   "outputs": [],
   "source": [
    "rmse = sqrt(mean_squared_error(angles[0], np.repeat(0, len(angles[0]))))"
   ]
  },
  {
   "cell_type": "code",
   "execution_count": 10,
   "metadata": {},
   "outputs": [
    {
     "data": {
      "text/plain": [
       "4.401661327779488"
      ]
     },
     "execution_count": 10,
     "metadata": {},
     "output_type": "execute_result"
    }
   ],
   "source": [
    "rmse"
   ]
  },
  {
   "cell_type": "markdown",
   "metadata": {},
   "source": [
    "## with transformed values"
   ]
  },
  {
   "cell_type": "code",
   "execution_count": 13,
   "metadata": {},
   "outputs": [],
   "source": [
    "# read density\n",
    "density = pd.read_csv('../../../data/commaai/density/gaussian_density.csv')"
   ]
  },
  {
   "cell_type": "code",
   "execution_count": 14,
   "metadata": {},
   "outputs": [],
   "source": [
    "def find_closest_element(y: float, arr: np.ndarray):\n",
    "    index = np.searchsorted(arr,y)\n",
    "    if (index >= 1) & (index < arr.shape[0]):\n",
    "        res = [arr[index - 1], arr[index]]\n",
    "    elif (index < arr.shape[0]):\n",
    "        return np.array(index)\n",
    "    else:\n",
    "        return np.array(index - 1)\n",
    "\n",
    "    if res[0] == res[1]:\n",
    "        return np.array(index - 1)\n",
    "    else:\n",
    "        diff_pre = np.abs(y-res[0])\n",
    "        diff_aft = np.abs(y-res[1])\n",
    "        if diff_pre == diff_aft:\n",
    "            return np.array(index - 1)\n",
    "        else:\n",
    "            return index - 1 if diff_pre < diff_aft else index\n",
    "def Fy(y, density):\n",
    "    integral = density.loc[find_closest_element(y, density['axes']),'cdf']\n",
    "    return(integral)  "
   ]
  },
  {
   "cell_type": "code",
   "execution_count": 15,
   "metadata": {},
   "outputs": [
    {
     "name": "stderr",
     "output_type": "stream",
     "text": [
      "/home/hofmancl/.local/lib/python3.8/site-packages/tqdm/std.py:668: FutureWarning: The Panel class is removed from pandas. Accessing it from the top-level namespace will also be removed in the next version\n",
      "  from pandas import Panel\n",
      "100%|██████████| 115387/115387 [01:28<00:00, 1296.79it/s]\n"
     ]
    }
   ],
   "source": [
    "tqdm.pandas()\n",
    "angles['trans'] = angles[0].progress_apply(lambda x: norm.ppf(Fy(x, density)))"
   ]
  },
  {
   "cell_type": "code",
   "execution_count": 16,
   "metadata": {},
   "outputs": [],
   "source": [
    "x_0 = norm.ppf(Fy(0, density))"
   ]
  },
  {
   "cell_type": "code",
   "execution_count": 17,
   "metadata": {},
   "outputs": [],
   "source": [
    "# mean absolute error"
   ]
  },
  {
   "cell_type": "code",
   "execution_count": 18,
   "metadata": {},
   "outputs": [
    {
     "data": {
      "text/plain": [
       "0.7571474792200951"
      ]
     },
     "execution_count": 18,
     "metadata": {},
     "output_type": "execute_result"
    }
   ],
   "source": [
    "np.mean(abs(angles['trans'] - x_0))"
   ]
  },
  {
   "cell_type": "code",
   "execution_count": 20,
   "metadata": {},
   "outputs": [
    {
     "data": {
      "text/plain": [
       "0.9151511427411118"
      ]
     },
     "execution_count": 20,
     "metadata": {},
     "output_type": "execute_result"
    }
   ],
   "source": [
    "# mean squared error\n",
    "mean_squared_error(angles['trans'], np.repeat(x_0, len(angles[0])))"
   ]
  },
  {
   "cell_type": "code",
   "execution_count": 21,
   "metadata": {},
   "outputs": [
    {
     "data": {
      "text/plain": [
       "0.9566353237995718"
      ]
     },
     "execution_count": 21,
     "metadata": {},
     "output_type": "execute_result"
    }
   ],
   "source": [
    "# rms\n",
    "rms = sqrt(mean_squared_error(angles['trans'], np.repeat(x_0, len(angles[0]))))\n",
    "rms"
   ]
  },
  {
   "cell_type": "code",
   "execution_count": 22,
   "metadata": {},
   "outputs": [
    {
     "data": {
      "text/plain": [
       "0.5570211548961321"
      ]
     },
     "execution_count": 22,
     "metadata": {},
     "output_type": "execute_result"
    }
   ],
   "source": [
    "# accuracy\n",
    "np.mean(abs(angles[0]) <= norm.ppf(Fy(6, density)))"
   ]
  },
  {
   "cell_type": "code",
   "execution_count": null,
   "metadata": {},
   "outputs": [],
   "source": []
  }
 ],
 "metadata": {
  "kernelspec": {
   "display_name": "Python 3",
   "language": "python",
   "name": "python3"
  },
  "language_info": {
   "codemirror_mode": {
    "name": "ipython",
    "version": 3
   },
   "file_extension": ".py",
   "mimetype": "text/x-python",
   "name": "python",
   "nbconvert_exporter": "python",
   "pygments_lexer": "ipython3",
   "version": "3.8.5"
  }
 },
 "nbformat": 4,
 "nbformat_minor": 4
}
