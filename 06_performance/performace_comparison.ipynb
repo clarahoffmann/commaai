{
 "cells": [
  {
   "cell_type": "code",
   "execution_count": 34,
   "metadata": {},
   "outputs": [],
   "source": [
    "import numpy as np\n",
    "import pandas as pd\n",
    "from scipy.stats import norm\n",
    "from tqdm import tqdm"
   ]
  },
  {
   "cell_type": "code",
   "execution_count": 2,
   "metadata": {},
   "outputs": [],
   "source": [
    "extracted_coefficients_directory_Bzeta = '../../data/commaai/extracted_coefficients/20201027_filtered_gaussian_resampled/Bzeta/'"
   ]
  },
  {
   "cell_type": "code",
   "execution_count": 32,
   "metadata": {},
   "outputs": [],
   "source": [
    "def find_closest_element(y: float, arr: np.ndarray):\n",
    "    index = np.searchsorted(arr,y)\n",
    "    if index >= 1 and index < len(arr):\n",
    "        res = [arr[index - 1], arr[index]]\n",
    "    elif index == len(arr) :\n",
    "        return np.array(index - 1)\n",
    "    else:\n",
    "        return index\n",
    "\n",
    "    if res[0] == res[1]:\n",
    "        return np.array(index - 1)\n",
    "    else:\n",
    "        diff_pre = np.abs(y-res[0])\n",
    "        diff_aft = np.abs(y-res[1])\n",
    "        if diff_pre == diff_aft:\n",
    "            return np.array(index - 1)\n",
    "        else:\n",
    "            return index - 1 if diff_pre < diff_aft else index"
   ]
  },
  {
   "cell_type": "code",
   "execution_count": 4,
   "metadata": {},
   "outputs": [],
   "source": [
    "density_path = '../../data/commaai/density/gaussian_density_filtered.csv'\n",
    "density = pd.read_csv(density_path)"
   ]
  },
  {
   "cell_type": "code",
   "execution_count": 5,
   "metadata": {},
   "outputs": [],
   "source": [
    "labels = np.load(str(extracted_coefficients_directory_Bzeta + 'labels_val.npy'))\n",
    "B_zetas = np.load(str(extracted_coefficients_directory_Bzeta + 'B_zeta_val.npy'))\n",
    "tr_labels = np.load(str(extracted_coefficients_directory_Bzeta + 'tr_labels_val.npy'))"
   ]
  },
  {
   "cell_type": "code",
   "execution_count": 6,
   "metadata": {},
   "outputs": [],
   "source": [
    "#beta_dnn = np.genfromtxt('../../data/commaai/extracted_coefficients/20201027_filtered_gaussian_resampled/beta/beta.csv', delimiter = ',')\n",
    "beta_mcmc = np.mean(np.genfromtxt('../../data/commaai/mcmc/filtered_gaussian_resampled/Ridge/betas.csv', delimiter = ',')[10000:,:], axis = 0)\n",
    "beta_va = np.mean(np.genfromtxt('../../data/commaai/va/filtered_gaussian_resampled/Ridge/mu_t_va.csv', delimiter = ',')[20000:,0:10], axis = 0)\n"
   ]
  },
  {
   "cell_type": "code",
   "execution_count": 7,
   "metadata": {},
   "outputs": [],
   "source": [
    "# transformed\n",
    "pred_mcmc = pd.DataFrame({'pred_z':  [item for sublist in B_zetas.dot(beta_mcmc) for item in sublist]})\n",
    "pred_va = pd.DataFrame({'pred_z': [item for sublist in  B_zetas.dot(beta_va)for item in sublist]})\n",
    "mae__z_mcmc = np.mean(abs(pred_mcmc['pred_z'] - tr_labels))\n",
    "mae_z_va = np.mean(abs(pred_va['pred_z'] - tr_labels))\n",
    "mse_z_mcmc = np.mean(abs(pred_mcmc['pred_z'] - tr_labels)**2)\n",
    "mse_z_va = np.mean(abs(pred_va['pred_z'] - tr_labels)**2)\n",
    "# transformed back"
   ]
  },
  {
   "cell_type": "code",
   "execution_count": 35,
   "metadata": {},
   "outputs": [
    {
     "name": "stderr",
     "output_type": "stream",
     "text": [
      "/home/hofmancl/.local/lib/python3.8/site-packages/tqdm/std.py:668: FutureWarning: The Panel class is removed from pandas. Accessing it from the top-level namespace will also be removed in the next version\n",
      "  from pandas import Panel\n",
      "100%|██████████| 10472/10472 [00:06<00:00, 1706.59it/s]\n",
      "100%|██████████| 10472/10472 [00:05<00:00, 1855.83it/s]\n"
     ]
    }
   ],
   "source": [
    "tqdm.pandas()\n",
    "pred_mcmc['pred_y'] = pred_mcmc['pred_z'].progress_apply(lambda x: norm.cdf(density.loc[find_closest_element(x, density['cdf']), 'axes']))\n",
    "pred_va['pred_y'] = pred_va['pred_z'].progress_apply(lambda x: norm.cdf(density.loc[find_closest_element(x, density['cdf']), 'axes']))\n"
   ]
  },
  {
   "cell_type": "code",
   "execution_count": 45,
   "metadata": {},
   "outputs": [
    {
     "name": "stdout",
     "output_type": "stream",
     "text": [
      "mean absolute error MCMC: 0.6748485246934615\n",
      "mean absolute error VA: 0.6748975096475874\n",
      "accuracy MCMC 1.0\n",
      "accuracy VA 1.0\n",
      "mean squared error MCMC: 0.7501234890574127\n",
      "mean squared error VA: 0.7502340404841749\n"
     ]
    }
   ],
   "source": [
    "mae_y_mcmc = np.mean(abs(pred_mcmc['pred_y'] - tr_labels))\n",
    "mae_y_va = np.mean(abs(pred_va['pred_y'] - tr_labels))\n",
    "accuracy_mcmc = np.mean(abs(pred_mcmc['pred_y'] - tr_labels) <= 6)\n",
    "accuracy_va = np.mean(abs(pred_va['pred_y'] - tr_labels) <= 6)\n",
    "mse_y_mcmc = np.mean(abs(pred_mcmc['pred_y'] - tr_labels)**2)\n",
    "mse_y_va = np.mean(abs(pred_va['pred_y'] - tr_labels)**2)\n",
    "print('mean absolute error MCMC: ' + str(mae_y_mcmc) +\n",
    "     '\\nmean absolute error VA: ' + str(mae_y_va) +\n",
    "     '\\naccuracy MCMC ' + str(accuracy_mcmc) +\n",
    "     '\\naccuracy VA ' + str(accuracy_va) +\n",
    "     '\\nmean squared error MCMC: ' + str(mse_y_mcmc) +\n",
    "     '\\nmean squared error VA: ' + str(mse_y_va) )"
   ]
  },
  {
   "cell_type": "code",
   "execution_count": 49,
   "metadata": {},
   "outputs": [
    {
     "data": {
      "text/plain": [
       "0.866160516581179"
      ]
     },
     "execution_count": 49,
     "metadata": {},
     "output_type": "execute_result"
    }
   ],
   "source": [
    "np.sqrt(0.7502340404841749)"
   ]
  },
  {
   "cell_type": "code",
   "execution_count": 29,
   "metadata": {},
   "outputs": [
    {
     "data": {
      "text/plain": [
       "array(65535)"
      ]
     },
     "execution_count": 29,
     "metadata": {},
     "output_type": "execute_result"
    }
   ],
   "source": [
    "find_closest_element(1.5, density['cdf'])"
   ]
  },
  {
   "cell_type": "code",
   "execution_count": 19,
   "metadata": {},
   "outputs": [
    {
     "data": {
      "text/plain": [
       "0        1.827306e-09\n",
       "1        3.652270e-09\n",
       "2        5.475983e-09\n",
       "3        7.299531e-09\n",
       "4        9.124003e-09\n",
       "             ...     \n",
       "65531    1.000000e+00\n",
       "65532    1.000000e+00\n",
       "65533    1.000000e+00\n",
       "65534    1.000000e+00\n",
       "65535    1.000000e+00\n",
       "Name: cdf, Length: 65536, dtype: float64"
      ]
     },
     "execution_count": 19,
     "metadata": {},
     "output_type": "execute_result"
    }
   ],
   "source": [
    "density['cdf']"
   ]
  },
  {
   "cell_type": "code",
   "execution_count": null,
   "metadata": {},
   "outputs": [],
   "source": []
  }
 ],
 "metadata": {
  "kernelspec": {
   "display_name": "Python 3",
   "language": "python",
   "name": "python3"
  },
  "language_info": {
   "codemirror_mode": {
    "name": "ipython",
    "version": 3
   },
   "file_extension": ".py",
   "mimetype": "text/x-python",
   "name": "python",
   "nbconvert_exporter": "python",
   "pygments_lexer": "ipython3",
   "version": "3.8.5"
  }
 },
 "nbformat": 4,
 "nbformat_minor": 4
}
