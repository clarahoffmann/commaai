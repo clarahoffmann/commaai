{
 "cells": [
  {
   "cell_type": "code",
   "execution_count": 2,
   "metadata": {},
   "outputs": [],
   "source": [
    "import numpy as np\n",
    "import matplotlib.pyplot as plt"
   ]
  },
  {
   "cell_type": "markdown",
   "metadata": {},
   "source": [
    "## Accuracy of HMC vs. VA for CPL/Ridge"
   ]
  },
  {
   "cell_type": "code",
   "execution_count": null,
   "metadata": {},
   "outputs": [],
   "source": [
    "# load HMC results\n",
    "all_thetas = np.load('../../data/commaai/mcmc/filtered_gaussian_resampled/Ridge/all_thetas_L100_3000.npy')\n",
    "# load VA results\n",
    "lower_bounds = np.load('../../data/commaai/va/filtered_gaussian_resampled/Ridge/lower_bounds_factor_4_50.npy')\n",
    "mu_ts = np.load('../../data/commaai/va/filtered_gaussian_resampled/Ridge/mu_ts23_factor_4_50.npy')\n",
    "B_ts = np.load('../../data/commaai/va/filtered_gaussian_resampled/Ridge/B_ts23_factor_4_50.npy')\n",
    "d_ts = np.load('../../data/commaai/va/filtered_gaussian_resampled/Ridge/d_ts23_factor_4_50.npy')"
   ]
  },
  {
   "cell_type": "code",
   "execution_count": null,
   "metadata": {},
   "outputs": [],
   "source": [
    "# take last 1% of VA results\n",
    "iterations = len(lower_bounds)\n",
    "mu_t = np.mean(mu_ts[int(0.9*iterations):iterations,:], axis = 0)\n",
    "B_t = np.mean(B_ts[int(0.9*iterations):iterations,:], axis = 0)\n",
    "d_t = np.mean(d_ts[int(0.9*iterations):iterations,:], axis = 0)\n",
    "var = np.sqrt(np.diag(B_t.dot(B_t.T) + d_t**2))\n",
    "samples_tau = np.exp(np.random.normal(mu_t[10], var[10], 100000))\n",
    "#var[10] = np.std(samples_tau)\n",
    "mu_t[10] = np.mean(samples_tau)\n",
    "# take results for HMC after burnin\n",
    "burnin = 500\n",
    "# transform log tau\n",
    "all_thetas2 = all_thetas.copy()\n",
    "all_thetas2[:,10] = np.exp(all_thetas[:,10])\n",
    "mu_hmc = np.mean(all_thetas2[500:,:], axis = 0)\n",
    "std_hmc = np.std(all_thetas[500:,:], axis = 0)"
   ]
  },
  {
   "cell_type": "code",
   "execution_count": null,
   "metadata": {},
   "outputs": [],
   "source": [
    "plt.scatter(mu_t[0:10], mu_hmc[0:10], color = 'black', s = 25)\n",
    "plt.scatter(mu_t[10], mu_hmc[10], color = 'red', s = 25)\n",
    "plt.plot([-.5,.5], [-.5,.5], color = 'grey', linestyle = ':')\n",
    "plt.xlabel(str('mean of ' + r'$\\beta$' + ' and ' + r'$\\tau$' + ' (VAFC)'), fontsize=12)\n",
    "plt.ylabel(str('mean of ' + r'$\\beta$' + ' and ' + r'$\\tau$' + ' (HMC)'), fontsize=12)\n",
    "plt.gca().set_aspect('equal', adjustable='box')\n",
    "plt.draw()\n",
    "plt.savefig('../../data/commaai/accuracy/CPL_Ridge_means.png', dpi = 600, bbox_inches='tight') "
   ]
  },
  {
   "cell_type": "code",
   "execution_count": null,
   "metadata": {},
   "outputs": [],
   "source": [
    "plt.scatter(var[0:10], std_hmc[0:10], color = 'black', s = 25)\n",
    "plt.scatter(var[10], std_hmc[10], color = 'red', s = 25)\n",
    "plt.plot([0,.07], [0,.07], color = 'grey', linestyle = ':')\n",
    "plt.xlabel(str('s.d. of ' + r'$\\beta$' + ' and ' + r'$\\log(\\tau)$' + ' (VAFC)'), fontsize=12)\n",
    "plt.ylabel(str('s.d. of ' + r'$\\beta$' + ' and ' + r'$\\log(\\tau)$' + ' (HMC)'), fontsize=12)\n",
    "plt.gca().set_aspect('equal', adjustable='box')\n",
    "plt.draw()\n",
    "plt.savefig('../../data/commaai/accuracy/CPL_Ridge_sd.png', dpi = 600, bbox_inches='tight') "
   ]
  },
  {
   "cell_type": "code",
   "execution_count": null,
   "metadata": {},
   "outputs": [],
   "source": [
    "fig, ax = plt.subplots()\n",
    "ax.plot(lower_bounds[0:8000], color = 'blue', linewidth = '0.5')\n",
    "ax.set_ylabel('evidence lower bound', fontsize = 12)\n",
    "ax.set_xlabel('iteration', fontsize=12)\n",
    "ax.set_box_aspect(1)\n",
    "ax.ticklabel_format(style='sci', axis='y', scilimits=(0,0))\n",
    "ax.yaxis.major.formatter._useMathText = True\n",
    "plt.savefig('../../data/commaai/accuracy/CPL_Ridge_convergence.png', dpi = 600, bbox_inches='tight') "
   ]
  },
  {
   "cell_type": "code",
   "execution_count": null,
   "metadata": {},
   "outputs": [],
   "source": [
    "colors = ['azure', 'powderblue', 'darkblue', 'darkslateblue', 'lightblue', 'navy', 'dodgerblue', 'royalblue', 'mediumblue', 'cornflowerblue']\n",
    "fig, ax = plt.subplots()\n",
    "for i in range(0,10):\n",
    "    ax.plot(all_thetas[500:,i], color = colors[i], linewidth = 0.5)\n",
    "ax.plot(np.exp(all_thetas[500:,10]))\n",
    "ax.set_box_aspect(1)\n",
    "ax.set_ylabel('value', fontsize=12)\n",
    "ax.set_xlabel('iteration - burn-in', fontsize=12)\n",
    "plt.savefig('../../data/commaai/accuracy/CPL_Ridge_hmc_convergence.png', dpi = 600, bbox_inches='tight') "
   ]
  },
  {
   "cell_type": "markdown",
   "metadata": {},
   "source": [
    "## Accuracy for CIL/Ridge"
   ]
  },
  {
   "cell_type": "code",
   "execution_count": null,
   "metadata": {},
   "outputs": [],
   "source": [
    "# load HMC results\n",
    "all_thetas = np.load('../../data/commaai/mcmc/unfiltered_gaussian_resampled/Ridge/all_thetas_L100_5000.npy')\n",
    "# load VA results\n",
    "lower_bounds = np.load('../../data/commaai/va/unfiltered_gaussian_resampled/Ridge/lower_bounds_factor_50.npy')\n",
    "mu_ts = np.load('../../data/commaai/va/unfiltered_gaussian_resampled/Ridge/mu_ts23_factor_50.npy')\n",
    "B_ts = np.load('../../data/commaai/va/unfiltered_gaussian_resampled/Ridge/B_ts23_factor_50.npy')\n",
    "d_ts = np.load('../../data/commaai/va/unfiltered_gaussian_resampled/Ridge/d_ts23_factor_50.npy')"
   ]
  },
  {
   "cell_type": "code",
   "execution_count": null,
   "metadata": {},
   "outputs": [],
   "source": [
    "# take last 1% of VA results\n",
    "iterations = len(lower_bounds)\n",
    "mu_t = np.mean(mu_ts[int(0.95*iterations):iterations,:], axis = 0)\n",
    "B_t = np.mean(B_ts[int(0.95*iterations):iterations,:], axis = 0)\n",
    "d_t = np.mean(d_ts[int(0.95*iterations):iterations,:], axis = 0)\n",
    "var = np.sqrt(np.diag(B_t.dot(B_t.T) + d_t**2))\n",
    "samples_tau = np.exp(np.random.normal(mu_t[10], var[10], 100000))\n",
    "#var = np.genfromtxt('../../../data/commaai/va/unfiltered_gaussian_resampled/Ridge/Var.csv', delimiter = ',')\n",
    "#var[10] = np.std(samples_tau)\n",
    "mu_t[10] = np.mean(samples_tau)\n",
    "# take results for HMC after burnin\n",
    "burnin = 100\n",
    "# transform log tau\n",
    "all_thetas2 = all_thetas.copy()\n",
    "all_thetas2[:,10] = np.exp(all_thetas[:,10])\n",
    "mu_hmc = np.mean(all_thetas2[500:,:], axis = 0)\n",
    "std_hmc = np.std(all_thetas[500:,:], axis = 0)"
   ]
  },
  {
   "cell_type": "code",
   "execution_count": null,
   "metadata": {},
   "outputs": [],
   "source": [
    "plt.scatter(mu_t[0:10], mu_hmc[0:10], color = 'black', s = 25)\n",
    "plt.scatter(mu_t[10], mu_hmc[10], color = 'red', s = 25)\n",
    "plt.plot([-.5,.5], [-.5,.5], color = 'grey', linestyle = ':')\n",
    "plt.xlabel(str('mean of ' + r'$\\beta$' + ' and ' + r'$\\tau$' + ' (VAFC)'), fontsize=12)\n",
    "plt.ylabel(str('mean of ' + r'$\\beta$' + ' and ' + r'$\\tau$' + ' (HMC)'), fontsize=12)\n",
    "plt.gca().set_aspect('equal', adjustable='box')\n",
    "plt.draw()\n",
    "plt.savefig('../../data/commaai/accuracy/CIL_Ridge_means.png', dpi = 600, bbox_inches='tight') "
   ]
  },
  {
   "cell_type": "code",
   "execution_count": null,
   "metadata": {},
   "outputs": [],
   "source": [
    "plt.scatter(var[0:10], std_hmc[0:10], color = 'black', s = 25)\n",
    "plt.scatter(var[10], std_hmc[10], color = 'red', s = 25)\n",
    "plt.plot([0,.1], [0,.1], color = 'grey', linestyle = ':')\n",
    "plt.xlabel(str('s.d. of ' + r'$\\beta$' + ' and ' + r'$\\log(\\tau)$' + ' (VAFC)'), fontsize=12)\n",
    "plt.ylabel(str('s.d. of ' + r'$\\beta$' + ' and ' + r'$\\log(\\tau)$' + ' (HMC)'), fontsize=12)\n",
    "plt.gca().set_aspect('equal', adjustable='box')\n",
    "plt.draw()\n",
    "plt.savefig('../../data/commaai/accuracy/CIL_Ridge_sd.png', dpi = 600, bbox_inches='tight') "
   ]
  },
  {
   "cell_type": "code",
   "execution_count": null,
   "metadata": {},
   "outputs": [],
   "source": [
    "fig, ax = plt.subplots()\n",
    "ax.plot(lower_bounds[0:8000], color = 'blue', linewidth = '0.5')\n",
    "ax.set_ylabel('evidence lower bound', fontsize = 12)\n",
    "ax.set_xlabel('iteration', fontsize=12)\n",
    "ax.set_box_aspect(1)\n",
    "ax.ticklabel_format(style='sci', axis='y', scilimits=(0,0))\n",
    "ax.yaxis.major.formatter._useMathText = True\n",
    "plt.savefig('../../data/commaai/accuracy/CIL_Ridge_convergence.png', dpi = 600, bbox_inches='tight') "
   ]
  },
  {
   "cell_type": "code",
   "execution_count": null,
   "metadata": {},
   "outputs": [],
   "source": [
    "colors = ['azure', 'powderblue', 'darkblue', 'darkslateblue', 'lightblue', 'navy', 'dodgerblue', 'royalblue', 'mediumblue', 'cornflowerblue']\n",
    "fig, ax = plt.subplots()\n",
    "for i in range(0,10):\n",
    "    ax.plot(all_thetas[500:,i], color = colors[i], linewidth = 0.5)\n",
    "ax.plot(np.exp(all_thetas[500:,10]))\n",
    "ax.set_box_aspect(1)\n",
    "ax.set_ylabel('value', fontsize=12)\n",
    "ax.set_xlabel('iteration - burn-in', fontsize=12)\n",
    "plt.savefig('../../data/commaai/accuracy/CIL_Ridge_hmc_convergence.png', dpi = 600, bbox_inches='tight') "
   ]
  },
  {
   "cell_type": "markdown",
   "metadata": {},
   "source": [
    "# Accuracy HMC/VA Horseshoe"
   ]
  },
  {
   "cell_type": "code",
   "execution_count": null,
   "metadata": {},
   "outputs": [],
   "source": [
    "# load HMC results\n",
    "all_thetas = np.load('../../data/commaai/mcmc/filtered_gaussian_resampled/Horseshoe/all_thetas_try.npy')\n",
    "# load VA results\n",
    "lower_bounds = np.load('../../data/commaai/va/filtered_gaussian_resampled/Horseshoe/lower_bounds2_new_dev.npy')\n",
    "mu_ts = np.load('../../data/commaai/va/filtered_gaussian_resampled/Horseshoe/mu_ts2_new_dev.npy')\n",
    "B_ts = np.load('../../data/commaai/va/filtered_gaussian_resampled/Horseshoe/B_ts2_new_dev.npy')\n",
    "d_ts = np.load('../../data/commaai/va/filtered_gaussian_resampled/Horseshoe/d_ts2_new_dev.npy')"
   ]
  },
  {
   "cell_type": "code",
   "execution_count": null,
   "metadata": {},
   "outputs": [],
   "source": [
    "# take last 1% of VA results\n",
    "iterations = len(lower_bounds)\n",
    "mu_t = np.mean(mu_ts[int(0.9*iterations):iterations,:], axis = 0)\n",
    "B_t = np.mean(B_ts[int(0.9*iterations):iterations,:], axis = 0)\n",
    "d_t = np.mean(d_ts[int(0.9*iterations):iterations,:], axis = 0)\n",
    "var = np.sqrt(np.diag(B_t.dot(B_t.T) + d_t**2))\n",
    "samples_lambda = np.exp(0.5*np.random.multivariate_normal(mu_t[10:20].reshape(10,), np.diag(var[10:20]), 100000))\n",
    "samples_tau = np.exp(np.random.normal(mu_t[20], var[20], 100000))\n",
    "#var[10] = np.std(samples_tau)\n",
    "mu_t[10:20] = np.mean(samples_lambda, axis = 0).reshape(10,1)\n",
    "mu_t[20] = np.mean(samples_tau)\n",
    "var[10:20] = np.std(samples_lambda, axis = 0).reshape(10)\n",
    "var[20] = np.std(samples_tau)\n",
    "# take results for HMC after burnin\n",
    "burnin = 2000\n",
    "# transform log tau\n",
    "all_thetas2 = all_thetas.copy()\n",
    "all_thetas2[:,20] = np.exp(all_thetas[:,20])\n",
    "all_thetas2[:,10:20] = np.exp(0.5*all_thetas[:,10:20])\n",
    "mu_hmc = np.mean(all_thetas2[burnin:,:], axis = 0)\n",
    "std_hmc = np.std(all_thetas[burnin:,:], axis = 0)"
   ]
  },
  {
   "cell_type": "code",
   "execution_count": null,
   "metadata": {},
   "outputs": [],
   "source": [
    "plt.scatter(mu_t[0:10], mu_hmc[0:10], color = 'black', s = 25)\n",
    "plt.scatter(mu_t[10:20], mu_hmc[10:20], color = 'grey', s = 25)\n",
    "plt.scatter(mu_t[20], mu_hmc[20], color = 'red', s = 25)\n",
    "plt.plot([-.5,2], [-.5,2], color = 'grey', linestyle = ':')\n",
    "plt.xlabel(str('mean of ' + r'$\\beta$' + ', ' + r'$\\tau$ ' + 'and' '$\\lambda$ (VAFC)'), fontsize=12)\n",
    "plt.ylabel(str('mean of ' + r'$\\beta$' + ', ' + r'$\\tau$ ' + 'and' + ' $\\lambda$ (HMC)'), fontsize=12)\n",
    "plt.gca().set_aspect('equal', adjustable='box')\n",
    "plt.draw()\n",
    "plt.savefig('../../data/commaai/accuracy/CPL_Horseshoe_means.png', dpi = 600, bbox_inches='tight') "
   ]
  },
  {
   "cell_type": "code",
   "execution_count": null,
   "metadata": {},
   "outputs": [],
   "source": [
    "plt.scatter(var[0:10], std_hmc[0:10], color = 'black', s = 25)\n",
    "plt.scatter(var[10:20], std_hmc[10:20], color = 'grey', s = 25)\n",
    "plt.scatter(var[20], std_hmc[20], color = 'red', s = 25)\n",
    "plt.plot([0,.6], [0,.6], color = 'grey', linestyle = ':')\n",
    "plt.xlabel(str('s.d. of ' + r'$\\beta$' + ', ' + r'$\\tau$ ' + 'and' '$\\lambda$ (VAFC)'), fontsize=12)\n",
    "plt.ylabel(str('s.d. of ' + r'$\\beta$' + ', ' + r'$\\tau$ ' + 'and' '$\\lambda$ (HMC)'), fontsize=12)\n",
    "plt.gca().set_aspect('equal', adjustable='box')\n",
    "plt.draw()\n",
    "plt.savefig('../../data/commaai/accuracy/CPL_Horseshoe_sd.png', dpi = 600, bbox_inches='tight') "
   ]
  },
  {
   "cell_type": "code",
   "execution_count": null,
   "metadata": {},
   "outputs": [],
   "source": [
    "fig, ax = plt.subplots()\n",
    "ax.plot(lower_bounds[0:12000], color = 'blue', linewidth = '0.5')\n",
    "#ax.set_yscale('symlog')\n",
    "ax.set_ylabel('evidence lower bound', fontsize = 12)\n",
    "ax.set_xlabel('iteration', fontsize=12)\n",
    "ax.set_box_aspect(1)\n",
    "ax.ticklabel_format(style='sci', axis='y', scilimits=(0,0))\n",
    "ax.yaxis.major.formatter._useMathText = True\n",
    "plt.savefig('../../data/commaai/accuracy/CPL_Horseshoe_convergence.png', dpi = 600, bbox_inches='tight') "
   ]
  },
  {
   "cell_type": "code",
   "execution_count": null,
   "metadata": {},
   "outputs": [],
   "source": [
    "colors = ['azure', 'powderblue', 'darkblue', 'darkslateblue', 'lightblue', 'navy', 'dodgerblue', 'royalblue', 'mediumblue', 'cornflowerblue']\n",
    "fig, ax = plt.subplots()\n",
    "for i in range(0,10):\n",
    "    ax.plot(all_thetas[5000:,i], color = colors[i], linewidth = 0.5)\n",
    "for i in range(10,20):\n",
    "    ax.plot(all_thetas2[5000:,i], color = colors[i - 10], linewidth = 0.5)\n",
    "ax.plot(np.exp(all_thetas[5000:,10]))\n",
    "ax.set_box_aspect(1)\n",
    "ax.set_ylabel('value', fontsize=12)\n",
    "ax.set_xlabel('iteration - burn-in', fontsize=12)\n",
    "plt.savefig('../../data/commaai/accuracy/CPL_Horseshoe_hmc_convergence.png', dpi = 600, bbox_inches='tight') "
   ]
  },
  {
   "cell_type": "code",
   "execution_count": null,
   "metadata": {},
   "outputs": [],
   "source": [
    "## CIL Horseshoe"
   ]
  },
  {
   "cell_type": "code",
   "execution_count": 22,
   "metadata": {},
   "outputs": [],
   "source": [
    "# load HMC results\n",
    "all_thetas = np.load('../../data/commaai/mcmc/unfiltered_gaussian_resampled/Horseshoe/all_thetas_try.npy')\n",
    "# load VA results\n",
    "lower_bounds = np.load('../../data/commaai/va/unfiltered_gaussian_resampled/Horseshoe/lower_bounds2_new_dev.npy')\n",
    "mu_ts = np.load('../../data/commaai/va/unfiltered_gaussian_resampled/Horseshoe/mu_ts2_new_dev.npy')\n",
    "B_ts = np.load('../../data/commaai/va/unfiltered_gaussian_resampled/Horseshoe/B_ts2_new_dev.npy')\n",
    "d_ts = np.load('../../data/commaai/va/unfiltered_gaussian_resampled/Horseshoe/d_ts2_new_dev.npy')"
   ]
  },
  {
   "cell_type": "code",
   "execution_count": 23,
   "metadata": {},
   "outputs": [],
   "source": [
    "# take last 1% of VA results\n",
    "iterations = len(lower_bounds)\n",
    "mu_t = np.mean(mu_ts[int(0.9*iterations):iterations,:], axis = 0)\n",
    "B_t = np.mean(B_ts[int(0.9*iterations):iterations,:], axis = 0)\n",
    "d_t = np.mean(d_ts[int(0.9*iterations):iterations,:], axis = 0)\n",
    "var = np.sqrt(np.diag(B_t.dot(B_t.T) + d_t**2))\n",
    "samples_lambda = np.exp(0.5*np.random.multivariate_normal(mu_t[10:20].reshape(10,), np.diag(var[10:20]), 100000))\n",
    "samples_tau = np.exp(np.random.normal(mu_t[20], var[20], 100000))\n",
    "#var[10] = np.std(samples_tau)\n",
    "mu_t[10:20] = np.mean(samples_lambda, axis = 0).reshape(10,1)\n",
    "mu_t[20] = np.mean(samples_tau)\n",
    "var[10:20] = np.std(samples_lambda, axis = 0).reshape(10)\n",
    "var[20] = np.std(samples_tau)\n",
    "# take results for HMC after burnin\n",
    "burnin = 500\n",
    "# transform log tau\n",
    "all_thetas2 = all_thetas.copy()\n",
    "all_thetas2[:,20] = np.exp(all_thetas[:,20])\n",
    "all_thetas2[:,10:20] = np.exp(0.5*all_thetas[:,10:20])\n",
    "mu_hmc = np.mean(all_thetas2[burnin:,:], axis = 0)\n",
    "std_hmc = np.std(all_thetas[burnin:,:], axis = 0)"
   ]
  },
  {
   "cell_type": "code",
   "execution_count": 24,
   "metadata": {},
   "outputs": [
    {
     "data": {
      "image/png": "[encoded data removed]",
      "text/plain": [
       "<Figure size 432x288 with 1 Axes>"
      ]
     },
     "metadata": {
      "needs_background": "light"
     },
     "output_type": "display_data"
    }
   ],
   "source": [
    "plt.scatter(mu_t[0:10], mu_hmc[0:10], color = 'black', s = 25)\n",
    "plt.scatter(mu_t[10:20], mu_hmc[10:20], color = 'grey', s = 25)\n",
    "plt.scatter(mu_t[20], mu_hmc[20], color = 'red', s = 25)\n",
    "plt.plot([-.5,2], [-.5,2], color = 'grey', linestyle = ':')\n",
    "plt.xlabel(str('mean of ' + r'$\\beta$' + ', ' + r'$\\tau$ ' + 'and' '$\\lambda$ (VAFC)'), fontsize=12)\n",
    "plt.ylabel(str('mean of ' + r'$\\beta$' + ', ' + r'$\\tau$ ' + 'and' + ' $\\lambda$ (HMC)'), fontsize=12)\n",
    "plt.gca().set_aspect('equal', adjustable='box')\n",
    "plt.draw()\n",
    "plt.savefig('../../data/commaai/accuracy/CIL_Horseshoe_means.png', dpi = 600, bbox_inches='tight') "
   ]
  },
  {
   "cell_type": "code",
   "execution_count": 25,
   "metadata": {},
   "outputs": [
    {
     "data": {
      "image/png": "[encoded data removed]",
      "text/plain": [
       "<Figure size 432x288 with 1 Axes>"
      ]
     },
     "metadata": {
      "needs_background": "light"
     },
     "output_type": "display_data"
    }
   ],
   "source": [
    "plt.scatter(var[0:10], std_hmc[0:10], color = 'black', s = 25)\n",
    "plt.scatter(var[10:20], std_hmc[10:20], color = 'grey', s = 25)\n",
    "plt.scatter(var[20], std_hmc[20], color = 'red', s = 25)\n",
    "plt.plot([0,.6], [0,.6], color = 'grey', linestyle = ':')\n",
    "plt.xlabel(str('s.d. of ' + r'$\\beta$' + ', ' + r'$\\tau$ ' + 'and' '$\\lambda$ (VAFC)'), fontsize=12)\n",
    "plt.ylabel(str('s.d. of ' + r'$\\beta$' + ', ' + r'$\\tau$ ' + 'and' '$\\lambda$ (HMC)'), fontsize=12)\n",
    "plt.gca().set_aspect('equal', adjustable='box')\n",
    "plt.draw()\n",
    "plt.savefig('../../data/commaai/accuracy/CIL_Horseshoe_sd.png', dpi = 600, bbox_inches='tight') "
   ]
  },
  {
   "cell_type": "code",
   "execution_count": 26,
   "metadata": {},
   "outputs": [
    {
     "data": {
      "image/png": "[encoded data removed]",
      "text/plain": [
       "<Figure size 432x288 with 1 Axes>"
      ]
     },
     "metadata": {
      "needs_background": "light"
     },
     "output_type": "display_data"
    }
   ],
   "source": [
    "fig, ax = plt.subplots()\n",
    "ax.plot(lower_bounds[:], color = 'blue', linewidth = '0.5')\n",
    "ax.set_yscale('symlog')\n",
    "ax.set_ylabel('evidence lower bound', fontsize = 12)\n",
    "ax.set_xlabel('iteration', fontsize=12)\n",
    "ax.set_box_aspect(1)\n",
    "#ax.ticklabel_format(style='sci', axis='y', scilimits=(0,0))\n",
    "ax.yaxis.major.formatter._useMathText = True\n",
    "plt.savefig('../../data/commaai/accuracy/CIL_Horseshoe_convergence.png', dpi = 600, bbox_inches='tight') "
   ]
  },
  {
   "cell_type": "code",
   "execution_count": 27,
   "metadata": {},
   "outputs": [
    {
     "data": {
      "image/png": "[encoded data removed]",
      "text/plain": [
       "<Figure size 432x288 with 1 Axes>"
      ]
     },
     "metadata": {
      "needs_background": "light"
     },
     "output_type": "display_data"
    }
   ],
   "source": [
    "colors = ['azure', 'powderblue', 'darkblue', 'darkslateblue', 'lightblue', 'navy', 'dodgerblue', 'royalblue', 'mediumblue', 'cornflowerblue']\n",
    "fig, ax = plt.subplots()\n",
    "for i in range(0,10):\n",
    "    ax.plot(all_thetas[500:,i], color = colors[i], linewidth = 0.5)\n",
    "for i in range(10,20):\n",
    "    ax.plot(all_thetas2[500:,i], color = colors[i - 10], linewidth = 0.5)\n",
    "ax.plot(np.exp(all_thetas[500:,10]))\n",
    "ax.set_box_aspect(1)\n",
    "ax.set_ylabel('value', fontsize=12)\n",
    "ax.set_xlabel('iteration - burn-in', fontsize=12)\n",
    "plt.savefig('../../data/commaai/accuracy/CIL_Horseshoe_hmc_convergence.png', dpi = 600, bbox_inches='tight') "
   ]
  },
  {
   "cell_type": "code",
   "execution_count": null,
   "metadata": {},
   "outputs": [],
   "source": []
  }
 ],
 "metadata": {
  "kernelspec": {
   "display_name": "Python 3",
   "language": "python",
   "name": "python3"
  },
  "language_info": {
   "codemirror_mode": {
    "name": "ipython",
    "version": 3
   },
   "file_extension": ".py",
   "mimetype": "text/x-python",
   "name": "python",
   "nbconvert_exporter": "python",
   "pygments_lexer": "ipython3",
   "version": "3.8.5"
  }
 },
 "nbformat": 4,
 "nbformat_minor": 4
}
