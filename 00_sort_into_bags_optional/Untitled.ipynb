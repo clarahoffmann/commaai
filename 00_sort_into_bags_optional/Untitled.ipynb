{
 "cells": [
  {
   "cell_type": "code",
   "execution_count": 2,
   "metadata": {},
   "outputs": [],
   "source": [
    "import imageio\n",
    "import numpy as np"
   ]
  },
  {
   "cell_type": "code",
   "execution_count": 3,
   "metadata": {},
   "outputs": [],
   "source": [
    "vid_path = '/home/hofmancl/data/commaai/destination/Chunk_1_b0c9d2329ad1606b_2018-08-02--16-41-38_10.hevc'"
   ]
  },
  {
   "cell_type": "code",
   "execution_count": 4,
   "metadata": {},
   "outputs": [],
   "source": [
    "vid = imageio.get_reader(vid_path,  'ffmpeg')\n",
    "frames = np.array([im for im in vid.iter_data()], dtype=np.uint8)\n",
    "vid.close()"
   ]
  },
  {
   "cell_type": "code",
   "execution_count": 5,
   "metadata": {},
   "outputs": [],
   "source": [
    "df = np.load('train_files_run2.npy')"
   ]
  },
  {
   "cell_type": "code",
   "execution_count": 6,
   "metadata": {},
   "outputs": [
    {
     "data": {
      "text/plain": [
       "array(['Chunk_1_b0c9d2329ad1606b_2018-07-27--06-03-57_8',\n",
       "       'Chunk_9_99c94dc769b5d96e_2018-11-04--08-49-46_31',\n",
       "       'Chunk_9_99c94dc769b5d96e_2018-11-04--08-49-46_34', ...,\n",
       "       'Chunk_7_99c94dc769b5d96e_2018-07-20--16-43-04_4',\n",
       "       'Chunk_7_99c94dc769b5d96e_2018-07-20--16-43-04_1',\n",
       "       'Chunk_7_99c94dc769b5d96e_2018-07-20--20-16-28_1'], dtype='<U49')"
      ]
     },
     "execution_count": 6,
     "metadata": {},
     "output_type": "execute_result"
    }
   ],
   "source": [
    "df"
   ]
  },
  {
   "cell_type": "code",
   "execution_count": 11,
   "metadata": {},
   "outputs": [
    {
     "data": {
      "text/plain": [
       "(array([340]),)"
      ]
     },
     "execution_count": 11,
     "metadata": {},
     "output_type": "execute_result"
    }
   ],
   "source": [
    "np.where(df == 'Chunk_1_b0c9d2329ad1606b_2018-08-02--16-41-38_10')"
   ]
  },
  {
   "cell_type": "code",
   "execution_count": null,
   "metadata": {},
   "outputs": [],
   "source": []
  }
 ],
 "metadata": {
  "kernelspec": {
   "display_name": "Python 3",
   "language": "python",
   "name": "python3"
  },
  "language_info": {
   "codemirror_mode": {
    "name": "ipython",
    "version": 3
   },
   "file_extension": ".py",
   "mimetype": "text/x-python",
   "name": "python",
   "nbconvert_exporter": "python",
   "pygments_lexer": "ipython3",
   "version": "3.8.5"
  }
 },
 "nbformat": 4,
 "nbformat_minor": 4
}
