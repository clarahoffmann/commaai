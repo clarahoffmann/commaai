{
 "cells": [
  {
   "cell_type": "code",
   "execution_count": null,
   "metadata": {},
   "outputs": [],
   "source": [
    "# min, max of density from fast_kde is not correct\n",
    "# https://github.com/yixuan/fastncdf make cdf computation faster"
   ]
  },
  {
   "cell_type": "code",
   "execution_count": 63,
   "metadata": {},
   "outputs": [],
   "source": [
    "import numpy as np\n",
    "import multiprocessing as mp\n",
    "from functools import partial\n",
    "import math\n",
    "import pandas as pd\n",
    "from helpers_trans import Fy, imgs_input_fn,  multivariate_normal, find_closest_element, predict_density, bring_df_to_correct_format\n",
    "import helpers_trans as hlp\n",
    "from random import  uniform\n",
    "import scipy.stats\n",
    "from scipy.stats import norm\n",
    "import matplotlib.pyplot as plt\n",
    "import tensorflow as tf\n",
    "from tensorflow import keras\n",
    "from keras.layers import Dense, Conv2D, MaxPooling2D, Dropout, Flatten, BatchNormalization\n",
    "from sklearn.metrics import mean_squared_error, mean_absolute_error\n",
    "from joblib import Parallel, delayed"
   ]
  },
  {
   "cell_type": "code",
   "execution_count": 3,
   "metadata": {},
   "outputs": [],
   "source": [
    "# p = number of betas\n",
    "p = 10"
   ]
  },
  {
   "cell_type": "markdown",
   "metadata": {},
   "source": [
    "Read in \n",
    "- $\\vartheta$, \n",
    "- KDE densities $p_y(y_i)$, \n",
    "- DNN model $f: x \\rightarrow y$, \n",
    "- true $y$ values"
   ]
  },
  {
   "cell_type": "code",
   "execution_count": 4,
   "metadata": {},
   "outputs": [],
   "source": [
    "extracted_coefficients_directory = '../../data/commaai/extracted_coefficients/20201027_filtered_gaussian_resampled/'\n",
    "B_zeta_path = str(extracted_coefficients_directory + 'Bzeta/B_zeta.npy')\n",
    "beta_path = str(extracted_coefficients_directory + 'beta/beta.csv')\n",
    "z_path = str(extracted_coefficients_directory + 'Bzeta/tr_labels.npy')\n",
    "y_path = str(extracted_coefficients_directory + 'Bzeta/labels.npy')\n",
    "beta = np.genfromtxt(beta_path, delimiter=',')\n",
    "B_zeta = np.load(B_zeta_path)\n",
    "B_zeta = B_zeta.reshape(B_zeta.shape[0], beta.shape[0])\n",
    "true_z = np.load(z_path)\n",
    "true_y = np.load(y_path)\n",
    "\n",
    "# filtered Ridge \n",
    "va_ridge_dir = '../../data/commaai/va/filtered_gaussian_resampled/Ridge/'\n",
    "mu_t_va = np.genfromtxt(va_ridge_dir + 'mu_t_va.csv', delimiter = ',')\n",
    "beta = np.mean(mu_t_va[int(0.9*50000):50000,0:10], axis = 0)\n",
    "tau_sq = np.exp(np.mean(mu_t_va[int(0.9*50000):50000,10], axis = 0))\n",
    "#vartheta_path = '../../data/density/03082020/vartheta_final.csv'\n",
    "#B_zeta_path = '../../bdd100k_test_data/extracted_coefficients/10092020/B_zeta_predictions_val.csv'\n",
    "#z_path = '../../data/tfrecords/03082020/val_yaw_transformed.csv'\n",
    "density_path = '../../data/commaai/density/gaussian_density_filtered.csv'\n",
    "density = pd.read_csv(density_path)\n",
    "#true_y_path = '../../data/tfrecords/03082020/val_yaw_original.csv'\n",
    "\n",
    "\n",
    "#vartheta = np.genfromtxt(vartheta_path, delimiter=',')\n",
    "#B_zeta = np.genfromtxt(B_zeta_path, delimiter=',')\n",
    "n = B_zeta.shape[0]\n",
    "#true_z = np.genfromtxt(z_path, delimiter=',')[:n]\n",
    "#density = pd.read_csv(density_path)\n",
    "#true_y = np.genfromtxt(true_y_path, delimiter=',')[:n]\n",
    "\n",
    "# Get predictions for new observations B_zeta from different file\n",
    "# for convenience"
   ]
  },
  {
   "cell_type": "markdown",
   "metadata": {},
   "source": [
    "We want to compute the following density value\n",
    "\n",
    "\\\\[\\hat{p}_0(y_0 | x_0) = \\frac{p_Y(y_0)}{\\phi_1(\\Phi_1^{-1}(F_Y(y_0)))} \\frac{1}{\\hat{s_0}} \\phi_1 \\Big( \\frac{\\Phi_1^{-1}(F_Y(y_0)) - \\hat{s_0}\\hat{f}_{\\eta}(x_0)}{\\hat{s_0}} \\Big),  \\\\]\n",
    "where $\\hat{f}_{\\eta}(x_0) = \\psi_{\\zeta}(x_0)^T\\hat{\\beta}$, $\\hat{s}_0 = (1 + \\psi_{\\zeta}(x_0)^T P(\\hat{\\theta})^{-1}\\psi_{\\zeta}(x_0))^{\\frac{1}{2}}$\n",
    "\n",
    "So $y_0$ can also be a new value i think -> can predict whole density curve for new observations\n",
    "Apparently this method only predicts posterior densities for realizations of y. \n",
    "For example, we could train our model, then get posterior densities for a test set and inspect the densities. \n",
    "If the densities have several modes -> can say that our model is too unsure about its predictions.\n",
    "Can also say what the confidence intervals of our predictions are.\n",
    "We can obtain uncertainty of the predictions itself with Mixture density networks for example (nice comparison - weight uncertainty (Bayes by Backprop), prediction uncertainty (MDN), target uncertainty (Klein). However, Klein does rely on parametric assumptions, which the other two do not (disadvantage, may introduce bias)."
   ]
  },
  {
   "cell_type": "markdown",
   "metadata": {},
   "source": [
    "## Posterior densities at true values\n",
    "evaluating the posterior densities at the true, realized values"
   ]
  },
  {
   "cell_type": "code",
   "execution_count": 5,
   "metadata": {},
   "outputs": [],
   "source": [
    "def density_at_true_value(density, true_y, true_z, B_zeta, tau_sq, beta_t):\n",
    "    \n",
    "    axes = np.array(density['axes'])\n",
    "    p_y_y0 = [density.loc[find_closest_element(y_i,density['axes'])]['pdf']  for y_i in true_y]\n",
    "    \n",
    "    f_eta_x0 = B_zeta.dot(beta_t)\n",
    "    s_0_hat = np.sqrt(1 + tau_sq*np.array([B_zeta[j,:].T.dot(B_zeta[j,:]) for j in range(0,n)]))\n",
    "    phi_1_z = np.array([scipy.stats.norm(0, 1).pdf(z_i) for z_i in true_z])\n",
    "    term_1 = (true_z - s_0_hat*f_eta_x0)/(s_0_hat)\n",
    "    term_2 = np.array([scipy.stats.norm(0, 1).pdf(z_i) for z_i in term_1])\n",
    "    p_y0_x0 = (p_y_y0/phi_1_z)*(1/s_0_hat)*term_2\n",
    "    \n",
    "    return p_y0_x0"
   ]
  },
  {
   "cell_type": "code",
   "execution_count": 6,
   "metadata": {},
   "outputs": [
    {
     "ename": "KeyboardInterrupt",
     "evalue": "",
     "output_type": "error",
     "traceback": [
      "\u001b[0;31m---------------------------------------------------------------------------\u001b[0m",
      "\u001b[0;31mKeyboardInterrupt\u001b[0m                         Traceback (most recent call last)",
      "\u001b[0;32m<ipython-input-6-7a65d8d3e8de>\u001b[0m in \u001b[0;36m<module>\u001b[0;34m\u001b[0m\n\u001b[0;32m----> 1\u001b[0;31m \u001b[0mtrue_densities\u001b[0m \u001b[0;34m=\u001b[0m \u001b[0mdensity_at_true_value\u001b[0m\u001b[0;34m(\u001b[0m\u001b[0mdensity\u001b[0m\u001b[0;34m,\u001b[0m \u001b[0mtrue_y\u001b[0m\u001b[0;34m,\u001b[0m \u001b[0mtrue_z\u001b[0m\u001b[0;34m,\u001b[0m \u001b[0mB_zeta\u001b[0m\u001b[0;34m,\u001b[0m \u001b[0mtau_sq\u001b[0m\u001b[0;34m,\u001b[0m \u001b[0mbeta\u001b[0m\u001b[0;34m)\u001b[0m\u001b[0;34m\u001b[0m\u001b[0;34m\u001b[0m\u001b[0m\n\u001b[0m",
      "\u001b[0;32m<ipython-input-5-859c10e5da34>\u001b[0m in \u001b[0;36mdensity_at_true_value\u001b[0;34m(density, true_y, true_z, B_zeta, tau_sq, beta_t)\u001b[0m\n\u001b[1;32m      6\u001b[0m     \u001b[0mf_eta_x0\u001b[0m \u001b[0;34m=\u001b[0m \u001b[0mB_zeta\u001b[0m\u001b[0;34m.\u001b[0m\u001b[0mdot\u001b[0m\u001b[0;34m(\u001b[0m\u001b[0mbeta_t\u001b[0m\u001b[0;34m)\u001b[0m\u001b[0;34m\u001b[0m\u001b[0;34m\u001b[0m\u001b[0m\n\u001b[1;32m      7\u001b[0m     \u001b[0ms_0_hat\u001b[0m \u001b[0;34m=\u001b[0m \u001b[0mnp\u001b[0m\u001b[0;34m.\u001b[0m\u001b[0msqrt\u001b[0m\u001b[0;34m(\u001b[0m\u001b[0;36m1\u001b[0m \u001b[0;34m+\u001b[0m \u001b[0mtau_sq\u001b[0m\u001b[0;34m*\u001b[0m\u001b[0mnp\u001b[0m\u001b[0;34m.\u001b[0m\u001b[0marray\u001b[0m\u001b[0;34m(\u001b[0m\u001b[0;34m[\u001b[0m\u001b[0mB_zeta\u001b[0m\u001b[0;34m[\u001b[0m\u001b[0mj\u001b[0m\u001b[0;34m,\u001b[0m\u001b[0;34m:\u001b[0m\u001b[0;34m]\u001b[0m\u001b[0;34m.\u001b[0m\u001b[0mT\u001b[0m\u001b[0;34m.\u001b[0m\u001b[0mdot\u001b[0m\u001b[0;34m(\u001b[0m\u001b[0mB_zeta\u001b[0m\u001b[0;34m[\u001b[0m\u001b[0mj\u001b[0m\u001b[0;34m,\u001b[0m\u001b[0;34m:\u001b[0m\u001b[0;34m]\u001b[0m\u001b[0;34m)\u001b[0m \u001b[0;32mfor\u001b[0m \u001b[0mj\u001b[0m \u001b[0;32min\u001b[0m \u001b[0mrange\u001b[0m\u001b[0;34m(\u001b[0m\u001b[0;36m0\u001b[0m\u001b[0;34m,\u001b[0m\u001b[0mn\u001b[0m\u001b[0;34m)\u001b[0m\u001b[0;34m]\u001b[0m\u001b[0;34m)\u001b[0m\u001b[0;34m)\u001b[0m\u001b[0;34m\u001b[0m\u001b[0;34m\u001b[0m\u001b[0m\n\u001b[0;32m----> 8\u001b[0;31m     \u001b[0mphi_1_z\u001b[0m \u001b[0;34m=\u001b[0m \u001b[0mnp\u001b[0m\u001b[0;34m.\u001b[0m\u001b[0marray\u001b[0m\u001b[0;34m(\u001b[0m\u001b[0;34m[\u001b[0m\u001b[0mscipy\u001b[0m\u001b[0;34m.\u001b[0m\u001b[0mstats\u001b[0m\u001b[0;34m.\u001b[0m\u001b[0mnorm\u001b[0m\u001b[0;34m(\u001b[0m\u001b[0;36m0\u001b[0m\u001b[0;34m,\u001b[0m \u001b[0;36m1\u001b[0m\u001b[0;34m)\u001b[0m\u001b[0;34m.\u001b[0m\u001b[0mpdf\u001b[0m\u001b[0;34m(\u001b[0m\u001b[0mz_i\u001b[0m\u001b[0;34m)\u001b[0m \u001b[0;32mfor\u001b[0m \u001b[0mz_i\u001b[0m \u001b[0;32min\u001b[0m \u001b[0mtrue_z\u001b[0m\u001b[0;34m]\u001b[0m\u001b[0;34m)\u001b[0m\u001b[0;34m\u001b[0m\u001b[0;34m\u001b[0m\u001b[0m\n\u001b[0m\u001b[1;32m      9\u001b[0m     \u001b[0mterm_1\u001b[0m \u001b[0;34m=\u001b[0m \u001b[0;34m(\u001b[0m\u001b[0mtrue_z\u001b[0m \u001b[0;34m-\u001b[0m \u001b[0ms_0_hat\u001b[0m\u001b[0;34m*\u001b[0m\u001b[0mf_eta_x0\u001b[0m\u001b[0;34m)\u001b[0m\u001b[0;34m/\u001b[0m\u001b[0;34m(\u001b[0m\u001b[0ms_0_hat\u001b[0m\u001b[0;34m)\u001b[0m\u001b[0;34m\u001b[0m\u001b[0;34m\u001b[0m\u001b[0m\n\u001b[1;32m     10\u001b[0m     \u001b[0mterm_2\u001b[0m \u001b[0;34m=\u001b[0m \u001b[0mnp\u001b[0m\u001b[0;34m.\u001b[0m\u001b[0marray\u001b[0m\u001b[0;34m(\u001b[0m\u001b[0;34m[\u001b[0m\u001b[0mscipy\u001b[0m\u001b[0;34m.\u001b[0m\u001b[0mstats\u001b[0m\u001b[0;34m.\u001b[0m\u001b[0mnorm\u001b[0m\u001b[0;34m(\u001b[0m\u001b[0;36m0\u001b[0m\u001b[0;34m,\u001b[0m \u001b[0;36m1\u001b[0m\u001b[0;34m)\u001b[0m\u001b[0;34m.\u001b[0m\u001b[0mpdf\u001b[0m\u001b[0;34m(\u001b[0m\u001b[0mz_i\u001b[0m\u001b[0;34m)\u001b[0m \u001b[0;32mfor\u001b[0m \u001b[0mz_i\u001b[0m \u001b[0;32min\u001b[0m \u001b[0mterm_1\u001b[0m\u001b[0;34m]\u001b[0m\u001b[0;34m)\u001b[0m\u001b[0;34m\u001b[0m\u001b[0;34m\u001b[0m\u001b[0m\n",
      "\u001b[0;32m<ipython-input-5-859c10e5da34>\u001b[0m in \u001b[0;36m<listcomp>\u001b[0;34m(.0)\u001b[0m\n\u001b[1;32m      6\u001b[0m     \u001b[0mf_eta_x0\u001b[0m \u001b[0;34m=\u001b[0m \u001b[0mB_zeta\u001b[0m\u001b[0;34m.\u001b[0m\u001b[0mdot\u001b[0m\u001b[0;34m(\u001b[0m\u001b[0mbeta_t\u001b[0m\u001b[0;34m)\u001b[0m\u001b[0;34m\u001b[0m\u001b[0;34m\u001b[0m\u001b[0m\n\u001b[1;32m      7\u001b[0m     \u001b[0ms_0_hat\u001b[0m \u001b[0;34m=\u001b[0m \u001b[0mnp\u001b[0m\u001b[0;34m.\u001b[0m\u001b[0msqrt\u001b[0m\u001b[0;34m(\u001b[0m\u001b[0;36m1\u001b[0m \u001b[0;34m+\u001b[0m \u001b[0mtau_sq\u001b[0m\u001b[0;34m*\u001b[0m\u001b[0mnp\u001b[0m\u001b[0;34m.\u001b[0m\u001b[0marray\u001b[0m\u001b[0;34m(\u001b[0m\u001b[0;34m[\u001b[0m\u001b[0mB_zeta\u001b[0m\u001b[0;34m[\u001b[0m\u001b[0mj\u001b[0m\u001b[0;34m,\u001b[0m\u001b[0;34m:\u001b[0m\u001b[0;34m]\u001b[0m\u001b[0;34m.\u001b[0m\u001b[0mT\u001b[0m\u001b[0;34m.\u001b[0m\u001b[0mdot\u001b[0m\u001b[0;34m(\u001b[0m\u001b[0mB_zeta\u001b[0m\u001b[0;34m[\u001b[0m\u001b[0mj\u001b[0m\u001b[0;34m,\u001b[0m\u001b[0;34m:\u001b[0m\u001b[0;34m]\u001b[0m\u001b[0;34m)\u001b[0m \u001b[0;32mfor\u001b[0m \u001b[0mj\u001b[0m \u001b[0;32min\u001b[0m \u001b[0mrange\u001b[0m\u001b[0;34m(\u001b[0m\u001b[0;36m0\u001b[0m\u001b[0;34m,\u001b[0m\u001b[0mn\u001b[0m\u001b[0;34m)\u001b[0m\u001b[0;34m]\u001b[0m\u001b[0;34m)\u001b[0m\u001b[0;34m)\u001b[0m\u001b[0;34m\u001b[0m\u001b[0;34m\u001b[0m\u001b[0m\n\u001b[0;32m----> 8\u001b[0;31m     \u001b[0mphi_1_z\u001b[0m \u001b[0;34m=\u001b[0m \u001b[0mnp\u001b[0m\u001b[0;34m.\u001b[0m\u001b[0marray\u001b[0m\u001b[0;34m(\u001b[0m\u001b[0;34m[\u001b[0m\u001b[0mscipy\u001b[0m\u001b[0;34m.\u001b[0m\u001b[0mstats\u001b[0m\u001b[0;34m.\u001b[0m\u001b[0mnorm\u001b[0m\u001b[0;34m(\u001b[0m\u001b[0;36m0\u001b[0m\u001b[0;34m,\u001b[0m \u001b[0;36m1\u001b[0m\u001b[0;34m)\u001b[0m\u001b[0;34m.\u001b[0m\u001b[0mpdf\u001b[0m\u001b[0;34m(\u001b[0m\u001b[0mz_i\u001b[0m\u001b[0;34m)\u001b[0m \u001b[0;32mfor\u001b[0m \u001b[0mz_i\u001b[0m \u001b[0;32min\u001b[0m \u001b[0mtrue_z\u001b[0m\u001b[0;34m]\u001b[0m\u001b[0;34m)\u001b[0m\u001b[0;34m\u001b[0m\u001b[0;34m\u001b[0m\u001b[0m\n\u001b[0m\u001b[1;32m      9\u001b[0m     \u001b[0mterm_1\u001b[0m \u001b[0;34m=\u001b[0m \u001b[0;34m(\u001b[0m\u001b[0mtrue_z\u001b[0m \u001b[0;34m-\u001b[0m \u001b[0ms_0_hat\u001b[0m\u001b[0;34m*\u001b[0m\u001b[0mf_eta_x0\u001b[0m\u001b[0;34m)\u001b[0m\u001b[0;34m/\u001b[0m\u001b[0;34m(\u001b[0m\u001b[0ms_0_hat\u001b[0m\u001b[0;34m)\u001b[0m\u001b[0;34m\u001b[0m\u001b[0;34m\u001b[0m\u001b[0m\n\u001b[1;32m     10\u001b[0m     \u001b[0mterm_2\u001b[0m \u001b[0;34m=\u001b[0m \u001b[0mnp\u001b[0m\u001b[0;34m.\u001b[0m\u001b[0marray\u001b[0m\u001b[0;34m(\u001b[0m\u001b[0;34m[\u001b[0m\u001b[0mscipy\u001b[0m\u001b[0;34m.\u001b[0m\u001b[0mstats\u001b[0m\u001b[0;34m.\u001b[0m\u001b[0mnorm\u001b[0m\u001b[0;34m(\u001b[0m\u001b[0;36m0\u001b[0m\u001b[0;34m,\u001b[0m \u001b[0;36m1\u001b[0m\u001b[0;34m)\u001b[0m\u001b[0;34m.\u001b[0m\u001b[0mpdf\u001b[0m\u001b[0;34m(\u001b[0m\u001b[0mz_i\u001b[0m\u001b[0;34m)\u001b[0m \u001b[0;32mfor\u001b[0m \u001b[0mz_i\u001b[0m \u001b[0;32min\u001b[0m \u001b[0mterm_1\u001b[0m\u001b[0;34m]\u001b[0m\u001b[0;34m)\u001b[0m\u001b[0;34m\u001b[0m\u001b[0;34m\u001b[0m\u001b[0m\n",
      "\u001b[0;32m~/.local/lib/python3.8/site-packages/scipy/stats/_distn_infrastructure.py\u001b[0m in \u001b[0;36m__call__\u001b[0;34m(self, *args, **kwds)\u001b[0m\n\u001b[1;32m    769\u001b[0m \u001b[0;34m\u001b[0m\u001b[0m\n\u001b[1;32m    770\u001b[0m     \u001b[0;32mdef\u001b[0m \u001b[0m__call__\u001b[0m\u001b[0;34m(\u001b[0m\u001b[0mself\u001b[0m\u001b[0;34m,\u001b[0m \u001b[0;34m*\u001b[0m\u001b[0margs\u001b[0m\u001b[0;34m,\u001b[0m \u001b[0;34m**\u001b[0m\u001b[0mkwds\u001b[0m\u001b[0;34m)\u001b[0m\u001b[0;34m:\u001b[0m\u001b[0;34m\u001b[0m\u001b[0;34m\u001b[0m\u001b[0m\n\u001b[0;32m--> 771\u001b[0;31m         \u001b[0;32mreturn\u001b[0m \u001b[0mself\u001b[0m\u001b[0;34m.\u001b[0m\u001b[0mfreeze\u001b[0m\u001b[0;34m(\u001b[0m\u001b[0;34m*\u001b[0m\u001b[0margs\u001b[0m\u001b[0;34m,\u001b[0m \u001b[0;34m**\u001b[0m\u001b[0mkwds\u001b[0m\u001b[0;34m)\u001b[0m\u001b[0;34m\u001b[0m\u001b[0;34m\u001b[0m\u001b[0m\n\u001b[0m\u001b[1;32m    772\u001b[0m     \u001b[0m__call__\u001b[0m\u001b[0;34m.\u001b[0m\u001b[0m__doc__\u001b[0m \u001b[0;34m=\u001b[0m \u001b[0mfreeze\u001b[0m\u001b[0;34m.\u001b[0m\u001b[0m__doc__\u001b[0m\u001b[0;34m\u001b[0m\u001b[0;34m\u001b[0m\u001b[0m\n\u001b[1;32m    773\u001b[0m \u001b[0;34m\u001b[0m\u001b[0m\n",
      "\u001b[0;32m~/.local/lib/python3.8/site-packages/scipy/stats/_distn_infrastructure.py\u001b[0m in \u001b[0;36mfreeze\u001b[0;34m(self, *args, **kwds)\u001b[0m\n\u001b[1;32m    766\u001b[0m \u001b[0;34m\u001b[0m\u001b[0m\n\u001b[1;32m    767\u001b[0m         \"\"\"\n\u001b[0;32m--> 768\u001b[0;31m         \u001b[0;32mreturn\u001b[0m \u001b[0mrv_frozen\u001b[0m\u001b[0;34m(\u001b[0m\u001b[0mself\u001b[0m\u001b[0;34m,\u001b[0m \u001b[0;34m*\u001b[0m\u001b[0margs\u001b[0m\u001b[0;34m,\u001b[0m \u001b[0;34m**\u001b[0m\u001b[0mkwds\u001b[0m\u001b[0;34m)\u001b[0m\u001b[0;34m\u001b[0m\u001b[0;34m\u001b[0m\u001b[0m\n\u001b[0m\u001b[1;32m    769\u001b[0m \u001b[0;34m\u001b[0m\u001b[0m\n\u001b[1;32m    770\u001b[0m     \u001b[0;32mdef\u001b[0m \u001b[0m__call__\u001b[0m\u001b[0;34m(\u001b[0m\u001b[0mself\u001b[0m\u001b[0;34m,\u001b[0m \u001b[0;34m*\u001b[0m\u001b[0margs\u001b[0m\u001b[0;34m,\u001b[0m \u001b[0;34m**\u001b[0m\u001b[0mkwds\u001b[0m\u001b[0;34m)\u001b[0m\u001b[0;34m:\u001b[0m\u001b[0;34m\u001b[0m\u001b[0;34m\u001b[0m\u001b[0m\n",
      "\u001b[0;32m~/.local/lib/python3.8/site-packages/scipy/stats/_distn_infrastructure.py\u001b[0m in \u001b[0;36m__init__\u001b[0;34m(self, dist, *args, **kwds)\u001b[0m\n\u001b[1;32m    426\u001b[0m \u001b[0;34m\u001b[0m\u001b[0m\n\u001b[1;32m    427\u001b[0m         \u001b[0;31m# create a new instance\u001b[0m\u001b[0;34m\u001b[0m\u001b[0;34m\u001b[0m\u001b[0;34m\u001b[0m\u001b[0m\n\u001b[0;32m--> 428\u001b[0;31m         \u001b[0mself\u001b[0m\u001b[0;34m.\u001b[0m\u001b[0mdist\u001b[0m \u001b[0;34m=\u001b[0m \u001b[0mdist\u001b[0m\u001b[0;34m.\u001b[0m\u001b[0m__class__\u001b[0m\u001b[0;34m(\u001b[0m\u001b[0;34m**\u001b[0m\u001b[0mdist\u001b[0m\u001b[0;34m.\u001b[0m\u001b[0m_updated_ctor_param\u001b[0m\u001b[0;34m(\u001b[0m\u001b[0;34m)\u001b[0m\u001b[0;34m)\u001b[0m\u001b[0;34m\u001b[0m\u001b[0;34m\u001b[0m\u001b[0m\n\u001b[0m\u001b[1;32m    429\u001b[0m \u001b[0;34m\u001b[0m\u001b[0m\n\u001b[1;32m    430\u001b[0m         \u001b[0mshapes\u001b[0m\u001b[0;34m,\u001b[0m \u001b[0m_\u001b[0m\u001b[0;34m,\u001b[0m \u001b[0m_\u001b[0m \u001b[0;34m=\u001b[0m \u001b[0mself\u001b[0m\u001b[0;34m.\u001b[0m\u001b[0mdist\u001b[0m\u001b[0;34m.\u001b[0m\u001b[0m_parse_args\u001b[0m\u001b[0;34m(\u001b[0m\u001b[0;34m*\u001b[0m\u001b[0margs\u001b[0m\u001b[0;34m,\u001b[0m \u001b[0;34m**\u001b[0m\u001b[0mkwds\u001b[0m\u001b[0;34m)\u001b[0m\u001b[0;34m\u001b[0m\u001b[0;34m\u001b[0m\u001b[0m\n",
      "\u001b[0;32m~/.local/lib/python3.8/site-packages/scipy/stats/_distn_infrastructure.py\u001b[0m in \u001b[0;36m__init__\u001b[0;34m(self, momtype, a, b, xtol, badvalue, name, longname, shapes, extradoc, seed)\u001b[0m\n\u001b[1;32m   1633\u001b[0m             \u001b[0;32melse\u001b[0m\u001b[0;34m:\u001b[0m\u001b[0;34m\u001b[0m\u001b[0;34m\u001b[0m\u001b[0m\n\u001b[1;32m   1634\u001b[0m                 \u001b[0mdct\u001b[0m \u001b[0;34m=\u001b[0m \u001b[0mdict\u001b[0m\u001b[0;34m(\u001b[0m\u001b[0mdistcont\u001b[0m\u001b[0;34m)\u001b[0m\u001b[0;34m\u001b[0m\u001b[0;34m\u001b[0m\u001b[0m\n\u001b[0;32m-> 1635\u001b[0;31m                 \u001b[0mself\u001b[0m\u001b[0;34m.\u001b[0m\u001b[0m_construct_doc\u001b[0m\u001b[0;34m(\u001b[0m\u001b[0mdocdict\u001b[0m\u001b[0;34m,\u001b[0m \u001b[0mdct\u001b[0m\u001b[0;34m.\u001b[0m\u001b[0mget\u001b[0m\u001b[0;34m(\u001b[0m\u001b[0mself\u001b[0m\u001b[0;34m.\u001b[0m\u001b[0mname\u001b[0m\u001b[0;34m)\u001b[0m\u001b[0;34m)\u001b[0m\u001b[0;34m\u001b[0m\u001b[0;34m\u001b[0m\u001b[0m\n\u001b[0m\u001b[1;32m   1636\u001b[0m \u001b[0;34m\u001b[0m\u001b[0m\n\u001b[1;32m   1637\u001b[0m     \u001b[0;32mdef\u001b[0m \u001b[0m_updated_ctor_param\u001b[0m\u001b[0;34m(\u001b[0m\u001b[0mself\u001b[0m\u001b[0;34m)\u001b[0m\u001b[0;34m:\u001b[0m\u001b[0;34m\u001b[0m\u001b[0;34m\u001b[0m\u001b[0m\n",
      "\u001b[0;32m~/.local/lib/python3.8/site-packages/scipy/stats/_distn_infrastructure.py\u001b[0m in \u001b[0;36m_construct_doc\u001b[0;34m(self, docdict, shapes_vals)\u001b[0m\n\u001b[1;32m    730\u001b[0m                 \u001b[0mself\u001b[0m\u001b[0;34m.\u001b[0m\u001b[0m__doc__\u001b[0m \u001b[0;34m=\u001b[0m \u001b[0mself\u001b[0m\u001b[0;34m.\u001b[0m\u001b[0m__doc__\u001b[0m\u001b[0;34m.\u001b[0m\u001b[0mreplace\u001b[0m\u001b[0;34m(\u001b[0m\u001b[0;34m\"%(shapes)s, \"\u001b[0m\u001b[0;34m,\u001b[0m \u001b[0;34m\"\"\u001b[0m\u001b[0;34m)\u001b[0m\u001b[0;34m\u001b[0m\u001b[0;34m\u001b[0m\u001b[0m\n\u001b[1;32m    731\u001b[0m             \u001b[0;32mtry\u001b[0m\u001b[0;34m:\u001b[0m\u001b[0;34m\u001b[0m\u001b[0;34m\u001b[0m\u001b[0m\n\u001b[0;32m--> 732\u001b[0;31m                 \u001b[0mself\u001b[0m\u001b[0;34m.\u001b[0m\u001b[0m__doc__\u001b[0m \u001b[0;34m=\u001b[0m \u001b[0mdoccer\u001b[0m\u001b[0;34m.\u001b[0m\u001b[0mdocformat\u001b[0m\u001b[0;34m(\u001b[0m\u001b[0mself\u001b[0m\u001b[0;34m.\u001b[0m\u001b[0m__doc__\u001b[0m\u001b[0;34m,\u001b[0m \u001b[0mtempdict\u001b[0m\u001b[0;34m)\u001b[0m\u001b[0;34m\u001b[0m\u001b[0;34m\u001b[0m\u001b[0m\n\u001b[0m\u001b[1;32m    733\u001b[0m             \u001b[0;32mexcept\u001b[0m \u001b[0mTypeError\u001b[0m \u001b[0;32mas\u001b[0m \u001b[0me\u001b[0m\u001b[0;34m:\u001b[0m\u001b[0;34m\u001b[0m\u001b[0;34m\u001b[0m\u001b[0m\n\u001b[1;32m    734\u001b[0m                 \u001b[0;32mraise\u001b[0m \u001b[0mException\u001b[0m\u001b[0;34m(\u001b[0m\u001b[0;34m\"Unable to construct docstring for distribution \\\"%s\\\": %s\"\u001b[0m \u001b[0;34m%\u001b[0m \u001b[0;34m(\u001b[0m\u001b[0mself\u001b[0m\u001b[0;34m.\u001b[0m\u001b[0mname\u001b[0m\u001b[0;34m,\u001b[0m \u001b[0mrepr\u001b[0m\u001b[0;34m(\u001b[0m\u001b[0me\u001b[0m\u001b[0;34m)\u001b[0m\u001b[0;34m)\u001b[0m\u001b[0;34m)\u001b[0m\u001b[0;34m\u001b[0m\u001b[0;34m\u001b[0m\u001b[0m\n",
      "\u001b[0;32m~/.local/lib/python3.8/site-packages/scipy/_lib/doccer.py\u001b[0m in \u001b[0;36mdocformat\u001b[0;34m(docstring, docdict)\u001b[0m\n\u001b[1;32m     58\u001b[0m     \u001b[0mindented\u001b[0m \u001b[0;34m=\u001b[0m \u001b[0;34m{\u001b[0m\u001b[0;34m}\u001b[0m\u001b[0;34m\u001b[0m\u001b[0;34m\u001b[0m\u001b[0m\n\u001b[1;32m     59\u001b[0m     \u001b[0;32mfor\u001b[0m \u001b[0mname\u001b[0m\u001b[0;34m,\u001b[0m \u001b[0mdstr\u001b[0m \u001b[0;32min\u001b[0m \u001b[0mdocdict\u001b[0m\u001b[0;34m.\u001b[0m\u001b[0mitems\u001b[0m\u001b[0;34m(\u001b[0m\u001b[0;34m)\u001b[0m\u001b[0;34m:\u001b[0m\u001b[0;34m\u001b[0m\u001b[0;34m\u001b[0m\u001b[0m\n\u001b[0;32m---> 60\u001b[0;31m         \u001b[0mlines\u001b[0m \u001b[0;34m=\u001b[0m \u001b[0mdstr\u001b[0m\u001b[0;34m.\u001b[0m\u001b[0mexpandtabs\u001b[0m\u001b[0;34m(\u001b[0m\u001b[0;34m)\u001b[0m\u001b[0;34m.\u001b[0m\u001b[0msplitlines\u001b[0m\u001b[0;34m(\u001b[0m\u001b[0;34m)\u001b[0m\u001b[0;34m\u001b[0m\u001b[0;34m\u001b[0m\u001b[0m\n\u001b[0m\u001b[1;32m     61\u001b[0m         \u001b[0;32mtry\u001b[0m\u001b[0;34m:\u001b[0m\u001b[0;34m\u001b[0m\u001b[0;34m\u001b[0m\u001b[0m\n\u001b[1;32m     62\u001b[0m             \u001b[0mnewlines\u001b[0m \u001b[0;34m=\u001b[0m \u001b[0;34m[\u001b[0m\u001b[0mlines\u001b[0m\u001b[0;34m[\u001b[0m\u001b[0;36m0\u001b[0m\u001b[0;34m]\u001b[0m\u001b[0;34m]\u001b[0m\u001b[0;34m\u001b[0m\u001b[0;34m\u001b[0m\u001b[0m\n",
      "\u001b[0;31mKeyboardInterrupt\u001b[0m: "
     ]
    }
   ],
   "source": [
    "true_densities = hlp.density_at_true_value(density, true_y, true_z, B_zeta, tau_sq, beta)"
   ]
  },
  {
   "cell_type": "code",
   "execution_count": null,
   "metadata": {},
   "outputs": [],
   "source": [
    "plt.scatter(true_y, true_densities, alpha = 0.25, s = 1.5)\n",
    "plt.title('Predictive density at true, observed y values')"
   ]
  },
  {
   "cell_type": "markdown",
   "metadata": {},
   "source": [
    "## Posterior values at new covariates"
   ]
  },
  {
   "cell_type": "code",
   "execution_count": null,
   "metadata": {},
   "outputs": [],
   "source": [
    "# This should be faster... (ultra fast)\n",
    "# ideas:\n",
    "# precompute values that we can use for one y_i\n",
    "# compute all the cdf and pdf values in parallel\n",
    "# maybe even get density values from density estimation only?\n",
    "# then predict values together"
   ]
  },
  {
   "cell_type": "code",
   "execution_count": 53,
   "metadata": {},
   "outputs": [
    {
     "data": {
      "text/plain": [
       "43736"
      ]
     },
     "execution_count": 53,
     "metadata": {},
     "output_type": "execute_result"
    }
   ],
   "source": [
    "len(true_y)"
   ]
  },
  {
   "cell_type": "code",
   "execution_count": 54,
   "metadata": {},
   "outputs": [],
   "source": [
    "ind = range(0, len(true_y))#(abs(true_y) > 15)\n",
    "ind_large = [i for i, x in enumerate(ind) if x]"
   ]
  },
  {
   "cell_type": "code",
   "execution_count": 55,
   "metadata": {},
   "outputs": [],
   "source": [
    "sample_index = ind_large[0:500] #range(0, 100)#B_zeta.shape[0])\n",
    "psi_x0 = np.array([B_zeta[i,:] for i in sample_index])\n",
    "grid = np.linspace(min(density['axes']), max(density['axes']), 10000)"
   ]
  },
  {
   "cell_type": "code",
   "execution_count": 56,
   "metadata": {},
   "outputs": [],
   "source": [
    "density_y = density['axes']\n",
    "density_pdf = density['pdf']\n",
    "# compute these beforehand to save computation time\n",
    "p_y_y0 = [density_pdf[find_closest_element(y_i,density_y)] for y_i in grid]\n",
    "part_1 = np.array([norm.ppf(Fy(y_i, density)) for y_i in grid])\n",
    "phi_1_z = np.array([scipy.stats.norm(0, 1).pdf(y_i) for y_i in part_1])"
   ]
  },
  {
   "cell_type": "code",
   "execution_count": 57,
   "metadata": {},
   "outputs": [],
   "source": [
    "def predict_density(x, grid, p_y_y0, part_1, phi_1_z, beta, tau_sq):\n",
    "    \n",
    "    psi_x0 = x\n",
    "    \n",
    "    f_eta_x0 = psi_x0.dot(beta)\n",
    "    s_0_hat = (1 + tau_sq*psi_x0.dot(psi_x0))**(-0.5)\n",
    "    \n",
    "    part_0 = s_0_hat*f_eta_x0\n",
    "\n",
    "    # compute the cdf of new ys\n",
    "    \n",
    "    term_1 = scipy.stats.norm(0, 1).pdf((part_1- part_0) / s_0_hat)\n",
    "\n",
    "    p_y_single_obs_whole_dens = (p_y_y0/phi_1_z)*(1/s_0_hat)*term_1\n",
    "    \n",
    "    return(p_y_single_obs_whole_dens)"
   ]
  },
  {
   "cell_type": "code",
   "execution_count": 58,
   "metadata": {},
   "outputs": [],
   "source": [
    "result = [predict_density(B_zeta[i,:], grid, p_y_y0, part_1, phi_1_z, beta, tau_sq) for i in sample_index]"
   ]
  },
  {
   "cell_type": "code",
   "execution_count": 59,
   "metadata": {},
   "outputs": [],
   "source": [
    "df = pd.DataFrame(result)"
   ]
  },
  {
   "cell_type": "code",
   "execution_count": 60,
   "metadata": {},
   "outputs": [
    {
     "data": {
      "text/html": [
       "<div>\n",
       "<style scoped>\n",
       "    .dataframe tbody tr th:only-of-type {\n",
       "        vertical-align: middle;\n",
       "    }\n",
       "\n",
       "    .dataframe tbody tr th {\n",
       "        vertical-align: top;\n",
       "    }\n",
       "\n",
       "    .dataframe thead th {\n",
       "        text-align: right;\n",
       "    }\n",
       "</style>\n",
       "<table border=\"1\" class=\"dataframe\">\n",
       "  <thead>\n",
       "    <tr style=\"text-align: right;\">\n",
       "      <th></th>\n",
       "      <th>0</th>\n",
       "      <th>1</th>\n",
       "      <th>2</th>\n",
       "      <th>3</th>\n",
       "      <th>4</th>\n",
       "      <th>5</th>\n",
       "      <th>6</th>\n",
       "      <th>7</th>\n",
       "      <th>8</th>\n",
       "      <th>9</th>\n",
       "      <th>...</th>\n",
       "      <th>9990</th>\n",
       "      <th>9991</th>\n",
       "      <th>9992</th>\n",
       "      <th>9993</th>\n",
       "      <th>9994</th>\n",
       "      <th>9995</th>\n",
       "      <th>9996</th>\n",
       "      <th>9997</th>\n",
       "      <th>9998</th>\n",
       "      <th>9999</th>\n",
       "    </tr>\n",
       "  </thead>\n",
       "  <tbody>\n",
       "    <tr>\n",
       "      <th>0</th>\n",
       "      <td>3.144042e-09</td>\n",
       "      <td>4.913835e-09</td>\n",
       "      <td>5.696933e-09</td>\n",
       "      <td>6.591027e-09</td>\n",
       "      <td>7.463015e-09</td>\n",
       "      <td>8.678660e-09</td>\n",
       "      <td>9.934672e-09</td>\n",
       "      <td>1.169790e-08</td>\n",
       "      <td>1.350344e-08</td>\n",
       "      <td>1.600312e-08</td>\n",
       "      <td>...</td>\n",
       "      <td>2.196738e-05</td>\n",
       "      <td>1.923092e-05</td>\n",
       "      <td>1.720647e-05</td>\n",
       "      <td>1.519635e-05</td>\n",
       "      <td>1.375888e-05</td>\n",
       "      <td>1.239921e-05</td>\n",
       "      <td>1.149751e-05</td>\n",
       "      <td>1.075266e-05</td>\n",
       "      <td>1.039859e-05</td>\n",
       "      <td>1.045975e-05</td>\n",
       "    </tr>\n",
       "    <tr>\n",
       "      <th>1</th>\n",
       "      <td>2.270749e-11</td>\n",
       "      <td>5.360072e-11</td>\n",
       "      <td>6.963394e-11</td>\n",
       "      <td>8.773578e-11</td>\n",
       "      <td>1.049972e-10</td>\n",
       "      <td>1.288298e-10</td>\n",
       "      <td>1.535316e-10</td>\n",
       "      <td>1.886593e-10</td>\n",
       "      <td>2.253121e-10</td>\n",
       "      <td>2.772386e-10</td>\n",
       "      <td>...</td>\n",
       "      <td>2.509533e-05</td>\n",
       "      <td>2.174933e-05</td>\n",
       "      <td>1.928083e-05</td>\n",
       "      <td>1.682937e-05</td>\n",
       "      <td>1.506676e-05</td>\n",
       "      <td>1.337202e-05</td>\n",
       "      <td>1.220159e-05</td>\n",
       "      <td>1.112272e-05</td>\n",
       "      <td>1.037300e-05</td>\n",
       "      <td>9.279428e-06</td>\n",
       "    </tr>\n",
       "    <tr>\n",
       "      <th>2</th>\n",
       "      <td>4.423234e-11</td>\n",
       "      <td>9.749782e-11</td>\n",
       "      <td>1.243095e-10</td>\n",
       "      <td>1.544474e-10</td>\n",
       "      <td>1.831666e-10</td>\n",
       "      <td>2.227809e-10</td>\n",
       "      <td>2.637598e-10</td>\n",
       "      <td>3.218640e-10</td>\n",
       "      <td>3.822762e-10</td>\n",
       "      <td>4.675183e-10</td>\n",
       "      <td>...</td>\n",
       "      <td>3.208074e-05</td>\n",
       "      <td>2.792927e-05</td>\n",
       "      <td>2.486144e-05</td>\n",
       "      <td>2.181333e-05</td>\n",
       "      <td>1.962516e-05</td>\n",
       "      <td>1.753324e-05</td>\n",
       "      <td>1.610917e-05</td>\n",
       "      <td>1.484428e-05</td>\n",
       "      <td>1.405330e-05</td>\n",
       "      <td>1.317206e-05</td>\n",
       "    </tr>\n",
       "    <tr>\n",
       "      <th>3</th>\n",
       "      <td>3.031610e-08</td>\n",
       "      <td>3.966517e-08</td>\n",
       "      <td>4.377590e-08</td>\n",
       "      <td>4.880761e-08</td>\n",
       "      <td>5.395289e-08</td>\n",
       "      <td>6.129580e-08</td>\n",
       "      <td>6.894952e-08</td>\n",
       "      <td>7.969384e-08</td>\n",
       "      <td>9.064231e-08</td>\n",
       "      <td>1.056783e-07</td>\n",
       "      <td>...</td>\n",
       "      <td>1.431810e-05</td>\n",
       "      <td>1.254542e-05</td>\n",
       "      <td>1.123422e-05</td>\n",
       "      <td>9.933000e-06</td>\n",
       "      <td>9.003635e-06</td>\n",
       "      <td>8.127074e-06</td>\n",
       "      <td>7.549686e-06</td>\n",
       "      <td>7.082250e-06</td>\n",
       "      <td>6.881297e-06</td>\n",
       "      <td>7.043860e-06</td>\n",
       "    </tr>\n",
       "    <tr>\n",
       "      <th>4</th>\n",
       "      <td>3.539067e-08</td>\n",
       "      <td>4.582441e-08</td>\n",
       "      <td>5.042618e-08</td>\n",
       "      <td>5.609889e-08</td>\n",
       "      <td>6.192410e-08</td>\n",
       "      <td>7.025405e-08</td>\n",
       "      <td>7.894367e-08</td>\n",
       "      <td>9.114396e-08</td>\n",
       "      <td>1.035734e-07</td>\n",
       "      <td>1.206358e-07</td>\n",
       "      <td>...</td>\n",
       "      <td>1.330659e-05</td>\n",
       "      <td>1.165421e-05</td>\n",
       "      <td>1.043218e-05</td>\n",
       "      <td>9.219494e-06</td>\n",
       "      <td>8.353190e-06</td>\n",
       "      <td>7.535552e-06</td>\n",
       "      <td>6.996013e-06</td>\n",
       "      <td>6.556873e-06</td>\n",
       "      <td>6.363034e-06</td>\n",
       "      <td>6.490578e-06</td>\n",
       "    </tr>\n",
       "    <tr>\n",
       "      <th>...</th>\n",
       "      <td>...</td>\n",
       "      <td>...</td>\n",
       "      <td>...</td>\n",
       "      <td>...</td>\n",
       "      <td>...</td>\n",
       "      <td>...</td>\n",
       "      <td>...</td>\n",
       "      <td>...</td>\n",
       "      <td>...</td>\n",
       "      <td>...</td>\n",
       "      <td>...</td>\n",
       "      <td>...</td>\n",
       "      <td>...</td>\n",
       "      <td>...</td>\n",
       "      <td>...</td>\n",
       "      <td>...</td>\n",
       "      <td>...</td>\n",
       "      <td>...</td>\n",
       "      <td>...</td>\n",
       "      <td>...</td>\n",
       "      <td>...</td>\n",
       "    </tr>\n",
       "    <tr>\n",
       "      <th>495</th>\n",
       "      <td>2.721852e-06</td>\n",
       "      <td>2.606154e-06</td>\n",
       "      <td>2.635590e-06</td>\n",
       "      <td>2.751284e-06</td>\n",
       "      <td>2.913616e-06</td>\n",
       "      <td>3.174938e-06</td>\n",
       "      <td>3.461062e-06</td>\n",
       "      <td>3.869249e-06</td>\n",
       "      <td>4.285147e-06</td>\n",
       "      <td>4.850880e-06</td>\n",
       "      <td>...</td>\n",
       "      <td>1.270430e-06</td>\n",
       "      <td>1.098438e-06</td>\n",
       "      <td>9.719461e-07</td>\n",
       "      <td>8.466836e-07</td>\n",
       "      <td>7.568631e-07</td>\n",
       "      <td>6.707440e-07</td>\n",
       "      <td>6.115026e-07</td>\n",
       "      <td>5.573970e-07</td>\n",
       "      <td>5.210785e-07</td>\n",
       "      <td>4.774690e-07</td>\n",
       "    </tr>\n",
       "    <tr>\n",
       "      <th>496</th>\n",
       "      <td>4.740873e-07</td>\n",
       "      <td>5.050851e-07</td>\n",
       "      <td>5.264540e-07</td>\n",
       "      <td>5.622699e-07</td>\n",
       "      <td>6.044061e-07</td>\n",
       "      <td>6.682729e-07</td>\n",
       "      <td>7.365359e-07</td>\n",
       "      <td>8.330742e-07</td>\n",
       "      <td>9.312854e-07</td>\n",
       "      <td>1.065216e-06</td>\n",
       "      <td>...</td>\n",
       "      <td>5.472876e-06</td>\n",
       "      <td>4.780729e-06</td>\n",
       "      <td>4.269543e-06</td>\n",
       "      <td>3.762586e-06</td>\n",
       "      <td>3.400228e-06</td>\n",
       "      <td>3.057193e-06</td>\n",
       "      <td>2.828928e-06</td>\n",
       "      <td>2.638496e-06</td>\n",
       "      <td>2.544826e-06</td>\n",
       "      <td>2.557395e-06</td>\n",
       "    </tr>\n",
       "    <tr>\n",
       "      <th>497</th>\n",
       "      <td>1.420355e-05</td>\n",
       "      <td>1.390735e-05</td>\n",
       "      <td>1.410893e-05</td>\n",
       "      <td>1.474976e-05</td>\n",
       "      <td>1.562812e-05</td>\n",
       "      <td>1.703277e-05</td>\n",
       "      <td>1.856619e-05</td>\n",
       "      <td>2.074971e-05</td>\n",
       "      <td>2.297115e-05</td>\n",
       "      <td>2.598857e-05</td>\n",
       "      <td>...</td>\n",
       "      <td>3.534690e-09</td>\n",
       "      <td>2.896946e-09</td>\n",
       "      <td>2.442050e-09</td>\n",
       "      <td>2.001772e-09</td>\n",
       "      <td>1.689547e-09</td>\n",
       "      <td>1.386863e-09</td>\n",
       "      <td>1.168019e-09</td>\n",
       "      <td>9.412564e-10</td>\n",
       "      <td>7.428941e-10</td>\n",
       "      <td>4.081062e-10</td>\n",
       "    </tr>\n",
       "    <tr>\n",
       "      <th>498</th>\n",
       "      <td>2.608496e-07</td>\n",
       "      <td>2.893054e-07</td>\n",
       "      <td>3.049631e-07</td>\n",
       "      <td>3.284905e-07</td>\n",
       "      <td>3.550691e-07</td>\n",
       "      <td>3.947099e-07</td>\n",
       "      <td>4.367965e-07</td>\n",
       "      <td>4.961813e-07</td>\n",
       "      <td>5.565900e-07</td>\n",
       "      <td>6.390663e-07</td>\n",
       "      <td>...</td>\n",
       "      <td>7.730585e-06</td>\n",
       "      <td>6.766859e-06</td>\n",
       "      <td>6.054539e-06</td>\n",
       "      <td>5.347999e-06</td>\n",
       "      <td>4.843447e-06</td>\n",
       "      <td>4.367320e-06</td>\n",
       "      <td>4.053124e-06</td>\n",
       "      <td>3.797363e-06</td>\n",
       "      <td>3.684887e-06</td>\n",
       "      <td>3.768893e-06</td>\n",
       "    </tr>\n",
       "    <tr>\n",
       "      <th>499</th>\n",
       "      <td>1.470620e-07</td>\n",
       "      <td>1.701166e-07</td>\n",
       "      <td>1.814391e-07</td>\n",
       "      <td>1.971685e-07</td>\n",
       "      <td>2.143485e-07</td>\n",
       "      <td>2.396112e-07</td>\n",
       "      <td>2.662737e-07</td>\n",
       "      <td>3.038236e-07</td>\n",
       "      <td>3.420261e-07</td>\n",
       "      <td>3.942537e-07</td>\n",
       "      <td>...</td>\n",
       "      <td>9.689158e-06</td>\n",
       "      <td>8.488776e-06</td>\n",
       "      <td>7.601192e-06</td>\n",
       "      <td>6.720700e-06</td>\n",
       "      <td>6.092130e-06</td>\n",
       "      <td>5.499723e-06</td>\n",
       "      <td>5.110120e-06</td>\n",
       "      <td>4.796212e-06</td>\n",
       "      <td>4.665029e-06</td>\n",
       "      <td>4.801387e-06</td>\n",
       "    </tr>\n",
       "  </tbody>\n",
       "</table>\n",
       "<p>500 rows × 10000 columns</p>\n",
       "</div>"
      ],
      "text/plain": [
       "             0             1             2             3             4     \\\n",
       "0    3.144042e-09  4.913835e-09  5.696933e-09  6.591027e-09  7.463015e-09   \n",
       "1    2.270749e-11  5.360072e-11  6.963394e-11  8.773578e-11  1.049972e-10   \n",
       "2    4.423234e-11  9.749782e-11  1.243095e-10  1.544474e-10  1.831666e-10   \n",
       "3    3.031610e-08  3.966517e-08  4.377590e-08  4.880761e-08  5.395289e-08   \n",
       "4    3.539067e-08  4.582441e-08  5.042618e-08  5.609889e-08  6.192410e-08   \n",
       "..            ...           ...           ...           ...           ...   \n",
       "495  2.721852e-06  2.606154e-06  2.635590e-06  2.751284e-06  2.913616e-06   \n",
       "496  4.740873e-07  5.050851e-07  5.264540e-07  5.622699e-07  6.044061e-07   \n",
       "497  1.420355e-05  1.390735e-05  1.410893e-05  1.474976e-05  1.562812e-05   \n",
       "498  2.608496e-07  2.893054e-07  3.049631e-07  3.284905e-07  3.550691e-07   \n",
       "499  1.470620e-07  1.701166e-07  1.814391e-07  1.971685e-07  2.143485e-07   \n",
       "\n",
       "             5             6             7             8             9     \\\n",
       "0    8.678660e-09  9.934672e-09  1.169790e-08  1.350344e-08  1.600312e-08   \n",
       "1    1.288298e-10  1.535316e-10  1.886593e-10  2.253121e-10  2.772386e-10   \n",
       "2    2.227809e-10  2.637598e-10  3.218640e-10  3.822762e-10  4.675183e-10   \n",
       "3    6.129580e-08  6.894952e-08  7.969384e-08  9.064231e-08  1.056783e-07   \n",
       "4    7.025405e-08  7.894367e-08  9.114396e-08  1.035734e-07  1.206358e-07   \n",
       "..            ...           ...           ...           ...           ...   \n",
       "495  3.174938e-06  3.461062e-06  3.869249e-06  4.285147e-06  4.850880e-06   \n",
       "496  6.682729e-07  7.365359e-07  8.330742e-07  9.312854e-07  1.065216e-06   \n",
       "497  1.703277e-05  1.856619e-05  2.074971e-05  2.297115e-05  2.598857e-05   \n",
       "498  3.947099e-07  4.367965e-07  4.961813e-07  5.565900e-07  6.390663e-07   \n",
       "499  2.396112e-07  2.662737e-07  3.038236e-07  3.420261e-07  3.942537e-07   \n",
       "\n",
       "     ...          9990          9991          9992          9993  \\\n",
       "0    ...  2.196738e-05  1.923092e-05  1.720647e-05  1.519635e-05   \n",
       "1    ...  2.509533e-05  2.174933e-05  1.928083e-05  1.682937e-05   \n",
       "2    ...  3.208074e-05  2.792927e-05  2.486144e-05  2.181333e-05   \n",
       "3    ...  1.431810e-05  1.254542e-05  1.123422e-05  9.933000e-06   \n",
       "4    ...  1.330659e-05  1.165421e-05  1.043218e-05  9.219494e-06   \n",
       "..   ...           ...           ...           ...           ...   \n",
       "495  ...  1.270430e-06  1.098438e-06  9.719461e-07  8.466836e-07   \n",
       "496  ...  5.472876e-06  4.780729e-06  4.269543e-06  3.762586e-06   \n",
       "497  ...  3.534690e-09  2.896946e-09  2.442050e-09  2.001772e-09   \n",
       "498  ...  7.730585e-06  6.766859e-06  6.054539e-06  5.347999e-06   \n",
       "499  ...  9.689158e-06  8.488776e-06  7.601192e-06  6.720700e-06   \n",
       "\n",
       "             9994          9995          9996          9997          9998  \\\n",
       "0    1.375888e-05  1.239921e-05  1.149751e-05  1.075266e-05  1.039859e-05   \n",
       "1    1.506676e-05  1.337202e-05  1.220159e-05  1.112272e-05  1.037300e-05   \n",
       "2    1.962516e-05  1.753324e-05  1.610917e-05  1.484428e-05  1.405330e-05   \n",
       "3    9.003635e-06  8.127074e-06  7.549686e-06  7.082250e-06  6.881297e-06   \n",
       "4    8.353190e-06  7.535552e-06  6.996013e-06  6.556873e-06  6.363034e-06   \n",
       "..            ...           ...           ...           ...           ...   \n",
       "495  7.568631e-07  6.707440e-07  6.115026e-07  5.573970e-07  5.210785e-07   \n",
       "496  3.400228e-06  3.057193e-06  2.828928e-06  2.638496e-06  2.544826e-06   \n",
       "497  1.689547e-09  1.386863e-09  1.168019e-09  9.412564e-10  7.428941e-10   \n",
       "498  4.843447e-06  4.367320e-06  4.053124e-06  3.797363e-06  3.684887e-06   \n",
       "499  6.092130e-06  5.499723e-06  5.110120e-06  4.796212e-06  4.665029e-06   \n",
       "\n",
       "             9999  \n",
       "0    1.045975e-05  \n",
       "1    9.279428e-06  \n",
       "2    1.317206e-05  \n",
       "3    7.043860e-06  \n",
       "4    6.490578e-06  \n",
       "..            ...  \n",
       "495  4.774690e-07  \n",
       "496  2.557395e-06  \n",
       "497  4.081062e-10  \n",
       "498  3.768893e-06  \n",
       "499  4.801387e-06  \n",
       "\n",
       "[500 rows x 10000 columns]"
      ]
     },
     "execution_count": 60,
     "metadata": {},
     "output_type": "execute_result"
    }
   ],
   "source": [
    "df"
   ]
  },
  {
   "cell_type": "code",
   "execution_count": 61,
   "metadata": {},
   "outputs": [],
   "source": [
    "average_pred_density = df.mean(axis=0)"
   ]
  },
  {
   "cell_type": "code",
   "execution_count": 62,
   "metadata": {},
   "outputs": [
    {
     "data": {
      "text/plain": [
       "[<matplotlib.lines.Line2D at 0x7f3966809910>]"
      ]
     },
     "execution_count": 62,
     "metadata": {},
     "output_type": "execute_result"
    },
    {
     "data": {
      "image/png": "[encoded data removed]",
      "text/plain": [
       "<Figure size 432x288 with 1 Axes>"
      ]
     },
     "metadata": {
      "needs_background": "light"
     },
     "output_type": "display_data"
    }
   ],
   "source": [
    "plt.plot(density['axes'], density['pdf'], label = 'fast (= true) KDE')\n",
    "plt.plot(grid, average_pred_density)"
   ]
  },
  {
   "cell_type": "code",
   "execution_count": null,
   "metadata": {},
   "outputs": [],
   "source": [
    "density['axes'].shape"
   ]
  },
  {
   "cell_type": "code",
   "execution_count": 51,
   "metadata": {},
   "outputs": [
    {
     "data": {
      "image/png": "[encoded data removed]",
      "text/plain": [
       "<Figure size 432x288 with 1 Axes>"
      ]
     },
     "metadata": {
      "needs_background": "light"
     },
     "output_type": "display_data"
    }
   ],
   "source": [
    "plt.figure()\n",
    "for i in range(0,1):\n",
    "    plt.plot(grid, df.iloc[52,:] )\n",
    "plt.show()"
   ]
  },
  {
   "cell_type": "code",
   "execution_count": null,
   "metadata": {},
   "outputs": [],
   "source": [
    "plt.plot(grid, df.iloc[1,:] )"
   ]
  },
  {
   "cell_type": "code",
   "execution_count": null,
   "metadata": {},
   "outputs": [],
   "source": [
    "true_y[ind_large[0]]"
   ]
  },
  {
   "cell_type": "code",
   "execution_count": null,
   "metadata": {},
   "outputs": [],
   "source": [
    "df.plot.line(linewidth = 0.05)\n",
    "plt.plot(df.index, df['average_pred_density'], label = 'average predictive density')\n",
    "plt.plot(density['axes'], density['pdf'], label = 'fast (= true) KDE')\n",
    "plt.title('Marginal calibration of predictive densities')\n",
    "#plt.legend()\n",
    "plt.show()"
   ]
  },
  {
   "cell_type": "code",
   "execution_count": null,
   "metadata": {},
   "outputs": [],
   "source": [
    "df = bring_df_to_correct_format(result, grid)\n",
    "df['average_pred_density'] = df.mean(axis=1)\n",
    "df.to_csv('look_at_densities.csv')"
   ]
  },
  {
   "cell_type": "code",
   "execution_count": null,
   "metadata": {},
   "outputs": [],
   "source": [
    "'''predict_density_part = partial(predict_density, grid, \n",
    "                               density_y, density_pdf,\n",
    "                               beta_t, Lambda_t_sq)\n",
    "num_cores = mp.cpu_count()\n",
    "pool = mp.Pool(processes=num_cores)\n",
    "Fy_y = pool.map(predict_density_part, psi_x0)'''"
   ]
  },
  {
   "cell_type": "code",
   "execution_count": null,
   "metadata": {},
   "outputs": [],
   "source": [
    "'''num_cores = multiprocessing.cpu_count()\n",
    "grid = np.linspace(min(density['y']), max(density['y']), 1000)'''"
   ]
  },
  {
   "cell_type": "code",
   "execution_count": null,
   "metadata": {},
   "outputs": [],
   "source": [
    "'''def predict_density(grid, density, psi_x0, beta_t, Lambda_t):\n",
    "    \n",
    "    #Predicts density for a new observation with the copula\n",
    "    #model\n",
    "    #Input: df with columns:\n",
    "    #       grid, density, psi_x0, beta_t, Lambda_t\n",
    "    #Output: density at grid\n",
    "    \n",
    "    # compute p_Y(y_0) for each y in grid\n",
    "    axes = np.array(density['y'])\n",
    "    p_y_y0 = [density.loc[find_closest_element(y_i,density['y'])]['pdf']  for y_i in grid]\n",
    "    \n",
    "    f_eta_x0 = psi_x0.dot(beta_t)\n",
    "    s_0_hat = math.sqrt(1 + psi_x0.dot(Lambda_t).dot(psi_x0))\n",
    "    \n",
    "    part_0 = s_0_hat*f_eta_x0\n",
    "    part_1 = np.array([norm.ppf(Fy(y_i, density)) for y_i in grid])\n",
    "    # here occur some issues with values of -inf\n",
    "    # fix invalid values later ...\n",
    "    #part_1[np.isinf(part_1)] = 0.01\n",
    "    \n",
    "    # compute the cdf of new ys\n",
    "    phi_1_z = np.array([scipy.stats.norm(0, 1).pdf(y_i) for y_i in part_1])\n",
    "    \n",
    "    term_1 = scipy.stats.norm(0, 1).pdf((part_1- part_0) / s_0_hat)\n",
    "\n",
    "    p_y_single_obs_whole_dens = (p_y_y0/phi_1_z)*(1/s_0_hat)*term_1\n",
    "    return(p_y_single_obs_whole_dens)'''"
   ]
  },
  {
   "cell_type": "code",
   "execution_count": null,
   "metadata": {},
   "outputs": [],
   "source": [
    "'''num_cores = mp.cpu_count()\n",
    "pool = mp.Pool(processes=num_cores)\n",
    "prod_x = partial(predict_density, df = density)'''"
   ]
  },
  {
   "cell_type": "code",
   "execution_count": null,
   "metadata": {},
   "outputs": [],
   "source": [
    "'''Fy_y = pool.map(prod_x, density.dens)'''"
   ]
  },
  {
   "cell_type": "code",
   "execution_count": null,
   "metadata": {},
   "outputs": [],
   "source": [
    "'''sample_index = [int(uniform(0, 2600)) for i in range(0,2000)]\n",
    "result = Parallel(n_jobs=num_cores)(delayed(predict_density(grid = grid, \n",
    "                                                            density = density, \n",
    "                                                            psi_x0 = B_zeta[i,:], \n",
    "                                                            beta_t = beta_t, \n",
    "                                                            Lambda_t = Lambda_t_sq)) for i in sample_index)'''"
   ]
  },
  {
   "cell_type": "code",
   "execution_count": null,
   "metadata": {},
   "outputs": [],
   "source": [
    "df = bring_df_to_correct_format(result)\n",
    "df['average_pred_density'] = df.mean(axis=1)\n",
    "df.to_csv('look_at_densities.csv')"
   ]
  },
  {
   "cell_type": "code",
   "execution_count": null,
   "metadata": {},
   "outputs": [],
   "source": [
    "grid = np.linspace(min(density['axes']), max(density['axes']), 1000)"
   ]
  },
  {
   "cell_type": "code",
   "execution_count": null,
   "metadata": {},
   "outputs": [],
   "source": [
    "#result = [predict_density(y = true_y[i], z = true_z[i], grid = grid, density = density, psi_x0 = B_zeta[i,:], beta_t = beta_t, Lambda_t = Lambda_t_sq) for i in sample_index]\n",
    "df = bring_df_to_correct_format(result, grid)\n",
    "df['average_pred_density'] = df.mean(axis=1)"
   ]
  },
  {
   "cell_type": "code",
   "execution_count": null,
   "metadata": {},
   "outputs": [],
   "source": [
    "result"
   ]
  },
  {
   "cell_type": "code",
   "execution_count": null,
   "metadata": {},
   "outputs": [],
   "source": [
    "df.to_csv('look_at_densities.csv')"
   ]
  },
  {
   "cell_type": "markdown",
   "metadata": {},
   "source": [
    "## Average predicted density\n",
    "\\\\[ \\hat{p}_Y(y_i|x_i) \\\\]"
   ]
  },
  {
   "cell_type": "code",
   "execution_count": null,
   "metadata": {},
   "outputs": [],
   "source": [
    "s.plot.line(linewidth = 0.05)\n",
    "plt.plot(s.index, s['average_pred_density'], label = 'average predictive density')\n",
    "plt.plot(density['axes'], density['pdf'], label = 'fast (= true) KDE')\n",
    "plt.title('Marginal calibration of predictive densities')\n",
    "plt.legend()\n",
    "plt.show()"
   ]
  },
  {
   "cell_type": "code",
   "execution_count": null,
   "metadata": {},
   "outputs": [],
   "source": [
    "plt.savefig('density_pred.png')"
   ]
  },
  {
   "cell_type": "markdown",
   "metadata": {},
   "source": [
    "## Density predictions for training observations\n",
    "\n",
    "\\\\[ p(y |x, \\beta, \\theta) = p(z | x, \\beta, \\theta) \\prod_{i=1}^n \\frac{p_Y(y_i)}{\\phi_1(z_i)} = \\phi_n(z; S(x,\\theta)B_{\\zeta}(x)\\beta, S(x,\\theta)^2)\\prod_{i=1}^n \\frac{p_Y(y_i)}{\\phi_1(z_i)} \\\\]\n",
    "\n",
    "This density evaluates to 0 ... bc of the product in the end. Is this correct or should there really be a density value?"
   ]
  },
  {
   "cell_type": "code",
   "execution_count": null,
   "metadata": {},
   "outputs": [],
   "source": [
    "axes = np.array(density['axes'])\n",
    "p_y_y0_closest_element = [find_closest_element(y_i,axes ) for y_i in true_z]\n",
    "p_y_y0 = [density[density['axes'] == closest_i]['pdf'].to_numpy()  for closest_i in p_y_y0_closest_element]\n",
    "p_y_y0 = [item for sublist in p_y_y0 for item in sublist]"
   ]
  },
  {
   "cell_type": "code",
   "execution_count": null,
   "metadata": {},
   "outputs": [],
   "source": [
    "phi_1_z = [scipy.stats.norm(0, 1).pdf(y_i) for y_i in true_z]"
   ]
  },
  {
   "cell_type": "code",
   "execution_count": null,
   "metadata": {},
   "outputs": [],
   "source": [
    "any([i == 0 for i in p_y_y0])"
   ]
  },
  {
   "cell_type": "code",
   "execution_count": null,
   "metadata": {},
   "outputs": [],
   "source": [
    "np.prod(phi_1_z)"
   ]
  },
  {
   "cell_type": "code",
   "execution_count": null,
   "metadata": {},
   "outputs": [],
   "source": [
    "np.sum(np.log(np.array(p_y_y0)/np.array(phi_1_z)))"
   ]
  },
  {
   "cell_type": "code",
   "execution_count": null,
   "metadata": {},
   "outputs": [],
   "source": [
    "np.prod(np.array(p_y_y0)/np.array(phi_1_z))"
   ]
  },
  {
   "cell_type": "code",
   "execution_count": null,
   "metadata": {},
   "outputs": [],
   "source": [
    "mean = S.dot(B_zeta.dot(beta))\n",
    "cov = S**2\n",
    "part_1 = [multivariate_normal(z_i, n, mean, covariance) for z_i in true_z]\n",
    "part_2 = np.prod([pdf_y(y_i, density) for y_i in true_y])\n",
    "part_3 = np.prod([multivariate_normal(z_i, 1, 0, 1) for z_i in true_z ])\n",
    "p_y_cond_x_beta_theta = pdf_y*part_2/part_3\n",
    "# need to evaluate this for every y there is to get the whole probability distribution\n",
    "# and plot it"
   ]
  }
 ],
 "metadata": {
  "kernelspec": {
   "display_name": "Python 3",
   "language": "python",
   "name": "python3"
  },
  "language_info": {
   "codemirror_mode": {
    "name": "ipython",
    "version": 3
   },
   "file_extension": ".py",
   "mimetype": "text/x-python",
   "name": "python",
   "nbconvert_exporter": "python",
   "pygments_lexer": "ipython3",
   "version": "3.8.5"
  }
 },
 "nbformat": 4,
 "nbformat_minor": 4
}
