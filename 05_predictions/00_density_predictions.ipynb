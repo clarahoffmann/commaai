{
 "cells": [
  {
   "cell_type": "code",
   "execution_count": null,
   "metadata": {},
   "outputs": [],
   "source": [
    "# min, max of density from fast_kde is not correct\n",
    "# https://github.com/yixuan/fastncdf make cdf computation faster"
   ]
  },
  {
   "cell_type": "code",
   "execution_count": 1,
   "metadata": {},
   "outputs": [],
   "source": [
    "import numpy as np\n",
    "import multiprocessing as mp\n",
    "from functools import partial\n",
    "import math\n",
    "import pandas as pd\n",
    "from helpers_trans import Fy, imgs_input_fn,  multivariate_normal, find_closest_element, predict_density, bring_df_to_correct_format\n",
    "from random import  uniform\n",
    "import scipy.stats\n",
    "from scipy.stats import norm\n",
    "import matplotlib.pyplot as plt\n",
    "import tensorflow as tf\n",
    "from tensorflow import keras\n",
    "from keras.layers import Dense, Conv2D, MaxPooling2D, Dropout, Flatten, BatchNormalization\n",
    "from sklearn.metrics import mean_squared_error, mean_absolute_error\n",
    "from joblib import Parallel, delayed"
   ]
  },
  {
   "cell_type": "code",
   "execution_count": 2,
   "metadata": {},
   "outputs": [],
   "source": [
    "# p = number of betas\n",
    "p = 10"
   ]
  },
  {
   "cell_type": "markdown",
   "metadata": {},
   "source": [
    "Read in \n",
    "- $\\vartheta$, \n",
    "- KDE densities $p_y(y_i)$, \n",
    "- DNN model $f: x \\rightarrow y$, \n",
    "- true $y$ values"
   ]
  },
  {
   "cell_type": "code",
   "execution_count": 3,
   "metadata": {},
   "outputs": [],
   "source": [
    "extracted_coefficients_directory = '../../data/commaai/extracted_coefficients/20201027_filtered_gaussian_resampled/'\n",
    "B_zeta_path = str(extracted_coefficients_directory + 'Bzeta/B_zeta.npy')\n",
    "beta_path = str(extracted_coefficients_directory + 'beta/beta.csv')\n",
    "z_path = str(extracted_coefficients_directory + 'Bzeta/tr_labels.npy')\n",
    "y_path = str(extracted_coefficients_directory + 'Bzeta/labels.npy')\n",
    "beta = np.genfromtxt(beta_path, delimiter=',')\n",
    "B_zeta = np.load(B_zeta_path)\n",
    "B_zeta = B_zeta.reshape(B_zeta.shape[0], beta.shape[0])\n",
    "true_z = np.load(z_path)\n",
    "true_y = np.load(y_path)\n",
    "\n",
    "# filtered Ridge \n",
    "va_ridge_dir = '../../data/commaai/va/filtered_gaussian_resampled/Ridge/'\n",
    "mu_t_va = np.genfromtxt(va_ridge_dir + 'mu_t_va.csv', delimiter = ',')\n",
    "beta = np.mean(mu_t_va[int(0.9*50000):50000,0:10], axis = 0)\n",
    "tau_sq = np.exp(np.mean(mu_t_va[int(0.9*50000):50000,10], axis = 0))\n",
    "#vartheta_path = '../../data/density/03082020/vartheta_final.csv'\n",
    "#B_zeta_path = '../../bdd100k_test_data/extracted_coefficients/10092020/B_zeta_predictions_val.csv'\n",
    "#z_path = '../../data/tfrecords/03082020/val_yaw_transformed.csv'\n",
    "density_path = '../../data/commaai/density/gaussian_density_filtered.csv'\n",
    "density = pd.read_csv(density_path)\n",
    "#true_y_path = '../../data/tfrecords/03082020/val_yaw_original.csv'\n",
    "\n",
    "\n",
    "#vartheta = np.genfromtxt(vartheta_path, delimiter=',')\n",
    "#B_zeta = np.genfromtxt(B_zeta_path, delimiter=',')\n",
    "n = B_zeta.shape[0]\n",
    "#true_z = np.genfromtxt(z_path, delimiter=',')[:n]\n",
    "#density = pd.read_csv(density_path)\n",
    "#true_y = np.genfromtxt(true_y_path, delimiter=',')[:n]\n",
    "\n",
    "# Get predictions for new observations B_zeta from different file\n",
    "# for convenience"
   ]
  },
  {
   "cell_type": "markdown",
   "metadata": {},
   "source": [
    "We want to compute the following density value\n",
    "\n",
    "\\\\[\\hat{p}_0(y_0 | x_0) = \\frac{p_Y(y_0)}{\\phi_1(\\Phi_1^{-1}(F_Y(y_0)))} \\frac{1}{\\hat{s_0}} \\phi_1 \\Big( \\frac{\\Phi_1^{-1}(F_Y(y_0)) - \\hat{s_0}\\hat{f}_{\\eta}(x_0)}{\\hat{s_0}} \\Big),  \\\\]\n",
    "where $\\hat{f}_{\\eta}(x_0) = \\psi_{\\zeta}(x_0)^T\\hat{\\beta}$, $\\hat{s}_0 = (1 + \\psi_{\\zeta}(x_0)^T P(\\hat{\\theta})^{-1}\\psi_{\\zeta}(x_0))^{\\frac{1}{2}}$\n",
    "\n",
    "So $y_0$ can also be a new value i think -> can predict whole density curve for new observations\n",
    "Apparently this method only predicts posterior densities for realizations of y. \n",
    "For example, we could train our model, then get posterior densities for a test set and inspect the densities. \n",
    "If the densities have several modes -> can say that our model is too unsure about its predictions.\n",
    "Can also say what the confidence intervals of our predictions are.\n",
    "We can obtain uncertainty of the predictions itself with Mixture density networks for example (nice comparison - weight uncertainty (Bayes by Backprop), prediction uncertainty (MDN), target uncertainty (Klein). However, Klein does rely on parametric assumptions, which the other two do not (disadvantage, may introduce bias)."
   ]
  },
  {
   "cell_type": "markdown",
   "metadata": {},
   "source": [
    "## Posterior densities at true values\n",
    "evaluating the posterior densities at the true, realized values"
   ]
  },
  {
   "cell_type": "code",
   "execution_count": null,
   "metadata": {},
   "outputs": [],
   "source": [
    "def density_at_true_value(density, true_y, true_z, B_zeta, tau_sq, beta_t):\n",
    "    \n",
    "    axes = np.array(density['axes'])\n",
    "    p_y_y0 = [density.loc[find_closest_element(y_i,density['axes'])]['pdf']  for y_i in true_y]\n",
    "    \n",
    "    f_eta_x0 = B_zeta.dot(beta_t)\n",
    "    s_0_hat = np.sqrt(1 + tau_sq*np.array([B_zeta[j,:].T.dot(B_zeta[j,:]) for j in range(0,n)]))\n",
    "    phi_1_z = np.array([scipy.stats.norm(0, 1).pdf(z_i) for z_i in true_z])\n",
    "    term_1 = (true_z - s_0_hat*f_eta_x0)/(s_0_hat)\n",
    "    term_2 = np.array([scipy.stats.norm(0, 1).pdf(z_i) for z_i in term_1])\n",
    "    p_y0_x0 = (p_y_y0/phi_1_z)*(1/s_0_hat)*term_2\n",
    "    \n",
    "    return p_y0_x0"
   ]
  },
  {
   "cell_type": "code",
   "execution_count": null,
   "metadata": {},
   "outputs": [],
   "source": [
    "true_densities = density_at_true_value(density, true_y, true_z, B_zeta, tau_sq, beta)"
   ]
  },
  {
   "cell_type": "code",
   "execution_count": null,
   "metadata": {},
   "outputs": [],
   "source": [
    "plt.scatter(true_y, true_densities, alpha = 0.25, s = 1.5)\n",
    "plt.title('Predictive density at true, observed y values')"
   ]
  },
  {
   "cell_type": "markdown",
   "metadata": {},
   "source": [
    "## Posterior values at new covariates"
   ]
  },
  {
   "cell_type": "code",
   "execution_count": null,
   "metadata": {},
   "outputs": [],
   "source": [
    "# This should be faster... (ultra fast)\n",
    "# ideas:\n",
    "# precompute values that we can use for one y_i\n",
    "# compute all the cdf and pdf values in parallel\n",
    "# maybe even get density values from density estimation only?\n",
    "# then predict values together"
   ]
  },
  {
   "cell_type": "code",
   "execution_count": 39,
   "metadata": {},
   "outputs": [],
   "source": [
    "ind = (abs(true_y) > 15)\n",
    "ind_large = [i for i, x in enumerate(ind) if x]"
   ]
  },
  {
   "cell_type": "code",
   "execution_count": 45,
   "metadata": {},
   "outputs": [],
   "source": [
    "sample_index = ind_large[0:50] #range(0, 100)#B_zeta.shape[0])\n",
    "psi_x0 = np.array([B_zeta[i,:] for i in sample_index])\n",
    "grid = np.linspace(min(density['axes']), max(density['axes']), 10000)"
   ]
  },
  {
   "cell_type": "code",
   "execution_count": 46,
   "metadata": {},
   "outputs": [],
   "source": [
    "density_y = density['axes']\n",
    "density_pdf = density['pdf']\n",
    "# compute these beforehand to save computation time\n",
    "p_y_y0 = [density_pdf[find_closest_element(y_i,density_y)] for y_i in grid]\n",
    "part_1 = np.array([norm.ppf(Fy(y_i, density)) for y_i in grid])\n",
    "phi_1_z = np.array([scipy.stats.norm(0, 1).pdf(y_i) for y_i in part_1])"
   ]
  },
  {
   "cell_type": "code",
   "execution_count": 47,
   "metadata": {},
   "outputs": [],
   "source": [
    "def predict_density(x, grid, p_y_y0, part_1, phi_1_z, beta, tau_sq):\n",
    "    \n",
    "    psi_x0 = x\n",
    "    \n",
    "    f_eta_x0 = psi_x0.dot(beta)\n",
    "    s_0_hat = math.sqrt(1 + tau_sq*psi_x0.dot(psi_x0))\n",
    "    \n",
    "    part_0 = s_0_hat*f_eta_x0\n",
    "    # here occur some issues with values of -inf\n",
    "    # fix invalid values later ...\n",
    "    #part_1[np.isinf(part_1)] = 0.01\n",
    "    \n",
    "    # compute the cdf of new ys\n",
    "    \n",
    "    term_1 = scipy.stats.norm(0, 1).pdf((part_1- part_0) / s_0_hat)\n",
    "\n",
    "    p_y_single_obs_whole_dens = (p_y_y0/phi_1_z)*(1/s_0_hat)*term_1\n",
    "    \n",
    "    return(p_y_single_obs_whole_dens)"
   ]
  },
  {
   "cell_type": "code",
   "execution_count": 51,
   "metadata": {},
   "outputs": [],
   "source": [
    "result = [predict_density(B_zeta[i,:], grid, p_y_y0, part_1, phi_1_z, beta, tau_sq) for i in sample_index]"
   ]
  },
  {
   "cell_type": "code",
   "execution_count": 52,
   "metadata": {},
   "outputs": [],
   "source": [
    "df = pd.DataFrame(result)"
   ]
  },
  {
   "cell_type": "code",
   "execution_count": null,
   "metadata": {},
   "outputs": [],
   "source": [
    "average_pred_density = df.mean(axis=0)"
   ]
  },
  {
   "cell_type": "code",
   "execution_count": null,
   "metadata": {},
   "outputs": [],
   "source": [
    "plt.plot(density['axes'], density['pdf'], label = 'fast (= true) KDE')\n",
    "plt.plot(grid, average_pred_density)"
   ]
  },
  {
   "cell_type": "code",
   "execution_count": null,
   "metadata": {},
   "outputs": [],
   "source": [
    "density['axes'].shape"
   ]
  },
  {
   "cell_type": "code",
   "execution_count": 58,
   "metadata": {},
   "outputs": [
    {
     "data": {
      "image/png": "[encoded data removed]",
      "text/plain": [
       "<Figure size 432x288 with 1 Axes>"
      ]
     },
     "metadata": {
      "needs_background": "light"
     },
     "output_type": "display_data"
    }
   ],
   "source": [
    "plt.figure()\n",
    "for i in range(0,20):\n",
    "    plt.plot(grid, df.iloc[i,:] )\n",
    "plt.show()"
   ]
  },
  {
   "cell_type": "code",
   "execution_count": 62,
   "metadata": {},
   "outputs": [
    {
     "data": {
      "text/plain": [
       "[<matplotlib.lines.Line2D at 0x7f6925246dc0>]"
      ]
     },
     "execution_count": 62,
     "metadata": {},
     "output_type": "execute_result"
    },
    {
     "data": {
      "image/png": "[encoded data removed]",
      "text/plain": [
       "<Figure size 432x288 with 1 Axes>"
      ]
     },
     "metadata": {
      "needs_background": "light"
     },
     "output_type": "display_data"
    }
   ],
   "source": [
    "plt.plot(grid, df.iloc[1,:] )"
   ]
  },
  {
   "cell_type": "code",
   "execution_count": 63,
   "metadata": {},
   "outputs": [
    {
     "data": {
      "text/plain": [
       "-18.2"
      ]
     },
     "execution_count": 63,
     "metadata": {},
     "output_type": "execute_result"
    }
   ],
   "source": [
    "true_y[ind_large[0]]"
   ]
  },
  {
   "cell_type": "code",
   "execution_count": null,
   "metadata": {},
   "outputs": [],
   "source": [
    "df.plot.line(linewidth = 0.05)\n",
    "plt.plot(df.index, df['average_pred_density'], label = 'average predictive density')\n",
    "plt.plot(density['axes'], density['pdf'], label = 'fast (= true) KDE')\n",
    "plt.title('Marginal calibration of predictive densities')\n",
    "#plt.legend()\n",
    "plt.show()"
   ]
  },
  {
   "cell_type": "code",
   "execution_count": null,
   "metadata": {},
   "outputs": [],
   "source": [
    "df = bring_df_to_correct_format(result, grid)\n",
    "df['average_pred_density'] = df.mean(axis=1)\n",
    "df.to_csv('look_at_densities.csv')"
   ]
  },
  {
   "cell_type": "code",
   "execution_count": null,
   "metadata": {},
   "outputs": [],
   "source": [
    "'''predict_density_part = partial(predict_density, grid, \n",
    "                               density_y, density_pdf,\n",
    "                               beta_t, Lambda_t_sq)\n",
    "num_cores = mp.cpu_count()\n",
    "pool = mp.Pool(processes=num_cores)\n",
    "Fy_y = pool.map(predict_density_part, psi_x0)'''"
   ]
  },
  {
   "cell_type": "code",
   "execution_count": null,
   "metadata": {},
   "outputs": [],
   "source": [
    "'''num_cores = multiprocessing.cpu_count()\n",
    "grid = np.linspace(min(density['y']), max(density['y']), 1000)'''"
   ]
  },
  {
   "cell_type": "code",
   "execution_count": null,
   "metadata": {},
   "outputs": [],
   "source": [
    "'''def predict_density(grid, density, psi_x0, beta_t, Lambda_t):\n",
    "    \n",
    "    #Predicts density for a new observation with the copula\n",
    "    #model\n",
    "    #Input: df with columns:\n",
    "    #       grid, density, psi_x0, beta_t, Lambda_t\n",
    "    #Output: density at grid\n",
    "    \n",
    "    # compute p_Y(y_0) for each y in grid\n",
    "    axes = np.array(density['y'])\n",
    "    p_y_y0 = [density.loc[find_closest_element(y_i,density['y'])]['pdf']  for y_i in grid]\n",
    "    \n",
    "    f_eta_x0 = psi_x0.dot(beta_t)\n",
    "    s_0_hat = math.sqrt(1 + psi_x0.dot(Lambda_t).dot(psi_x0))\n",
    "    \n",
    "    part_0 = s_0_hat*f_eta_x0\n",
    "    part_1 = np.array([norm.ppf(Fy(y_i, density)) for y_i in grid])\n",
    "    # here occur some issues with values of -inf\n",
    "    # fix invalid values later ...\n",
    "    #part_1[np.isinf(part_1)] = 0.01\n",
    "    \n",
    "    # compute the cdf of new ys\n",
    "    phi_1_z = np.array([scipy.stats.norm(0, 1).pdf(y_i) for y_i in part_1])\n",
    "    \n",
    "    term_1 = scipy.stats.norm(0, 1).pdf((part_1- part_0) / s_0_hat)\n",
    "\n",
    "    p_y_single_obs_whole_dens = (p_y_y0/phi_1_z)*(1/s_0_hat)*term_1\n",
    "    return(p_y_single_obs_whole_dens)'''"
   ]
  },
  {
   "cell_type": "code",
   "execution_count": null,
   "metadata": {},
   "outputs": [],
   "source": [
    "'''num_cores = mp.cpu_count()\n",
    "pool = mp.Pool(processes=num_cores)\n",
    "prod_x = partial(predict_density, df = density)'''"
   ]
  },
  {
   "cell_type": "code",
   "execution_count": null,
   "metadata": {},
   "outputs": [],
   "source": [
    "'''Fy_y = pool.map(prod_x, density.dens)'''"
   ]
  },
  {
   "cell_type": "code",
   "execution_count": null,
   "metadata": {},
   "outputs": [],
   "source": [
    "'''sample_index = [int(uniform(0, 2600)) for i in range(0,2000)]\n",
    "result = Parallel(n_jobs=num_cores)(delayed(predict_density(grid = grid, \n",
    "                                                            density = density, \n",
    "                                                            psi_x0 = B_zeta[i,:], \n",
    "                                                            beta_t = beta_t, \n",
    "                                                            Lambda_t = Lambda_t_sq)) for i in sample_index)'''"
   ]
  },
  {
   "cell_type": "code",
   "execution_count": null,
   "metadata": {},
   "outputs": [],
   "source": [
    "df = bring_df_to_correct_format(result)\n",
    "df['average_pred_density'] = df.mean(axis=1)\n",
    "df.to_csv('look_at_densities.csv')"
   ]
  },
  {
   "cell_type": "code",
   "execution_count": null,
   "metadata": {},
   "outputs": [],
   "source": [
    "grid = np.linspace(min(density['axes']), max(density['axes']), 1000)"
   ]
  },
  {
   "cell_type": "code",
   "execution_count": null,
   "metadata": {},
   "outputs": [],
   "source": [
    "#result = [predict_density(y = true_y[i], z = true_z[i], grid = grid, density = density, psi_x0 = B_zeta[i,:], beta_t = beta_t, Lambda_t = Lambda_t_sq) for i in sample_index]\n",
    "df = bring_df_to_correct_format(result, grid)\n",
    "df['average_pred_density'] = df.mean(axis=1)"
   ]
  },
  {
   "cell_type": "code",
   "execution_count": null,
   "metadata": {},
   "outputs": [],
   "source": [
    "result"
   ]
  },
  {
   "cell_type": "code",
   "execution_count": null,
   "metadata": {},
   "outputs": [],
   "source": [
    "df.to_csv('look_at_densities.csv')"
   ]
  },
  {
   "cell_type": "markdown",
   "metadata": {},
   "source": [
    "## Average predicted density\n",
    "\\\\[ \\hat{p}_Y(y_i|x_i) \\\\]"
   ]
  },
  {
   "cell_type": "code",
   "execution_count": null,
   "metadata": {},
   "outputs": [],
   "source": [
    "s.plot.line(linewidth = 0.05)\n",
    "plt.plot(s.index, s['average_pred_density'], label = 'average predictive density')\n",
    "plt.plot(density['axes'], density['pdf'], label = 'fast (= true) KDE')\n",
    "plt.title('Marginal calibration of predictive densities')\n",
    "plt.legend()\n",
    "plt.show()"
   ]
  },
  {
   "cell_type": "code",
   "execution_count": null,
   "metadata": {},
   "outputs": [],
   "source": [
    "plt.savefig('density_pred.png')"
   ]
  },
  {
   "cell_type": "markdown",
   "metadata": {},
   "source": [
    "## Density predictions for training observations\n",
    "\n",
    "\\\\[ p(y |x, \\beta, \\theta) = p(z | x, \\beta, \\theta) \\prod_{i=1}^n \\frac{p_Y(y_i)}{\\phi_1(z_i)} = \\phi_n(z; S(x,\\theta)B_{\\zeta}(x)\\beta, S(x,\\theta)^2)\\prod_{i=1}^n \\frac{p_Y(y_i)}{\\phi_1(z_i)} \\\\]\n",
    "\n",
    "This density evaluates to 0 ... bc of the product in the end. Is this correct or should there really be a density value?"
   ]
  },
  {
   "cell_type": "code",
   "execution_count": null,
   "metadata": {},
   "outputs": [],
   "source": [
    "axes = np.array(density['axes'])\n",
    "p_y_y0_closest_element = [find_closest_element(y_i,axes ) for y_i in true_z]\n",
    "p_y_y0 = [density[density['axes'] == closest_i]['pdf'].to_numpy()  for closest_i in p_y_y0_closest_element]\n",
    "p_y_y0 = [item for sublist in p_y_y0 for item in sublist]"
   ]
  },
  {
   "cell_type": "code",
   "execution_count": null,
   "metadata": {},
   "outputs": [],
   "source": [
    "phi_1_z = [scipy.stats.norm(0, 1).pdf(y_i) for y_i in true_z]"
   ]
  },
  {
   "cell_type": "code",
   "execution_count": null,
   "metadata": {},
   "outputs": [],
   "source": [
    "any([i == 0 for i in p_y_y0])"
   ]
  },
  {
   "cell_type": "code",
   "execution_count": null,
   "metadata": {},
   "outputs": [],
   "source": [
    "np.prod(phi_1_z)"
   ]
  },
  {
   "cell_type": "code",
   "execution_count": null,
   "metadata": {},
   "outputs": [],
   "source": [
    "np.sum(np.log(np.array(p_y_y0)/np.array(phi_1_z)))"
   ]
  },
  {
   "cell_type": "code",
   "execution_count": null,
   "metadata": {},
   "outputs": [],
   "source": [
    "np.prod(np.array(p_y_y0)/np.array(phi_1_z))"
   ]
  },
  {
   "cell_type": "code",
   "execution_count": null,
   "metadata": {},
   "outputs": [],
   "source": [
    "mean = S.dot(B_zeta.dot(beta))\n",
    "cov = S**2\n",
    "part_1 = [multivariate_normal(z_i, n, mean, covariance) for z_i in true_z]\n",
    "part_2 = np.prod([pdf_y(y_i, density) for y_i in true_y])\n",
    "part_3 = np.prod([multivariate_normal(z_i, 1, 0, 1) for z_i in true_z ])\n",
    "p_y_cond_x_beta_theta = pdf_y*part_2/part_3\n",
    "# need to evaluate this for every y there is to get the whole probability distribution\n",
    "# and plot it"
   ]
  }
 ],
 "metadata": {
  "kernelspec": {
   "display_name": "Python 3",
   "language": "python",
   "name": "python3"
  },
  "language_info": {
   "codemirror_mode": {
    "name": "ipython",
    "version": 3
   },
   "file_extension": ".py",
   "mimetype": "text/x-python",
   "name": "python",
   "nbconvert_exporter": "python",
   "pygments_lexer": "ipython3",
   "version": "3.8.5"
  }
 },
 "nbformat": 4,
 "nbformat_minor": 4
}
