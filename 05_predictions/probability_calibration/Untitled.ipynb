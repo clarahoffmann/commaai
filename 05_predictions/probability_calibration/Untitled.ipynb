{
 "cells": [
  {
   "cell_type": "code",
   "execution_count": 21,
   "metadata": {},
   "outputs": [],
   "source": [
    "import numpy as np\n",
    "import pandas as pd\n",
    "from scipy.stats import norm\n",
    "from tqdm import tqdm\n",
    "from scipy.integrate import simps\n",
    "import matplotlib.pyplot as plt\n",
    "import imageio\n",
    "import multiprocessing\n",
    "from scipy import integrate\n",
    "from helpers import Fy, find_closest_element, get_densities, get_cdf"
   ]
  },
  {
   "cell_type": "code",
   "execution_count": 22,
   "metadata": {},
   "outputs": [],
   "source": [
    "# read in val data\n",
    "B_zeta = np.load('../../../data/commaai/extracted_coefficients/20201027_filtered_gaussian_resampled/Bzeta/B_zeta_val.npy')\n",
    "true_y = np.load('../../../data/commaai/extracted_coefficients/20201027_filtered_gaussian_resampled/Bzeta/labels_val.npy')\n",
    "\n",
    "density_path = '../../../data/commaai/density/gaussian_density_filtered.csv'\n",
    "density = pd.read_csv(density_path)"
   ]
  },
  {
   "cell_type": "code",
   "execution_count": 23,
   "metadata": {},
   "outputs": [],
   "source": [
    "no_points = 10000\n",
    "grid = np.linspace(min(density['axes']), max(density['axes']), no_points)\n",
    "density_y = density['axes']\n",
    "density_pdf = density['pdf']\n",
    "# compute these beforehand to save computation time\n",
    "p_y_y0 = [density_pdf[find_closest_element(y_i,density_y)] for y_i in grid]\n",
    "part_1 = np.array([norm.ppf(Fy(y_i, density)) for y_i in grid])\n",
    "phi_1_z = np.array([norm(0, 1).pdf(y_i) for y_i in part_1 ])"
   ]
  },
  {
   "cell_type": "code",
   "execution_count": 24,
   "metadata": {},
   "outputs": [],
   "source": [
    "va_ridge_dir = '../../../data/commaai/va/filtered_gaussian_resampled/Ridge/'\n",
    "mu_t_va = np.genfromtxt(va_ridge_dir + 'mu_t_va.csv', delimiter = ',')\n",
    "beta_va = np.mean(mu_t_va[int(0.9*50000):50000,0:10], axis = 0)\n",
    "tau_sq_va = np.exp(np.mean(mu_t_va[int(0.9*50000):50000,10], axis = 0))\n",
    "p = len(beta_va)"
   ]
  },
  {
   "cell_type": "code",
   "execution_count": 25,
   "metadata": {},
   "outputs": [
    {
     "name": "stderr",
     "output_type": "stream",
     "text": [
      "100%|██████████| 10472/10472 [01:13<00:00, 142.00it/s]\n",
      "100%|██████████| 10472/10472 [1:12:00<00:00,  2.42it/s]\n"
     ]
    }
   ],
   "source": [
    "densities_va = get_densities(B_zeta, grid, p_y_y0, part_1, phi_1_z, beta_va, tau_sq_va, p,  'va_ridge', None)\n",
    "Fys = get_cdf(true_y, grid, densities_va)\n",
    "p_js = np.linspace(0,1,1000)\n",
    "n = Fys.shape[0]\n",
    "p_tilde_js = []\n",
    "for p_j in p_js:\n",
    "    p_tilde_j = np.sum(Fys < p_j)/n\n",
    "    p_tilde_js.append(p_tilde_j)"
   ]
  },
  {
   "cell_type": "code",
   "execution_count": 26,
   "metadata": {},
   "outputs": [],
   "source": [
    "df = pd.DataFrame({'p_j': p_js, 'p_tilde_j_va_ridge_precise': p_tilde_js - p_js})\n",
    "#df.to_csv('p_j_va_precise_ridge.csv')"
   ]
  },
  {
   "cell_type": "code",
   "execution_count": 27,
   "metadata": {},
   "outputs": [],
   "source": [
    "# VA + Ridge + Imprecise"
   ]
  },
  {
   "cell_type": "code",
   "execution_count": 28,
   "metadata": {},
   "outputs": [],
   "source": [
    "va_ridge_dir = '../../../data/commaai/va/unfiltered_gaussian_resampled/Ridge/'\n",
    "mu_t_va_impr = np.genfromtxt(va_ridge_dir + 'mu_t_va.csv', delimiter = ',')\n",
    "beta_va_impr = mu_t_va_impr[0:10]\n",
    "tau_sq_va_impr = np.exp(mu_t_va_impr[10])\n",
    "p = 10"
   ]
  },
  {
   "cell_type": "code",
   "execution_count": 29,
   "metadata": {},
   "outputs": [
    {
     "name": "stderr",
     "output_type": "stream",
     "text": [
      "100%|██████████| 10472/10472 [01:19<00:00, 131.79it/s]\n",
      "100%|██████████| 10472/10472 [1:12:54<00:00,  2.39it/s]\n"
     ]
    }
   ],
   "source": [
    "densities_va_impr = get_densities(B_zeta, grid, p_y_y0, part_1, phi_1_z, beta_va_impr, tau_sq_va_impr, p, 'va_ridge', None)\n",
    "Fys_impr = get_cdf(true_y, grid, densities_va_impr)"
   ]
  },
  {
   "cell_type": "code",
   "execution_count": 30,
   "metadata": {},
   "outputs": [],
   "source": [
    "p_js = np.linspace(0,1,1000)\n",
    "n = Fys_impr.shape[0]\n",
    "p_tilde_js = []\n",
    "for p_j in p_js:\n",
    "    p_tilde_j = np.sum(Fys_impr < p_j)/n\n",
    "    p_tilde_js.append(p_tilde_j)"
   ]
  },
  {
   "cell_type": "code",
   "execution_count": 31,
   "metadata": {},
   "outputs": [],
   "source": [
    "df['p_tilde_j_va_ridge_imprecise'] = p_tilde_js - p_js"
   ]
  },
  {
   "cell_type": "markdown",
   "metadata": {},
   "source": [
    "# VA + Horseshoe + Precise"
   ]
  },
  {
   "cell_type": "code",
   "execution_count": 32,
   "metadata": {},
   "outputs": [],
   "source": [
    "va_ridge_dir = '../../../data/commaai/va/filtered_gaussian_resampled/Horseshoe/'\n",
    "mu_t_va_horse_pr =  np.mean(np.load(va_ridge_dir + 'mu_ts_delete.npy')[20000:,:,:], axis = 0)\n",
    "beta_va_horse_pr = mu_t_va_horse_pr[0:10]\n",
    "tau_sq_va_horse_pr = np.exp(mu_t_va_horse_pr[10])\n",
    "p = 10"
   ]
  },
  {
   "cell_type": "code",
   "execution_count": 33,
   "metadata": {},
   "outputs": [
    {
     "name": "stderr",
     "output_type": "stream",
     "text": [
      "100%|██████████| 10472/10472 [01:14<00:00, 140.66it/s]\n",
      "100%|██████████| 10472/10472 [1:14:43<00:00,  2.34it/s]\n"
     ]
    }
   ],
   "source": [
    "densities_va_horse_pr = get_densities(B_zeta, grid, p_y_y0, part_1, phi_1_z, beta_va_horse_pr, tau_sq_va_horse_pr, p, 'va_ridge', None)\n",
    "Fys_impr = get_cdf(true_y, grid, densities_va_horse_pr)"
   ]
  },
  {
   "cell_type": "code",
   "execution_count": 34,
   "metadata": {},
   "outputs": [],
   "source": [
    "p_js = np.linspace(0,1,1000)\n",
    "n = Fys_impr.shape[0]\n",
    "p_tilde_js = []\n",
    "for p_j in p_js:\n",
    "    p_tilde_j = np.sum(Fys_impr < p_j)/n\n",
    "    p_tilde_js.append(p_tilde_j)"
   ]
  },
  {
   "cell_type": "code",
   "execution_count": 35,
   "metadata": {},
   "outputs": [],
   "source": [
    "df['p_tilde_j_va_horseshoe_precise'] = p_tilde_js - p_js"
   ]
  },
  {
   "cell_type": "code",
   "execution_count": 36,
   "metadata": {},
   "outputs": [
    {
     "data": {
      "text/plain": [
       "[<matplotlib.lines.Line2D at 0x7fc4560f79d0>]"
      ]
     },
     "execution_count": 36,
     "metadata": {},
     "output_type": "execute_result"
    },
    {
     "data": {
      "image/png": "[encoded data removed]",
      "text/plain": [
       "<Figure size 432x288 with 1 Axes>"
      ]
     },
     "metadata": {
      "needs_background": "light"
     },
     "output_type": "display_data"
    }
   ],
   "source": [
    "plt.plot(p_js, p_tilde_js - p_js )"
   ]
  },
  {
   "cell_type": "code",
   "execution_count": 37,
   "metadata": {},
   "outputs": [],
   "source": [
    "df.to_csv('p_j_va_precise_ridge_new.csv')"
   ]
  },
  {
   "cell_type": "code",
   "execution_count": null,
   "metadata": {},
   "outputs": [],
   "source": []
  }
 ],
 "metadata": {
  "kernelspec": {
   "display_name": "Python 3",
   "language": "python",
   "name": "python3"
  },
  "language_info": {
   "codemirror_mode": {
    "name": "ipython",
    "version": 3
   },
   "file_extension": ".py",
   "mimetype": "text/x-python",
   "name": "python",
   "nbconvert_exporter": "python",
   "pygments_lexer": "ipython3",
   "version": "3.8.5"
  }
 },
 "nbformat": 4,
 "nbformat_minor": 4
}
