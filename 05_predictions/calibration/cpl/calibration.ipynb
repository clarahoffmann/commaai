{
 "cells": [
  {
   "cell_type": "markdown",
   "metadata": {},
   "source": [
    "## Calibration Plots CPL\n",
    "Author: Clara Hoffmann "
   ]
  },
  {
   "cell_type": "code",
   "execution_count": 1,
   "metadata": {},
   "outputs": [],
   "source": [
    "# load packages\n",
    "import numpy as np\n",
    "import matplotlib.pyplot as plt\n",
    "import pandas as pd\n",
    "import statsmodels.api as sm\n",
    "import multiprocessing\n",
    "from scipy import integrate\n",
    "from tqdm import tqdm\n",
    "from helpers import find_closest_element"
   ]
  },
  {
   "cell_type": "code",
   "execution_count": 2,
   "metadata": {},
   "outputs": [],
   "source": [
    "# read in val data\n",
    "true_y = np.load('../../../../data/commaai/extracted_coefficients/20201027_filtered_gaussian_resampled/Bzeta/labels_val.npy')\n",
    "\n",
    "density_path = '../../../../data/commaai/density/gaussian_density_filtered.csv'\n",
    "density = pd.read_csv(density_path)"
   ]
  },
  {
   "cell_type": "code",
   "execution_count": 3,
   "metadata": {},
   "outputs": [],
   "source": [
    "# estimate density \n",
    "kde = sm.nonparametric.KDEUnivariate(true_y)\n",
    "kde.fit()\n",
    "support = kde.support\n",
    "endog = kde.endog\n",
    "density_gauss = kde.density\n",
    "no_points = 750\n",
    "grid = np.linspace(min(density['axes']), max(density['axes']), no_points)"
   ]
  },
  {
   "cell_type": "code",
   "execution_count": 4,
   "metadata": {},
   "outputs": [],
   "source": [
    "# read in cdf_i for validation observations\n",
    "va_ridge_av_den = np.load('../../../../data/commaai/calibration/cpl_dens/va_ridge_av_dens.npy')\n",
    "hmc_ridge_av_den = np.load('../../../../data/commaai/calibration/cpl_dens/hmc_ridge_av_dens.npy')\n",
    "va_horse_av_den = np.load('../../../../data/commaai/calibration/cpl_dens/va_horse_av_dens.npy')\n",
    "hmc_horse_av_den = np.load('../../../../data/commaai/calibration/cpl_dens/hmc_horse_av_dens.npy')"
   ]
  },
  {
   "cell_type": "markdown",
   "metadata": {},
   "source": [
    "## Marginal Calibration"
   ]
  },
  {
   "cell_type": "code",
   "execution_count": 6,
   "metadata": {},
   "outputs": [
    {
     "data": {
      "image/png": "[encoded data removed]",
      "text/plain": [
       "<Figure size 504x360 with 1 Axes>"
      ]
     },
     "metadata": {
      "needs_background": "light"
     },
     "output_type": "display_data"
    }
   ],
   "source": [
    "fig = plt.figure(figsize=(7, 5))\n",
    "ax = fig.add_subplot(111)\n",
    "\n",
    "# Plot the histrogram\n",
    "ax.plot(support, density_gauss, color = 'black', label = 'Gaussian KDE')\n",
    "ax.hist(true_y, bins=500, density=True,\n",
    "        zorder=5, edgecolor='k', alpha=0.1)\n",
    "ax.plot(grid, va_horse_av_den, color = 'red', linestyle= '-.', label = 'HMC/VA Horseshoe')\n",
    "ax.plot(grid, va_ridge_av_den, color = 'orange', label = 'HMC/VA Ridge')\n",
    "#ax.plot(grid, hmc_ridge['av_density'], color = 'orange', label = 'HMC Ridge', linestyle = '-.')\n",
    "#ax.plot(grid, hmc_horse_av_den, color = 'green', linestyle= '--', label = 'HMC Horseshoe')\n",
    "ax.set_xlim(-15,15)\n",
    "ax.legend()\n",
    "plt.legend(framealpha=0.0)\n",
    "plt.xlabel('angle')\n",
    "plt.ylabel('density')\n",
    "fig.tight_layout(rect=[0.05, 0, 1, 1])\n",
    "plt.savefig('../../../../data/commaai/calibration/marginal_calibration/marginal_calibration_cpl.png') "
   ]
  },
  {
   "cell_type": "markdown",
   "metadata": {},
   "source": [
    "## Marginal Calibration 2"
   ]
  },
  {
   "cell_type": "code",
   "execution_count": null,
   "metadata": {},
   "outputs": [],
   "source": [
    "# get cdfs\n",
    "def f_integral(i):\n",
    "        return(integrate.trapz(va_horse_av_den[i:(i+2)], grid[i:(i+2)]))\n",
    "with multiprocessing.Pool(20) as proc:\n",
    "    probs = proc.map(f_integral, np.array([i for i in range(0, grid.shape[0])]))\n",
    "va_horse_cdf = np.cumsum(np.array(probs))\n",
    "\n",
    "def f_integral(i):\n",
    "        return(integrate.trapz(hmc_horse_av_den[i:(i+2)], grid[i:(i+2)]))\n",
    "with multiprocessing.Pool(20) as proc:\n",
    "    probs = proc.map(f_integral, np.array([i for i in range(0, grid.shape[0])]))\n",
    "hmc_horse_cdf = np.cumsum(np.array(probs))\n",
    "\n",
    "def f_integral(i):\n",
    "        return(integrate.trapz(va_ridge_av_den[i:(i+2)], grid[i:(i+2)]))\n",
    "with multiprocessing.Pool(20) as proc:\n",
    "    probs = proc.map(f_integral, np.array([i for i in range(0, grid.shape[0])]))\n",
    "va_ridge_cdf = np.cumsum(np.array(probs))\n",
    "\n",
    "def f_integral(i):\n",
    "        return(integrate.trapz(hmc_ridge_av_den[i:(i+2)], grid[i:(i+2)]))\n",
    "with multiprocessing.Pool(20) as proc:\n",
    "    probs = proc.map(f_integral, np.array([i for i in range(0, grid.shape[0])]))\n",
    "hmc_ridge_cdf = np.cumsum(np.array(probs))"
   ]
  },
  {
   "cell_type": "code",
   "execution_count": null,
   "metadata": {},
   "outputs": [],
   "source": [
    "Gt = []\n",
    "for i in tqdm(grid):\n",
    "    Gt.append(sum(x <= i for x in true_y))\n",
    "Gt = np.array(Gt)/len(true_y)"
   ]
  },
  {
   "cell_type": "code",
   "execution_count": null,
   "metadata": {},
   "outputs": [],
   "source": [
    "fig = plt.figure(figsize=(7,5))\n",
    "ax = fig.add_subplot(111)\n",
    "ax.plot(grid, va_horse_cdf - Gt,  color = 'red', label = 'HMC/VA Horseshoe', linestyle = '-.', linewidth = 1)\n",
    "ax.plot(grid, va_ridge_cdf - Gt, color = 'orange', label = 'HMC/VA Ridge', linewidth = 1)\n",
    "#ax.plot(grid, hmc_horse_cdf - Gt,  color = 'blue', label = 'VA/Horseshoe', linestyle = '-.', linewidth = 1)\n",
    "#ax.plot(grid, hmc_ridge_cdf - Gt, color = 'green', linestyle= '--', label = 'HMC Horseshoe')\n",
    "ax.legend()\n",
    "plt.legend(framealpha=0.0)\n",
    "fig.tight_layout(rect=[0.05, 0, 1, 1])\n",
    "plt.xlabel('angle')\n",
    "plt.autoscale()\n",
    "plt.ylabel('average predictive CDF - empirical CDF')\n",
    "plt.savefig('../../../../data/commaai/calibration/marginal_calibration/marginal_calibration2_cpl.png') "
   ]
  },
  {
   "cell_type": "markdown",
   "metadata": {},
   "source": [
    "## Probability Calibration"
   ]
  },
  {
   "cell_type": "code",
   "execution_count": null,
   "metadata": {},
   "outputs": [],
   "source": [
    "help_grid = [find_closest_element(grid_i, support) for grid_i in grid]"
   ]
  },
  {
   "cell_type": "code",
   "execution_count": null,
   "metadata": {},
   "outputs": [],
   "source": [
    "# true density\n",
    "grid2 = np.array([i for i in range(0, support.shape[0])])\n",
    "def f_integral(i):\n",
    "    return(integrate.trapz(density_gauss[i:(i+2)], support[i:(i+2)]))\n",
    "with multiprocessing.Pool(20) as proc:\n",
    "    probs = proc.map(f_integral, grid2)\n",
    "cdf = np.cumsum(np.array(probs))"
   ]
  },
  {
   "cell_type": "code",
   "execution_count": null,
   "metadata": {},
   "outputs": [],
   "source": [
    "fig = plt.figure(figsize=(7,5))\n",
    "ax = fig.add_subplot(111)\n",
    "#ax.plot(cdf, cdf_va- cdf, color = 'red', label = 'VA/Horseshoe')\n",
    "ax.plot(cdf[help_grid], va_horse_cdf - cdf[help_grid], color = 'red', linestyle= '-.', label = 'HMC/VA Horseshoe')\n",
    "ax.plot(cdf[help_grid], va_ridge_cdf - cdf[help_grid], color = 'orange', label = 'HMC/VA Ridge') #*0.9292\n",
    "ax.legend()\n",
    "plt.legend(framealpha=0.0)\n",
    "#plt.tight_layout()\n",
    "plt.autoscale()\n",
    "#plt.ylim(-.2,.2)\n",
    "plt.xlabel('expected confidence level')\n",
    "plt.ylabel('observed - expected confidence level')\n",
    "plt.savefig('../../../../data/commaai/calibration/marginal_calibration/prob_calibration_cpl.png') "
   ]
  }
 ],
 "metadata": {
  "kernelspec": {
   "display_name": "Python 3",
   "language": "python",
   "name": "python3"
  },
  "language_info": {
   "codemirror_mode": {
    "name": "ipython",
    "version": 3
   },
   "file_extension": ".py",
   "mimetype": "text/x-python",
   "name": "python",
   "nbconvert_exporter": "python",
   "pygments_lexer": "ipython3",
   "version": "3.8.5"
  }
 },
 "nbformat": 4,
 "nbformat_minor": 4
}
