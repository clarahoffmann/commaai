{
 "cells": [
  {
   "cell_type": "code",
   "execution_count": 1,
   "metadata": {},
   "outputs": [],
   "source": [
    "import numpy as np\n",
    "import pandas as pd\n",
    "from scipy.stats import norm\n",
    "import scipy as sp\n",
    "from tqdm import tqdm\n",
    "from scipy.integrate import simps, trapz\n",
    "import matplotlib.pyplot as plt\n",
    "import imageio\n",
    "import multiprocessing\n",
    "from helpers import (Fy, find_closest_element,  compute_coverage, #predict_single_density,\n",
    "confidence_interval, confidence_interval, generate_fixed_terms, get_ci)\n",
    "from density_predictor_class_val import density_predictor"
   ]
  },
  {
   "cell_type": "code",
   "execution_count": 2,
   "metadata": {},
   "outputs": [],
   "source": [
    "# read in val data\n",
    "B_zeta = np.load('../../../data/commaai/extracted_coefficients/20201021_unrestr_gaussian_resampled/Bzeta/B_zeta_val.npy')\n",
    "beta = np.genfromtxt('../../../data/commaai/extracted_coefficients/20201021_unrestr_gaussian_resampled/beta/beta.csv', delimiter = ',')\n",
    "#B_zeta = B_zeta.reshape(B_zeta.shape[0], B_zeta.shape[])\n",
    "true_y = np.load('../../../data/commaai/extracted_coefficients/20201021_unrestr_gaussian_resampled/Bzeta/labels_val.npy')\n",
    "true_z = np.load('../../../data/commaai/extracted_coefficients/20201021_unrestr_gaussian_resampled/Bzeta/tr_labels_val.npy')\n",
    "\n",
    "B_zeta = B_zeta[np.abs(true_y) < 50,:] \n",
    "true_z = true_z[np.abs(true_y) < 50]\n",
    "true_y = true_y[np.abs(true_y) < 50]\n",
    "\n",
    "density_path = '../../../data/commaai/density/gaussian_density.csv'\n",
    "density = pd.read_csv(density_path)\n",
    "\n",
    "no_points = 500"
   ]
  },
  {
   "cell_type": "code",
   "execution_count": null,
   "metadata": {},
   "outputs": [],
   "source": [
    "plt.scatter(true_z, B_zeta.dot(beta), alpha = 0.2)"
   ]
  },
  {
   "cell_type": "code",
   "execution_count": 3,
   "metadata": {},
   "outputs": [
    {
     "data": {
      "text/plain": [
       "(-20.0, 20.0)"
      ]
     },
     "execution_count": 3,
     "metadata": {},
     "output_type": "execute_result"
    },
    {
     "data": {
      "image/png": "[encoded data removed]",
      "text/plain": [
       "<Figure size 504x360 with 1 Axes>"
      ]
     },
     "metadata": {
      "needs_background": "light"
     },
     "output_type": "display_data"
    }
   ],
   "source": [
    "fig = plt.figure(figsize=(7, 5))\n",
    "ax = fig.add_subplot(111)\n",
    "plt.plot(density['axes'], density['pdf'])\n",
    "ax.hist(true_y, bins=200, density=True,\n",
    "        zorder=5, edgecolor='k', alpha=0.1)\n",
    "ax.set_xlim(-20,20)"
   ]
  },
  {
   "cell_type": "code",
   "execution_count": 8,
   "metadata": {},
   "outputs": [],
   "source": [
    "dens = density_predictor(B_zeta, true_y, density, no_points)"
   ]
  },
  {
   "cell_type": "code",
   "execution_count": 5,
   "metadata": {},
   "outputs": [
    {
     "name": "stderr",
     "output_type": "stream",
     "text": [
      "  0%|          | 72/94805 [00:00<02:11, 719.24it/s]"
     ]
    },
    {
     "name": "stdout",
     "output_type": "stream",
     "text": [
      "computing densities for each observation\n"
     ]
    },
    {
     "name": "stderr",
     "output_type": "stream",
     "text": [
      "100%|██████████| 94805/94805 [01:51<00:00, 852.35it/s]\n",
      "  1%|          | 947/94805 [00:00<00:09, 9450.70it/s]"
     ]
    },
    {
     "name": "stdout",
     "output_type": "stream",
     "text": [
      "computing mean prediction for each observation\n"
     ]
    },
    {
     "name": "stderr",
     "output_type": "stream",
     "text": [
      "100%|██████████| 94805/94805 [00:04<00:00, 20242.74it/s]\n",
      "  2%|▏         | 1689/94805 [00:00<00:05, 16884.70it/s]"
     ]
    },
    {
     "name": "stdout",
     "output_type": "stream",
     "text": [
      "computing variance prediction for each observation\n"
     ]
    },
    {
     "name": "stderr",
     "output_type": "stream",
     "text": [
      "100%|██████████| 94805/94805 [00:05<00:00, 16981.69it/s]\n",
      "100%|██████████| 94805/94805 [10:22<00:00, 152.22it/s]\n",
      "100%|██████████| 94805/94805 [00:04<00:00, 19950.34it/s]\n",
      "100%|██████████| 94805/94805 [00:05<00:00, 16869.78it/s]\n"
     ]
    }
   ],
   "source": [
    "result_va_ridge = dens.get_density('va_ridge')\n",
    "result_hmc_ridge = dens.get_density('hmc_ridge')"
   ]
  },
  {
   "cell_type": "code",
   "execution_count": 7,
   "metadata": {},
   "outputs": [],
   "source": [
    "from helpers import (Fy, find_closest_element,  compute_coverage, #predict_single_density,\n",
    "confidence_interval, confidence_interval, generate_fixed_terms, get_ci)\n",
    "import numpy as np\n",
    "from scipy.stats import norm\n",
    "from tqdm import tqdm\n",
    "from scipy.integrate import trapz\n",
    "\n",
    "class density_predictor():\n",
    "    \n",
    "    def __init__(self, B_zeta, true_y, density, no_points):\n",
    "        # initialize\n",
    "        self.B_zeta = B_zeta\n",
    "        self.true_y = true_y\n",
    "        self.density = density\n",
    "        self.no_points = no_points\n",
    "        self.p = self.B_zeta.shape[1]\n",
    "        \n",
    "        # compute fixed terms and grid\n",
    "        self.p_y_y0,  self.part_1, self.phi_1_z, self.grid = generate_fixed_terms(self.no_points, self.density)\n",
    "        \n",
    "    def generate_fixed_terms(self):\n",
    "    \n",
    "        self.grid = np.linspace(min(self.density['axes']), max(self.density['axes']), self.no_points)\n",
    "        self.density_y = self.density['axes']\n",
    "        self.density_pdf = self.density['pdf']\n",
    "        # compute these beforehand to save computation time\n",
    "        self.p_y_y0 = [self.density_pdf[find_closest_element(y_i,density_y)] for y_i in self.grid]\n",
    "        self.part_1 = np.array([norm.ppf(Fy(y_i, self.density)) for y_i in self.grid])\n",
    "        self.phi_1_z = np.array([norm(0, 1).pdf(y_i) for y_i in self.part_1 ])\n",
    "        \n",
    "        return(self.p_y_y0,  self.part_1, self.phi_1_z, self.grid)\n",
    "    \n",
    "    def predict_single_density(self, x, grid, p_y_y0, part_1, phi_1_z, beta, tau_sq, Lambda, method):\n",
    "    \n",
    "    \n",
    "        self.psi_x0 = x\n",
    "        if self.method == 'dnn_c':\n",
    "            self.f_eta_x0 = self.psi_x0.dot(self.beta[0:p]) + self.beta[p]\n",
    "        else:\n",
    "            self.f_eta_x0 = self.psi_x0.dot(self.beta)\n",
    "\n",
    "        if self.method == 'va_ridge':\n",
    "            self.s_0_hat = (1 + self.tau_sq*self.psi_x0.dot(self.psi_x0))**(-0.5)\n",
    "\n",
    "        elif self.method == 'hmc_ridge':\n",
    "            self.s_0_hats =  []\n",
    "            for tau_j in self.tau_sq:\n",
    "                self.s_0_hatj = (1 + tau_j*self.psi_x0.dot(self.psi_x0))**(-0.5)\n",
    "                self.s_0_hats.append(self.s_0_hatj)\n",
    "            self.s_0_hat = np.mean(np.array(self.s_0_hats))\n",
    "\n",
    "        elif self.method == 'va_horseshoe':\n",
    "            self.s_0_hat = (1 + (self.psi_x0*(self.Lambda**2)).dot(self.psi_x0))**(-0.5)\n",
    "\n",
    "        elif self.method == 'hmc_horseshoe':\n",
    "            self.s_0_hats =  []\n",
    "            for Lambda_j in self.Lambda:\n",
    "                self.s_0_hatj = (1 + (self.psi_x0*(Lambda_j**2)).dot(self.psi_x0))**(-0.5)\n",
    "                self.s_0_hats.append(self.s_0_hatj)\n",
    "            self.s_0_hat = np.mean(np.array(self.s_0_hats))\n",
    "            \n",
    "        if self.method == 'dnn_c':\n",
    "            self.s_0_hat = (1 + self.psi_x0.dot(self.psi_x0))**(-0.5)\n",
    "\n",
    "        self.part_0 = self.s_0_hat*self.f_eta_x0\n",
    "\n",
    "        # compute the cdf of new ys\n",
    "        self.term_1 = norm(0, 1).pdf((self.part_1- self.part_0) / self.s_0_hat)\n",
    "        self.p_y_single_obs_whole_dens = (self.p_y_y0/self.phi_1_z)*(1/self.s_0_hat)*self.term_1\n",
    "\n",
    "        return(self.p_y_single_obs_whole_dens)\n",
    "    \n",
    "    def get_density(self, method):\n",
    "        \n",
    "        self.method = method\n",
    "        \n",
    "        if self.method == 'va_ridge':\n",
    "            \n",
    "            self.va_ridge_dir = '../../../data/commaai/va/unfiltered_gaussian_resampled/Ridge/'\n",
    "            self.mu_t_va = np.load('../../../data/commaai/va/unfiltered_gaussian_resampled/Ridge/mu_ts23_factor_50.npy')\n",
    "            self.iterations = self.mu_t_va.shape[0]\n",
    "            self.beta = np.mean(self.mu_t_va[int(0.9*self.iterations):self.iterations,0:10], axis = 0)\n",
    "            self.beta_sd = np.std(self.mu_t_va[int(0.9*self.iterations):self.iterations,0:10], axis = 0)\n",
    "            self.tau_sq = np.mean(np.exp(self.mu_t_va[int(0.9*self.iterations):self.iterations,10]), axis = 0)\n",
    "            self.tau_sq_sd = np.std(np.exp(self.mu_t_va[int(0.9*self.iterations):self.iterations,10]), axis = 0)\n",
    "            \n",
    "            print('computing densities for each observation')\n",
    "            self.densities_va = []\n",
    "            for i in tqdm(range(0, self.B_zeta.shape[0])):\n",
    "                self.dens = self.predict_single_density(self.B_zeta[i].reshape(self.p,), self.grid, self.p_y_y0, \n",
    "                                                   self.part_1, self.phi_1_z, self.beta, self.tau_sq, None, \n",
    "                                                   self.method)\n",
    "                self.densities_va.append(self.dens)\n",
    "            \n",
    "            print('computing mean prediction for each observation')\n",
    "            # mean prediction\n",
    "            self.pred_y_va_ridge = []\n",
    "            for i in tqdm(range(0, self.B_zeta.shape[0])):\n",
    "                self.y_i = trapz(self.densities_va[i]*self.grid, self.grid)\n",
    "                self.pred_y_va_ridge.append(self.y_i)\n",
    "            self.pred_y_va_ridge = np.array(self.pred_y_va_ridge)\n",
    "            \n",
    "            print('computing variance prediction for each observation')\n",
    "            # variance prediction\n",
    "            self.pred_y_va_ridge_var = []\n",
    "            for i in tqdm(range(0, self.B_zeta.shape[0])):\n",
    "                self.y_i = trapz(self.densities_va[i]*((self.grid - self.pred_y_va_ridge[i])**2), self.grid)\n",
    "                self.pred_y_va_ridge_var.append(self.y_i)\n",
    "            \n",
    "            self.pred_y_va_ridge_var = np.array(self.pred_y_va_ridge_var)\n",
    "            \n",
    "            return({'densities': self.densities_va, \n",
    "                    'mean predictions': self.pred_y_va_ridge, \n",
    "                    'variance preditcion': self.pred_y_va_ridge_var})\n",
    "        \n",
    "        if self.method == 'va_horseshoe':\n",
    "        \n",
    "            self.va_horse_dir = '../../../data/commaai/va/unfiltered_gaussian_resampled/Horseshoe/'\n",
    "            self.mu_t_va = np.load(self.va_horse_dir + 'mu_ts2_new_dev_1.npy').reshape(-1, 21)\n",
    "            self.iter = self.mu_t_va.shape[0]\n",
    "            self.beta = np.mean(self.mu_t_va[int(0.9*self.iter):,0:10], axis = 0)\n",
    "            self.Lambda = np.mean(np.exp(0.5*self.mu_t_va[int(0.9*self.iter):,10:20]), axis = 0)\n",
    "            self.tau_sq = np.exp(np.mean(self.mu_t_va[int(0.9*self.iter):,20], axis = 0))\n",
    "            self.z_pred = self.B_zeta.reshape(self.B_zeta.shape[0], self.p).dot(self.beta)\n",
    "            self.pred_y = [self.density.loc[find_closest_element(norm.cdf(z), self.density['cdf']), 'axes'] for z in self.z_pred]\n",
    "            \n",
    "            self.densities_va = []\n",
    "            for i in tqdm(range(0, self.B_zeta.shape[0])):\n",
    "                self.dens = self.predict_single_density(self.B_zeta[i].reshape(self.p,), self.grid, self.p_y_y0, \n",
    "                                                   self.part_1, self.phi_1_z, self.beta, self.tau_sq, self.Lambda, \n",
    "                                                   'va_horseshoe')\n",
    "                self.densities_va.append(self.dens)\n",
    "               \n",
    "            self.pred_y_va_horse = []\n",
    "            for i in tqdm(range(0, self.B_zeta.shape[0])):\n",
    "                self.y_i = trapz(self.densities_va[i]*self.grid, self.grid)\n",
    "                self.pred_y_va_horse.append(self.y_i)\n",
    "                \n",
    "            # variance prediction\n",
    "            self.pred_y_va_horse_var = []\n",
    "            for i in tqdm(range(0, self.B_zeta.shape[0])):\n",
    "                self.y_i = trapz(self.densities_va[i]*((self.grid - self.pred_y_va_horse[i])**2), self.grid)\n",
    "                self.pred_y_va_horse_var.append(self.y_i)\n",
    "                \n",
    "            return({'densities': self.densities_va, \n",
    "                    'mean prediction': self.pred_y_va_horse, \n",
    "                    'variance prediction': self.pred_y_va_horse_var})\n",
    "        \n",
    "        if self.method == 'hmc_ridge':\n",
    "            \n",
    "            self.hmc_ridge_dir = '../../../data/commaai/mcmc/unfiltered_gaussian_resampled/Ridge/'\n",
    "            self.mu_t_hmc = np.load(self.hmc_ridge_dir + 'all_thetas_L100_5000.npy')[500:,:]\n",
    "            self.beta = np.mean(self.mu_t_hmc[:,0:10], axis = 0)\n",
    "            self.tau_sq = np.exp(self.mu_t_hmc[:,10])\n",
    "            self.z_pred = self.B_zeta.reshape(self.B_zeta.shape[0], self.p).dot(self.beta)\n",
    "            self.pred_y = [self.density.loc[find_closest_element(norm.cdf(z), self.density['cdf']), 'axes'] for z in self.z_pred]\n",
    "            \n",
    "            self.densities_va = []\n",
    "            for i in tqdm(range(0, self.B_zeta.shape[0])):\n",
    "                self.dens = self.predict_single_density(self.B_zeta[i].reshape(self.p,), self.grid, self.p_y_y0, \n",
    "                                              self.part_1, self.phi_1_z, self.beta, self.tau_sq, None, 'hmc_ridge')\n",
    "                self.densities_va.append(self.dens)\n",
    "\n",
    "            self.pred_y_hmc_ridge = []\n",
    "            for i in tqdm(range(0, self.B_zeta.shape[0])):\n",
    "                self.y_i = trapz(self.densities_va[i]*self.grid, self.grid)\n",
    "                self.pred_y_hmc_ridge.append(self.y_i)\n",
    "\n",
    "            # variance prediction\n",
    "            self.pred_y_hmc_ridge_var = []\n",
    "            for i in tqdm(range(0, self.B_zeta.shape[0])):\n",
    "                self.y_i = trapz(self.densities_va[i]*((self.grid - self.pred_y_hmc_ridge[i])**2), self.grid)\n",
    "                self.pred_y_hmc_ridge_var.append(self.y_i)\n",
    "\n",
    "            return({'densities': self.densities_va, \n",
    "                    'mean prediction': np.array(self.pred_y_hmc_ridge), \n",
    "                    'variance prediction': np.array(self.pred_y_hmc_ridge_var)})\n",
    "\n",
    "        if self.method == 'hmc_horseshoe':\n",
    "            self.hmc_ridge_dir = '../../../data/commaai/mcmc/unfiltered_gaussian_resampled/Horseshoe/'\n",
    "            self.mu_t_hmc = np.load(self.hmc_ridge_dir + 'all_thetas_try.npy').reshape(-1, 21)\n",
    "            self.beta = np.mean(self.mu_t_hmc[2000:,0:10], axis = 0)\n",
    "            self.Lambda = np.exp(0.5*self.mu_t_hmc[2000:,10:20])\n",
    "            self.tau_sq = np.exp(self.mu_t_hmc[2000:,20])\n",
    "            self.z_pred = self.B_zeta.reshape(self.B_zeta.shape[0], self.p).dot(self.beta)\n",
    "            self.pred_y = [self.density.loc[find_closest_element(norm.cdf(z), self.density['cdf']), 'axes'] for z in self.z_pred]\n",
    "            \n",
    "            self.densities_va = []\n",
    "            for i in tqdm(range(0, self.B_zeta.shape[0])):\n",
    "                self.dens = self.predict_single_density(self.B_zeta[i].reshape(self.p,), self.grid, self.p_y_y0, \n",
    "                                              self.part_1, self.phi_1_z, self.beta, self.tau_sq, None, 'hmc_horseshoe')\n",
    "                self.densities_va.append(self.dens)\n",
    "\n",
    "            self.pred_y_hmc_ridge = []\n",
    "            for i in tqdm(range(0, self.B_zeta.shape[0])):\n",
    "                self.y_i = trapz(self.densities_va[i]*self.grid, self.grid)\n",
    "                self.pred_y_hmc_ridge.append(self.y_i)\n",
    "\n",
    "            # variance prediction\n",
    "            self.pred_y_hmc_ridge_var = []\n",
    "            for i in tqdm(range(0, self.B_zeta.shape[0])):\n",
    "                self.y_i = trapz(self.densities_va[i]*((self.grid - self.pred_y_hmc_ridge[i])**2), self.grid)\n",
    "                self.pred_y_hmc_ridge_var.append(self.y_i)\n",
    "       \n",
    "            return({'densities': self.densities_va, \n",
    "                    'mean prediction': np.array(self.pred_y_hmc_ridge), \n",
    "                    'variance prediction': np.array(self.pred_y_hmc_ridge_var)})"
   ]
  },
  {
   "cell_type": "code",
   "execution_count": 9,
   "metadata": {},
   "outputs": [
    {
     "name": "stderr",
     "output_type": "stream",
     "text": [
      "100%|██████████| 94805/94805 [01:52<00:00, 845.34it/s]\n",
      "100%|██████████| 94805/94805 [00:04<00:00, 19700.20it/s]\n",
      "100%|██████████| 94805/94805 [00:05<00:00, 16431.43it/s]\n",
      "100%|██████████| 94805/94805 [08:31<00:00, 185.45it/s]\n",
      "100%|██████████| 94805/94805 [00:04<00:00, 19485.31it/s]\n",
      "100%|██████████| 94805/94805 [00:05<00:00, 16482.21it/s]\n"
     ]
    }
   ],
   "source": [
    "result_va_horse = dens.get_density('va_horseshoe')\n",
    "result_hmc_horse = dens.get_density('hmc_horseshoe')"
   ]
  },
  {
   "cell_type": "code",
   "execution_count": 10,
   "metadata": {},
   "outputs": [
    {
     "name": "stderr",
     "output_type": "stream",
     "text": [
      "100%|██████████| 94805/94805 [00:30<00:00, 3159.21it/s]\n"
     ]
    }
   ],
   "source": [
    "z_pred = B_zeta.dot(beta) \n",
    "y_pred = np.array([density.loc[find_closest_element(norm.cdf(i), density['cdf']), 'axes'] for i in tqdm(z_pred)])"
   ]
  },
  {
   "cell_type": "code",
   "execution_count": 12,
   "metadata": {},
   "outputs": [
    {
     "data": {
      "text/plain": [
       "<matplotlib.collections.PathCollection at 0x7f169be5f070>"
      ]
     },
     "execution_count": 12,
     "metadata": {},
     "output_type": "execute_result"
    },
    {
     "data": {
      "image/png": "[encoded data removed]",
      "text/plain": [
       "<Figure size 432x288 with 1 Axes>"
      ]
     },
     "metadata": {
      "needs_background": "light"
     },
     "output_type": "display_data"
    }
   ],
   "source": [
    "plt.scatter(true_y, y_pred , alpha = 0.5)"
   ]
  },
  {
   "cell_type": "code",
   "execution_count": 13,
   "metadata": {},
   "outputs": [
    {
     "name": "stdout",
     "output_type": "stream",
     "text": [
      "Validation Performance: \n",
      "MSE:\n",
      " CIL VA/Ridge: 14.208108966023076\n",
      " CIL HMC/Ridge: 14.193295509434003\n",
      " CIL VA/Horseshoe: 14.300611924092017\n",
      " CIL HMC/Horseshoe: 14.17757815701489\n",
      " CIL No Bayes: 13.050320078795423\n",
      " CIL Benchmark: 16.62251706133643\n",
      "MAE:\n",
      " CIL VA/Ridge: 2.325465495536326\n",
      " CIL HMC/Ridge: 2.3248970764435963\n",
      " CIL VA/Horseshoe: 2.339929118083068\n",
      " CIL HMC/Horseshoe: 2.324946093967559\n",
      " CIL No Bayes: 1.9274159357560738\n",
      " CIL Benchmark: 2.3982901745688525\n",
      "Accuracy:\n",
      " CIL VA/Ridge: 0.9458467380412425\n",
      " CIL HMC/Ridge: 0.9460155055113127\n",
      " CIL VA/Horseshoe: 0.9464901640208849\n",
      " CIL HMC/Horseshoe: 0.9475344127419439\n",
      " CIL No Bayes: 0.9530720953536206\n",
      " CIL Benchmark: 0.9155740730974105\n"
     ]
    }
   ],
   "source": [
    "print('Validation Performance: ' +\n",
    "      '\\nMSE:' +\n",
    "     '\\n CIL VA/Ridge: ' + str(np.mean((true_y - np.array(result_va_ridge['mean predictions']))**2)) +\n",
    "     '\\n CIL HMC/Ridge: ' + str(np.mean((true_y - np.array(result_hmc_ridge['mean prediction']))**2)) +\n",
    "     '\\n CIL VA/Horseshoe: ' + str(np.mean((true_y - np.array(result_va_horse['mean prediction']))**2)) +\n",
    "     '\\n CIL HMC/Horseshoe: ' + str(np.mean((true_y - np.array(result_hmc_horse['mean prediction']))**2)) +\n",
    "     '\\n CIL No Bayes: ' + str(np.mean((true_y - y_pred)**2)) +\n",
    "     '\\n CIL Benchmark: ' + str(np.mean((true_y - 0)**2)) +\n",
    "      \n",
    "    '\\nMAE:' +\n",
    "     '\\n CIL VA/Ridge: ' + str(np.mean(np.abs(true_y - np.array(result_va_ridge['mean predictions'])))) +\n",
    "     '\\n CIL HMC/Ridge: ' + str(np.mean(np.abs(true_y - np.array(result_hmc_ridge['mean prediction'])))) +\n",
    "     '\\n CIL VA/Horseshoe: ' + str(np.mean(np.abs(true_y - np.array(result_va_horse['mean prediction'])))) +\n",
    "     '\\n CIL HMC/Horseshoe: ' + str(np.mean(np.abs(true_y - np.array(result_hmc_horse['mean prediction'])))) +\n",
    "     '\\n CIL No Bayes: ' + str(np.mean(np.abs(true_y - y_pred))) +\n",
    "     '\\n CIL Benchmark: ' + str(np.mean(np.abs(true_y - 0))) +\n",
    "      \n",
    "      '\\nAccuracy:' +\n",
    "     '\\n CIL VA/Ridge: ' + str(np.mean(np.abs(true_y - np.array(result_va_ridge['mean predictions'])) < 6)) +\n",
    "     '\\n CIL HMC/Ridge: ' + str(np.mean(np.abs(true_y - np.array(result_hmc_ridge['mean prediction'])) < 6)) +\n",
    "     '\\n CIL VA/Horseshoe: ' + str(np.mean(np.abs(true_y - np.array(result_va_horse['mean prediction'])) < 6)) +\n",
    "     '\\n CIL HMC/Horseshoe: ' + str(np.mean(np.abs(true_y - np.array(result_hmc_horse['mean prediction'])) < 6)) +\n",
    "     '\\n CIL No Bayes: ' + str(np.mean(np.abs(true_y - y_pred) < 6)) +\n",
    "     '\\n CIL Benchmark: ' + str(np.mean(np.abs(true_y - 0) < 6))\n",
    "     )"
   ]
  },
  {
   "cell_type": "code",
   "execution_count": 14,
   "metadata": {},
   "outputs": [],
   "source": [
    "df = pd.DataFrame({'va_ridge' : result_va_ridge['densities'],\n",
    "                 'hmc_ridge' : result_hmc_ridge['densities'],\n",
    "                 'va_horse' : result_va_horse['densities'],\n",
    "                 'hmc_horse' : result_hmc_horse['densities']})"
   ]
  },
  {
   "cell_type": "code",
   "execution_count": null,
   "metadata": {},
   "outputs": [],
   "source": [
    "df.to_csv('../../../data/commaai/predictions/cil/densities.csv')"
   ]
  },
  {
   "cell_type": "code",
   "execution_count": null,
   "metadata": {},
   "outputs": [],
   "source": []
  }
 ],
 "metadata": {
  "kernelspec": {
   "display_name": "Python 3",
   "language": "python",
   "name": "python3"
  },
  "language_info": {
   "codemirror_mode": {
    "name": "ipython",
    "version": 3
   },
   "file_extension": ".py",
   "mimetype": "text/x-python",
   "name": "python",
   "nbconvert_exporter": "python",
   "pygments_lexer": "ipython3",
   "version": "3.8.5"
  }
 },
 "nbformat": 4,
 "nbformat_minor": 4
}
