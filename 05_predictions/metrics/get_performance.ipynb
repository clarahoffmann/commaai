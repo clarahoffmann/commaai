{
 "cells": [
  {
   "cell_type": "code",
   "execution_count": 51,
   "metadata": {},
   "outputs": [],
   "source": [
    "import numpy as np\n",
    "import pandas as pd\n",
    "from scipy.stats import norm\n",
    "import scipy as sp\n",
    "from tqdm import tqdm\n",
    "from scipy.integrate import simps\n",
    "import matplotlib.pyplot as plt\n",
    "import imageio\n",
    "from helpers import (Fy, find_closest_element, predict_single_density, compute_coverage, \n",
    "confidence_interval, confidence_interval, generate_fixed_terms, get_ci)"
   ]
  },
  {
   "cell_type": "code",
   "execution_count": 52,
   "metadata": {},
   "outputs": [],
   "source": [
    "# read in val data\n",
    "B_zeta = np.load('../../../data/commaai/extracted_coefficients/20201027_filtered_gaussian_resampled/Bzeta/B_zeta_val.npy')\n",
    "true_y = np.load('../../../data/commaai/extracted_coefficients/20201027_filtered_gaussian_resampled/Bzeta/labels_val.npy')\n",
    "\n",
    "density_path = '../../../data/commaai/density/gaussian_density_filtered.csv'\n",
    "density = pd.read_csv(density_path)"
   ]
  },
  {
   "cell_type": "code",
   "execution_count": 53,
   "metadata": {},
   "outputs": [],
   "source": [
    "no_points = 500\n",
    "p_y_y0, part_1, phi_1_z, grid = generate_fixed_terms(no_points, density)"
   ]
  },
  {
   "cell_type": "markdown",
   "metadata": {},
   "source": [
    "## 1. VA + RIDGE + PRECISE"
   ]
  },
  {
   "cell_type": "code",
   "execution_count": 87,
   "metadata": {},
   "outputs": [],
   "source": [
    "va_ridge_dir = '../../../data/commaai/va/filtered_gaussian_resampled/Ridge/'\n",
    "mu_t_va = np.genfromtxt(va_ridge_dir + 'mu_t_va.csv', delimiter = ',')\n",
    "beta = np.mean(mu_t_va[int(0.9*50000):50000,0:10], axis = 0)\n",
    "tau_sq = np.mean(np.exp(mu_t_va[int(0.9*50000):50000,10]), axis = 0)\n",
    "p = len(beta)\n",
    "z_pred = B_zeta.reshape(B_zeta.shape[0], p).dot(beta)\n",
    "pred_y = [density.loc[find_closest_element(norm.cdf(z), density['cdf']), 'axes'] for z in z_pred]"
   ]
  },
  {
   "cell_type": "code",
   "execution_count": 88,
   "metadata": {},
   "outputs": [
    {
     "name": "stderr",
     "output_type": "stream",
     "text": [
      "100%|██████████| 10472/10472 [00:26<00:00, 389.91it/s]\n"
     ]
    }
   ],
   "source": [
    "densities_va = []\n",
    "for i in tqdm(range(0, B_zeta.shape[0])):\n",
    "    dens = predict_single_density(B_zeta[i].reshape(p,), grid, p_y_y0, part_1, phi_1_z, beta, tau_sq, None, 'va_ridge')\n",
    "    densities_va.append(dens)"
   ]
  },
  {
   "cell_type": "code",
   "execution_count": 89,
   "metadata": {},
   "outputs": [
    {
     "name": "stderr",
     "output_type": "stream",
     "text": [
      "100%|██████████| 10472/10472 [00:01<00:00, 7937.50it/s]\n"
     ]
    }
   ],
   "source": [
    "# mean prediction\n",
    "pred_y_va_ridge = []\n",
    "densities_va\n",
    "for i in tqdm(range(0, B_zeta.shape[0])):\n",
    "    y_i = sp.integrate.trapz(densities_va[i]*grid, grid)\n",
    "    pred_y_va_ridge.append(y_i)\n",
    "pred_y_va_ridge = np.array(pred_y_va_ridge)"
   ]
  },
  {
   "cell_type": "code",
   "execution_count": 90,
   "metadata": {},
   "outputs": [
    {
     "name": "stderr",
     "output_type": "stream",
     "text": [
      "100%|██████████| 10472/10472 [00:01<00:00, 7078.04it/s]\n"
     ]
    }
   ],
   "source": [
    "# variance prediction\n",
    "pred_y_va_ridge_var = []\n",
    "densities_va\n",
    "for i in tqdm(range(0, B_zeta.shape[0])):\n",
    "    y_i = sp.integrate.trapz(densities_va[i]*((grid - pred_y_va_ridge[i])**2), grid)\n",
    "    pred_y_va_ridge_var.append(y_i)"
   ]
  },
  {
   "cell_type": "code",
   "execution_count": 73,
   "metadata": {},
   "outputs": [],
   "source": [
    "df_var = pd.DataFrame({'va_ridge': pred_y_va_ridge_var})"
   ]
  },
  {
   "cell_type": "code",
   "execution_count": 26,
   "metadata": {},
   "outputs": [
    {
     "data": {
      "text/plain": [
       "8.744420394774195"
      ]
     },
     "execution_count": 26,
     "metadata": {},
     "output_type": "execute_result"
    }
   ],
   "source": [
    "np.mean((true_y - np.array(pred_y_va_ridge))**2)"
   ]
  },
  {
   "cell_type": "code",
   "execution_count": 50,
   "metadata": {},
   "outputs": [
    {
     "data": {
      "text/plain": [
       "0.37538197097020626"
      ]
     },
     "execution_count": 50,
     "metadata": {},
     "output_type": "execute_result"
    }
   ],
   "source": [
    "np.mean(np.abs(true_y - np.array(pred_y_va_ridge)) < 6)"
   ]
  },
  {
   "cell_type": "code",
   "execution_count": 23,
   "metadata": {},
   "outputs": [
    {
     "data": {
      "text/plain": [
       "<matplotlib.collections.PathCollection at 0x7f0e1eb070d0>"
      ]
     },
     "execution_count": 23,
     "metadata": {},
     "output_type": "execute_result"
    },
    {
     "data": {
      "image/png": "[encoded data removed]",
      "text/plain": [
       "<Figure size 432x288 with 1 Axes>"
      ]
     },
     "metadata": {
      "needs_background": "light"
     },
     "output_type": "display_data"
    }
   ],
   "source": [
    "plt.scatter(true_y, np.array(pred_y_va_ridge), alpha = 0.1)"
   ]
  },
  {
   "cell_type": "code",
   "execution_count": null,
   "metadata": {},
   "outputs": [],
   "source": [
    "## 2. VA + Horseshoe + PRECISE"
   ]
  },
  {
   "cell_type": "code",
   "execution_count": 74,
   "metadata": {},
   "outputs": [],
   "source": [
    "va_horse_dir = '../../../data/commaai/va/filtered_gaussian_resampled/Horseshoe/'\n",
    "mu_t_va = np.load(va_horse_dir + 'mu_ts.npy').reshape(29001, 21)\n",
    "beta = np.mean(mu_t_va[20000:,0:10], axis = 0)\n",
    "Lambda = np.mean(np.exp(0.5*mu_t_va[20000:,10:20]), axis = 0)\n",
    "tau_sq = np.exp(np.mean(mu_t_va[20000:,20], axis = 0))\n",
    "z_pred = B_zeta.reshape(B_zeta.shape[0], p).dot(beta)\n",
    "pred_y = [density.loc[find_closest_element(norm.cdf(z), density['cdf']), 'axes'] for z in z_pred]"
   ]
  },
  {
   "cell_type": "code",
   "execution_count": 75,
   "metadata": {},
   "outputs": [
    {
     "name": "stderr",
     "output_type": "stream",
     "text": [
      "100%|██████████| 10472/10472 [00:22<00:00, 460.31it/s]\n"
     ]
    }
   ],
   "source": [
    "densities_va = []\n",
    "for i in tqdm(range(0, B_zeta.shape[0])):\n",
    "    dens = predict_single_density(B_zeta[i].reshape(p,), grid, p_y_y0, part_1, phi_1_z, beta, tau_sq, Lambda, 'va_horseshoe')\n",
    "    densities_va.append(dens)"
   ]
  },
  {
   "cell_type": "code",
   "execution_count": 76,
   "metadata": {},
   "outputs": [
    {
     "name": "stderr",
     "output_type": "stream",
     "text": [
      "100%|██████████| 10472/10472 [00:01<00:00, 9309.82it/s]\n"
     ]
    }
   ],
   "source": [
    "pred_y_va_horse = []\n",
    "densities_va\n",
    "for i in tqdm(range(0, B_zeta.shape[0])):\n",
    "    y_i = sp.integrate.trapz(densities_va[i]*grid, grid)\n",
    "    pred_y_va_horse.append(y_i)"
   ]
  },
  {
   "cell_type": "code",
   "execution_count": 77,
   "metadata": {},
   "outputs": [
    {
     "name": "stderr",
     "output_type": "stream",
     "text": [
      "100%|██████████| 10472/10472 [00:01<00:00, 7087.34it/s]\n"
     ]
    }
   ],
   "source": [
    "# variance prediction\n",
    "pred_y_va_horse_var = []\n",
    "densities_va\n",
    "for i in tqdm(range(0, B_zeta.shape[0])):\n",
    "    y_i = sp.integrate.trapz(densities_va[i]*((grid - pred_y_va_horse[i])**2), grid)\n",
    "    pred_y_va_horse_var.append(y_i)"
   ]
  },
  {
   "cell_type": "code",
   "execution_count": 78,
   "metadata": {},
   "outputs": [],
   "source": [
    "df_var['va_horse'] = pred_y_va_horse_var"
   ]
  },
  {
   "cell_type": "code",
   "execution_count": 34,
   "metadata": {},
   "outputs": [
    {
     "data": {
      "text/plain": [
       "8.659875523054733"
      ]
     },
     "execution_count": 34,
     "metadata": {},
     "output_type": "execute_result"
    }
   ],
   "source": [
    "np.mean((true_y - np.array(pred_y_va_horse))**2)"
   ]
  },
  {
   "cell_type": "code",
   "execution_count": 35,
   "metadata": {},
   "outputs": [
    {
     "data": {
      "text/plain": [
       "1.733507646501239"
      ]
     },
     "execution_count": 35,
     "metadata": {},
     "output_type": "execute_result"
    }
   ],
   "source": [
    "np.mean(np.abs((true_y - np.array(pred_y_va_horse))))"
   ]
  },
  {
   "cell_type": "code",
   "execution_count": 36,
   "metadata": {},
   "outputs": [
    {
     "data": {
      "text/plain": [
       "0.9766997708174179"
      ]
     },
     "execution_count": 36,
     "metadata": {},
     "output_type": "execute_result"
    }
   ],
   "source": [
    "np.mean(np.abs(true_y - np.array(pred_y_va_horse)) < 6)"
   ]
  },
  {
   "cell_type": "markdown",
   "metadata": {},
   "source": [
    "# HMC + Ridge + Precise"
   ]
  },
  {
   "cell_type": "code",
   "execution_count": 79,
   "metadata": {},
   "outputs": [],
   "source": [
    "hmc_ridge_dir = '../../../data/commaai/mcmc/filtered_gaussian_resampled/Ridge/'\n",
    "mu_t_hmc = np.load(hmc_ridge_dir + 'all_thetas.npy')[20000:,:]\n",
    "beta = np.mean(mu_t_hmc[:,0:10], axis = 0)\n",
    "tau_sq = np.exp(mu_t_hmc[:,10])\n",
    "z_pred = B_zeta.reshape(B_zeta.shape[0], p).dot(beta)\n",
    "pred_y = [density.loc[find_closest_element(norm.cdf(z), density['cdf']), 'axes'] for z in z_pred]"
   ]
  },
  {
   "cell_type": "code",
   "execution_count": 80,
   "metadata": {},
   "outputs": [
    {
     "name": "stderr",
     "output_type": "stream",
     "text": [
      "100%|██████████| 10472/10472 [04:26<00:00, 39.24it/s]\n"
     ]
    }
   ],
   "source": [
    "densities_va = []\n",
    "for i in tqdm(range(0, B_zeta.shape[0])):\n",
    "    dens = predict_single_density(B_zeta[i].reshape(p,), grid, p_y_y0, part_1, phi_1_z, beta, tau_sq, None, 'hmc_ridge')\n",
    "    densities_va.append(dens)"
   ]
  },
  {
   "cell_type": "code",
   "execution_count": 82,
   "metadata": {},
   "outputs": [
    {
     "name": "stderr",
     "output_type": "stream",
     "text": [
      "100%|██████████| 10472/10472 [00:01<00:00, 7491.99it/s]\n"
     ]
    }
   ],
   "source": [
    "pred_y_hmc_ridge = []\n",
    "densities_va\n",
    "for i in tqdm(range(0, B_zeta.shape[0])):\n",
    "    y_i = sp.integrate.trapz(densities_va[i]*grid, grid)\n",
    "    pred_y_hmc_ridge.append(y_i)"
   ]
  },
  {
   "cell_type": "code",
   "execution_count": 83,
   "metadata": {},
   "outputs": [
    {
     "name": "stderr",
     "output_type": "stream",
     "text": [
      "100%|██████████| 10472/10472 [00:01<00:00, 7785.26it/s]\n"
     ]
    }
   ],
   "source": [
    "# variance prediction\n",
    "pred_y_hmc_ridge_var = []\n",
    "densities_va\n",
    "for i in tqdm(range(0, B_zeta.shape[0])):\n",
    "    y_i = sp.integrate.trapz(densities_va[i]*((grid - pred_y_hmc_ridge[i])**2), grid)\n",
    "    pred_y_hmc_ridge_var.append(y_i)"
   ]
  },
  {
   "cell_type": "code",
   "execution_count": 84,
   "metadata": {},
   "outputs": [],
   "source": [
    "df_var['hmc_ridge'] = pred_y_hmc_ridge_var"
   ]
  },
  {
   "cell_type": "code",
   "execution_count": 96,
   "metadata": {},
   "outputs": [
    {
     "data": {
      "text/plain": [
       "0.012392181438635554"
      ]
     },
     "execution_count": 96,
     "metadata": {},
     "output_type": "execute_result"
    }
   ],
   "source": [
    "np.mean(np.array(pred_y_va_ridge_var) - np.array(pred_y_hmc_ridge_var))"
   ]
  },
  {
   "cell_type": "code",
   "execution_count": 93,
   "metadata": {},
   "outputs": [],
   "source": [
    "df_var.to_csv('densities_variance.csv', index = False)"
   ]
  },
  {
   "cell_type": "code",
   "execution_count": 46,
   "metadata": {},
   "outputs": [
    {
     "data": {
      "text/plain": [
       "8.738404117276568"
      ]
     },
     "execution_count": 46,
     "metadata": {},
     "output_type": "execute_result"
    }
   ],
   "source": [
    "# mse\n",
    "np.mean((true_y - np.array(pred_y_hmc_horse))**2)"
   ]
  },
  {
   "cell_type": "code",
   "execution_count": 47,
   "metadata": {},
   "outputs": [
    {
     "data": {
      "text/plain": [
       "1.8200146720341996"
      ]
     },
     "execution_count": 47,
     "metadata": {},
     "output_type": "execute_result"
    }
   ],
   "source": [
    "# mae\n",
    "np.mean(np.abs((true_y - np.array(pred_y_hmc_horse))))"
   ]
  },
  {
   "cell_type": "code",
   "execution_count": 48,
   "metadata": {},
   "outputs": [
    {
     "data": {
      "text/plain": [
       "0.9806149732620321"
      ]
     },
     "execution_count": 48,
     "metadata": {},
     "output_type": "execute_result"
    }
   ],
   "source": [
    "# accuracy\n",
    "np.mean(np.abs(true_y - np.array(pred_y_hmc_horse)) < 6)"
   ]
  }
 ],
 "metadata": {
  "kernelspec": {
   "display_name": "Python 3",
   "language": "python",
   "name": "python3"
  },
  "language_info": {
   "codemirror_mode": {
    "name": "ipython",
    "version": 3
   },
   "file_extension": ".py",
   "mimetype": "text/x-python",
   "name": "python",
   "nbconvert_exporter": "python",
   "pygments_lexer": "ipython3",
   "version": "3.8.5"
  }
 },
 "nbformat": 4,
 "nbformat_minor": 4
}
