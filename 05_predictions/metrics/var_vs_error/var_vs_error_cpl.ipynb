{
 "cells": [
  {
   "cell_type": "markdown",
   "metadata": {},
   "source": [
    "## Relation of Variance and Predictive Error CPL\n",
    "Author: Clara Hoffmann"
   ]
  },
  {
   "cell_type": "code",
   "execution_count": 1,
   "metadata": {},
   "outputs": [],
   "source": [
    "# load packages\n",
    "import numpy as np\n",
    "import pandas as pd\n",
    "from scipy.stats import norm\n",
    "from tqdm import tqdm\n",
    "import matplotlib.pyplot as plt\n",
    "from helpers import (Fy, find_closest_element, error_vs_variance)\n",
    "from density_predictor_class import density_predictor"
   ]
  },
  {
   "cell_type": "code",
   "execution_count": 2,
   "metadata": {},
   "outputs": [],
   "source": [
    "# read in val data\n",
    "B_zeta = np.load('../../../../data/commaai/extracted_coefficients/copula_cpl/Bzeta/B_zeta_val.npy')\n",
    "B_zeta = B_zeta.reshape(B_zeta.shape[0], B_zeta.shape[2])\n",
    "beta = np.genfromtxt('../../../../data/commaai/extracted_coefficients/copula_cpl/beta/beta.csv', delimiter = ',')\n",
    "true_y = np.load('../../../../data/commaai/extracted_coefficients/copula_cpl/Bzeta/labels_val.npy')\n",
    "\n",
    "density_path = '../../../../data/commaai/density/gaussian_density_filtered.csv'\n",
    "density = pd.read_csv(density_path)\n",
    "\n",
    "no_points = 1000\n",
    "# grid for variance\n",
    "grid = np.linspace(0,500,1000)"
   ]
  },
  {
   "cell_type": "code",
   "execution_count": 3,
   "metadata": {},
   "outputs": [
    {
     "name": "stderr",
     "output_type": "stream",
     "text": [
      "  1%|          | 61/10472 [00:00<00:17, 608.85it/s]"
     ]
    },
    {
     "name": "stdout",
     "output_type": "stream",
     "text": [
      "computing densities for each observation\n"
     ]
    },
    {
     "name": "stderr",
     "output_type": "stream",
     "text": [
      "100%|██████████| 10472/10472 [00:13<00:00, 754.71it/s]\n",
      " 15%|█▍        | 1563/10472 [00:00<00:00, 15624.20it/s]"
     ]
    },
    {
     "name": "stdout",
     "output_type": "stream",
     "text": [
      "computing mean prediction for each observation\n"
     ]
    },
    {
     "name": "stderr",
     "output_type": "stream",
     "text": [
      "100%|██████████| 10472/10472 [00:00<00:00, 16092.59it/s]\n",
      " 13%|█▎        | 1370/10472 [00:00<00:00, 13698.45it/s]"
     ]
    },
    {
     "name": "stdout",
     "output_type": "stream",
     "text": [
      "computing variance prediction for each observation\n"
     ]
    },
    {
     "name": "stderr",
     "output_type": "stream",
     "text": [
      "100%|██████████| 10472/10472 [00:00<00:00, 13284.24it/s]\n",
      "100%|██████████| 10472/10472 [00:13<00:00, 756.99it/s]\n",
      "100%|██████████| 10472/10472 [00:00<00:00, 16028.45it/s]\n",
      "100%|██████████| 10472/10472 [00:00<00:00, 13681.34it/s]\n"
     ]
    }
   ],
   "source": [
    "# get predictive densities\n",
    "dens = density_predictor(B_zeta, true_y, density, no_points)\n",
    "result_va_ridge = dens.get_density('va_ridge')\n",
    "#result_hmc_ridge = dens.get_density('hmc_ridge')\n",
    "result_va_horse = dens.get_density('va_horseshoe')\n",
    "#result_hmc_horse = dens.get_density('hmc_horseshoe')"
   ]
  },
  {
   "cell_type": "code",
   "execution_count": 4,
   "metadata": {},
   "outputs": [
    {
     "ename": "NameError",
     "evalue": "name 'result_hmc_ridge' is not defined",
     "output_type": "error",
     "traceback": [
      "\u001b[0;31m---------------------------------------------------------------------------\u001b[0m",
      "\u001b[0;31mNameError\u001b[0m                                 Traceback (most recent call last)",
      "\u001b[0;32m<ipython-input-4-0c7959601f4f>\u001b[0m in \u001b[0;36m<module>\u001b[0;34m\u001b[0m\n\u001b[1;32m      1\u001b[0m \u001b[0;31m# save densities for later use\u001b[0m\u001b[0;34m\u001b[0m\u001b[0;34m\u001b[0m\u001b[0;34m\u001b[0m\u001b[0m\n\u001b[1;32m      2\u001b[0m df = pd.DataFrame({'va_ridge' : result_va_ridge['variance prediction'],\n\u001b[0;32m----> 3\u001b[0;31m                  \u001b[0;34m'hmc_ridge'\u001b[0m \u001b[0;34m:\u001b[0m \u001b[0mresult_hmc_ridge\u001b[0m\u001b[0;34m[\u001b[0m\u001b[0;34m'variance prediction'\u001b[0m\u001b[0;34m]\u001b[0m\u001b[0;34m,\u001b[0m\u001b[0;34m\u001b[0m\u001b[0;34m\u001b[0m\u001b[0m\n\u001b[0m\u001b[1;32m      4\u001b[0m                  \u001b[0;34m'va_horse'\u001b[0m \u001b[0;34m:\u001b[0m \u001b[0mresult_va_horse\u001b[0m\u001b[0;34m[\u001b[0m\u001b[0;34m'variance prediction'\u001b[0m\u001b[0;34m]\u001b[0m\u001b[0;34m,\u001b[0m\u001b[0;34m\u001b[0m\u001b[0;34m\u001b[0m\u001b[0m\n\u001b[1;32m      5\u001b[0m                  'hmc_horse' : result_hmc_horse['variance prediction']})\n",
      "\u001b[0;31mNameError\u001b[0m: name 'result_hmc_ridge' is not defined"
     ]
    }
   ],
   "source": [
    "# save densities for later use\n",
    "df = pd.DataFrame({'va_ridge' : result_va_ridge['variance prediction'],\n",
    "                 'hmc_ridge' : result_hmc_ridge['variance prediction'],\n",
    "                 'va_horse' : result_va_horse['variance prediction'],\n",
    "                 'hmc_horse' : result_hmc_horse['variance prediction']})\n",
    "df.to_csv('../../../../data/commaai/predictions/cpl/densities.csv')"
   ]
  },
  {
   "cell_type": "code",
   "execution_count": 5,
   "metadata": {},
   "outputs": [],
   "source": [
    "mc_preds = np.append(np.load('../../../../data/commaai/predictions/mc_dropout/mc_preds_2.npy'),\n",
    "          np.load('../../../../data/commaai/predictions/mc_dropout/mc_preds_1.npy')).reshape(-1,1000)\n",
    "mc_var = np.std(mc_preds, axis = 1)**2\n",
    "mc_mean = np.mean(mc_preds, axis = 1)\n",
    "results_mc = pd.DataFrame({'mean prediction': mc_mean.reshape(-1),\n",
    "                          'variance prediction': mc_var.reshape(-1)})"
   ]
  },
  {
   "cell_type": "code",
   "execution_count": 6,
   "metadata": {},
   "outputs": [],
   "source": [
    "mdn_preds = np.load('../../../../data/commaai/predictions/mdn/cpl/samples.npy')\n",
    "mdn_var = np.std(mdn_preds, axis = 1)**2\n",
    "mdn_mean = np.mean(mdn_preds, axis = 1)\n",
    "results_mdn = pd.DataFrame({'mean prediction': mdn_mean.reshape(-1),\n",
    "                          'variance prediction': mdn_var.reshape(-1)})"
   ]
  },
  {
   "cell_type": "code",
   "execution_count": 7,
   "metadata": {},
   "outputs": [],
   "source": [
    "# mse of predictions given grid (= variance) value\n",
    "er_conf_va_ridge = error_vs_variance(result_va_ridge, grid, true_y)\n",
    "#er_conf_hmc_ridge = error_vs_variance(result_hmc_ridge, grid, true_y)\n",
    "er_conf_va_horse = error_vs_variance(result_va_horse, grid, true_y)\n",
    "#er_conf_hmc_horse = error_vs_variance(result_hmc_horse, grid, true_y)\n",
    "er_conf_mc = error_vs_variance(results_mc, grid, true_y)\n",
    "er_conf_mdn = error_vs_variance(results_mdn, grid, true_y)"
   ]
  },
  {
   "cell_type": "code",
   "execution_count": 17,
   "metadata": {},
   "outputs": [],
   "source": [
    "plt.rcParams.update({'font.size': 14})"
   ]
  },
  {
   "cell_type": "code",
   "execution_count": 20,
   "metadata": {},
   "outputs": [
    {
     "data": {
      "image/png": "[encoded data removed]",
      "text/plain": [
       "<Figure size 576x432 with 1 Axes>"
      ]
     },
     "metadata": {
      "needs_background": "light"
     },
     "output_type": "display_data"
    }
   ],
   "source": [
    "fig = plt.figure(figsize=(4,3))\n",
    "ax = fig.add_subplot(111)\n",
    "#plt.plot(grid, er_conf_hmc_horse, label = 'HMC/Horseshoe', color = 'darkred', linestyle = 'dashed')\n",
    "ax.plot(grid, er_conf_va_ridge, label = 'IC-NLM Ridge', color = 'orange')\n",
    "#plt.plot(grid, er_conf_hmc_ridge, label = 'HMC/Ridge', color = 'darkorange')\n",
    "ax.plot(grid, er_conf_va_horse, label = 'IC-NLM Horseshoe', color = 'red', linestyle = '-.')\n",
    "ax.plot(grid, er_conf_mc, label = 'MC-Dropout', color = 'blue', linestyle = ':')\n",
    "ax.plot(grid, er_conf_mdn, label = 'MDN', color = 'forestgreen', linestyle = '--')\n",
    "ax.legend(framealpha=0.0)\n",
    "ax.set_xlabel(r'$\\nu$')\n",
    "ax.set_ylabel(r'MSE of predictions with  $Var_{pred} \\leq \\nu$')\n",
    "ax.set_xlim(0,500)\n",
    "plt.tight_layout()\n",
    "plt.gca().invert_xaxis()\n",
    "fig.set_size_inches(8, 6)\n",
    "figure = plt.gcf()\n",
    "figure.set_size_inches(8, 6)\n",
    "plt.savefig('error_vs_confidence_cpl.png', dpi=100, bbox_inches='tight')\n",
    "# good! mse increases with higher variance"
   ]
  },
  {
   "cell_type": "code",
   "execution_count": null,
   "metadata": {},
   "outputs": [],
   "source": [
    "plt.scatter(result_va_horse['mean prediction'], result_va_horse['variance prediction'], alpha = 0.2,color = 'darkred', label = 'HMC/VA Horseshoe')\n",
    "plt.scatter(result_hmc_ridge['mean prediction'], result_hmc_ridge['variance prediction'], alpha = 0.2, color = 'orange', label = 'HMC/VA Ridge')\n",
    "plt.scatter(results_mc['mean prediction'], results_mc['variance prediction'], alpha = 0.2, color = 'blue', label = 'MC-Dropout')\n",
    "plt.scatter(results_mdn['mean prediction'], results_mdn['variance prediction'], alpha = 0.2, color = 'forestgreen', label = 'MC-Dropout')\n",
    "plt.legend()\n",
    "plt.legend(framealpha=0.0)\n",
    "plt.ylim(-5,200)\n",
    "plt.xlabel('steering angle in degrees')\n",
    "plt.ylabel('predicted variance')\n",
    "plt.savefig('mean_vs_var_cpl.png')"
   ]
  }
 ],
 "metadata": {
  "kernelspec": {
   "display_name": "Python 3",
   "language": "python",
   "name": "python3"
  },
  "language_info": {
   "codemirror_mode": {
    "name": "ipython",
    "version": 3
   },
   "file_extension": ".py",
   "mimetype": "text/x-python",
   "name": "python",
   "nbconvert_exporter": "python",
   "pygments_lexer": "ipython3",
   "version": "3.8.10"
  }
 },
 "nbformat": 4,
 "nbformat_minor": 4
}
