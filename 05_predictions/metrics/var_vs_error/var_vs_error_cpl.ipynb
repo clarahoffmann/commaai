{
 "cells": [
  {
   "cell_type": "markdown",
   "metadata": {},
   "source": [
    "## Relation of Variance and Predictive Error CPL\n",
    "Author: Clara Hoffmann"
   ]
  },
  {
   "cell_type": "code",
   "execution_count": null,
   "metadata": {},
   "outputs": [],
   "source": [
    "# load packages\n",
    "import numpy as np\n",
    "import pandas as pd\n",
    "from scipy.stats import norm\n",
    "from tqdm import tqdm\n",
    "import matplotlib.pyplot as plt\n",
    "from helpers import (Fy, find_closest_element, error_vs_variance)\n",
    "from density_predictor_class_val import density_predictor"
   ]
  },
  {
   "cell_type": "code",
   "execution_count": null,
   "metadata": {},
   "outputs": [],
   "source": [
    "# read in val data\n",
    "B_zeta = np.load('../../../../data/commaai/extracted_coefficients/20201027_filtered_gaussian_resampled/Bzeta/B_zeta_val.npy')\n",
    "B_zeta = B_zeta.reshape(B_zeta.shape[0], B_zeta.shape[2])\n",
    "beta = np.genfromtxt('../../../../data/commaai/extracted_coefficients/20201027_filtered_gaussian_resampled/beta/beta.csv', delimiter = ',')\n",
    "true_y = np.load('../../../../data/commaai/extracted_coefficients/20201027_filtered_gaussian_resampled/Bzeta/labels_val.npy')\n",
    "\n",
    "density_path = '../../../../data/commaai/density/gaussian_density_filtered.csv'\n",
    "density = pd.read_csv(density_path)\n",
    "\n",
    "no_points = 1000\n",
    "# grid for variance\n",
    "grid = np.linspace(0,180,1000)"
   ]
  },
  {
   "cell_type": "code",
   "execution_count": null,
   "metadata": {},
   "outputs": [],
   "source": [
    "# get predictive densities\n",
    "dens = density_predictor(B_zeta, true_y, density, no_points)\n",
    "result_va_ridge = dens.get_density('va_ridge')\n",
    "result_hmc_ridge = dens.get_density('hmc_ridge')\n",
    "result_va_horse = dens.get_density('va_horseshoe')\n",
    "result_hmc_horse = dens.get_density('hmc_horseshoe')"
   ]
  },
  {
   "cell_type": "code",
   "execution_count": null,
   "metadata": {},
   "outputs": [],
   "source": [
    "# save densities for later use\n",
    "df = pd.DataFrame({'va_ridge' : result_va_ridge['variance prediction'],\n",
    "                 'hmc_ridge' : result_hmc_ridge['variance prediction'],\n",
    "                 'va_horse' : result_va_horse['variance prediction'],\n",
    "                 'hmc_horse' : result_hmc_horse['variance prediction']})\n",
    "df.to_csv('../../../../data/commaai/predictions/cpl/densities.csv')"
   ]
  },
  {
   "cell_type": "code",
   "execution_count": null,
   "metadata": {},
   "outputs": [],
   "source": [
    "# predictions\n",
    "z_pred = B_zeta.dot(beta) \n",
    "y_pred = np.array([density.loc[find_closest_element(norm.cdf(i), density['cdf']), 'axes'] for i in tqdm(z_pred)])"
   ]
  },
  {
   "cell_type": "code",
   "execution_count": null,
   "metadata": {},
   "outputs": [],
   "source": [
    "# mse of predictions given grid (= variance) value\n",
    "er_conf_va_ridge = error_vs_variance(result_va_ridge, grid, true_y)\n",
    "er_conf_hmc_ridge = error_vs_variance(result_hmc_ridge, grid, true_y)\n",
    "er_conf_va_horse = error_vs_variance(result_va_horse, grid, true_y)\n",
    "er_conf_hmc_horse = error_vs_variance(result_hmc_horse, grid, true_y)"
   ]
  },
  {
   "cell_type": "code",
   "execution_count": null,
   "metadata": {},
   "outputs": [],
   "source": [
    "plt.plot(grid, er_conf_hmc_horse, label = 'HMC/Horseshoe', color = 'darkred', linestyle = 'dashed')\n",
    "plt.plot(grid, er_conf_va_ridge, label = 'HMC/VA Ridge', color = 'orange')\n",
    "#plt.plot(grid, er_conf_hmc_ridge, label = 'HMC/Ridge', color = 'darkorange')\n",
    "#plt.plot(grid, er_conf_va_horse, label = 'HMC/VA Horseshoe', color = 'red', linestyle = 'dotted')\n",
    "plt.legend()\n",
    "plt.xlim(0,70)\n",
    "plt.gca().invert_xaxis()\n",
    "plt.legend(framealpha=0.0)\n",
    "plt.xlabel(r'$\\nu$')\n",
    "plt.ylabel(r'MSE of predictions with  $Var_{pred} \\leq \\nu$')\n",
    "plt.savefig('error_vs_confidence_cpl.png')\n",
    "# good! mse increases with higher variance"
   ]
  },
  {
   "cell_type": "code",
   "execution_count": null,
   "metadata": {},
   "outputs": [],
   "source": [
    "plt.scatter(result_hmc_horse['mean prediction'], result_hmc_horse['variance prediction'], alpha = 0.2,color = 'darkred', label = 'HMC/VA Horseshoe')\n",
    "plt.scatter(result_hmc_ridge['mean prediction'], result_hmc_ridge['variance prediction'], alpha = 0.2, color = 'orange', label = 'HMC/VA Ridge')\n",
    "plt.legend()\n",
    "plt.legend(framealpha=0.0)\n",
    "plt.ylim(-5,200)\n",
    "plt.xlabel('steering angle in degrees')\n",
    "plt.ylabel('predicted variance')\n",
    "plt.savefig('mean_vs_var_cpl.png')"
   ]
  }
 ],
 "metadata": {
  "kernelspec": {
   "display_name": "Python 3",
   "language": "python",
   "name": "python3"
  },
  "language_info": {
   "codemirror_mode": {
    "name": "ipython",
    "version": 3
   },
   "file_extension": ".py",
   "mimetype": "text/x-python",
   "name": "python",
   "nbconvert_exporter": "python",
   "pygments_lexer": "ipython3",
   "version": "3.8.5"
  }
 },
 "nbformat": 4,
 "nbformat_minor": 4
}
