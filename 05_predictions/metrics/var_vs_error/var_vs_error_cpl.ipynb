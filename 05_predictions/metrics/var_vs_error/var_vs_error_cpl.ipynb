{
 "cells": [
  {
   "cell_type": "markdown",
   "metadata": {},
   "source": [
    "## Relation of Variance and Predictive Error CPL\n",
    "Author: Clara Hoffmann"
   ]
  },
  {
   "cell_type": "code",
   "execution_count": 1,
   "metadata": {},
   "outputs": [],
   "source": [
    "# load packages\n",
    "import numpy as np\n",
    "import pandas as pd\n",
    "from scipy.stats import norm\n",
    "from tqdm import tqdm\n",
    "import matplotlib.pyplot as plt\n",
    "from helpers import (Fy, find_closest_element, error_vs_variance)\n",
    "from density_predictor_class import density_predictor"
   ]
  },
  {
   "cell_type": "code",
   "execution_count": 2,
   "metadata": {},
   "outputs": [],
   "source": [
    "# read in val data\n",
    "B_zeta = np.load('../../../../data/commaai/extracted_coefficients/copula_cpl/Bzeta/B_zeta_val.npy')\n",
    "B_zeta = B_zeta.reshape(B_zeta.shape[0], B_zeta.shape[2])\n",
    "beta = np.genfromtxt('../../../../data/commaai/extracted_coefficients/copula_cpl/beta/beta.csv', delimiter = ',')\n",
    "true_y = np.load('../../../../data/commaai/extracted_coefficients/copula_cpl/Bzeta/labels_val.npy')\n",
    "\n",
    "density_path = '../../../../data/commaai/density/gaussian_density_filtered.csv'\n",
    "density = pd.read_csv(density_path)\n",
    "\n",
    "no_points = 1000\n",
    "# grid for variance\n",
    "grid = np.linspace(0,500,1000)"
   ]
  },
  {
   "cell_type": "code",
   "execution_count": 3,
   "metadata": {},
   "outputs": [
    {
     "name": "stderr",
     "output_type": "stream",
     "text": [
      "  1%|          | 77/10472 [00:00<00:13, 769.44it/s]"
     ]
    },
    {
     "name": "stdout",
     "output_type": "stream",
     "text": [
      "computing densities for each observation\n"
     ]
    },
    {
     "name": "stderr",
     "output_type": "stream",
     "text": [
      "100%|██████████| 10472/10472 [00:15<00:00, 690.93it/s]\n",
      " 26%|██▌       | 2736/10472 [00:00<00:00, 13804.34it/s]"
     ]
    },
    {
     "name": "stdout",
     "output_type": "stream",
     "text": [
      "computing mean prediction for each observation\n"
     ]
    },
    {
     "name": "stderr",
     "output_type": "stream",
     "text": [
      "100%|██████████| 10472/10472 [00:00<00:00, 14238.31it/s]\n",
      " 13%|█▎        | 1341/10472 [00:00<00:00, 13405.03it/s]"
     ]
    },
    {
     "name": "stdout",
     "output_type": "stream",
     "text": [
      "computing variance prediction for each observation\n"
     ]
    },
    {
     "name": "stderr",
     "output_type": "stream",
     "text": [
      "100%|██████████| 10472/10472 [00:00<00:00, 12828.56it/s]\n",
      "100%|██████████| 10472/10472 [00:15<00:00, 680.23it/s]\n",
      "100%|██████████| 10472/10472 [00:00<00:00, 13630.87it/s]\n",
      "100%|██████████| 10472/10472 [00:00<00:00, 11928.65it/s]\n"
     ]
    }
   ],
   "source": [
    "# get predictive densities\n",
    "dens = density_predictor(B_zeta, true_y, density, no_points)\n",
    "result_va_ridge = dens.get_density('va_ridge')\n",
    "#result_hmc_ridge = dens.get_density('hmc_ridge')\n",
    "result_va_horse = dens.get_density('va_horseshoe')\n",
    "#result_hmc_horse = dens.get_density('hmc_horseshoe')"
   ]
  },
  {
   "cell_type": "code",
   "execution_count": null,
   "metadata": {},
   "outputs": [],
   "source": [
    "# save densities for later use\n",
    "df = pd.DataFrame({'va_ridge' : result_va_ridge['variance prediction'],\n",
    "                 'hmc_ridge' : result_hmc_ridge['variance prediction'],\n",
    "                 'va_horse' : result_va_horse['variance prediction'],\n",
    "                 'hmc_horse' : result_hmc_horse['variance prediction']})\n",
    "df.to_csv('../../../../data/commaai/predictions/cpl/densities.csv')"
   ]
  },
  {
   "cell_type": "code",
   "execution_count": 4,
   "metadata": {},
   "outputs": [],
   "source": [
    "mc_preds = np.append(np.load('../../../../data/commaai/predictions/mc_dropout/mc_preds_2.npy'),\n",
    "          np.load('../../../../data/commaai/predictions/mc_dropout/mc_preds_1.npy')).reshape(-1,1000)\n",
    "mc_var = np.std(mc_preds, axis = 1)**2\n",
    "mc_mean = np.mean(mc_preds, axis = 1)\n",
    "results_mc = pd.DataFrame({'mean prediction': mc_mean.reshape(-1),\n",
    "                          'variance prediction': mc_var.reshape(-1)})"
   ]
  },
  {
   "cell_type": "code",
   "execution_count": 5,
   "metadata": {},
   "outputs": [],
   "source": [
    "mdn_preds = np.load('../../../../data/commaai/predictions/mdn/cpl/samples.npy')\n",
    "mdn_var = np.std(mdn_preds, axis = 1)**2\n",
    "mdn_mean = np.mean(mdn_preds, axis = 1)\n",
    "results_mdn = pd.DataFrame({'mean prediction': mdn_mean.reshape(-1),\n",
    "                          'variance prediction': mdn_var.reshape(-1)})"
   ]
  },
  {
   "cell_type": "code",
   "execution_count": 6,
   "metadata": {},
   "outputs": [],
   "source": [
    "# mse of predictions given grid (= variance) value\n",
    "er_conf_va_ridge = error_vs_variance(result_va_ridge, grid, true_y)\n",
    "#er_conf_hmc_ridge = error_vs_variance(result_hmc_ridge, grid, true_y)\n",
    "er_conf_va_horse = error_vs_variance(result_va_horse, grid, true_y)\n",
    "#er_conf_hmc_horse = error_vs_variance(result_hmc_horse, grid, true_y)\n",
    "er_conf_mc = error_vs_variance(results_mc, grid, true_y)\n",
    "er_conf_mdn = error_vs_variance(results_mdn, grid, true_y)"
   ]
  },
  {
   "cell_type": "code",
   "execution_count": 8,
   "metadata": {},
   "outputs": [
    {
     "data": {
      "image/png": "[encoded data removed]",
      "text/plain": [
       "<Figure size 432x288 with 1 Axes>"
      ]
     },
     "metadata": {
      "needs_background": "light"
     },
     "output_type": "display_data"
    }
   ],
   "source": [
    "#plt.plot(grid, er_conf_hmc_horse, label = 'HMC/Horseshoe', color = 'darkred', linestyle = 'dashed')\n",
    "plt.plot(grid, er_conf_va_ridge, label = 'HMC/VA Ridge', color = 'orange')\n",
    "#plt.plot(grid, er_conf_hmc_ridge, label = 'HMC/Ridge', color = 'darkorange')\n",
    "plt.plot(grid, er_conf_va_horse, label = 'HMC/VA Horseshoe', color = 'red', linestyle = '-.')\n",
    "plt.plot(grid, er_conf_mc, label = 'MC-Dropout', color = 'blue', linestyle = ':')\n",
    "plt.plot(grid, er_conf_mdn, label = 'MDN', color = 'forestgreen', linestyle = '--')\n",
    "plt.legend()\n",
    "plt.xlim(0,500)\n",
    "plt.gca().invert_xaxis()\n",
    "plt.legend(framealpha=0.0)\n",
    "plt.xlabel(r'$\\nu$')\n",
    "plt.ylabel(r'MSE of predictions with  $Var_{pred} \\leq \\nu$')\n",
    "plt.title('CPL')\n",
    "plt.savefig('error_vs_confidence_cpl.png')\n",
    "# good! mse increases with higher variance"
   ]
  },
  {
   "cell_type": "code",
   "execution_count": null,
   "metadata": {},
   "outputs": [],
   "source": [
    "plt.scatter(result_va_horse['mean prediction'], result_va_horse['variance prediction'], alpha = 0.2,color = 'darkred', label = 'HMC/VA Horseshoe')\n",
    "plt.scatter(result_hmc_ridge['mean prediction'], result_hmc_ridge['variance prediction'], alpha = 0.2, color = 'orange', label = 'HMC/VA Ridge')\n",
    "plt.scatter(results_mc['mean prediction'], results_mc['variance prediction'], alpha = 0.2, color = 'blue', label = 'MC-Dropout')\n",
    "plt.scatter(results_mdn['mean prediction'], results_mdn['variance prediction'], alpha = 0.2, color = 'forestgreen', label = 'MC-Dropout')\n",
    "plt.legend()\n",
    "plt.legend(framealpha=0.0)\n",
    "plt.ylim(-5,200)\n",
    "plt.xlabel('steering angle in degrees')\n",
    "plt.ylabel('predicted variance')\n",
    "plt.savefig('mean_vs_var_cpl.png')"
   ]
  },
  {
   "cell_type": "code",
   "execution_count": null,
   "metadata": {},
   "outputs": [],
   "source": []
  }
 ],
 "metadata": {
  "kernelspec": {
   "display_name": "Python 3",
   "language": "python",
   "name": "python3"
  },
  "language_info": {
   "codemirror_mode": {
    "name": "ipython",
    "version": 3
   },
   "file_extension": ".py",
   "mimetype": "text/x-python",
   "name": "python",
   "nbconvert_exporter": "python",
   "pygments_lexer": "ipython3",
   "version": "3.8.5"
  }
 },
 "nbformat": 4,
 "nbformat_minor": 4
}
