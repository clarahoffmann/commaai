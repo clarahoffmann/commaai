{
 "cells": [
  {
   "cell_type": "markdown",
   "metadata": {},
   "source": [
    "## Relation of Variance and Predictive Error CPL\n",
    "Author: Clara Hoffmann"
   ]
  },
  {
   "cell_type": "code",
   "execution_count": 1,
   "metadata": {},
   "outputs": [],
   "source": [
    "# load packages\n",
    "import numpy as np\n",
    "import pandas as pd\n",
    "from scipy.stats import norm\n",
    "from tqdm import tqdm\n",
    "import matplotlib.pyplot as plt\n",
    "from helpers import (Fy, find_closest_element, error_vs_variance)\n",
    "from density_predictor_class_val import density_predictor"
   ]
  },
  {
   "cell_type": "code",
   "execution_count": 30,
   "metadata": {},
   "outputs": [],
   "source": [
    "# read in val data\n",
    "B_zeta = np.load('../../../../data/commaai/extracted_coefficients/copula_cil/Bzeta/B_zeta_val.npy')\n",
    "beta = np.genfromtxt('../../../../data/commaai/extracted_coefficients/copula_cil/beta/beta.csv', delimiter = ',')\n",
    "#B_zeta = B_zeta.reshape(B_zeta.shape[0], B_zeta.shape[])\n",
    "true_y = np.load('../../../../data/commaai/extracted_coefficients/copula_cil/Bzeta/labels_val.npy')\n",
    "true_z = np.load('../../../../data/commaai/extracted_coefficients/copula_cil/Bzeta/tr_labels_val.npy')\n",
    "\n",
    "B_zeta = B_zeta[np.abs(true_y) < 40,:] \n",
    "true_z = true_z[np.abs(true_y) < 40]\n",
    "true_y = true_y[np.abs(true_y) < 40]\n",
    "\n",
    "density_path = '../../../../data/commaai/density/gaussian_density.csv'\n",
    "density = pd.read_csv(density_path)\n",
    "\n",
    "no_points = 1000\n",
    "# grid for variances\n",
    "grid = np.linspace(0,500,500)"
   ]
  },
  {
   "cell_type": "code",
   "execution_count": 3,
   "metadata": {},
   "outputs": [
    {
     "name": "stderr",
     "output_type": "stream",
     "text": [
      "  0%|          | 51/94570 [00:00<03:07, 505.38it/s]"
     ]
    },
    {
     "name": "stdout",
     "output_type": "stream",
     "text": [
      "computing densities for each observation\n"
     ]
    },
    {
     "name": "stderr",
     "output_type": "stream",
     "text": [
      "100%|██████████| 94570/94570 [02:23<00:00, 659.86it/s]\n",
      "  1%|▏         | 1299/94570 [00:00<00:07, 12989.30it/s]"
     ]
    },
    {
     "name": "stdout",
     "output_type": "stream",
     "text": [
      "computing mean prediction for each observation\n"
     ]
    },
    {
     "name": "stderr",
     "output_type": "stream",
     "text": [
      "100%|██████████| 94570/94570 [00:07<00:00, 12707.29it/s]\n",
      "  1%|▏         | 1231/94570 [00:00<00:07, 12302.15it/s]"
     ]
    },
    {
     "name": "stdout",
     "output_type": "stream",
     "text": [
      "computing variance prediction for each observation\n"
     ]
    },
    {
     "name": "stderr",
     "output_type": "stream",
     "text": [
      "100%|██████████| 94570/94570 [00:08<00:00, 11565.28it/s]\n"
     ]
    }
   ],
   "source": [
    "# predict densities\n",
    "dens = density_predictor(B_zeta, true_y, density, no_points)\n",
    "result_va_ridge = dens.get_density('va_ridge')\n",
    "#result_hmc_ridge = dens.get_density('hmc_ridge')\n",
    "result_va_horse = dens.get_density('va_horseshoe')\n",
    "#result_hmc_horse = dens.get_density('hmc_horseshoe')"
   ]
  },
  {
   "cell_type": "code",
   "execution_count": 7,
   "metadata": {},
   "outputs": [
    {
     "name": "stderr",
     "output_type": "stream",
     "text": [
      "100%|██████████| 94570/94570 [02:25<00:00, 650.00it/s]\n",
      "100%|██████████| 94570/94570 [00:09<00:00, 10413.78it/s]\n",
      "100%|██████████| 94570/94570 [00:09<00:00, 10257.60it/s]\n"
     ]
    }
   ],
   "source": [
    "result_va_horse = dens.get_density('va_horseshoe')"
   ]
  },
  {
   "cell_type": "code",
   "execution_count": null,
   "metadata": {},
   "outputs": [],
   "source": [
    "df = pd.DataFrame({'va_ridge' : result_va_ridge['variance prediction'],\n",
    "                 'hmc_ridge' : result_hmc_ridge['variance prediction'],\n",
    "                 'va_horse' : result_va_horse['variance prediction'],\n",
    "                 'hmc_horse' : result_hmc_horse['variance prediction']})\n",
    "df.to_csv('../../../../data/commaai/predictions/cil/variance.csv')"
   ]
  },
  {
   "cell_type": "code",
   "execution_count": 4,
   "metadata": {},
   "outputs": [],
   "source": [
    "x1 = np.load('../../../../data/commaai/predictions/mc_preds_cil_1_neu.npy').reshape(-1,1000)\n",
    "x2 = np.load('../../../../data/commaai/predictions/mc_preds_cil_2_neu.npy').reshape(-1,1000)\n",
    "x3 = np.load('../../../../data/commaai/predictions/mc_preds_cil_3_neu.npy').reshape(-1,1000)\n",
    "x4 = np.load('../../../../data/commaai/predictions/mc_preds_cil_4_neu.npy').reshape(-1,1000)\n",
    "\n",
    "mc_preds = np.append(np.append(np.append(x1, x2, axis = 0), x3, axis = 0), x4, axis = 0)\n",
    "mc_var = np.std(mc_preds, axis = 1)**2\n",
    "mc_mean = np.mean(mc_preds, axis = 1)\n",
    "results_mc = pd.DataFrame({'mean prediction': mc_mean.reshape(-1),\n",
    "                          'variance prediction': mc_var.reshape(-1)})"
   ]
  },
  {
   "cell_type": "code",
   "execution_count": 5,
   "metadata": {},
   "outputs": [],
   "source": [
    "mdn_preds = np.load('../../../../data/commaai/predictions/mdn/cil/samples.npy')\n",
    "mdn_var = np.std(mdn_preds, axis = 1)**2\n",
    "mdn_mean = np.mean(mdn_preds, axis = 1)\n",
    "results_mdn = pd.DataFrame({'mean prediction': mdn_mean.reshape(-1),\n",
    "                          'variance prediction': mdn_var.reshape(-1)})"
   ]
  },
  {
   "cell_type": "code",
   "execution_count": 28,
   "metadata": {},
   "outputs": [],
   "source": [
    "# mse of predictions given grid (= variance) value\n",
    "er_conf_va_ridge = error_vs_variance(result_va_ridge, grid, true_y)\n",
    "#er_conf_hmc_ridge = error_vs_variance(result_hmc_ridge, grid, true_y)\n",
    "er_conf_va_horse = error_vs_variance(result_va_horse, grid, true_y)\n",
    "#er_conf_hmc_horse = error_vs_variance(result_hmc_horse, grid, true_y)\n",
    "er_conf_mc = error_vs_variance(results_mc, grid, true_y)\n",
    "er_conf_mdn = error_vs_variance(results_mdn, grid, true_y)"
   ]
  },
  {
   "cell_type": "code",
   "execution_count": 33,
   "metadata": {},
   "outputs": [
    {
     "data": {
      "image/png": "[encoded data removed]",
      "text/plain": [
       "<Figure size 432x288 with 1 Axes>"
      ]
     },
     "metadata": {
      "needs_background": "light"
     },
     "output_type": "display_data"
    }
   ],
   "source": [
    "#plt.plot(grid, er_conf_hmc_ridge, label = 'HMC/Ridge', color = 'darkorange')\n",
    "plt.plot(grid, er_conf_va_horse, label = 'VA/Horseshoe', color = 'red', linestyle = 'dotted')\n",
    "#plt.plot(grid, er_conf_hmc_horse, label = 'HMC/Horseshoe', color = 'darkred', linestyle = 'dashed')\n",
    "plt.plot(grid, er_conf_va_ridge, label = 'VA/Ridge', color = 'orange')\n",
    "plt.plot(grid, er_conf_mc, label = 'MC-Dropout', color = 'blue', linestyle = ':')\n",
    "plt.plot(grid, er_conf_mdn, label = 'MDN', color = 'forestgreen', linestyle = '--')\n",
    "plt.legend()\n",
    "plt.legend(framealpha=0.0)\n",
    "plt.ylim(0,20)\n",
    "plt.gca().invert_xaxis()\n",
    "plt.xlabel(r'$\\nu$')\n",
    "plt.ylabel(r'MSE of predictions with  $Var_{pred} \\leq \\nu$')\n",
    "plt.savefig('error_vs_confidence_cil.png')"
   ]
  },
  {
   "cell_type": "code",
   "execution_count": null,
   "metadata": {},
   "outputs": [],
   "source": [
    "#plt.scatter(result_hmc_horse['mean prediction'], result_hmc_horse['variance prediction'], alpha = 0.1, color = 'darkred', label = 'HMC/VA Horseshoe')\n",
    "#plt.scatter(result_hmc_ridge['mean prediction'], result_hmc_ridge['variance prediction'], alpha = 0.1, color = 'orange', label = 'HMC/VA Ridge')\n",
    "plt.scatter(result_va_ridge['mean prediction'], result_va_ridge['variance prediction'], alpha = 0.1, color = 'orange', label = 'HMC/VA Ridge')\n",
    "plt.scatter(results_mc['mean prediction'], results_mc['variance prediction'], alpha = 0.1, color = 'blue', label = 'MC-Dropout')\n",
    "plt.legend()\n",
    "plt.legend(framealpha=0.0)\n",
    "#for lh in leg.legendHandles: \n",
    "#    lh._legmarker.set_alpha(1)\n",
    "#    lh._legmarker.set_framealpha(0.0)\n",
    "plt.legend(framealpha=0.0)\n",
    "plt.ylim(0,200)\n",
    "plt.xlabel('steering angle in degrees')\n",
    "plt.ylabel('predicted variance')\n",
    "#plt.savefig('mean_vs_var_cil.png')"
   ]
  },
  {
   "cell_type": "code",
   "execution_count": null,
   "metadata": {},
   "outputs": [],
   "source": [
    "plt.scatter(np.abs(true_y - result_va_ridge['mean prediction']), result_va_ridge['variance prediction'],  alpha = 0.1, color = 'orange', label = 'HMC/VA Ridge')"
   ]
  },
  {
   "cell_type": "code",
   "execution_count": null,
   "metadata": {},
   "outputs": [],
   "source": [
    "plt.scatter(np.abs(true_y - results_mc['mean prediction']),results_mc['variance prediction'], alpha = 0.1, color = 'orange', label = 'HMC/VA Ridge')"
   ]
  },
  {
   "cell_type": "code",
   "execution_count": null,
   "metadata": {},
   "outputs": [],
   "source": [
    "plt.scatter(true_y, result_va_ridge['mean prediction'],alpha = 0.1)\n",
    "plt.scatter(true_y, results_mc['mean prediction'],alpha = 0.1)"
   ]
  },
  {
   "cell_type": "code",
   "execution_count": null,
   "metadata": {},
   "outputs": [],
   "source": []
  }
 ],
 "metadata": {
  "kernelspec": {
   "display_name": "Python 3",
   "language": "python",
   "name": "python3"
  },
  "language_info": {
   "codemirror_mode": {
    "name": "ipython",
    "version": 3
   },
   "file_extension": ".py",
   "mimetype": "text/x-python",
   "name": "python",
   "nbconvert_exporter": "python",
   "pygments_lexer": "ipython3",
   "version": "3.8.5"
  }
 },
 "nbformat": 4,
 "nbformat_minor": 4
}
