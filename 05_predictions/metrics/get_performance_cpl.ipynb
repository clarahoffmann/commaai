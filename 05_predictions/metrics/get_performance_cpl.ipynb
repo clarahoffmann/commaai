{
 "cells": [
  {
   "cell_type": "code",
   "execution_count": 1,
   "metadata": {},
   "outputs": [],
   "source": [
    "import numpy as np\n",
    "import pandas as pd\n",
    "from scipy.stats import norm\n",
    "import scipy as sp\n",
    "from tqdm import tqdm\n",
    "from scipy.integrate import simps, trapz\n",
    "import matplotlib.pyplot as plt\n",
    "import imageio\n",
    "import multiprocessing\n",
    "from helpers import (Fy, find_closest_element,  compute_coverage, #predict_single_density,\n",
    "confidence_interval, confidence_interval, generate_fixed_terms, get_ci)\n",
    "from density_predictor_class import density_predictor"
   ]
  },
  {
   "cell_type": "code",
   "execution_count": 2,
   "metadata": {},
   "outputs": [],
   "source": [
    "# read in val data\n",
    "B_zeta = np.load('../../../data/commaai/extracted_coefficients/20201027_filtered_gaussian_resampled/Bzeta/B_zeta_val.npy')\n",
    "B_zeta = B_zeta.reshape(B_zeta.shape[0], B_zeta.shape[2])\n",
    "true_y = np.load('../../../data/commaai/extracted_coefficients/20201027_filtered_gaussian_resampled/Bzeta/labels_val.npy')\n",
    "\n",
    "density_path = '../../../data/commaai/density/gaussian_density_filtered.csv'\n",
    "density = pd.read_csv(density_path)\n",
    "\n",
    "no_points = 500"
   ]
  },
  {
   "cell_type": "code",
   "execution_count": 3,
   "metadata": {},
   "outputs": [],
   "source": [
    "dens = density_predictor(B_zeta, true_y, density, no_points)"
   ]
  },
  {
   "cell_type": "code",
   "execution_count": 4,
   "metadata": {},
   "outputs": [
    {
     "name": "stderr",
     "output_type": "stream",
     "text": [
      "  0%|          | 29/10472 [00:00<00:36, 288.43it/s]"
     ]
    },
    {
     "name": "stdout",
     "output_type": "stream",
     "text": [
      "computing densities for each observation\n"
     ]
    },
    {
     "name": "stderr",
     "output_type": "stream",
     "text": [
      "100%|██████████| 10472/10472 [00:23<00:00, 439.15it/s]\n",
      " 10%|█         | 1050/10472 [00:00<00:00, 10499.46it/s]"
     ]
    },
    {
     "name": "stdout",
     "output_type": "stream",
     "text": [
      "computing mean prediction for each observation\n"
     ]
    },
    {
     "name": "stderr",
     "output_type": "stream",
     "text": [
      "100%|██████████| 10472/10472 [00:01<00:00, 10252.07it/s]\n",
      "  5%|▍         | 489/10472 [00:00<00:02, 4885.32it/s]"
     ]
    },
    {
     "name": "stdout",
     "output_type": "stream",
     "text": [
      "computing variance prediction for each observation\n"
     ]
    },
    {
     "name": "stderr",
     "output_type": "stream",
     "text": [
      "100%|██████████| 10472/10472 [00:01<00:00, 6858.65it/s]\n",
      "100%|██████████| 10472/10472 [04:12<00:00, 41.51it/s]\n",
      "100%|██████████| 10472/10472 [00:01<00:00, 9210.17it/s] \n",
      "100%|██████████| 10472/10472 [00:01<00:00, 8724.01it/s]\n"
     ]
    },
    {
     "ename": "FileNotFoundError",
     "evalue": "[Errno 2] No such file or directory: '../../../data/commaai/va/filtered_gaussian_resampled/Horseshoe/mu_ts_new_dev.npy'",
     "output_type": "error",
     "traceback": [
      "\u001b[0;31m---------------------------------------------------------------------------\u001b[0m",
      "\u001b[0;31mFileNotFoundError\u001b[0m                         Traceback (most recent call last)",
      "\u001b[0;32m<ipython-input-4-23f39820f6cb>\u001b[0m in \u001b[0;36m<module>\u001b[0;34m\u001b[0m\n\u001b[1;32m      1\u001b[0m \u001b[0mresult_va_ridge\u001b[0m \u001b[0;34m=\u001b[0m \u001b[0mdens\u001b[0m\u001b[0;34m.\u001b[0m\u001b[0mget_density\u001b[0m\u001b[0;34m(\u001b[0m\u001b[0;34m'va_ridge'\u001b[0m\u001b[0;34m)\u001b[0m\u001b[0;34m\u001b[0m\u001b[0;34m\u001b[0m\u001b[0m\n\u001b[1;32m      2\u001b[0m \u001b[0mresult_hmc_ridge\u001b[0m \u001b[0;34m=\u001b[0m \u001b[0mdens\u001b[0m\u001b[0;34m.\u001b[0m\u001b[0mget_density\u001b[0m\u001b[0;34m(\u001b[0m\u001b[0;34m'hmc_ridge'\u001b[0m\u001b[0;34m)\u001b[0m\u001b[0;34m\u001b[0m\u001b[0;34m\u001b[0m\u001b[0m\n\u001b[0;32m----> 3\u001b[0;31m \u001b[0mresult_va_horse\u001b[0m \u001b[0;34m=\u001b[0m \u001b[0mdens\u001b[0m\u001b[0;34m.\u001b[0m\u001b[0mget_density\u001b[0m\u001b[0;34m(\u001b[0m\u001b[0;34m'va_horseshoe'\u001b[0m\u001b[0;34m)\u001b[0m\u001b[0;34m\u001b[0m\u001b[0;34m\u001b[0m\u001b[0m\n\u001b[0m\u001b[1;32m      4\u001b[0m \u001b[0mresult_hmc_horse\u001b[0m \u001b[0;34m=\u001b[0m \u001b[0mdens\u001b[0m\u001b[0;34m.\u001b[0m\u001b[0mget_density\u001b[0m\u001b[0;34m(\u001b[0m\u001b[0;34m'hmc_horseshoe'\u001b[0m\u001b[0;34m)\u001b[0m\u001b[0;34m\u001b[0m\u001b[0;34m\u001b[0m\u001b[0m\n",
      "\u001b[0;32m~/commaai_code/05_predictions/metrics/density_predictor_class.py\u001b[0m in \u001b[0;36mget_density\u001b[0;34m(self, method)\u001b[0m\n\u001b[1;32m    117\u001b[0m \u001b[0;34m\u001b[0m\u001b[0m\n\u001b[1;32m    118\u001b[0m             \u001b[0mself\u001b[0m\u001b[0;34m.\u001b[0m\u001b[0mva_horse_dir\u001b[0m \u001b[0;34m=\u001b[0m \u001b[0;34m'../../../data/commaai/va/filtered_gaussian_resampled/Horseshoe/'\u001b[0m\u001b[0;34m\u001b[0m\u001b[0;34m\u001b[0m\u001b[0m\n\u001b[0;32m--> 119\u001b[0;31m             \u001b[0mself\u001b[0m\u001b[0;34m.\u001b[0m\u001b[0mmu_t_va\u001b[0m \u001b[0;34m=\u001b[0m \u001b[0mnp\u001b[0m\u001b[0;34m.\u001b[0m\u001b[0mload\u001b[0m\u001b[0;34m(\u001b[0m\u001b[0mself\u001b[0m\u001b[0;34m.\u001b[0m\u001b[0mva_horse_dir\u001b[0m \u001b[0;34m+\u001b[0m \u001b[0;34m'mu_ts_new_dev.npy'\u001b[0m\u001b[0;34m)\u001b[0m\u001b[0;34m.\u001b[0m\u001b[0mreshape\u001b[0m\u001b[0;34m(\u001b[0m\u001b[0;34m-\u001b[0m\u001b[0;36m1\u001b[0m\u001b[0;34m,\u001b[0m \u001b[0;36m21\u001b[0m\u001b[0;34m)\u001b[0m\u001b[0;34m\u001b[0m\u001b[0;34m\u001b[0m\u001b[0m\n\u001b[0m\u001b[1;32m    120\u001b[0m             \u001b[0mself\u001b[0m\u001b[0;34m.\u001b[0m\u001b[0mbeta\u001b[0m \u001b[0;34m=\u001b[0m \u001b[0mnp\u001b[0m\u001b[0;34m.\u001b[0m\u001b[0mmean\u001b[0m\u001b[0;34m(\u001b[0m\u001b[0mself\u001b[0m\u001b[0;34m.\u001b[0m\u001b[0mmu_t_va\u001b[0m\u001b[0;34m[\u001b[0m\u001b[0;36m10000\u001b[0m\u001b[0;34m:\u001b[0m\u001b[0;34m,\u001b[0m\u001b[0;36m0\u001b[0m\u001b[0;34m:\u001b[0m\u001b[0;36m10\u001b[0m\u001b[0;34m]\u001b[0m\u001b[0;34m,\u001b[0m \u001b[0maxis\u001b[0m \u001b[0;34m=\u001b[0m \u001b[0;36m0\u001b[0m\u001b[0;34m)\u001b[0m\u001b[0;34m\u001b[0m\u001b[0;34m\u001b[0m\u001b[0m\n\u001b[1;32m    121\u001b[0m             \u001b[0mself\u001b[0m\u001b[0;34m.\u001b[0m\u001b[0mLambda\u001b[0m \u001b[0;34m=\u001b[0m \u001b[0mnp\u001b[0m\u001b[0;34m.\u001b[0m\u001b[0mmean\u001b[0m\u001b[0;34m(\u001b[0m\u001b[0mnp\u001b[0m\u001b[0;34m.\u001b[0m\u001b[0mexp\u001b[0m\u001b[0;34m(\u001b[0m\u001b[0;36m0.5\u001b[0m\u001b[0;34m*\u001b[0m\u001b[0mself\u001b[0m\u001b[0;34m.\u001b[0m\u001b[0mmu_t_va\u001b[0m\u001b[0;34m[\u001b[0m\u001b[0;36m10000\u001b[0m\u001b[0;34m:\u001b[0m\u001b[0;34m,\u001b[0m\u001b[0;36m10\u001b[0m\u001b[0;34m:\u001b[0m\u001b[0;36m20\u001b[0m\u001b[0;34m]\u001b[0m\u001b[0;34m)\u001b[0m\u001b[0;34m,\u001b[0m \u001b[0maxis\u001b[0m \u001b[0;34m=\u001b[0m \u001b[0;36m0\u001b[0m\u001b[0;34m)\u001b[0m\u001b[0;34m\u001b[0m\u001b[0;34m\u001b[0m\u001b[0m\n",
      "\u001b[0;32m/usr/local/lib/python3.8/dist-packages/numpy/lib/npyio.py\u001b[0m in \u001b[0;36mload\u001b[0;34m(file, mmap_mode, allow_pickle, fix_imports, encoding)\u001b[0m\n\u001b[1;32m    414\u001b[0m             \u001b[0mown_fid\u001b[0m \u001b[0;34m=\u001b[0m \u001b[0;32mFalse\u001b[0m\u001b[0;34m\u001b[0m\u001b[0;34m\u001b[0m\u001b[0m\n\u001b[1;32m    415\u001b[0m         \u001b[0;32melse\u001b[0m\u001b[0;34m:\u001b[0m\u001b[0;34m\u001b[0m\u001b[0;34m\u001b[0m\u001b[0m\n\u001b[0;32m--> 416\u001b[0;31m             \u001b[0mfid\u001b[0m \u001b[0;34m=\u001b[0m \u001b[0mstack\u001b[0m\u001b[0;34m.\u001b[0m\u001b[0menter_context\u001b[0m\u001b[0;34m(\u001b[0m\u001b[0mopen\u001b[0m\u001b[0;34m(\u001b[0m\u001b[0mos_fspath\u001b[0m\u001b[0;34m(\u001b[0m\u001b[0mfile\u001b[0m\u001b[0;34m)\u001b[0m\u001b[0;34m,\u001b[0m \u001b[0;34m\"rb\"\u001b[0m\u001b[0;34m)\u001b[0m\u001b[0;34m)\u001b[0m\u001b[0;34m\u001b[0m\u001b[0;34m\u001b[0m\u001b[0m\n\u001b[0m\u001b[1;32m    417\u001b[0m             \u001b[0mown_fid\u001b[0m \u001b[0;34m=\u001b[0m \u001b[0;32mTrue\u001b[0m\u001b[0;34m\u001b[0m\u001b[0;34m\u001b[0m\u001b[0m\n\u001b[1;32m    418\u001b[0m \u001b[0;34m\u001b[0m\u001b[0m\n",
      "\u001b[0;31mFileNotFoundError\u001b[0m: [Errno 2] No such file or directory: '../../../data/commaai/va/filtered_gaussian_resampled/Horseshoe/mu_ts_new_dev.npy'"
     ]
    }
   ],
   "source": [
    "result_va_ridge = dens.get_density('va_ridge')\n",
    "result_hmc_ridge = dens.get_density('hmc_ridge')\n",
    "result_va_horse = dens.get_density('va_horseshoe')\n",
    "result_hmc_horse = dens.get_density('hmc_horseshoe')"
   ]
  },
  {
   "cell_type": "code",
   "execution_count": null,
   "metadata": {},
   "outputs": [],
   "source": [
    "print('Validation Performance: ' +\n",
    "      '\\nMSE:' +\n",
    "     '\\n CPL VA/Ridge: ' + str(np.mean((true_y - np.array(result_va_ridge['mean predictions']))**2)) +\n",
    "     '\\n CPL HMC/Ridge: ' + str(np.mean((true_y - np.array(result_hmc_ridge['mean prediction']))**2)) +\n",
    "     '\\n CPL VA/Horseshoe: ' + str(np.mean((true_y - np.array(result_va_horse['mean prediction']))**2)) +\n",
    "     '\\n CPL HMC/Horseshoe: ' + str(np.mean((true_y - np.array(result_hmc_horse['mean prediction']))**2)) +\n",
    "      \n",
    "    '\\nMAE:' +\n",
    "     '\\n CPL VA/Ridge: ' + str(np.mean(np.abs(true_y - np.array(result_va_ridge['mean predictions'])))) +\n",
    "     '\\n CPL HMC/Ridge: ' + str(np.mean(np.abs(true_y - np.array(result_hmc_ridge['mean prediction'])))) +\n",
    "     '\\n CPL VA/Horseshoe: ' + str(np.mean(np.abs(true_y - np.array(result_va_horse['mean prediction'])))) +\n",
    "     '\\n CPL HMC/Horseshoe: ' + str(np.mean(np.abs(true_y - np.array(result_hmc_horse['mean prediction'])))) +\n",
    "      \n",
    "      '\\nAccuracy:' +\n",
    "     '\\n CPL VA/Ridge: ' + str(np.mean(np.abs(true_y - np.array(result_va_ridge['mean predictions'])) < 6)) +\n",
    "     '\\n CPL HMC/Ridge: ' + str(np.mean(np.abs(true_y - np.array(result_hmc_ridge['mean prediction'])) < 6)) +\n",
    "     '\\n CPL VA/Horseshoe: ' + str(np.mean(np.abs(true_y - np.array(result_va_horse['mean prediction'])) < 6)) +\n",
    "     '\\n CPL HMC/Horseshoe: ' + str(np.mean(np.abs(true_y - np.array(result_hmc_horse['mean prediction'])) < 6))\n",
    "     )"
   ]
  },
  {
   "cell_type": "code",
   "execution_count": null,
   "metadata": {},
   "outputs": [],
   "source": [
    "df = pd.DataFrame({'va_ridge' : result_va_ridge['densities'],\n",
    "                 'hmc_ridge' : result_hmc_ridge['densities'],\n",
    "                 'va_horse' : result_va_horse['densities'],\n",
    "                 'hmc_horse' : result_hmc_horse['densities']})"
   ]
  },
  {
   "cell_type": "code",
   "execution_count": null,
   "metadata": {},
   "outputs": [],
   "source": [
    "df.to_csv('../../../data/commaai/predictions/cpl/densities.csv')"
   ]
  },
  {
   "cell_type": "markdown",
   "metadata": {},
   "source": [
    "## 1. VA + RIDGE + PRECISE"
   ]
  },
  {
   "cell_type": "code",
   "execution_count": null,
   "metadata": {},
   "outputs": [],
   "source": [
    "va_ridge_dir = '../../../data/commaai/va/filtered_gaussian_resampled/Ridge/'\n",
    "mu_t_va = np.genfromtxt(va_ridge_dir + 'mu_t_va.csv', delimiter = ',')\n",
    "iterations = mu_t_va.shape[0]\n",
    "beta = np.mean(mu_t_va[int(0.9*iterations):iterations,0:10], axis = 0)\n",
    "beta_sd = np.std(mu_t_va[int(0.9*iterations):iterations,0:10], axis = 0)\n",
    "tau_sq = np.mean(np.exp(mu_t_va[int(0.9*iterations):iterations,10]), axis = 0)\n",
    "tau_sq_sd = np.std(np.exp(mu_t_va[int(0.9*iterations):iterations,10]), axis = 0)\n",
    "p = len(beta)\n",
    "z_pred = B_zeta.reshape(B_zeta.shape[0], p).dot(beta)\n",
    "pred_y = [density.loc[find_closest_element(norm.cdf(z), density['cdf']), 'axes'] for z in z_pred]"
   ]
  },
  {
   "cell_type": "code",
   "execution_count": null,
   "metadata": {},
   "outputs": [],
   "source": [
    "densities_va = []\n",
    "for i in tqdm(range(0, B_zeta.shape[0])):\n",
    "    dens = predict_single_density(B_zeta[i].reshape(p,), grid, p_y_y0, part_1, phi_1_z, beta, tau_sq, None, 'va_ridge')\n",
    "    densities_va.append(dens)"
   ]
  },
  {
   "cell_type": "code",
   "execution_count": null,
   "metadata": {},
   "outputs": [],
   "source": [
    "# mean prediction\n",
    "pred_y_va_ridge = []\n",
    "densities_va\n",
    "for i in tqdm(range(0, B_zeta.shape[0])):\n",
    "    y_i = sp.integrate.trapz(densities_va[i]*grid, grid)\n",
    "    pred_y_va_ridge.append(y_i)\n",
    "pred_y_va_ridge = np.array(pred_y_va_ridge)"
   ]
  },
  {
   "cell_type": "code",
   "execution_count": null,
   "metadata": {},
   "outputs": [],
   "source": [
    "# variance prediction\n",
    "pred_y_va_ridge_var = []\n",
    "densities_va\n",
    "for i in tqdm(range(0, B_zeta.shape[0])):\n",
    "    y_i = sp.integrate.trapz(densities_va[i]*((grid - pred_y_va_ridge[i])**2), grid)\n",
    "    pred_y_va_ridge_var.append(y_i)"
   ]
  },
  {
   "cell_type": "code",
   "execution_count": null,
   "metadata": {},
   "outputs": [],
   "source": [
    "df_var = pd.DataFrame({'va_ridge': pred_y_va_ridge_var})\n",
    "df = pd.DataFrame({'va_ridge': pred_y_va_ridge})"
   ]
  },
  {
   "cell_type": "code",
   "execution_count": null,
   "metadata": {},
   "outputs": [],
   "source": [
    "np.mean((true_y - np.array(pred_y_va_ridge))**2)"
   ]
  },
  {
   "cell_type": "code",
   "execution_count": null,
   "metadata": {},
   "outputs": [],
   "source": [
    "np.mean(np.abs(true_y - np.array(pred_y_va_ridge)) < 6)"
   ]
  },
  {
   "cell_type": "code",
   "execution_count": null,
   "metadata": {},
   "outputs": [],
   "source": [
    "plt.scatter(true_y, np.array(pred_y_va_ridge), alpha = 0.1)"
   ]
  },
  {
   "cell_type": "markdown",
   "metadata": {},
   "source": [
    "## Alternative like in Klein ??"
   ]
  },
  {
   "cell_type": "code",
   "execution_count": null,
   "metadata": {},
   "outputs": [],
   "source": [
    "tau_samples = np.random.normal(tau_sq, tau_sq_sd, 100)\n",
    "beta_samples = np.random.multivariate_normal(beta, np.diag(beta_sd**2), 100)\n",
    "W = np.array([B_zeta[i,:].dot(B_zeta[i,:]) for i in range(0, n)])"
   ]
  },
  {
   "cell_type": "code",
   "execution_count": null,
   "metadata": {},
   "outputs": [],
   "source": [
    "norm_cdf_z = np.array([density.loc[find_closest_element(norm.cdf(z), density['cdf']), 'axes'] for z in z_grid])"
   ]
  },
  {
   "cell_type": "code",
   "execution_count": null,
   "metadata": {},
   "outputs": [],
   "source": [
    "import scipy as sp\n",
    "x = sp.stats.norm.pdf(z_grid.reshape(-1, 1), loc=mu, scale=S)"
   ]
  },
  {
   "cell_type": "code",
   "execution_count": null,
   "metadata": {},
   "outputs": [],
   "source": [
    "plt.plot(z_grid, norm_cdf_z)"
   ]
  },
  {
   "cell_type": "code",
   "execution_count": null,
   "metadata": {},
   "outputs": [],
   "source": [
    "plt.plot(pred_y_va_ridge, pred)"
   ]
  },
  {
   "cell_type": "code",
   "execution_count": null,
   "metadata": {},
   "outputs": [],
   "source": [
    "samples_e = np.zeros((10000, n))\n",
    "samples_var = np.zeros((10000, n))\n",
    "for j in tqdm(range(0, tau_samples.shape[0])):\n",
    "    tau_sq_j = tau_samples[j]\n",
    "    beta_sample = beta_samples[j]\n",
    "    S = np.sqrt(1/(1 + W*tau_sq_j))\n",
    "    for i in range(0,n):\n",
    "        f1 = norm_cdf_z\n",
    "        f12 = (norm_cdf_z**2)\n",
    "        mu = S*B_zeta[i,:].dot(beta_sample)\n",
    "        f2 = sp.stats.norm.pdf(z_grid.reshape(-1, 1), loc=mu[i], scale=S[i]).reshape(1000,)\n",
    "        f3 = f1*f2\n",
    "        f4 = f12*f2\n",
    "        samples = simps(f3, z_grid, axis=0)\n",
    "        samples2 = simps(f4, z_grid, axis=0)\n",
    "        samples_e[j, i] = samples\n",
    "        samples_var[j, i] = samples2"
   ]
  },
  {
   "cell_type": "code",
   "execution_count": null,
   "metadata": {},
   "outputs": [],
   "source": [
    "x = sp.stats.norm.pdf(z_grid.reshape(-1, 1), loc=mu[0], scale=S[0]).reshape(1000,)\n",
    "f1 = norm_cdf_z"
   ]
  },
  {
   "cell_type": "code",
   "execution_count": null,
   "metadata": {},
   "outputs": [],
   "source": [
    "#samples_e"
   ]
  },
  {
   "cell_type": "code",
   "execution_count": null,
   "metadata": {},
   "outputs": [],
   "source": [
    "pred = np.mean(samples_e, axis = 0)"
   ]
  },
  {
   "cell_type": "code",
   "execution_count": null,
   "metadata": {},
   "outputs": [],
   "source": [
    "plt.scatter(true_y, pred_y, alpha = 0.2)\n",
    "plt.ylim(-8,8)\n",
    "plt.xlim(-8,8)\n",
    "plt.plot([-8,8], [-8,8], color = 'red')"
   ]
  },
  {
   "cell_type": "code",
   "execution_count": null,
   "metadata": {},
   "outputs": [],
   "source": [
    "pred2 = np.mean(samples_e[:100,:], axis = 0)"
   ]
  },
  {
   "cell_type": "code",
   "execution_count": null,
   "metadata": {},
   "outputs": [],
   "source": [
    "plt.scatter(true_y, pred2, alpha = 0.2)\n",
    "plt.ylim(-8,8)\n",
    "plt.xlim(-8,8)\n",
    "plt.plot([-8,8], [-8,8], color = 'red')"
   ]
  },
  {
   "cell_type": "code",
   "execution_count": null,
   "metadata": {},
   "outputs": [],
   "source": [
    "np.mean(np.abs(true_y - pred))"
   ]
  },
  {
   "cell_type": "code",
   "execution_count": null,
   "metadata": {},
   "outputs": [],
   "source": [
    "#func_values = np.array([func(z_grid[i], mu, sigma) for i in range(0,z_grid.shape[0])])"
   ]
  },
  {
   "cell_type": "code",
   "execution_count": null,
   "metadata": {},
   "outputs": [],
   "source": [
    "n = B_zeta.shape[0]\n",
    "W = np.array([B_zeta[i,:].dot(B_zeta[i,:]) for i in range(0, n)])\n",
    "S_list = []\n",
    "mu_list = []\n",
    "sigma_list = []\n",
    "for samp in tqdm(tau_samples):\n",
    "    S = np.sqrt(1/(1 + W*tau_sq))\n",
    "    sigma = S\n",
    "    mu = S*B_zeta.dot(beta)\n",
    "    mu_list.append(mu)\n",
    "    sigma_list.append(sigma)\n",
    "    S_list.append(S)\n",
    "    "
   ]
  },
  {
   "cell_type": "code",
   "execution_count": null,
   "metadata": {},
   "outputs": [],
   "source": [
    "z_grid = np.linspace(min(density['axes']), max(density['axes']), 1000)"
   ]
  },
  {
   "cell_type": "code",
   "execution_count": null,
   "metadata": {},
   "outputs": [],
   "source": [
    "E_y_thetas = []\n",
    "for j in tqdm(range(0, len(mu_list))):\n",
    "    func_values = np.array([func(z_grid[i], mu_list[0][j], sigma_list[0][j]) for i in range(0,z_grid.shape[0])])\n",
    "    E_y_theta = sp.integrate.trapz(func_values, z_grid)\n",
    "    E_y_thetas.append(E_y_theta)"
   ]
  },
  {
   "cell_type": "code",
   "execution_count": null,
   "metadata": {},
   "outputs": [],
   "source": [
    "#func_values = [func(z_grid[i], mu[j], sigma[j]) for i in range(0,z_grid.shape[0]) for j in tqdm(range(0, mu.shape[0]))]"
   ]
  },
  {
   "cell_type": "code",
   "execution_count": null,
   "metadata": {},
   "outputs": [],
   "source": [
    "np.array(E_y_thetas).shape"
   ]
  },
  {
   "cell_type": "code",
   "execution_count": null,
   "metadata": {},
   "outputs": [],
   "source": [
    "np.mean(np.array(E_y_thetas).dot(tau_samples)"
   ]
  },
  {
   "cell_type": "code",
   "execution_count": null,
   "metadata": {},
   "outputs": [],
   "source": [
    "func_values = np.array(func_values)\n",
    "func_values.shape"
   ]
  },
  {
   "cell_type": "code",
   "execution_count": null,
   "metadata": {},
   "outputs": [],
   "source": [
    "E_y_theta = sp.integrate.trapz(func_values, z_grid)"
   ]
  },
  {
   "cell_type": "code",
   "execution_count": null,
   "metadata": {},
   "outputs": [],
   "source": [
    "E_y_theta"
   ]
  },
  {
   "cell_type": "code",
   "execution_count": null,
   "metadata": {},
   "outputs": [],
   "source": [
    "value = [func(density['axes'][i], mu[0], sigma[0]) for i in range(0, density.shape[0])]"
   ]
  },
  {
   "cell_type": "code",
   "execution_count": null,
   "metadata": {},
   "outputs": [],
   "source": []
  },
  {
   "cell_type": "code",
   "execution_count": null,
   "metadata": {},
   "outputs": [],
   "source": [
    "values = []\n",
    "for j in tqdm(range(0, mu.shape[0])):\n",
    "    value = np.array([func(density['axes'][i], mu[j], sigma[j]) for i in range(0, density.shape[0])])\n",
    "    values.append(value)"
   ]
  },
  {
   "cell_type": "code",
   "execution_count": null,
   "metadata": {},
   "outputs": [],
   "source": [
    "## 2. VA + Horseshoe + PRECISE"
   ]
  },
  {
   "cell_type": "code",
   "execution_count": null,
   "metadata": {},
   "outputs": [],
   "source": [
    "va_horse_dir = '../../../data/commaai/va/filtered_gaussian_resampled/Horseshoe/'\n",
    "mu_t_va = np.load(va_horse_dir + 'mu_ts.npy').reshape(29001, 21)\n",
    "beta = np.mean(mu_t_va[20000:,0:10], axis = 0)\n",
    "Lambda = np.mean(np.exp(0.5*mu_t_va[20000:,10:20]), axis = 0)\n",
    "tau_sq = np.exp(np.mean(mu_t_va[20000:,20], axis = 0))\n",
    "z_pred = B_zeta.reshape(B_zeta.shape[0], p).dot(beta)\n",
    "pred_y = [density.loc[find_closest_element(norm.cdf(z), density['cdf']), 'axes'] for z in z_pred]"
   ]
  },
  {
   "cell_type": "code",
   "execution_count": null,
   "metadata": {},
   "outputs": [],
   "source": [
    "densities_va = []\n",
    "for i in tqdm(range(0, B_zeta.shape[0])):\n",
    "    dens = predict_single_density(B_zeta[i].reshape(p,), grid, p_y_y0, part_1, phi_1_z, beta, tau_sq, Lambda, 'va_horseshoe')\n",
    "    densities_va.append(dens)"
   ]
  },
  {
   "cell_type": "code",
   "execution_count": null,
   "metadata": {},
   "outputs": [],
   "source": [
    "pred_y_va_horse = []\n",
    "densities_va\n",
    "for i in tqdm(range(0, B_zeta.shape[0])):\n",
    "    y_i = sp.integrate.trapz(densities_va[i]*grid, grid)\n",
    "    pred_y_va_horse.append(y_i)"
   ]
  },
  {
   "cell_type": "code",
   "execution_count": null,
   "metadata": {},
   "outputs": [],
   "source": [
    "# variance prediction\n",
    "pred_y_va_horse_var = []\n",
    "densities_va\n",
    "for i in tqdm(range(0, B_zeta.shape[0])):\n",
    "    y_i = sp.integrate.trapz(densities_va[i]*((grid - pred_y_va_horse[i])**2), grid)\n",
    "    pred_y_va_horse_var.append(y_i)"
   ]
  },
  {
   "cell_type": "code",
   "execution_count": null,
   "metadata": {},
   "outputs": [],
   "source": [
    "df_var['va_horse'] = pred_y_va_horse_var\n",
    "df['va_horse'] = pred_y_va_horse"
   ]
  },
  {
   "cell_type": "code",
   "execution_count": null,
   "metadata": {},
   "outputs": [],
   "source": [
    "np.mean((true_y - np.array(pred_y_va_horse))**2)"
   ]
  },
  {
   "cell_type": "code",
   "execution_count": null,
   "metadata": {},
   "outputs": [],
   "source": [
    "np.mean(np.abs((true_y - np.array(pred_y_va_horse))))"
   ]
  },
  {
   "cell_type": "code",
   "execution_count": null,
   "metadata": {},
   "outputs": [],
   "source": [
    "np.mean(np.abs(true_y - np.array(pred_y_va_horse)) < 6)"
   ]
  },
  {
   "cell_type": "markdown",
   "metadata": {},
   "source": [
    "# HMC + Ridge + Precise"
   ]
  },
  {
   "cell_type": "code",
   "execution_count": null,
   "metadata": {},
   "outputs": [],
   "source": [
    "hmc_ridge_dir = '../../../data/commaai/mcmc/filtered_gaussian_resampled/Ridge/'\n",
    "mu_t_hmc = np.load(hmc_ridge_dir + 'all_thetas.npy')[20000:,:]\n",
    "beta = np.mean(mu_t_hmc[:,0:10], axis = 0)\n",
    "tau_sq = np.exp(mu_t_hmc[:,10])\n",
    "z_pred = B_zeta.reshape(B_zeta.shape[0], p).dot(beta)\n",
    "pred_y = [density.loc[find_closest_element(norm.cdf(z), density['cdf']), 'axes'] for z in z_pred]"
   ]
  },
  {
   "cell_type": "code",
   "execution_count": null,
   "metadata": {},
   "outputs": [],
   "source": [
    "densities_va = []\n",
    "for i in tqdm(range(0, B_zeta.shape[0])):\n",
    "    dens = predict_single_density(B_zeta[i].reshape(p,), grid, p_y_y0, part_1, phi_1_z, beta, tau_sq, None, 'hmc_ridge')\n",
    "    densities_va.append(dens)\n",
    "    \n",
    "pred_y_hmc_ridge = []\n",
    "densities_va\n",
    "for i in tqdm(range(0, B_zeta.shape[0])):\n",
    "    y_i = sp.integrate.trapz(densities_va[i]*grid, grid)\n",
    "    pred_y_hmc_ridge.append(y_i)\n",
    "    \n",
    "# variance prediction\n",
    "pred_y_hmc_ridge_var = []\n",
    "densities_va\n",
    "for i in tqdm(range(0, B_zeta.shape[0])):\n",
    "    y_i = sp.integrate.trapz(densities_va[i]*((grid - pred_y_hmc_ridge[i])**2), grid)\n",
    "    pred_y_hmc_ridge_var.append(y_i)"
   ]
  },
  {
   "cell_type": "code",
   "execution_count": null,
   "metadata": {},
   "outputs": [],
   "source": [
    "pred_y_hmc_ridge = []\n",
    "densities_va\n",
    "for i in tqdm(range(0, B_zeta.shape[0])):\n",
    "    y_i = sp.integrate.trapz(densities_va[i]*grid, grid)\n",
    "    pred_y_hmc_ridge.append(y_i)"
   ]
  },
  {
   "cell_type": "code",
   "execution_count": null,
   "metadata": {},
   "outputs": [],
   "source": [
    "# variance prediction\n",
    "pred_y_hmc_ridge_var = []\n",
    "densities_va\n",
    "for i in tqdm(range(0, B_zeta.shape[0])):\n",
    "    y_i = sp.integrate.trapz(densities_va[i]*((grid - pred_y_hmc_ridge[i])**2), grid)\n",
    "    pred_y_hmc_ridge_var.append(y_i)"
   ]
  },
  {
   "cell_type": "code",
   "execution_count": null,
   "metadata": {},
   "outputs": [],
   "source": [
    "df_var['hmc_ridge'] = pred_y_hmc_ridge_var\n",
    "df['hmc_ridge'] = pred_y_hmc_ridge_var"
   ]
  },
  {
   "cell_type": "code",
   "execution_count": null,
   "metadata": {},
   "outputs": [],
   "source": [
    "np.mean(np.array(pred_y_va_ridge_var) - np.array(pred_y_hmc_ridge_var))"
   ]
  },
  {
   "cell_type": "code",
   "execution_count": null,
   "metadata": {},
   "outputs": [],
   "source": [
    "df_var.to_csv('../../../data/commaai/predictions/cpl/densities_variance.csv', index = False)\n",
    "df.to_csv('../../../data/commaai/predictions/cpl/densities_variance_mean_pred.csv', index = False)"
   ]
  },
  {
   "cell_type": "code",
   "execution_count": null,
   "metadata": {},
   "outputs": [],
   "source": [
    "# mse\n",
    "np.mean((true_y - np.array(pred_y_hmc_horse))**2)"
   ]
  },
  {
   "cell_type": "code",
   "execution_count": null,
   "metadata": {},
   "outputs": [],
   "source": [
    "# mae\n",
    "np.mean(np.abs((true_y - np.array(pred_y_hmc_horse))))"
   ]
  },
  {
   "cell_type": "code",
   "execution_count": null,
   "metadata": {},
   "outputs": [],
   "source": [
    "# accuracy\n",
    "np.mean(np.abs(true_y - np.array(pred_y_hmc_horse)) < 6)"
   ]
  }
 ],
 "metadata": {
  "kernelspec": {
   "display_name": "Python 3",
   "language": "python",
   "name": "python3"
  },
  "language_info": {
   "codemirror_mode": {
    "name": "ipython",
    "version": 3
   },
   "file_extension": ".py",
   "mimetype": "text/x-python",
   "name": "python",
   "nbconvert_exporter": "python",
   "pygments_lexer": "ipython3",
   "version": "3.8.5"
  }
 },
 "nbformat": 4,
 "nbformat_minor": 4
}
