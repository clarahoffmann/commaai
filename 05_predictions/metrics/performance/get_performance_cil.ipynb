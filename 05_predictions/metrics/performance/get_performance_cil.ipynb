{
 "cells": [
  {
   "cell_type": "markdown",
   "metadata": {},
   "source": [
    "## Performance of the CPL\n",
    "Author: Clara Hoffmann \\\n",
    "Measures the performance of the CPL on the precise validation set."
   ]
  },
  {
   "cell_type": "code",
   "execution_count": 1,
   "metadata": {},
   "outputs": [],
   "source": [
    "import numpy as np\n",
    "import pandas as pd\n",
    "from scipy.stats import norm\n",
    "import scipy as sp\n",
    "from tqdm import tqdm\n",
    "from scipy.integrate import simps, trapz\n",
    "import matplotlib.pyplot as plt\n",
    "import imageio\n",
    "import multiprocessing\n",
    "from helpers import (Fy, find_closest_element,  compute_coverage, #predict_single_density,\n",
    "confidence_interval, confidence_interval, generate_fixed_terms, get_ci)\n",
    "from density_predictor_class_val import density_predictor"
   ]
  },
  {
   "cell_type": "code",
   "execution_count": 2,
   "metadata": {},
   "outputs": [],
   "source": [
    "# read in val data\n",
    "B_zeta = np.load('../../../../data/commaai/extracted_coefficients/copula_cil/Bzeta/B_zeta_val.npy')\n",
    "beta = np.genfromtxt('../../../../data/commaai/extracted_coefficients/copula_cil/beta/beta.csv', delimiter = ',')\n",
    "\n",
    "true_y = np.load('../../../../data/commaai/extracted_coefficients/copula_cil/Bzeta/labels_val.npy')\n",
    "true_z = np.load('../../../../data/commaai/extracted_coefficients/copula_cil/Bzeta/tr_labels_val.npy')\n",
    "\n",
    "B_zeta = B_zeta[np.abs(true_y) < 40,:] \n",
    "true_z = true_z[np.abs(true_y) < 40]\n",
    "true_y = true_y[np.abs(true_y) < 40]\n",
    "\n",
    "density_path = '../../../../data/commaai/density/gaussian_density.csv'\n",
    "density = pd.read_csv(density_path)\n",
    "\n",
    "no_points = 1000\n",
    "y_pred = np.load('../../../../data/commaai/predictions/mc_dropout/y_preds_cil.npy' ).reshape(-1)"
   ]
  },
  {
   "cell_type": "code",
   "execution_count": 3,
   "metadata": {},
   "outputs": [],
   "source": [
    "dens = density_predictor(B_zeta, true_y, density, no_points)"
   ]
  },
  {
   "cell_type": "code",
   "execution_count": 5,
   "metadata": {},
   "outputs": [
    {
     "name": "stderr",
     "output_type": "stream",
     "text": [
      "  0%|          | 68/94570 [00:00<02:20, 673.19it/s]"
     ]
    },
    {
     "name": "stdout",
     "output_type": "stream",
     "text": [
      "computing densities for each observation\n"
     ]
    },
    {
     "name": "stderr",
     "output_type": "stream",
     "text": [
      "100%|██████████| 94570/94570 [02:42<00:00, 583.45it/s]\n",
      "  1%|          | 519/94570 [00:00<00:18, 5183.68it/s]"
     ]
    },
    {
     "name": "stdout",
     "output_type": "stream",
     "text": [
      "computing mean prediction for each observation\n"
     ]
    },
    {
     "name": "stderr",
     "output_type": "stream",
     "text": [
      "100%|██████████| 94570/94570 [00:20<00:00, 4646.06it/s]\n",
      "  1%|          | 1147/94570 [00:00<00:08, 11465.69it/s]"
     ]
    },
    {
     "name": "stdout",
     "output_type": "stream",
     "text": [
      "computing variance prediction for each observation\n"
     ]
    },
    {
     "name": "stderr",
     "output_type": "stream",
     "text": [
      "100%|██████████| 94570/94570 [00:08<00:00, 11211.28it/s]\n"
     ]
    }
   ],
   "source": [
    "result_va_ridge = dens.get_density('va_ridge')\n",
    "#result_hmc_ridge = dens.get_density('hmc_ridge')"
   ]
  },
  {
   "cell_type": "code",
   "execution_count": 6,
   "metadata": {},
   "outputs": [
    {
     "name": "stderr",
     "output_type": "stream",
     "text": [
      "100%|██████████| 94570/94570 [02:24<00:00, 652.23it/s]\n",
      "100%|██████████| 94570/94570 [00:19<00:00, 4782.17it/s]\n",
      "100%|██████████| 94570/94570 [00:08<00:00, 11206.91it/s]\n"
     ]
    }
   ],
   "source": [
    "result_va_horse = dens.get_density('va_horseshoe')\n",
    "#result_hmc_horse = dens.get_density('hmc_horseshoe')"
   ]
  },
  {
   "cell_type": "code",
   "execution_count": 7,
   "metadata": {},
   "outputs": [],
   "source": [
    "#z_pred = B_zeta.dot(beta) \n",
    "#y_pred = np.array([density.loc[find_closest_element(norm.cdf(i), density['cdf']), 'axes'] for i in tqdm(z_pred)])\n",
    "y_pred = np.load('../../../../data/commaai/predictions/y_preds_cil_no_mc.npy').reshape(-1)"
   ]
  },
  {
   "cell_type": "code",
   "execution_count": 8,
   "metadata": {},
   "outputs": [],
   "source": [
    "#preds_1 = np.append(np.load('../../../../data/commaai/predictions/mc_dropout/mc_preds_cil_y_1.npy'), \n",
    "#                  np.load('../../../../data/commaai/predictions/mc_dropout/mc_preds_cil_y_2.npy'), axis = 0)\n",
    "#preds_mc = np.mean(preds_1, axis = 1).reshape(-1)"
   ]
  },
  {
   "cell_type": "code",
   "execution_count": 9,
   "metadata": {},
   "outputs": [],
   "source": [
    "x1 = np.load('../../../../data/commaai/predictions/mc_preds_cil_1_neu.npy').reshape(-1,1000)\n",
    "x2 = np.load('../../../../data/commaai/predictions/mc_preds_cil_2_neu.npy').reshape(-1,1000)\n",
    "x3 = np.load('../../../../data/commaai/predictions/mc_preds_cil_3_neu.npy').reshape(-1,1000)\n",
    "x4 = np.load('../../../../data/commaai/predictions/mc_preds_cil_4_neu.npy').reshape(-1,1000)\n",
    "\n",
    "preds_1 = np.append(np.append(np.append(x1, x2, axis = 0), x3, axis = 0), x4, axis = 0)\n",
    "preds_mc = np.mean(preds_1, axis = 1).reshape(-1)"
   ]
  },
  {
   "cell_type": "code",
   "execution_count": 10,
   "metadata": {},
   "outputs": [],
   "source": [
    "mdn_preds = np.load('../../../../data/commaai/predictions/mdn/cil/samples.npy')\n",
    "pred_mdn = np.mean(mdn_preds, axis = 1)"
   ]
  },
  {
   "cell_type": "code",
   "execution_count": 12,
   "metadata": {},
   "outputs": [
    {
     "name": "stdout",
     "output_type": "stream",
     "text": [
      "Validation Performance: \n",
      "MSE:\n",
      " CIL VA/Ridge: 10.564505277332286\n",
      " CIL VA/Horseshoe: 10.08426034928085\n",
      " MC-Dropout: 11.46415893298916\n",
      " MDN: 9.199817722941372\n",
      " CIL No Bayes: 11.91994377532943\n",
      " CIL Benchmark: 14.780700856508409\n",
      "MAE:\n",
      " CIL VA/Ridge: 1.8820454127620942\n",
      " CIL VA/Horseshoe: 1.8104470725771844\n",
      " MDN: 1.5866840416764973\n",
      " MC-Dropout: 1.9341478468806148\n",
      " CIL No Bayes: 1.9613557251596458\n",
      " CIL Benchmark: 2.3610827958126257\n",
      "Accuracy I:\n",
      " CIL VA/Ridge: 0.9526594057312044\n",
      " CIL VA/Horseshoe: 0.9571005604314264\n",
      " MDN: 0.9658559796975785\n",
      " MC-Dropout: 0.9533361531140954\n",
      " CIL No Bayes: 0.9473828909802263\n",
      " CIL Benchmark: 0.9205244792217405\n",
      "Accuracy II:\n",
      " CIL VA/Ridge: 0.7016918684572274\n",
      " CIL VA/Horseshoe: 0.7121603045363223\n",
      " MDN: 0.7728666596172148\n",
      " MC-Dropout: 0.6989531563920905\n",
      " CIL No Bayes: 0.6986042085227874\n",
      " CIL Benchmark: 0.5965422438405414\n"
     ]
    }
   ],
   "source": [
    "print('Validation Performance: ' +\n",
    "      '\\nMSE:' +\n",
    "     '\\n CIL VA/Ridge: ' + str(np.mean((true_y - np.array(result_va_ridge['mean predictions']))**2)) +\n",
    "     #'\\n CIL HMC/Ridge: ' + str(np.mean((true_y - np.array(result_hmc_ridge['mean prediction']))**2)) +\n",
    "     '\\n CIL VA/Horseshoe: ' + str(np.mean((true_y - np.array(result_va_horse['mean prediction']))**2)) +\n",
    "     #'\\n CIL HMC/Horseshoe: ' + str(np.mean((true_y - np.array(result_hmc_horse['mean prediction']))**2)) +\n",
    "     '\\n MC-Dropout: ' + str(np.mean((true_y - preds_mc)**2)) +\n",
    "     '\\n MDN: ' + str(np.mean((true_y - pred_mdn)**2)) +\n",
    "     '\\n CIL No Bayes: ' + str(np.mean((true_y - y_pred)**2)) +\n",
    "     '\\n CIL Benchmark: ' + str(np.mean((true_y - 0)**2)) +\n",
    "      \n",
    "    '\\nMAE:' +\n",
    "     '\\n CIL VA/Ridge: ' + str(np.mean(np.abs(true_y - np.array(result_va_ridge['mean predictions'])))) +\n",
    "     #'\\n CIL HMC/Ridge: ' + str(np.mean(np.abs(true_y - np.array(result_hmc_ridge['mean prediction'])))) +\n",
    "     '\\n CIL VA/Horseshoe: ' + str(np.mean(np.abs(true_y - np.array(result_va_horse['mean prediction'])))) +\n",
    "     #'\\n CIL HMC/Horseshoe: ' + str(np.mean(np.abs(true_y - np.array(result_hmc_horse['mean prediction'])))) +\n",
    "      '\\n MDN: ' + str(np.mean(np.abs(true_y - pred_mdn))) +\n",
    "      '\\n MC-Dropout: ' + str(np.mean(np.abs(true_y - preds_mc))) +\n",
    "     '\\n CIL No Bayes: ' + str(np.mean(np.abs(true_y - y_pred))) +\n",
    "     '\\n CIL Benchmark: ' + str(np.mean(np.abs(true_y - 0))) +\n",
    "      \n",
    "      '\\nAccuracy I:' +\n",
    "     '\\n CIL VA/Ridge: ' + str(np.mean(np.abs(true_y - np.array(result_va_ridge['mean predictions'])) <= 6)) +\n",
    "     #'\\n CIL HMC/Ridge: ' + str(np.mean(np.abs(true_y - np.array(result_hmc_ridge['mean prediction'])) <= 6)) +\n",
    "     '\\n CIL VA/Horseshoe: ' + str(np.mean(np.abs(true_y - np.array(result_va_horse['mean prediction'])) <= 6)) +\n",
    "     #'\\n CIL HMC/Horseshoe: ' + str(np.mean(np.abs(true_y - np.array(result_hmc_horse['mean prediction'])) <= 6)) +\n",
    "     '\\n MDN: ' + str(np.mean(np.abs(true_y - pred_mdn) <= 6)) +\n",
    "     '\\n MC-Dropout: ' + str(np.mean(np.abs(true_y - preds_mc) <= 6)) +\n",
    "      '\\n CIL No Bayes: ' + str(np.mean(np.abs(true_y - y_pred) <= 6)) +\n",
    "     '\\n CIL Benchmark: ' + str(np.mean(np.abs(true_y - 0) <= 6)) +\n",
    "    \n",
    "      '\\nAccuracy II:' +\n",
    "     '\\n CIL VA/Ridge: ' + str(np.mean(np.abs(true_y - np.array(result_va_ridge['mean predictions'])) <= 2)) +\n",
    "     #'\\n CIL HMC/Ridge: ' + str(np.mean(np.abs(true_y - np.array(result_hmc_ridge['mean prediction'])) <= 2)) +\n",
    "     '\\n CIL VA/Horseshoe: ' + str(np.mean(np.abs(true_y - np.array(result_va_horse['mean prediction'])) <= 2)) +\n",
    "     #'\\n CIL HMC/Horseshoe: ' + str(np.mean(np.abs(true_y - np.array(result_hmc_horse['mean prediction'])) <= 2)) +\n",
    "    '\\n MDN: ' + str(np.mean(np.abs(true_y - pred_mdn) <= 2)) +\n",
    "      '\\n MC-Dropout: ' + str(np.mean(np.abs(true_y - preds_mc) <= 2)) +\n",
    "     '\\n CIL No Bayes: ' + str(np.mean(np.abs(true_y - y_pred) <= 2)) +\n",
    "     '\\n CIL Benchmark: ' + str(np.mean(np.abs(true_y - 0) <= 2)) \n",
    "     )"
   ]
  },
  {
   "cell_type": "code",
   "execution_count": null,
   "metadata": {},
   "outputs": [],
   "source": [
    "print('Validation Performance: ' +\n",
    "      '\\nMSE:' +\n",
    "     '\\n CIL VA/Ridge: ' + str(np.mean((true_y - np.array(result_va_ridge['mean predictions']))**2)) +\n",
    "     #'\\n CIL HMC/Ridge: ' + str(np.mean((true_y - np.array(result_hmc_ridge['mean prediction']))**2)) +\n",
    "     '\\n CIL VA/Horseshoe: ' + str(np.mean((true_y - np.array(result_va_horse['mean prediction']))**2)) +\n",
    "     #'\\n CIL HMC/Horseshoe: ' + str(np.mean((true_y - np.array(result_hmc_horse['mean prediction']))**2)) +\n",
    "     '\\n MC-Dropout: ' + str(np.mean((true_y - preds_mc)**2)) +\n",
    "     '\\n MDN: ' + str(np.mean((true_y - pred_mdn)**2)) +\n",
    "     '\\n CIL No Bayes: ' + str(np.mean((true_y - y_pred)**2)) +\n",
    "     '\\n CIL Benchmark: ' + str(np.mean((true_y - 0)**2)) +\n",
    "      \n",
    "    '\\nMAE:' +\n",
    "     '\\n CIL VA/Ridge: ' + str(np.mean(np.abs(true_y - np.array(result_va_ridge['mean predictions'])))) +\n",
    "     #'\\n CIL HMC/Ridge: ' + str(np.mean(np.abs(true_y - np.array(result_hmc_ridge['mean prediction'])))) +\n",
    "     '\\n CIL VA/Horseshoe: ' + str(np.mean(np.abs(true_y - np.array(result_va_horse['mean prediction'])))) +\n",
    "     #'\\n CIL HMC/Horseshoe: ' + str(np.mean(np.abs(true_y - np.array(result_hmc_horse['mean prediction'])))) +\n",
    "      '\\n MDN: ' + str(np.mean(np.abs(true_y - pred_mdn))) +\n",
    "      '\\n MC-Dropout: ' + str(np.mean(np.abs(true_y - preds_mc))) +\n",
    "     '\\n CIL No Bayes: ' + str(np.mean(np.abs(true_y - y_pred))) +\n",
    "     '\\n CIL Benchmark: ' + str(np.mean(np.abs(true_y - 0))) +\n",
    "      \n",
    "      '\\nAccuracy I:' +\n",
    "     '\\n CIL VA/Ridge: ' + str(np.mean(np.abs(true_y - np.array(result_va_ridge['mean predictions'])) <= 6)) +\n",
    "     #'\\n CIL HMC/Ridge: ' + str(np.mean(np.abs(true_y - np.array(result_hmc_ridge['mean prediction'])) <= 6)) +\n",
    "     '\\n CIL VA/Horseshoe: ' + str(np.mean(np.abs(true_y - np.array(result_va_horse['mean prediction'])) <= 6)) +\n",
    "     #'\\n CIL HMC/Horseshoe: ' + str(np.mean(np.abs(true_y - np.array(result_hmc_horse['mean prediction'])) <= 6)) +\n",
    "     '\\n MDN: ' + str(np.mean(np.abs(true_y - pred_mdn) <= 6)) +\n",
    "     '\\n MC-Dropout: ' + str(np.mean(np.abs(true_y - preds_mc) <= 6)) +\n",
    "      '\\n CIL No Bayes: ' + str(np.mean(np.abs(true_y - y_pred) <= 6)) +\n",
    "     '\\n CIL Benchmark: ' + str(np.mean(np.abs(true_y - 0) <= 6)) +\n",
    "    \n",
    "      '\\nAccuracy II:' +\n",
    "     '\\n CIL VA/Ridge: ' + str(np.mean(np.abs(true_y - np.array(result_va_ridge['mean predictions'])) <= 2)) +\n",
    "     #'\\n CIL HMC/Ridge: ' + str(np.mean(np.abs(true_y - np.array(result_hmc_ridge['mean prediction'])) <= 2)) +\n",
    "     '\\n CIL VA/Horseshoe: ' + str(np.mean(np.abs(true_y - np.array(result_va_horse['mean prediction'])) <= 2)) +\n",
    "     #'\\n CIL HMC/Horseshoe: ' + str(np.mean(np.abs(true_y - np.array(result_hmc_horse['mean prediction'])) <= 2)) +\n",
    "    '\\n MDN: ' + str(np.mean(np.abs(true_y - pred_mdn) <= 2)) +\n",
    "      '\\n MC-Dropout: ' + str(np.mean(np.abs(true_y - preds_mc) <= 2)) +\n",
    "     '\\n CIL No Bayes: ' + str(np.mean(np.abs(true_y - y_pred) <= 2)) +\n",
    "     '\\n CIL Benchmark: ' + str(np.mean(np.abs(true_y - 0) <= 2)) \n",
    "     )"
   ]
  },
  {
   "cell_type": "code",
   "execution_count": null,
   "metadata": {},
   "outputs": [],
   "source": [
    "df = pd.DataFrame({'va_ridge' : result_va_ridge['densities'],\n",
    "                 'hmc_ridge' : result_hmc_ridge['densities'],\n",
    "                 'va_horse' : result_va_horse['densities'],\n",
    "                 'hmc_horse' : result_hmc_horse['densities']})"
   ]
  },
  {
   "cell_type": "code",
   "execution_count": null,
   "metadata": {},
   "outputs": [],
   "source": [
    "df.to_csv('../../../../data/commaai/predictions/cil/densities.csv')"
   ]
  }
 ],
 "metadata": {
  "kernelspec": {
   "display_name": "Python 3",
   "language": "python",
   "name": "python3"
  },
  "language_info": {
   "codemirror_mode": {
    "name": "ipython",
    "version": 3
   },
   "file_extension": ".py",
   "mimetype": "text/x-python",
   "name": "python",
   "nbconvert_exporter": "python",
   "pygments_lexer": "ipython3",
   "version": "3.8.5"
  }
 },
 "nbformat": 4,
 "nbformat_minor": 4
}
