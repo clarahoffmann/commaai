{
 "cells": [
  {
   "cell_type": "markdown",
   "metadata": {},
   "source": [
    "## Performance of the CPL\n",
    "Author: Clara Hoffmann \\\n",
    "Measures the performance of the CPL on the precise validation set."
   ]
  },
  {
   "cell_type": "code",
   "execution_count": 1,
   "metadata": {},
   "outputs": [],
   "source": [
    "import numpy as np\n",
    "import pandas as pd\n",
    "from scipy.stats import norm\n",
    "import scipy as sp\n",
    "from tqdm import tqdm\n",
    "from scipy.integrate import simps, trapz\n",
    "import matplotlib.pyplot as plt\n",
    "import imageio\n",
    "import multiprocessing\n",
    "from helpers import (Fy, find_closest_element,  compute_coverage, #predict_single_density,\n",
    "confidence_interval, confidence_interval, generate_fixed_terms, get_ci)\n",
    "from density_predictor_class import density_predictor"
   ]
  },
  {
   "cell_type": "code",
   "execution_count": 3,
   "metadata": {},
   "outputs": [],
   "source": [
    "# read in val data\n",
    "#B_zeta = np.load('../../../../data/commaai/extracted_coefficients/20201027_filtered_gaussian_resampled/Bzeta/B_zeta_val.npy')\n",
    "B_zeta = np.load('../../../../data/commaai/extracted_coefficients/copula_cpl/Bzeta/B_zeta_val.npy')\n",
    "B_zeta = B_zeta.reshape(B_zeta.shape[0], B_zeta.shape[2])\n",
    "true_y = np.load('../../../../data/commaai/extracted_coefficients/copula_cpl/Bzeta/labels_val.npy')\n",
    "\n",
    "density_path = '../../../../data/commaai/density/gaussian_density_filtered.csv'\n",
    "density = pd.read_csv(density_path)\n",
    "\n",
    "# number of points at which to evaluate the predictive densities\n",
    "no_points = 500"
   ]
  },
  {
   "cell_type": "code",
   "execution_count": 4,
   "metadata": {},
   "outputs": [],
   "source": [
    "# mc_dropout predictions:\n",
    "preds = np.append(np.load('../../../../data/commaai/predictions/mc_dropout/mc_preds_2.npy'), \n",
    "                  np.load('../../../../data/commaai/predictions/mc_dropout/mc_preds_1.npy'), axis = 0)\n",
    "preds_mc = np.mean(preds, axis = 1)"
   ]
  },
  {
   "cell_type": "code",
   "execution_count": 6,
   "metadata": {},
   "outputs": [],
   "source": [
    "dens = density_predictor(B_zeta, true_y, density, no_points)"
   ]
  },
  {
   "cell_type": "code",
   "execution_count": 13,
   "metadata": {},
   "outputs": [],
   "source": [
    "mdn_preds = np.load('../../../../data/commaai/predictions/mdn/cpl/samples.npy')\n",
    "pred_mdn = np.mean(mdn_preds, axis = 1)"
   ]
  },
  {
   "cell_type": "code",
   "execution_count": 18,
   "metadata": {},
   "outputs": [
    {
     "data": {
      "text/plain": [
       "array([  0.54165438,   3.59685725,   4.2000025 , ..., -14.92187974,\n",
       "       -12.54044262,   7.53927656])"
      ]
     },
     "execution_count": 18,
     "metadata": {},
     "output_type": "execute_result"
    }
   ],
   "source": [
    "pred_mdn.reshape(-1)"
   ]
  },
  {
   "cell_type": "code",
   "execution_count": 7,
   "metadata": {},
   "outputs": [
    {
     "name": "stderr",
     "output_type": "stream",
     "text": [
      "  1%|          | 85/10472 [00:00<00:12, 845.89it/s]"
     ]
    },
    {
     "name": "stdout",
     "output_type": "stream",
     "text": [
      "computing densities for each observation\n"
     ]
    },
    {
     "name": "stderr",
     "output_type": "stream",
     "text": [
      "100%|██████████| 10472/10472 [00:12<00:00, 841.40it/s]\n",
      "  6%|▌         | 641/10472 [00:00<00:01, 6404.51it/s]"
     ]
    },
    {
     "name": "stdout",
     "output_type": "stream",
     "text": [
      "computing mean prediction for each observation\n"
     ]
    },
    {
     "name": "stderr",
     "output_type": "stream",
     "text": [
      "100%|██████████| 10472/10472 [00:01<00:00, 6366.87it/s]\n",
      " 15%|█▍        | 1526/10472 [00:00<00:00, 15255.00it/s]"
     ]
    },
    {
     "name": "stdout",
     "output_type": "stream",
     "text": [
      "computing variance prediction for each observation\n"
     ]
    },
    {
     "name": "stderr",
     "output_type": "stream",
     "text": [
      "100%|██████████| 10472/10472 [00:00<00:00, 15410.36it/s]\n",
      "100%|██████████| 10472/10472 [01:30<00:00, 115.80it/s]\n",
      "100%|██████████| 10472/10472 [00:00<00:00, 15409.72it/s]\n",
      "100%|██████████| 10472/10472 [00:00<00:00, 16169.71it/s]\n",
      "100%|██████████| 10472/10472 [00:12<00:00, 810.45it/s]\n",
      "100%|██████████| 10472/10472 [00:00<00:00, 17820.10it/s]\n",
      "100%|██████████| 10472/10472 [00:00<00:00, 16503.94it/s]\n",
      "100%|██████████| 10472/10472 [13:39<00:00, 12.78it/s]\n",
      "100%|██████████| 10472/10472 [00:00<00:00, 14859.20it/s]\n",
      "100%|██████████| 10472/10472 [00:00<00:00, 16034.22it/s]\n"
     ]
    }
   ],
   "source": [
    "result_va_ridge = dens.get_density('va_ridge')\n",
    "result_hmc_ridge = dens.get_density('hmc_ridge')\n",
    "result_va_horse = dens.get_density('va_horseshoe')\n",
    "result_hmc_horse = dens.get_density('hmc_horseshoe')"
   ]
  },
  {
   "cell_type": "code",
   "execution_count": 6,
   "metadata": {},
   "outputs": [
    {
     "name": "stdout",
     "output_type": "stream",
     "text": [
      "Validation Performance: \n",
      "MSE:\n",
      " CPL VA/Ridge: 6.280307985896987\n",
      " CPL HMC/Ridge: 6.280432798344231\n",
      " MC-Dropout: 6.3471034626787475\n",
      " CPL VA/Horseshoe: 5.655448433956707\n",
      "MAE:\n",
      " CPL VA/Ridge: 1.340239464764066\n",
      " CPL HMC/Ridge: 1.3402254815961587\n",
      " MC-Dropout: 1.4046055209861767\n",
      " CPL VA/Horseshoe: 1.292931062885251\n",
      "Accuracy:\n",
      " CPL VA/Ridge: 0.9808059587471352\n",
      " CPL HMC/Ridge: 0.9808059587471352\n",
      " MC-Dropout: 0.9836707410236822\n",
      " CPL VA/Horseshoe: 0.9821428571428571\n",
      "Accuracy II :\n",
      " CPL VA/Ridge: 0.8220970206264324\n",
      " CPL HMC/Ridge: 0.8220015278838808\n",
      " MC-Dropout: 0.8008021390374331\n",
      " CPL VA/Horseshoe: 0.8273491214667685\n"
     ]
    }
   ],
   "source": [
    "print('Validation Performance: ' +\n",
    "      '\\nMSE:' +\n",
    "      '\\n CPL VA/Ridge: ' + str(np.mean((true_y - np.array(result_va_ridge['mean predictions']))**2)) +\n",
    "      '\\n CPL HMC/Ridge: ' + str(np.mean((true_y - np.array(result_hmc_ridge['mean prediction']))**2)) +\n",
    "      '\\n MC-Dropout: ' + str(np.mean((true_y - preds_mc.reshape(10472,))**2)) +\n",
    "      '\\n CPL VA/Horseshoe: ' + str(np.mean((true_y - np.array(result_va_horse['mean prediction']))**2)) +\n",
    "      \n",
    "      '\\nMAE:' +\n",
    "      '\\n CPL VA/Ridge: ' + str(np.mean(np.abs(true_y - np.array(result_va_ridge['mean predictions'])))) +\n",
    "      '\\n CPL HMC/Ridge: ' + str(np.mean(np.abs(true_y - np.array(result_hmc_ridge['mean prediction'])))) +\n",
    "      '\\n MC-Dropout: ' + str(np.mean(np.abs(true_y - preds_mc.reshape(10472,)))) +\n",
    "      '\\n CPL VA/Horseshoe: ' + str(np.mean(np.abs(true_y - np.array(result_va_horse['mean prediction'])))) +\n",
    "      \n",
    "      '\\nAccuracy:' +\n",
    "      '\\n CPL VA/Ridge: ' + str(np.mean(np.abs(true_y - np.array(result_va_ridge['mean predictions'])) <= 6)) +\n",
    "       '\\n CPL HMC/Ridge: ' + str(np.mean(np.abs(true_y - np.array(result_hmc_ridge['mean prediction'])) <= 6)) +\n",
    "      '\\n MC-Dropout: ' + str(np.mean(np.abs(true_y - preds_mc.reshape(10472,)) <= 6)) +\n",
    "      '\\n CPL VA/Horseshoe: ' + str(np.mean(np.abs(true_y - np.array(result_va_horse['mean prediction'])) <= 6)) +\n",
    "      \n",
    "      '\\nAccuracy II :' +\n",
    "      '\\n CPL VA/Ridge: ' + str(np.mean(np.abs(true_y - np.array(result_va_ridge['mean predictions'])) <= 2)) +\n",
    "      '\\n CPL HMC/Ridge: ' + str(np.mean(np.abs(true_y - np.array(result_hmc_ridge['mean prediction'])) <= 2)) +\n",
    "     '\\n MC-Dropout: ' + str(np.mean(np.abs(true_y - preds_mc.reshape(10472,)) <= 2)) +\n",
    "    '\\n CPL VA/Horseshoe: ' + str(np.mean(np.abs(true_y - np.array(result_va_horse['mean prediction'])) <= 2)) +\n",
    "      \n",
    "     '\\nAccuracy III :' +\n",
    "      '\\n CPL VA/Ridge: ' + str(np.mean(np.abs(true_y - np.array(result_va_ridge['mean predictions'])) <= 1)) +\n",
    "      '\\n CPL HMC/Ridge: ' + str(np.mean(np.abs(true_y - np.array(result_hmc_ridge['mean prediction'])) <= 1)) +\n",
    "     '\\n MC-Dropout: ' + str(np.mean(np.abs(true_y - preds_mc.reshape(10472,)) <= 1)) +\n",
    "    '\\n CPL VA/Horseshoe: ' + str(np.mean(np.abs(true_y - np.array(result_va_horse['mean prediction'])) <= 1)) +\n",
    "      \n",
    "     '\\nAccuracy IV :' +\n",
    "      '\\n CPL VA/Ridge: ' + str(np.mean(np.abs(true_y - np.array(result_va_ridge['mean predictions'])) <= .5)) +\n",
    "      '\\n CPL HMC/Ridge: ' + str(np.mean(np.abs(true_y - np.array(result_hmc_ridge['mean prediction'])) <= .5)) +\n",
    "     '\\n MC-Dropout: ' + str(np.mean(np.abs(true_y - preds_mc.reshape(10472,)) <= .5)) +\n",
    "    '\\n CPL VA/Horseshoe: ' + str(np.mean(np.abs(true_y - np.array(result_va_horse['mean prediction'])) <= .5)))"
   ]
  },
  {
   "cell_type": "code",
   "execution_count": 22,
   "metadata": {},
   "outputs": [],
   "source": [
    "pred_mdn = pred_mdn.reshape(-1)\n",
    "preds_mc = preds_mc.reshape(-1)"
   ]
  },
  {
   "cell_type": "code",
   "execution_count": 24,
   "metadata": {},
   "outputs": [
    {
     "name": "stdout",
     "output_type": "stream",
     "text": [
      "Validation Performance: \n",
      "MSE:\n",
      " CPL Benchmark: 14.610926279602749\n",
      " CPL VA/Ridge: 6.280307985896987\n",
      " CPL HMC/Ridge: 6.280432798344231\n",
      " CPL VA/Horseshoe: 5.655448433956707\n",
      " CPL HMC/Horseshoe: 5.664642391219545\n",
      " MDN: 6.6299157147124514\n",
      " MC-Dropout: 6.3471034626787475\n",
      "MAE:\n",
      " CPL Benchmark: 2.1570091673032854\n",
      " CPL VA/Ridge: 1.340239464764066\n",
      " CPL HMC/Ridge: 1.3402254815961587\n",
      " CPL VA/Horseshoe: 1.292931062885251\n",
      " CPL HMC/Horseshoe: 1.2928030458851116\n",
      " MDN: 1.361488987986964\n",
      " MC-Dropout: 1.4046055209861767\n",
      "Accuracy:\n",
      " CPL Benchmark: 0.9321046600458365\n",
      " CPL VA/Ridge: 0.9808059587471352\n",
      " CPL HMC/Ridge: 0.9808059587471352\n",
      " CPL VA/Horseshoe: 0.9821428571428571\n",
      " CPL HMC/Horseshoe: 0.9821428571428571\n",
      " MDN: 0.9815699006875478\n",
      " MC-Dropout: 0.9836707410236822\n",
      "Accuracy II :\n",
      " CPL Benchmark: 0.6608097784568373\n",
      " CPL VA/Ridge: 0.8220970206264324\n",
      " CPL HMC/Ridge: 0.8220015278838808\n",
      " CPL VA/Horseshoe: 0.8273491214667685\n",
      " CPL HMC/Horseshoe: 0.8275401069518716\n",
      " MDN: 0.8191367456073338\n",
      " MC-Dropout: 0.8008021390374331\n",
      "Accuracy III :\n",
      " CPL Benchmark: 0.5211993888464477\n",
      " CPL VA/Ridge: 0.5718105423987777\n",
      " CPL HMC/Ridge: 0.5714285714285714\n",
      " CPL VA/Horseshoe: 0.5822192513368984\n",
      " CPL HMC/Horseshoe: 0.5815508021390374\n",
      " MDN: 0.5454545454545454\n",
      " MC-Dropout: 0.5313216195569137\n",
      "Accuracy IV :\n",
      " CPL Benchmark: 0.3307868601986249\n",
      " CPL VA/Ridge: 0.32161955691367455\n",
      " CPL HMC/Ridge: 0.3212375859434683\n",
      " CPL VA/Horseshoe: 0.33546600458365167\n",
      " CPL HMC/Horseshoe: 0.33508403361344535\n",
      " MDN: 0.30366692131398015\n",
      " MC-Dropout: 0.29383116883116883\n"
     ]
    }
   ],
   "source": [
    "print('Validation Performance: ' +\n",
    "      '\\nMSE:' +\n",
    "      '\\n CPL Benchmark: ' + str(np.mean(np.abs(true_y - 0)**2)) +\n",
    "     '\\n CPL VA/Ridge: ' + str(np.mean((true_y - np.array(result_va_ridge['mean predictions']))**2)) +\n",
    "     '\\n CPL HMC/Ridge: ' + str(np.mean((true_y - np.array(result_hmc_ridge['mean prediction']))**2)) +\n",
    "     '\\n CPL VA/Horseshoe: ' + str(np.mean((true_y - np.array(result_va_horse['mean prediction']))**2)) +\n",
    "     '\\n CPL HMC/Horseshoe: ' + str(np.mean((true_y - np.array(result_hmc_horse['mean prediction']))**2)) +\n",
    "      '\\n MDN: ' + str(np.mean((true_y - pred_mdn)**2)) +\n",
    "      '\\n MC-Dropout: ' + str(np.mean((true_y - preds_mc)**2)) +\n",
    "      \n",
    "    '\\nMAE:' +\n",
    "      '\\n CPL Benchmark: ' + str(np.mean(np.abs(true_y - 0))) +\n",
    "     '\\n CPL VA/Ridge: ' + str(np.mean(np.abs(true_y - np.array(result_va_ridge['mean predictions'])))) +\n",
    "     '\\n CPL HMC/Ridge: ' + str(np.mean(np.abs(true_y - np.array(result_hmc_ridge['mean prediction'])))) +\n",
    "     '\\n CPL VA/Horseshoe: ' + str(np.mean(np.abs(true_y - np.array(result_va_horse['mean prediction'])))) +\n",
    "     '\\n CPL HMC/Horseshoe: ' + str(np.mean(np.abs(true_y - np.array(result_hmc_horse['mean prediction'])))) +\n",
    "      '\\n MDN: ' + str(np.mean(np.abs(true_y - pred_mdn))) +\n",
    "      '\\n MC-Dropout: ' + str(np.mean(np.abs(true_y - preds_mc))) +\n",
    "      \n",
    "      '\\nAccuracy:' +\n",
    "     '\\n CPL Benchmark: ' + str(np.mean(np.abs(true_y - 0) <= 6)) +\n",
    "     '\\n CPL VA/Ridge: ' + str(np.mean(np.abs(true_y - np.array(result_va_ridge['mean predictions'])) <= 6)) +\n",
    "     '\\n CPL HMC/Ridge: ' + str(np.mean(np.abs(true_y - np.array(result_hmc_ridge['mean prediction'])) <= 6)) +\n",
    "     '\\n CPL VA/Horseshoe: ' + str(np.mean(np.abs(true_y - np.array(result_va_horse['mean prediction'])) <= 6)) +\n",
    "     '\\n CPL HMC/Horseshoe: ' + str(np.mean(np.abs(true_y - np.array(result_hmc_horse['mean prediction'])) <= 6)) +\n",
    "      '\\n MDN: ' + str(np.mean(np.abs(true_y - pred_mdn) <= 6)) +\n",
    "      '\\n MC-Dropout: ' + str(np.mean(np.abs(true_y - preds_mc) <= 6)) +\n",
    "      \n",
    "      '\\nAccuracy II :' +\n",
    "      '\\n CPL Benchmark: ' + str(np.mean(np.abs(true_y - 0) <= 2)) +\n",
    "     '\\n CPL VA/Ridge: ' + str(np.mean(np.abs(true_y - np.array(result_va_ridge['mean predictions'])) <= 2)) +\n",
    "     '\\n CPL HMC/Ridge: ' + str(np.mean(np.abs(true_y - np.array(result_hmc_ridge['mean prediction'])) <= 2)) +\n",
    "     '\\n CPL VA/Horseshoe: ' + str(np.mean(np.abs(true_y - np.array(result_va_horse['mean prediction'])) <= 2)) +\n",
    "     '\\n CPL HMC/Horseshoe: ' + str(np.mean(np.abs(true_y - np.array(result_hmc_horse['mean prediction'])) <= 2)) +\n",
    "      '\\n MDN: ' + str(np.mean(np.abs(true_y - pred_mdn) <= 2)) +\n",
    "      '\\n MC-Dropout: ' + str(np.mean(np.abs(true_y - preds_mc) < 2)) +\n",
    "                            \n",
    "    '\\nAccuracy III :' +\n",
    "      '\\n CPL Benchmark: ' + str(np.mean(np.abs(true_y - 0) <= 1)) +\n",
    "     '\\n CPL VA/Ridge: ' + str(np.mean(np.abs(true_y - np.array(result_va_ridge['mean predictions'])) <= 1)) +\n",
    "     '\\n CPL HMC/Ridge: ' + str(np.mean(np.abs(true_y - np.array(result_hmc_ridge['mean prediction'])) <= 1)) +\n",
    "     '\\n CPL VA/Horseshoe: ' + str(np.mean(np.abs(true_y - np.array(result_va_horse['mean prediction'])) <= 1)) +\n",
    "     '\\n CPL HMC/Horseshoe: ' + str(np.mean(np.abs(true_y - np.array(result_hmc_horse['mean prediction'])) <= 1)) +\n",
    "      '\\n MDN: ' + str(np.mean(np.abs(true_y - pred_mdn) <= 1)) +\n",
    "      '\\n MC-Dropout: ' + str(np.mean(np.abs(true_y - preds_mc) < 1)) +\n",
    "                             \n",
    "      '\\nAccuracy IV :' +\n",
    "      '\\n CPL Benchmark: ' + str(np.mean(np.abs(true_y - 0) <= .5)) +\n",
    "     '\\n CPL VA/Ridge: ' + str(np.mean(np.abs(true_y - np.array(result_va_ridge['mean predictions'])) <= .5)) +\n",
    "     '\\n CPL HMC/Ridge: ' + str(np.mean(np.abs(true_y - np.array(result_hmc_ridge['mean prediction'])) <= .5)) +\n",
    "     '\\n CPL VA/Horseshoe: ' + str(np.mean(np.abs(true_y - np.array(result_va_horse['mean prediction'])) <= .5)) +\n",
    "     '\\n CPL HMC/Horseshoe: ' + str(np.mean(np.abs(true_y - np.array(result_hmc_horse['mean prediction'])) <= .5)) +\n",
    "      '\\n MDN: ' + str(np.mean(np.abs(true_y - pred_mdn) <= .5)) +\n",
    "      '\\n MC-Dropout: ' + str(np.mean(np.abs(true_y - preds_mc) < .5)))  \n",
    "     "
   ]
  },
  {
   "cell_type": "code",
   "execution_count": null,
   "metadata": {},
   "outputs": [],
   "source": [
    "df = pd.DataFrame({'va_ridge' : result_va_ridge['densities'],\n",
    "                 'hmc_ridge' : result_hmc_ridge['densities'],\n",
    "                 'va_horse' : result_va_horse['densities'],\n",
    "                 'hmc_horse' : result_hmc_horse['densities']})"
   ]
  },
  {
   "cell_type": "code",
   "execution_count": null,
   "metadata": {},
   "outputs": [],
   "source": [
    "df.to_csv('../../../../data/commaai/predictions/cpl/densities.csv')"
   ]
  }
 ],
 "metadata": {
  "kernelspec": {
   "display_name": "Python 3",
   "language": "python",
   "name": "python3"
  },
  "language_info": {
   "codemirror_mode": {
    "name": "ipython",
    "version": 3
   },
   "file_extension": ".py",
   "mimetype": "text/x-python",
   "name": "python",
   "nbconvert_exporter": "python",
   "pygments_lexer": "ipython3",
   "version": "3.8.10"
  }
 },
 "nbformat": 4,
 "nbformat_minor": 4
}
