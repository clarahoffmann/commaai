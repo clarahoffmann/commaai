{
 "cells": [
  {
   "cell_type": "markdown",
   "metadata": {},
   "source": [
    "## Performance of the CPL\n",
    "Author: Clara Hoffmann \\\n",
    "Measures the performance of the CPL on the precise validation set."
   ]
  },
  {
   "cell_type": "code",
   "execution_count": 1,
   "metadata": {},
   "outputs": [],
   "source": [
    "import numpy as np\n",
    "import pandas as pd\n",
    "from scipy.stats import norm\n",
    "import scipy as sp\n",
    "from tqdm import tqdm\n",
    "from scipy.integrate import simps, trapz\n",
    "import matplotlib.pyplot as plt\n",
    "import imageio\n",
    "import multiprocessing\n",
    "from helpers import (Fy, find_closest_element,  compute_coverage, #predict_single_density,\n",
    "confidence_interval, confidence_interval, generate_fixed_terms, get_ci)\n",
    "from density_predictor_class import density_predictor"
   ]
  },
  {
   "cell_type": "code",
   "execution_count": 2,
   "metadata": {},
   "outputs": [],
   "source": [
    "# read in val data\n",
    "B_zeta = np.load('../../../../data/commaai/extracted_coefficients/20201027_filtered_gaussian_resampled/Bzeta/B_zeta_val.npy')\n",
    "B_zeta = B_zeta.reshape(B_zeta.shape[0], B_zeta.shape[2])\n",
    "true_y = np.load('../../../../data/commaai/extracted_coefficients/20201027_filtered_gaussian_resampled/Bzeta/labels_val.npy')\n",
    "\n",
    "density_path = '../../../../data/commaai/density/gaussian_density_filtered.csv'\n",
    "density = pd.read_csv(density_path)\n",
    "\n",
    "# number of points at which to evaluate the predictive densities\n",
    "no_points = 500"
   ]
  },
  {
   "cell_type": "code",
   "execution_count": 3,
   "metadata": {},
   "outputs": [],
   "source": [
    "dens = density_predictor(B_zeta, true_y, density, no_points)"
   ]
  },
  {
   "cell_type": "code",
   "execution_count": 5,
   "metadata": {},
   "outputs": [
    {
     "name": "stderr",
     "output_type": "stream",
     "text": [
      "  1%|          | 87/10472 [00:00<00:11, 866.59it/s]"
     ]
    },
    {
     "name": "stdout",
     "output_type": "stream",
     "text": [
      "computing densities for each observation\n"
     ]
    },
    {
     "name": "stderr",
     "output_type": "stream",
     "text": [
      "100%|██████████| 10472/10472 [00:12<00:00, 847.91it/s]\n",
      "  6%|▋         | 676/10472 [00:00<00:01, 6758.40it/s]"
     ]
    },
    {
     "name": "stdout",
     "output_type": "stream",
     "text": [
      "computing mean prediction for each observation\n"
     ]
    },
    {
     "name": "stderr",
     "output_type": "stream",
     "text": [
      "100%|██████████| 10472/10472 [00:01<00:00, 6727.86it/s]\n",
      " 15%|█▌        | 1610/10472 [00:00<00:00, 16099.75it/s]"
     ]
    },
    {
     "name": "stdout",
     "output_type": "stream",
     "text": [
      "computing variance prediction for each observation\n"
     ]
    },
    {
     "name": "stderr",
     "output_type": "stream",
     "text": [
      "100%|██████████| 10472/10472 [00:00<00:00, 16315.23it/s]\n"
     ]
    }
   ],
   "source": [
    "result_va_ridge = dens.get_density('va_ridge')"
   ]
  },
  {
   "cell_type": "code",
   "execution_count": 6,
   "metadata": {},
   "outputs": [
    {
     "name": "stderr",
     "output_type": "stream",
     "text": [
      "100%|██████████| 10472/10472 [01:16<00:00, 137.63it/s]\n",
      "100%|██████████| 10472/10472 [00:00<00:00, 19757.54it/s]\n",
      "100%|██████████| 10472/10472 [00:00<00:00, 16690.20it/s]\n"
     ]
    }
   ],
   "source": [
    "result_hmc_ridge = dens.get_density('hmc_ridge')"
   ]
  },
  {
   "cell_type": "code",
   "execution_count": 7,
   "metadata": {},
   "outputs": [
    {
     "name": "stderr",
     "output_type": "stream",
     "text": [
      "100%|██████████| 10472/10472 [00:12<00:00, 841.86it/s]\n",
      "100%|██████████| 10472/10472 [00:00<00:00, 19938.79it/s]\n",
      "100%|██████████| 10472/10472 [00:00<00:00, 16963.36it/s]\n"
     ]
    }
   ],
   "source": [
    "result_va_horse = dens.get_density('va_horseshoe')"
   ]
  },
  {
   "cell_type": "code",
   "execution_count": 4,
   "metadata": {},
   "outputs": [
    {
     "name": "stderr",
     "output_type": "stream",
     "text": [
      "100%|██████████| 10472/10472 [16:35<00:00, 10.52it/s]\n",
      "100%|██████████| 10472/10472 [00:00<00:00, 19336.13it/s]\n",
      "100%|██████████| 10472/10472 [00:00<00:00, 16819.01it/s]\n"
     ]
    }
   ],
   "source": [
    "result_hmc_horse = dens.get_density('hmc_horseshoe')"
   ]
  },
  {
   "cell_type": "code",
   "execution_count": null,
   "metadata": {},
   "outputs": [],
   "source": [
    "result_va_ridge = dens.get_density('va_ridge')\n",
    "result_hmc_ridge = dens.get_density('hmc_ridge')\n",
    "result_va_horse = dens.get_density('va_horseshoe')\n",
    "result_hmc_horse = dens.get_density('hmc_horseshoe')"
   ]
  },
  {
   "cell_type": "code",
   "execution_count": 12,
   "metadata": {},
   "outputs": [
    {
     "name": "stdout",
     "output_type": "stream",
     "text": [
      "Validation Performance: \n",
      "MSE:\n",
      " CPL Benchmark: 14.610926279602749\n",
      " CPL VA/Ridge: 8.742672781658126\n",
      " CPL HMC/Ridge: 8.738334359535159\n",
      " CPL VA/Horseshoe: 8.675970189106746\n",
      " CPL HMC/Horseshoe: 8.647669965997942\n",
      "MAE:\n",
      " CPL Benchmark: 2.1570091673032854\n",
      " CPL VA/Ridge: 1.8209580931671063\n",
      " CPL HMC/Ridge: 1.8200717288647659\n",
      " CPL VA/Horseshoe: 1.729607107517588\n",
      " CPL HMC/Horseshoe: 1.7259873478202725\n",
      "Accuracy:\n",
      " CPL Benchmark: 0.9281894576012223\n",
      " CPL VA/Ridge: 0.9805194805194806\n",
      " CPL HMC/Ridge: 0.9806149732620321\n",
      " CPL VA/Horseshoe: 0.9764132925897632\n",
      " CPL HMC/Horseshoe: 0.9764132925897632\n"
     ]
    }
   ],
   "source": [
    "print('Validation Performance: ' +\n",
    "      '\\nMSE:' +\n",
    "      '\\n CPL Benchmark: ' + str(np.mean(np.abs(true_y - 0)**2)) +\n",
    "     '\\n CPL VA/Ridge: ' + str(np.mean((true_y - np.array(result_va_ridge['mean predictions']))**2)) +\n",
    "     '\\n CPL HMC/Ridge: ' + str(np.mean((true_y - np.array(result_hmc_ridge['mean prediction']))**2)) +\n",
    "     '\\n CPL VA/Horseshoe: ' + str(np.mean((true_y - np.array(result_va_horse['mean prediction']))**2)) +\n",
    "     '\\n CPL HMC/Horseshoe: ' + str(np.mean((true_y - np.array(result_hmc_horse['mean prediction']))**2)) +\n",
    "      \n",
    "    '\\nMAE:' +\n",
    "      '\\n CPL Benchmark: ' + str(np.mean(np.abs(true_y - 0))) +\n",
    "     '\\n CPL VA/Ridge: ' + str(np.mean(np.abs(true_y - np.array(result_va_ridge['mean predictions'])))) +\n",
    "     '\\n CPL HMC/Ridge: ' + str(np.mean(np.abs(true_y - np.array(result_hmc_ridge['mean prediction'])))) +\n",
    "     '\\n CPL VA/Horseshoe: ' + str(np.mean(np.abs(true_y - np.array(result_va_horse['mean prediction'])))) +\n",
    "     '\\n CPL HMC/Horseshoe: ' + str(np.mean(np.abs(true_y - np.array(result_hmc_horse['mean prediction'])))) +\n",
    "      \n",
    "      '\\nAccuracy:' +\n",
    "     '\\n CPL Benchmark: ' + str(np.mean(np.abs(true_y - 0) < 6)) +\n",
    "     '\\n CPL VA/Ridge: ' + str(np.mean(np.abs(true_y - np.array(result_va_ridge['mean predictions'])) < 6)) +\n",
    "     '\\n CPL HMC/Ridge: ' + str(np.mean(np.abs(true_y - np.array(result_hmc_ridge['mean prediction'])) < 6)) +\n",
    "     '\\n CPL VA/Horseshoe: ' + str(np.mean(np.abs(true_y - np.array(result_va_horse['mean prediction'])) < 6)) +\n",
    "     '\\n CPL HMC/Horseshoe: ' + str(np.mean(np.abs(true_y - np.array(result_hmc_horse['mean prediction'])) < 6))\n",
    "     )"
   ]
  },
  {
   "cell_type": "code",
   "execution_count": null,
   "metadata": {},
   "outputs": [],
   "source": [
    "df = pd.DataFrame({'va_ridge' : result_va_ridge['densities'],\n",
    "                 'hmc_ridge' : result_hmc_ridge['densities'],\n",
    "                 'va_horse' : result_va_horse['densities'],\n",
    "                 'hmc_horse' : result_hmc_horse['densities']})"
   ]
  },
  {
   "cell_type": "code",
   "execution_count": null,
   "metadata": {},
   "outputs": [],
   "source": [
    "df.to_csv('../../../../data/commaai/predictions/cpl/densities.csv')"
   ]
  }
 ],
 "metadata": {
  "kernelspec": {
   "display_name": "Python 3",
   "language": "python",
   "name": "python3"
  },
  "language_info": {
   "codemirror_mode": {
    "name": "ipython",
    "version": 3
   },
   "file_extension": ".py",
   "mimetype": "text/x-python",
   "name": "python",
   "nbconvert_exporter": "python",
   "pygments_lexer": "ipython3",
   "version": "3.8.5"
  }
 },
 "nbformat": 4,
 "nbformat_minor": 4
}
