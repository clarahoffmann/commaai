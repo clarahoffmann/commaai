{
 "cells": [
  {
   "cell_type": "markdown",
   "metadata": {},
   "source": [
    "## Performance of the CPL\n",
    "Author: Clara Hoffmann \\\n",
    "Measures the performance of the CPL on the precise validation set."
   ]
  },
  {
   "cell_type": "code",
   "execution_count": null,
   "metadata": {},
   "outputs": [],
   "source": [
    "import numpy as np\n",
    "import pandas as pd\n",
    "from scipy.stats import norm\n",
    "import scipy as sp\n",
    "from tqdm import tqdm\n",
    "from scipy.integrate import simps, trapz\n",
    "import matplotlib.pyplot as plt\n",
    "import imageio\n",
    "import multiprocessing\n",
    "from helpers import (Fy, find_closest_element,  compute_coverage, #predict_single_density,\n",
    "confidence_interval, confidence_interval, generate_fixed_terms, get_ci)\n",
    "from density_predictor_class import density_predictor"
   ]
  },
  {
   "cell_type": "code",
   "execution_count": null,
   "metadata": {},
   "outputs": [],
   "source": [
    "# read in val data\n",
    "#B_zeta = np.load('../../../../data/commaai/extracted_coefficients/20201027_filtered_gaussian_resampled/Bzeta/B_zeta_val.npy')\n",
    "B_zeta = np.load('../../../../data/commaai/extracted_coefficients/copula_cpl/Bzeta/B_zeta_val.npy')\n",
    "B_zeta = B_zeta.reshape(B_zeta.shape[0], B_zeta.shape[2])\n",
    "true_y = np.load('../../../../data/commaai/extracted_coefficients/copula_cpl/Bzeta/labels_val.npy')\n",
    "\n",
    "density_path = '../../../../data/commaai/density/gaussian_density_filtered.csv'\n",
    "density = pd.read_csv(density_path)\n",
    "\n",
    "# number of points at which to evaluate the predictive densities\n",
    "no_points = 500"
   ]
  },
  {
   "cell_type": "code",
   "execution_count": null,
   "metadata": {},
   "outputs": [],
   "source": [
    "# mc_dropout predictions:\n",
    "preds = np.append(np.load('../../../../data/commaai/predictions/mc_dropout/mc_preds_2.npy'), \n",
    "                  np.load('../../../../data/commaai/predictions/mc_dropout/mc_preds_1.npy'), axis = 0)\n",
    "preds_mc = np.mean(preds, axis = 1)"
   ]
  },
  {
   "cell_type": "code",
   "execution_count": null,
   "metadata": {},
   "outputs": [],
   "source": [
    "dens = density_predictor(B_zeta, true_y, density, no_points)"
   ]
  },
  {
   "cell_type": "code",
   "execution_count": null,
   "metadata": {},
   "outputs": [],
   "source": [
    "result_va_ridge = dens.get_density('va_ridge')\n",
    "result_hmc_ridge = dens.get_density('hmc_ridge')\n",
    "result_va_horse = dens.get_density('va_horseshoe')\n",
    "result_hmc_horse = dens.get_density('hmc_horseshoe')"
   ]
  },
  {
   "cell_type": "code",
   "execution_count": null,
   "metadata": {},
   "outputs": [],
   "source": [
    "print('Validation Performance: ' +\n",
    "      '\\nMSE:' +\n",
    "      '\\n CPL VA/Ridge: ' + str(np.mean((true_y - np.array(result_va_ridge['mean predictions']))**2)) +\n",
    "      '\\n CPL HMC/Ridge: ' + str(np.mean((true_y - np.array(result_hmc_ridge['mean prediction']))**2)) +\n",
    "      '\\n MC-Dropout: ' + str(np.mean((true_y - preds_mc.reshape(10472,))**2)) +\n",
    "      '\\n CPL VA/Horseshoe: ' + str(np.mean((true_y - np.array(result_va_horse['mean prediction']))**2)) +\n",
    "      '\\nMAE:' +\n",
    "      '\\n CPL VA/Ridge: ' + str(np.mean(np.abs(true_y - np.array(result_va_ridge['mean predictions'])))) +\n",
    "      '\\n CPL HMC/Ridge: ' + str(np.mean(np.abs(true_y - np.array(result_hmc_ridge['mean prediction'])))) +\n",
    "      '\\n MC-Dropout: ' + str(np.mean(np.abs(true_y - preds_mc.reshape(10472,)))) +\n",
    "      '\\n CPL VA/Horseshoe: ' + str(np.mean(np.abs(true_y - np.array(result_va_horse['mean prediction'])))) +\n",
    "      '\\nAccuracy:' +\n",
    "      '\\n CPL VA/Ridge: ' + str(np.mean(np.abs(true_y - np.array(result_va_ridge['mean predictions'])) <= 6)) +\n",
    "       '\\n CPL HMC/Ridge: ' + str(np.mean(np.abs(true_y - np.array(result_hmc_ridge['mean prediction'])) <= 6)) +\n",
    "      '\\n MC-Dropout: ' + str(np.mean(np.abs(true_y - preds_mc.reshape(10472,)) <= 6)) +\n",
    "      '\\n CPL VA/Horseshoe: ' + str(np.mean(np.abs(true_y - np.array(result_va_horse['mean prediction'])) <= 6)) +\n",
    "      '\\nAccuracy II :' +\n",
    "      '\\n CPL VA/Ridge: ' + str(np.mean(np.abs(true_y - np.array(result_va_ridge['mean predictions'])) <= 2)) +\n",
    "      '\\n CPL HMC/Ridge: ' + str(np.mean(np.abs(true_y - np.array(result_hmc_ridge['mean prediction'])) <= 2)) +\n",
    "     '\\n MC-Dropout: ' + str(np.mean(np.abs(true_y - preds_mc.reshape(10472,)) <= 2)) +\n",
    "    '\\n CPL VA/Horseshoe: ' + str(np.mean(np.abs(true_y - np.array(result_va_horse['mean prediction'])) <= 2)))"
   ]
  },
  {
   "cell_type": "code",
   "execution_count": null,
   "metadata": {},
   "outputs": [],
   "source": [
    "print('Validation Performance: ' +\n",
    "      '\\nMSE:' +\n",
    "      '\\n CPL Benchmark: ' + str(np.mean(np.abs(true_y - 0)**2)) +\n",
    "     '\\n CPL VA/Ridge: ' + str(np.mean((true_y - np.array(result_va_ridge['mean predictions']))**2)) +\n",
    "     '\\n CPL HMC/Ridge: ' + str(np.mean((true_y - np.array(result_hmc_ridge['mean prediction']))**2)) +\n",
    "     '\\n CPL VA/Horseshoe: ' + str(np.mean((true_y - np.array(result_va_horse['mean prediction']))**2)) +\n",
    "     '\\n CPL HMC/Horseshoe: ' + str(np.mean((true_y - np.array(result_hmc_horse['mean prediction']))**2)) +\n",
    "      '\\n MC-Dropout: ' + str(np.mean((true_y - preds_mc)**2)) +\n",
    "      \n",
    "    '\\nMAE:' +\n",
    "      '\\n CPL Benchmark: ' + str(np.mean(np.abs(true_y - 0))) +\n",
    "     '\\n CPL VA/Ridge: ' + str(np.mean(np.abs(true_y - np.array(result_va_ridge['mean predictions'])))) +\n",
    "     '\\n CPL HMC/Ridge: ' + str(np.mean(np.abs(true_y - np.array(result_hmc_ridge['mean prediction'])))) +\n",
    "     '\\n CPL VA/Horseshoe: ' + str(np.mean(np.abs(true_y - np.array(result_va_horse['mean prediction'])))) +\n",
    "     '\\n CPL HMC/Horseshoe: ' + str(np.mean(np.abs(true_y - np.array(result_hmc_horse['mean prediction'])))) +\n",
    "      '\\n MC-Dropout: ' + str(np.mean(np.abs(true_y - preds_mc))) +\n",
    "      \n",
    "      '\\nAccuracy:' +\n",
    "     '\\n CPL Benchmark: ' + str(np.mean(np.abs(true_y - 0) <= 6)) +\n",
    "     '\\n CPL VA/Ridge: ' + str(np.mean(np.abs(true_y - np.array(result_va_ridge['mean predictions'])) <= 6)) +\n",
    "     '\\n CPL HMC/Ridge: ' + str(np.mean(np.abs(true_y - np.array(result_hmc_ridge['mean prediction'])) <= 6)) +\n",
    "     '\\n CPL VA/Horseshoe: ' + str(np.mean(np.abs(true_y - np.array(result_va_horse['mean prediction'])) <= 6)) +\n",
    "     '\\n CPL HMC/Horseshoe: ' + str(np.mean(np.abs(true_y - np.array(result_hmc_horse['mean prediction'])) <= 6)) +\n",
    "      '\\n MC-Dropout: ' + str(np.mean(np.abs(true_y - preds_mc) <= 6)) +\n",
    "      \n",
    "      '\\nAccuracy II :' +\n",
    "      '\\n CPL Benchmark: ' + str(np.mean(np.abs(true_y - 0) <= 2)) +\n",
    "     '\\n CPL VA/Ridge: ' + str(np.mean(np.abs(true_y - np.array(result_va_ridge['mean predictions'])) <= 2)) +\n",
    "     '\\n CPL HMC/Ridge: ' + str(np.mean(np.abs(true_y - np.array(result_hmc_ridge['mean prediction'])) <= 2)) +\n",
    "     '\\n CPL VA/Horseshoe: ' + str(np.mean(np.abs(true_y - np.array(result_va_horse['mean prediction'])) <= 2)) +\n",
    "     '\\n CPL HMC/Horseshoe: ' + str(np.mean(np.abs(true_y - np.array(result_hmc_horse['mean prediction'])) <= 2)) +\n",
    "      '\\n MC-Dropout: ' + str(np.mean(np.abs(true_y - preds_mc) < 2))\n",
    "      \n",
    "     )"
   ]
  },
  {
   "cell_type": "code",
   "execution_count": null,
   "metadata": {},
   "outputs": [],
   "source": [
    "df = pd.DataFrame({'va_ridge' : result_va_ridge['densities'],\n",
    "                 'hmc_ridge' : result_hmc_ridge['densities'],\n",
    "                 'va_horse' : result_va_horse['densities'],\n",
    "                 'hmc_horse' : result_hmc_horse['densities']})"
   ]
  },
  {
   "cell_type": "code",
   "execution_count": null,
   "metadata": {},
   "outputs": [],
   "source": [
    "df.to_csv('../../../../data/commaai/predictions/cpl/densities.csv')"
   ]
  }
 ],
 "metadata": {
  "kernelspec": {
   "display_name": "Python 3",
   "language": "python",
   "name": "python3"
  },
  "language_info": {
   "codemirror_mode": {
    "name": "ipython",
    "version": 3
   },
   "file_extension": ".py",
   "mimetype": "text/x-python",
   "name": "python",
   "nbconvert_exporter": "python",
   "pygments_lexer": "ipython3",
   "version": "3.8.5"
  }
 },
 "nbformat": 4,
 "nbformat_minor": 4
}
