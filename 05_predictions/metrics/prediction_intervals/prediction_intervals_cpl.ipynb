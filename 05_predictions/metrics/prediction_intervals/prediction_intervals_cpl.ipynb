{
 "cells": [
  {
   "cell_type": "markdown",
   "metadata": {},
   "source": [
    "## Prediction Intervals for the CPL\n",
    "Author: Clara Hoffmann"
   ]
  },
  {
   "cell_type": "code",
   "execution_count": 1,
   "metadata": {},
   "outputs": [],
   "source": [
    "# load packages\n",
    "import numpy as np\n",
    "from tqdm import tqdm\n",
    "import matplotlib.pyplot as plt\n",
    "import pandas as pd\n",
    "from helpers import confidence_intervals"
   ]
  },
  {
   "cell_type": "code",
   "execution_count": 2,
   "metadata": {},
   "outputs": [],
   "source": [
    "# load cdf for each validation observation\n",
    "va_horse = np.load('../../../../data/commaai/calibration/cpl_dens/va_horse_cdf_is.npy')\n",
    "hmc_horse = np.load('../../../../data/commaai/calibration/cpl_dens/hmc_horse_cdf_is.npy')\n",
    "va_ridge = np.load('../../../../data/commaai/calibration/cpl_dens/va_ridge_cdf_is.npy')\n",
    "hmc_ridge = np.load('../../../../data/commaai/calibration/cpl_dens/hmc_ridge_cdf_is.npy')\n",
    "mc_dens = np.load('../../../../data/commaai/predictions/mc_dropout/cdf_is_mc_dropout.npy')\n",
    "mdn_dens = np.load('../../../../data/commaai/predictions/cdf_is_mdn.npy')"
   ]
  },
  {
   "cell_type": "code",
   "execution_count": 3,
   "metadata": {},
   "outputs": [],
   "source": [
    "# load density, true angles\n",
    "true_y = np.load('../../../../data/commaai/extracted_coefficients/20201027_filtered_gaussian_resampled/Bzeta/labels_val.npy')\n",
    "density_path = '../../../../data/commaai/density/gaussian_density_filtered.csv'\n",
    "density = pd.read_csv(density_path)\n",
    "# where to evaluate densities\n",
    "grid = np.linspace(min(density['axes']), max(density['axes']), 750)"
   ]
  },
  {
   "cell_type": "code",
   "execution_count": 4,
   "metadata": {},
   "outputs": [],
   "source": [
    "# confidence levels\n",
    "alphas = np.append(np.linspace(0.05, 0.95, 10), float(0.99))"
   ]
  },
  {
   "cell_type": "code",
   "execution_count": 5,
   "metadata": {},
   "outputs": [
    {
     "name": "stderr",
     "output_type": "stream",
     "text": [
      "100%|██████████| 11/11 [00:10<00:00,  1.01it/s]\n",
      "100%|██████████| 11/11 [00:11<00:00,  1.00s/it]\n",
      " 91%|█████████ | 10/11 [00:10<00:01,  1.00s/it]"
     ]
    },
    {
     "name": "stdout",
     "output_type": "stream",
     "text": [
      "error at index:4784\n",
      "error at index:5838\n",
      "error at index:5839\n",
      "error at index:7547\n"
     ]
    },
    {
     "name": "stderr",
     "output_type": "stream",
     "text": [
      "100%|██████████| 11/11 [00:11<00:00,  1.02s/it]\n",
      "  0%|          | 0/11 [00:00<?, ?it/s]"
     ]
    },
    {
     "name": "stdout",
     "output_type": "stream",
     "text": [
      "error at index:6964\n"
     ]
    },
    {
     "name": "stderr",
     "output_type": "stream",
     "text": [
      "  9%|▉         | 1/11 [00:01<00:11,  1.16s/it]"
     ]
    },
    {
     "name": "stdout",
     "output_type": "stream",
     "text": [
      "error at index:10364\n",
      "error at index:10459\n",
      "error at index:10462\n",
      "error at index:6964\n"
     ]
    },
    {
     "name": "stderr",
     "output_type": "stream",
     "text": [
      " 18%|█▊        | 2/11 [00:02<00:10,  1.19s/it]"
     ]
    },
    {
     "name": "stdout",
     "output_type": "stream",
     "text": [
      "error at index:10364\n",
      "error at index:10398\n",
      "error at index:10459\n",
      "error at index:10462\n",
      "error at index:5786\n",
      "error at index:6964\n"
     ]
    },
    {
     "name": "stderr",
     "output_type": "stream",
     "text": [
      " 27%|██▋       | 3/11 [00:03<00:08,  1.12s/it]"
     ]
    },
    {
     "name": "stdout",
     "output_type": "stream",
     "text": [
      "error at index:10001\n",
      "error at index:10023\n",
      "error at index:10301\n",
      "error at index:10364\n",
      "error at index:10372\n",
      "error at index:10398\n",
      "error at index:10434\n",
      "error at index:10441\n",
      "error at index:10455\n",
      "error at index:10459\n",
      "error at index:10462\n",
      "error at index:5786\n",
      "error at index:5794\n",
      "error at index:6964\n"
     ]
    },
    {
     "name": "stderr",
     "output_type": "stream",
     "text": [
      " 36%|███▋      | 4/11 [00:04<00:07,  1.08s/it]"
     ]
    },
    {
     "name": "stdout",
     "output_type": "stream",
     "text": [
      "error at index:9901\n",
      "error at index:10001\n",
      "error at index:10023\n",
      "error at index:10301\n",
      "error at index:10364\n",
      "error at index:10372\n",
      "error at index:10398\n",
      "error at index:10434\n",
      "error at index:10441\n",
      "error at index:10455\n",
      "error at index:10459\n",
      "error at index:10462\n",
      "error at index:2938\n",
      "error at index:4186\n",
      "error at index:4698\n",
      "error at index:5786\n",
      "error at index:5794\n",
      "error at index:6964\n"
     ]
    },
    {
     "name": "stderr",
     "output_type": "stream",
     "text": [
      " 45%|████▌     | 5/11 [00:05<00:06,  1.10s/it]"
     ]
    },
    {
     "name": "stdout",
     "output_type": "stream",
     "text": [
      "error at index:9901\n",
      "error at index:10001\n",
      "error at index:10023\n",
      "error at index:10301\n",
      "error at index:10306\n",
      "error at index:10364\n",
      "error at index:10369\n",
      "error at index:10370\n",
      "error at index:10372\n",
      "error at index:10398\n",
      "error at index:10430\n",
      "error at index:10434\n",
      "error at index:10441\n",
      "error at index:10455\n",
      "error at index:10459\n",
      "error at index:10461\n",
      "error at index:10462\n",
      "error at index:2938\n",
      "error at index:4181\n",
      "error at index:4186\n",
      "error at index:4698\n",
      "error at index:5786\n",
      "error at index:5794\n",
      "error at index:6782\n",
      "error at index:6961\n",
      "error at index:6964\n"
     ]
    },
    {
     "name": "stderr",
     "output_type": "stream",
     "text": [
      " 55%|█████▍    | 6/11 [00:06<00:05,  1.06s/it]"
     ]
    },
    {
     "name": "stdout",
     "output_type": "stream",
     "text": [
      "error at index:9213\n",
      "error at index:9900\n",
      "error at index:9901\n",
      "error at index:10001\n",
      "error at index:10022\n",
      "error at index:10023\n",
      "error at index:10026\n",
      "error at index:10301\n",
      "error at index:10306\n",
      "error at index:10339\n",
      "error at index:10364\n",
      "error at index:10369\n",
      "error at index:10370\n",
      "error at index:10372\n",
      "error at index:10398\n",
      "error at index:10430\n",
      "error at index:10434\n",
      "error at index:10436\n",
      "error at index:10441\n",
      "error at index:10455\n",
      "error at index:10459\n",
      "error at index:10461\n",
      "error at index:10462\n",
      "error at index:2938\n",
      "error at index:4181\n",
      "error at index:4186\n",
      "error at index:4698\n",
      "error at index:5786\n",
      "error at index:5794\n",
      "error at index:6207\n",
      "error at index:6686\n",
      "error at index:6782\n",
      "error at index:6961\n",
      "error at index:6962\n",
      "error at index:6964\n",
      "error at index:7187\n",
      "error at index:7190\n",
      "error at index:7302\n"
     ]
    },
    {
     "name": "stderr",
     "output_type": "stream",
     "text": [
      " 64%|██████▎   | 7/11 [00:07<00:04,  1.04s/it]"
     ]
    },
    {
     "name": "stdout",
     "output_type": "stream",
     "text": [
      "error at index:9213\n",
      "error at index:9900\n",
      "error at index:9901\n",
      "error at index:10001\n",
      "error at index:10002\n",
      "error at index:10022\n",
      "error at index:10023\n",
      "error at index:10026\n",
      "error at index:10223\n",
      "error at index:10301\n",
      "error at index:10306\n",
      "error at index:10339\n",
      "error at index:10364\n",
      "error at index:10369\n",
      "error at index:10370\n",
      "error at index:10372\n",
      "error at index:10398\n",
      "error at index:10414\n",
      "error at index:10428\n",
      "error at index:10429\n",
      "error at index:10430\n",
      "error at index:10434\n",
      "error at index:10435\n",
      "error at index:10436\n",
      "error at index:10441\n",
      "error at index:10452\n",
      "error at index:10455\n",
      "error at index:10459\n",
      "error at index:10461\n",
      "error at index:10462\n",
      "error at index:10464\n",
      "error at index:10467\n",
      "error at index:961\n",
      "error at index:1982\n",
      "error at index:2938\n",
      "error at index:4181\n",
      "error at index:4182\n",
      "error at index:4183\n",
      "error at index:4186\n",
      "error at index:4619\n",
      "error at index:4698\n",
      "error at index:5786\n",
      "error at index:5794\n",
      "error at index:6204\n",
      "error at index:6205\n",
      "error at index:6207\n",
      "error at index:6686\n",
      "error at index:6782\n",
      "error at index:6960\n",
      "error at index:6961\n",
      "error at index:6962\n",
      "error at index:6964\n",
      "error at index:7187\n",
      "error at index:7190\n",
      "error at index:7302\n"
     ]
    },
    {
     "name": "stderr",
     "output_type": "stream",
     "text": [
      " 73%|███████▎  | 8/11 [00:08<00:03,  1.03s/it]"
     ]
    },
    {
     "name": "stdout",
     "output_type": "stream",
     "text": [
      "error at index:9213\n",
      "error at index:9900\n",
      "error at index:9901\n",
      "error at index:10001\n",
      "error at index:10002\n",
      "error at index:10022\n",
      "error at index:10023\n",
      "error at index:10025\n",
      "error at index:10026\n",
      "error at index:10223\n",
      "error at index:10301\n",
      "error at index:10305\n",
      "error at index:10306\n",
      "error at index:10321\n",
      "error at index:10339\n",
      "error at index:10346\n",
      "error at index:10348\n",
      "error at index:10363\n",
      "error at index:10364\n",
      "error at index:10369\n",
      "error at index:10370\n",
      "error at index:10372\n",
      "error at index:10377\n",
      "error at index:10398\n",
      "error at index:10414\n",
      "error at index:10424\n",
      "error at index:10427\n",
      "error at index:10428\n",
      "error at index:10429\n",
      "error at index:10430\n",
      "error at index:10432\n",
      "error at index:10434\n",
      "error at index:10435\n",
      "error at index:10436\n",
      "error at index:10441\n",
      "error at index:10452\n",
      "error at index:10454\n",
      "error at index:10455\n",
      "error at index:10456\n",
      "error at index:10458\n",
      "error at index:10459\n",
      "error at index:10461\n",
      "error at index:10462\n",
      "error at index:10464\n",
      "error at index:10467\n",
      "error at index:10468\n",
      "error at index:961\n",
      "error at index:1982\n",
      "error at index:2938\n",
      "error at index:4181\n",
      "error at index:4182\n",
      "error at index:4183\n",
      "error at index:4186\n",
      "error at index:4619\n",
      "error at index:4698\n",
      "error at index:5786\n",
      "error at index:5794\n",
      "error at index:5964\n",
      "error at index:6096\n",
      "error at index:6204\n",
      "error at index:6205\n",
      "error at index:6207\n",
      "error at index:6686\n",
      "error at index:6782\n",
      "error at index:6954\n",
      "error at index:6960\n",
      "error at index:6961\n",
      "error at index:6962\n",
      "error at index:6964\n",
      "error at index:7187\n",
      "error at index:7190\n",
      "error at index:7302\n",
      "error at index:8240\n",
      "error at index:8955\n",
      "error at index:9213\n",
      "error at index:9899\n",
      "error at index:9900\n",
      "error at index:9901\n",
      "error at index:10001\n",
      "error at index:10002\n",
      "error at index:10022\n",
      "error at index:10023\n",
      "error at index:10025\n",
      "error at index:10026\n",
      "error at index:10165\n",
      "error at index:10223\n",
      "error at index:10301\n",
      "error at index:10305\n",
      "error at index:10306\n",
      "error at index:10321\n",
      "error at index:10339\n",
      "error at index:10346\n",
      "error at index:10348\n",
      "error at index:10359\n",
      "error at index:10363\n",
      "error at index:10364\n",
      "error at index:10369\n",
      "error at index:10370\n",
      "error at index:10371\n",
      "error at index:10372\n",
      "error at index:10377\n"
     ]
    },
    {
     "name": "stderr",
     "output_type": "stream",
     "text": [
      " 82%|████████▏ | 9/11 [00:09<00:02,  1.03s/it]"
     ]
    },
    {
     "name": "stdout",
     "output_type": "stream",
     "text": [
      "error at index:10398\n",
      "error at index:10414\n",
      "error at index:10424\n",
      "error at index:10427\n",
      "error at index:10428\n",
      "error at index:10429\n",
      "error at index:10430\n",
      "error at index:10432\n",
      "error at index:10434\n",
      "error at index:10435\n",
      "error at index:10436\n",
      "error at index:10441\n",
      "error at index:10452\n",
      "error at index:10454\n",
      "error at index:10455\n",
      "error at index:10456\n",
      "error at index:10458\n",
      "error at index:10459\n",
      "error at index:10461\n",
      "error at index:10462\n",
      "error at index:10464\n",
      "error at index:10467\n",
      "error at index:10468\n",
      "error at index:961\n",
      "error at index:1982\n",
      "error at index:2938\n",
      "error at index:4181\n",
      "error at index:4182\n",
      "error at index:4183\n",
      "error at index:4185\n",
      "error at index:4186\n",
      "error at index:4189\n",
      "error at index:4619\n",
      "error at index:4698\n",
      "error at index:4884\n",
      "error at index:5786\n",
      "error at index:5794\n",
      "error at index:5795\n",
      "error at index:5964\n",
      "error at index:6096\n",
      "error at index:6201\n",
      "error at index:6204\n",
      "error at index:6205\n",
      "error at index:6207\n",
      "error at index:6208\n",
      "error at index:6686\n",
      "error at index:6782\n",
      "error at index:6952\n",
      "error at index:6954\n",
      "error at index:6960\n",
      "error at index:6961\n",
      "error at index:6962\n",
      "error at index:6964\n",
      "error at index:7187\n",
      "error at index:7190\n",
      "error at index:7288\n",
      "error at index:7302\n",
      "error at index:7555\n",
      "error at index:8181\n",
      "error at index:8239\n",
      "error at index:8240\n",
      "error at index:8551\n",
      "error at index:8955\n",
      "error at index:9212\n",
      "error at index:9213\n",
      "error at index:9294\n",
      "error at index:9297\n"
     ]
    },
    {
     "name": "stderr",
     "output_type": "stream",
     "text": [
      " 91%|█████████ | 10/11 [00:10<00:01,  1.03s/it]"
     ]
    },
    {
     "name": "stdout",
     "output_type": "stream",
     "text": [
      "error at index:9782\n",
      "error at index:9899\n",
      "error at index:9900\n",
      "error at index:9901\n",
      "error at index:10001\n",
      "error at index:10002\n",
      "error at index:10022\n",
      "error at index:10023\n",
      "error at index:10024\n",
      "error at index:10025\n",
      "error at index:10026\n",
      "error at index:10165\n",
      "error at index:10223\n",
      "error at index:10301\n",
      "error at index:10305\n",
      "error at index:10306\n",
      "error at index:10307\n",
      "error at index:10321\n",
      "error at index:10322\n",
      "error at index:10333\n",
      "error at index:10339\n",
      "error at index:10346\n",
      "error at index:10348\n",
      "error at index:10357\n",
      "error at index:10358\n",
      "error at index:10359\n",
      "error at index:10363\n",
      "error at index:10364\n",
      "error at index:10369\n",
      "error at index:10370\n",
      "error at index:10371\n",
      "error at index:10372\n",
      "error at index:10377\n",
      "error at index:10397\n",
      "error at index:10398\n",
      "error at index:10414\n",
      "error at index:10415\n",
      "error at index:10424\n",
      "error at index:10427\n",
      "error at index:10428\n",
      "error at index:10429\n",
      "error at index:10430\n",
      "error at index:10432\n",
      "error at index:10434\n",
      "error at index:10435\n",
      "error at index:10436\n",
      "error at index:10438\n",
      "error at index:10441\n",
      "error at index:10450\n",
      "error at index:10452\n",
      "error at index:10454\n",
      "error at index:10455\n",
      "error at index:10456\n",
      "error at index:10458\n",
      "error at index:10459\n",
      "error at index:10461\n",
      "error at index:10462\n",
      "error at index:10464\n",
      "error at index:10467\n",
      "error at index:10468\n",
      "error at index:961\n",
      "error at index:1982\n",
      "error at index:2938\n",
      "error at index:3635\n",
      "error at index:4180\n",
      "error at index:4181\n",
      "error at index:4182\n",
      "error at index:4183\n",
      "error at index:4185\n",
      "error at index:4186\n",
      "error at index:4187\n",
      "error at index:4189\n",
      "error at index:4619\n",
      "error at index:4698\n",
      "error at index:4884\n",
      "error at index:5035\n",
      "error at index:5243\n",
      "error at index:5303\n",
      "error at index:5786\n",
      "error at index:5794\n",
      "error at index:5795\n",
      "error at index:5827\n",
      "error at index:5964\n",
      "error at index:6096\n",
      "error at index:6201\n",
      "error at index:6204\n",
      "error at index:6205\n",
      "error at index:6206\n",
      "error at index:6207\n",
      "error at index:6208\n",
      "error at index:6365\n",
      "error at index:6686\n",
      "error at index:6782\n",
      "error at index:6952\n",
      "error at index:6954\n",
      "error at index:6960\n",
      "error at index:6961\n",
      "error at index:6962\n",
      "error at index:6964\n",
      "error at index:7159\n",
      "error at index:7187\n",
      "error at index:7190\n",
      "error at index:7288\n",
      "error at index:7299\n",
      "error at index:7300\n",
      "error at index:7302\n",
      "error at index:7555\n",
      "error at index:8181\n",
      "error at index:8239\n",
      "error at index:8240\n",
      "error at index:8551\n",
      "error at index:8955\n",
      "error at index:9212\n",
      "error at index:9213\n",
      "error at index:9294\n",
      "error at index:9297\n"
     ]
    },
    {
     "name": "stderr",
     "output_type": "stream",
     "text": [
      "100%|██████████| 11/11 [00:11<00:00,  1.07s/it]"
     ]
    },
    {
     "name": "stdout",
     "output_type": "stream",
     "text": [
      "error at index:9744\n",
      "error at index:9782\n",
      "error at index:9899\n",
      "error at index:9900\n",
      "error at index:9901\n",
      "error at index:10001\n",
      "error at index:10002\n",
      "error at index:10021\n",
      "error at index:10022\n",
      "error at index:10023\n",
      "error at index:10024\n",
      "error at index:10025\n",
      "error at index:10026\n",
      "error at index:10165\n",
      "error at index:10223\n",
      "error at index:10301\n",
      "error at index:10305\n",
      "error at index:10306\n",
      "error at index:10307\n",
      "error at index:10315\n",
      "error at index:10321\n",
      "error at index:10322\n",
      "error at index:10333\n",
      "error at index:10338\n",
      "error at index:10339\n",
      "error at index:10340\n",
      "error at index:10341\n",
      "error at index:10346\n",
      "error at index:10347\n",
      "error at index:10348\n",
      "error at index:10357\n",
      "error at index:10358\n",
      "error at index:10359\n",
      "error at index:10360\n",
      "error at index:10361\n",
      "error at index:10363\n",
      "error at index:10364\n",
      "error at index:10365\n",
      "error at index:10368\n",
      "error at index:10369\n",
      "error at index:10370\n",
      "error at index:10371\n",
      "error at index:10372\n",
      "error at index:10373\n",
      "error at index:10377\n",
      "error at index:10397\n",
      "error at index:10398\n",
      "error at index:10414\n",
      "error at index:10415\n",
      "error at index:10417\n",
      "error at index:10424\n",
      "error at index:10426\n",
      "error at index:10427\n",
      "error at index:10428\n",
      "error at index:10429\n",
      "error at index:10430\n",
      "error at index:10432\n",
      "error at index:10433\n",
      "error at index:10434\n",
      "error at index:10435\n",
      "error at index:10436\n",
      "error at index:10438\n",
      "error at index:10440\n",
      "error at index:10441\n",
      "error at index:10446\n",
      "error at index:10449\n",
      "error at index:10450\n",
      "error at index:10451\n",
      "error at index:10452\n",
      "error at index:10454\n",
      "error at index:10455\n",
      "error at index:10456\n",
      "error at index:10457\n",
      "error at index:10458\n",
      "error at index:10459\n",
      "error at index:10461\n",
      "error at index:10462\n",
      "error at index:10464\n",
      "error at index:10465\n",
      "error at index:10467\n",
      "error at index:10468\n"
     ]
    },
    {
     "name": "stderr",
     "output_type": "stream",
     "text": [
      "\n"
     ]
    }
   ],
   "source": [
    "va_horse_ci = confidence_intervals(alphas, va_horse, true_y, grid)\n",
    "#hmc_horse_ci = confidence_intervals(alphas, hmc_horse, true_y, grid)\n",
    "va_ridge_ci = confidence_intervals(alphas, va_ridge, true_y, grid)\n",
    "#hmc_ridge_ci = confidence_intervals(alphas, hmc_ridge, true_y, grid)\n",
    "mc_ci = confidence_intervals(alphas, mc_dens, true_y, grid)\n",
    "mdn_ci = confidence_intervals(alphas, mdn_dens, true_y, grid)"
   ]
  },
  {
   "cell_type": "markdown",
   "metadata": {},
   "source": [
    "## Prediction Interval Coverage Rates"
   ]
  },
  {
   "cell_type": "code",
   "execution_count": 7,
   "metadata": {},
   "outputs": [
    {
     "data": {
      "image/png": "[encoded data removed]",
      "text/plain": [
       "<Figure size 432x288 with 1 Axes>"
      ]
     },
     "metadata": {
      "needs_background": "light"
     },
     "output_type": "display_data"
    }
   ],
   "source": [
    "levels = np.append(np.linspace(0.05, 0.95, 10), float(0.99))\n",
    "plt.hlines(0, 0.05, 1, color = 'black', label ='perfect coverage', alpha = 0.2)\n",
    "plt.plot(levels, levels - np.array(va_horse_ci['coverage_rate']), linestyle = '-.', label = 'HMC/VA Horseshoe', color = 'red')\n",
    "#plt.plot(levels, levels - np.array(hmc_horse_ci['coverage_rate']), linestyle = 'dotted', label = 'HMC/Horseshoe', color = 'darkred')\n",
    "plt.plot(levels, levels - np.array(va_ridge_ci['coverage_rate']), label = 'HMC/VA Ridge', color = 'orange')\n",
    "plt.plot(levels, levels - np.array(mc_ci['coverage_rate']), linestyle = ':', label = 'MC-Dropout', color = 'blue', alpha = 0.8)\n",
    "plt.plot(levels, levels - np.array(mdn_ci['coverage_rate']), linestyle = '--', label = 'MDN', color = 'forestgreen', alpha = 0.8)\n",
    "#plt.plot(levels, levels - np.array(hmc_ridge_ci['coverage_rate']), label = 'HMC/Ridge', color = 'darkorange')\n",
    "plt.xlabel((r'$1- \\alpha$'))\n",
    "plt.ylabel(r'$1- \\alpha$ - coverage rate')\n",
    "plt.legend()\n",
    "plt.legend(framealpha=0.0)\n",
    "plt.tight_layout()\n",
    "plt.savefig('coverage_rate_cpl_dropout.png', dpi = 300)\n",
    "# coverage rate is actually higher than predicted coverage rate"
   ]
  },
  {
   "cell_type": "markdown",
   "metadata": {},
   "source": [
    "## PI width"
   ]
  },
  {
   "cell_type": "code",
   "execution_count": 9,
   "metadata": {},
   "outputs": [
    {
     "data": {
      "image/png": "[encoded data removed]",
      "text/plain": [
       "<Figure size 432x288 with 1 Axes>"
      ]
     },
     "metadata": {
      "needs_background": "light"
     },
     "output_type": "display_data"
    }
   ],
   "source": [
    "plt.plot(np.append(np.linspace(0.05, 0.95, 10), float(0.99)), np.mean(np.abs(np.array(va_horse_ci['pred_int_width'])), axis = 1), label = 'VA/HMC Horseshoe', color = 'red', linestyle = '-.')\n",
    "#plt.plot(np.append(np.linspace(0.05, 0.95, 10), float(0.99)), np.mean(np.abs(np.array(hmc_horse_ci['pred_int_width'])), axis = 1), label = 'HMC/Horseshoe', linestyle = 'dotted',color = 'darkred')\n",
    "plt.plot(np.append(np.linspace(0.05, 0.95, 10), float(0.99)), np.mean(np.abs(np.array(va_ridge_ci['pred_int_width'])), axis = 1), label = 'VA/HMC Ridge',  color = 'orange')\n",
    "plt.plot(np.append(np.linspace(0.05, 0.95, 10), float(0.99)), np.mean(np.abs(np.array(mc_ci['pred_int_width'])), axis = 1), label = 'MC-Dropout', linestyle = ':',  color = 'blue', alpha = 0.8)\n",
    "plt.plot(np.append(np.linspace(0.05, 0.95, 10), float(0.99)), np.mean(np.abs(np.array(mdn_ci['pred_int_width'])), axis = 1), label = 'MDN', linestyle = '--',  color = 'forestgreen', alpha = 0.8)\n",
    "#plt.plot(np.append(np.linspace(0.05, 0.95, 10), float(0.99)), np.mean(np.abs(np.array(hmc_ridge_ci['pred_int_width'])), axis = 1), label = 'HMC/Ridge', color = 'darkorange')\n",
    "plt.xlabel((r'$1- \\alpha$'))\n",
    "plt.ylabel(r'mean $1 - \\alpha$-PI width')\n",
    "plt.legend()\n",
    "plt.legend(framealpha=0.0)\n",
    "plt.tight_layout()\n",
    "plt.savefig('mean_pi_width_cpl.png', dpi = 300)"
   ]
  },
  {
   "cell_type": "code",
   "execution_count": null,
   "metadata": {},
   "outputs": [],
   "source": []
  }
 ],
 "metadata": {
  "kernelspec": {
   "display_name": "Python 3",
   "language": "python",
   "name": "python3"
  },
  "language_info": {
   "codemirror_mode": {
    "name": "ipython",
    "version": 3
   },
   "file_extension": ".py",
   "mimetype": "text/x-python",
   "name": "python",
   "nbconvert_exporter": "python",
   "pygments_lexer": "ipython3",
   "version": "3.8.5"
  }
 },
 "nbformat": 4,
 "nbformat_minor": 4
}
