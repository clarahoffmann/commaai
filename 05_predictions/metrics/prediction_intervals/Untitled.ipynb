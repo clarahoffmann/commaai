{
 "cells": [
  {
   "cell_type": "code",
   "execution_count": 6,
   "metadata": {},
   "outputs": [],
   "source": [
    "import numpy as np\n",
    "import matplotlib.pyplot as plt\n",
    "import pandas as pd\n",
    "from tqdm import tqdm"
   ]
  },
  {
   "cell_type": "markdown",
   "metadata": {},
   "source": [
    "## VA + Horse + Precise"
   ]
  },
  {
   "cell_type": "code",
   "execution_count": 4,
   "metadata": {},
   "outputs": [],
   "source": [
    "cdf_va_is = np.load('../../../../data/commaai/calibration/marginal_calibration/cdf_va_horse_dens.npy')\n",
    "support = np.load('../../../../data/commaai/calibration/marginal_calibration/support_va_horse_dens.npy')"
   ]
  },
  {
   "cell_type": "code",
   "execution_count": 57,
   "metadata": {},
   "outputs": [],
   "source": [
    "true_y = np.load('../../../../data/commaai/extracted_coefficients/20201027_filtered_gaussian_resampled/Bzeta/labels_val.npy')"
   ]
  },
  {
   "cell_type": "code",
   "execution_count": 61,
   "metadata": {},
   "outputs": [
    {
     "name": "stderr",
     "output_type": "stream",
     "text": [
      " 73%|███████▎  | 8/11 [07:20<02:42, 54.29s/it]"
     ]
    },
    {
     "name": "stdout",
     "output_type": "stream",
     "text": [
      "error at index:7163\n"
     ]
    },
    {
     "name": "stderr",
     "output_type": "stream",
     "text": [
      " 82%|████████▏ | 9/11 [08:13<01:48, 54.09s/it]"
     ]
    },
    {
     "name": "stdout",
     "output_type": "stream",
     "text": [
      "error at index:7163\n",
      "error at index:9919\n",
      "error at index:10364\n"
     ]
    },
    {
     "name": "stderr",
     "output_type": "stream",
     "text": [
      " 91%|█████████ | 10/11 [09:04<00:53, 53.05s/it]"
     ]
    },
    {
     "name": "stdout",
     "output_type": "stream",
     "text": [
      "error at index:384\n",
      "error at index:1075\n",
      "error at index:1156\n",
      "error at index:1294\n",
      "error at index:1328\n",
      "error at index:1381\n",
      "error at index:1644\n",
      "error at index:2096\n",
      "error at index:2442\n",
      "error at index:2645\n",
      "error at index:3014\n",
      "error at index:4313\n",
      "error at index:4924\n",
      "error at index:5155\n",
      "error at index:5657\n",
      "error at index:6020\n",
      "error at index:6340\n",
      "error at index:6371\n",
      "error at index:6372\n",
      "error at index:7163\n",
      "error at index:7165\n",
      "error at index:7687\n",
      "error at index:8552\n",
      "error at index:8654\n",
      "error at index:9314\n",
      "error at index:9792\n",
      "error at index:9801\n",
      "error at index:9813\n",
      "error at index:9919\n",
      "error at index:10122\n",
      "error at index:10211\n",
      "error at index:10312\n",
      "error at index:10364\n",
      "error at index:10389\n",
      "error at index:10406\n",
      "error at index:10438\n",
      "error at index:10441\n"
     ]
    },
    {
     "name": "stderr",
     "output_type": "stream",
     "text": [
      "100%|██████████| 11/11 [09:53<00:00, 53.96s/it]"
     ]
    },
    {
     "name": "stdout",
     "output_type": "stream",
     "text": [
      "error at index:10443\n",
      "error at index:10447\n"
     ]
    },
    {
     "name": "stderr",
     "output_type": "stream",
     "text": [
      "\n"
     ]
    }
   ],
   "source": [
    "all_conf_int_horse = []\n",
    "for alpha2 in tqdm(np.append(np.linspace(0.05, 0.95, 10), float(0.99))):\n",
    "    confidence_intervals = []\n",
    "    alpha = 1- alpha2\n",
    "    i = 0\n",
    "    for cdf in cdf_va_is:\n",
    "        lb = max(support[cdf <= alpha/2])\n",
    "        try:\n",
    "            ub = min(support[cdf >= 1-alpha/2])\n",
    "        except: \n",
    "            print('error at index:' + str(i))\n",
    "            ub = max(support)\n",
    "        i += 1\n",
    "        confidence_intervals.append([lb, ub])\n",
    "    all_conf_int_horse.append(confidence_intervals)"
   ]
  },
  {
   "cell_type": "code",
   "execution_count": 62,
   "metadata": {},
   "outputs": [],
   "source": [
    "conf_widths_horse = []\n",
    "for level in range(0, np.append(np.linspace(0.05, 0.95, 10), float(0.99)).shape[0]):  \n",
    "    conf_width = np.array([all_conf_int[level][i][1] - all_conf_int[level][i][0] for i in range(0, len(cdf_va_is))])\n",
    "    conf_widths_horse.append(conf_width)"
   ]
  },
  {
   "cell_type": "code",
   "execution_count": 63,
   "metadata": {},
   "outputs": [
    {
     "data": {
      "text/plain": [
       "array([ 0.25893381,  0.77073837,  1.29942082,  1.86006825,  2.47319267,\n",
       "        3.16945042,  4.00670416,  5.10494615,  6.7845136 , 10.58900136,\n",
       "       16.94204986])"
      ]
     },
     "execution_count": 63,
     "metadata": {},
     "output_type": "execute_result"
    }
   ],
   "source": [
    "np.mean(np.array(conf_widths), axis = 1)"
   ]
  },
  {
   "cell_type": "code",
   "execution_count": null,
   "metadata": {},
   "outputs": [],
   "source": [
    "cdf_va_is = np.load('../../../../data/commaai/calibration/marginal_calibration/cdf_va_horse_dens.npy')"
   ]
  },
  {
   "cell_type": "markdown",
   "metadata": {},
   "source": [
    "## VA/HMC + Ridge + Precise"
   ]
  },
  {
   "cell_type": "code",
   "execution_count": 47,
   "metadata": {},
   "outputs": [],
   "source": [
    "cdf_hmc_ridge_is = np.load('../../../../data/commaai/calibration/marginal_calibration/cdf_hmc_ridge_dens.npy')"
   ]
  },
  {
   "cell_type": "code",
   "execution_count": 48,
   "metadata": {},
   "outputs": [
    {
     "name": "stderr",
     "output_type": "stream",
     "text": [
      "100%|██████████| 11/11 [08:47<00:00, 47.98s/it]\n"
     ]
    }
   ],
   "source": [
    "all_conf_int_ridge = []\n",
    "for alpha2 in tqdm(np.append(np.linspace(0.05, 0.95, 10), float(0.99))):\n",
    "    confidence_intervals = []\n",
    "    alpha = 1- alpha2\n",
    "    i = 0\n",
    "    for cdf in cdf_hmc_ridge_is:\n",
    "        lb = max(support[cdf <= alpha/2])\n",
    "        try:\n",
    "            ub = min(support[cdf >= 1-alpha/2])\n",
    "        except: \n",
    "            print('error at index:' + str(i))\n",
    "            ub = max(support)\n",
    "        i += 1\n",
    "        confidence_intervals.append([lb, ub])\n",
    "    all_conf_int_ridge.append(confidence_intervals)"
   ]
  },
  {
   "cell_type": "code",
   "execution_count": 49,
   "metadata": {},
   "outputs": [],
   "source": [
    "conf_widths_ridge = []\n",
    "for level in range(0, np.append(np.linspace(0.05, 0.95, 10), float(0.99)).shape[0]):  \n",
    "    conf_width = np.array([all_conf_int_ridge[level][i][1] - all_conf_int_ridge[level][i][0] for i in range(0, len(cdf_va_is))])\n",
    "    conf_widths_ridge.append(conf_width)"
   ]
  },
  {
   "cell_type": "code",
   "execution_count": 82,
   "metadata": {},
   "outputs": [
    {
     "data": {
      "image/png": "[encoded data removed]",
      "text/plain": [
       "<Figure size 432x288 with 1 Axes>"
      ]
     },
     "metadata": {
      "needs_background": "light"
     },
     "output_type": "display_data"
    }
   ],
   "source": [
    "plt.plot(np.append(np.linspace(0.05, 0.95, 10), float(0.99)), np.mean(np.abs(np.array(conf_widths_horse)), axis = 1), label = 'VA/Horseshoe', color = 'red')\n",
    "plt.plot(np.append(np.linspace(0.05, 0.95, 10), float(0.99)), np.mean(np.abs(np.array(conf_widths_ridge)), axis = 1), label = 'VA/ & HMC/Ridge', linestyle = '-.', color = 'orange')\n",
    "plt.xlabel((r'$1- \\alpha$'))\n",
    "plt.ylabel(r'mean $1 - \\alpha$-PI width')\n",
    "plt.legend()\n",
    "plt.legend(framealpha=0.0)\n",
    "plt.savefig('mean_pi_width.png', dpi = 900)"
   ]
  },
  {
   "cell_type": "code",
   "execution_count": 71,
   "metadata": {},
   "outputs": [],
   "source": [
    "coverage_rate_ridge = []\n",
    "for i in range(0, np.append(np.linspace(0.05, 0.95, 10), float(0.99)).shape[0]):\n",
    "    confidence_intervals = all_conf_int_ridge[i]\n",
    "    in_interval = []\n",
    "    for i in range(0, len(cdf_va_is)):\n",
    "        conf_int = confidence_intervals[i]\n",
    "        if conf_int[0] <= true_y[i] <= conf_int[1]:\n",
    "            in_interval.append(1)\n",
    "        else:\n",
    "            in_interval.append(0)\n",
    "    mean_int = np.mean(in_interval)\n",
    "    coverage_rate_ridge.append(mean_int)"
   ]
  },
  {
   "cell_type": "code",
   "execution_count": 72,
   "metadata": {},
   "outputs": [],
   "source": [
    "coverage_rate_horse = []\n",
    "for i in range(0, np.append(np.linspace(0.05, 0.95, 10), float(0.99)).shape[0]):\n",
    "    confidence_intervals = all_conf_int_horse[i]\n",
    "    in_interval = []\n",
    "    for i in range(0, len(cdf_va_is)):\n",
    "        conf_int = confidence_intervals[i]\n",
    "        if conf_int[0] <= true_y[i] <= conf_int[1]:\n",
    "            in_interval.append(1)\n",
    "        else:\n",
    "            in_interval.append(0)\n",
    "    mean_int = np.mean(in_interval)\n",
    "    coverage_rate_horse.append(mean_int)"
   ]
  },
  {
   "cell_type": "markdown",
   "metadata": {},
   "source": [
    "# Prediction Interval accuracy"
   ]
  },
  {
   "cell_type": "code",
   "execution_count": 81,
   "metadata": {},
   "outputs": [
    {
     "data": {
      "image/png": "[encoded data removed]",
      "text/plain": [
       "<Figure size 432x288 with 1 Axes>"
      ]
     },
     "metadata": {
      "needs_background": "light"
     },
     "output_type": "display_data"
    }
   ],
   "source": [
    "levels = np.append(np.linspace(0.05, 0.95, 10), float(0.99))\n",
    "plt.plot(levels, levels - np.array(coverage_rate_ridge), label = 'VA/Horseshoe', color = 'red')\n",
    "plt.plot(levels, levels - np.array(coverage_rate_horse), label = 'VA/ & HMC/Ridge', linestyle = '-.', color = 'orange')\n",
    "plt.xlabel((r'$1- \\alpha$'))\n",
    "plt.ylabel(r'$1- \\alpha$ - coverage rate')\n",
    "plt.legend()\n",
    "plt.legend(framealpha=0.0)\n",
    "plt.savefig('coverage_rate.png', dpi = 900)\n",
    "# coverage rate is actually higher than predicted coverage rate"
   ]
  },
  {
   "cell_type": "code",
   "execution_count": 73,
   "metadata": {},
   "outputs": [
    {
     "data": {
      "text/plain": [
       "[0.054239877769289534,\n",
       " 0.16730328495034377,\n",
       " 0.28332696715049654,\n",
       " 0.3949579831932773,\n",
       " 0.49484339190221543,\n",
       " 0.5950152788388082,\n",
       " 0.6895530939648586,\n",
       " 0.7785523300229182,\n",
       " 0.862681436210848,\n",
       " 0.9424178762414056,\n",
       " 0.9795645530939648]"
      ]
     },
     "execution_count": 73,
     "metadata": {},
     "output_type": "execute_result"
    }
   ],
   "source": [
    "coverage_rate_horse"
   ]
  },
  {
   "cell_type": "code",
   "execution_count": null,
   "metadata": {},
   "outputs": [],
   "source": []
  }
 ],
 "metadata": {
  "kernelspec": {
   "display_name": "Python 3",
   "language": "python",
   "name": "python3"
  },
  "language_info": {
   "codemirror_mode": {
    "name": "ipython",
    "version": 3
   },
   "file_extension": ".py",
   "mimetype": "text/x-python",
   "name": "python",
   "nbconvert_exporter": "python",
   "pygments_lexer": "ipython3",
   "version": "3.8.5"
  }
 },
 "nbformat": 4,
 "nbformat_minor": 4
}
