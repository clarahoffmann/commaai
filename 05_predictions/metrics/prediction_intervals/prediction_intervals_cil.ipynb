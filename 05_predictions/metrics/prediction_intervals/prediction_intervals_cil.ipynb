{
 "cells": [
  {
   "cell_type": "markdown",
   "metadata": {},
   "source": [
    "## Prediction Intervals for the CIL\n",
    "Author: Clara Hoffmann"
   ]
  },
  {
   "cell_type": "code",
   "execution_count": 1,
   "metadata": {},
   "outputs": [],
   "source": [
    "# load packages\n",
    "import numpy as np\n",
    "from tqdm import tqdm\n",
    "import matplotlib.pyplot as plt\n",
    "import pandas as pd\n",
    "from scipy.stats import norm\n",
    "from helpers import confidence_intervals\n",
    "from helpers import (Fy, find_closest_element, confidence_intervals)\n",
    "\n",
    "import multiprocessing\n",
    "from scipy import integrate"
   ]
  },
  {
   "cell_type": "code",
   "execution_count": 2,
   "metadata": {},
   "outputs": [],
   "source": [
    "# load cdf for each validation observation\n",
    "va_horse = np.load('../../../../data/commaai/calibration/cil_dens/va_horse_cdf_is.npy')\n",
    "#hmc_horse = np.load('../../../../data/commaai/calibration/cil_dens/hmc_horse_cdf_is.npy')\n",
    "va_ridge = np.load('../../../../data/commaai/calibration/cil_dens/va_ridge_cdf_is.npy')\n",
    "#hmc_ridge = np.load('../../../../data/commaai/calibration/cil_dens/hmc_ridge_cdf_is.npy')\n",
    "mc_dens = np.load('../../../../data/commaai/predictions/mc_dropout/cdf_mc_dropout_cil_is.npy')\n",
    "cdf_mdn = np.load('../../../../data/commaai/predictions/cdf_is_mdn_cil.npy')"
   ]
  },
  {
   "cell_type": "code",
   "execution_count": 3,
   "metadata": {},
   "outputs": [],
   "source": [
    "true_y = np.load('../../../../data/commaai/extracted_coefficients/copula_cil/Bzeta/labels_val.npy')\n",
    "true_y = true_y[np.abs(true_y) < 40]\n",
    "grid = np.load('../../../../data/commaai/calibration/cil_dens/grid.npy')\n",
    "density_path = '../../../../data/commaai/density/gaussian_density.csv'\n",
    "density = pd.read_csv(density_path)"
   ]
  },
  {
   "cell_type": "code",
   "execution_count": 4,
   "metadata": {},
   "outputs": [],
   "source": [
    "alphas = np.append(np.linspace(0.05, 0.95, 10), float(0.99))"
   ]
  },
  {
   "cell_type": "code",
   "execution_count": 5,
   "metadata": {},
   "outputs": [
    {
     "name": "stderr",
     "output_type": "stream",
     "text": [
      "100%|██████████| 11/11 [02:22<00:00, 12.97s/it]\n",
      "100%|██████████| 11/11 [02:21<00:00, 12.87s/it]\n",
      " 82%|████████▏ | 9/11 [02:18<00:32, 16.45s/it]"
     ]
    },
    {
     "name": "stdout",
     "output_type": "stream",
     "text": [
      "error at index:29455\n"
     ]
    },
    {
     "name": "stderr",
     "output_type": "stream",
     "text": [
      " 91%|█████████ | 10/11 [02:34<00:16, 16.42s/it]"
     ]
    },
    {
     "name": "stdout",
     "output_type": "stream",
     "text": [
      "error at index:108\n",
      "error at index:1060\n",
      "error at index:1065\n",
      "error at index:2866\n",
      "error at index:2868\n",
      "error at index:5204\n",
      "error at index:5214\n",
      "error at index:5224\n",
      "error at index:5231\n",
      "error at index:5232\n",
      "error at index:5239\n",
      "error at index:6705\n",
      "error at index:6711\n",
      "error at index:6712\n",
      "error at index:6847\n",
      "error at index:8053\n",
      "error at index:8900\n",
      "error at index:9952\n",
      "error at index:10065\n",
      "error at index:10550\n",
      "error at index:10916\n",
      "error at index:10958\n",
      "error at index:11467\n",
      "error at index:11591\n",
      "error at index:13064\n",
      "error at index:13772\n",
      "error at index:13877\n",
      "error at index:13879\n",
      "error at index:13882\n",
      "error at index:13890\n",
      "error at index:13901\n",
      "error at index:13903\n",
      "error at index:13908\n",
      "error at index:16465\n",
      "error at index:16948\n",
      "error at index:16962\n",
      "error at index:17507\n",
      "error at index:17511\n",
      "error at index:17517\n",
      "error at index:17520\n",
      "error at index:19486\n",
      "error at index:19937\n",
      "error at index:20944\n",
      "error at index:24227\n",
      "error at index:24229\n",
      "error at index:24369\n",
      "error at index:24384\n",
      "error at index:25012\n",
      "error at index:25020\n",
      "error at index:27613\n",
      "error at index:27857\n",
      "error at index:28257\n",
      "error at index:28265\n",
      "error at index:28277\n",
      "error at index:28281\n",
      "error at index:28290\n",
      "error at index:28391\n",
      "error at index:28773\n",
      "error at index:28972\n",
      "error at index:29455\n",
      "error at index:30722\n",
      "error at index:30951\n",
      "error at index:32705\n",
      "error at index:33171\n",
      "error at index:33172\n",
      "error at index:33173\n",
      "error at index:33896\n",
      "error at index:33903\n",
      "error at index:35579\n",
      "error at index:35580\n",
      "error at index:38046\n",
      "error at index:38622\n",
      "error at index:39484\n",
      "error at index:40538\n",
      "error at index:41526\n",
      "error at index:42228\n",
      "error at index:44118\n",
      "error at index:44928\n",
      "error at index:44962\n",
      "error at index:44973\n",
      "error at index:46732\n",
      "error at index:47487\n",
      "error at index:47497\n",
      "error at index:47500\n",
      "error at index:47504\n",
      "error at index:47508\n",
      "error at index:47520\n",
      "error at index:48038\n",
      "error at index:48042\n",
      "error at index:48067\n",
      "error at index:48549\n",
      "error at index:48551\n",
      "error at index:48552\n",
      "error at index:50279\n",
      "error at index:51275\n",
      "error at index:52104\n",
      "error at index:52145\n",
      "error at index:54633\n",
      "error at index:54639\n",
      "error at index:54987\n",
      "error at index:55743\n",
      "error at index:55745\n",
      "error at index:55759\n",
      "error at index:56679\n",
      "error at index:56705\n",
      "error at index:56709\n",
      "error at index:57097\n",
      "error at index:58189\n",
      "error at index:58243\n",
      "error at index:58372\n",
      "error at index:58585\n",
      "error at index:58586\n",
      "error at index:58587\n",
      "error at index:58847\n",
      "error at index:58849\n",
      "error at index:58857\n",
      "error at index:59472\n",
      "error at index:59660\n",
      "error at index:59795\n",
      "error at index:61140\n",
      "error at index:61161\n",
      "error at index:61176\n",
      "error at index:61213\n",
      "error at index:63461\n",
      "error at index:63489\n",
      "error at index:63535\n",
      "error at index:64156\n",
      "error at index:64408\n",
      "error at index:65961\n",
      "error at index:66023\n",
      "error at index:66645\n",
      "error at index:68371\n",
      "error at index:68378\n",
      "error at index:68395\n",
      "error at index:68906\n",
      "error at index:68947\n",
      "error at index:68976\n",
      "error at index:69056\n",
      "error at index:69096\n",
      "error at index:69097\n",
      "error at index:69734\n",
      "error at index:69887\n",
      "error at index:70452\n",
      "error at index:72506\n",
      "error at index:72511\n",
      "error at index:73283\n",
      "error at index:73301\n",
      "error at index:77511\n",
      "error at index:83341\n",
      "error at index:83962\n",
      "error at index:84327\n",
      "error at index:87459\n",
      "error at index:88511\n",
      "error at index:91475\n",
      "error at index:92447\n",
      "error at index:93048\n"
     ]
    },
    {
     "name": "stderr",
     "output_type": "stream",
     "text": [
      "100%|██████████| 11/11 [02:49<00:00, 15.40s/it]"
     ]
    },
    {
     "name": "stdout",
     "output_type": "stream",
     "text": [
      "error at index:93907\n"
     ]
    },
    {
     "name": "stderr",
     "output_type": "stream",
     "text": [
      "\n"
     ]
    }
   ],
   "source": [
    "va_horse_ci = confidence_intervals(alphas, va_horse, true_y, grid)\n",
    "#hmc_horse_ci = confidence_intervals(alphas, hmc_horse, true_y, grid)\n",
    "va_ridge_ci = confidence_intervals(alphas, va_ridge, true_y, grid)\n",
    "#hmc_ridge_ci = confidence_intervals(alphas, hmc_ridge, true_y, grid)\n",
    "mc_ci = confidence_intervals(alphas, mc_dens, true_y, grid)\n",
    "mdn_ci = confidence_intervals(alphas, cdf_mdn, true_y, grid)"
   ]
  },
  {
   "cell_type": "markdown",
   "metadata": {},
   "source": [
    "## Prediction Interval Coverage Rates"
   ]
  },
  {
   "cell_type": "code",
   "execution_count": 7,
   "metadata": {},
   "outputs": [
    {
     "data": {
      "image/png": "[encoded data removed]",
      "text/plain": [
       "<Figure size 432x288 with 1 Axes>"
      ]
     },
     "metadata": {
      "needs_background": "light"
     },
     "output_type": "display_data"
    }
   ],
   "source": [
    "levels = np.append(np.linspace(0.05, 0.95, 10), float(0.99))\n",
    "plt.plot(levels, levels - np.array(va_horse_ci['coverage_rate']), linestyle = '-.', label = 'HMC/VA Horseshoe', color = 'red')\n",
    "#plt.plot(levels, levels - np.array(hmc_horse_ci['coverage_rate']), linestyle = 'dotted', label = 'HMC/Horseshoe', color = 'darkred')\n",
    "plt.plot(levels, levels - np.array(va_ridge_ci['coverage_rate']), label = 'VA/Ridge', linestyle = 'dashed', color = 'orange')\n",
    "#plt.plot(levels, levels - np.array(hmc_ridge_ci['coverage_rate']), label = 'HMC/VA Ridge', color = 'darkorange')\n",
    "plt.plot(levels, levels - np.array(mc_ci['coverage_rate']), linestyle = ':', label = 'MC-Dropout', color = 'blue', alpha = 0.8)\n",
    "plt.xlabel((r'$1- \\alpha$'))\n",
    "plt.ylabel(r'$1- \\alpha$ - coverage rate')\n",
    "plt.legend()\n",
    "plt.legend(framealpha=0.0)\n",
    "plt.tight_layout()\n",
    "#plt.savefig('coverage_rate_cil.png', dpi = 300)\n",
    "# coverage rate is actually higher than predicted coverage rate"
   ]
  },
  {
   "cell_type": "markdown",
   "metadata": {},
   "source": [
    "## PI width"
   ]
  },
  {
   "cell_type": "code",
   "execution_count": 8,
   "metadata": {},
   "outputs": [
    {
     "data": {
      "image/png": "[encoded data removed]",
      "text/plain": [
       "<Figure size 432x288 with 1 Axes>"
      ]
     },
     "metadata": {
      "needs_background": "light"
     },
     "output_type": "display_data"
    }
   ],
   "source": [
    "plt.plot(np.append(np.linspace(0.05, 0.95, 10), float(0.99)), np.mean(np.abs(np.array(va_horse_ci['pred_int_width'])), axis = 1), label = 'VA/HMC Horseshoe', color = 'red', linestyle = '-.')\n",
    "#plt.plot(np.append(np.linspace(0.05, 0.95, 10), float(0.99)), np.mean(np.abs(np.array(hmc_horse_ci['pred_int_width'])), axis = 1), label = 'HMC/Horseshoe', linestyle = 'dotted',color = 'darkred')\n",
    "plt.plot(np.append(np.linspace(0.05, 0.95, 10), float(0.99)), np.mean(np.abs(np.array(va_ridge_ci['pred_int_width'])), axis = 1), label = 'VA/HMC Ridge', color = 'orange')\n",
    "plt.plot(np.append(np.linspace(0.05, 0.95, 10), float(0.99)), np.mean(np.abs(np.array(mc_ci['pred_int_width'])), axis = 1), label = 'MC-Dropout', linestyle = ':',  color = 'blue', alpha = 0.8)\n",
    "#plt.plot(np.append(np.linspace(0.05, 0.95, 10), float(0.99)), np.mean(np.abs(np.array(hmc_ridge_ci['pred_int_width'])), axis = 1), label = 'HMC/Ridge', color = 'darkorange')\n",
    "plt.xlabel((r'$1- \\alpha$'))\n",
    "plt.ylabel(r'mean $1 - \\alpha$-PI width')\n",
    "plt.legend()\n",
    "plt.legend(framealpha=0.0)\n",
    "plt.tight_layout()\n",
    "#plt.savefig('mean_pi_width_cil.png', dpi = 300)"
   ]
  },
  {
   "cell_type": "code",
   "execution_count": null,
   "metadata": {},
   "outputs": [],
   "source": []
  }
 ],
 "metadata": {
  "kernelspec": {
   "display_name": "Python 3",
   "language": "python",
   "name": "python3"
  },
  "language_info": {
   "codemirror_mode": {
    "name": "ipython",
    "version": 3
   },
   "file_extension": ".py",
   "mimetype": "text/x-python",
   "name": "python",
   "nbconvert_exporter": "python",
   "pygments_lexer": "ipython3",
   "version": "3.8.5"
  }
 },
 "nbformat": 4,
 "nbformat_minor": 4
}
