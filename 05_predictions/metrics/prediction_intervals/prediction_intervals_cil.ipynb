{
 "cells": [
  {
   "cell_type": "code",
   "execution_count": 4,
   "metadata": {},
   "outputs": [],
   "source": [
    "import numpy as np\n",
    "from tqdm import tqdm\n",
    "import matplotlib.pyplot as plt"
   ]
  },
  {
   "cell_type": "code",
   "execution_count": 5,
   "metadata": {},
   "outputs": [],
   "source": [
    "va_horse = np.load('../../../../data/commaai/calibration/cil_dens/va_horse_cdf_is.npy')\n",
    "hmc_horse = np.load('../../../../data/commaai/calibration/cil_dens/hmc_horse_cdf_is.npy')\n",
    "va_ridge = np.load('../../../../data/commaai/calibration/cil_dens/va_ridge_cdf_is.npy')\n",
    "hmc_ridge = np.load('../../../../data/commaai/calibration/cil_dens/hmc_ridge_cdf_is.npy')"
   ]
  },
  {
   "cell_type": "code",
   "execution_count": 6,
   "metadata": {},
   "outputs": [],
   "source": [
    "true_y = np.load('../../../../data/commaai/extracted_coefficients/20201021_unrestr_gaussian_resampled/Bzeta/labels_val.npy')\n",
    "true_y = true_y[np.abs(true_y) < 50][::6]\n",
    "grid = np.load('../../../../data/commaai/calibration/cil_dens/grid.npy')"
   ]
  },
  {
   "cell_type": "code",
   "execution_count": 7,
   "metadata": {},
   "outputs": [],
   "source": [
    "alphas = np.append(np.linspace(0.05, 0.95, 10), float(0.99))"
   ]
  },
  {
   "cell_type": "code",
   "execution_count": 8,
   "metadata": {},
   "outputs": [],
   "source": [
    "def confidence_intervals(alphas, cdf_is, true_y):\n",
    "    all_conf_int = []\n",
    "    for alpha2 in tqdm(alphas):\n",
    "        confidence_intervals = []\n",
    "        alpha = 1- alpha2\n",
    "        i = 0\n",
    "        for cdf in cdf_is:\n",
    "            lb = max(grid[cdf <= alpha/2])\n",
    "            try:\n",
    "                ub = min(grid[cdf >= 1-alpha/2])\n",
    "            except: \n",
    "                print('error at index:' + str(i))\n",
    "                ub = max(support)\n",
    "            i += 1\n",
    "            confidence_intervals.append([lb, ub])\n",
    "        all_conf_int.append(confidence_intervals)\n",
    "    \n",
    "    # prediction interval width\n",
    "    conf_widths = []\n",
    "    for level in range(0, np.append(np.linspace(0.05, 0.95, 10), float(0.99)).shape[0]):  \n",
    "        conf_width = np.array([all_conf_int[level][i][1] - all_conf_int[level][i][0] for i in range(0, len(cdf_is))])\n",
    "        conf_widths.append(conf_width)\n",
    "    \n",
    "    coverage_rate = []\n",
    "    # prediction interval coverage rate\n",
    "    for i in range(0, np.append(np.linspace(0.05, 0.95, 10), float(0.99)).shape[0]):\n",
    "        # loop over confidence intervals for one PI level\n",
    "        confidence_intervals = all_conf_int[i]\n",
    "        in_interval = []\n",
    "        # loop over single PI \n",
    "        for i in range(0, len(true_y)):\n",
    "            conf_int = confidence_intervals[i]\n",
    "            if conf_int[0] <= true_y[i] <= conf_int[1]:\n",
    "                in_interval.append(1)\n",
    "            else:\n",
    "                in_interval.append(0)\n",
    "        mean_int = np.mean(in_interval)\n",
    "        coverage_rate.append(mean_int)\n",
    "    \n",
    "    return({'prediction_intervals': all_conf_int,\n",
    "            'pred_int_width': conf_widths, \n",
    "            'coverage_rate': coverage_rate})"
   ]
  },
  {
   "cell_type": "code",
   "execution_count": 9,
   "metadata": {},
   "outputs": [
    {
     "name": "stderr",
     "output_type": "stream",
     "text": [
      "100%|██████████| 11/11 [00:22<00:00,  2.09s/it]\n",
      "100%|██████████| 11/11 [00:23<00:00,  2.10s/it]\n",
      "100%|██████████| 11/11 [00:22<00:00,  2.08s/it]\n",
      "100%|██████████| 11/11 [00:27<00:00,  2.50s/it]\n"
     ]
    }
   ],
   "source": [
    "va_horse_ci = confidence_intervals(alphas, va_horse, true_y)\n",
    "hmc_horse_ci = confidence_intervals(alphas, hmc_horse, true_y)\n",
    "va_ridge_ci = confidence_intervals(alphas, va_ridge, true_y)\n",
    "hmc_ridge_ci = confidence_intervals(alphas, hmc_ridge, true_y)"
   ]
  },
  {
   "cell_type": "markdown",
   "metadata": {},
   "source": [
    "## Prediction Interval Coverage Rates"
   ]
  },
  {
   "cell_type": "code",
   "execution_count": 10,
   "metadata": {},
   "outputs": [
    {
     "data": {
      "image/png": "[encoded data removed]",
      "text/plain": [
       "<Figure size 432x288 with 1 Axes>"
      ]
     },
     "metadata": {
      "needs_background": "light"
     },
     "output_type": "display_data"
    }
   ],
   "source": [
    "levels = np.append(np.linspace(0.05, 0.95, 10), float(0.99))\n",
    "plt.plot(levels, levels - np.array(va_horse_ci['coverage_rate']), linestyle = '-.', label = 'HMC/VA Horseshoe', color = 'red')\n",
    "#plt.plot(levels, levels - np.array(hmc_horse_ci['coverage_rate']), linestyle = 'dotted', label = 'HMC/Horseshoe', color = 'darkred')\n",
    "plt.plot(levels, levels - np.array(va_ridge_ci['coverage_rate']), label = 'VA/Ridge', linestyle = 'dashed', color = 'orange')\n",
    "plt.plot(levels, levels - np.array(hmc_ridge_ci['coverage_rate']), label = 'HMC/Ridge', color = 'darkorange')\n",
    "plt.xlabel((r'$1- \\alpha$'))\n",
    "plt.ylabel(r'$1- \\alpha$ - coverage rate')\n",
    "plt.legend()\n",
    "plt.legend(framealpha=0.0)\n",
    "plt.tight_layout()\n",
    "plt.savefig('coverage_rate_cil.png', dpi = 900)\n",
    "# coverage rate is actually higher than predicted coverage rate"
   ]
  },
  {
   "cell_type": "markdown",
   "metadata": {},
   "source": [
    "## PI width"
   ]
  },
  {
   "cell_type": "code",
   "execution_count": null,
   "metadata": {},
   "outputs": [],
   "source": [
    "plt.plot(np.append(np.linspace(0.05, 0.95, 10), float(0.99)), np.mean(np.abs(np.array(va_horse_ci['pred_int_width'])), axis = 1), label = 'VA/HMC Horseshoe', color = 'red', linestyle = '-.')\n",
    "#plt.plot(np.append(np.linspace(0.05, 0.95, 10), float(0.99)), np.mean(np.abs(np.array(hmc_horse_ci['pred_int_width'])), axis = 1), label = 'HMC/Horseshoe', linestyle = 'dotted',color = 'darkred')\n",
    "plt.plot(np.append(np.linspace(0.05, 0.95, 10), float(0.99)), np.mean(np.abs(np.array(va_ridge_ci['pred_int_width'])), axis = 1), label = 'VA/HMC Ridge', color = 'orange')\n",
    "#plt.plot(np.append(np.linspace(0.05, 0.95, 10), float(0.99)), np.mean(np.abs(np.array(hmc_ridge_ci['pred_int_width'])), axis = 1), label = 'HMC/Ridge', color = 'darkorange')\n",
    "plt.xlabel((r'$1- \\alpha$'))\n",
    "plt.ylabel(r'mean $1 - \\alpha$-PI width')\n",
    "plt.legend()\n",
    "plt.legend(framealpha=0.0)\n",
    "plt.tight_layout()\n",
    "plt.savefig('mean_pi_width_cil.png', dpi = 900)"
   ]
  },
  {
   "cell_type": "code",
   "execution_count": null,
   "metadata": {},
   "outputs": [],
   "source": []
  }
 ],
 "metadata": {
  "kernelspec": {
   "display_name": "Python 3",
   "language": "python",
   "name": "python3"
  },
  "language_info": {
   "codemirror_mode": {
    "name": "ipython",
    "version": 3
   },
   "file_extension": ".py",
   "mimetype": "text/x-python",
   "name": "python",
   "nbconvert_exporter": "python",
   "pygments_lexer": "ipython3",
   "version": "3.8.5"
  }
 },
 "nbformat": 4,
 "nbformat_minor": 4
}
