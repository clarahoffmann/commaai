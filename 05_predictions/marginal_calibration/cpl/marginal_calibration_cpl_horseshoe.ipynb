{
 "cells": [
  {
   "cell_type": "code",
   "execution_count": 2,
   "metadata": {},
   "outputs": [],
   "source": [
    "import numpy as np\n",
    "import pandas as pd\n",
    "from scipy.stats import norm\n",
    "from tqdm import tqdm\n",
    "from scipy.integrate import simps\n",
    "import matplotlib.pyplot as plt\n",
    "import imageio\n",
    "import multiprocessing\n",
    "from scipy import integrate\n",
    "from helpers import Fy, find_closest_element, get_densities, get_cdf\n",
    "import statsmodels.api as sm"
   ]
  },
  {
   "cell_type": "code",
   "execution_count": 3,
   "metadata": {},
   "outputs": [],
   "source": [
    "# read in val data\n",
    "B_zeta = np.load('../../../data/commaai/extracted_coefficients/20201027_filtered_gaussian_resampled/Bzeta/B_zeta_val.npy')\n",
    "true_y = np.load('../../../data/commaai/extracted_coefficients/20201027_filtered_gaussian_resampled/Bzeta/labels_val.npy')\n",
    "\n",
    "density_path = '../../../data/commaai/density/gaussian_density_filtered.csv'\n",
    "density = pd.read_csv(density_path)"
   ]
  },
  {
   "cell_type": "code",
   "execution_count": 4,
   "metadata": {},
   "outputs": [],
   "source": [
    "# estimate density \n",
    "kde = sm.nonparametric.KDEUnivariate(true_y)\n",
    "kde.fit()\n",
    "support = kde.support\n",
    "endog = kde.endog\n",
    "density_gauss = kde.density"
   ]
  },
  {
   "cell_type": "code",
   "execution_count": 5,
   "metadata": {},
   "outputs": [],
   "source": [
    "no_points = 16384\n",
    "grid = support #np.linspace(min(density['axes']), max(density['axes']), no_points)\n",
    "density_y = density['axes']\n",
    "density_pdf = density['pdf']\n",
    "# compute these beforehand to save computation time\n",
    "p_y_y0 = [density_pdf[find_closest_element(y_i,density_y)] for y_i in grid]\n",
    "part_1 = np.array([norm.ppf(Fy(y_i, density)) for y_i in grid])\n",
    "phi_1_z = np.array([norm(0, 1).pdf(y_i) for y_i in part_1 ])"
   ]
  },
  {
   "cell_type": "markdown",
   "metadata": {},
   "source": [
    "## True Density"
   ]
  },
  {
   "cell_type": "code",
   "execution_count": 6,
   "metadata": {},
   "outputs": [],
   "source": [
    "grid = np.array([i for i in range(0, support.shape[0])])\n",
    "def f_integral(i):\n",
    "    return(integrate.trapz(density_gauss[i:(i+2)], support[i:(i+2)]))\n",
    "with multiprocessing.Pool(20) as proc:\n",
    "    probs = proc.map(f_integral, grid)\n",
    "cdf = np.cumsum(np.array(probs))"
   ]
  },
  {
   "cell_type": "markdown",
   "metadata": {},
   "source": [
    "## VA + Horseshoe + Precise"
   ]
  },
  {
   "cell_type": "code",
   "execution_count": 7,
   "metadata": {},
   "outputs": [],
   "source": [
    "va_horse_dir = '../../../data/commaai/va/filtered_gaussian_resampled/Horseshoe/'\n",
    "mu_t_va = np.load(va_horse_dir + 'mu_ts2.npy')\n",
    "iteration = mu_t_va.shape[0]\n",
    "p = 10\n",
    "B_ts = np.mean(np.load(va_horse_dir + 'B_ts2.npy')[int(0.9*iteration):,:,:], axis = 0)\n",
    "d_ts = np.mean(np.load(va_horse_dir + 'd_ts2.npy')[int(0.9*iteration):,:,:], axis = 0)\n",
    "var = np.sqrt(np.diag(B_ts.dot(B_ts.T) + d_ts**2))"
   ]
  },
  {
   "cell_type": "code",
   "execution_count": 8,
   "metadata": {},
   "outputs": [],
   "source": [
    "beta_va = np.mean(mu_t_va[int(0.9*iteration):,0:10], axis = 0)\n",
    "Lambdas_log = np.mean(mu_t_va[int(0.9*iteration):,10:20], axis = 0)\n",
    "samples = np.exp(0.5*np.random.multivariate_normal(Lambdas_log.reshape(10,), np.diag(var[10:20]), 10000))\n",
    "Lambdas = np.mean(samples, axis = 0)"
   ]
  },
  {
   "cell_type": "code",
   "execution_count": 9,
   "metadata": {},
   "outputs": [
    {
     "name": "stderr",
     "output_type": "stream",
     "text": [
      "100%|██████████| 10472/10472 [01:21<00:00, 128.14it/s]\n"
     ]
    }
   ],
   "source": [
    "no_points = 16384\n",
    "grid = np.linspace(min(density['axes']), max(density['axes']), no_points)\n",
    "densities_va = get_densities(B_zeta, support, p_y_y0, part_1, phi_1_z, beta_va, None, p,  'va_horseshoe', Lambdas)"
   ]
  },
  {
   "cell_type": "code",
   "execution_count": 10,
   "metadata": {},
   "outputs": [],
   "source": [
    "av_density_va = np.mean(np.array(densities_va), axis = 0)\n",
    "def f_integral(i):\n",
    "    return(integrate.trapz(av_density_va[i:(i+2)], support[i:(i+2)]))\n",
    "with multiprocessing.Pool(20) as proc:\n",
    "    probs = proc.map(f_integral, np.array([i for i in range(0, grid.shape[0])]))\n",
    "cdf_va = np.cumsum(np.array(probs))"
   ]
  },
  {
   "cell_type": "code",
   "execution_count": 11,
   "metadata": {},
   "outputs": [],
   "source": [
    "ridge_df = pd.read_csv('../../../data/commaai/calibration/marginal_calibration/ridge_prior_calibration.csv')"
   ]
  },
  {
   "cell_type": "markdown",
   "metadata": {},
   "source": [
    "## HMC + Horseshoe + Precise"
   ]
  },
  {
   "cell_type": "code",
   "execution_count": 12,
   "metadata": {},
   "outputs": [],
   "source": [
    "hmc_thetas = np.load('../../../data/commaai/mcmc/filtered_gaussian_resampled/Horseshoe/all_thetas_try.npy')"
   ]
  },
  {
   "cell_type": "code",
   "execution_count": 13,
   "metadata": {},
   "outputs": [],
   "source": [
    "hmc_thetas[:,10:20] = np.exp(0.5*hmc_thetas[:,10:20])\n",
    "hmc_thetas[:,20] = np.exp(hmc_thetas[:,20])"
   ]
  },
  {
   "cell_type": "code",
   "execution_count": 14,
   "metadata": {},
   "outputs": [],
   "source": [
    "means = np.mean(hmc_thetas[1000:], axis = 0)"
   ]
  },
  {
   "cell_type": "code",
   "execution_count": 15,
   "metadata": {},
   "outputs": [],
   "source": [
    "beta_hmc = means[0:10]\n",
    "Lambda_hmc = hmc_thetas[1000:,10:20] "
   ]
  },
  {
   "cell_type": "code",
   "execution_count": 16,
   "metadata": {},
   "outputs": [
    {
     "data": {
      "text/plain": [
       "<matplotlib.collections.PathCollection at 0x7f19e1ff1940>"
      ]
     },
     "execution_count": 16,
     "metadata": {},
     "output_type": "execute_result"
    },
    {
     "data": {
      "image/png": "[encoded data removed]",
      "text/plain": [
       "<Figure size 432x288 with 1 Axes>"
      ]
     },
     "metadata": {
      "needs_background": "light"
     },
     "output_type": "display_data"
    }
   ],
   "source": [
    "plt.scatter(Lambdas, np.mean(Lambda_hmc, axis = 0))\n",
    "plt.scatter(beta_va, beta_hmc)"
   ]
  },
  {
   "cell_type": "code",
   "execution_count": 17,
   "metadata": {},
   "outputs": [
    {
     "name": "stderr",
     "output_type": "stream",
     "text": [
      "100%|██████████| 10472/10472 [08:23<00:00, 20.78it/s]\n"
     ]
    }
   ],
   "source": [
    "no_points = 16384\n",
    "p = 10\n",
    "densities_hmc = get_densities(B_zeta, support, p_y_y0, part_1, phi_1_z, beta_hmc, None, p,  'hmc_horseshoe', Lambda_hmc)"
   ]
  },
  {
   "cell_type": "code",
   "execution_count": 18,
   "metadata": {},
   "outputs": [],
   "source": [
    "av_density_hmc = np.mean(np.array(densities_hmc), axis = 0)\n",
    "def f_integral(i):\n",
    "    return(integrate.trapz(av_density_hmc[i:(i+2)], support[i:(i+2)]))\n",
    "with multiprocessing.Pool(20) as proc:\n",
    "    probs = proc.map(f_integral, np.array([i for i in range(0, grid.shape[0])]))\n",
    "cdf_horse_hmc = np.cumsum(np.array(probs))"
   ]
  },
  {
   "cell_type": "markdown",
   "metadata": {},
   "source": [
    "## Marginal Calibration"
   ]
  },
  {
   "cell_type": "code",
   "execution_count": 19,
   "metadata": {},
   "outputs": [
    {
     "data": {
      "image/png": "[encoded data removed]",
      "text/plain": [
       "<Figure size 504x360 with 1 Axes>"
      ]
     },
     "metadata": {
      "needs_background": "light"
     },
     "output_type": "display_data"
    }
   ],
   "source": [
    "fig = plt.figure(figsize=(7, 5))\n",
    "ax = fig.add_subplot(111)\n",
    "\n",
    "# Plot the histrogram\n",
    "ax.plot(support, density_gauss, color = 'black', label = 'true density')\n",
    "ax.hist(true_y, bins=300, density=True,\n",
    "        zorder=5, edgecolor='k', alpha=0.1)\n",
    "ax.plot(ridge_df['support'], ridge_df['density_hmc'], color = 'orange', label = 'HMC/VA Ridge', linestyle = '-.')\n",
    "#ax.plot(support, av_density_va, color = 'red', linestyle= '--', label = 'VA Horseshoe')\n",
    "ax.plot(support, av_density_hmc, color = 'green', linestyle= '--', label = 'HMC Horseshoe')\n",
    "ax.set_xlim(-12,12)\n",
    "ax.legend()\n",
    "plt.legend(framealpha=0.0)\n",
    "plt.xlabel('angle')\n",
    "plt.ylabel('density')\n",
    "plt.tight_layout()\n",
    "plt.savefig('../../../data/commaai/calibration/marginal_calibration/marginal_calibration.png') "
   ]
  },
  {
   "cell_type": "markdown",
   "metadata": {},
   "source": [
    "## Probability Calibration"
   ]
  },
  {
   "cell_type": "code",
   "execution_count": 20,
   "metadata": {},
   "outputs": [
    {
     "data": {
      "image/png": "[encoded data removed]",
      "text/plain": [
       "<Figure size 504x360 with 1 Axes>"
      ]
     },
     "metadata": {
      "needs_background": "light"
     },
     "output_type": "display_data"
    }
   ],
   "source": [
    "# plot like in Klein Paper\n",
    "fig = plt.figure(figsize=(7,5))\n",
    "ax = fig.add_subplot(111)\n",
    "#ax.plot(cdf, cdf_va- cdf, color = 'red', label = 'VA/Horseshoe')\n",
    "ax.plot(cdf, ridge_df['cdf_hmc'] - cdf, color = 'orange', label = 'HMC/VA Ridge', linestyle = '-.') #*0.9292\n",
    "ax.plot(cdf, cdf_horse_hmc - cdf, color = 'green', linestyle= '--', label = 'HMC Horseshoe')\n",
    "ax.legend()\n",
    "plt.legend(framealpha=0.0)\n",
    "#plt.tight_layout()\n",
    "plt.autoscale()\n",
    "plt.ylim(-.2,.2)\n",
    "plt.xlabel('expected confidence level')\n",
    "plt.ylabel('observed - expected confidence level')\n",
    "plt.savefig('../../../data/commaai/calibration/marginal_calibration/prob_calibration.png') "
   ]
  },
  {
   "cell_type": "code",
   "execution_count": 21,
   "metadata": {},
   "outputs": [
    {
     "name": "stderr",
     "output_type": "stream",
     "text": [
      "100%|██████████| 16384/16384 [26:05<00:00, 10.46it/s]\n"
     ]
    }
   ],
   "source": [
    "Gt = []\n",
    "for i in tqdm(support):\n",
    "    Gt.append(sum(x <= i for x in true_y))\n",
    "Gt = np.array(Gt)/len(true_y)"
   ]
  },
  {
   "cell_type": "code",
   "execution_count": 22,
   "metadata": {},
   "outputs": [
    {
     "data": {
      "image/png": "[encoded data removed]",
      "text/plain": [
       "<Figure size 504x360 with 1 Axes>"
      ]
     },
     "metadata": {
      "needs_background": "light"
     },
     "output_type": "display_data"
    }
   ],
   "source": [
    "fig = plt.figure(figsize=(7,5))\n",
    "ax = fig.add_subplot(111)\n",
    "ax.plot(support, cdf_va - Gt,  color = 'orange', label = 'VA/Horseshoe', linestyle = '-.', linewidth = 1)\n",
    "ax.plot(support, ridge_df['cdf_hmc'] - Gt, color = 'red', label = 'HMC/VA Ridge', linewidth = 1)\n",
    "ax.plot(support, cdf_horse_hmc - Gt, color = 'green', linestyle= '--', label = 'HMC Horseshoe')\n",
    "ax.legend()\n",
    "plt.legend(framealpha=0.0)\n",
    "#plt.tight_layout()\n",
    "plt.xlabel('angle')\n",
    "plt.autoscale()\n",
    "plt.ylabel('average predictive CDF - empirical CDF')\n",
    "plt.savefig('../../../data/commaai/calibration/marginal_calibration/marginal_calibration_2.png') "
   ]
  },
  {
   "cell_type": "markdown",
   "metadata": {},
   "source": [
    "## Probability Calibration PIT"
   ]
  },
  {
   "cell_type": "code",
   "execution_count": 23,
   "metadata": {},
   "outputs": [
    {
     "name": "stderr",
     "output_type": "stream",
     "text": [
      "100%|██████████| 10472/10472 [10:28:21<00:00,  3.60s/it]\n"
     ]
    }
   ],
   "source": [
    "cdf_va_is = []\n",
    "j = 0\n",
    "for supp in tqdm(densities_va):\n",
    "    dens = densities_va[j]\n",
    "    def f_integral(i):\n",
    "        return(integrate.trapz(dens[i:(i+2)], support[i:(i+2)]))\n",
    "    with multiprocessing.Pool(20) as proc:\n",
    "        probs = proc.map(f_integral, np.array([i for i in range(0, grid.shape[0])]))\n",
    "    cdf_va_i = np.cumsum(np.array(probs))\n",
    "    cdf_va_is.append(cdf_va_i)\n",
    "    j += 1"
   ]
  },
  {
   "cell_type": "code",
   "execution_count": 24,
   "metadata": {},
   "outputs": [
    {
     "name": "stderr",
     "output_type": "stream",
     "text": [
      "100%|██████████| 10472/10472 [13:19:22<00:00,  4.58s/it] \n"
     ]
    }
   ],
   "source": [
    "cdf_hmc_is = []\n",
    "j = 0\n",
    "for supp in tqdm(densities_va):\n",
    "    dens = densities_hmc[j]\n",
    "    def f_integral(i):\n",
    "        return(integrate.trapz(dens[i:(i+2)], support[i:(i+2)]))\n",
    "    with multiprocessing.Pool(20) as proc:\n",
    "        probs = proc.map(f_integral, np.array([i for i in range(0, grid.shape[0])]))\n",
    "    cdf_va_i = np.cumsum(np.array(probs))\n",
    "    cdf_hmc_is.append(cdf_va_i)\n",
    "    j += 1"
   ]
  },
  {
   "cell_type": "code",
   "execution_count": 25,
   "metadata": {},
   "outputs": [],
   "source": [
    "cdf_va_is = np.array(cdf_va_is)\n",
    "cdf_hmc_is = np.array(cdf_hmc_is)"
   ]
  },
  {
   "cell_type": "code",
   "execution_count": 26,
   "metadata": {},
   "outputs": [],
   "source": [
    "np.save('../../../data/commaai/calibration/marginal_calibration/cdf_va_horse_dens.npy', cdf_va_is)\n",
    "np.save('../../../data/commaai/calibration/marginal_calibration/cdf_hmc_horse_dens.npy', cdf_hmc_is)"
   ]
  },
  {
   "cell_type": "code",
   "execution_count": 27,
   "metadata": {},
   "outputs": [],
   "source": [
    "np.save('../../../data/commaai/calibration/marginal_calibration/support_va_horse_dens.npy', support)"
   ]
  },
  {
   "cell_type": "code",
   "execution_count": null,
   "metadata": {},
   "outputs": [],
   "source": [
    "x = cdf_va_is[0]"
   ]
  },
  {
   "cell_type": "code",
   "execution_count": null,
   "metadata": {},
   "outputs": [],
   "source": [
    "lb = max(x[x <= 0.025])\n",
    "ub = min(x[x >= 0.975])"
   ]
  },
  {
   "cell_type": "code",
   "execution_count": null,
   "metadata": {},
   "outputs": [],
   "source": [
    "alpha = 0.05\n",
    "confidence_intervals = []\n",
    "i = 0\n",
    "for cdf in tqdm(cdf_va_is):\n",
    "    lb = max(support[cdf <= alpha])\n",
    "    try:\n",
    "        ub = min(support[cdf >= 1-alpha/2])\n",
    "    except: \n",
    "        print('error at index:' + str(i))\n",
    "        ub = max(support)\n",
    "    i += 1\n",
    "    confidence_intervals.append([lb, ub])"
   ]
  },
  {
   "cell_type": "code",
   "execution_count": null,
   "metadata": {},
   "outputs": [],
   "source": [
    "conf_width = np.array([confidence_intervals[i][1] - confidence_intervals[i][0] for i in range(0, len(cdf_va_is))])"
   ]
  },
  {
   "cell_type": "code",
   "execution_count": null,
   "metadata": {},
   "outputs": [],
   "source": [
    "np.mean(conf_width)"
   ]
  },
  {
   "cell_type": "code",
   "execution_count": null,
   "metadata": {},
   "outputs": [],
   "source": [
    "cdf_va_is.shape"
   ]
  },
  {
   "cell_type": "code",
   "execution_count": null,
   "metadata": {},
   "outputs": [],
   "source": [
    "in_interval = []\n",
    "for i in range(0, len(cdf_va_is)):\n",
    "    conf_int = confidence_intervals[i]\n",
    "    if conf_int[0] <= true_y[i] <= conf_int[1]:\n",
    "        in_interval.append(1)\n",
    "    else:\n",
    "        in_interval.append(0)"
   ]
  },
  {
   "cell_type": "code",
   "execution_count": null,
   "metadata": {},
   "outputs": [],
   "source": [
    "np.mean(in_interval)"
   ]
  },
  {
   "cell_type": "code",
   "execution_count": null,
   "metadata": {},
   "outputs": [],
   "source": [
    "plt.plot(confidence_intervals)\n",
    "plt.plot(true_y)"
   ]
  },
  {
   "cell_type": "code",
   "execution_count": null,
   "metadata": {},
   "outputs": [],
   "source": [
    "grid == support"
   ]
  },
  {
   "cell_type": "code",
   "execution_count": null,
   "metadata": {},
   "outputs": [],
   "source": []
  }
 ],
 "metadata": {
  "kernelspec": {
   "display_name": "Python 3",
   "language": "python",
   "name": "python3"
  },
  "language_info": {
   "codemirror_mode": {
    "name": "ipython",
    "version": 3
   },
   "file_extension": ".py",
   "mimetype": "text/x-python",
   "name": "python",
   "nbconvert_exporter": "python",
   "pygments_lexer": "ipython3",
   "version": "3.8.5"
  }
 },
 "nbformat": 4,
 "nbformat_minor": 4
}
