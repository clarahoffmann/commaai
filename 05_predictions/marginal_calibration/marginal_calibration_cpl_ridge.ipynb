{
 "cells": [
  {
   "cell_type": "code",
   "execution_count": 24,
   "metadata": {},
   "outputs": [],
   "source": [
    "import numpy as np\n",
    "import pandas as pd\n",
    "from scipy.stats import norm\n",
    "from tqdm import tqdm\n",
    "from scipy.integrate import simps\n",
    "import matplotlib.pyplot as plt\n",
    "import imageio\n",
    "import multiprocessing\n",
    "from scipy import integrate\n",
    "from helpers import Fy, find_closest_element, get_densities, get_cdf\n",
    "import statsmodels.api as sm"
   ]
  },
  {
   "cell_type": "code",
   "execution_count": 25,
   "metadata": {},
   "outputs": [],
   "source": [
    "# read in val data\n",
    "B_zeta = np.load('../../../data/commaai/extracted_coefficients/20201027_filtered_gaussian_resampled/Bzeta/B_zeta_val.npy')\n",
    "true_y = np.load('../../../data/commaai/extracted_coefficients/20201027_filtered_gaussian_resampled/Bzeta/labels_val.npy')\n",
    "\n",
    "density_path = '../../../data/commaai/density/gaussian_density_filtered.csv'\n",
    "density = pd.read_csv(density_path)"
   ]
  },
  {
   "cell_type": "code",
   "execution_count": 26,
   "metadata": {},
   "outputs": [],
   "source": [
    "# estimate density \n",
    "kde = sm.nonparametric.KDEUnivariate(true_y)\n",
    "kde.fit()\n",
    "support = kde.support\n",
    "endog = kde.endog\n",
    "density_gauss = kde.density"
   ]
  },
  {
   "cell_type": "code",
   "execution_count": 27,
   "metadata": {},
   "outputs": [],
   "source": [
    "no_points = 16384\n",
    "grid = support #np.linspace(min(density['axes']), max(density['axes']), no_points)\n",
    "density_y = density['axes']\n",
    "density_pdf = density['pdf']\n",
    "# compute these beforehand to save computation time\n",
    "p_y_y0 = [density_pdf[find_closest_element(y_i,density_y)] for y_i in grid]\n",
    "part_1 = np.array([norm.ppf(Fy(y_i, density)) for y_i in grid])\n",
    "phi_1_z = np.array([norm(0, 1).pdf(y_i) for y_i in part_1 ])"
   ]
  },
  {
   "cell_type": "markdown",
   "metadata": {},
   "source": [
    "## True Density"
   ]
  },
  {
   "cell_type": "code",
   "execution_count": 28,
   "metadata": {},
   "outputs": [],
   "source": [
    "grid = np.array([i for i in range(0, support.shape[0])])\n",
    "def f_integral(i):\n",
    "    return(integrate.trapz(density_gauss[i:(i+2)], support[i:(i+2)]))\n",
    "with multiprocessing.Pool(20) as proc:\n",
    "    probs = proc.map(f_integral, grid)\n",
    "cdf = np.cumsum(np.array(probs))"
   ]
  },
  {
   "cell_type": "markdown",
   "metadata": {},
   "source": [
    "# VA + Ridge + Precise"
   ]
  },
  {
   "cell_type": "code",
   "execution_count": 29,
   "metadata": {},
   "outputs": [],
   "source": [
    "va_ridge_dir = '../../../data/commaai/va/filtered_gaussian_resampled/Ridge/'\n",
    "mu_t_va = np.genfromtxt(va_ridge_dir + 'mu_t_va.csv', delimiter = ',')\n",
    "iteration = mu_t_va.shape[0]\n",
    "beta_va = np.mean(mu_t_va[int(0.9*iteration):iteration,0:10], axis = 0)\n",
    "tau_sq_va = np.exp(np.mean(mu_t_va[int(0.9*iteration):iteration,10], axis = 0))\n",
    "p = len(beta_va)"
   ]
  },
  {
   "cell_type": "code",
   "execution_count": 30,
   "metadata": {},
   "outputs": [
    {
     "name": "stderr",
     "output_type": "stream",
     "text": [
      "100%|██████████| 10472/10472 [01:48<00:00, 96.57it/s] \n"
     ]
    }
   ],
   "source": [
    "no_points = 16384\n",
    "grid = np.linspace(min(density['axes']), max(density['axes']), no_points)\n",
    "densities_va = get_densities(B_zeta, support, p_y_y0, part_1, phi_1_z, beta_va, tau_sq_va, p,  'va_ridge', None)"
   ]
  },
  {
   "cell_type": "code",
   "execution_count": 31,
   "metadata": {},
   "outputs": [],
   "source": [
    "av_density_va = np.mean(np.array(densities_va), axis = 0)"
   ]
  },
  {
   "cell_type": "code",
   "execution_count": 32,
   "metadata": {},
   "outputs": [],
   "source": [
    "def f_integral(i):\n",
    "    return(integrate.trapz(av_density_va[i:(i+2)], support[i:(i+2)]))\n",
    "with multiprocessing.Pool(20) as proc:\n",
    "    probs = proc.map(f_integral, np.array([i for i in range(0, grid.shape[0])]))\n",
    "cdf_va = np.cumsum(np.array(probs))"
   ]
  },
  {
   "cell_type": "code",
   "execution_count": 33,
   "metadata": {},
   "outputs": [
    {
     "name": "stderr",
     "output_type": "stream",
     "text": [
      "100%|██████████| 10472/10472 [11:00:27<00:00,  3.78s/it] \n"
     ]
    }
   ],
   "source": [
    "densities_va\n",
    "cdf_va_is = []\n",
    "j = 0\n",
    "for supp in tqdm(densities_va):\n",
    "    dens = densities_va[j]\n",
    "    def f_integral(i):\n",
    "        return(integrate.trapz(dens[i:(i+2)], support[i:(i+2)]))\n",
    "    with multiprocessing.Pool(20) as proc:\n",
    "        probs = proc.map(f_integral, np.array([i for i in range(0, grid.shape[0])]))\n",
    "    cdf_va_i = np.cumsum(np.array(probs))\n",
    "    cdf_va_is.append(cdf_va_i)\n",
    "    j += 1"
   ]
  },
  {
   "cell_type": "code",
   "execution_count": 34,
   "metadata": {},
   "outputs": [],
   "source": [
    "cdf_va_is = np.array(cdf_va_is)"
   ]
  },
  {
   "cell_type": "code",
   "execution_count": 35,
   "metadata": {},
   "outputs": [],
   "source": [
    "np.save('../../../data/commaai/calibration/marginal_calibration/cdf_va_ridge_dens.npy', cdf_va_is)"
   ]
  },
  {
   "cell_type": "markdown",
   "metadata": {},
   "source": [
    "# HMC + Ridge + Precise"
   ]
  },
  {
   "cell_type": "code",
   "execution_count": 36,
   "metadata": {},
   "outputs": [],
   "source": [
    "hmc_ridge_dir = '../../../data/commaai/mcmc/filtered_gaussian_resampled/Ridge/'"
   ]
  },
  {
   "cell_type": "code",
   "execution_count": 37,
   "metadata": {},
   "outputs": [],
   "source": [
    "hmc_thetas = np.load(str(hmc_ridge_dir + 'all_thetas_L100_3000.npy'))[1000:, :]"
   ]
  },
  {
   "cell_type": "code",
   "execution_count": 38,
   "metadata": {},
   "outputs": [],
   "source": [
    "beta_hmc = np.mean(hmc_thetas[:,0:10], axis = 0)\n",
    "taus_sq_hmc = np.exp(hmc_thetas[:,10])"
   ]
  },
  {
   "cell_type": "code",
   "execution_count": 39,
   "metadata": {},
   "outputs": [],
   "source": [
    "def get_densities(B_zeta, grid, p_y_y0, part_1, phi_1_z, beta, tau_sq, p, method, Lambda):\n",
    "    densities_va = []\n",
    "    for i in tqdm(range(0, B_zeta.shape[0])):\n",
    "        dens = predict_single_density(B_zeta[i].reshape(p,), grid, p_y_y0, part_1, phi_1_z, beta, tau_sq, Lambda, method)\n",
    "        densities_va.append(dens)\n",
    "    return(densities_va)\n",
    "\n",
    "def predict_single_density(x, grid, p_y_y0, part_1, phi_1_z, beta, tau_sq, Lambda, method):\n",
    "    \n",
    "    psi_x0 = x\n",
    "\n",
    "    f_eta_x0 = psi_x0.dot(beta)\n",
    "\n",
    "    if method == 'va_ridge':\n",
    "        s_0_hat = (1 + tau_sq*psi_x0.dot(psi_x0))**(-0.5)\n",
    "    \n",
    "    elif method == 'hmc_ridge':\n",
    "        s_0_hat_js = []\n",
    "        for tau_j in tau_sq:\n",
    "            s_0_hat_j = (1 + tau_j*psi_x0.dot(psi_x0))**(-0.5)\n",
    "            s_0_hat_js.append(s_0_hat_j)\n",
    "        s_0_hat = np.mean(np.array(s_0_hat_js))\n",
    "\n",
    "    elif method == 'va_horseshoe' or method == 'hmc_horseshoe':\n",
    "        s_0_hat = (1 + (psi_x0*Lambda**2).dot(psi_x0))**(-0.5)\n",
    "\n",
    "    part_0 = s_0_hat*f_eta_x0\n",
    "\n",
    "    # compute the cdf of new ys\n",
    "    term_1 = norm(0, 1).pdf((part_1- part_0) / s_0_hat)\n",
    "    p_y_single_obs_whole_dens = (p_y_y0/phi_1_z)*(1/s_0_hat)*term_1\n",
    "\n",
    "    return(p_y_single_obs_whole_dens)"
   ]
  },
  {
   "cell_type": "code",
   "execution_count": 40,
   "metadata": {},
   "outputs": [
    {
     "name": "stderr",
     "output_type": "stream",
     "text": [
      "100%|██████████| 10472/10472 [04:15<00:00, 40.95it/s]\n"
     ]
    }
   ],
   "source": [
    "p =10\n",
    "densities_hmc = get_densities(B_zeta, support, p_y_y0, part_1, phi_1_z, beta_hmc, taus_sq_hmc, p,  'hmc_ridge', None)"
   ]
  },
  {
   "cell_type": "code",
   "execution_count": 41,
   "metadata": {},
   "outputs": [],
   "source": [
    "av_density_hmc = np.mean(np.array(densities_hmc), axis = 0)"
   ]
  },
  {
   "cell_type": "code",
   "execution_count": 16,
   "metadata": {},
   "outputs": [],
   "source": [
    "def f_integral(i):\n",
    "    return(integrate.trapz(av_density_hmc[i:(i+2)], support[i:(i+2)]))\n",
    "with multiprocessing.Pool(20) as proc:\n",
    "    probs = proc.map(f_integral, np.array([i for i in range(0, grid.shape[0])]))\n",
    "cdf_hmc = np.cumsum(np.array(probs))"
   ]
  },
  {
   "cell_type": "code",
   "execution_count": 42,
   "metadata": {},
   "outputs": [
    {
     "name": "stderr",
     "output_type": "stream",
     "text": [
      "100%|██████████| 10472/10472 [12:54:19<00:00,  4.44s/it] \n"
     ]
    }
   ],
   "source": [
    "densities_va\n",
    "cdf_va_is = []\n",
    "j = 0\n",
    "for supp in tqdm(densities_va):\n",
    "    dens = densities_hmc[j]\n",
    "    def f_integral(i):\n",
    "        return(integrate.trapz(dens[i:(i+2)], support[i:(i+2)]))\n",
    "    with multiprocessing.Pool(20) as proc:\n",
    "        probs = proc.map(f_integral, np.array([i for i in range(0, grid.shape[0])]))\n",
    "    cdf_va_i = np.cumsum(np.array(probs))\n",
    "    cdf_va_is.append(cdf_va_i)\n",
    "    j += 1"
   ]
  },
  {
   "cell_type": "code",
   "execution_count": 43,
   "metadata": {},
   "outputs": [],
   "source": [
    "cdf_va_is = np.array(cdf_va_is)"
   ]
  },
  {
   "cell_type": "code",
   "execution_count": 44,
   "metadata": {},
   "outputs": [],
   "source": [
    "np.save('../../../data/commaai/calibration/marginal_calibration/cdf_hmc_ridge_dens.npy', cdf_va_is)"
   ]
  },
  {
   "cell_type": "markdown",
   "metadata": {},
   "source": [
    "# Assess marginal calibration"
   ]
  },
  {
   "cell_type": "code",
   "execution_count": 20,
   "metadata": {},
   "outputs": [
    {
     "data": {
      "text/plain": [
       "[<matplotlib.lines.Line2D at 0x7f1510b1c640>]"
      ]
     },
     "execution_count": 20,
     "metadata": {},
     "output_type": "execute_result"
    },
    {
     "data": {
      "image/png": "[encoded data removed]",
      "text/plain": [
       "<Figure size 432x288 with 1 Axes>"
      ]
     },
     "metadata": {
      "needs_background": "light"
     },
     "output_type": "display_data"
    }
   ],
   "source": [
    "plt.plot(cdf, cdf_hmc - cdf, 'red')\n",
    "#plt.plot(cdf, cdf_va, 'blue')"
   ]
  },
  {
   "cell_type": "code",
   "execution_count": 23,
   "metadata": {},
   "outputs": [
    {
     "data": {
      "image/png": "[encoded data removed]",
      "text/plain": [
       "<Figure size 504x360 with 1 Axes>"
      ]
     },
     "metadata": {
      "needs_background": "light"
     },
     "output_type": "display_data"
    }
   ],
   "source": [
    "fig = plt.figure(figsize=(7, 5))\n",
    "ax = fig.add_subplot(111)\n",
    "\n",
    "# Plot the histrogram\n",
    "ax.hist(true_y, bins=300, density=True,\n",
    "        zorder=5, edgecolor='k', alpha=0.1)\n",
    "ax.plot(support, av_density_hmc, color = 'red', linestyle= '--', label = 'HMC/VA Ridge')\n",
    "ax.plot(support, density_gauss, color = 'black', label = 'true density')\n",
    "ax.set_xlim(-12,12)\n",
    "ax.legend()\n",
    "plt.legend(framealpha=0.0)\n",
    "plt.xlabel('angle')\n",
    "plt.ylabel('density')\n",
    "plt.tight_layout()\n",
    "plt.savefig('../../../data/commaai/calibration/marginal_calibration/marginal_calibration_ridge.png', dpi = 900) "
   ]
  },
  {
   "cell_type": "code",
   "execution_count": 22,
   "metadata": {},
   "outputs": [],
   "source": [
    "df_ridge = pd.DataFrame({'support': support,\n",
    "             'density_hmc': av_density_hmc,\n",
    "             'density_gauss': density_gauss, \n",
    "             'cdf_hmc': cdf_hmc})\n",
    "df_ridge.to_csv('../../../data/commaai/calibration/marginal_calibration/ridge_prior_calibration.csv')"
   ]
  },
  {
   "cell_type": "code",
   "execution_count": null,
   "metadata": {},
   "outputs": [],
   "source": [
    "z_pred = B_zeta.dot(beta_hmc)\n",
    "y_pred = []\n",
    "for z in z_pred:\n",
    "    y_pred.append(density.loc[find_closest_element(float(norm.cdf(z)), density['cdf']), 'axes'])"
   ]
  },
  {
   "cell_type": "code",
   "execution_count": null,
   "metadata": {},
   "outputs": [],
   "source": [
    "plt.scatter(true_y, y_pred, alpha = 0.2)"
   ]
  },
  {
   "cell_type": "code",
   "execution_count": null,
   "metadata": {},
   "outputs": [],
   "source": [
    "plt.plot(cdf, cdf_hmc - cdf)"
   ]
  },
  {
   "cell_type": "code",
   "execution_count": null,
   "metadata": {},
   "outputs": [],
   "source": [
    "# VA + Ridge + Imprecise"
   ]
  },
  {
   "cell_type": "code",
   "execution_count": null,
   "metadata": {},
   "outputs": [],
   "source": [
    "va_ridge_dir = '../../../data/commaai/va/unfiltered_gaussian_resampled/Ridge/'\n",
    "mu_t_va_impr = np.genfromtxt(va_ridge_dir + 'mu_t_va.csv', delimiter = ',')\n",
    "beta_va_impr = mu_t_va_impr[0:10]\n",
    "tau_sq_va_impr = np.exp(mu_t_va_impr[10])\n",
    "p = 10"
   ]
  },
  {
   "cell_type": "code",
   "execution_count": null,
   "metadata": {},
   "outputs": [],
   "source": [
    "densities_va_impr = get_densities(B_zeta, support, p_y_y0, part_1, phi_1_z, beta_va_impr, tau_sq_va_impr, p, 'va_ridge', None)"
   ]
  },
  {
   "cell_type": "code",
   "execution_count": null,
   "metadata": {},
   "outputs": [],
   "source": [
    "plt.plot(densities_va[0], grid)"
   ]
  },
  {
   "cell_type": "code",
   "execution_count": null,
   "metadata": {},
   "outputs": [],
   "source": [
    "av_density_ridge_impr = np.mean(np.array(densities_va_impr), axis = 0)"
   ]
  },
  {
   "cell_type": "code",
   "execution_count": null,
   "metadata": {},
   "outputs": [],
   "source": [
    "def f_integral(i):\n",
    "    return(integrate.trapz(av_density_ridge_impr[i:(i+2)], support[i:(i+2)]))\n",
    "with multiprocessing.Pool(20) as p:\n",
    "    probs = p.map(f_integral, grid)\n",
    "cdf_va_im = np.cumsum(np.array(probs))"
   ]
  },
  {
   "cell_type": "code",
   "execution_count": null,
   "metadata": {},
   "outputs": [],
   "source": [
    "plt.plot(cdf, (cdf_va - cdf))"
   ]
  },
  {
   "cell_type": "code",
   "execution_count": null,
   "metadata": {},
   "outputs": [],
   "source": [
    "plt.plot(cdf_va, cdf)\n",
    "plt.plot([0,1], [0,1])\n",
    "plt.ylim(0,1)\n",
    "plt.xlim(0,1)"
   ]
  },
  {
   "cell_type": "code",
   "execution_count": null,
   "metadata": {},
   "outputs": [],
   "source": [
    "plt.plot(support, density_gauss, 'red')\n",
    "#plt.plot(support, av_density_ridge_impr, 'yellow')\n",
    "plt.plot(support, av_density_va, 'blue')\n"
   ]
  },
  {
   "cell_type": "code",
   "execution_count": null,
   "metadata": {},
   "outputs": [],
   "source": [
    "plt.plot(density['axes'], density['pdf'], 'red')\n",
    "plt.plot(support, density_gauss,  'blue')\n",
    "#plt.plot(support, av_density_ridge_impr, 'yellow')\n",
    "#plt.plot(support, av_density_va, 'blue')"
   ]
  },
  {
   "cell_type": "code",
   "execution_count": null,
   "metadata": {},
   "outputs": [],
   "source": [
    "density"
   ]
  },
  {
   "cell_type": "code",
   "execution_count": null,
   "metadata": {},
   "outputs": [],
   "source": [
    "# VA + Horseshoe + Precise"
   ]
  },
  {
   "cell_type": "code",
   "execution_count": null,
   "metadata": {},
   "outputs": [],
   "source": [
    "va_ridge_dir = '../../../data/commaai/va/filtered_gaussian_resampled/Horseshoe/'\n",
    "mu_t_va_horse_pr =  np.mean(np.load(va_ridge_dir + 'mu_ts_delete.npy')[20000:,:,:], axis = 0)\n",
    "beta_va_horse_pr = mu_t_va_horse_pr[0:10]\n",
    "tau_sq_va_horse_pr = np.exp(mu_t_va_horse_pr[10])\n",
    "p = 10"
   ]
  },
  {
   "cell_type": "code",
   "execution_count": null,
   "metadata": {},
   "outputs": [],
   "source": [
    "va_horse = np.load(va_ridge_dir + 'mu_ts_delete.npy')"
   ]
  },
  {
   "cell_type": "code",
   "execution_count": null,
   "metadata": {},
   "outputs": [],
   "source": [
    "va_horse.shape"
   ]
  },
  {
   "cell_type": "code",
   "execution_count": null,
   "metadata": {},
   "outputs": [],
   "source": [
    "densities_va_horse_pr = get_densities(B_zeta, grid, p_y_y0, part_1, phi_1_z, beta_va_horse_pr, tau_sq_va_horse_pr, p, 'va_ridge', None)"
   ]
  },
  {
   "cell_type": "code",
   "execution_count": null,
   "metadata": {},
   "outputs": [],
   "source": [
    "av_density_va_horse_pr = np.mean(np.array(densities_va_horse_pr), axis = 0)"
   ]
  },
  {
   "cell_type": "code",
   "execution_count": null,
   "metadata": {},
   "outputs": [],
   "source": [
    "df = pd.DataFrame({'grid': grid, \n",
    "              'va_ridge_pr': av_density_va,\n",
    "              'va_ridge_impr': av_density_ridge_impr,\n",
    "              'va_horse_impr': av_density_va_horse_pr})"
   ]
  },
  {
   "cell_type": "code",
   "execution_count": null,
   "metadata": {},
   "outputs": [],
   "source": [
    "df.to_csv('marginal_calibration.csv')\n",
    "np.savetxt(\"true_y.csv\", true_y, delimiter=\",\")"
   ]
  },
  {
   "cell_type": "code",
   "execution_count": null,
   "metadata": {},
   "outputs": [],
   "source": [
    "plt.plot(grid, av_density_va)\n",
    "plt.plot(grid, av_density_ridge_impr)\n",
    "plt.plot(grid, av_density_va_horse_pr)"
   ]
  },
  {
   "cell_type": "code",
   "execution_count": null,
   "metadata": {},
   "outputs": [],
   "source": []
  }
 ],
 "metadata": {
  "kernelspec": {
   "display_name": "Python 3",
   "language": "python",
   "name": "python3"
  },
  "language_info": {
   "codemirror_mode": {
    "name": "ipython",
    "version": 3
   },
   "file_extension": ".py",
   "mimetype": "text/x-python",
   "name": "python",
   "nbconvert_exporter": "python",
   "pygments_lexer": "ipython3",
   "version": "3.8.5"
  }
 },
 "nbformat": 4,
 "nbformat_minor": 4
}
