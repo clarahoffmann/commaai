{
 "cells": [
  {
   "cell_type": "markdown",
   "metadata": {},
   "source": [
    "## QQ plots"
   ]
  },
  {
   "cell_type": "code",
   "execution_count": 15,
   "metadata": {},
   "outputs": [],
   "source": [
    "import numpy as np\n",
    "import pandas as pd\n",
    "import pylab \n",
    "import scipy.stats as stats\n",
    "import matplotlib.pyplot as plt"
   ]
  },
  {
   "cell_type": "markdown",
   "metadata": {},
   "source": [
    "Quantile-quantile plots are used to visually test the normality assumption of the error terms\n",
    "which we use to obtain a closed-form/known copula (=Gaussian copula bc error terms are gaussian).\n",
    "For this assumption to be valid we want the plotted quantiles to be on the diagonal axis."
   ]
  },
  {
   "cell_type": "code",
   "execution_count": 21,
   "metadata": {},
   "outputs": [],
   "source": [
    "# Paths\n",
    "vartheta_path = '../../data/density/03082020/vartheta_final.csv'\n",
    "B_zeta_path = '../../bdd100k_test_data/extracted_coefficients/11082020/B_zeta_predictions.csv'\n",
    "z_path = '../../data/tfrecords/03082020/val_yaw_transformed.csv'\n",
    "density_path = '../../data/density/03082020/density_dataframe_diffusion.csv'\n",
    "checkpoint_path = '../../bdd100k_test_data/models/11082020/'\n",
    "model_dir = '../../bdd100k_test_data/models/11082020'\n",
    "true_y_path = '../../data/tfrecords/03082020/val_yaw_original.csv'\n",
    "outfile = '../../data/plots/QQplots'\n",
    "\n",
    "vartheta = np.genfromtxt(vartheta_path, delimiter=',')\n",
    "B_zeta = np.genfromtxt(B_zeta_path, delimiter=',')\n",
    "n = B_zeta.shape[0]\n",
    "#true_z = np.genfromtxt(z_path, delimiter=',')[:n]\n",
    "density = pd.read_csv(density_path)\n",
    "true_y = np.genfromtxt(true_y_path, delimiter=',')[:n]\n",
    "\n",
    "# p = number of betas\n",
    "p = B_zeta.shape[1]\n",
    "\n",
    "# read variational parameters\n",
    "# from vector and transform to original values\n",
    "beta_t = vartheta[0:p].reshape(p,)\n",
    "Lambda_t_sq = np.diag(np.exp(vartheta[p:2*p].reshape(p,)))\n",
    "tau_t = np.exp(vartheta[2*p])"
   ]
  },
  {
   "cell_type": "code",
   "execution_count": 8,
   "metadata": {},
   "outputs": [],
   "source": [
    "# predictions\n",
    "pred = B_zeta.dot(beta_t)"
   ]
  },
  {
   "cell_type": "code",
   "execution_count": 12,
   "metadata": {},
   "outputs": [],
   "source": [
    "epsilon = true_y - pred"
   ]
  },
  {
   "cell_type": "code",
   "execution_count": 22,
   "metadata": {},
   "outputs": [
    {
     "data": {
      "image/png": "[encoded data removed]",
      "text/plain": [
       "<Figure size 432x288 with 1 Axes>"
      ]
     },
     "metadata": {
      "needs_background": "light"
     },
     "output_type": "display_data"
    },
    {
     "data": {
      "text/plain": [
       "<Figure size 432x288 with 0 Axes>"
      ]
     },
     "metadata": {},
     "output_type": "display_data"
    }
   ],
   "source": [
    "#measurements = np.random.normal(loc = 20, scale = 5, size=100)   \n",
    "stats.probplot(epsilon, dist=\"norm\", plot=plt)\n",
    "#plt.titel(\"Residual QQ-plot\")\n",
    "plt.show()\n",
    "plt.savefig(str(outfile + 'qq_plot_old_density.png'))"
   ]
  },
  {
   "cell_type": "code",
   "execution_count": null,
   "metadata": {},
   "outputs": [],
   "source": []
  }
 ],
 "metadata": {
  "kernelspec": {
   "display_name": "Python 3",
   "language": "python",
   "name": "python3"
  },
  "language_info": {
   "codemirror_mode": {
    "name": "ipython",
    "version": 3
   },
   "file_extension": ".py",
   "mimetype": "text/x-python",
   "name": "python",
   "nbconvert_exporter": "python",
   "pygments_lexer": "ipython3",
   "version": "3.8.2"
  }
 },
 "nbformat": 4,
 "nbformat_minor": 4
}
