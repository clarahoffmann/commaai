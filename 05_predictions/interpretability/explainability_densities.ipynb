{
 "cells": [
  {
   "cell_type": "markdown",
   "metadata": {},
   "source": [
    "## Illustrate Explainability with Predictive Densities\n",
    "Author: Clara Hoffmann \\\n",
    "Overview:\n",
    "1. Load packages and data\n",
    "2. Compute predictive densities\n",
    "3. Plot predictive densities\n",
    "4. Plot images"
   ]
  },
  {
   "cell_type": "code",
   "execution_count": 1,
   "metadata": {},
   "outputs": [
    {
     "name": "stderr",
     "output_type": "stream",
     "text": [
      "/usr/lib/python3/dist-packages/requests/__init__.py:89: RequestsDependencyWarning: urllib3 (1.26.4) or chardet (3.0.4) doesn't match a supported version!\n",
      "  warnings.warn(\"urllib3 ({}) or chardet ({}) doesn't match a supported \"\n"
     ]
    }
   ],
   "source": [
    "# load packages\n",
    "import cv2\n",
    "import imageio\n",
    "import pandas as pd\n",
    "import numpy as np\n",
    "import tensorflow as tf\n",
    "from helpers_trans import DensityPredictor, build_model_mc_dropout, build_model_mdn\n",
    "import matplotlib.pyplot as plt\n",
    "from tqdm import tqdm\n",
    "import statsmodels.api as sm\n",
    "from mdn import sample_from_output"
   ]
  },
  {
   "cell_type": "code",
   "execution_count": 47,
   "metadata": {},
   "outputs": [],
   "source": [
    "# load density\n",
    "density_path = '../../../data/commaai/density/gaussian_density_filtered.csv'\n",
    "density = pd.read_csv(density_path)"
   ]
  },
  {
   "cell_type": "code",
   "execution_count": 3,
   "metadata": {},
   "outputs": [],
   "source": [
    "path_all_imgs = '../../../data/commaai/training_files_filtered/indices/train_indices.csv'\n",
    "all_img_df = pd.read_csv(path_all_imgs)\n",
    "img_path_base = '../../../data/commaai/train_bags_2/'\n",
    "paths = img_path_base + all_img_df['path'][0:5]"
   ]
  },
  {
   "cell_type": "code",
   "execution_count": 4,
   "metadata": {},
   "outputs": [],
   "source": [
    "path_all_imgs = '../../../data/commaai/training_files_filtered/indices/review.csv'\n",
    "review_df_test = pd.read_csv(path_all_imgs)"
   ]
  },
  {
   "cell_type": "code",
   "execution_count": 5,
   "metadata": {},
   "outputs": [],
   "source": [
    "# paths of images that interest us\n",
    "paths = ['../../../data/commaai/train_bags_2/0/80_436run1.png', # parting road, closer\n",
    "         '../../../data/commaai/train_bags_2/0/121_254run1.png',# # parting road, closer, other side\n",
    "        '../../../data/commaai/train_bags_2/0/118_977run1.png', # left turn only half visible\n",
    "        ]"
   ]
  },
  {
   "cell_type": "markdown",
   "metadata": {},
   "source": [
    "## 2. Compute predictive densities"
   ]
  },
  {
   "cell_type": "code",
   "execution_count": 6,
   "metadata": {},
   "outputs": [
    {
     "name": "stdout",
     "output_type": "stream",
     "text": [
      "building model ...\n",
      "loading model weights ...\n",
      "... finished loading weights.\n",
      "start predicting Bzeta on images ...\n",
      "... finished predicting Bzeta on images.\n",
      "chose variational approximation with ridge prior as method\n",
      "computing fixed values for density estimation ...\n",
      "...finished computing fixed values.\n"
     ]
    }
   ],
   "source": [
    "# predictive densities ridge prior + va\n",
    "predictor_va_prec = DensityPredictor('va_ridge', 'precise', 10)\n",
    "predictor_va_prec.load_bzeta_model()\n",
    "predictor_va_prec.predict_Bzeta(paths, True, False)\n",
    "predictor_va_prec.choose_method('va_ridge')\n",
    "predictor_va_prec.initialize_grid(density, 65536)\n",
    "densities_va_prec = predictor_va_prec.predict_density()"
   ]
  },
  {
   "cell_type": "code",
   "execution_count": 7,
   "metadata": {},
   "outputs": [
    {
     "name": "stdout",
     "output_type": "stream",
     "text": [
      "building model ...\n",
      "loading model weights ...\n",
      "... finished loading weights.\n",
      "start predicting Bzeta on images ...\n",
      "... finished predicting Bzeta on images.\n",
      "chose variational approximation with ridge prior as method\n",
      "computing fixed values for density estimation ...\n",
      "...finished computing fixed values.\n"
     ]
    }
   ],
   "source": [
    "# predictive densities ridge prior + va\n",
    "predictor_va_prec_im = DensityPredictor('va_ridge', 'imprecise', 10)\n",
    "predictor_va_prec_im.load_bzeta_model()\n",
    "predictor_va_prec_im.predict_Bzeta(paths, True, False)\n",
    "predictor_va_prec_im.choose_method('va_ridge')\n",
    "predictor_va_prec_im.initialize_grid(density, 65536)\n",
    "densities_va_prec_im = predictor_va_prec_im.predict_density()"
   ]
  },
  {
   "cell_type": "code",
   "execution_count": 8,
   "metadata": {},
   "outputs": [],
   "source": [
    "# predictive densities horseshoe prior + hmc\n",
    "#predictor_hmc_prec_horse = DensityPredictor('hmc_horseshoe', 'precise', 10)\n",
    "#predictor_hmc_prec_horse.load_bzeta_model()\n",
    "#predictor_hmc_prec_horse.predict_Bzeta(paths, True, False)\n",
    "#predictor_hmc_prec_horse.choose_method('hmc_horseshoe')\n",
    "#predictor_hmc_prec_horse.initialize_grid(density, 65536)\n",
    "#densities_hmc_prec_horse = predictor_hmc_prec_horse.predict_density()"
   ]
  },
  {
   "cell_type": "code",
   "execution_count": 9,
   "metadata": {},
   "outputs": [
    {
     "name": "stdout",
     "output_type": "stream",
     "text": [
      "building model ...\n",
      "loading model weights ...\n",
      "... finished loading weights.\n",
      "start predicting Bzeta on images ...\n",
      "... finished predicting Bzeta on images.\n",
      "chose variational approximation with horseshoe prior as method\n",
      "computing fixed values for density estimation ...\n",
      "...finished computing fixed values.\n"
     ]
    }
   ],
   "source": [
    "# predictive densities horseshoe prior + va\n",
    "predictor_va_prec_horse = DensityPredictor('va_horseshoe', 'precise', 10)\n",
    "predictor_va_prec_horse.load_bzeta_model()\n",
    "predictor_va_prec_horse.predict_Bzeta(paths, True, False)\n",
    "predictor_va_prec_horse.choose_method('va_horseshoe')\n",
    "predictor_va_prec_horse.initialize_grid(density, 65536)\n",
    "densities_va_prec_horse = predictor_va_prec_horse.predict_density()"
   ]
  },
  {
   "cell_type": "code",
   "execution_count": 10,
   "metadata": {},
   "outputs": [
    {
     "name": "stdout",
     "output_type": "stream",
     "text": [
      "building model ...\n",
      "loading model weights ...\n",
      "... finished loading weights.\n",
      "start predicting Bzeta on images ...\n",
      "... finished predicting Bzeta on images.\n",
      "chose variational approximation with horseshoe prior as method\n",
      "computing fixed values for density estimation ...\n",
      "...finished computing fixed values.\n"
     ]
    }
   ],
   "source": [
    "# predictive densities horseshoe prior + va\n",
    "predictor_va_prec_horse_im = DensityPredictor('va_horseshoe', 'imprecise', 10)\n",
    "predictor_va_prec_horse_im.load_bzeta_model()\n",
    "predictor_va_prec_horse_im.predict_Bzeta(paths, True, False)\n",
    "predictor_va_prec_horse_im.choose_method('va_horseshoe')\n",
    "predictor_va_prec_horse_im.initialize_grid(density, 65536)\n",
    "densities_va_prec_horse_im = predictor_va_prec_horse_im.predict_density()"
   ]
  },
  {
   "cell_type": "code",
   "execution_count": 11,
   "metadata": {},
   "outputs": [],
   "source": [
    "# predictive densities ridge prior + hmc\n",
    "#predictor_hmc_prec = DensityPredictor('hmc_ridge', 'precise', 10)\n",
    "#predictor_hmc_prec.load_bzeta_model()\n",
    "#predictor_hmc_prec.predict_Bzeta(paths, True, False)\n",
    "#predictor_hmc_prec.choose_method('hmc_ridge')\n",
    "#predictor_hmc_prec.initialize_grid(density, 65536)\n",
    "#densities_hmc_prec = predictor_hmc_prec.predict_density()"
   ]
  },
  {
   "cell_type": "markdown",
   "metadata": {},
   "source": [
    "## Compute predictive densities MC-dropout"
   ]
  },
  {
   "cell_type": "code",
   "execution_count": 12,
   "metadata": {},
   "outputs": [
    {
     "data": {
      "text/plain": [
       "<tensorflow.python.training.tracking.util.CheckpointLoadStatus at 0x7f7ff2f72e80>"
      ]
     },
     "execution_count": 12,
     "metadata": {},
     "output_type": "execute_result"
    }
   ],
   "source": [
    "checkpoint_path = '../../../data/models/mc_dropout_cpl/export/'\n",
    "model = build_model_mc_dropout()\n",
    "model.load_weights(tf.train.latest_checkpoint(checkpoint_path))"
   ]
  },
  {
   "cell_type": "code",
   "execution_count": 13,
   "metadata": {},
   "outputs": [
    {
     "name": "stderr",
     "output_type": "stream",
     "text": [
      "  0%|          | 0/3 [00:00<?, ?it/s]"
     ]
    },
    {
     "name": "stdout",
     "output_type": "stream",
     "text": [
      "WARNING:tensorflow:5 out of the last 13 calls to <function Model.make_predict_function.<locals>.predict_function at 0x7f7fe4646c10> triggered tf.function retracing. Tracing is expensive and the excessive number of tracings could be due to (1) creating @tf.function repeatedly in a loop, (2) passing tensors with different shapes, (3) passing Python objects instead of tensors. For (1), please define your @tf.function outside of the loop. For (2), @tf.function has experimental_relax_shapes=True option that relaxes argument shapes that can avoid unnecessary retracing. For (3), please refer to https://www.tensorflow.org/guide/function#controlling_retracing and https://www.tensorflow.org/api_docs/python/tf/function for  more details.\n"
     ]
    },
    {
     "name": "stderr",
     "output_type": "stream",
     "text": [
      "100%|██████████| 3/3 [02:33<00:00, 51.26s/it]\n"
     ]
    }
   ],
   "source": [
    "mc_samples = 1000\n",
    "preds = []\n",
    "for i in tqdm(range(0, len(paths))):\n",
    "    img = (imageio.imread(str(paths[i]))[:,:,0:3]/255).reshape(1,66,200,3)\n",
    "    x_pred = np.repeat(img, mc_samples, axis = 0)\n",
    "    pred = model.predict(x_pred.reshape(-1,66,200,3))\n",
    "    preds.append(pred)\n",
    "preds = np.array(preds)"
   ]
  },
  {
   "cell_type": "code",
   "execution_count": 14,
   "metadata": {},
   "outputs": [
    {
     "name": "stderr",
     "output_type": "stream",
     "text": [
      "100%|██████████| 3/3 [00:00<00:00, 206.62it/s]\n"
     ]
    }
   ],
   "source": [
    "densities = []\n",
    "supports = []\n",
    "for i in tqdm(range(0, len(paths))):\n",
    "    kde = sm.nonparametric.KDEUnivariate(preds[i,:,:])\n",
    "    kde.fit() # Estimate the densities\n",
    "    support = kde.support\n",
    "    endog = kde.endog\n",
    "    density = kde.density\n",
    "    supports.append(support)\n",
    "    densities.append(density) "
   ]
  },
  {
   "cell_type": "code",
   "execution_count": 15,
   "metadata": {},
   "outputs": [
    {
     "data": {
      "text/plain": [
       "<tensorflow.python.training.tracking.util.CheckpointLoadStatus at 0x7f7fe474d940>"
      ]
     },
     "execution_count": 15,
     "metadata": {},
     "output_type": "execute_result"
    }
   ],
   "source": [
    "checkpoint_path = '../../../data/models/mc_dropout_cil/export/'\n",
    "model = build_model_mc_dropout()\n",
    "model.load_weights(tf.train.latest_checkpoint(checkpoint_path))"
   ]
  },
  {
   "cell_type": "code",
   "execution_count": 16,
   "metadata": {},
   "outputs": [
    {
     "name": "stderr",
     "output_type": "stream",
     "text": [
      "100%|██████████| 3/3 [00:18<00:00,  6.17s/it]\n"
     ]
    }
   ],
   "source": [
    "mc_samples = 1000\n",
    "preds_im = []\n",
    "for i in tqdm(range(0, len(paths))):\n",
    "    img = (imageio.imread(str(paths[i]))[:,:,0:3]/255).reshape(1,66,200,3)\n",
    "    x_pred = np.repeat(img, mc_samples, axis = 0)\n",
    "    pred = model.predict(x_pred.reshape(-1,66,200,3))\n",
    "    preds_im.append(pred)\n",
    "preds_im = np.array(preds_im)"
   ]
  },
  {
   "cell_type": "code",
   "execution_count": 17,
   "metadata": {},
   "outputs": [
    {
     "name": "stderr",
     "output_type": "stream",
     "text": [
      "100%|██████████| 3/3 [00:00<00:00, 553.65it/s]\n"
     ]
    }
   ],
   "source": [
    "densities_im = []\n",
    "supports_im = []\n",
    "for i in tqdm(range(0, len(paths))):\n",
    "    kde = sm.nonparametric.KDEUnivariate(preds_im[i,:,:])\n",
    "    kde.fit() # Estimate the densities\n",
    "    support = kde.support\n",
    "    endog = kde.endog\n",
    "    density = kde.density\n",
    "    supports_im.append(support)\n",
    "    densities_im.append(density) "
   ]
  },
  {
   "cell_type": "markdown",
   "metadata": {},
   "source": [
    "## MDN"
   ]
  },
  {
   "cell_type": "code",
   "execution_count": 41,
   "metadata": {},
   "outputs": [
    {
     "data": {
      "text/plain": [
       "<tensorflow.python.training.tracking.util.CheckpointLoadStatus at 0x7f7fe4094df0>"
      ]
     },
     "execution_count": 41,
     "metadata": {},
     "output_type": "execute_result"
    }
   ],
   "source": [
    "checkpoint_path = '../../../data/models/mdn_cpl/export/'\n",
    "mdn_model = build_model_mdn()\n",
    "mdn_model.load_weights(tf.train.latest_checkpoint(checkpoint_path)) "
   ]
  },
  {
   "cell_type": "code",
   "execution_count": 42,
   "metadata": {},
   "outputs": [
    {
     "name": "stderr",
     "output_type": "stream",
     "text": [
      "100%|██████████| 3/3 [00:02<00:00,  1.44it/s]\n"
     ]
    }
   ],
   "source": [
    "mdn_preds = []\n",
    "mdn_samples = []\n",
    "mdn_labels  = []\n",
    "no_samp = 1000\n",
    "for i in tqdm(range(0,len(paths))): \n",
    "    img = imageio.imread(str(paths[i]))[:,:,0:3]/255\n",
    "    pred = mdn_model.predict(img.reshape(1,66,200,3))   \n",
    "    y_samples = np.array([np.apply_along_axis(sample_from_output, 1, pred, 1, 50, temp=1.0) for i in range(0,no_samp)])\n",
    "    mdn_samples.append(y_samples)\n",
    "    label = all_img_df.loc[i,'angle']\n",
    "    mdn_labels.append(label) \n",
    "    mdn_preds.append(pred)\n",
    "mdn_preds = np.array(mdn_preds).reshape(3,-1)"
   ]
  },
  {
   "cell_type": "code",
   "execution_count": 43,
   "metadata": {},
   "outputs": [
    {
     "name": "stderr",
     "output_type": "stream",
     "text": [
      "100%|██████████| 3/3 [00:00<00:00, 675.52it/s]\n"
     ]
    }
   ],
   "source": [
    "mdn_densities = []\n",
    "mdn_supports = []\n",
    "for i in tqdm(range(0, len(paths))):\n",
    "    kde = sm.nonparametric.KDEUnivariate(mdn_preds[i,:])\n",
    "    kde.fit() # Estimate the densities\n",
    "    support = kde.support\n",
    "    endog = kde.endog\n",
    "    density = kde.density\n",
    "    mdn_supports.append(support)\n",
    "    mdn_densities.append(density) "
   ]
  },
  {
   "cell_type": "code",
   "execution_count": 44,
   "metadata": {},
   "outputs": [
    {
     "data": {
      "text/plain": [
       "<tensorflow.python.training.tracking.util.CheckpointLoadStatus at 0x7f7fe45cdd30>"
      ]
     },
     "execution_count": 44,
     "metadata": {},
     "output_type": "execute_result"
    }
   ],
   "source": [
    "checkpoint_path = '../../../data/models/mdn_cil/export/'\n",
    "mdn_model = build_model_mdn()\n",
    "mdn_model.load_weights(tf.train.latest_checkpoint(checkpoint_path)) "
   ]
  },
  {
   "cell_type": "code",
   "execution_count": 45,
   "metadata": {},
   "outputs": [
    {
     "name": "stderr",
     "output_type": "stream",
     "text": [
      "100%|██████████| 3/3 [00:02<00:00,  1.42it/s]\n"
     ]
    }
   ],
   "source": [
    "mdn_preds_im = []\n",
    "mdn_samples_im = []\n",
    "mdn_labels_im  = []\n",
    "no_samp = 1000\n",
    "for i in tqdm(range(0,len(paths))): \n",
    "    img = imageio.imread(str(paths[i]))[:,:,0:3]/255\n",
    "    pred = mdn_model.predict(img.reshape(1,66,200,3))   \n",
    "    y_samples = np.array([np.apply_along_axis(sample_from_output, 1, pred, 1, 50, temp=1.0) for i in range(0,no_samp)])\n",
    "    mdn_samples_im.append(y_samples)\n",
    "    label = all_img_df.loc[i,'angle']\n",
    "    mdn_labels_im.append(label) \n",
    "    mdn_preds_im.append(pred)\n",
    "mdn_preds_im = np.array(mdn_preds).reshape(3,-1)"
   ]
  },
  {
   "cell_type": "code",
   "execution_count": 46,
   "metadata": {},
   "outputs": [
    {
     "name": "stderr",
     "output_type": "stream",
     "text": [
      "100%|██████████| 3/3 [00:00<00:00, 686.47it/s]\n"
     ]
    }
   ],
   "source": [
    "mdn_densities_im = []\n",
    "mdn_supports_im = []\n",
    "for i in tqdm(range(0, len(paths))):\n",
    "    kde = sm.nonparametric.KDEUnivariate(mdn_preds_im[i,:])\n",
    "    kde.fit() # Estimate the densities\n",
    "    support = kde.support\n",
    "    endog = kde.endog\n",
    "    density = kde.density\n",
    "    mdn_supports_im.append(support)\n",
    "    mdn_densities_im.append(density) "
   ]
  },
  {
   "cell_type": "markdown",
   "metadata": {},
   "source": [
    "## Density Predictions"
   ]
  },
  {
   "cell_type": "code",
   "execution_count": 26,
   "metadata": {},
   "outputs": [
    {
     "data": {
      "image/png": "[encoded data removed]",
      "text/plain": [
       "<Figure size 576x432 with 1 Axes>"
      ]
     },
     "metadata": {
      "needs_background": "light"
     },
     "output_type": "display_data"
    }
   ],
   "source": [
    "plt.rcParams.update({'font.size': 14})\n",
    "fig = plt.figure(figsize=(4,3))\n",
    "plt.plot(np.linspace(min(density['axes']), max(density['axes']), 65536), densities_va_prec_horse_im[2], color = 'red', label = 'IC-NLM horseshoe')\n",
    "plt.plot(np.linspace(min(density['axes']), max(density['axes']), 65536), densities_va_prec_im[2], color = 'orange', label = 'IC-NLM Ridge')\n",
    "#plt.plot(np.linspace(min(density['axes']), max(density['axes']), 65536), densities_hmc_prec_horse[1], color = 'red', label = 'HMC Horseshoe')\n",
    "#plt.plot(np.linspace(min(density['axes']), max(density['axes']), 65536), densities_hmc_prec[1], color = 'orange', label = 'HMC Ridge')\n",
    "plt.plot(supports_im[2], densities_im[2], color = 'blue', label = 'MC dropout')\n",
    "plt.plot(mdn_supports_im[2], mdn_densities_im[2], color = 'green', label = 'MDN')\n",
    "plt.xlabel('angle')\n",
    "plt.ylabel('density')\n",
    "plt.xlim(-20,20)\n",
    "plt.ylim(0,0.6)\n",
    "plt.text(-19, 0.2, 'right turn', size=12, color='grey')\n",
    "plt.text(13, 0.2, 'left turn', size=12, color='grey')\n",
    "plt.vlines(x = 0, ymin = -1, ymax = 1, linestyle = 'dotted', color = 'grey')\n",
    "plt.tight_layout()\n",
    "plt.vlines(x = float(all_img_df[all_img_df['path'] == paths[0][35:]]['angle']), ymin = -1, ymax = 1, color = 'blue', label = 'true steering angle', alpha = 0.2)\n",
    "plt.legend(framealpha=0.0)\n",
    "fig.set_size_inches(8, 6)\n",
    "figure = plt.gcf()\n",
    "figure.set_size_inches(8, 6)\n",
    "#plt.savefig('../../../data/commaai/calibration/examples_viz/dens_80_436run1.pdf') "
   ]
  },
  {
   "cell_type": "code",
   "execution_count": 48,
   "metadata": {},
   "outputs": [
    {
     "data": {
      "image/png": "[encoded data removed]",
      "text/plain": [
       "<Figure size 576x432 with 1 Axes>"
      ]
     },
     "metadata": {
      "needs_background": "light"
     },
     "output_type": "display_data"
    }
   ],
   "source": [
    "plt.rcParams.update({'font.size': 13})\n",
    "fig = plt.figure(figsize=(4,3))\n",
    "plt.plot(np.linspace(min(density['axes']), max(density['axes']), 65536), densities_va_prec_horse[1], color = 'red', label = 'IC-NLM horseshoe')\n",
    "plt.plot(np.linspace(min(density['axes']), max(density['axes']), 65536), densities_va_prec[1], color = 'orange', label = 'IC-NLM ridge')\n",
    "#plt.plot(np.linspace(min(density['axes']), max(density['axes']), 65536), densities_hmc_prec_horse[1], color = 'red', label = 'HMC Horseshoe')\n",
    "#plt.plot(np.linspace(min(density['axes']), max(density['axes']), 65536), densities_hmc_prec[1], color = 'orange', label = 'HMC Ridge')\n",
    "plt.plot(supports[1], densities[1], color = 'blue', label = 'MC dropout')\n",
    "plt.plot(mdn_supports[1], mdn_densities[1], color = 'green', label = 'MDN')\n",
    "plt.xlabel('angle')\n",
    "plt.ylabel('density')\n",
    "plt.xlim(-20,20)\n",
    "plt.ylim(0,0.7)\n",
    "plt.text(-19, 0.2, 'right turn', size=12, color='grey')\n",
    "plt.text(13, 0.2, 'left turn', size=12, color='grey')\n",
    "plt.vlines(x = 0, ymin = -1, ymax = 1, linestyle = 'dotted', color = 'grey')\n",
    "plt.tight_layout()\n",
    "plt.vlines(x = float(all_img_df[all_img_df['path'] == paths[1][35:]]['angle']), ymin = -1, ymax = 1, color = 'blue', label = 'true steering angle', alpha = 0.2)\n",
    "plt.legend(framealpha=0.0)\n",
    "plt.gca().invert_xaxis()\n",
    "fig.set_size_inches(8, 6)\n",
    "figure = plt.gcf()\n",
    "figure.set_size_inches(8, 6)\n",
    "plt.savefig('../../../data/commaai/calibration/examples_viz/dens_121_254run1.pdf', dpi = 100, bbox_inches='tight')"
   ]
  },
  {
   "cell_type": "code",
   "execution_count": 54,
   "metadata": {},
   "outputs": [
    {
     "data": {
      "image/png": "[encoded data removed]",
      "text/plain": [
       "<Figure size 576x432 with 1 Axes>"
      ]
     },
     "metadata": {
      "needs_background": "light"
     },
     "output_type": "display_data"
    }
   ],
   "source": [
    "plt.rcParams.update({'font.size': 13})\n",
    "fig = plt.figure(figsize=(4,3))\n",
    "plt.vlines(x = float(all_img_df[all_img_df['path'] == paths[0][35:]]['angle']), ymin = -1, ymax = 1, color = 'blue', label = 'true steering angle', alpha = 0.2)\n",
    "plt.plot(np.linspace(min(density['axes']), max(density['axes']), 65536), densities_va_prec_horse_im[0], color = 'red', label = 'IC-NLM horseshoe', linestyle = '-.')\n",
    "plt.plot(np.linspace(min(density['axes']), max(density['axes']), 65536), densities_va_prec_im[0], color = 'orange', label = 'IC-NLM ridge')\n",
    "#plt.plot(np.linspace(min(density['axes']), max(density['axes']), 65536), densities_hmc_prec_horse[0], color = 'red', label = 'HMC Horseshoe')\n",
    "#plt.plot(np.linspace(min(density['axes']), max(density['axes']), 65536), densities_hmc_prec[0], color = 'orange', label = 'HMC Ridge', linestyle = '-.')\n",
    "plt.plot(supports_im[0], densities_im[0], color = 'blue', label = 'MC dropout', linestyle = ':')\n",
    "plt.plot(mdn_supports_im[0], mdn_densities_im[0], color = 'green', label = 'MDN', linestyle = '--')\n",
    "plt.xlabel('angle')\n",
    "plt.ylabel('density')\n",
    "plt.xlim(-20,20)\n",
    "plt.ylim(0,0.5)\n",
    "plt.text(-10, 0.2, 'right turn', size=12, color='grey')\n",
    "plt.text(14, 0.2, 'left turn', size=12, color='grey')\n",
    "plt.tight_layout()\n",
    "plt.legend(framealpha=0.0)\n",
    "plt.gca().invert_xaxis()\n",
    "fig.set_size_inches(8, 6)\n",
    "figure = plt.gcf()\n",
    "figure.set_size_inches(8, 6)\n",
    "plt.savefig('dens_80_436run1.pdf', dpi = 100, bbox_inches='tight')\n",
    "#plt.savefig('../../../data/commaai/calibration/examples_viz/dens_80_436run1.pdf', dpi = 100, bbox_inches='tight')"
   ]
  },
  {
   "cell_type": "code",
   "execution_count": 52,
   "metadata": {},
   "outputs": [
    {
     "data": {
      "image/png": "[encoded data removed]",
      "text/plain": [
       "<Figure size 576x432 with 1 Axes>"
      ]
     },
     "metadata": {
      "needs_background": "light"
     },
     "output_type": "display_data"
    }
   ],
   "source": [
    "plt.rcParams.update({'font.size': 13})\n",
    "fig = plt.figure(figsize=(4,3))\n",
    "plt.vlines(x = float(review_df_test[review_df_test['path'] == paths[2][35:]]['angle']), ymin = -1, ymax = 1, color = 'blue', label = 'true steering angle', alpha = 0.2)\n",
    "plt.plot(np.linspace(min(density['axes']), max(density['axes']), 65536), densities_va_prec[2], color = 'orange', label = 'IC-NLM ridge')\n",
    "plt.plot(np.linspace(min(density['axes']), max(density['axes']), 65536), densities_va_prec_horse[2], color = 'red', label = 'IC-NLM horseshoe', linestyle = '-.')\n",
    "#plt.plot(np.linspace(min(density['axes']), max(density['axes']), 65536), densities_hmc_prec_horse[2], color = 'red', label = 'HMC Horseshoe')\n",
    "#plt.plot(np.linspace(min(density['axes']), max(density['axes']), 65536), densities_hmc_prec[2], color = 'orange', label = 'HMC Ridge', linestyle = '-.')\n",
    "plt.plot(supports[2], densities[2], color = 'blue', label = 'MC dropout', linestyle = ':')\n",
    "plt.plot(mdn_supports[2], mdn_densities[2], color = 'green', label = 'MDN', linestyle = '--')\n",
    "plt.xlabel('angle')\n",
    "plt.ylabel('density')\n",
    "plt.xlim(-20,20)\n",
    "plt.ylim(0,0.5)\n",
    "plt.text(-10, 0.2, 'right turn', size=12, color='grey')\n",
    "plt.text(14, 0.2, 'left turn', size=12, color='grey')\n",
    "plt.tight_layout()\n",
    "plt.legend(framealpha=0.0)\n",
    "plt.gca().invert_xaxis()\n",
    "fig.set_size_inches(8, 6)\n",
    "figure = plt.gcf()\n",
    "figure.set_size_inches(8, 6)\n",
    "plt.savefig('dens_118_977run1.pdf', dpi = 100, bbox_inches='tight')\n",
    "#plt.savefig('../../../data/commaai/calibration/examples_viz/dens_118_977run1.pdf', dpi = 100, bbox_inches='tight')"
   ]
  },
  {
   "cell_type": "code",
   "execution_count": null,
   "metadata": {},
   "outputs": [],
   "source": [
    "plt.rcParams.update({'font.size': 14})\n",
    "fig = plt.figure(figsize=(4,3))\n",
    "plt.plot(np.linspace(min(density['axes']), max(density['axes']), 65536), densities_va_prec_im[1], color = 'orange', label = 'IC-NLM ridge')\n",
    "plt.plot(np.linspace(min(density['axes']), max(density['axes']), 65536), densities_va_prec_horse_im[1], color = 'red', label = 'IC-NLM horseshoe')\n",
    "#plt.plot(np.linspace(min(density['axes']), max(density['axes']), 65536), densities_hmc_prec_horse[1], color = 'red', label = 'HMC Horseshoe')\n",
    "#plt.plot(np.linspace(min(density['axes']), max(density['axes']), 65536), densities_hmc_prec[1], color = 'orange', label = 'HMC Ridge')\n",
    "plt.plot(supports_im[1], densities_im[1], color = 'blue', label = 'MC dropout')\n",
    "plt.plot(mdn_supports_im[1], mdn_densities_im[1], color = 'green', label = 'MDN')\n",
    "plt.xlabel('angle')\n",
    "plt.ylabel('density')\n",
    "plt.xlim(-20,20)\n",
    "plt.ylim(0,0.6)\n",
    "plt.text(-10, 0.2, 'right turn', size=12, color='grey')\n",
    "plt.text(14, 0.2, 'left turn', size=12, color='grey')\n",
    "plt.vlines(x = 0, ymin = -1, ymax = 1, linestyle = 'dotted', color = 'grey')\n",
    "plt.tight_layout()\n",
    "plt.vlines(x = float(review_df_test[review_df_test['path'] == paths[1][35:]]['angle']), ymin = -1, ymax = 1, color = 'blue', label = 'true steering angle', alpha = 0.2)\n",
    "plt.legend(framealpha=0.0)\n",
    "plt.gca().invert_xaxis()\n",
    "plt.savefig('dens_118_977run1_im.pdf') \n",
    "#plt.savefig('../../../data/commaai/calibration/examples_viz/dens_118_977run1_im.pdf') "
   ]
  },
  {
   "cell_type": "code",
   "execution_count": null,
   "metadata": {},
   "outputs": [],
   "source": [
    "plt.plot(np.linspace(min(density['axes']), max(density['axes']), 65536), densities_va_prec_im[2], color = 'orange', label = 'ICDNLM Ridge')\n",
    "plt.plot(np.linspace(min(density['axes']), max(density['axes']), 65536), densities_va_prec_horse_im[2], color = 'red', label = 'ICDNLM Horseshoe')\n",
    "#plt.plot(np.linspace(min(density['axes']), max(density['axes']), 65536), densities_hmc_prec_horse[1], color = 'red', label = 'HMC Horseshoe')\n",
    "#plt.plot(np.linspace(min(density['axes']), max(density['axes']), 65536), densities_hmc_prec[1], color = 'orange', label = 'HMC Ridge')\n",
    "plt.plot(supports_im[2], densities_im[2], color = 'blue', label = 'MC-Dropout')\n",
    "plt.plot(mdn_supports_im[2], mdn_densities_im[2], color = 'green', label = 'MDN')\n",
    "plt.xlabel('angle')\n",
    "plt.ylabel('density')\n",
    "plt.xlim(-20,20)\n",
    "plt.ylim(0,0.6)\n",
    "plt.text(-10, 0.2, 'right turn', size=12, color='grey')\n",
    "plt.text(14, 0.2, 'left turn', size=12, color='grey')\n",
    "plt.vlines(x = 0, ymin = -1, ymax = 1, linestyle = 'dotted', color = 'grey')\n",
    "plt.tight_layout()\n",
    "plt.vlines(x = float(review_df_test[review_df_test['path'] == paths[2][35:]]['angle']), ymin = -1, ymax = 1, color = 'blue', label = 'true steering angle', alpha = 0.2)\n",
    "plt.legend(framealpha=0.0)\n",
    "plt.gca().invert_xaxis()\n",
    "plt.savefig('../../../data/commaai/calibration/examples_viz/dens_118_977run1_im.pdf') "
   ]
  },
  {
   "cell_type": "markdown",
   "metadata": {},
   "source": [
    "## 4. Plot images"
   ]
  },
  {
   "cell_type": "code",
   "execution_count": null,
   "metadata": {},
   "outputs": [],
   "source": [
    "def change_brightness(img, value=30):\n",
    "    hsv = cv2.cvtColor(img, cv2.COLOR_BGR2HSV)\n",
    "    h, s, v = cv2.split(hsv)\n",
    "    v = cv2.add(v,value)\n",
    "    v[v > 255] = 255\n",
    "    v[v < 0] = 0\n",
    "    final_hsv = cv2.merge((h, s, v))\n",
    "    img = cv2.cvtColor(final_hsv, cv2.COLOR_HSV2BGR)\n",
    "    return img"
   ]
  },
  {
   "cell_type": "code",
   "execution_count": null,
   "metadata": {},
   "outputs": [],
   "source": [
    "img = imageio.imread(paths[0])\n",
    "#img = cv2.resize(img, dsize = (291,218), interpolation = cv2.INTER_LINEAR)[76:142, 45:245,0:3]/255\n",
    "figure, ax = plt.figure(), plt.gca()\n",
    "ax.imshow(change_brightness(img[:,:,0:3]))\n",
    "ax.get_xaxis().set_visible(False)\n",
    "ax.get_yaxis().set_visible(False)\n",
    "plt.tight_layout()\n",
    "#figure.savefig('../../../data/commaai/calibration/examples_viz/80_436run1.pdf', format='pdf', dpi=900)"
   ]
  },
  {
   "cell_type": "code",
   "execution_count": null,
   "metadata": {},
   "outputs": [],
   "source": [
    "#img = imageio.imread(paths[1])\n",
    "img = imageio.imread('../../../data/commaai/train_bags_2/0/75_436run1.png')\n",
    "#img = cv2.resize(img, dsize = (291,218), interpolation = cv2.INTER_LINEAR)[76:142, 45:245,0:3]/255\n",
    "figure, ax = plt.figure(), plt.gca()\n",
    "ax.imshow(img[:,:,0:3])\n",
    "ax.get_xaxis().set_visible(False)\n",
    "ax.get_yaxis().set_visible(False)\n",
    "plt.tight_layout()\n",
    "#figure.savefig('../../../data/commaai/calibration/examples_viz/121_254run1.pdf', format='pdf', dpi=900)"
   ]
  },
  {
   "cell_type": "code",
   "execution_count": null,
   "metadata": {},
   "outputs": [],
   "source": [
    "img = change_brightness(imageio.imread(paths[2]), value = 70)\n",
    "#img = cv2.resize(img, dsize = (291,218), interpolation = cv2.INTER_LINEAR)[76:142, 45:245,0:3]/255\n",
    "figure, ax = plt.figure(), plt.gca()\n",
    "ax.imshow(img[:,:,0:3])\n",
    "ax.get_xaxis().set_visible(False)\n",
    "ax.get_yaxis().set_visible(False)\n",
    "plt.tight_layout()\n",
    "#figure.savefig('../../../data/commaai/calibration/examples_viz/118_977run1.pdf', format='pdf', dpi=900)"
   ]
  },
  {
   "cell_type": "code",
   "execution_count": null,
   "metadata": {},
   "outputs": [],
   "source": [
    "img = imageio.imread('../../../data/old/train_bags_2/0/1_436run1.png')"
   ]
  },
  {
   "cell_type": "code",
   "execution_count": null,
   "metadata": {},
   "outputs": [],
   "source": [
    "figure, ax = plt.figure(), plt.gca()\n",
    "ax.imshow(change_brightness(img[:,:,0:3], value = 70))\n",
    "ax.get_xaxis().set_visible(False)\n",
    "ax.get_yaxis().set_visible(False)\n",
    "plt.tight_layout()\n",
    "ax.axis(\"off\")\n",
    "figure.savefig('../../../data/commaai/calibration/examples_viz/example_1.pdf', format='pdf', dpi=900)"
   ]
  },
  {
   "cell_type": "code",
   "execution_count": null,
   "metadata": {},
   "outputs": [],
   "source": [
    "img = imageio.imread('../../../data/old/train_bags_2/0/10_555run1.png')\n",
    "figure, ax = plt.figure(), plt.gca()\n",
    "ax.imshow(change_brightness(img[:,:,0:3], value = 70))\n",
    "ax.get_xaxis().set_visible(False)\n",
    "ax.get_yaxis().set_visible(False)\n",
    "plt.tight_layout()\n",
    "ax.axis(\"off\")\n",
    "figure.savefig('../../../data/commaai/calibration/examples_viz/example_2.pdf', format='pdf', dpi=900)"
   ]
  },
  {
   "cell_type": "code",
   "execution_count": null,
   "metadata": {},
   "outputs": [],
   "source": []
  }
 ],
 "metadata": {
  "kernelspec": {
   "display_name": "Python 3",
   "language": "python",
   "name": "python3"
  },
  "language_info": {
   "codemirror_mode": {
    "name": "ipython",
    "version": 3
   },
   "file_extension": ".py",
   "mimetype": "text/x-python",
   "name": "python",
   "nbconvert_exporter": "python",
   "pygments_lexer": "ipython3",
   "version": "3.8.10"
  }
 },
 "nbformat": 4,
 "nbformat_minor": 4
}
