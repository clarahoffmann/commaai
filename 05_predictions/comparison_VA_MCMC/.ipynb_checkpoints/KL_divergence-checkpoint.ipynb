{
 "cells": [
  {
   "cell_type": "code",
   "execution_count": 4,
   "metadata": {},
   "outputs": [],
   "source": [
    "import numpy as np\n",
    "import matplotlib.pyplot as plt\n",
    "import pandas as pd"
   ]
  },
  {
   "cell_type": "code",
   "execution_count": 5,
   "metadata": {},
   "outputs": [],
   "source": [
    "# MCMC results\n",
    "beta_mcmc_path = '../../../data/commaai/mcmc/unfiltered_gaussian_resampled/Ridge/betas.npy'\n",
    "tau_mcmc_path = '../../../data/commaai/mcmc/unfiltered_gaussian_resampled/Ridge/taus.npy'\n",
    "beta_mcmc = np.mean(np.load(beta_mcmc_path), axis = 0)\n",
    "tau_log_sq_mcmc = float(np.mean(np.load(tau_mcmc_path), axis = 0))\n",
    "p = int(beta_mcmc.shape[0])"
   ]
  },
  {
   "cell_type": "code",
   "execution_count": 9,
   "metadata": {},
   "outputs": [],
   "source": [
    "# VA results\n",
    "beta_va_path = '../../../data/commaai/va/unfiltered_gaussian_resampled/Ridge/vartheta.npy'\n",
    "lower_bounds_path = '../../../data/commaai/va/unfiltered_gaussian_resampled/Ridge/lower_bounds.npy'\n",
    "vartheta = np.load(beta_va_path).reshape(50000, 11)[int(0.9*50000):50000,:]\n",
    "lower_bounds = np.load(lower_bounds_path)"
   ]
  },
  {
   "cell_type": "code",
   "execution_count": 13,
   "metadata": {},
   "outputs": [
    {
     "data": {
      "text/plain": [
       "(5000, 11)"
      ]
     },
     "execution_count": 13,
     "metadata": {},
     "output_type": "execute_result"
    }
   ],
   "source": [
    "vartheta.shape"
   ]
  },
  {
   "cell_type": "code",
   "execution_count": null,
   "metadata": {},
   "outputs": [],
   "source": []
  }
 ],
 "metadata": {
  "kernelspec": {
   "display_name": "Python 3",
   "language": "python",
   "name": "python3"
  },
  "language_info": {
   "codemirror_mode": {
    "name": "ipython",
    "version": 3
   },
   "file_extension": ".py",
   "mimetype": "text/x-python",
   "name": "python",
   "nbconvert_exporter": "python",
   "pygments_lexer": "ipython3",
   "version": "3.8.5"
  }
 },
 "nbformat": 4,
 "nbformat_minor": 4
}
