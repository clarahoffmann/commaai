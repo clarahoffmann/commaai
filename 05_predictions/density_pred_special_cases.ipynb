{
 "cells": [
  {
   "cell_type": "code",
   "execution_count": 5,
   "metadata": {},
   "outputs": [],
   "source": [
    "import numpy as np\n",
    "import pandas as pd\n",
    "from helpers_trans import Fy, imgs_input_fn,  multivariate_normal, find_closest_element, predict_density, bring_df_to_correct_format\n",
    "import helpers_trans as hlp\n",
    "import scipy.stats\n",
    "from scipy.stats import norm\n",
    "import matplotlib.pyplot as plt\n",
    "import tensorflow as tf\n",
    "from tensorflow import keras\n",
    "from keras.layers import Dense, Conv2D, MaxPooling2D, Dropout, Flatten, BatchNormalization"
   ]
  },
  {
   "cell_type": "code",
   "execution_count": 6,
   "metadata": {},
   "outputs": [],
   "source": [
    "# p = number of betas\n",
    "p = 10"
   ]
  },
  {
   "cell_type": "code",
   "execution_count": 7,
   "metadata": {},
   "outputs": [],
   "source": [
    "extracted_coefficients_directory = '../../data/commaai/extracted_coefficients/20201027_filtered_gaussian_resampled/'\n",
    "B_zeta_path = str(extracted_coefficients_directory + 'Bzeta/B_zeta.npy')\n",
    "beta_path = str(extracted_coefficients_directory + 'beta/beta.csv')\n",
    "z_path = str(extracted_coefficients_directory + 'Bzeta/tr_labels.npy')\n",
    "y_path = str(extracted_coefficients_directory + 'Bzeta/labels.npy')\n",
    "beta = np.genfromtxt(beta_path, delimiter=',')\n",
    "B_zeta = np.load(B_zeta_path)\n",
    "B_zeta = B_zeta.reshape(B_zeta.shape[0], beta.shape[0])\n",
    "true_z = np.load(z_path)\n",
    "true_y = np.load(y_path)\n",
    "\n",
    "# filtered Ridge \n",
    "va_ridge_dir = '../../data/commaai/va/filtered_gaussian_resampled/Ridge/'\n",
    "mu_t_va = np.genfromtxt(va_ridge_dir + 'mu_t_va.csv', delimiter = ',')\n",
    "beta = np.mean(mu_t_va[int(0.9*50000):50000,0:10], axis = 0)\n",
    "tau_sq = np.exp(np.mean(mu_t_va[int(0.9*50000):50000,10], axis = 0))\n",
    "#vartheta_path = '../../data/density/03082020/vartheta_final.csv'\n",
    "#B_zeta_path = '../../bdd100k_test_data/extracted_coefficients/10092020/B_zeta_predictions_val.csv'\n",
    "#z_path = '../../data/tfrecords/03082020/val_yaw_transformed.csv'\n",
    "density_path = '../../data/commaai/density/gaussian_density_filtered.csv'\n",
    "density = pd.read_csv(density_path)\n",
    "#true_y_path = '../../data/tfrecords/03082020/val_yaw_original.csv'\n",
    "\n",
    "\n",
    "#vartheta = np.genfromtxt(vartheta_path, delimiter=',')\n",
    "#B_zeta = np.genfromtxt(B_zeta_path, delimiter=',')\n",
    "n = B_zeta.shape[0]"
   ]
  },
  {
   "cell_type": "code",
   "execution_count": null,
   "metadata": {},
   "outputs": [],
   "source": [
    "# get basis function for new observation"
   ]
  },
  {
   "cell_type": "code",
   "execution_count": 4,
   "metadata": {},
   "outputs": [],
   "source": [
    "grid = np.linspace(min(density['axes']), max(density['axes']), 10000)\n",
    "density_y = density['axes']\n",
    "density_pdf = density['pdf']\n",
    "# compute these beforehand to save computation time\n",
    "p_y_y0 = [density_pdf[find_closest_element(y_i,density_y)] for y_i in grid]\n",
    "part_1 = np.array([norm.ppf(Fy(y_i, density)) for y_i in grid])\n",
    "phi_1_z = np.array([scipy.stats.norm(0, 1).pdf(y_i) for y_i in part_1])"
   ]
  },
  {
   "cell_type": "code",
   "execution_count": null,
   "metadata": {},
   "outputs": [],
   "source": [
    "def predict_density(x, grid, p_y_y0, part_1, phi_1_z, beta, tau_sq):\n",
    "    \n",
    "    psi_x0 = x\n",
    "    \n",
    "    f_eta_x0 = psi_x0.dot(beta)\n",
    "    s_0_hat = (1 + tau_sq*psi_x0.dot(psi_x0))**(-0.5)\n",
    "    \n",
    "    part_0 = s_0_hat*f_eta_x0\n",
    "\n",
    "    # compute the cdf of new ys\n",
    "    \n",
    "    term_1 = scipy.stats.norm(0, 1).pdf((part_1- part_0) / s_0_hat)\n",
    "\n",
    "    p_y_single_obs_whole_dens = (p_y_y0/phi_1_z)*(1/s_0_hat)*term_1\n",
    "    \n",
    "    return(p_y_single_obs_whole_dens)"
   ]
  }
 ],
 "metadata": {
  "kernelspec": {
   "display_name": "Python 3",
   "language": "python",
   "name": "python3"
  },
  "language_info": {
   "codemirror_mode": {
    "name": "ipython",
    "version": 3
   },
   "file_extension": ".py",
   "mimetype": "text/x-python",
   "name": "python",
   "nbconvert_exporter": "python",
   "pygments_lexer": "ipython3",
   "version": "3.8.5"
  }
 },
 "nbformat": 4,
 "nbformat_minor": 4
}
