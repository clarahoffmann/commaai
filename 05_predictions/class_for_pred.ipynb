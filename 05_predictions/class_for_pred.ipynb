{
 "cells": [
  {
   "cell_type": "code",
   "execution_count": 219,
   "metadata": {},
   "outputs": [],
   "source": [
    "from keras.layers import Dense, Conv2D, MaxPooling2D, Dropout, Flatten, BatchNormalization\n",
    "import tensorflow as tf\n",
    "import cv2\n",
    "import imageio\n",
    "import pandas as pd\n",
    "import numpy as np\n",
    "from helpers_trans import Fy, find_closest_element\n",
    "from scipy.stats import norm\n",
    "import scipy.stats\n",
    "import matplotlib.pyplot as plt\n"
   ]
  },
  {
   "cell_type": "code",
   "execution_count": 220,
   "metadata": {},
   "outputs": [],
   "source": [
    "density_path = '../../data/commaai/density/gaussian_density_filtered.csv'\n",
    "density = pd.read_csv(density_path)"
   ]
  },
  {
   "cell_type": "code",
   "execution_count": 415,
   "metadata": {},
   "outputs": [],
   "source": [
    "class DensityPredictor:\n",
    "    \n",
    "    def __init__(self, method, model, p):\n",
    "        ''' initialize trained model\n",
    "        choice of:\n",
    "        - precise learner: 'precise'\n",
    "        - imprecise learner: 'imprecise'\n",
    "        Parameters\n",
    "        ----------\n",
    "        p: int\n",
    "            number of coefficients of last hidden layer\n",
    "        '''\n",
    "        self.model = model\n",
    "        self.method = method\n",
    "        self.p = p\n",
    "        \n",
    "        if self.model == 'precise':\n",
    "            self.extracted_coefficients_path_beta_dnn = '../../data/commaai/extracted_coefficients/20201027_filtered_gaussian_resampled/beta/'\n",
    "            self.extracted_coefficients_path_beta_hmc = '../../data/commaai/extracted_coefficients/20201027_filtered_gaussian_resampled/beta/'\n",
    "            self.extracted_coefficients_path_beta_va = '../../data/commaai/extracted_coefficients/20201027_filtered_gaussian_resampled/beta/'\n",
    "        if self.model == 'imprecise':\n",
    "            self.extracted_coefficients_path_beta = '../../data/commaai/extracted_coefficients/20201021_unrestr_gaussian_resampled/beta/'\n",
    "            self.extracted_coefficients_path_beta_hmc = '../../data/commaai/extracted_coefficients/20201027_filtered_gaussian_resampled/beta/'\n",
    "            self.extracted_coefficients_path_beta_va = '../../data/commaai/extracted_coefficients/20201027_filtered_gaussian_resampled/beta/'\n",
    "    \n",
    "    def load_bzeta_model(self):\n",
    "        \n",
    "        print('building model ...')\n",
    "        Input = tf.keras.layers.Input(shape=(66, 200, 3,), name='image')\n",
    "        x = Conv2D(24, kernel_size=(5, 5), activation='relu', strides=(2, 2))(Input)\n",
    "        x = BatchNormalization()(x)\n",
    "        x = Conv2D(36, kernel_size=(5, 5), activation='relu', strides=(2, 2))(x)\n",
    "        x = BatchNormalization()(x)\n",
    "        x = Conv2D(48, kernel_size=(5, 5), activation='relu', strides=(2, 2))(x)\n",
    "        x = BatchNormalization()(x)\n",
    "        x = Conv2D(64, kernel_size=(3, 3), activation='relu')(x)\n",
    "        x = BatchNormalization()(x)\n",
    "        x = Conv2D(64, kernel_size=(3, 3), activation='relu')(x)\n",
    "        #x = BatchNormalization()(x)\n",
    "        x = Flatten()(x)\n",
    "        x = Dropout(0.5)(x)\n",
    "        x = Dense(1164)(x)\n",
    "        x = Dropout(0.5)(x)\n",
    "        x = Dense(100)(x)\n",
    "        x = Dropout(0.5)(x)\n",
    "        x = Dense(50)(x) \n",
    "        x = Dropout(0.2)(x)\n",
    "        x = Dense(10)(x)\n",
    "\n",
    "        B_zeta_model = tf.keras.models.Model(\n",
    "              inputs = [Input], outputs = [x])\n",
    "        # keras model for basis functions B_zeta\n",
    "        \n",
    "        print('loading model weights ...')\n",
    "        if self.model == 'precise':\n",
    "            checkpoint_path = '../../data/models/20201027_filtered_gaussian_resampled/'\n",
    "            B_zeta_model.load_weights(tf.train.latest_checkpoint(checkpoint_path)) # tf.train.latest_checkpoint(checkpoint_path)\n",
    "            self.Bzetamodel = B_zeta_model\n",
    "            print('... finished loading weights.')\n",
    "            \n",
    "        elif self.model == 'imprecise':\n",
    "            checkpoint_path = '../../data/models/20201021_unrestr_gaussian_resampled/'\n",
    "            B_zeta_model.load_weights(tf.train.latest_checkpoint(checkpoint_path)) # tf.train.latest_checkpoint(checkpoint_path)\n",
    "            self.Bzetamodel = B_zeta_model\n",
    "            print('... finished loading weights.')\n",
    "        else:\n",
    "            return('unknown model type')\n",
    "    \n",
    "    def load_z_model(self):\n",
    "        \n",
    "        # define model and load weights from training\n",
    "        Input = tf.keras.layers.Input(shape=(66, 200, 3,), name='image')\n",
    "        x = Conv2D(24, kernel_size=(5, 5), activation='relu', strides=(2, 2))(Input)\n",
    "        x = BatchNormalization()(x)\n",
    "        x = Conv2D(36, kernel_size=(5, 5), activation='relu', strides=(2, 2))(x)\n",
    "        x = BatchNormalization()(x)\n",
    "        x = Conv2D(48, kernel_size=(5, 5), activation='relu', strides=(2, 2))(x)\n",
    "        x = BatchNormalization()(x)\n",
    "        x = Conv2D(64, kernel_size=(3, 3), activation='relu')(x)\n",
    "        x = BatchNormalization()(x)\n",
    "        x = Conv2D(64, kernel_size=(3, 3), activation='relu')(x)\n",
    "        #x = BatchNormalization()(x)\n",
    "        x = Flatten()(x)\n",
    "        x = Dropout(0.5)(x)\n",
    "        x = Dense(1164)(x)\n",
    "        x = Dropout(0.5)(x)\n",
    "        x = Dense(100)(x)\n",
    "        x = Dropout(0.5)(x)\n",
    "        x = Dense(50)(x) \n",
    "        x = Dropout(0.2)(x)\n",
    "        x = Dense(10)(x)\n",
    "        Output = Dense(1, name = 'output_layer')(x)\n",
    "\n",
    "        z_model = tf.keras.models.Model(\n",
    "              inputs = [Input], outputs = [Output])\n",
    "        \n",
    "        print('loading model weights ...')\n",
    "        if self.model == 'precise':\n",
    "            checkpoint_path = '../../data/models/20201027_filtered_gaussian_resampled/'\n",
    "            z_model.load_weights(tf.train.latest_checkpoint(checkpoint_path)) # tf.train.latest_checkpoint(checkpoint_path)\n",
    "            self.z_model = z_model\n",
    "            print('... finished loading weights.')\n",
    "            \n",
    "        elif self.model == 'imprecise':\n",
    "            checkpoint_path = '../../data/models/20201021_unrestr_gaussian_resampled/'\n",
    "            z_model.load_weights(tf.train.latest_checkpoint(checkpoint_path)) # tf.train.latest_checkpoint(checkpoint_path)\n",
    "            self.z_model = z_model\n",
    "            print('... finished loading weights.')\n",
    "        else:\n",
    "            return('unknown model type')\n",
    "    \n",
    "    def predict_z(self, image_path_list):\n",
    "        \n",
    "        print('start predicting z on images ...')\n",
    "        z_preds = []\n",
    "        images = []\n",
    "        \n",
    "        for img_path in image_path_list:\n",
    "            # load image\n",
    "            img = imageio.imread(img_path)\n",
    "            images.append(img)\n",
    "            img = cv2.resize(img, dsize = (291,218), interpolation = cv2.INTER_LINEAR)[76:142, 45:245,0:3].reshape(1,66,200,3)/255\n",
    "            # predict Bzeta\n",
    "            z_pred = self.z_model.predict(img)\n",
    "            z_preds.append(z_pred)\n",
    "        \n",
    "        print('... finished predicting z on images.')\n",
    "        self.z_pred = np.array(z_preds).reshape(len(image_path_list),)\n",
    "        self.images = images\n",
    "        return(self.z_pred)\n",
    "        \n",
    "        \n",
    "    \n",
    "    def predict_Bzeta(self, image_path_list, ifpath, single_img):\n",
    "        \n",
    "        print('start predicting Bzeta on images ...')\n",
    "        B_zetas = []\n",
    "        images = []\n",
    "        \n",
    "        if ifpath:\n",
    "            for img_path in image_path_list:\n",
    "                # load image\n",
    "                img = imageio.imread(img_path)\n",
    "                images.append(img)\n",
    "                img = cv2.resize(img, dsize = (291,218), interpolation = cv2.INTER_LINEAR)[76:142, 45:245,0:3].reshape(1,66,200,3)/255\n",
    "                # predict Bzeta\n",
    "                B_zeta = self.Bzetamodel.predict(img)\n",
    "                B_zetas.append(B_zeta)\n",
    "        \n",
    "        else:\n",
    "            B_zeta = self.Bzetamodel.predict(single_img)\n",
    "            B_zetas.append(B_zeta)\n",
    "            \n",
    "        \n",
    "        print('... finished predicting Bzeta on images.')\n",
    "        self.B_zetas = np.array(B_zetas).reshape(len(image_path_list), self.p)\n",
    "        self.images = images\n",
    "    \n",
    "    def choose_method(self, method):\n",
    "        '''choose desired estimation method, choice of:\n",
    "            - normal DNN: 'dnn'\n",
    "            - Ridge prior & HMC: 'hmc_ridge'\n",
    "            - Ridge prior & VA: 'va_ridge\n",
    "            - Horseshoe prior & HMC: 'hmc_horseshoe'\n",
    "            - Horseshoe prior & VA: 'va_horseshoe'\n",
    "            '''\n",
    "        \n",
    "        self.method = method\n",
    "        if method == 'dnn':\n",
    "            beta = np.genfromtxt(str(self.extracted_coefficients_path_beta + 'beta.csv'), delimiter = ',')\n",
    "        \n",
    "        elif method == 'hmc_ridge':\n",
    "            pass\n",
    "        \n",
    "        elif (method == 'va_ridge') & (self.model == 'precise'):\n",
    "            va_ridge_dir = '../../data/commaai/va/filtered_gaussian_resampled/Ridge/'\n",
    "            self.mu_t_va = np.genfromtxt(va_ridge_dir + 'mu_t_va.csv', delimiter = ',')\n",
    "            self.beta = np.mean(self.mu_t_va[int(0.9*50000):50000,0:10], axis = 0)\n",
    "            self.tau_sq = np.exp(np.mean(self.mu_t_va[int(0.9*50000):50000,10], axis = 0))\n",
    "            print('chose variational approximation with ridge prior as method')\n",
    "        \n",
    "        elif (method == 'va_ridge') & (self.model == 'imprecise'):\n",
    "            va_ridge_dir = '../../data/commaai/va/unfiltered_gaussian_resampled/Ridge/'\n",
    "            self.mu_t_va = np.genfromtxt(va_ridge_dir + 'mu_t_va.csv', delimiter = ',')\n",
    "            self.beta =  self.mu_t_va[0:10] #np.mean(self.mu_t_va[int(0.9*50000):50000,0:10], axis = 0)\n",
    "            self.tau_sq = np.exp(self.mu_t_va[10]) #np.exp(np.mean(self.mu_t_va[int(0.9*50000):50000,10], axis = 0))\n",
    "            print('chose variational approximation with ridge prior as method')\n",
    "        \n",
    "        elif (method == 'va_horseshoe') & (self.model == 'precise'):\n",
    "            self.va_horseshoe_dir = '../../data/commaai/va/unfiltered_gaussian_resampled/Horseshoe/'\n",
    "            self.mu_t_va = np.genfromtxt(self.va_horseshoe_dir + 'mu_t_va.csv', delimiter = ',')\n",
    "            self.beta = self.mu_t_va[0:10]\n",
    "            self.Lambda = np.exp(0.5*self.mu_t_va[10:20])\n",
    "            self.tau = np.exp(self.mu_t_va[20])\n",
    "            print('chose variational approximation with ridge prior as method')\n",
    "    \n",
    "    def initialize_grid(self, density, no_points):\n",
    "        \n",
    "        print('computing fixed values for density estimation ...')\n",
    "        self.grid = np.linspace(min(density['axes']), max(density['axes']), no_points)\n",
    "        density_y = density['axes']\n",
    "        density_pdf = density['pdf']\n",
    "        # compute these beforehand to save computation time\n",
    "        self.p_y_y0 = [density_pdf[find_closest_element(y_i,density_y)] for y_i in self.grid]\n",
    "        self.part_1 = np.array([norm.ppf(Fy(y_i, density)) for y_i in self.grid])\n",
    "        self.phi_1_z = np.array([scipy.stats.norm(0, 1).pdf(y_i) for y_i in self.part_1 ])\n",
    "        print('...finished computing fixed values.')\n",
    "        \n",
    "    def predict_density(self):\n",
    "        \n",
    "        def predict_single_density(x, grid, p_y_y0, part_1, phi_1_z, beta, tau_sq, Lambda, method):\n",
    "    \n",
    "            psi_x0 = x\n",
    "\n",
    "            f_eta_x0 = psi_x0.dot(beta)\n",
    "            \n",
    "            if method == 'va_ridge' or method == 'hmc_ridge':\n",
    "                s_0_hat = (1 + tau_sq*psi_x0.dot(psi_x0))**(-0.5)\n",
    "            \n",
    "            elif method == 'va_horseshoe' or method == 'hmc_horseshoe':\n",
    "                s_0_hat = (1 + (psi_x0*(Lambda**2)).dot(psi_x0))**(-0.5)\n",
    "\n",
    "            part_0 = s_0_hat*f_eta_x0\n",
    "            \n",
    "            # compute the cdf of new ys\n",
    "            term_1 = scipy.stats.norm(0, 1).pdf((part_1 - part_0) / s_0_hat)\n",
    "            p_y_single_obs_whole_dens = (p_y_y0/phi_1_z)*(1/s_0_hat)*term_1\n",
    "\n",
    "            return(p_y_single_obs_whole_dens)\n",
    "        \n",
    "        if self.method == 'va_ridge':\n",
    "            self.Lambda = np.zeros(1)\n",
    "            self.densities = [predict_single_density(self.B_zetas[i,:], self.grid, self.p_y_y0, self.part_1, self.phi_1_z, self.beta, self.tau_sq, self.Lambda, self.method) for i in range(0,self.B_zetas.shape[0])]\n",
    "            #densities = np.array(densities).reshape(self.B_zetas.shape[0], len(self.grid))\n",
    "        if self.method == 'va_horseshoe':\n",
    "            self.tau_sq = np.zeros(1)\n",
    "            self.densities = [predict_single_density(self.B_zetas[i,:], self.grid, self.p_y_y0, self.part_1, self.phi_1_z, self.beta, self.tau_sq, self.Lambda, self.method) for i in range(0,self.B_zetas.shape[0])]\n",
    "            \n",
    "        return(self.densities)\n",
    "    \n",
    "    def show_predictive_density(self, image_number, label, pred):\n",
    "        \n",
    "        ang_dens = pd.DataFrame({'angle': np.linspace(-50,50,1000), 'density': self.densities[image_number]})\n",
    "        max_dens = max(ang_dens['density'])\n",
    "        const = 1/max_dens\n",
    "        def plot_density(ang_dens, c, r):\n",
    "            ang_dens['angle_rad'] = ang_dens['angle'].apply(lambda x: x / 180. * np.pi + np.pi / 2)\n",
    "            ang_dens['t'] = ang_dens['angle_rad'].apply(lambda x: (c[0] + np.cos(x) * r, c[1] - np.sin(x) * r))\n",
    "            for i in range(0, ang_dens['t'].shape[0]):\n",
    "                t = ang_dens['t'][i]\n",
    "                dens = max(0,ang_dens['density'][i]*const)\n",
    "                plt.plot((c[0], t[0]), (c[1], t[1]), 'dodgerblue', alpha = dens)\n",
    "\n",
    "        figure, ax = plt.figure(), plt.gca()\n",
    "        ax.imshow(self.images[image_number][:,:,0:3].astype(int))\n",
    "        a_rad = label / 180. * np.pi + np.pi / 2\n",
    "        c, r = (582,873), 300 #center, radius\n",
    "        plot_density(ang_dens, c, r)\n",
    "        t = (c[0] + int(np.cos(a_rad) * r), c[1] - int(np.sin(a_rad) * r))\n",
    "        plt.plot((c[0], t[0]), (c[1], t[1] + 30), 'w', alpha = 1)\n",
    "        a_rad = pred / 180. * np.pi + np.pi / 2\n",
    "        c, r = (582,873), 300 #center, radius\n",
    "        t = (c[0] + int(np.cos(a_rad) * r), c[1] - int(np.sin(a_rad) * r))\n",
    "        plt.plot((c[0], t[0]), (c[1] , t[1] + 30), 'r', alpha = 1)\n",
    "        plt.gca().add_artist(plt.Circle(c, r, edgecolor='dodgerblue', facecolor='k'))\n",
    "        plt.text(c[0] - 550 , c[1] - 800, 'steering angle'.format(label), color='w')\n",
    "        plt.text(c[0] - 550 , c[1] - 750, 'true: {:0.1f}$^\\circ$'.format(label), color='w')\n",
    "        plt.text(c[0] - 550 , c[1] - 700, 'predicted: {:0.1f}$^\\circ$'.format(pred), color='r')\n",
    "        ax.get_xaxis().set_visible(False)\n",
    "        ax.get_yaxis().set_visible(False)\n",
    "        figure.savefig('example_steering_visualization.pdf', format='pdf', dpi=900)\n",
    "    \n",
    "    \n",
    "    def confidence_interval(self, density, confidence_level, z_preds):\n",
    "        \n",
    "        confidence_intervals = []\n",
    "        j = 0\n",
    "        for z_pred in z_preds:\n",
    "            pred_y = density.loc[find_closest_element(norm.cdf(z_pred), density['cdf']), 'axes']\n",
    "\n",
    "            integrals = []\n",
    "\n",
    "            for i in range(0, len(densities[0]) - 1):\n",
    "                integral = integrate.simps([max(0,self.densities[0][i]),max(0,self.densities[0][i + 1])], [self.grid[i], self.grid[i+1]])\n",
    "                integrals.append(integral)\n",
    "                \n",
    "            int_sum = 0\n",
    "            i = 1\n",
    "            start_index = np.searchsorted(density['axes'], pred_y)\n",
    "            while int_sum < confidence_level:\n",
    "                int_sum += integrals[start_index - i] + integrals[start_index + i]\n",
    "                i += 1\n",
    "            confidence_intervals.append([density.loc[start_index - i,'axes'], density.loc[start_index + i,'axes']])\n",
    "        return(confidence_intervals)\n",
    "\n",
    "    "
   ]
  },
  {
   "cell_type": "code",
   "execution_count": 222,
   "metadata": {},
   "outputs": [],
   "source": [
    "path_all_imgs = '../../data/commaai/training_files_filtered/indices/train_indices.csv'\n",
    "all_img_df = pd.read_csv(path_all_imgs)\n",
    "img_path_base = '../../data/commaai/train_bags_2/'\n",
    "paths = img_path_base + all_img_df['path'][0:5]"
   ]
  },
  {
   "cell_type": "code",
   "execution_count": 330,
   "metadata": {},
   "outputs": [
    {
     "data": {
      "text/html": [
       "<div>\n",
       "<style scoped>\n",
       "    .dataframe tbody tr th:only-of-type {\n",
       "        vertical-align: middle;\n",
       "    }\n",
       "\n",
       "    .dataframe tbody tr th {\n",
       "        vertical-align: top;\n",
       "    }\n",
       "\n",
       "    .dataframe thead th {\n",
       "        text-align: right;\n",
       "    }\n",
       "</style>\n",
       "<table border=\"1\" class=\"dataframe\">\n",
       "  <thead>\n",
       "    <tr style=\"text-align: right;\">\n",
       "      <th></th>\n",
       "      <th>id</th>\n",
       "      <th>path</th>\n",
       "      <th>use</th>\n",
       "      <th>angle</th>\n",
       "      <th>filenumber</th>\n",
       "    </tr>\n",
       "  </thead>\n",
       "  <tbody>\n",
       "    <tr>\n",
       "      <th>29515</th>\n",
       "      <td>185450</td>\n",
       "      <td>0/4_500run1.png</td>\n",
       "      <td>1.0</td>\n",
       "      <td>1.7</td>\n",
       "      <td>500</td>\n",
       "    </tr>\n",
       "  </tbody>\n",
       "</table>\n",
       "</div>"
      ],
      "text/plain": [
       "           id             path  use  angle  filenumber\n",
       "29515  185450  0/4_500run1.png  1.0    1.7         500"
      ]
     },
     "execution_count": 330,
     "metadata": {},
     "output_type": "execute_result"
    }
   ],
   "source": [
    "all_img_df.loc[all_img_df['path'] == '0/4_500run1.png']"
   ]
  },
  {
   "cell_type": "code",
   "execution_count": 364,
   "metadata": {},
   "outputs": [],
   "source": [
    "paths = [ '../../Parting_of_the_ways_-_geograph.org.uk_-_1325256.jpg',\n",
    "         '../../road-markings-madness.png',\n",
    "         '../../mountain-road-curve-to-right-fagaras-mountains-alpine-highway-43754624.jpg',\n",
    "         '../../data/commaai/train_bags_2/1/15_1241run1.png', # no lane markings\n",
    "         '../../data/commaai/train_bags_2/2/25_1293run1.png', # confusing lane markings\n",
    "         '../../data/commaai/train_bags_2/1/69_340run1.png', # clear lane markings\n",
    "         '../../data/commaai/train_bags_2/0/28_911run1.png', # stop & go traffic\n",
    "         '../../data/commaai/train_bags_2/0/149_912run1.png', # parting road\n",
    "         '../../data/commaai/train_bags_2/0/76_921run1.png', # bad lighting\n",
    "         '../../data/commaai/train_bags_2/0/15_947run1.png', # parting road\n",
    "         '../../data/commaai/train_bags_2/0/24_1000run1.png', # parting road\n",
    "         '../../data/commaai/train_bags_2/0/118_977run1.png', # left turn only half visible\n",
    "         '../../data/commaai/train_bags_2/0/80_436run1.png', # parting road, closer\n",
    "         '../../data/commaai/train_bags_2/0/121_254run1.png', # parting road, closer, other side\n",
    "         '../../data/commaai/train_bags_2/0/202_429run1.png', # bad view, \n",
    "         '../../data/commaai/train_bags_2/0/4_500run1.png' #parting road\n",
    "        ]"
   ]
  },
  {
   "cell_type": "markdown",
   "metadata": {},
   "source": [
    "# VA Ridge precise"
   ]
  },
  {
   "cell_type": "code",
   "execution_count": 361,
   "metadata": {},
   "outputs": [
    {
     "name": "stdout",
     "output_type": "stream",
     "text": [
      "building model ...\n",
      "loading model weights ...\n",
      "... finished loading weights.\n",
      "start predicting Bzeta on images ...\n",
      "... finished predicting Bzeta on images.\n",
      "chose variational approximation with ridge prior as method\n",
      "computing fixed values for density estimation ...\n",
      "...finished computing fixed values.\n"
     ]
    }
   ],
   "source": [
    "predictor_va_prec = DensityPredictor('va_ridge', 'precise', 10)\n",
    "predictor_va_prec.load_bzeta_model()\n",
    "predictor_va_prec.predict_Bzeta(paths, True, False)\n",
    "predictor_va_prec.choose_method('va_ridge')\n",
    "predictor_va_prec.initialize_grid(density, 65536)\n",
    "densities_va_prec = predictor_va_prec.predict_density()"
   ]
  },
  {
   "cell_type": "code",
   "execution_count": 365,
   "metadata": {},
   "outputs": [
    {
     "data": {
      "text/plain": [
       "[<matplotlib.lines.Line2D at 0x7f937b6d1e80>]"
      ]
     },
     "execution_count": 365,
     "metadata": {},
     "output_type": "execute_result"
    },
    {
     "data": {
      "image/png": "[encoded data removed]",
      "text/plain": [
       "<Figure size 432x288 with 1 Axes>"
      ]
     },
     "metadata": {
      "needs_background": "light"
     },
     "output_type": "display_data"
    }
   ],
   "source": [
    "plt.plot(np.linspace(min(density['axes']), max(density['axes']), 65536), densities_va_prec[12])"
   ]
  },
  {
   "cell_type": "code",
   "execution_count": 367,
   "metadata": {},
   "outputs": [],
   "source": [
    "np.savetxt(\"density_ridge_va_precise_data_commaai_train_bags_2_0_80_436run1.png\", densities_va_prec[12], delimiter=\",\")"
   ]
  },
  {
   "cell_type": "markdown",
   "metadata": {},
   "source": [
    "# VA Ridge imprecise"
   ]
  },
  {
   "cell_type": "code",
   "execution_count": 374,
   "metadata": {},
   "outputs": [
    {
     "name": "stdout",
     "output_type": "stream",
     "text": [
      "building model ...\n",
      "loading model weights ...\n",
      "... finished loading weights.\n",
      "start predicting Bzeta on images ...\n",
      "... finished predicting Bzeta on images.\n",
      "chose variational approximation with ridge prior as method\n",
      "computing fixed values for density estimation ...\n",
      "...finished computing fixed values.\n"
     ]
    }
   ],
   "source": [
    "predictor_va_imprec = DensityPredictor('va_ridge', 'imprecise', 10)\n",
    "predictor_va_imprec.load_bzeta_model()\n",
    "predictor_va_imprec.predict_Bzeta(paths, True, False)\n",
    "predictor_va_imprec.choose_method('va_ridge')\n",
    "predictor_va_imprec.initialize_grid(density, 65536)\n",
    "densities_va_imp = predictor_va_imprec.predict_density()"
   ]
  },
  {
   "cell_type": "code",
   "execution_count": 375,
   "metadata": {},
   "outputs": [
    {
     "data": {
      "text/plain": [
       "[<matplotlib.lines.Line2D at 0x7f93c95c5640>]"
      ]
     },
     "execution_count": 375,
     "metadata": {},
     "output_type": "execute_result"
    },
    {
     "data": {
      "image/png": "[encoded data removed]",
      "text/plain": [
       "<Figure size 432x288 with 1 Axes>"
      ]
     },
     "metadata": {
      "needs_background": "light"
     },
     "output_type": "display_data"
    }
   ],
   "source": [
    "plt.plot(np.linspace(min(density['axes']), max(density['axes']), 65536),densities_va_imp[12])"
   ]
  },
  {
   "cell_type": "code",
   "execution_count": 376,
   "metadata": {},
   "outputs": [],
   "source": [
    "np.savetxt(\"density_ridge_va_imprecise_data_commaai_train_bags_2_0_80_436run1.png\", densities_va_imp[12], delimiter=\",\")"
   ]
  },
  {
   "cell_type": "markdown",
   "metadata": {},
   "source": [
    "# VA Horseshoe Precise"
   ]
  },
  {
   "cell_type": "code",
   "execution_count": 416,
   "metadata": {},
   "outputs": [
    {
     "name": "stdout",
     "output_type": "stream",
     "text": [
      "building model ...\n",
      "loading model weights ...\n",
      "... finished loading weights.\n",
      "start predicting Bzeta on images ...\n",
      "... finished predicting Bzeta on images.\n",
      "chose variational approximation with ridge prior as method\n",
      "computing fixed values for density estimation ...\n",
      "...finished computing fixed values.\n"
     ]
    }
   ],
   "source": [
    "predictor_va_horse_prec = DensityPredictor('va_horseshoe', 'precise', 10)\n",
    "predictor_va_horse_prec.load_bzeta_model()\n",
    "predictor_va_horse_prec.predict_Bzeta(paths, True, False)\n",
    "predictor_va_horse_prec.choose_method('va_horseshoe')\n",
    "predictor_va_horse_prec.initialize_grid(density, 65536)\n",
    "densities_va_horse_prec = predictor_va_horse_prec.predict_density()"
   ]
  },
  {
   "cell_type": "code",
   "execution_count": 417,
   "metadata": {},
   "outputs": [
    {
     "data": {
      "text/plain": [
       "[<matplotlib.lines.Line2D at 0x7f93c3956af0>]"
      ]
     },
     "execution_count": 417,
     "metadata": {},
     "output_type": "execute_result"
    },
    {
     "data": {
      "image/png": "[encoded data removed]",
      "text/plain": [
       "<Figure size 432x288 with 1 Axes>"
      ]
     },
     "metadata": {
      "needs_background": "light"
     },
     "output_type": "display_data"
    }
   ],
   "source": [
    "plt.plot(np.linspace(min(density['axes']), max(density['axes']), 65536), densities_va_horse_prec[14])"
   ]
  },
  {
   "cell_type": "code",
   "execution_count": 379,
   "metadata": {},
   "outputs": [],
   "source": [
    "np.savetxt(\"density_horse_va_precise_data_commaai_train_bags_2_0_80_436run1.png\", densities_va_horse_prec[12], delimiter=\",\")"
   ]
  },
  {
   "cell_type": "code",
   "execution_count": null,
   "metadata": {},
   "outputs": [],
   "source": []
  },
  {
   "cell_type": "code",
   "execution_count": 414,
   "metadata": {},
   "outputs": [
    {
     "data": {
      "text/plain": [
       "<matplotlib.image.AxesImage at 0x7f93c3be4580>"
      ]
     },
     "execution_count": 414,
     "metadata": {},
     "output_type": "execute_result"
    },
    {
     "data": {
      "image/png": "[encoded data removed]",
      "text/plain": [
       "<Figure size 432x288 with 1 Axes>"
      ]
     },
     "metadata": {
      "needs_background": "light"
     },
     "output_type": "display_data"
    }
   ],
   "source": [
    "img = imageio.imread(paths[15])\n",
    "img = cv2.resize(img, dsize = (291,218), interpolation = cv2.INTER_LINEAR)[76:142, 45:245,0:3]/255\n",
    "figure, ax = plt.figure(), plt.gca()\n",
    "ax.imshow(img[:,:,0:3])"
   ]
  },
  {
   "cell_type": "code",
   "execution_count": 346,
   "metadata": {},
   "outputs": [
    {
     "data": {
      "text/plain": [
       "<matplotlib.image.AxesImage at 0x7f93c97b7910>"
      ]
     },
     "execution_count": 346,
     "metadata": {},
     "output_type": "execute_result"
    },
    {
     "data": {
      "image/png": "[encoded data removed]",
      "text/plain": [
       "<Figure size 432x288 with 1 Axes>"
      ]
     },
     "metadata": {
      "needs_background": "light"
     },
     "output_type": "display_data"
    }
   ],
   "source": [
    "img = imageio.imread(paths[])\n",
    "img_zoomed = cv2.resize(img[150:650,250:913,:], dsize = (291,218), interpolation = cv2.INTER_LINEAR)[76:142, 45:245,0:3]/255\n",
    "plt.imshow(img_zoomed)"
   ]
  },
  {
   "cell_type": "code",
   "execution_count": 332,
   "metadata": {},
   "outputs": [
    {
     "data": {
      "text/plain": [
       "(874, 1164, 4)"
      ]
     },
     "execution_count": 332,
     "metadata": {},
     "output_type": "execute_result"
    }
   ],
   "source": [
    "img.shape"
   ]
  },
  {
   "cell_type": "code",
   "execution_count": 340,
   "metadata": {},
   "outputs": [
    {
     "data": {
      "text/plain": [
       "913.74"
      ]
     },
     "execution_count": 340,
     "metadata": {},
     "output_type": "execute_result"
    }
   ],
   "source": [
    "1164/2 + 663.4799999999999/2"
   ]
  },
  {
   "cell_type": "code",
   "execution_count": 351,
   "metadata": {},
   "outputs": [
    {
     "data": {
      "text/plain": [
       "[<matplotlib.lines.Line2D at 0x7f937b619b80>]"
      ]
     },
     "execution_count": 351,
     "metadata": {},
     "output_type": "execute_result"
    },
    {
     "data": {
      "image/png": "[encoded data removed]",
      "text/plain": [
       "<Figure size 432x288 with 1 Axes>"
      ]
     },
     "metadata": {
      "needs_background": "light"
     },
     "output_type": "display_data"
    }
   ],
   "source": [
    "plt.plot(np.linspace(min(density['axes']), max(density['axes']), 65536), densities[0])"
   ]
  },
  {
   "cell_type": "code",
   "execution_count": 322,
   "metadata": {},
   "outputs": [
    {
     "data": {
      "text/plain": [
       "'../../data/commaai/train_bags_2/0/80_436run1.png'"
      ]
     },
     "execution_count": 322,
     "metadata": {},
     "output_type": "execute_result"
    }
   ],
   "source": [
    "paths[12]"
   ]
  },
  {
   "cell_type": "code",
   "execution_count": 323,
   "metadata": {},
   "outputs": [],
   "source": [
    "np.savetxt(\"density_ridge_precise_data_commaai_train_bags_2_0_80_436run1.png\", densities[12], delimiter=\",\")"
   ]
  },
  {
   "cell_type": "code",
   "execution_count": 299,
   "metadata": {},
   "outputs": [],
   "source": [
    "predictor = DensityPredictor('va_ridge', 'precise', 10)\n",
    "#predictor.load_bzeta_model()\n",
    "#predictor.predict_Bzeta(paths)\n",
    "#predictor.choose_method('va_ridge')\n",
    "#predictor.initialize_grid(density, 65536)\n",
    "#densities = predictor.predict_density()\n",
    "#predictor.load_z_model()\n",
    "#z_pred = predictor.predict_z(paths)\n",
    "#predictor.confidence_interval(density, confidence_level)\n",
    "#predictor.show_predictive_density(0, 0, 0)"
   ]
  },
  {
   "cell_type": "code",
   "execution_count": 348,
   "metadata": {},
   "outputs": [
    {
     "name": "stdout",
     "output_type": "stream",
     "text": [
      "building model ...\n",
      "loading model weights ...\n",
      "... finished loading weights.\n",
      "start predicting Bzeta on images ...\n",
      "... finished predicting Bzeta on images.\n",
      "chose variational approximation with ridge prior as method\n"
     ]
    }
   ],
   "source": [
    "predictor = DensityPredictor('va_ridge', 'precise', 10)\n",
    "predictor.load_bzeta_model()\n",
    "predictor.predict_Bzeta([0], False, img_zoomed.reshape(1,66,200,3))\n",
    "predictor.choose_method('va_ridge')"
   ]
  },
  {
   "cell_type": "code",
   "execution_count": 209,
   "metadata": {},
   "outputs": [
    {
     "data": {
      "text/plain": [
       "array([-0.00637512, -0.04516804,  0.07467492,  0.00579636, -0.01094833,\n",
       "       -0.10755854,  0.06272116, -0.01640395,  0.0330904 , -0.02915637])"
      ]
     },
     "execution_count": 209,
     "metadata": {},
     "output_type": "execute_result"
    }
   ],
   "source": [
    "predictor.beta"
   ]
  },
  {
   "cell_type": "code",
   "execution_count": 349,
   "metadata": {},
   "outputs": [
    {
     "name": "stdout",
     "output_type": "stream",
     "text": [
      "computing fixed values for density estimation ...\n",
      "...finished computing fixed values.\n"
     ]
    }
   ],
   "source": [
    "predictor.initialize_grid(density, 65536)"
   ]
  },
  {
   "cell_type": "code",
   "execution_count": 350,
   "metadata": {},
   "outputs": [],
   "source": [
    "densities = predictor.predict_density()"
   ]
  },
  {
   "cell_type": "code",
   "execution_count": 184,
   "metadata": {},
   "outputs": [
    {
     "name": "stdout",
     "output_type": "stream",
     "text": [
      "building model ...\n",
      "loading model weights ...\n",
      "... finished loading weights.\n",
      "start predicting Bzeta on images ...\n",
      "WARNING:tensorflow:Unresolved object in checkpoint: (root).layer_with_weights-13\n",
      "WARNING:tensorflow:Unresolved object in checkpoint: (root).optimizer\n",
      "WARNING:tensorflow:Unresolved object in checkpoint: (root).estimator_global_step\n",
      "WARNING:tensorflow:Unresolved object in checkpoint: (root).layer_with_weights-13.kernel\n",
      "WARNING:tensorflow:Unresolved object in checkpoint: (root).layer_with_weights-13.bias\n",
      "WARNING:tensorflow:Unresolved object in checkpoint: (root).optimizer.beta_1\n",
      "WARNING:tensorflow:Unresolved object in checkpoint: (root).optimizer.beta_2\n",
      "WARNING:tensorflow:Unresolved object in checkpoint: (root).optimizer.decay\n",
      "WARNING:tensorflow:Unresolved object in checkpoint: (root).optimizer.learning_rate\n",
      "WARNING:tensorflow:Unresolved object in checkpoint: (root).optimizer's state 'm' for (root).layer_with_weights-0.kernel\n",
      "WARNING:tensorflow:Unresolved object in checkpoint: (root).optimizer's state 'm' for (root).layer_with_weights-0.bias\n",
      "WARNING:tensorflow:Unresolved object in checkpoint: (root).optimizer's state 'm' for (root).layer_with_weights-1.gamma\n",
      "WARNING:tensorflow:Unresolved object in checkpoint: (root).optimizer's state 'm' for (root).layer_with_weights-1.beta\n",
      "WARNING:tensorflow:Unresolved object in checkpoint: (root).optimizer's state 'm' for (root).layer_with_weights-2.kernel\n",
      "WARNING:tensorflow:Unresolved object in checkpoint: (root).optimizer's state 'm' for (root).layer_with_weights-2.bias\n",
      "WARNING:tensorflow:Unresolved object in checkpoint: (root).optimizer's state 'm' for (root).layer_with_weights-3.gamma\n",
      "WARNING:tensorflow:Unresolved object in checkpoint: (root).optimizer's state 'm' for (root).layer_with_weights-3.beta\n",
      "WARNING:tensorflow:Unresolved object in checkpoint: (root).optimizer's state 'm' for (root).layer_with_weights-4.kernel\n",
      "WARNING:tensorflow:Unresolved object in checkpoint: (root).optimizer's state 'm' for (root).layer_with_weights-4.bias\n",
      "WARNING:tensorflow:Unresolved object in checkpoint: (root).optimizer's state 'm' for (root).layer_with_weights-5.gamma\n",
      "WARNING:tensorflow:Unresolved object in checkpoint: (root).optimizer's state 'm' for (root).layer_with_weights-5.beta\n",
      "WARNING:tensorflow:Unresolved object in checkpoint: (root).optimizer's state 'm' for (root).layer_with_weights-6.kernel\n",
      "WARNING:tensorflow:Unresolved object in checkpoint: (root).optimizer's state 'm' for (root).layer_with_weights-6.bias\n",
      "WARNING:tensorflow:Unresolved object in checkpoint: (root).optimizer's state 'm' for (root).layer_with_weights-7.gamma\n",
      "WARNING:tensorflow:Unresolved object in checkpoint: (root).optimizer's state 'm' for (root).layer_with_weights-7.beta\n",
      "WARNING:tensorflow:Unresolved object in checkpoint: (root).optimizer's state 'm' for (root).layer_with_weights-8.kernel\n",
      "WARNING:tensorflow:Unresolved object in checkpoint: (root).optimizer's state 'm' for (root).layer_with_weights-8.bias\n",
      "WARNING:tensorflow:Unresolved object in checkpoint: (root).optimizer's state 'm' for (root).layer_with_weights-9.kernel\n",
      "WARNING:tensorflow:Unresolved object in checkpoint: (root).optimizer's state 'm' for (root).layer_with_weights-9.bias\n",
      "WARNING:tensorflow:Unresolved object in checkpoint: (root).optimizer's state 'm' for (root).layer_with_weights-10.kernel\n",
      "WARNING:tensorflow:Unresolved object in checkpoint: (root).optimizer's state 'm' for (root).layer_with_weights-10.bias\n",
      "WARNING:tensorflow:Unresolved object in checkpoint: (root).optimizer's state 'm' for (root).layer_with_weights-11.kernel\n",
      "WARNING:tensorflow:Unresolved object in checkpoint: (root).optimizer's state 'm' for (root).layer_with_weights-11.bias\n",
      "WARNING:tensorflow:Unresolved object in checkpoint: (root).optimizer's state 'm' for (root).layer_with_weights-12.kernel\n",
      "WARNING:tensorflow:Unresolved object in checkpoint: (root).optimizer's state 'm' for (root).layer_with_weights-12.bias\n",
      "WARNING:tensorflow:Unresolved object in checkpoint: (root).optimizer's state 'm' for (root).layer_with_weights-13.kernel\n",
      "WARNING:tensorflow:Unresolved object in checkpoint: (root).optimizer's state 'm' for (root).layer_with_weights-13.bias\n",
      "WARNING:tensorflow:Unresolved object in checkpoint: (root).optimizer's state 'v' for (root).layer_with_weights-0.kernel\n",
      "WARNING:tensorflow:Unresolved object in checkpoint: (root).optimizer's state 'v' for (root).layer_with_weights-0.bias\n",
      "WARNING:tensorflow:Unresolved object in checkpoint: (root).optimizer's state 'v' for (root).layer_with_weights-1.gamma\n",
      "WARNING:tensorflow:Unresolved object in checkpoint: (root).optimizer's state 'v' for (root).layer_with_weights-1.beta\n",
      "WARNING:tensorflow:Unresolved object in checkpoint: (root).optimizer's state 'v' for (root).layer_with_weights-2.kernel\n",
      "WARNING:tensorflow:Unresolved object in checkpoint: (root).optimizer's state 'v' for (root).layer_with_weights-2.bias\n",
      "WARNING:tensorflow:Unresolved object in checkpoint: (root).optimizer's state 'v' for (root).layer_with_weights-3.gamma\n",
      "WARNING:tensorflow:Unresolved object in checkpoint: (root).optimizer's state 'v' for (root).layer_with_weights-3.beta\n",
      "WARNING:tensorflow:Unresolved object in checkpoint: (root).optimizer's state 'v' for (root).layer_with_weights-4.kernel\n",
      "WARNING:tensorflow:Unresolved object in checkpoint: (root).optimizer's state 'v' for (root).layer_with_weights-4.bias\n",
      "WARNING:tensorflow:Unresolved object in checkpoint: (root).optimizer's state 'v' for (root).layer_with_weights-5.gamma\n",
      "WARNING:tensorflow:Unresolved object in checkpoint: (root).optimizer's state 'v' for (root).layer_with_weights-5.beta\n",
      "WARNING:tensorflow:Unresolved object in checkpoint: (root).optimizer's state 'v' for (root).layer_with_weights-6.kernel\n",
      "WARNING:tensorflow:Unresolved object in checkpoint: (root).optimizer's state 'v' for (root).layer_with_weights-6.bias\n",
      "WARNING:tensorflow:Unresolved object in checkpoint: (root).optimizer's state 'v' for (root).layer_with_weights-7.gamma\n",
      "WARNING:tensorflow:Unresolved object in checkpoint: (root).optimizer's state 'v' for (root).layer_with_weights-7.beta\n",
      "WARNING:tensorflow:Unresolved object in checkpoint: (root).optimizer's state 'v' for (root).layer_with_weights-8.kernel\n",
      "WARNING:tensorflow:Unresolved object in checkpoint: (root).optimizer's state 'v' for (root).layer_with_weights-8.bias\n",
      "WARNING:tensorflow:Unresolved object in checkpoint: (root).optimizer's state 'v' for (root).layer_with_weights-9.kernel\n",
      "WARNING:tensorflow:Unresolved object in checkpoint: (root).optimizer's state 'v' for (root).layer_with_weights-9.bias\n",
      "WARNING:tensorflow:Unresolved object in checkpoint: (root).optimizer's state 'v' for (root).layer_with_weights-10.kernel\n",
      "WARNING:tensorflow:Unresolved object in checkpoint: (root).optimizer's state 'v' for (root).layer_with_weights-10.bias\n",
      "WARNING:tensorflow:Unresolved object in checkpoint: (root).optimizer's state 'v' for (root).layer_with_weights-11.kernel\n",
      "WARNING:tensorflow:Unresolved object in checkpoint: (root).optimizer's state 'v' for (root).layer_with_weights-11.bias\n",
      "WARNING:tensorflow:Unresolved object in checkpoint: (root).optimizer's state 'v' for (root).layer_with_weights-12.kernel\n",
      "WARNING:tensorflow:Unresolved object in checkpoint: (root).optimizer's state 'v' for (root).layer_with_weights-12.bias\n",
      "WARNING:tensorflow:Unresolved object in checkpoint: (root).optimizer's state 'v' for (root).layer_with_weights-13.kernel\n",
      "WARNING:tensorflow:Unresolved object in checkpoint: (root).optimizer's state 'v' for (root).layer_with_weights-13.bias\n",
      "WARNING:tensorflow:A checkpoint was restored (e.g. tf.train.Checkpoint.restore or tf.keras.Model.load_weights) but not all checkpointed values were used. See above for specific issues. Use expect_partial() on the load status object, e.g. tf.train.Checkpoint.restore(...).expect_partial(), to silence these warnings, or use assert_consumed() to make the check explicit. See https://www.tensorflow.org/guide/checkpoint#loading_mechanics for details.\n",
      "WARNING:tensorflow:Unresolved object in checkpoint: (root).layer_with_weights-13\n",
      "WARNING:tensorflow:Unresolved object in checkpoint: (root).optimizer\n",
      "WARNING:tensorflow:Unresolved object in checkpoint: (root).estimator_global_step\n",
      "WARNING:tensorflow:Unresolved object in checkpoint: (root).layer_with_weights-13.kernel\n",
      "WARNING:tensorflow:Unresolved object in checkpoint: (root).layer_with_weights-13.bias\n",
      "WARNING:tensorflow:Unresolved object in checkpoint: (root).optimizer.beta_1\n",
      "WARNING:tensorflow:Unresolved object in checkpoint: (root).optimizer.beta_2\n",
      "WARNING:tensorflow:Unresolved object in checkpoint: (root).optimizer.decay\n",
      "WARNING:tensorflow:Unresolved object in checkpoint: (root).optimizer.learning_rate\n",
      "WARNING:tensorflow:Unresolved object in checkpoint: (root).optimizer's state 'm' for (root).layer_with_weights-0.kernel\n",
      "WARNING:tensorflow:Unresolved object in checkpoint: (root).optimizer's state 'm' for (root).layer_with_weights-0.bias\n",
      "WARNING:tensorflow:Unresolved object in checkpoint: (root).optimizer's state 'm' for (root).layer_with_weights-1.gamma\n",
      "WARNING:tensorflow:Unresolved object in checkpoint: (root).optimizer's state 'm' for (root).layer_with_weights-1.beta\n",
      "WARNING:tensorflow:Unresolved object in checkpoint: (root).optimizer's state 'm' for (root).layer_with_weights-2.kernel\n",
      "WARNING:tensorflow:Unresolved object in checkpoint: (root).optimizer's state 'm' for (root).layer_with_weights-2.bias\n",
      "WARNING:tensorflow:Unresolved object in checkpoint: (root).optimizer's state 'm' for (root).layer_with_weights-3.gamma\n",
      "WARNING:tensorflow:Unresolved object in checkpoint: (root).optimizer's state 'm' for (root).layer_with_weights-3.beta\n",
      "WARNING:tensorflow:Unresolved object in checkpoint: (root).optimizer's state 'm' for (root).layer_with_weights-4.kernel\n",
      "WARNING:tensorflow:Unresolved object in checkpoint: (root).optimizer's state 'm' for (root).layer_with_weights-4.bias\n",
      "WARNING:tensorflow:Unresolved object in checkpoint: (root).optimizer's state 'm' for (root).layer_with_weights-5.gamma\n",
      "WARNING:tensorflow:Unresolved object in checkpoint: (root).optimizer's state 'm' for (root).layer_with_weights-5.beta\n",
      "WARNING:tensorflow:Unresolved object in checkpoint: (root).optimizer's state 'm' for (root).layer_with_weights-6.kernel\n",
      "WARNING:tensorflow:Unresolved object in checkpoint: (root).optimizer's state 'm' for (root).layer_with_weights-6.bias\n",
      "WARNING:tensorflow:Unresolved object in checkpoint: (root).optimizer's state 'm' for (root).layer_with_weights-7.gamma\n",
      "WARNING:tensorflow:Unresolved object in checkpoint: (root).optimizer's state 'm' for (root).layer_with_weights-7.beta\n",
      "WARNING:tensorflow:Unresolved object in checkpoint: (root).optimizer's state 'm' for (root).layer_with_weights-8.kernel\n",
      "WARNING:tensorflow:Unresolved object in checkpoint: (root).optimizer's state 'm' for (root).layer_with_weights-8.bias\n",
      "WARNING:tensorflow:Unresolved object in checkpoint: (root).optimizer's state 'm' for (root).layer_with_weights-9.kernel\n",
      "WARNING:tensorflow:Unresolved object in checkpoint: (root).optimizer's state 'm' for (root).layer_with_weights-9.bias\n",
      "WARNING:tensorflow:Unresolved object in checkpoint: (root).optimizer's state 'm' for (root).layer_with_weights-10.kernel\n",
      "WARNING:tensorflow:Unresolved object in checkpoint: (root).optimizer's state 'm' for (root).layer_with_weights-10.bias\n",
      "WARNING:tensorflow:Unresolved object in checkpoint: (root).optimizer's state 'm' for (root).layer_with_weights-11.kernel\n",
      "WARNING:tensorflow:Unresolved object in checkpoint: (root).optimizer's state 'm' for (root).layer_with_weights-11.bias\n",
      "WARNING:tensorflow:Unresolved object in checkpoint: (root).optimizer's state 'm' for (root).layer_with_weights-12.kernel\n",
      "WARNING:tensorflow:Unresolved object in checkpoint: (root).optimizer's state 'm' for (root).layer_with_weights-12.bias\n",
      "WARNING:tensorflow:Unresolved object in checkpoint: (root).optimizer's state 'm' for (root).layer_with_weights-13.kernel\n",
      "WARNING:tensorflow:Unresolved object in checkpoint: (root).optimizer's state 'm' for (root).layer_with_weights-13.bias\n",
      "WARNING:tensorflow:Unresolved object in checkpoint: (root).optimizer's state 'v' for (root).layer_with_weights-0.kernel\n",
      "WARNING:tensorflow:Unresolved object in checkpoint: (root).optimizer's state 'v' for (root).layer_with_weights-0.bias\n",
      "WARNING:tensorflow:Unresolved object in checkpoint: (root).optimizer's state 'v' for (root).layer_with_weights-1.gamma\n",
      "WARNING:tensorflow:Unresolved object in checkpoint: (root).optimizer's state 'v' for (root).layer_with_weights-1.beta\n",
      "WARNING:tensorflow:Unresolved object in checkpoint: (root).optimizer's state 'v' for (root).layer_with_weights-2.kernel\n",
      "WARNING:tensorflow:Unresolved object in checkpoint: (root).optimizer's state 'v' for (root).layer_with_weights-2.bias\n",
      "WARNING:tensorflow:Unresolved object in checkpoint: (root).optimizer's state 'v' for (root).layer_with_weights-3.gamma\n",
      "WARNING:tensorflow:Unresolved object in checkpoint: (root).optimizer's state 'v' for (root).layer_with_weights-3.beta\n",
      "WARNING:tensorflow:Unresolved object in checkpoint: (root).optimizer's state 'v' for (root).layer_with_weights-4.kernel\n",
      "WARNING:tensorflow:Unresolved object in checkpoint: (root).optimizer's state 'v' for (root).layer_with_weights-4.bias\n",
      "WARNING:tensorflow:Unresolved object in checkpoint: (root).optimizer's state 'v' for (root).layer_with_weights-5.gamma\n",
      "WARNING:tensorflow:Unresolved object in checkpoint: (root).optimizer's state 'v' for (root).layer_with_weights-5.beta\n",
      "WARNING:tensorflow:Unresolved object in checkpoint: (root).optimizer's state 'v' for (root).layer_with_weights-6.kernel\n",
      "WARNING:tensorflow:Unresolved object in checkpoint: (root).optimizer's state 'v' for (root).layer_with_weights-6.bias\n",
      "WARNING:tensorflow:Unresolved object in checkpoint: (root).optimizer's state 'v' for (root).layer_with_weights-7.gamma\n",
      "WARNING:tensorflow:Unresolved object in checkpoint: (root).optimizer's state 'v' for (root).layer_with_weights-7.beta\n",
      "WARNING:tensorflow:Unresolved object in checkpoint: (root).optimizer's state 'v' for (root).layer_with_weights-8.kernel\n",
      "WARNING:tensorflow:Unresolved object in checkpoint: (root).optimizer's state 'v' for (root).layer_with_weights-8.bias\n",
      "WARNING:tensorflow:Unresolved object in checkpoint: (root).optimizer's state 'v' for (root).layer_with_weights-9.kernel\n",
      "WARNING:tensorflow:Unresolved object in checkpoint: (root).optimizer's state 'v' for (root).layer_with_weights-9.bias\n",
      "WARNING:tensorflow:Unresolved object in checkpoint: (root).optimizer's state 'v' for (root).layer_with_weights-10.kernel\n",
      "WARNING:tensorflow:Unresolved object in checkpoint: (root).optimizer's state 'v' for (root).layer_with_weights-10.bias\n",
      "WARNING:tensorflow:Unresolved object in checkpoint: (root).optimizer's state 'v' for (root).layer_with_weights-11.kernel\n",
      "WARNING:tensorflow:Unresolved object in checkpoint: (root).optimizer's state 'v' for (root).layer_with_weights-11.bias\n",
      "WARNING:tensorflow:Unresolved object in checkpoint: (root).optimizer's state 'v' for (root).layer_with_weights-12.kernel\n",
      "WARNING:tensorflow:Unresolved object in checkpoint: (root).optimizer's state 'v' for (root).layer_with_weights-12.bias\n",
      "WARNING:tensorflow:Unresolved object in checkpoint: (root).optimizer's state 'v' for (root).layer_with_weights-13.kernel\n",
      "WARNING:tensorflow:Unresolved object in checkpoint: (root).optimizer's state 'v' for (root).layer_with_weights-13.bias\n",
      "WARNING:tensorflow:A checkpoint was restored (e.g. tf.train.Checkpoint.restore or tf.keras.Model.load_weights) but not all checkpointed values were used. See above for specific issues. Use expect_partial() on the load status object, e.g. tf.train.Checkpoint.restore(...).expect_partial(), to silence these warnings, or use assert_consumed() to make the check explicit. See https://www.tensorflow.org/guide/checkpoint#loading_mechanics for details.\n"
     ]
    },
    {
     "ename": "KeyboardInterrupt",
     "evalue": "",
     "output_type": "error",
     "traceback": [
      "\u001b[0;31m---------------------------------------------------------------------------\u001b[0m",
      "\u001b[0;31mKeyboardInterrupt\u001b[0m                         Traceback (most recent call last)",
      "\u001b[0;32m<ipython-input-184-2b22fcec3194>\u001b[0m in \u001b[0;36m<module>\u001b[0;34m\u001b[0m\n\u001b[1;32m      1\u001b[0m \u001b[0mpredictor\u001b[0m\u001b[0;34m.\u001b[0m\u001b[0mload_bzeta_model\u001b[0m\u001b[0;34m(\u001b[0m\u001b[0;34m)\u001b[0m\u001b[0;34m\u001b[0m\u001b[0;34m\u001b[0m\u001b[0m\n\u001b[0;32m----> 2\u001b[0;31m \u001b[0mpredictor\u001b[0m\u001b[0;34m.\u001b[0m\u001b[0mpredict_Bzeta\u001b[0m\u001b[0;34m(\u001b[0m\u001b[0mpaths\u001b[0m\u001b[0;34m)\u001b[0m\u001b[0;34m\u001b[0m\u001b[0;34m\u001b[0m\u001b[0m\n\u001b[0m\u001b[1;32m      3\u001b[0m \u001b[0mpredictor\u001b[0m\u001b[0;34m.\u001b[0m\u001b[0mchoose_method\u001b[0m\u001b[0;34m(\u001b[0m\u001b[0;34m'va_horseshoe'\u001b[0m\u001b[0;34m)\u001b[0m\u001b[0;34m\u001b[0m\u001b[0;34m\u001b[0m\u001b[0m\n",
      "\u001b[0;32m<ipython-input-123-120ebd0be2cf>\u001b[0m in \u001b[0;36mpredict_Bzeta\u001b[0;34m(self, image_path_list)\u001b[0m\n\u001b[1;32m    139\u001b[0m         \u001b[0;32mfor\u001b[0m \u001b[0mimg_path\u001b[0m \u001b[0;32min\u001b[0m \u001b[0mimage_path_list\u001b[0m\u001b[0;34m:\u001b[0m\u001b[0;34m\u001b[0m\u001b[0;34m\u001b[0m\u001b[0m\n\u001b[1;32m    140\u001b[0m             \u001b[0;31m# load image\u001b[0m\u001b[0;34m\u001b[0m\u001b[0;34m\u001b[0m\u001b[0;34m\u001b[0m\u001b[0m\n\u001b[0;32m--> 141\u001b[0;31m             \u001b[0mimg\u001b[0m \u001b[0;34m=\u001b[0m \u001b[0mimageio\u001b[0m\u001b[0;34m.\u001b[0m\u001b[0mimread\u001b[0m\u001b[0;34m(\u001b[0m\u001b[0mimg_path\u001b[0m\u001b[0;34m)\u001b[0m\u001b[0;34m\u001b[0m\u001b[0;34m\u001b[0m\u001b[0m\n\u001b[0m\u001b[1;32m    142\u001b[0m             \u001b[0mimages\u001b[0m\u001b[0;34m.\u001b[0m\u001b[0mappend\u001b[0m\u001b[0;34m(\u001b[0m\u001b[0mimg\u001b[0m\u001b[0;34m)\u001b[0m\u001b[0;34m\u001b[0m\u001b[0;34m\u001b[0m\u001b[0m\n\u001b[1;32m    143\u001b[0m             \u001b[0mimg\u001b[0m \u001b[0;34m=\u001b[0m \u001b[0mcv2\u001b[0m\u001b[0;34m.\u001b[0m\u001b[0mresize\u001b[0m\u001b[0;34m(\u001b[0m\u001b[0mimg\u001b[0m\u001b[0;34m,\u001b[0m \u001b[0mdsize\u001b[0m \u001b[0;34m=\u001b[0m \u001b[0;34m(\u001b[0m\u001b[0;36m291\u001b[0m\u001b[0;34m,\u001b[0m\u001b[0;36m218\u001b[0m\u001b[0;34m)\u001b[0m\u001b[0;34m,\u001b[0m \u001b[0minterpolation\u001b[0m \u001b[0;34m=\u001b[0m \u001b[0mcv2\u001b[0m\u001b[0;34m.\u001b[0m\u001b[0mINTER_LINEAR\u001b[0m\u001b[0;34m)\u001b[0m\u001b[0;34m[\u001b[0m\u001b[0;36m76\u001b[0m\u001b[0;34m:\u001b[0m\u001b[0;36m142\u001b[0m\u001b[0;34m,\u001b[0m \u001b[0;36m45\u001b[0m\u001b[0;34m:\u001b[0m\u001b[0;36m245\u001b[0m\u001b[0;34m,\u001b[0m\u001b[0;36m0\u001b[0m\u001b[0;34m:\u001b[0m\u001b[0;36m3\u001b[0m\u001b[0;34m]\u001b[0m\u001b[0;34m.\u001b[0m\u001b[0mreshape\u001b[0m\u001b[0;34m(\u001b[0m\u001b[0;36m1\u001b[0m\u001b[0;34m,\u001b[0m\u001b[0;36m66\u001b[0m\u001b[0;34m,\u001b[0m\u001b[0;36m200\u001b[0m\u001b[0;34m,\u001b[0m\u001b[0;36m3\u001b[0m\u001b[0;34m)\u001b[0m\u001b[0;34m/\u001b[0m\u001b[0;36m255\u001b[0m\u001b[0;34m\u001b[0m\u001b[0;34m\u001b[0m\u001b[0m\n",
      "\u001b[0;32m~/.local/lib/python3.8/site-packages/imageio/core/functions.py\u001b[0m in \u001b[0;36mimread\u001b[0;34m(uri, format, **kwargs)\u001b[0m\n\u001b[1;32m    263\u001b[0m \u001b[0;34m\u001b[0m\u001b[0m\n\u001b[1;32m    264\u001b[0m     \u001b[0;31m# Get reader and read first\u001b[0m\u001b[0;34m\u001b[0m\u001b[0;34m\u001b[0m\u001b[0;34m\u001b[0m\u001b[0m\n\u001b[0;32m--> 265\u001b[0;31m     \u001b[0mreader\u001b[0m \u001b[0;34m=\u001b[0m \u001b[0mread\u001b[0m\u001b[0;34m(\u001b[0m\u001b[0muri\u001b[0m\u001b[0;34m,\u001b[0m \u001b[0mformat\u001b[0m\u001b[0;34m,\u001b[0m \u001b[0;34m\"i\"\u001b[0m\u001b[0;34m,\u001b[0m \u001b[0;34m**\u001b[0m\u001b[0mkwargs\u001b[0m\u001b[0;34m)\u001b[0m\u001b[0;34m\u001b[0m\u001b[0;34m\u001b[0m\u001b[0m\n\u001b[0m\u001b[1;32m    266\u001b[0m     \u001b[0;32mwith\u001b[0m \u001b[0mreader\u001b[0m\u001b[0;34m:\u001b[0m\u001b[0;34m\u001b[0m\u001b[0;34m\u001b[0m\u001b[0m\n\u001b[1;32m    267\u001b[0m         \u001b[0;32mreturn\u001b[0m \u001b[0mreader\u001b[0m\u001b[0;34m.\u001b[0m\u001b[0mget_data\u001b[0m\u001b[0;34m(\u001b[0m\u001b[0;36m0\u001b[0m\u001b[0;34m)\u001b[0m\u001b[0;34m\u001b[0m\u001b[0;34m\u001b[0m\u001b[0m\n",
      "\u001b[0;32m~/.local/lib/python3.8/site-packages/imageio/core/functions.py\u001b[0m in \u001b[0;36mget_reader\u001b[0;34m(uri, format, mode, **kwargs)\u001b[0m\n\u001b[1;32m    184\u001b[0m \u001b[0;34m\u001b[0m\u001b[0m\n\u001b[1;32m    185\u001b[0m     \u001b[0;31m# Return its reader object\u001b[0m\u001b[0;34m\u001b[0m\u001b[0;34m\u001b[0m\u001b[0;34m\u001b[0m\u001b[0m\n\u001b[0;32m--> 186\u001b[0;31m     \u001b[0;32mreturn\u001b[0m \u001b[0mformat\u001b[0m\u001b[0;34m.\u001b[0m\u001b[0mget_reader\u001b[0m\u001b[0;34m(\u001b[0m\u001b[0mrequest\u001b[0m\u001b[0;34m)\u001b[0m\u001b[0;34m\u001b[0m\u001b[0;34m\u001b[0m\u001b[0m\n\u001b[0m\u001b[1;32m    187\u001b[0m \u001b[0;34m\u001b[0m\u001b[0m\n\u001b[1;32m    188\u001b[0m \u001b[0;34m\u001b[0m\u001b[0m\n",
      "\u001b[0;32m~/.local/lib/python3.8/site-packages/imageio/core/format.py\u001b[0m in \u001b[0;36mget_reader\u001b[0;34m(self, request)\u001b[0m\n\u001b[1;32m    168\u001b[0m                 \u001b[0;34m\"Format %s cannot read in %s mode\"\u001b[0m \u001b[0;34m%\u001b[0m \u001b[0;34m(\u001b[0m\u001b[0mself\u001b[0m\u001b[0;34m.\u001b[0m\u001b[0mname\u001b[0m\u001b[0;34m,\u001b[0m \u001b[0mmodename\u001b[0m\u001b[0;34m)\u001b[0m\u001b[0;34m\u001b[0m\u001b[0;34m\u001b[0m\u001b[0m\n\u001b[1;32m    169\u001b[0m             )\n\u001b[0;32m--> 170\u001b[0;31m         \u001b[0;32mreturn\u001b[0m \u001b[0mself\u001b[0m\u001b[0;34m.\u001b[0m\u001b[0mReader\u001b[0m\u001b[0;34m(\u001b[0m\u001b[0mself\u001b[0m\u001b[0;34m,\u001b[0m \u001b[0mrequest\u001b[0m\u001b[0;34m)\u001b[0m\u001b[0;34m\u001b[0m\u001b[0;34m\u001b[0m\u001b[0m\n\u001b[0m\u001b[1;32m    171\u001b[0m \u001b[0;34m\u001b[0m\u001b[0m\n\u001b[1;32m    172\u001b[0m     \u001b[0;32mdef\u001b[0m \u001b[0mget_writer\u001b[0m\u001b[0;34m(\u001b[0m\u001b[0mself\u001b[0m\u001b[0;34m,\u001b[0m \u001b[0mrequest\u001b[0m\u001b[0;34m)\u001b[0m\u001b[0;34m:\u001b[0m\u001b[0;34m\u001b[0m\u001b[0;34m\u001b[0m\u001b[0m\n",
      "\u001b[0;32m~/.local/lib/python3.8/site-packages/imageio/core/format.py\u001b[0m in \u001b[0;36m__init__\u001b[0;34m(self, format, request)\u001b[0m\n\u001b[1;32m    219\u001b[0m             \u001b[0mself\u001b[0m\u001b[0;34m.\u001b[0m\u001b[0m_request\u001b[0m \u001b[0;34m=\u001b[0m \u001b[0mrequest\u001b[0m\u001b[0;34m\u001b[0m\u001b[0;34m\u001b[0m\u001b[0m\n\u001b[1;32m    220\u001b[0m             \u001b[0;31m# Open the reader/writer\u001b[0m\u001b[0;34m\u001b[0m\u001b[0;34m\u001b[0m\u001b[0;34m\u001b[0m\u001b[0m\n\u001b[0;32m--> 221\u001b[0;31m             \u001b[0mself\u001b[0m\u001b[0;34m.\u001b[0m\u001b[0m_open\u001b[0m\u001b[0;34m(\u001b[0m\u001b[0;34m**\u001b[0m\u001b[0mself\u001b[0m\u001b[0;34m.\u001b[0m\u001b[0mrequest\u001b[0m\u001b[0;34m.\u001b[0m\u001b[0mkwargs\u001b[0m\u001b[0;34m.\u001b[0m\u001b[0mcopy\u001b[0m\u001b[0;34m(\u001b[0m\u001b[0;34m)\u001b[0m\u001b[0;34m)\u001b[0m\u001b[0;34m\u001b[0m\u001b[0;34m\u001b[0m\u001b[0m\n\u001b[0m\u001b[1;32m    222\u001b[0m \u001b[0;34m\u001b[0m\u001b[0m\n\u001b[1;32m    223\u001b[0m         \u001b[0;34m@\u001b[0m\u001b[0mproperty\u001b[0m\u001b[0;34m\u001b[0m\u001b[0;34m\u001b[0m\u001b[0m\n",
      "\u001b[0;32m~/.local/lib/python3.8/site-packages/imageio/plugins/pillow.py\u001b[0m in \u001b[0;36m_open\u001b[0;34m(self, pilmode, as_gray, ignoregamma)\u001b[0m\n\u001b[1;32m    296\u001b[0m     \u001b[0;32mclass\u001b[0m \u001b[0mReader\u001b[0m\u001b[0;34m(\u001b[0m\u001b[0mPillowFormat\u001b[0m\u001b[0;34m.\u001b[0m\u001b[0mReader\u001b[0m\u001b[0;34m)\u001b[0m\u001b[0;34m:\u001b[0m\u001b[0;34m\u001b[0m\u001b[0;34m\u001b[0m\u001b[0m\n\u001b[1;32m    297\u001b[0m         \u001b[0;32mdef\u001b[0m \u001b[0m_open\u001b[0m\u001b[0;34m(\u001b[0m\u001b[0mself\u001b[0m\u001b[0;34m,\u001b[0m \u001b[0mpilmode\u001b[0m\u001b[0;34m=\u001b[0m\u001b[0;32mNone\u001b[0m\u001b[0;34m,\u001b[0m \u001b[0mas_gray\u001b[0m\u001b[0;34m=\u001b[0m\u001b[0;32mFalse\u001b[0m\u001b[0;34m,\u001b[0m \u001b[0mignoregamma\u001b[0m\u001b[0;34m=\u001b[0m\u001b[0;32mTrue\u001b[0m\u001b[0;34m)\u001b[0m\u001b[0;34m:\u001b[0m\u001b[0;34m\u001b[0m\u001b[0;34m\u001b[0m\u001b[0m\n\u001b[0;32m--> 298\u001b[0;31m             \u001b[0;32mreturn\u001b[0m \u001b[0mPillowFormat\u001b[0m\u001b[0;34m.\u001b[0m\u001b[0mReader\u001b[0m\u001b[0;34m.\u001b[0m\u001b[0m_open\u001b[0m\u001b[0;34m(\u001b[0m\u001b[0mself\u001b[0m\u001b[0;34m,\u001b[0m \u001b[0mpilmode\u001b[0m\u001b[0;34m=\u001b[0m\u001b[0mpilmode\u001b[0m\u001b[0;34m,\u001b[0m \u001b[0mas_gray\u001b[0m\u001b[0;34m=\u001b[0m\u001b[0mas_gray\u001b[0m\u001b[0;34m)\u001b[0m\u001b[0;34m\u001b[0m\u001b[0;34m\u001b[0m\u001b[0m\n\u001b[0m\u001b[1;32m    299\u001b[0m \u001b[0;34m\u001b[0m\u001b[0m\n\u001b[1;32m    300\u001b[0m         \u001b[0;32mdef\u001b[0m \u001b[0m_get_data\u001b[0m\u001b[0;34m(\u001b[0m\u001b[0mself\u001b[0m\u001b[0;34m,\u001b[0m \u001b[0mindex\u001b[0m\u001b[0;34m)\u001b[0m\u001b[0;34m:\u001b[0m\u001b[0;34m\u001b[0m\u001b[0;34m\u001b[0m\u001b[0m\n",
      "\u001b[0;32m~/.local/lib/python3.8/site-packages/imageio/plugins/pillow.py\u001b[0m in \u001b[0;36m_open\u001b[0;34m(self, pilmode, as_gray)\u001b[0m\n\u001b[1;32m    133\u001b[0m             \u001b[0;32mif\u001b[0m \u001b[0mself\u001b[0m\u001b[0;34m.\u001b[0m\u001b[0m_im\u001b[0m\u001b[0;34m.\u001b[0m\u001b[0mpalette\u001b[0m \u001b[0;32mand\u001b[0m \u001b[0mself\u001b[0m\u001b[0;34m.\u001b[0m\u001b[0m_im\u001b[0m\u001b[0;34m.\u001b[0m\u001b[0mpalette\u001b[0m\u001b[0;34m.\u001b[0m\u001b[0mdirty\u001b[0m\u001b[0;34m:\u001b[0m\u001b[0;34m\u001b[0m\u001b[0;34m\u001b[0m\u001b[0m\n\u001b[1;32m    134\u001b[0m                 \u001b[0mself\u001b[0m\u001b[0;34m.\u001b[0m\u001b[0m_im\u001b[0m\u001b[0;34m.\u001b[0m\u001b[0mpalette\u001b[0m\u001b[0;34m.\u001b[0m\u001b[0mrawmode_saved\u001b[0m \u001b[0;34m=\u001b[0m \u001b[0mself\u001b[0m\u001b[0;34m.\u001b[0m\u001b[0m_im\u001b[0m\u001b[0;34m.\u001b[0m\u001b[0mpalette\u001b[0m\u001b[0;34m.\u001b[0m\u001b[0mrawmode\u001b[0m\u001b[0;34m\u001b[0m\u001b[0;34m\u001b[0m\u001b[0m\n\u001b[0;32m--> 135\u001b[0;31m             \u001b[0mpil_try_read\u001b[0m\u001b[0;34m(\u001b[0m\u001b[0mself\u001b[0m\u001b[0;34m.\u001b[0m\u001b[0m_im\u001b[0m\u001b[0;34m)\u001b[0m\u001b[0;34m\u001b[0m\u001b[0;34m\u001b[0m\u001b[0m\n\u001b[0m\u001b[1;32m    136\u001b[0m             \u001b[0;31m# Store args\u001b[0m\u001b[0;34m\u001b[0m\u001b[0;34m\u001b[0m\u001b[0;34m\u001b[0m\u001b[0m\n\u001b[1;32m    137\u001b[0m             self._kwargs = dict(\n",
      "\u001b[0;32m~/.local/lib/python3.8/site-packages/imageio/plugins/pillow.py\u001b[0m in \u001b[0;36mpil_try_read\u001b[0;34m(im)\u001b[0m\n\u001b[1;32m    667\u001b[0m     \u001b[0;32mtry\u001b[0m\u001b[0;34m:\u001b[0m\u001b[0;34m\u001b[0m\u001b[0;34m\u001b[0m\u001b[0m\n\u001b[1;32m    668\u001b[0m         \u001b[0;31m# this will raise an IOError if the file is not readable\u001b[0m\u001b[0;34m\u001b[0m\u001b[0;34m\u001b[0m\u001b[0;34m\u001b[0m\u001b[0m\n\u001b[0;32m--> 669\u001b[0;31m         \u001b[0mim\u001b[0m\u001b[0;34m.\u001b[0m\u001b[0mgetdata\u001b[0m\u001b[0;34m(\u001b[0m\u001b[0;34m)\u001b[0m\u001b[0;34m[\u001b[0m\u001b[0;36m0\u001b[0m\u001b[0;34m]\u001b[0m\u001b[0;34m\u001b[0m\u001b[0;34m\u001b[0m\u001b[0m\n\u001b[0m\u001b[1;32m    670\u001b[0m     \u001b[0;32mexcept\u001b[0m \u001b[0mIOError\u001b[0m \u001b[0;32mas\u001b[0m \u001b[0me\u001b[0m\u001b[0;34m:\u001b[0m\u001b[0;34m\u001b[0m\u001b[0;34m\u001b[0m\u001b[0m\n\u001b[1;32m    671\u001b[0m         \u001b[0msite\u001b[0m \u001b[0;34m=\u001b[0m \u001b[0;34m\"http://pillow.readthedocs.io/en/latest/installation.html\"\u001b[0m\u001b[0;34m\u001b[0m\u001b[0;34m\u001b[0m\u001b[0m\n",
      "\u001b[0;32m~/.local/lib/python3.8/site-packages/PIL/Image.py\u001b[0m in \u001b[0;36mgetdata\u001b[0;34m(self, band)\u001b[0m\n\u001b[1;32m   1278\u001b[0m         \"\"\"\n\u001b[1;32m   1279\u001b[0m \u001b[0;34m\u001b[0m\u001b[0m\n\u001b[0;32m-> 1280\u001b[0;31m         \u001b[0mself\u001b[0m\u001b[0;34m.\u001b[0m\u001b[0mload\u001b[0m\u001b[0;34m(\u001b[0m\u001b[0;34m)\u001b[0m\u001b[0;34m\u001b[0m\u001b[0;34m\u001b[0m\u001b[0m\n\u001b[0m\u001b[1;32m   1281\u001b[0m         \u001b[0;32mif\u001b[0m \u001b[0mband\u001b[0m \u001b[0;32mis\u001b[0m \u001b[0;32mnot\u001b[0m \u001b[0;32mNone\u001b[0m\u001b[0;34m:\u001b[0m\u001b[0;34m\u001b[0m\u001b[0;34m\u001b[0m\u001b[0m\n\u001b[1;32m   1282\u001b[0m             \u001b[0;32mreturn\u001b[0m \u001b[0mself\u001b[0m\u001b[0;34m.\u001b[0m\u001b[0mim\u001b[0m\u001b[0;34m.\u001b[0m\u001b[0mgetband\u001b[0m\u001b[0;34m(\u001b[0m\u001b[0mband\u001b[0m\u001b[0;34m)\u001b[0m\u001b[0;34m\u001b[0m\u001b[0;34m\u001b[0m\u001b[0m\n",
      "\u001b[0;32m~/.local/lib/python3.8/site-packages/PIL/ImageFile.py\u001b[0m in \u001b[0;36mload\u001b[0;34m(self)\u001b[0m\n\u001b[1;32m    241\u001b[0m                         \u001b[0;32mwhile\u001b[0m \u001b[0;32mTrue\u001b[0m\u001b[0;34m:\u001b[0m\u001b[0;34m\u001b[0m\u001b[0;34m\u001b[0m\u001b[0m\n\u001b[1;32m    242\u001b[0m                             \u001b[0;32mtry\u001b[0m\u001b[0;34m:\u001b[0m\u001b[0;34m\u001b[0m\u001b[0;34m\u001b[0m\u001b[0m\n\u001b[0;32m--> 243\u001b[0;31m                                 \u001b[0ms\u001b[0m \u001b[0;34m=\u001b[0m \u001b[0mread\u001b[0m\u001b[0;34m(\u001b[0m\u001b[0mself\u001b[0m\u001b[0;34m.\u001b[0m\u001b[0mdecodermaxblock\u001b[0m\u001b[0;34m)\u001b[0m\u001b[0;34m\u001b[0m\u001b[0;34m\u001b[0m\u001b[0m\n\u001b[0m\u001b[1;32m    244\u001b[0m                             \u001b[0;32mexcept\u001b[0m \u001b[0;34m(\u001b[0m\u001b[0mIndexError\u001b[0m\u001b[0;34m,\u001b[0m \u001b[0mstruct\u001b[0m\u001b[0;34m.\u001b[0m\u001b[0merror\u001b[0m\u001b[0;34m)\u001b[0m \u001b[0;32mas\u001b[0m \u001b[0me\u001b[0m\u001b[0;34m:\u001b[0m\u001b[0;34m\u001b[0m\u001b[0;34m\u001b[0m\u001b[0m\n\u001b[1;32m    245\u001b[0m                                 \u001b[0;31m# truncated png/gif\u001b[0m\u001b[0;34m\u001b[0m\u001b[0;34m\u001b[0m\u001b[0;34m\u001b[0m\u001b[0m\n",
      "\u001b[0;32m~/.local/lib/python3.8/site-packages/PIL/PngImagePlugin.py\u001b[0m in \u001b[0;36mload_read\u001b[0;34m(self, read_bytes)\u001b[0m\n\u001b[1;32m    861\u001b[0m         \u001b[0mself\u001b[0m\u001b[0;34m.\u001b[0m\u001b[0m__idat\u001b[0m \u001b[0;34m=\u001b[0m \u001b[0mself\u001b[0m\u001b[0;34m.\u001b[0m\u001b[0m__idat\u001b[0m \u001b[0;34m-\u001b[0m \u001b[0mread_bytes\u001b[0m\u001b[0;34m\u001b[0m\u001b[0;34m\u001b[0m\u001b[0m\n\u001b[1;32m    862\u001b[0m \u001b[0;34m\u001b[0m\u001b[0m\n\u001b[0;32m--> 863\u001b[0;31m         \u001b[0;32mreturn\u001b[0m \u001b[0mself\u001b[0m\u001b[0;34m.\u001b[0m\u001b[0mfp\u001b[0m\u001b[0;34m.\u001b[0m\u001b[0mread\u001b[0m\u001b[0;34m(\u001b[0m\u001b[0mread_bytes\u001b[0m\u001b[0;34m)\u001b[0m\u001b[0;34m\u001b[0m\u001b[0;34m\u001b[0m\u001b[0m\n\u001b[0m\u001b[1;32m    864\u001b[0m \u001b[0;34m\u001b[0m\u001b[0m\n\u001b[1;32m    865\u001b[0m     \u001b[0;32mdef\u001b[0m \u001b[0mload_end\u001b[0m\u001b[0;34m(\u001b[0m\u001b[0mself\u001b[0m\u001b[0;34m)\u001b[0m\u001b[0;34m:\u001b[0m\u001b[0;34m\u001b[0m\u001b[0;34m\u001b[0m\u001b[0m\n",
      "\u001b[0;31mKeyboardInterrupt\u001b[0m: "
     ]
    }
   ],
   "source": [
    "predictor.load_bzeta_model()\n",
    "predictor.predict_Bzeta(paths)\n",
    "predictor.choose_method('va_horseshoe')"
   ]
  },
  {
   "cell_type": "code",
   "execution_count": 131,
   "metadata": {},
   "outputs": [
    {
     "name": "stdout",
     "output_type": "stream",
     "text": [
      "computing fixed values for density estimation ...\n",
      "...finished computing fixed values.\n"
     ]
    }
   ],
   "source": [
    "predictor.initialize_grid(density, 65536)"
   ]
  },
  {
   "cell_type": "code",
   "execution_count": 132,
   "metadata": {},
   "outputs": [],
   "source": [
    "densities = predictor.predict_density()"
   ]
  },
  {
   "cell_type": "code",
   "execution_count": 138,
   "metadata": {},
   "outputs": [
    {
     "data": {
      "text/plain": [
       "array([7.28783556e-16, 1.42686580e-15, 2.11573678e-15, ...,\n",
       "       3.23303783e-09, 2.19723830e-09, 2.19116909e-09])"
      ]
     },
     "execution_count": 138,
     "metadata": {},
     "output_type": "execute_result"
    }
   ],
   "source": [
    "densities[1]"
   ]
  },
  {
   "cell_type": "code",
   "execution_count": null,
   "metadata": {},
   "outputs": [],
   "source": [
    "densities = predictor.predict_density()"
   ]
  },
  {
   "cell_type": "code",
   "execution_count": null,
   "metadata": {},
   "outputs": [],
   "source": [
    "predictor.show_predictive_density(0, 0, 0)"
   ]
  },
  {
   "cell_type": "code",
   "execution_count": null,
   "metadata": {},
   "outputs": [],
   "source": [
    "plt.plot(np.linspace(min(density['axes']), max(density['axes']), 65536), densities[5])"
   ]
  },
  {
   "cell_type": "code",
   "execution_count": null,
   "metadata": {},
   "outputs": [],
   "source": [
    "len(densities)"
   ]
  },
  {
   "cell_type": "code",
   "execution_count": null,
   "metadata": {},
   "outputs": [],
   "source": [
    "conf_int = predictor.confidence_interval(density, 0.95, z_pred)"
   ]
  },
  {
   "cell_type": "code",
   "execution_count": null,
   "metadata": {},
   "outputs": [],
   "source": [
    "true_y = [all_img_df.loc[all_img_df['path'] == path[32:], 'angle'] for path in paths]"
   ]
  },
  {
   "cell_type": "code",
   "execution_count": null,
   "metadata": {},
   "outputs": [],
   "source": [
    "true_y"
   ]
  },
  {
   "cell_type": "code",
   "execution_count": null,
   "metadata": {},
   "outputs": [],
   "source": [
    "all_img_df"
   ]
  },
  {
   "cell_type": "code",
   "execution_count": null,
   "metadata": {},
   "outputs": [],
   "source": [
    "pred_y = [density.loc[find_closest_element(norm.cdf(z), density['cdf']), 'axes'] for z in z_pred]\n",
    "conf_int_width = [conf_int_i[1] - conf_int_i[0] for conf_int_i in conf_int]"
   ]
  },
  {
   "cell_type": "code",
   "execution_count": null,
   "metadata": {},
   "outputs": [],
   "source": [
    "plt.plot(np.array(abs(pred_y -true_y)), np.array(conf_int_width))"
   ]
  },
  {
   "cell_type": "code",
   "execution_count": null,
   "metadata": {},
   "outputs": [],
   "source": [
    "true_y"
   ]
  },
  {
   "cell_type": "code",
   "execution_count": null,
   "metadata": {},
   "outputs": [],
   "source": [
    "def loop_plot(plots):\n",
    "    figs={}\n",
    "    axs={}\n",
    "    for idx,plot in enumerate(plots):\n",
    "        figs[idx]=plt.figure()\n",
    "        axs[idx]=figs[idx].add_subplot(111)\n",
    "        axs[idx].plot(range(0,1000),plot)\n",
    "    return figs, axs"
   ]
  }
 ],
 "metadata": {
  "kernelspec": {
   "display_name": "Python 3",
   "language": "python",
   "name": "python3"
  },
  "language_info": {
   "codemirror_mode": {
    "name": "ipython",
    "version": 3
   },
   "file_extension": ".py",
   "mimetype": "text/x-python",
   "name": "python",
   "nbconvert_exporter": "python",
   "pygments_lexer": "ipython3",
   "version": "3.8.5"
  }
 },
 "nbformat": 4,
 "nbformat_minor": 4
}
