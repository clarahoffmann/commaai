{
 "cells": [
  {
   "cell_type": "code",
   "execution_count": 1,
   "metadata": {},
   "outputs": [],
   "source": [
    "import numpy as np\n",
    "import pandas as pd\n",
    "import matplotlib.pyplot as plt\n",
    "from scipy.stats import norm\n",
    "from scipy import stats\n",
    "from statsmodels.graphics.gofplots import qqplot\n",
    "from tqdm import tqdm\n",
    "from scipy import integrate\n",
    "from scipy import stats\n",
    "import statsmodels.api as sm\n",
    "import math\n",
    "import seaborn as sns\n",
    "from sklearn.neighbors import KernelDensity\n",
    "import multiprocessing"
   ]
  },
  {
   "cell_type": "code",
   "execution_count": 2,
   "metadata": {},
   "outputs": [],
   "source": [
    "path0 = '../../data/commaai/train_bags_2/0/angles_filename.csv'\n",
    "path1 = '../../data/commaai/train_bags_2/1/angles_filename.csv'\n",
    "path2 = '../../data/commaai/train_bags_2/2/angles_filename.csv'\n",
    "path3 = '../../data/commaai/train_bags_2/3/angles_filename.csv'\n",
    "path4 = '../../data/commaai/train_bags_2/4/angles_filename.csv'\n",
    "path5 = '../../data/commaai/train_bags_2/5/angles_filename.csv'\n",
    "path6 = '../../data/commaai/train_bags_2/6/angles_filename.csv'\n",
    "df0 = pd.read_csv(path0, header = None)\n",
    "df0.columns = ['filename', 'angle', 'tr_angle']\n",
    "df1 = pd.read_csv(path1, header = None)\n",
    "df1.columns = ['filename', 'angle', 'tr_angle']\n",
    "df2 = pd.read_csv(path2, header = None)\n",
    "df2.columns = ['filename', 'angle', 'tr_angle']\n",
    "df3 = pd.read_csv(path3, header = None)\n",
    "df3.columns = ['filename', 'angle', 'tr_angle']\n",
    "df4 = pd.read_csv(path4, header = None)\n",
    "df4.columns = ['filename', 'angle', 'tr_angle']\n",
    "df5 = pd.read_csv(path5, header = None)\n",
    "df5.columns = ['filename', 'angle', 'tr_angle']\n",
    "\n",
    "df = df0.append(df1).append(df2).append(df3).append(df4).append(df5)\n",
    "df = df.reset_index()\n",
    "df = df.loc[:, ['filename','angle']]"
   ]
  },
  {
   "cell_type": "code",
   "execution_count": 10,
   "metadata": {},
   "outputs": [],
   "source": [
    "df0a = df0.loc[abs(df0['angle']) < 1,:]\n",
    "df0b = df0.loc[(abs(df0['angle']) < 2) & (abs(df0['angle']) >= 1) ,:]\n",
    "df0c = df0.loc[abs(df0['angle']) >= 2,:]"
   ]
  },
  {
   "cell_type": "code",
   "execution_count": 13,
   "metadata": {},
   "outputs": [
    {
     "data": {
      "text/plain": [
       "(93694, 3)"
      ]
     },
     "execution_count": 13,
     "metadata": {},
     "output_type": "execute_result"
    }
   ],
   "source": [
    "df0c.shape"
   ]
  },
  {
   "cell_type": "code",
   "execution_count": null,
   "metadata": {},
   "outputs": [],
   "source": []
  }
 ],
 "metadata": {
  "kernelspec": {
   "display_name": "Python 3",
   "language": "python",
   "name": "python3"
  },
  "language_info": {
   "codemirror_mode": {
    "name": "ipython",
    "version": 3
   },
   "file_extension": ".py",
   "mimetype": "text/x-python",
   "name": "python",
   "nbconvert_exporter": "python",
   "pygments_lexer": "ipython3",
   "version": "3.8.5"
  }
 },
 "nbformat": 4,
 "nbformat_minor": 4
}
