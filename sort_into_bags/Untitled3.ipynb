{
 "cells": [
  {
   "cell_type": "code",
   "execution_count": 26,
   "metadata": {},
   "outputs": [],
   "source": [
    "import numpy as np\n",
    "import pandas as pd\n",
    "import matplotlib.pyplot as plt\n",
    "from scipy.stats import norm\n",
    "from scipy import stats\n",
    "from statsmodels.graphics.gofplots import qqplot\n",
    "from tqdm import tqdm\n",
    "from scipy import integrate\n",
    "from scipy import stats\n",
    "import statsmodels.api as sm\n",
    "import math\n",
    "import seaborn as sns\n",
    "from sklearn.neighbors import KernelDensity\n",
    "import multiprocessing\n",
    "import random\n",
    "import imageio"
   ]
  },
  {
   "cell_type": "code",
   "execution_count": 2,
   "metadata": {},
   "outputs": [],
   "source": [
    "path0 = '../../data/commaai/train_bags_2/0/angles_filename.csv'\n",
    "path1 = '../../data/commaai/train_bags_2/1/angles_filename.csv'\n",
    "path2 = '../../data/commaai/train_bags_2/2/angles_filename.csv'\n",
    "path3 = '../../data/commaai/train_bags_2/3/angles_filename.csv'\n",
    "path4 = '../../data/commaai/train_bags_2/4/angles_filename.csv'\n",
    "path5 = '../../data/commaai/train_bags_2/5/angles_filename.csv'\n",
    "path6 = '../../data/commaai/train_bags_2/6/angles_filename.csv'\n",
    "df0 = pd.read_csv(path0, header = None)\n",
    "df0.columns = ['filename', 'angle', 'tr_angle']\n",
    "df1 = pd.read_csv(path1, header = None)\n",
    "df1.columns = ['filename', 'angle', 'tr_angle']\n",
    "df2 = pd.read_csv(path2, header = None)\n",
    "df2.columns = ['filename', 'angle', 'tr_angle']\n",
    "df3 = pd.read_csv(path3, header = None)\n",
    "df3.columns = ['filename', 'angle', 'tr_angle']\n",
    "df4 = pd.read_csv(path4, header = None)\n",
    "df4.columns = ['filename', 'angle', 'tr_angle']\n",
    "df5 = pd.read_csv(path5, header = None)\n",
    "df5.columns = ['filename', 'angle', 'tr_angle']\n",
    "\n",
    "df = df0.append(df1).append(df2).append(df3).append(df4).append(df5)\n",
    "df = df.reset_index()\n",
    "df = df.loc[:, ['filename','angle']]"
   ]
  },
  {
   "cell_type": "code",
   "execution_count": 10,
   "metadata": {},
   "outputs": [],
   "source": [
    "df0a = df0.loc[abs(df0['angle']) < 1,:]\n",
    "df0b = df0.loc[(abs(df0['angle']) < 2) & (abs(df0['angle']) >= 1) ,:]\n",
    "df0c = df0.loc[abs(df0['angle']) >= 2,:]"
   ]
  },
  {
   "cell_type": "code",
   "execution_count": 22,
   "metadata": {},
   "outputs": [],
   "source": [
    "df0c = df0c.reset_index()"
   ]
  },
  {
   "cell_type": "code",
   "execution_count": 27,
   "metadata": {},
   "outputs": [
    {
     "ename": "FileNotFoundError",
     "evalue": "No such file: '/home/hofmancl/commaai_code/sort_into_bags/commaai/train_bags_2/0/230_128run1.png'",
     "output_type": "error",
     "traceback": [
      "\u001b[0;31m---------------------------------------------------------------------------\u001b[0m",
      "\u001b[0;31mFileNotFoundError\u001b[0m                         Traceback (most recent call last)",
      "\u001b[0;32m<ipython-input-27-65b8360c35d6>\u001b[0m in \u001b[0;36m<module>\u001b[0;34m\u001b[0m\n\u001b[0;32m----> 1\u001b[0;31m \u001b[0mimg\u001b[0m \u001b[0;34m=\u001b[0m \u001b[0mimageio\u001b[0m\u001b[0;34m.\u001b[0m\u001b[0mimread\u001b[0m\u001b[0;34m(\u001b[0m\u001b[0mrandom\u001b[0m\u001b[0;34m.\u001b[0m\u001b[0mchoice\u001b[0m\u001b[0;34m(\u001b[0m\u001b[0mdf0c\u001b[0m\u001b[0;34m[\u001b[0m\u001b[0;34m'filename'\u001b[0m\u001b[0;34m]\u001b[0m\u001b[0;34m)\u001b[0m\u001b[0;34m)\u001b[0m\u001b[0;34m\u001b[0m\u001b[0;34m\u001b[0m\u001b[0m\n\u001b[0m",
      "\u001b[0;32m~/.local/lib/python3.8/site-packages/imageio/core/functions.py\u001b[0m in \u001b[0;36mimread\u001b[0;34m(uri, format, **kwargs)\u001b[0m\n\u001b[1;32m    263\u001b[0m \u001b[0;34m\u001b[0m\u001b[0m\n\u001b[1;32m    264\u001b[0m     \u001b[0;31m# Get reader and read first\u001b[0m\u001b[0;34m\u001b[0m\u001b[0;34m\u001b[0m\u001b[0;34m\u001b[0m\u001b[0m\n\u001b[0;32m--> 265\u001b[0;31m     \u001b[0mreader\u001b[0m \u001b[0;34m=\u001b[0m \u001b[0mread\u001b[0m\u001b[0;34m(\u001b[0m\u001b[0muri\u001b[0m\u001b[0;34m,\u001b[0m \u001b[0mformat\u001b[0m\u001b[0;34m,\u001b[0m \u001b[0;34m\"i\"\u001b[0m\u001b[0;34m,\u001b[0m \u001b[0;34m**\u001b[0m\u001b[0mkwargs\u001b[0m\u001b[0;34m)\u001b[0m\u001b[0;34m\u001b[0m\u001b[0;34m\u001b[0m\u001b[0m\n\u001b[0m\u001b[1;32m    266\u001b[0m     \u001b[0;32mwith\u001b[0m \u001b[0mreader\u001b[0m\u001b[0;34m:\u001b[0m\u001b[0;34m\u001b[0m\u001b[0;34m\u001b[0m\u001b[0m\n\u001b[1;32m    267\u001b[0m         \u001b[0;32mreturn\u001b[0m \u001b[0mreader\u001b[0m\u001b[0;34m.\u001b[0m\u001b[0mget_data\u001b[0m\u001b[0;34m(\u001b[0m\u001b[0;36m0\u001b[0m\u001b[0;34m)\u001b[0m\u001b[0;34m\u001b[0m\u001b[0;34m\u001b[0m\u001b[0m\n",
      "\u001b[0;32m~/.local/lib/python3.8/site-packages/imageio/core/functions.py\u001b[0m in \u001b[0;36mget_reader\u001b[0;34m(uri, format, mode, **kwargs)\u001b[0m\n\u001b[1;32m    170\u001b[0m \u001b[0;34m\u001b[0m\u001b[0m\n\u001b[1;32m    171\u001b[0m     \u001b[0;31m# Create request object\u001b[0m\u001b[0;34m\u001b[0m\u001b[0;34m\u001b[0m\u001b[0;34m\u001b[0m\u001b[0m\n\u001b[0;32m--> 172\u001b[0;31m     \u001b[0mrequest\u001b[0m \u001b[0;34m=\u001b[0m \u001b[0mRequest\u001b[0m\u001b[0;34m(\u001b[0m\u001b[0muri\u001b[0m\u001b[0;34m,\u001b[0m \u001b[0;34m\"r\"\u001b[0m \u001b[0;34m+\u001b[0m \u001b[0mmode\u001b[0m\u001b[0;34m,\u001b[0m \u001b[0;34m**\u001b[0m\u001b[0mkwargs\u001b[0m\u001b[0;34m)\u001b[0m\u001b[0;34m\u001b[0m\u001b[0;34m\u001b[0m\u001b[0m\n\u001b[0m\u001b[1;32m    173\u001b[0m \u001b[0;34m\u001b[0m\u001b[0m\n\u001b[1;32m    174\u001b[0m     \u001b[0;31m# Get format\u001b[0m\u001b[0;34m\u001b[0m\u001b[0;34m\u001b[0m\u001b[0;34m\u001b[0m\u001b[0m\n",
      "\u001b[0;32m~/.local/lib/python3.8/site-packages/imageio/core/request.py\u001b[0m in \u001b[0;36m__init__\u001b[0;34m(self, uri, mode, **kwargs)\u001b[0m\n\u001b[1;32m    122\u001b[0m \u001b[0;34m\u001b[0m\u001b[0m\n\u001b[1;32m    123\u001b[0m         \u001b[0;31m# Parse what was given\u001b[0m\u001b[0;34m\u001b[0m\u001b[0;34m\u001b[0m\u001b[0;34m\u001b[0m\u001b[0m\n\u001b[0;32m--> 124\u001b[0;31m         \u001b[0mself\u001b[0m\u001b[0;34m.\u001b[0m\u001b[0m_parse_uri\u001b[0m\u001b[0;34m(\u001b[0m\u001b[0muri\u001b[0m\u001b[0;34m)\u001b[0m\u001b[0;34m\u001b[0m\u001b[0;34m\u001b[0m\u001b[0m\n\u001b[0m\u001b[1;32m    125\u001b[0m \u001b[0;34m\u001b[0m\u001b[0m\n\u001b[1;32m    126\u001b[0m         \u001b[0;31m# Set extension\u001b[0m\u001b[0;34m\u001b[0m\u001b[0;34m\u001b[0m\u001b[0;34m\u001b[0m\u001b[0m\n",
      "\u001b[0;32m~/.local/lib/python3.8/site-packages/imageio/core/request.py\u001b[0m in \u001b[0;36m_parse_uri\u001b[0;34m(self, uri)\u001b[0m\n\u001b[1;32m    258\u001b[0m                 \u001b[0;31m# Reading: check that the file exists (but is allowed a dir)\u001b[0m\u001b[0;34m\u001b[0m\u001b[0;34m\u001b[0m\u001b[0;34m\u001b[0m\u001b[0m\n\u001b[1;32m    259\u001b[0m                 \u001b[0;32mif\u001b[0m \u001b[0;32mnot\u001b[0m \u001b[0mos\u001b[0m\u001b[0;34m.\u001b[0m\u001b[0mpath\u001b[0m\u001b[0;34m.\u001b[0m\u001b[0mexists\u001b[0m\u001b[0;34m(\u001b[0m\u001b[0mfn\u001b[0m\u001b[0;34m)\u001b[0m\u001b[0;34m:\u001b[0m\u001b[0;34m\u001b[0m\u001b[0;34m\u001b[0m\u001b[0m\n\u001b[0;32m--> 260\u001b[0;31m                     \u001b[0;32mraise\u001b[0m \u001b[0mFileNotFoundError\u001b[0m\u001b[0;34m(\u001b[0m\u001b[0;34m\"No such file: '%s'\"\u001b[0m \u001b[0;34m%\u001b[0m \u001b[0mfn\u001b[0m\u001b[0;34m)\u001b[0m\u001b[0;34m\u001b[0m\u001b[0;34m\u001b[0m\u001b[0m\n\u001b[0m\u001b[1;32m    261\u001b[0m             \u001b[0;32melse\u001b[0m\u001b[0;34m:\u001b[0m\u001b[0;34m\u001b[0m\u001b[0;34m\u001b[0m\u001b[0m\n\u001b[1;32m    262\u001b[0m                 \u001b[0;31m# Writing: check that the directory to write to does exist\u001b[0m\u001b[0;34m\u001b[0m\u001b[0;34m\u001b[0m\u001b[0;34m\u001b[0m\u001b[0m\n",
      "\u001b[0;31mFileNotFoundError\u001b[0m: No such file: '/home/hofmancl/commaai_code/sort_into_bags/commaai/train_bags_2/0/230_128run1.png'"
     ]
    }
   ],
   "source": [
    "img = imageio.imread(random.choice(df0c['filename']))"
   ]
  },
  {
   "cell_type": "code",
   "execution_count": 7,
   "metadata": {},
   "outputs": [],
   "source": [
    "import pandas as pd\n",
    "import matplotlib.pyplot as plt"
   ]
  },
  {
   "cell_type": "code",
   "execution_count": 5,
   "metadata": {},
   "outputs": [],
   "source": [
    "ang_t = pd.read_csv('../../data/commaai/training_files/unrestricted_gauss_dens_resampled/yaws_transformed.csv', header = None)"
   ]
  },
  {
   "cell_type": "code",
   "execution_count": 9,
   "metadata": {},
   "outputs": [
    {
     "data": {
      "text/plain": [
       "(array([3.000e+00, 1.000e+00, 0.000e+00, 2.000e+00, 7.000e+00, 4.000e+00,\n",
       "        6.000e+00, 1.900e+01, 1.600e+01, 2.400e+01, 4.700e+01, 1.700e+01,\n",
       "        5.700e+01, 4.000e+01, 4.700e+01, 9.100e+01, 1.290e+02, 1.890e+02,\n",
       "        1.900e+02, 4.150e+02, 4.120e+02, 5.020e+02, 5.900e+02, 7.800e+02,\n",
       "        7.650e+02, 9.290e+02, 1.172e+03, 1.265e+03, 1.689e+03, 1.668e+03,\n",
       "        2.194e+03, 2.512e+03, 2.501e+03, 1.842e+03, 7.720e+02, 7.410e+02,\n",
       "        1.066e+03, 1.030e+03, 1.442e+03, 1.179e+03, 1.028e+03, 1.248e+03,\n",
       "        1.000e+03, 3.980e+02, 6.170e+02, 2.580e+02, 6.890e+02, 2.940e+02,\n",
       "        3.000e+02, 5.560e+02, 5.460e+02, 4.500e+02, 2.370e+02, 4.520e+02,\n",
       "        4.160e+02, 7.330e+02, 1.391e+03, 9.720e+02, 1.107e+03, 1.124e+03,\n",
       "        1.046e+03, 9.530e+02, 9.510e+02, 7.070e+02, 8.340e+02, 1.415e+03,\n",
       "        2.304e+03, 2.044e+03, 1.740e+03, 1.396e+03, 1.223e+03, 1.010e+03,\n",
       "        1.027e+03, 1.400e+02, 1.359e+03, 6.040e+02, 3.860e+02, 3.580e+02,\n",
       "        2.460e+02, 2.310e+02, 1.370e+02, 1.570e+02, 8.900e+01, 6.300e+01,\n",
       "        5.100e+01, 2.800e+01, 2.600e+01, 2.700e+01, 2.700e+01, 1.800e+01,\n",
       "        7.000e+00, 1.100e+01, 3.000e+00, 4.000e+00, 2.000e+00, 3.000e+00,\n",
       "        1.000e+00, 0.000e+00, 0.000e+00, 1.000e+00]),\n",
       " array([-4.2901755 , -4.20221754, -4.11425958, -4.02630162, -3.93834366,\n",
       "        -3.8503857 , -3.76242773, -3.67446977, -3.58651181, -3.49855385,\n",
       "        -3.41059589, -3.32263793, -3.23467997, -3.146722  , -3.05876404,\n",
       "        -2.97080608, -2.88284812, -2.79489016, -2.7069322 , -2.61897424,\n",
       "        -2.53101627, -2.44305831, -2.35510035, -2.26714239, -2.17918443,\n",
       "        -2.09122647, -2.00326851, -1.91531055, -1.82735258, -1.73939462,\n",
       "        -1.65143666, -1.5634787 , -1.47552074, -1.38756278, -1.29960482,\n",
       "        -1.21164685, -1.12368889, -1.03573093, -0.94777297, -0.85981501,\n",
       "        -0.77185705, -0.68389909, -0.59594113, -0.50798316, -0.4200252 ,\n",
       "        -0.33206724, -0.24410928, -0.15615132, -0.06819336,  0.0197646 ,\n",
       "         0.10772257,  0.19568053,  0.28363849,  0.37159645,  0.45955441,\n",
       "         0.54751237,  0.63547033,  0.7234283 ,  0.81138626,  0.89934422,\n",
       "         0.98730218,  1.07526014,  1.1632181 ,  1.25117606,  1.33913402,\n",
       "         1.42709199,  1.51504995,  1.60300791,  1.69096587,  1.77892383,\n",
       "         1.86688179,  1.95483975,  2.04279772,  2.13075568,  2.21871364,\n",
       "         2.3066716 ,  2.39462956,  2.48258752,  2.57054548,  2.65850344,\n",
       "         2.74646141,  2.83441937,  2.92237733,  3.01033529,  3.09829325,\n",
       "         3.18625121,  3.27420917,  3.36216714,  3.4501251 ,  3.53808306,\n",
       "         3.62604102,  3.71399898,  3.80195694,  3.8899149 ,  3.97787286,\n",
       "         4.06583083,  4.15378879,  4.24174675,  4.32970471,  4.41766267,\n",
       "         4.50562063]),\n",
       " <BarContainer object of 100 artists>)"
      ]
     },
     "execution_count": 9,
     "metadata": {},
     "output_type": "execute_result"
    },
    {
     "data": {
      "image/png": "[encoded data removed]",
      "text/plain": [
       "<Figure size 432x288 with 1 Axes>"
      ]
     },
     "metadata": {
      "needs_background": "light"
     },
     "output_type": "display_data"
    }
   ],
   "source": [
    "plt.hist(ang_t[0], bins = 100)"
   ]
  },
  {
   "cell_type": "code",
   "execution_count": null,
   "metadata": {},
   "outputs": [],
   "source": []
  }
 ],
 "metadata": {
  "kernelspec": {
   "display_name": "Python 3",
   "language": "python",
   "name": "python3"
  },
  "language_info": {
   "codemirror_mode": {
    "name": "ipython",
    "version": 3
   },
   "file_extension": ".py",
   "mimetype": "text/x-python",
   "name": "python",
   "nbconvert_exporter": "python",
   "pygments_lexer": "ipython3",
   "version": "3.8.5"
  }
 },
 "nbformat": 4,
 "nbformat_minor": 4
}
