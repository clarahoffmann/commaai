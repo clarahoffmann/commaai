{
 "cells": [
  {
   "cell_type": "code",
   "execution_count": 1,
   "metadata": {},
   "outputs": [],
   "source": [
    "import numpy as np\n",
    "import pandas as pd\n",
    "import matplotlib.pyplot as plt\n",
    "from scipy.stats import norm\n",
    "from scipy import stats\n",
    "from statsmodels.graphics.gofplots import qqplot\n",
    "from tqdm import tqdm\n",
    "from scipy import integrate\n",
    "from scipy import stats\n",
    "import statsmodels.api as sm\n",
    "import math\n",
    "import seaborn as sns\n",
    "from sklearn.neighbors import KernelDensity\n",
    "import multiprocessing"
   ]
  },
  {
   "cell_type": "code",
   "execution_count": 2,
   "metadata": {},
   "outputs": [],
   "source": [
    "df = pd.read_csv('../../../data/commaai/training_files_filtered/indices/train_indices.csv')\n",
    "df = df.loc[df['use'] == 1, :]"
   ]
  },
  {
   "cell_type": "code",
   "execution_count": 3,
   "metadata": {},
   "outputs": [
    {
     "data": {
      "text/html": [
       "<div>\n",
       "<style scoped>\n",
       "    .dataframe tbody tr th:only-of-type {\n",
       "        vertical-align: middle;\n",
       "    }\n",
       "\n",
       "    .dataframe tbody tr th {\n",
       "        vertical-align: top;\n",
       "    }\n",
       "\n",
       "    .dataframe thead th {\n",
       "        text-align: right;\n",
       "    }\n",
       "</style>\n",
       "<table border=\"1\" class=\"dataframe\">\n",
       "  <thead>\n",
       "    <tr style=\"text-align: right;\">\n",
       "      <th></th>\n",
       "      <th>id</th>\n",
       "      <th>path</th>\n",
       "      <th>use</th>\n",
       "      <th>angle</th>\n",
       "      <th>filenumber</th>\n",
       "    </tr>\n",
       "  </thead>\n",
       "  <tbody>\n",
       "    <tr>\n",
       "      <th>0</th>\n",
       "      <td>1</td>\n",
       "      <td>0/0_1079run1.png</td>\n",
       "      <td>1.0</td>\n",
       "      <td>-0.5</td>\n",
       "      <td>1079</td>\n",
       "    </tr>\n",
       "    <tr>\n",
       "      <th>1</th>\n",
       "      <td>2</td>\n",
       "      <td>0/1_1079run1.png</td>\n",
       "      <td>1.0</td>\n",
       "      <td>-0.5</td>\n",
       "      <td>1079</td>\n",
       "    </tr>\n",
       "    <tr>\n",
       "      <th>2</th>\n",
       "      <td>3</td>\n",
       "      <td>0/2_1079run1.png</td>\n",
       "      <td>1.0</td>\n",
       "      <td>-0.3</td>\n",
       "      <td>1079</td>\n",
       "    </tr>\n",
       "    <tr>\n",
       "      <th>3</th>\n",
       "      <td>4</td>\n",
       "      <td>0/3_1079run1.png</td>\n",
       "      <td>1.0</td>\n",
       "      <td>0.0</td>\n",
       "      <td>1079</td>\n",
       "    </tr>\n",
       "    <tr>\n",
       "      <th>4</th>\n",
       "      <td>6</td>\n",
       "      <td>0/5_1079run1.png</td>\n",
       "      <td>1.0</td>\n",
       "      <td>1.2</td>\n",
       "      <td>1079</td>\n",
       "    </tr>\n",
       "    <tr>\n",
       "      <th>...</th>\n",
       "      <td>...</td>\n",
       "      <td>...</td>\n",
       "      <td>...</td>\n",
       "      <td>...</td>\n",
       "      <td>...</td>\n",
       "    </tr>\n",
       "    <tr>\n",
       "      <th>43731</th>\n",
       "      <td>355090</td>\n",
       "      <td>5/47_1308run1.png</td>\n",
       "      <td>1.0</td>\n",
       "      <td>-47.0</td>\n",
       "      <td>1308</td>\n",
       "    </tr>\n",
       "    <tr>\n",
       "      <th>43732</th>\n",
       "      <td>355110</td>\n",
       "      <td>5/183_1400run1.png</td>\n",
       "      <td>1.0</td>\n",
       "      <td>-43.3</td>\n",
       "      <td>1400</td>\n",
       "    </tr>\n",
       "    <tr>\n",
       "      <th>43733</th>\n",
       "      <td>355180</td>\n",
       "      <td>5/174_91run1.png</td>\n",
       "      <td>1.0</td>\n",
       "      <td>-44.1</td>\n",
       "      <td>91</td>\n",
       "    </tr>\n",
       "    <tr>\n",
       "      <th>43734</th>\n",
       "      <td>355190</td>\n",
       "      <td>5/192_195run1.png</td>\n",
       "      <td>1.0</td>\n",
       "      <td>49.8</td>\n",
       "      <td>195</td>\n",
       "    </tr>\n",
       "    <tr>\n",
       "      <th>43735</th>\n",
       "      <td>355345</td>\n",
       "      <td>5/146_327run1.png</td>\n",
       "      <td>1.0</td>\n",
       "      <td>49.9</td>\n",
       "      <td>327</td>\n",
       "    </tr>\n",
       "  </tbody>\n",
       "</table>\n",
       "<p>43736 rows × 5 columns</p>\n",
       "</div>"
      ],
      "text/plain": [
       "           id                path  use  angle  filenumber\n",
       "0           1    0/0_1079run1.png  1.0   -0.5        1079\n",
       "1           2    0/1_1079run1.png  1.0   -0.5        1079\n",
       "2           3    0/2_1079run1.png  1.0   -0.3        1079\n",
       "3           4    0/3_1079run1.png  1.0    0.0        1079\n",
       "4           6    0/5_1079run1.png  1.0    1.2        1079\n",
       "...       ...                 ...  ...    ...         ...\n",
       "43731  355090   5/47_1308run1.png  1.0  -47.0        1308\n",
       "43732  355110  5/183_1400run1.png  1.0  -43.3        1400\n",
       "43733  355180    5/174_91run1.png  1.0  -44.1          91\n",
       "43734  355190   5/192_195run1.png  1.0   49.8         195\n",
       "43735  355345   5/146_327run1.png  1.0   49.9         327\n",
       "\n",
       "[43736 rows x 5 columns]"
      ]
     },
     "execution_count": 3,
     "metadata": {},
     "output_type": "execute_result"
    }
   ],
   "source": [
    "df"
   ]
  },
  {
   "cell_type": "code",
   "execution_count": 4,
   "metadata": {},
   "outputs": [],
   "source": [
    "df.columns = ['id', 'filename', 'use', 'angle', 'filenumber']"
   ]
  },
  {
   "cell_type": "code",
   "execution_count": 5,
   "metadata": {},
   "outputs": [],
   "source": [
    "df = df.loc[abs(df['angle']) < 60]"
   ]
  },
  {
   "cell_type": "code",
   "execution_count": 6,
   "metadata": {},
   "outputs": [
    {
     "data": {
      "image/png": "[encoded data removed]",
      "text/plain": [
       "<Figure size 432x288 with 1 Axes>"
      ]
     },
     "metadata": {
      "needs_background": "light"
     },
     "output_type": "display_data"
    }
   ],
   "source": [
    "plt.hist(df['angle'], bins = 200)\n",
    "plt.title('Histogram of steering angles (y)')\n",
    "plt.xlabel('steering angle in degree')\n",
    "plt.ylabel('Frequency')\n",
    "plt.savefig('histogram_y.png')"
   ]
  },
  {
   "cell_type": "code",
   "execution_count": 7,
   "metadata": {},
   "outputs": [
    {
     "data": {
      "text/plain": [
       "<statsmodels.nonparametric.kde.KDEUnivariate at 0x7fb27b2f1e80>"
      ]
     },
     "execution_count": 7,
     "metadata": {},
     "output_type": "execute_result"
    }
   ],
   "source": [
    "import statsmodels.api as sm\n",
    "kde = sm.nonparametric.KDEUnivariate(df['angle'])\n",
    "kde.fit() # Estimate the densities"
   ]
  },
  {
   "cell_type": "code",
   "execution_count": 8,
   "metadata": {},
   "outputs": [],
   "source": [
    "support = kde.support\n",
    "endog = kde.endog\n",
    "density = kde.density\n",
    "grid = np.array([i for i in range(0, support.shape[0])])"
   ]
  },
  {
   "cell_type": "code",
   "execution_count": 9,
   "metadata": {},
   "outputs": [],
   "source": [
    "def f_integral(i):\n",
    "    return(integrate.trapz(density[i:(i+2)], support[i:(i+2)]))"
   ]
  },
  {
   "cell_type": "code",
   "execution_count": 10,
   "metadata": {},
   "outputs": [],
   "source": [
    "with multiprocessing.Pool(20) as p:\n",
    "    probs = p.map(f_integral, grid)"
   ]
  },
  {
   "cell_type": "code",
   "execution_count": 11,
   "metadata": {},
   "outputs": [],
   "source": [
    "cdf = np.cumsum(np.array(probs))"
   ]
  },
  {
   "cell_type": "code",
   "execution_count": 12,
   "metadata": {},
   "outputs": [
    {
     "data": {
      "text/plain": [
       "[<matplotlib.lines.Line2D at 0x7fb30fbdeee0>]"
      ]
     },
     "execution_count": 12,
     "metadata": {},
     "output_type": "execute_result"
    },
    {
     "data": {
      "image/png": "[encoded data removed]",
      "text/plain": [
       "<Figure size 432x288 with 1 Axes>"
      ]
     },
     "metadata": {
      "needs_background": "light"
     },
     "output_type": "display_data"
    }
   ],
   "source": [
    "plt.plot(support, cdf)"
   ]
  },
  {
   "cell_type": "code",
   "execution_count": 13,
   "metadata": {},
   "outputs": [
    {
     "data": {
      "text/plain": [
       "[<matplotlib.lines.Line2D at 0x7fb30fb421c0>]"
      ]
     },
     "execution_count": 13,
     "metadata": {},
     "output_type": "execute_result"
    },
    {
     "data": {
      "image/png": "[encoded data removed]",
      "text/plain": [
       "<Figure size 864x360 with 1 Axes>"
      ]
     },
     "metadata": {
      "needs_background": "light"
     },
     "output_type": "display_data"
    }
   ],
   "source": [
    "fig = plt.figure(figsize=(12, 5))\n",
    "ax = fig.add_subplot(111)\n",
    "\n",
    "# Plot the histrogram\n",
    "ax.hist(df['angle'], bins=20, density=True, label='Histogram from samples',\n",
    "        zorder=5, edgecolor='k', alpha=0.5)\n",
    "\n",
    "# Plot the KDE as fitted using the default arguments\n",
    "ax.plot(kde.support, kde.density, lw=3, label='KDE from samples', zorder=10)"
   ]
  },
  {
   "cell_type": "code",
   "execution_count": 14,
   "metadata": {},
   "outputs": [
    {
     "data": {
      "text/plain": [
       "array([[-47.52805948, -47.52656476, -47.52507005, ...,  50.42507005,\n",
       "         50.42656476,  50.42805948]])"
      ]
     },
     "execution_count": 14,
     "metadata": {},
     "output_type": "execute_result"
    }
   ],
   "source": [
    "kde.support[max(kde.density == 0)]"
   ]
  },
  {
   "cell_type": "code",
   "execution_count": 15,
   "metadata": {},
   "outputs": [],
   "source": [
    "density = pd.DataFrame({'axes': kde.support , 'pdf': kde.density, 'cdf': cdf })"
   ]
  },
  {
   "cell_type": "code",
   "execution_count": 16,
   "metadata": {},
   "outputs": [
    {
     "data": {
      "text/plain": [
       "[<matplotlib.lines.Line2D at 0x7fb30fac1e80>]"
      ]
     },
     "execution_count": 16,
     "metadata": {},
     "output_type": "execute_result"
    },
    {
     "data": {
      "image/png": "[encoded data removed]",
      "text/plain": [
       "<Figure size 432x288 with 1 Axes>"
      ]
     },
     "metadata": {
      "needs_background": "light"
     },
     "output_type": "display_data"
    }
   ],
   "source": [
    "plt.plot(density['axes'], density['cdf'])"
   ]
  },
  {
   "cell_type": "code",
   "execution_count": 17,
   "metadata": {},
   "outputs": [],
   "source": [
    "def find_closest_element(y: float, arr: np.ndarray):\n",
    "    index = np.searchsorted(arr,y)\n",
    "    if (index >= 1) & (index < arr.shape[0]):\n",
    "        res = [arr[index - 1], arr[index]]\n",
    "    elif (index < arr.shape[0]):\n",
    "        return np.array(index)\n",
    "    else:\n",
    "        return np.array(index - 1)\n",
    "\n",
    "    if res[0] == res[1]:\n",
    "        return np.array(index - 1)\n",
    "    else:\n",
    "        diff_pre = np.abs(y-res[0])\n",
    "        diff_aft = np.abs(y-res[1])\n",
    "        if diff_pre == diff_aft:\n",
    "            return np.array(index - 1)\n",
    "        else:\n",
    "            return index - 1 if diff_pre < diff_aft else index\n",
    "def Fy(y, density):\n",
    "    integral = density.loc[find_closest_element(y, density['axes']),'cdf']\n",
    "    return(integral)  "
   ]
  },
  {
   "cell_type": "code",
   "execution_count": 18,
   "metadata": {},
   "outputs": [
    {
     "name": "stderr",
     "output_type": "stream",
     "text": [
      "/home/hofmancl/.local/lib/python3.8/site-packages/tqdm/std.py:668: FutureWarning: The Panel class is removed from pandas. Accessing it from the top-level namespace will also be removed in the next version\n",
      "  from pandas import Panel\n",
      "100%|██████████| 43736/43736 [00:29<00:00, 1494.70it/s]\n"
     ]
    }
   ],
   "source": [
    "tqdm.pandas()\n",
    "df['tr_angle2'] = df['angle'].progress_apply(lambda x: norm.ppf(Fy(x, density)))"
   ]
  },
  {
   "cell_type": "code",
   "execution_count": 19,
   "metadata": {},
   "outputs": [],
   "source": [
    "df['tr_angle2'] = np.array(df['tr_angle2'] , dtype=float)"
   ]
  },
  {
   "cell_type": "code",
   "execution_count": 20,
   "metadata": {},
   "outputs": [
    {
     "data": {
      "image/png": "[encoded data removed]",
      "text/plain": [
       "<Figure size 432x288 with 1 Axes>"
      ]
     },
     "metadata": {
      "needs_background": "light"
     },
     "output_type": "display_data"
    }
   ],
   "source": [
    "fig = sm.qqplot(df.loc[:,'tr_angle2'], stats.norm, fit=True, line=\"45\")\n",
    "\n",
    "dots = fig.findobj(lambda x: hasattr(x, 'get_color') and x.get_color() == 'b')\n",
    "[d.set_alpha(0.1) for d in dots]\n",
    "plt.title('qqplot of z')\n",
    "plt.savefig('qqplot_transformed_values.png')"
   ]
  },
  {
   "cell_type": "code",
   "execution_count": 21,
   "metadata": {},
   "outputs": [
    {
     "data": {
      "image/png": "[encoded data removed]",
      "text/plain": [
       "<Figure size 432x288 with 1 Axes>"
      ]
     },
     "metadata": {
      "needs_background": "light"
     },
     "output_type": "display_data"
    }
   ],
   "source": [
    "value = np.random.normal(loc=0,scale=1,size=df['tr_angle2'].shape[0])\n",
    "f, ax = plt.subplots(1, 1)\n",
    "sns.distplot(df['tr_angle2'], label = 'distribution of z')\n",
    "sns.distplot(value, label = 'normal distribution')\n",
    "ax.legend()\n",
    "f.savefig('histogram_z_vs_normal_distr.png')"
   ]
  },
  {
   "cell_type": "code",
   "execution_count": 22,
   "metadata": {},
   "outputs": [
    {
     "data": {
      "image/png": "[encoded data removed]",
      "text/plain": [
       "<Figure size 432x288 with 1 Axes>"
      ]
     },
     "metadata": {
      "needs_background": "light"
     },
     "output_type": "display_data"
    }
   ],
   "source": [
    "fig = sm.qqplot(df.loc[abs(df['angle']) < 50, 'tr_angle2'], stats.norm, fit=True, line=\"45\")\n",
    "\n",
    "dots = fig.findobj(lambda x: hasattr(x, 'get_color') and x.get_color() == 'b')\n",
    "[d.set_alpha(0.1) for d in dots]\n",
    "plt.title('qqplot of z')\n",
    "plt.savefig('qqplot_transformed_values.png')\n"
   ]
  },
  {
   "cell_type": "code",
   "execution_count": 23,
   "metadata": {},
   "outputs": [],
   "source": [
    "# Pearson test for normality\n",
    "k2, p = stats.normaltest(df['tr_angle2'])"
   ]
  },
  {
   "cell_type": "code",
   "execution_count": 24,
   "metadata": {},
   "outputs": [
    {
     "data": {
      "text/plain": [
       "0.6508598344377494"
      ]
     },
     "execution_count": 24,
     "metadata": {},
     "output_type": "execute_result"
    }
   ],
   "source": [
    "p"
   ]
  },
  {
   "cell_type": "code",
   "execution_count": 25,
   "metadata": {},
   "outputs": [
    {
     "data": {
      "text/plain": [
       "8.999602296426351e-26"
      ]
     },
     "execution_count": 25,
     "metadata": {},
     "output_type": "execute_result"
    }
   ],
   "source": [
    "from scipy import stats\n",
    "# kolmogorov smirnhoff test for normality\n",
    "k2, p = stats.kstest(df['tr_angle2'], 'norm')\n",
    "p"
   ]
  },
  {
   "cell_type": "code",
   "execution_count": 26,
   "metadata": {},
   "outputs": [],
   "source": [
    "# save density if everything is ok\n",
    "density.to_csv('../../../data/commaai/density/gaussian_density_filtered.csv', index=False)"
   ]
  },
  {
   "cell_type": "code",
   "execution_count": null,
   "metadata": {},
   "outputs": [],
   "source": []
  }
 ],
 "metadata": {
  "kernelspec": {
   "display_name": "Python 3",
   "language": "python",
   "name": "python3"
  },
  "language_info": {
   "codemirror_mode": {
    "name": "ipython",
    "version": 3
   },
   "file_extension": ".py",
   "mimetype": "text/x-python",
   "name": "python",
   "nbconvert_exporter": "python",
   "pygments_lexer": "ipython3",
   "version": "3.8.5"
  }
 },
 "nbformat": 4,
 "nbformat_minor": 4
}
