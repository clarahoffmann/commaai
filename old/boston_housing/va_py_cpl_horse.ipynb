{
 "cells": [
  {
   "cell_type": "code",
   "execution_count": 1,
   "metadata": {},
   "outputs": [],
   "source": [
    "import numpy as np\n",
    "import helpers_horse as hlp\n",
    "import math\n",
    "from random import random, seed\n",
    "from numpy.linalg import multi_dot\n",
    "from scipy.stats import multivariate_normal\n",
    "import matplotlib.pyplot as plt \n",
    "from tqdm import tqdm\n",
    "import scipy.io\n"
   ]
  },
  {
   "cell_type": "code",
   "execution_count": 2,
   "metadata": {},
   "outputs": [],
   "source": [
    "z = np.genfromtxt('z.txt', delimiter = ',')\n",
    "B_zeta = scipy.io.loadmat('psivalues.mat')['psivalues']"
   ]
  },
  {
   "cell_type": "code",
   "execution_count": 4,
   "metadata": {},
   "outputs": [
    {
     "name": "stderr",
     "output_type": "stream",
     "text": [
      " 23%|██▎       | 2718/12000 [16:02:16<54:46:10, 21.24s/it]\n"
     ]
    },
    {
     "ename": "KeyboardInterrupt",
     "evalue": "",
     "output_type": "error",
     "traceback": [
      "\u001b[0;31m---------------------------------------------------------------------------\u001b[0m",
      "\u001b[0;31mKeyboardInterrupt\u001b[0m                         Traceback (most recent call last)",
      "\u001b[0;32m<ipython-input-4-df2af154ffae>\u001b[0m in \u001b[0;36m<module>\u001b[0;34m\u001b[0m\n\u001b[1;32m    104\u001b[0m \u001b[0;34m\u001b[0m\u001b[0m\n\u001b[1;32m    105\u001b[0m         \u001b[0;31m# 3. Compute gradient of beta, lambda_j, and tau\u001b[0m\u001b[0;34m\u001b[0m\u001b[0;34m\u001b[0m\u001b[0;34m\u001b[0m\u001b[0m\n\u001b[0;32m--> 106\u001b[0;31m         \u001b[0mgradient_h_t\u001b[0m \u001b[0;34m=\u001b[0m \u001b[0mhlp\u001b[0m\u001b[0;34m.\u001b[0m\u001b[0mDelta_theta\u001b[0m\u001b[0;34m(\u001b[0m\u001b[0mvartheta_t\u001b[0m\u001b[0;34m,\u001b[0m \u001b[0mB_zeta\u001b[0m\u001b[0;34m,\u001b[0m \u001b[0mn\u001b[0m\u001b[0;34m,\u001b[0m \u001b[0mz\u001b[0m\u001b[0;34m,\u001b[0m \u001b[0mp\u001b[0m\u001b[0;34m,\u001b[0m \u001b[0mtBB\u001b[0m\u001b[0;34m,\u001b[0m \u001b[0mbetaBt_t\u001b[0m\u001b[0;34m,\u001b[0m \u001b[0mBoB\u001b[0m\u001b[0;34m)\u001b[0m\u001b[0;34m\u001b[0m\u001b[0;34m\u001b[0m\u001b[0m\n\u001b[0m\u001b[1;32m    107\u001b[0m \u001b[0;34m\u001b[0m\u001b[0m\n\u001b[1;32m    108\u001b[0m         \u001b[0;31m# Compute gradients for the variational parameters mu, B, D\u001b[0m\u001b[0;34m\u001b[0m\u001b[0;34m\u001b[0m\u001b[0;34m\u001b[0m\u001b[0m\n",
      "\u001b[0;32m~/commaai_code/test_with_easy/helpers_horse.py\u001b[0m in \u001b[0;36mDelta_theta\u001b[0;34m(vartheta_t, B, n, z, p, tBB, betaBt, BoB)\u001b[0m\n\u001b[1;32m     54\u001b[0m     \u001b[0mgrad_beta\u001b[0m \u001b[0;34m=\u001b[0m \u001b[0mdelta_beta\u001b[0m\u001b[0;34m(\u001b[0m\u001b[0mz\u001b[0m\u001b[0;34m,\u001b[0m \u001b[0mS\u001b[0m\u001b[0;34m,\u001b[0m \u001b[0mB\u001b[0m\u001b[0;34m,\u001b[0m \u001b[0mLambda_t\u001b[0m\u001b[0;34m,\u001b[0m \u001b[0mbeta_t\u001b[0m\u001b[0;34m)\u001b[0m\u001b[0;34m\u001b[0m\u001b[0;34m\u001b[0m\u001b[0m\n\u001b[1;32m     55\u001b[0m \u001b[0;34m\u001b[0m\u001b[0m\n\u001b[0;32m---> 56\u001b[0;31m     \u001b[0mgrad_lambda\u001b[0m \u001b[0;34m=\u001b[0m \u001b[0mdelta_1_lambda\u001b[0m\u001b[0;34m(\u001b[0m\u001b[0mLambda_t\u001b[0m\u001b[0;34m,\u001b[0m \u001b[0mbeta_t\u001b[0m\u001b[0;34m,\u001b[0m \u001b[0mB\u001b[0m\u001b[0;34m,\u001b[0m \u001b[0mdS2\u001b[0m\u001b[0;34m,\u001b[0m \u001b[0mS2\u001b[0m\u001b[0;34m,\u001b[0m \u001b[0mS\u001b[0m\u001b[0;34m,\u001b[0m \u001b[0mz\u001b[0m\u001b[0;34m,\u001b[0m \u001b[0mnp\u001b[0m\u001b[0;34m.\u001b[0m\u001b[0mexp\u001b[0m\u001b[0;34m(\u001b[0m\u001b[0mlog_tau_t\u001b[0m\u001b[0;34m)\u001b[0m\u001b[0;34m)\u001b[0m\u001b[0;34m\u001b[0m\u001b[0;34m\u001b[0m\u001b[0m\n\u001b[0m\u001b[1;32m     57\u001b[0m     \u001b[0;31m# Gradient w.r.t. tau\u001b[0m\u001b[0;34m\u001b[0m\u001b[0;34m\u001b[0m\u001b[0;34m\u001b[0m\u001b[0m\n\u001b[1;32m     58\u001b[0m     \u001b[0mgrad_tau\u001b[0m \u001b[0;34m=\u001b[0m \u001b[0mdelta_1_log_tau\u001b[0m\u001b[0;34m(\u001b[0m\u001b[0mp\u001b[0m\u001b[0;34m,\u001b[0m \u001b[0mlog_tau_t\u001b[0m\u001b[0;34m,\u001b[0m \u001b[0mLambda_t\u001b[0m\u001b[0;34m)\u001b[0m\u001b[0;34m\u001b[0m\u001b[0;34m\u001b[0m\u001b[0m\n",
      "\u001b[0;32m~/commaai_code/test_with_easy/helpers_horse.py\u001b[0m in \u001b[0;36mdelta_1_lambda\u001b[0;34m(Lambda, beta, B_zeta, dS2, S2, S, z, tau)\u001b[0m\n\u001b[1;32m     14\u001b[0m     \u001b[0mdlogFucj\u001b[0m \u001b[0;34m=\u001b[0m \u001b[0mnp\u001b[0m\u001b[0;34m.\u001b[0m\u001b[0mzeros\u001b[0m\u001b[0;34m(\u001b[0m\u001b[0mp\u001b[0m\u001b[0;34m)\u001b[0m\u001b[0;34m\u001b[0m\u001b[0;34m\u001b[0m\u001b[0m\n\u001b[1;32m     15\u001b[0m     \u001b[0;32mfor\u001b[0m \u001b[0mlj\u001b[0m \u001b[0;32min\u001b[0m \u001b[0mrange\u001b[0m\u001b[0;34m(\u001b[0m\u001b[0;36m0\u001b[0m\u001b[0;34m,\u001b[0m\u001b[0mp\u001b[0m\u001b[0;34m)\u001b[0m\u001b[0;34m:\u001b[0m\u001b[0;34m\u001b[0m\u001b[0;34m\u001b[0m\u001b[0m\n\u001b[0;32m---> 16\u001b[0;31m         \u001b[0mdlogFucj\u001b[0m\u001b[0;34m[\u001b[0m\u001b[0mlj\u001b[0m\u001b[0;34m]\u001b[0m \u001b[0;34m=\u001b[0m \u001b[0;36m0.5\u001b[0m\u001b[0;34m*\u001b[0m\u001b[0;34m(\u001b[0m\u001b[0mbeta\u001b[0m\u001b[0;34m[\u001b[0m\u001b[0mlj\u001b[0m\u001b[0;34m]\u001b[0m\u001b[0;34m**\u001b[0m\u001b[0;36m2\u001b[0m\u001b[0;34m)\u001b[0m\u001b[0;34m/\u001b[0m\u001b[0mLambda2\u001b[0m\u001b[0;34m[\u001b[0m\u001b[0mlj\u001b[0m\u001b[0;34m]\u001b[0m \u001b[0;34m-\u001b[0m \u001b[0;34m(\u001b[0m\u001b[0mLambda2\u001b[0m\u001b[0;34m[\u001b[0m\u001b[0mlj\u001b[0m\u001b[0;34m]\u001b[0m\u001b[0;34m/\u001b[0m\u001b[0mtau2\u001b[0m\u001b[0;34m)\u001b[0m\u001b[0;34m/\u001b[0m\u001b[0;34m(\u001b[0m\u001b[0;36m1\u001b[0m \u001b[0;34m+\u001b[0m \u001b[0mLambda2\u001b[0m\u001b[0;34m[\u001b[0m\u001b[0mlj\u001b[0m\u001b[0;34m]\u001b[0m\u001b[0;34m/\u001b[0m\u001b[0mtau2\u001b[0m\u001b[0;34m)\u001b[0m \u001b[0;34m-\u001b[0m \u001b[0;36m0.5\u001b[0m\u001b[0;34m*\u001b[0m\u001b[0mnp\u001b[0m\u001b[0;34m.\u001b[0m\u001b[0msum\u001b[0m\u001b[0;34m(\u001b[0m\u001b[0mdS2\u001b[0m\u001b[0;34m[\u001b[0m\u001b[0;34m:\u001b[0m\u001b[0;34m,\u001b[0m\u001b[0mlj\u001b[0m\u001b[0;34m]\u001b[0m\u001b[0;34m/\u001b[0m\u001b[0mS2\u001b[0m\u001b[0;34m)\u001b[0m \u001b[0;34m-\u001b[0m \u001b[0;36m0.5\u001b[0m\u001b[0;34m*\u001b[0m\u001b[0mnp\u001b[0m\u001b[0;34m.\u001b[0m\u001b[0msum\u001b[0m\u001b[0;34m(\u001b[0m\u001b[0;34m(\u001b[0m\u001b[0mz\u001b[0m\u001b[0;34m*\u001b[0m\u001b[0mz\u001b[0m\u001b[0;34m*\u001b[0m\u001b[0;34m(\u001b[0m\u001b[0;34m-\u001b[0m\u001b[0mdS2\u001b[0m\u001b[0;34m[\u001b[0m\u001b[0;34m:\u001b[0m\u001b[0;34m,\u001b[0m\u001b[0mlj\u001b[0m\u001b[0;34m]\u001b[0m\u001b[0;34m/\u001b[0m\u001b[0;34m(\u001b[0m\u001b[0mS2\u001b[0m\u001b[0;34m**\u001b[0m\u001b[0;36m2\u001b[0m\u001b[0;34m)\u001b[0m\u001b[0;34m)\u001b[0m\u001b[0;34m)\u001b[0m\u001b[0;34m)\u001b[0m \u001b[0;34m+\u001b[0m \u001b[0mnp\u001b[0m\u001b[0;34m.\u001b[0m\u001b[0msum\u001b[0m\u001b[0;34m(\u001b[0m\u001b[0;34m(\u001b[0m\u001b[0mbeta\u001b[0m\u001b[0;34m.\u001b[0m\u001b[0mdot\u001b[0m\u001b[0;34m(\u001b[0m\u001b[0mB_zeta\u001b[0m\u001b[0;34m.\u001b[0m\u001b[0mT\u001b[0m\u001b[0;34m)\u001b[0m\u001b[0;34m*\u001b[0m\u001b[0;34m(\u001b[0m\u001b[0;34m-\u001b[0m\u001b[0;36m0.5\u001b[0m\u001b[0;34m)\u001b[0m\u001b[0;34m*\u001b[0m\u001b[0;34m(\u001b[0m\u001b[0mdS2\u001b[0m\u001b[0;34m[\u001b[0m\u001b[0;34m:\u001b[0m\u001b[0;34m,\u001b[0m\u001b[0mlj\u001b[0m\u001b[0;34m]\u001b[0m\u001b[0;34m/\u001b[0m\u001b[0;34m(\u001b[0m\u001b[0mS2\u001b[0m\u001b[0;34m**\u001b[0m\u001b[0;34m(\u001b[0m\u001b[0;36m1.5\u001b[0m\u001b[0;34m)\u001b[0m\u001b[0;34m)\u001b[0m\u001b[0;34m)\u001b[0m\u001b[0;34m)\u001b[0m\u001b[0;34m.\u001b[0m\u001b[0mdot\u001b[0m\u001b[0;34m(\u001b[0m\u001b[0mz\u001b[0m\u001b[0;34m)\u001b[0m\u001b[0;34m)\u001b[0m\u001b[0;34m\u001b[0m\u001b[0;34m\u001b[0m\u001b[0m\n\u001b[0m\u001b[1;32m     17\u001b[0m     \u001b[0;31m#dlogFucj = (0.5*(beta**2)/Lambda2 - (Lambda2/tau2)/(1 + Lambda2/tau2) - 0.5*np.sum(dS2/(np.tile(S2.T, [p,1]).T), axis = 0) -\u001b[0m\u001b[0;34m\u001b[0m\u001b[0;34m\u001b[0m\u001b[0;34m\u001b[0m\u001b[0m\n\u001b[1;32m     18\u001b[0m     \u001b[0;31m#           0.5*np.sum((np.tile(z*z, [p,1]).T*(-dS2/np.tile((S2**2), [p,1]).T)), axis = 0) +\u001b[0m\u001b[0;34m\u001b[0m\u001b[0;34m\u001b[0m\u001b[0;34m\u001b[0m\u001b[0m\n",
      "\u001b[0;31mKeyboardInterrupt\u001b[0m: "
     ]
    }
   ],
   "source": [
    "tBB = B_zeta.T.dot(B_zeta)\n",
    "BoB = B_zeta**2\n",
    "# p is the number of beta coefficients in the last hidden layer\n",
    "p = B_zeta.shape[1]\n",
    "\n",
    "# Lambda is a diagonal matrix of dimension p\n",
    "Lambda = np.random.rand(p,)\n",
    "\n",
    "seed(679305)\n",
    "tau_start = 0.01\n",
    "\n",
    "# Set iteration counter to 0\n",
    "t = 0\n",
    "\n",
    "\n",
    "n = B_zeta.shape[0]\n",
    "\n",
    "# S(x, theta) is of dimension n x n\n",
    "dS2, S2, S = hlp.generate_dS2_ddS2_S2_S(Lambda, BoB)\n",
    "\n",
    "# m is number of variational parameters, which is \n",
    "# 2p (for each lambda_j and each beta_j)\n",
    "# plus the variational parameter for the prior on lambda\n",
    "m = 2*p + 1\n",
    "\n",
    "# number of factors in the factored covariance representation\n",
    "k = 3\n",
    "\n",
    "mu_t = np.array([random() for i in range(0,m)]).reshape(m,1)\n",
    "# B is a lower triangle m x k matrix and is the first component of the \n",
    "# covariance matrix\n",
    "B_t = np.tril(np.random.rand(m,k))\n",
    "while not np.linalg.matrix_rank(B_t) == k:\n",
    "    B_t = np.tril(np.random.rand(m,k))\n",
    "\n",
    "# D is a diagonal matrix of dimension m x m and is the second component of the \n",
    "# covariance matrix\n",
    "D_t = np.diag(np.random.rand(m,))\n",
    "d_t = np.diag(D_t).reshape(m,1)\n",
    "\n",
    "mean_epsilon = np.repeat(0, m)\n",
    "mean_z = np.repeat(0, k)\n",
    "\n",
    "var_epsilon = np.diag(np.repeat(1,m))\n",
    "var_z = np.diag(np.repeat(1,k))\n",
    "\n",
    "## Adadelta\n",
    "decay_rate = 0.95\n",
    "constant = 1e-7\n",
    "E_g2_t_1 = 0\n",
    "E_delta_x_2_1 = 0\n",
    "\n",
    "E_g2_t_1_mu = np.repeat(0, len(mu_t))\n",
    "E_delta_x_2_1_mu = np.repeat(0, len(mu_t))\n",
    "E_g2_t_1_B = np.zeros(B_t.shape)\n",
    "E_delta_x_2_1_B = np.zeros(B_t.shape)\n",
    "E_g2_t_1_d = np.repeat(0, len(d_t)).reshape(m,1)\n",
    "E_delta_x_2_1_d = np.repeat(0, len(d_t)).reshape(m,1)\n",
    "\n",
    "def adadelta_change(gradient, E_g2_t_1, E_delta_x_2_1, decay_rate = 0.99, constant = 10e-6):\n",
    "    # expected squared gradient for next iteration\n",
    "    E_g2_t = decay_rate*E_g2_t_1 + (1 - decay_rate)*(gradient**2)\n",
    "    # update for parameter\n",
    "    # should there be a minus or plus here ?????\n",
    "    delta_x =  (np.sqrt(E_delta_x_2_1 + constant)/np.sqrt(E_g2_t + constant))*gradient\n",
    "    # expected update for next iteration\n",
    "    E_delta_x_2 = decay_rate*E_delta_x_2_1 + (1 - decay_rate)*(delta_x**2)\n",
    "    return(delta_x, E_g2_t, E_delta_x_2 )\n",
    "\n",
    "lower_bounds = []\n",
    "all_varthetas = []\n",
    "mu_ts = []\n",
    "d_ts = []\n",
    "B_ts = []\n",
    "Lambda_ts = []\n",
    "log_tau_ts = []\n",
    "log_h_ts = []\n",
    "log_q_lambda_ts = []\n",
    "t = 0\n",
    "n = 50\n",
    "iterations = 12000\n",
    "for i in tqdm(range(iterations)):\n",
    "    \n",
    "    # Compute inverse with Woodbury formula.\n",
    "    inv = np.linalg.inv(D_t.dot(D_t))\n",
    "    inv2 = np.linalg.inv(np.identity(k) + B_t.T.dot(inv).dot(B_t))\n",
    "    BBD_inv = inv - multi_dot([inv, B_t, inv2, B_t.T, inv])\n",
    "    \n",
    "    # 1. Generate epsilon_t and z_t\n",
    "    z_t = hlp.generate_z(mean_z,var_z, 100)\n",
    "    epsilon_t = hlp.generate_epsilon(mean_epsilon, var_epsilon, 100)\n",
    "    \n",
    "    for i in range(0, z_t.shape[0]):\n",
    "        \n",
    "        z_t_i = z_t[i,:].reshape(k,1)\n",
    "        epsilon_t_i = epsilon_t[i,:].reshape(2*p + 1,1)\n",
    "\n",
    "        # 2. Draw from vartheta, what we generate are log values\n",
    "        # of lambda and tau -> have to transform them back to use them\n",
    "        vartheta_t = mu_t + B_t.dot(z_t_i) + (d_t*epsilon_t_i)\n",
    "\n",
    "        beta_t = vartheta_t[0:p].reshape(p,)\n",
    "        betaBt_t = beta_t.dot(B_zeta.T)\n",
    "\n",
    "        # 3. Compute gradient of beta, lambda_j, and tau\n",
    "        gradient_h_t = hlp.Delta_theta(vartheta_t, B_zeta, n, z, p, tBB, betaBt_t, BoB)\n",
    "\n",
    "        # Compute gradients for the variational parameters mu, B, D\n",
    "        Delta_mu = hlp.Delta_mu(gradient_h_t, BBD_inv, z_t_i, d_t, epsilon_t, B_t)\n",
    "        Delta_B = hlp.Delta_B(B_zeta,n,z, p, B_t, gradient_h_t, z_t_i, D_t, d_t, epsilon_t_i, BBD_inv)\n",
    "        Delta_D = hlp.Delta_D(gradient_h_t, epsilon_t_i,D_t, d_t,p, BBD_inv, B_t, z_t_i).reshape(2*p + 1,1)\n",
    "        \n",
    "        if i == 0:\n",
    "            Delta_mu_mean = Delta_mu/n\n",
    "            Delta_B_mean = Delta_B/n\n",
    "            Delta_D_mean = Delta_D/n\n",
    "        elif i > 0:\n",
    "            Delta_mu_mean += Delta_mu/n\n",
    "            Delta_B_mean += Delta_B/n\n",
    "            Delta_D_mean += Delta_D/n\n",
    "    \n",
    "    # 4. Adadelta Updates\n",
    "    update_mu, E_g2_t_1_mu, E_delta_x_2_1_mu = adadelta_change(Delta_mu, E_g2_t_1_mu, E_delta_x_2_1_mu, decay_rate = decay_rate, constant = constant)\n",
    "    update_B, E_g2_t_1_B, E_delta_x_2_1_B  = adadelta_change(Delta_B, E_g2_t_1_B, E_delta_x_2_1_B, decay_rate = decay_rate, constant = constant)\n",
    "    update_d, E_g2_t_1_d, E_delta_x_2_1_d = adadelta_change(Delta_D, E_g2_t_1_d, E_delta_x_2_1_d, decay_rate = decay_rate, constant = constant)\n",
    "    \n",
    "    # Update variables\n",
    "    mu_t = mu_t + update_mu.reshape(m,1)\n",
    "    B_t = B_t + update_B\n",
    "    # set upper triangular elements to 0\n",
    "    B_t *= np.tri(*B_t.shape)\n",
    "    d_t = (d_t + update_d)\n",
    "    D_t = np.diag(d_t.reshape(m,))\n",
    "    \n",
    "    for i in range(0, z_t.shape[0]):\n",
    "        \n",
    "        z_t_i = z_t[i,:].reshape(k,1)\n",
    "        epsilon_t_i = epsilon_t[i,:].reshape(m,1)\n",
    "        \n",
    "        vartheta_t = mu_t + B_t.dot(z_t_i) + (d_t*epsilon_t_i)\n",
    "        vartheta_t_transf = vartheta_t.copy()\n",
    "\n",
    "        # 5. compute stopping criterion\n",
    "        beta_t = vartheta_t_transf[0:p].reshape(p,)\n",
    "        Lambda_t = np.exp(0.5*vartheta_t_transf[p:2*p].reshape(p,))\n",
    "        log_tau_t = vartheta_t_transf[2*p]\n",
    "        betaBt_t = beta_t.dot(B_zeta.T) \n",
    "\n",
    "        dS2, S2, S = hlp.generate_dS2_ddS2_S2_S(Lambda_t, BoB)\n",
    "\n",
    "        # Lower bound L(lambda) = E[log(L_lambda - q_lambda]\n",
    "        #log_h_t = hlp.log_density(S, B_zeta, beta_t, Lambda_t, log_tau_t, z, p)\n",
    "        #log_q_lambda_t = np.log(multivariate_normal.pdf(vartheta_t, m, mu_t, (B_t.dot(B_t.T) + D_t**2)))\n",
    "        \n",
    "        # Lower bound L(lambda) = E[log(L_lambda - q_lambda]\n",
    "        log_h_t = hlp.log_density(S, B_zeta, beta_t, Lambda_t, log_tau_t, z, p)\n",
    "        log_q_lambda_t = np.log(multivariate_normal.pdf(vartheta_t.reshape(m,), mu_t.reshape(m), (B_t.dot(B_t.T) + D_t**2)))\n",
    "        \n",
    "        if i == 0:\n",
    "            L_lambda_mean = (log_h_t - log_q_lambda_t)/n\n",
    "        elif i > 0:\n",
    "            L_lambda_mean += (log_h_t - log_q_lambda_t)/n\n",
    "    \n",
    "    # evidence lower bound\n",
    "   # L_lambda = log_h_t - log_q_lambda_t\n",
    "    log_h_ts.append(log_h_t)\n",
    "    log_q_lambda_ts.append(log_q_lambda_t)\n",
    "    log_tau_ts.append(log_tau_t)\n",
    "    Lambda_ts.append(Lambda_t)\n",
    "    lower_bounds.append(L_lambda_mean.item())\n",
    "    all_varthetas.append(vartheta_t)\n",
    "    all_varthetas.append(vartheta_t)\n",
    "    \n",
    "    # increase time count\n",
    "    t = t+1\n",
    "    \n",
    "    # can also set lambda as the value over the last 10 steps\n",
    "    mu_ts.append(mu_t)\n",
    "    d_ts.append(d_t)\n",
    "    B_ts.append(B_t)\n",
    "    \n",
    "    if (i % 1000 == 0):\n",
    "        np.save('../../../../data/commaai/va/filtered_gaussian_resampled/Horseshoe/mu_ts_boston.npy', mu_ts)\n",
    "        np.save('../../../../data/commaai/va/filtered_gaussian_resampled/Horseshoe/d_t_boston.npy', d_ts)\n",
    "        np.save('../../../../data/commaai/va/filtered_gaussian_resampled/Horseshoe/B_t_boston.npy', B_ts)\n",
    "        np.save('../../../../data/commaai/va/filtered_gaussian_resampled/Horseshoe/lower_bounds_boston.npy', lower_bounds)\n",
    "        np.save('../../../../data/commaai/va/filtered_gaussian_resampled/Horseshoe/all_varthetas_boston.npy', all_varthetas)\n",
    "        np.save('../../../../data/commaai/va/filtered_gaussian_resampled/Horseshoe/Lambda_ts_boston.npy', Lambda_ts)\n",
    "\n",
    "np.save('../../../../data/commaai/va/filtered_gaussian_resampled/Horseshoe/mu_ts_boston.npy', mu_ts)\n",
    "np.save('../../../../data/commaai/va/filtered_gaussian_resampled/Horseshoe/d_ts_boston.npy', d_ts)\n",
    "np.save('../../../../data/commaai/va/filtered_gaussian_resampled/Horseshoe/B_ts_boston.npy', B_ts)"
   ]
  },
  {
   "cell_type": "code",
   "execution_count": 12,
   "metadata": {},
   "outputs": [],
   "source": [
    "np.save('../../data/commaai/va/filtered_gaussian_resampled/Horseshoe/mu_ts_boston.npy', mu_ts)\n",
    "np.save('../../data/commaai/va/filtered_gaussian_resampled/Horseshoe/d_ts_boston.npy', d_ts)\n",
    "np.save('../../data/commaai/va/filtered_gaussian_resampled/Horseshoe/B_ts_boston.npy', B_ts)"
   ]
  },
  {
   "cell_type": "code",
   "execution_count": 5,
   "metadata": {},
   "outputs": [
    {
     "data": {
      "text/plain": [
       "[<matplotlib.lines.Line2D at 0x7f80f8d52a90>]"
      ]
     },
     "execution_count": 5,
     "metadata": {},
     "output_type": "execute_result"
    },
    {
     "data": {
      "image/png": "[encoded data removed]",
      "text/plain": [
       "<Figure size 432x288 with 1 Axes>"
      ]
     },
     "metadata": {
      "needs_background": "light"
     },
     "output_type": "display_data"
    }
   ],
   "source": [
    "plt.plot(lower_bounds)"
   ]
  },
  {
   "cell_type": "code",
   "execution_count": null,
   "metadata": {},
   "outputs": [],
   "source": [
    "#mu_ts = np.load('../../../../data/commaai/va/filtered_gaussian_resampled/Horseshoe/mu_ts_delete.npy')\n",
    "#d_ts = np.load('../../../../data/commaai/va/filtered_gaussian_resampled/Horseshoe/d_ts_delete.npy')\n",
    "#B_ts = np.load('../../../../data/commaai/va/filtered_gaussian_resampled/Horseshoe/B_ts_delete.npy')\n",
    "#lower_bounds = np.load('../../../../data/commaai/va/filtered_gaussian_resampled/Horseshoe/lower_bounds2.npy')"
   ]
  },
  {
   "cell_type": "code",
   "execution_count": 7,
   "metadata": {},
   "outputs": [
    {
     "ename": "AttributeError",
     "evalue": "'list' object has no attribute 'shape'",
     "output_type": "error",
     "traceback": [
      "\u001b[0;31m---------------------------------------------------------------------------\u001b[0m",
      "\u001b[0;31mAttributeError\u001b[0m                            Traceback (most recent call last)",
      "\u001b[0;32m<ipython-input-7-59ecd9c86070>\u001b[0m in \u001b[0;36m<module>\u001b[0;34m\u001b[0m\n\u001b[0;32m----> 1\u001b[0;31m \u001b[0mmu_ts\u001b[0m\u001b[0;34m.\u001b[0m\u001b[0mshape\u001b[0m\u001b[0;34m\u001b[0m\u001b[0;34m\u001b[0m\u001b[0m\n\u001b[0m",
      "\u001b[0;31mAttributeError\u001b[0m: 'list' object has no attribute 'shape'"
     ]
    }
   ],
   "source": [
    "mu_ts.shape"
   ]
  },
  {
   "cell_type": "code",
   "execution_count": 9,
   "metadata": {},
   "outputs": [],
   "source": [
    "mu_va = np.mean(np.array(mu_ts)[2500:,:,:], axis = 0)\n",
    "d_va = np.mean(np.array(d_ts)[2500:,:,:], axis = 0)\n",
    "B_va = np.mean(np.array(B_ts)[2500:,:,:], axis = 0)\n",
    "var_va = np.sqrt(np.diag(B_va.dot(B_va.T) + np.diag(d_va**2)))"
   ]
  },
  {
   "cell_type": "code",
   "execution_count": 10,
   "metadata": {},
   "outputs": [
    {
     "data": {
      "text/plain": [
       "array([0.79069728, 0.72706312, 0.7368127 , 0.6274397 , 1.15109773,\n",
       "       1.33237957, 0.82056951, 0.83998182, 0.66859051, 0.87080881,\n",
       "       0.74305717, 1.14301541, 0.83862147, 0.65946603, 0.76582447,\n",
       "       0.8627531 , 0.75126728, 0.64187221, 1.44113414, 0.6398658 ,\n",
       "       0.62267355, 0.60426804, 0.76601492, 0.73770643, 1.06823649,\n",
       "       0.70859738, 0.72991622, 0.60843371, 1.15444709, 0.72527389,\n",
       "       1.0427949 , 0.74721166, 0.68881133, 0.79448861, 0.78374786,\n",
       "       0.76261385, 0.55791618, 0.7465278 , 0.57901035, 0.62288694,\n",
       "       0.69641374, 1.51059343, 0.58264149, 0.65939804, 1.47290705,\n",
       "       0.57717879, 1.20212279, 0.75318097, 0.62828836, 0.75353142,\n",
       "       1.4797714 , 0.82707434, 0.74916562, 0.70363229, 0.58337631,\n",
       "       0.78621563, 0.91686317, 0.64679119, 0.64808473, 0.85949425,\n",
       "       1.69737261, 0.69433313, 0.6879845 , 1.21885501, 0.82090258,\n",
       "       1.18708635, 1.17103118, 0.79388496, 0.74692352, 0.9538726 ,\n",
       "       0.69689204, 0.79495098, 0.6459478 , 0.87989215, 0.81018227,\n",
       "       0.75072118, 0.58240322, 1.10128307, 0.52390246, 0.60535038,\n",
       "       0.59099533, 0.81645417, 1.00724087, 0.71086424, 0.75809827,\n",
       "       0.67760782, 0.61839746, 0.78873329, 0.76516215, 0.90129203,\n",
       "       1.07988072, 1.19856313, 0.80531196, 1.12588937, 0.97874228,\n",
       "       0.83695305, 0.56842302, 1.01341098, 0.7316115 , 0.66609648,\n",
       "       0.94181811, 0.59654966, 1.34537905, 0.70831575, 0.93741049,\n",
       "       1.10455401, 0.81247815, 0.63228818, 0.84562846, 1.181948  ,\n",
       "       0.53650525, 1.31639487, 0.86263497, 0.82882034, 0.82414869,\n",
       "       1.25268478, 0.81498291, 0.59357741, 1.02035406, 0.76481659,\n",
       "       0.9008962 , 0.63284348, 0.85503419, 1.2553974 , 1.36234514,\n",
       "       0.85998423, 0.64345488, 0.83829194, 0.5787053 ])"
      ]
     },
     "execution_count": 10,
     "metadata": {},
     "output_type": "execute_result"
    }
   ],
   "source": [
    "var_va"
   ]
  },
  {
   "cell_type": "code",
   "execution_count": null,
   "metadata": {},
   "outputs": [],
   "source": [
    "all_thetas = np.load('../../../../data/commaai/mcmc/filtered_gaussian_resampled/Horseshoe/all_thetas.npy')"
   ]
  },
  {
   "cell_type": "code",
   "execution_count": null,
   "metadata": {},
   "outputs": [],
   "source": [
    "mu_mcmc = np.mean(all_thetas[100:,:], axis= 0)\n",
    "mu_sd = np.std(all_thetas[100:,:], axis= 0)"
   ]
  },
  {
   "cell_type": "code",
   "execution_count": null,
   "metadata": {},
   "outputs": [],
   "source": [
    "plt.scatter(mu_va[0:10], mu_mcmc[0:10], color = 'b')\n",
    "plt.scatter(mu_va[10:20], mu_mcmc[10:20], color = 'r')\n",
    "plt.scatter(mu_va[20], mu_mcmc[20], color = 'g')\n",
    "ident = [-9,3]\n",
    "plt.plot(ident, ident)"
   ]
  },
  {
   "cell_type": "code",
   "execution_count": null,
   "metadata": {},
   "outputs": [],
   "source": [
    "plt.scatter(var_va[0:10], mu_sd[0:10], color = 'b')\n",
    "plt.scatter(var_va[10:20], mu_sd[10:20], color = 'r')\n",
    "plt.scatter(var_va[20], mu_sd[20], color = 'g')\n",
    "ident = [0,.6]\n",
    "plt.plot(ident, ident)"
   ]
  },
  {
   "cell_type": "code",
   "execution_count": null,
   "metadata": {},
   "outputs": [],
   "source": []
  }
 ],
 "metadata": {
  "kernelspec": {
   "display_name": "Python 3",
   "language": "python",
   "name": "python3"
  },
  "language_info": {
   "codemirror_mode": {
    "name": "ipython",
    "version": 3
   },
   "file_extension": ".py",
   "mimetype": "text/x-python",
   "name": "python",
   "nbconvert_exporter": "python",
   "pygments_lexer": "ipython3",
   "version": "3.8.5"
  }
 },
 "nbformat": 4,
 "nbformat_minor": 4
}
