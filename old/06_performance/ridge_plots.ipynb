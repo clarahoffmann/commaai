{
 "cells": [
  {
   "cell_type": "code",
   "execution_count": 4,
   "metadata": {},
   "outputs": [],
   "source": [
    "import numpy as np\n",
    "import pandas as pd\n",
    "import matplotlib.pyplot as plt\n",
    "from joypy import joyplot"
   ]
  },
  {
   "cell_type": "markdown",
   "metadata": {},
   "source": [
    "## CPL/RIDGE"
   ]
  },
  {
   "cell_type": "code",
   "execution_count": 5,
   "metadata": {},
   "outputs": [],
   "source": [
    "# load HMC results\n",
    "all_thetas = np.load('../../data/commaai/mcmc/filtered_gaussian_resampled/Ridge/all_thetas_L100_3000.npy')\n",
    "# load VA results\n",
    "lower_bounds = np.load('../../data/commaai/va/filtered_gaussian_resampled/Ridge/lower_bounds_factor_4_50.npy')\n",
    "mu_ts = np.load('../../data/commaai/va/filtered_gaussian_resampled/Ridge/mu_ts23_factor_4_50.npy')\n",
    "B_ts = np.load('../../data/commaai/va/filtered_gaussian_resampled/Ridge/B_ts23_factor_4_50.npy')\n",
    "d_ts = np.load('../../data/commaai/va/filtered_gaussian_resampled/Ridge/d_ts23_factor_4_50.npy')"
   ]
  },
  {
   "cell_type": "code",
   "execution_count": 6,
   "metadata": {},
   "outputs": [],
   "source": [
    "# take last 1% of VA results\n",
    "iterations = len(lower_bounds)\n",
    "mu_t = np.mean(mu_ts[int(0.9*iterations):iterations,:], axis = 0)\n",
    "B_t = np.mean(B_ts[int(0.9*iterations):iterations,:], axis = 0)\n",
    "d_t = np.mean(d_ts[int(0.9*iterations):iterations,:], axis = 0)\n",
    "var = np.sqrt(np.diag(B_t.dot(B_t.T) + d_t**2))\n",
    "samples_tau = np.exp(np.random.normal(mu_t[10], var[10], 100000))\n",
    "#var[10] = np.std(samples_tau)\n",
    "mu_t[10] = np.mean(samples_tau)\n",
    "# take results for HMC after burnin\n",
    "burnin = 500\n",
    "# transform log tau\n",
    "all_thetas2 = all_thetas.copy()\n",
    "all_thetas2[:,10] = np.exp(all_thetas[:,10])\n",
    "mu_hmc = np.mean(all_thetas2[500:,:], axis = 0)\n",
    "std_hmc = np.std(all_thetas[500:,:], axis = 0)"
   ]
  },
  {
   "cell_type": "code",
   "execution_count": 84,
   "metadata": {},
   "outputs": [],
   "source": [
    "samples_hmc = all_thetas2[100:]\n",
    "samples_va = np.random.multivariate_normal(mu_t.reshape(11,), np.diag(var), samples_hmc.shape[0])"
   ]
  },
  {
   "cell_type": "code",
   "execution_count": 85,
   "metadata": {},
   "outputs": [],
   "source": [
    "va_df = pd.DataFrame(samples_va[:,0:10])\n",
    "va_df['method'] = np.array(range(0, va_df.shape[0]))\n",
    "va_df = pd.melt(va_df,id_vars=['method'],var_name='parameter', value_name='va_value')\n",
    "hmc_df = pd.DataFrame(samples_hmc[:,0:10])\n",
    "hmc_df['method'] = np.array(range(0, hmc_df.shape[0]))\n",
    "hmc_df = pd.melt(hmc_df,id_vars=['method'],var_name='parameter', value_name='hmc_value')\n",
    "#va_df.merge(hmc_df, left_on='method', right_on='method')"
   ]
  },
  {
   "cell_type": "code",
   "execution_count": 86,
   "metadata": {},
   "outputs": [],
   "source": [
    "va_df['parameter'] = va_df['parameter'].astype('string')\n",
    "va_df['hmc_value'] = hmc_df['hmc_value']"
   ]
  },
  {
   "cell_type": "code",
   "execution_count": 89,
   "metadata": {},
   "outputs": [
    {
     "data": {
      "text/html": [
       "<div>\n",
       "<style scoped>\n",
       "    .dataframe tbody tr th:only-of-type {\n",
       "        vertical-align: middle;\n",
       "    }\n",
       "\n",
       "    .dataframe tbody tr th {\n",
       "        vertical-align: top;\n",
       "    }\n",
       "\n",
       "    .dataframe thead th {\n",
       "        text-align: right;\n",
       "    }\n",
       "</style>\n",
       "<table border=\"1\" class=\"dataframe\">\n",
       "  <thead>\n",
       "    <tr style=\"text-align: right;\">\n",
       "      <th></th>\n",
       "      <th>method</th>\n",
       "      <th>parameter</th>\n",
       "      <th>va_value</th>\n",
       "      <th>hmc_value</th>\n",
       "    </tr>\n",
       "  </thead>\n",
       "  <tbody>\n",
       "    <tr>\n",
       "      <th>0</th>\n",
       "      <td>0</td>\n",
       "      <td>0</td>\n",
       "      <td>0.143279</td>\n",
       "      <td>-0.004448</td>\n",
       "    </tr>\n",
       "    <tr>\n",
       "      <th>1</th>\n",
       "      <td>1</td>\n",
       "      <td>0</td>\n",
       "      <td>0.204259</td>\n",
       "      <td>-0.014505</td>\n",
       "    </tr>\n",
       "    <tr>\n",
       "      <th>2</th>\n",
       "      <td>2</td>\n",
       "      <td>0</td>\n",
       "      <td>0.055891</td>\n",
       "      <td>-0.013185</td>\n",
       "    </tr>\n",
       "    <tr>\n",
       "      <th>3</th>\n",
       "      <td>3</td>\n",
       "      <td>0</td>\n",
       "      <td>-0.040637</td>\n",
       "      <td>-0.013185</td>\n",
       "    </tr>\n",
       "    <tr>\n",
       "      <th>4</th>\n",
       "      <td>4</td>\n",
       "      <td>0</td>\n",
       "      <td>0.013537</td>\n",
       "      <td>-0.042491</td>\n",
       "    </tr>\n",
       "    <tr>\n",
       "      <th>...</th>\n",
       "      <td>...</td>\n",
       "      <td>...</td>\n",
       "      <td>...</td>\n",
       "      <td>...</td>\n",
       "    </tr>\n",
       "    <tr>\n",
       "      <th>26345</th>\n",
       "      <td>2630</td>\n",
       "      <td>9</td>\n",
       "      <td>-0.302246</td>\n",
       "      <td>-0.053151</td>\n",
       "    </tr>\n",
       "    <tr>\n",
       "      <th>26346</th>\n",
       "      <td>2631</td>\n",
       "      <td>9</td>\n",
       "      <td>0.287487</td>\n",
       "      <td>-0.055152</td>\n",
       "    </tr>\n",
       "    <tr>\n",
       "      <th>26347</th>\n",
       "      <td>2632</td>\n",
       "      <td>9</td>\n",
       "      <td>-0.114729</td>\n",
       "      <td>-0.055152</td>\n",
       "    </tr>\n",
       "    <tr>\n",
       "      <th>26348</th>\n",
       "      <td>2633</td>\n",
       "      <td>9</td>\n",
       "      <td>0.343576</td>\n",
       "      <td>-0.037228</td>\n",
       "    </tr>\n",
       "    <tr>\n",
       "      <th>26349</th>\n",
       "      <td>2634</td>\n",
       "      <td>9</td>\n",
       "      <td>0.056105</td>\n",
       "      <td>-0.051350</td>\n",
       "    </tr>\n",
       "  </tbody>\n",
       "</table>\n",
       "<p>26350 rows × 4 columns</p>\n",
       "</div>"
      ],
      "text/plain": [
       "       method parameter  va_value  hmc_value\n",
       "0           0         0  0.143279  -0.004448\n",
       "1           1         0  0.204259  -0.014505\n",
       "2           2         0  0.055891  -0.013185\n",
       "3           3         0 -0.040637  -0.013185\n",
       "4           4         0  0.013537  -0.042491\n",
       "...       ...       ...       ...        ...\n",
       "26345    2630         9 -0.302246  -0.053151\n",
       "26346    2631         9  0.287487  -0.055152\n",
       "26347    2632         9 -0.114729  -0.055152\n",
       "26348    2633         9  0.343576  -0.037228\n",
       "26349    2634         9  0.056105  -0.051350\n",
       "\n",
       "[26350 rows x 4 columns]"
      ]
     },
     "execution_count": 89,
     "metadata": {},
     "output_type": "execute_result"
    }
   ],
   "source": [
    "va_df"
   ]
  },
  {
   "cell_type": "code",
   "execution_count": 90,
   "metadata": {},
   "outputs": [],
   "source": [
    "from pandas.api.types import CategoricalDtype\n",
    "\n",
    "cat_month = CategoricalDtype(\n",
    "    ['0', '1', '2', '3', '4', '5',\n",
    "     '6', '7', '8', '9']\n",
    ")\n",
    "\n",
    "va_df['parameter'] = va_df['parameter'].astype(cat_month)"
   ]
  },
  {
   "cell_type": "code",
   "execution_count": 93,
   "metadata": {},
   "outputs": [
    {
     "data": {
      "text/plain": [
       "(<Figure size 864x576 with 11 Axes>,\n",
       " [<AxesSubplot:>,\n",
       "  <AxesSubplot:>,\n",
       "  <AxesSubplot:>,\n",
       "  <AxesSubplot:>,\n",
       "  <AxesSubplot:>,\n",
       "  <AxesSubplot:>,\n",
       "  <AxesSubplot:>,\n",
       "  <AxesSubplot:>,\n",
       "  <AxesSubplot:>,\n",
       "  <AxesSubplot:>,\n",
       "  <AxesSubplot:>])"
      ]
     },
     "execution_count": 93,
     "metadata": {},
     "output_type": "execute_result"
    },
    {
     "data": {
      "text/plain": [
       "<Figure size 432x288 with 0 Axes>"
      ]
     },
     "metadata": {},
     "output_type": "display_data"
    },
    {
     "data": {
      "image/png": "[encoded data removed]",
      "text/plain": [
       "<Figure size 864x576 with 11 Axes>"
      ]
     },
     "metadata": {
      "needs_background": "light"
     },
     "output_type": "display_data"
    }
   ],
   "source": [
    "plt.figure()\n",
    "joyplot(\n",
    "    data=va_df[['va_value', 'hmc_value', 'parameter']], \n",
    "    by='parameter',\n",
    "    column=['va_value', 'hmc_value'],\n",
    "    color=['blue', 'orange'],\n",
    "    figsize=(12, 8)\n",
    ")"
   ]
  },
  {
   "cell_type": "code",
   "execution_count": 18,
   "metadata": {},
   "outputs": [
    {
     "data": {
      "text/plain": [
       "(2635, 11)"
      ]
     },
     "execution_count": 18,
     "metadata": {},
     "output_type": "execute_result"
    }
   ],
   "source": [
    "samples_va.shape"
   ]
  },
  {
   "cell_type": "code",
   "execution_count": null,
   "metadata": {},
   "outputs": [],
   "source": []
  }
 ],
 "metadata": {
  "kernelspec": {
   "display_name": "Python 3",
   "language": "python",
   "name": "python3"
  },
  "language_info": {
   "codemirror_mode": {
    "name": "ipython",
    "version": 3
   },
   "file_extension": ".py",
   "mimetype": "text/x-python",
   "name": "python",
   "nbconvert_exporter": "python",
   "pygments_lexer": "ipython3",
   "version": "3.8.5"
  }
 },
 "nbformat": 4,
 "nbformat_minor": 4
}
