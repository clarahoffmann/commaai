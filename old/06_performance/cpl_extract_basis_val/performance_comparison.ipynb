{
 "cells": [
  {
   "cell_type": "code",
   "execution_count": 29,
   "metadata": {},
   "outputs": [],
   "source": [
    "import numpy as np\n",
    "import pandas as pd\n",
    "from scipy.stats import norm\n",
    "from tqdm import tqdm\n",
    "import matplotlib.pyplot as plt"
   ]
  },
  {
   "cell_type": "code",
   "execution_count": 3,
   "metadata": {},
   "outputs": [],
   "source": [
    "extracted_coefficients_directory_Bzeta = '../../data/commaai/extracted_coefficients/20201027_filtered_gaussian_resampled/Bzeta/'\n",
    "extracted_coefficients_directory_beta = '../../data/commaai/extracted_coefficients/20201027_filtered_gaussian_resampled/beta/'"
   ]
  },
  {
   "cell_type": "code",
   "execution_count": 4,
   "metadata": {},
   "outputs": [],
   "source": [
    "def find_closest_element(y: float, arr: np.ndarray):\n",
    "    index = np.searchsorted(arr,y)\n",
    "    if index >= 1 and index < len(arr):\n",
    "        res = [arr[index - 1], arr[index]]\n",
    "    elif index == len(arr) :\n",
    "        return np.array(index - 1)\n",
    "    else:\n",
    "        return index\n",
    "\n",
    "    if res[0] == res[1]:\n",
    "        return np.array(index - 1)\n",
    "    else:\n",
    "        diff_pre = np.abs(y-res[0])\n",
    "        diff_aft = np.abs(y-res[1])\n",
    "        if diff_pre == diff_aft:\n",
    "            return np.array(index - 1)\n",
    "        else:\n",
    "            return index - 1 if diff_pre < diff_aft else index"
   ]
  },
  {
   "cell_type": "code",
   "execution_count": 5,
   "metadata": {},
   "outputs": [],
   "source": [
    "density_path = '../../data/commaai/density/gaussian_density_filtered.csv'\n",
    "density = pd.read_csv(density_path)"
   ]
  },
  {
   "cell_type": "code",
   "execution_count": 6,
   "metadata": {},
   "outputs": [],
   "source": [
    "labels = np.load(str(extracted_coefficients_directory_Bzeta + 'labels_val.npy'))\n",
    "B_zetas = np.load(str(extracted_coefficients_directory_Bzeta + 'B_zeta_val.npy'))\n",
    "tr_labels = np.load(str(extracted_coefficients_directory_Bzeta + 'tr_labels_val.npy'))"
   ]
  },
  {
   "cell_type": "code",
   "execution_count": 24,
   "metadata": {},
   "outputs": [],
   "source": [
    "#beta_dnn = np.genfromtxt('../../data/commaai/extracted_coefficients/20201027_filtered_gaussian_resampled/beta/beta.csv', delimiter = ',')\n",
    "beta_mcmc = np.mean(np.genfromtxt('../../data/commaai/mcmc/filtered_gaussian_resampled/Ridge/betas.csv', delimiter = ',')[10000:,:], axis = 0)\n",
    "beta_va = np.mean(np.genfromtxt('../../data/commaai/va/filtered_gaussian_resampled/Ridge/mu_t_va.csv', delimiter = ',')[20000:,0:10], axis = 0)\n",
    "beta_va_horse = np.mean(np.load('../../data/commaai/va/filtered_gaussian_resampled/Horseshoe/mu_ts_delete.npy')[20000:,0:10], axis = 0).reshape(10,)\n",
    "beta_dnn = np.genfromtxt(str(extracted_coefficients_directory_beta + 'beta.csv'), delimiter = ',')\n",
    "beta_dnn_0 = np.genfromtxt(str(extracted_coefficients_directory_beta + 'beta0.csv'), delimiter = ',')"
   ]
  },
  {
   "cell_type": "code",
   "execution_count": 25,
   "metadata": {},
   "outputs": [],
   "source": [
    "# transformed\n",
    "pred_mcmc = pd.DataFrame({'pred_z':  [item for sublist in B_zetas.dot(beta_mcmc) for item in sublist]})\n",
    "pred_va = pd.DataFrame({'pred_z': [item for sublist in  B_zetas.dot(beta_va)for item in sublist]})\n",
    "pred_dnn = pd.DataFrame({'pred_z': [item for sublist in (B_zetas.dot(beta_dnn) + beta_dnn_0) for item in sublist]})\n",
    "pred_va_horse = pd.DataFrame({'pred_z': [item for sublist in B_zetas.dot(beta_va_horse) for item in sublist]})\n",
    "mae__z_mcmc = np.mean(abs(pred_mcmc['pred_z'] - tr_labels))\n",
    "mae_z_va = np.mean(abs(pred_va['pred_z'] - tr_labels))\n",
    "mse_z_mcmc = np.mean(abs(pred_mcmc['pred_z'] - tr_labels)**2)\n",
    "mse_z_va = np.mean(abs(pred_va['pred_z'] - tr_labels)**2)\n",
    "# transformed back"
   ]
  },
  {
   "cell_type": "code",
   "execution_count": 45,
   "metadata": {},
   "outputs": [
    {
     "name": "stderr",
     "output_type": "stream",
     "text": [
      "100%|██████████| 10472/10472 [00:06<00:00, 1557.20it/s]\n",
      "100%|██████████| 10472/10472 [00:08<00:00, 1242.97it/s]\n",
      "100%|██████████| 10472/10472 [00:08<00:00, 1236.94it/s]\n",
      "100%|██████████| 10472/10472 [00:06<00:00, 1545.86it/s]\n"
     ]
    }
   ],
   "source": [
    "tqdm.pandas()\n",
    "pred_mcmc['pred_y'] = pred_mcmc['pred_z'].progress_apply(lambda x: density.loc[find_closest_element(norm.cdf(x), density['cdf']), 'axes'])\n",
    "pred_va['pred_y'] = pred_va['pred_z'].progress_apply(lambda x: density.loc[find_closest_element(norm.cdf(x), density['cdf']), 'axes'])\n",
    "pred_dnn['pred_y'] = pred_dnn['pred_z'].progress_apply(lambda x: density.loc[find_closest_element(norm.cdf(x), density['cdf']), 'axes'])\n",
    "pred_va_horse['pred_y'] = pred_va_horse['pred_z'].progress_apply(lambda x: density.loc[find_closest_element(norm.cdf(x), density['cdf']), 'axes'])\n"
   ]
  },
  {
   "cell_type": "code",
   "execution_count": 52,
   "metadata": {},
   "outputs": [
    {
     "name": "stdout",
     "output_type": "stream",
     "text": [
      "mean absolute error MCMC Ridge: 1.8736253357536288\n",
      "mean absolute error VA Ridge: 1.8782274197375397\n",
      "mean absolute error DNN: 1.4723754631398838\n",
      "mean absolute error Horseshoe: 2.563226546056439\n",
      "accuracy MCMC Ridge 0.9611344537815126\n",
      "accuracy VA Ridge 0.9609434682964094\n",
      "accuracy DNN Ridge 0.980423987776929\n",
      "naccuracy Horseshoe: 0.9197860962566845\n",
      "mean squared error MCMC Ridge: 11.849518742758795\n",
      "mean squared error VA Ridge: 11.94035514863639\n",
      "mean squared error DNN Ridge: 7.654203032172087\n",
      "mean squared error Horseshoe: 22.910075403062457\n"
     ]
    }
   ],
   "source": [
    "mae_y_mcmc = np.mean(abs(pred_mcmc['pred_y'] - labels))\n",
    "mae_y_va = np.mean(abs(pred_va['pred_y'] - labels))\n",
    "mae_y_dnn = np.mean(abs(pred_dnn['pred_y'] - labels))\n",
    "mae_y_va_horse = np.mean(abs(pred_va_horse['pred_y'] - labels))\n",
    "\n",
    "accuracy_mcmc = np.mean(abs(pred_mcmc['pred_y'] - labels) <= 6)\n",
    "accuracy_va = np.mean(abs(pred_va['pred_y'] - labels) <= 6)\n",
    "accuracy_dnn = np.mean(abs(pred_dnn['pred_y'] - labels) <= 6)\n",
    "accuracy_va_horse = np.mean(abs(pred_va_horse['pred_y'] - labels) <= 6)\n",
    "\n",
    "mse_y_mcmc = np.mean(abs(pred_mcmc['pred_y'] - labels)**2)\n",
    "mse_y_va = np.mean(abs(pred_va['pred_y'] - labels)**2)\n",
    "mse_y_dnn = np.mean(abs(pred_dnn['pred_y'] - labels)**2)\n",
    "mse_y_va_horse = np.mean(abs(pred_va_horse['pred_y'] - labels)**2)\n",
    "\n",
    "print('mean absolute error MCMC Ridge: ' + str(mae_y_mcmc) +\n",
    "     '\\nmean absolute error VA Ridge: ' + str(mae_y_va) +\n",
    "     '\\nmean absolute error DNN: ' + str(mae_y_dnn) +\n",
    "     '\\nmean absolute error Horseshoe: ' + str(mae_y_va_horse) +\n",
    "     '\\naccuracy MCMC Ridge ' + str(accuracy_mcmc) +\n",
    "     '\\naccuracy VA Ridge ' + str(accuracy_va) +\n",
    "      '\\naccuracy DNN Ridge ' + str(accuracy_dnn) +\n",
    "    '\\nnaccuracy Horseshoe: ' + str(accuracy_va_horse) +\n",
    "     '\\nmean squared error MCMC Ridge: ' + str(mse_y_mcmc) +\n",
    "     '\\nmean squared error VA Ridge: ' + str(mse_y_va) +\n",
    "     '\\nmean squared error DNN Ridge: ' + str(mse_y_dnn) +\n",
    "     '\\nmean squared error Horseshoe: ' + str(mse_y_va_horse) )"
   ]
  },
  {
   "cell_type": "code",
   "execution_count": 53,
   "metadata": {},
   "outputs": [
    {
     "data": {
      "text/plain": [
       "4.786447054242056"
      ]
     },
     "execution_count": 53,
     "metadata": {},
     "output_type": "execute_result"
    }
   ],
   "source": [
    "np.sqrt(22.910075403062457)"
   ]
  },
  {
   "cell_type": "code",
   "execution_count": 54,
   "metadata": {},
   "outputs": [
    {
     "data": {
      "text/plain": [
       "<matplotlib.collections.PathCollection at 0x7f42ccb90b20>"
      ]
     },
     "execution_count": 54,
     "metadata": {},
     "output_type": "execute_result"
    },
    {
     "data": {
      "image/png": "[encoded data removed]",
      "text/plain": [
       "<Figure size 432x288 with 1 Axes>"
      ]
     },
     "metadata": {
      "needs_background": "light"
     },
     "output_type": "display_data"
    }
   ],
   "source": [
    "plt.scatter(pred_va_horse['pred_y'], labels, alpha = 0.5)"
   ]
  },
  {
   "cell_type": "code",
   "execution_count": 41,
   "metadata": {},
   "outputs": [
    {
     "data": {
      "text/plain": [
       "(array([6587.,  211.,  238.,  296.,  243.,  248.,  208.,  153.,  113.,\n",
       "        2175.]),\n",
       " array([0. , 0.1, 0.2, 0.3, 0.4, 0.5, 0.6, 0.7, 0.8, 0.9, 1. ]),\n",
       " <BarContainer object of 10 artists>)"
      ]
     },
     "execution_count": 41,
     "metadata": {},
     "output_type": "execute_result"
    },
    {
     "data": {
      "image/png": "[encoded data removed]",
      "text/plain": [
       "<Figure size 432x288 with 1 Axes>"
      ]
     },
     "metadata": {
      "needs_background": "light"
     },
     "output_type": "display_data"
    }
   ],
   "source": [
    "plt.hist(pred_mcmc['pred_y'])"
   ]
  },
  {
   "cell_type": "code",
   "execution_count": 62,
   "metadata": {},
   "outputs": [
    {
     "data": {
      "text/plain": [
       "<matplotlib.collections.PathCollection at 0x7f42cca98ee0>"
      ]
     },
     "execution_count": 62,
     "metadata": {},
     "output_type": "execute_result"
    },
    {
     "data": {
      "image/png": "[encoded data removed]",
      "text/plain": [
       "<Figure size 432x288 with 1 Axes>"
      ]
     },
     "metadata": {
      "needs_background": "light"
     },
     "output_type": "display_data"
    }
   ],
   "source": [
    "plt.scatter(beta_va_horse, beta_mcmc)"
   ]
  },
  {
   "cell_type": "code",
   "execution_count": 57,
   "metadata": {},
   "outputs": [
    {
     "data": {
      "text/plain": [
       "(10472, 2)"
      ]
     },
     "execution_count": 57,
     "metadata": {},
     "output_type": "execute_result"
    }
   ],
   "source": [
    "pred_va_horse.shape"
   ]
  },
  {
   "cell_type": "code",
   "execution_count": null,
   "metadata": {},
   "outputs": [],
   "source": []
  }
 ],
 "metadata": {
  "kernelspec": {
   "display_name": "Python 3",
   "language": "python",
   "name": "python3"
  },
  "language_info": {
   "codemirror_mode": {
    "name": "ipython",
    "version": 3
   },
   "file_extension": ".py",
   "mimetype": "text/x-python",
   "name": "python",
   "nbconvert_exporter": "python",
   "pygments_lexer": "ipython3",
   "version": "3.8.5"
  }
 },
 "nbformat": 4,
 "nbformat_minor": 4
}
