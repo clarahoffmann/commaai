{
 "cells": [
  {
   "cell_type": "code",
   "execution_count": 4,
   "metadata": {},
   "outputs": [],
   "source": [
    "import tensorflow as tf\n",
    "import numpy as np\n",
    "import matplotlib.pyplot as plt\n",
    "from scipy.stats import norm\n",
    "import pandas as pd\n",
    "import matplotlib.pyplot as plt\n",
    "import glob\n",
    "import os\n",
    "from tqdm import tqdm\n",
    "import cv2"
   ]
  },
  {
   "cell_type": "code",
   "execution_count": 5,
   "metadata": {},
   "outputs": [],
   "source": [
    "def wrap_int64(value):\n",
    "    return tf.train.Feature(int64_list=tf.train.Int64List(value=[value]))\n",
    "def wrap_bytes(value):\n",
    "    return tf.train.Feature(bytes_list=tf.train.BytesList(value=[value]))\n",
    "def wrap_float(value):\n",
    "    return tf.train.Feature(float_list=tf.train.FloatList(value=[value]))"
   ]
  },
  {
   "cell_type": "code",
   "execution_count": 10,
   "metadata": {},
   "outputs": [],
   "source": [
    "shard_path = '../../../../data/commaai/training_files/unfiltered_smaller_images/'\n",
    "shard_files = glob.glob(os.path.join(shard_path, \"*.tfrecords\")) "
   ]
  },
  {
   "cell_type": "code",
   "execution_count": 15,
   "metadata": {},
   "outputs": [
    {
     "data": {
      "text/plain": [
       "74.8"
      ]
     },
     "execution_count": 15,
     "metadata": {},
     "output_type": "execute_result"
    }
   ],
   "source": [
    "(32+59+84+77+122)/5"
   ]
  },
  {
   "cell_type": "code",
   "execution_count": 55,
   "metadata": {},
   "outputs": [],
   "source": [
    "def imgs_input_fn(filenames, perform_shuffle = False, repeat_count = 1, batch_size = 10000): \n",
    "    \n",
    "    # reads in single training example and returns it in a format that the estimator can\n",
    "    # use\n",
    "    def _parse_function(proto):\n",
    "        # define your tfrecord again. Remember that you saved your image as a string.\n",
    "        keys_to_features = {'image': tf.io.FixedLenFeature([], tf.string),\n",
    "                            'label': tf.io.FixedLenFeature([], tf.float32),\n",
    "                            'rows': tf.io.FixedLenFeature([], tf.int64),\n",
    "                            'cols': tf.io.FixedLenFeature([], tf.int64),\n",
    "                            'depth': tf.io.FixedLenFeature([], tf.int64),\n",
    "                            'tr_label': tf.io.FixedLenFeature([], tf.float32)\n",
    "                           }\n",
    "\n",
    "        # Load one example\n",
    "        parsed_example = tf.io.parse_single_example(proto, keys_to_features)\n",
    "        # fourth channel does not contain anything\n",
    "        image_shape = tf.stack([66, 200, 4])\n",
    "        image_raw = parsed_example['image']\n",
    "\n",
    "        label = tf.cast(parsed_example['label'], tf.float32)\n",
    "        tr_label = tf.cast(parsed_example['tr_label'], tf.float32)\n",
    "        image = tf.io.decode_raw(image_raw, tf.uint8)\n",
    "        image = tf.cast(image, tf.float32)\n",
    "\n",
    "        image = tf.reshape(image, image_shape)\n",
    "        \n",
    "        return {'image':image}, tr_label, label\n",
    "    \n",
    "    dataset = tf.data.TFRecordDataset(filenames = filenames)\n",
    "    dataset = dataset.map(_parse_function)\n",
    "    if perform_shuffle:\n",
    "        # Randomizes input using a window of 256 elements (read into memory)\n",
    "        dataset = dataset.shuffle(buffer_size=256)\n",
    "    dataset = dataset.repeat(repeat_count)  # Repeats dataset this # times\n",
    "    dataset = dataset.batch(batch_size)  # Batch size to use\n",
    "    iterator = tf.compat.v1.data.make_one_shot_iterator(dataset)\n",
    "    batch_features, batch_labels, batch_y = iterator.get_next()\n",
    "    \n",
    "    return batch_features, batch_labels, batch_y"
   ]
  },
  {
   "cell_type": "code",
   "execution_count": 57,
   "metadata": {},
   "outputs": [
    {
     "name": "stderr",
     "output_type": "stream",
     "text": [
      "100%|██████████| 2226/2226 [2:18:33<00:00,  3.73s/it]  \n"
     ]
    }
   ],
   "source": [
    "out_path_base = '../../../data/commaai/training_files/unfiltered_smaller_images_y/'\n",
    "\n",
    "i = 0\n",
    "\n",
    "for shard in tqdm(shard_files):\n",
    "    \n",
    "    # get resized and cropped images and labels\n",
    "    batch_features, batch_labels, batch_y = imgs_input_fn(shard)\n",
    "    \n",
    "    batch_features = np.array(batch_features['image'])\n",
    "    batch_labels = np.array(batch_labels)\n",
    "    batch_y = np.array(batch_y)\n",
    "    \n",
    "    # shard name\n",
    "    out_path_shard = out_path_shard = str(out_path_base + str(i) + '.tfrecords')\n",
    "    \n",
    "    # save in new tfrecords file\n",
    "    with tf.io.TFRecordWriter(out_path_shard) as writer:\n",
    "        \n",
    "        for j in range(0, batch_features.shape[0]):\n",
    "            img = batch_features[j, :, :, :].astype('int64')\n",
    "            tr_label = batch_labels[j]\n",
    "            label = batch_y[j]\n",
    "            \n",
    "            img_bytes = img.tobytes()[0::8]\n",
    "            # save image and label in dictionary\n",
    "            data = \\\n",
    "                    {\n",
    "                        'image': wrap_bytes(img_bytes),\n",
    "                        'tr_label': wrap_float(tr_label)\n",
    "                    }\n",
    "            feature = tf.train.Features(feature=data)\n",
    "\n",
    "            # Wrap again as a TensorFlow Example.\n",
    "            example = tf.train.Example(features=feature)\n",
    "\n",
    "            serialized = example.SerializeToString()\n",
    "            \n",
    "            # Write the serialized data to the TFRecords file.\n",
    "            writer.write(serialized)\n",
    "            \n",
    "            with open(str(out_path_base + 'yaws.csv'), 'a') as csvfile:\n",
    "                                csvfile.write(\"%s\\n\" % label)    \n",
    "    i += 1"
   ]
  },
  {
   "cell_type": "code",
   "execution_count": 33,
   "metadata": {},
   "outputs": [],
   "source": [
    "img = batch_features[0, :, :, :].astype('int64')"
   ]
  },
  {
   "cell_type": "code",
   "execution_count": 34,
   "metadata": {},
   "outputs": [
    {
     "data": {
      "text/plain": [
       "array([[[20, 29, 31],\n",
       "        [20, 27, 31],\n",
       "        [23, 32, 34],\n",
       "        ...,\n",
       "        [18, 24, 27],\n",
       "        [18, 24, 27],\n",
       "        [19, 25, 28]],\n",
       "\n",
       "       [[18, 27, 29],\n",
       "        [23, 31, 36],\n",
       "        [24, 32, 37],\n",
       "        ...,\n",
       "        [18, 24, 27],\n",
       "        [17, 23, 26],\n",
       "        [17, 23, 26]],\n",
       "\n",
       "       [[20, 29, 31],\n",
       "        [25, 34, 34],\n",
       "        [26, 35, 35],\n",
       "        ...,\n",
       "        [19, 25, 28],\n",
       "        [18, 24, 27],\n",
       "        [17, 23, 26]],\n",
       "\n",
       "       ...,\n",
       "\n",
       "       [[48, 54, 55],\n",
       "        [49, 55, 56],\n",
       "        [49, 55, 56],\n",
       "        ...,\n",
       "        [15, 23, 31],\n",
       "        [16, 24, 33],\n",
       "        [16, 24, 33]],\n",
       "\n",
       "       [[54, 63, 65],\n",
       "        [55, 64, 66],\n",
       "        [54, 63, 65],\n",
       "        ...,\n",
       "        [16, 25, 34],\n",
       "        [15, 25, 33],\n",
       "        [15, 23, 32]],\n",
       "\n",
       "       [[53, 62, 64],\n",
       "        [53, 62, 64],\n",
       "        [53, 62, 64],\n",
       "        ...,\n",
       "        [18, 26, 35],\n",
       "        [17, 25, 34],\n",
       "        [17, 25, 34]]])"
      ]
     },
     "execution_count": 34,
     "metadata": {},
     "output_type": "execute_result"
    }
   ],
   "source": [
    "img"
   ]
  },
  {
   "cell_type": "code",
   "execution_count": null,
   "metadata": {},
   "outputs": [],
   "source": [
    "len((img[0,0,0]).tobytes())"
   ]
  },
  {
   "cell_type": "code",
   "execution_count": null,
   "metadata": {},
   "outputs": [],
   "source": [
    "print((img[0,0,0]).tobytes())"
   ]
  },
  {
   "cell_type": "code",
   "execution_count": null,
   "metadata": {},
   "outputs": [],
   "source": [
    "plt.imshow(batch_features[0].astype(int))"
   ]
  },
  {
   "cell_type": "code",
   "execution_count": null,
   "metadata": {},
   "outputs": [],
   "source": [
    "img = batch_features[j, :, :, :].reshape(66,200,3).astype(int)"
   ]
  },
  {
   "cell_type": "code",
   "execution_count": null,
   "metadata": {},
   "outputs": [],
   "source": [
    "batch_features[0, :, :, :].shape"
   ]
  },
  {
   "cell_type": "code",
   "execution_count": null,
   "metadata": {},
   "outputs": [],
   "source": [
    "plt.imshow(img)"
   ]
  },
  {
   "cell_type": "code",
   "execution_count": 51,
   "metadata": {},
   "outputs": [],
   "source": [
    "def imgs_input_fn_2(filenames, perform_shuffle = False, repeat_count = 1, batch_size = 10000): \n",
    "    \n",
    "    # reads in single training example and returns it in a format that the estimator can\n",
    "    # use\n",
    "    def _parse_function(proto):\n",
    "        # define your tfrecord again. Remember that you saved your image as a string.\n",
    "        keys_to_features = {'image': tf.io.FixedLenFeature([], tf.string),\n",
    "                            'tr_label': tf.io.FixedLenFeature([], tf.float32)\n",
    "                           }\n",
    "\n",
    "        # Load one example\n",
    "        parsed_example = tf.io.parse_single_example(proto, keys_to_features)\n",
    "        # fourth channel does not contain anything\n",
    "        image_shape = tf.stack([66, 200, 3])\n",
    "        image_raw = parsed_example['image']\n",
    "\n",
    "        tr_label = tf.cast(parsed_example['tr_label'], tf.float32)\n",
    "        image = tf.io.decode_raw(image_raw, tf.uint8)\n",
    "        image = tf.cast(image, tf.float32)\n",
    "\n",
    "        image = tf.reshape(image, image_shape)\n",
    "        image = image\n",
    "        \n",
    "        return {'image':image}, tr_label\n",
    "    \n",
    "    dataset = tf.data.TFRecordDataset(filenames = filenames)\n",
    "    dataset = dataset.map(_parse_function)\n",
    "    if perform_shuffle:\n",
    "        # Randomizes input using a window of 256 elements (read into memory)\n",
    "        dataset = dataset.shuffle(buffer_size=256)\n",
    "    dataset = dataset.repeat(repeat_count)  # Repeats dataset this # times\n",
    "    dataset = dataset.batch(batch_size)  # Batch size to use\n",
    "    iterator = tf.compat.v1.data.make_one_shot_iterator(dataset)\n",
    "    batch_features, batch_labels= iterator.get_next()\n",
    "    \n",
    "    return batch_features, batch_labels"
   ]
  },
  {
   "cell_type": "code",
   "execution_count": 52,
   "metadata": {},
   "outputs": [],
   "source": [
    "imgs, tr_ang = imgs_input_fn_2('../../../data/commaai/training_files/unfiltered_smaller_images/0.tfrecords')"
   ]
  },
  {
   "cell_type": "code",
   "execution_count": 53,
   "metadata": {},
   "outputs": [
    {
     "data": {
      "text/plain": [
       "<matplotlib.image.AxesImage at 0x7fa2440784c0>"
      ]
     },
     "execution_count": 53,
     "metadata": {},
     "output_type": "execute_result"
    },
    {
     "data": {
      "image/png": "[encoded data removed]",
      "text/plain": [
       "<Figure size 432x288 with 1 Axes>"
      ]
     },
     "metadata": {
      "needs_background": "light"
     },
     "output_type": "display_data"
    }
   ],
   "source": [
    "plt.imshow(imgs['image'][0]/255)"
   ]
  },
  {
   "cell_type": "code",
   "execution_count": null,
   "metadata": {},
   "outputs": [],
   "source": []
  }
 ],
 "metadata": {
  "kernelspec": {
   "display_name": "Python 3",
   "language": "python",
   "name": "python3"
  },
  "language_info": {
   "codemirror_mode": {
    "name": "ipython",
    "version": 3
   },
   "file_extension": ".py",
   "mimetype": "text/x-python",
   "name": "python",
   "nbconvert_exporter": "python",
   "pygments_lexer": "ipython3",
   "version": "3.8.5"
  }
 },
 "nbformat": 4,
 "nbformat_minor": 4
}
